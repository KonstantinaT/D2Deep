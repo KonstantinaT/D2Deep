{
  "nbformat": 4,
  "nbformat_minor": 0,
  "metadata": {
    "colab": {
      "name": "Tier_CGI_humsavar_other.ipynb",
      "provenance": [],
      "machine_shape": "hm",
      "mount_file_id": "1QbrvTkFzxrY6ZUg8pvHXuG5bz09QFkHO",
      "authorship_tag": "ABX9TyNAax1dlSCT6Y2Hfxek5rPL",
      "include_colab_link": true
    },
    "kernelspec": {
      "name": "python3",
      "display_name": "Python 3"
    },
    "language_info": {
      "name": "python"
    },
    "accelerator": "GPU",
    "gpuClass": "standard",
    "widgets": {
      "application/vnd.jupyter.widget-state+json": {
        "37480976e9734c2ea2a237ed56a35c2e": {
          "model_module": "@jupyter-widgets/controls",
          "model_name": "HBoxModel",
          "model_module_version": "1.5.0",
          "state": {
            "_dom_classes": [],
            "_model_module": "@jupyter-widgets/controls",
            "_model_module_version": "1.5.0",
            "_model_name": "HBoxModel",
            "_view_count": null,
            "_view_module": "@jupyter-widgets/controls",
            "_view_module_version": "1.5.0",
            "_view_name": "HBoxView",
            "box_style": "",
            "children": [
              "IPY_MODEL_67a9d33d7d684c21a50900713c8923e5",
              "IPY_MODEL_a72fd03d993f49ec8837812eab64274a",
              "IPY_MODEL_f2fe365ec4504c79b044354f25f8945d"
            ],
            "layout": "IPY_MODEL_513752182d364fcf831f0448f33200e8"
          }
        },
        "67a9d33d7d684c21a50900713c8923e5": {
          "model_module": "@jupyter-widgets/controls",
          "model_name": "HTMLModel",
          "model_module_version": "1.5.0",
          "state": {
            "_dom_classes": [],
            "_model_module": "@jupyter-widgets/controls",
            "_model_module_version": "1.5.0",
            "_model_name": "HTMLModel",
            "_view_count": null,
            "_view_module": "@jupyter-widgets/controls",
            "_view_module_version": "1.5.0",
            "_view_name": "HTMLView",
            "description": "",
            "description_tooltip": null,
            "layout": "IPY_MODEL_42b2d1718f7e481e9a7be9563017109e",
            "placeholder": "​",
            "style": "IPY_MODEL_892c494defe4439e8cdd9db34b9cdc41",
            "value": "Downloading: 100%"
          }
        },
        "a72fd03d993f49ec8837812eab64274a": {
          "model_module": "@jupyter-widgets/controls",
          "model_name": "FloatProgressModel",
          "model_module_version": "1.5.0",
          "state": {
            "_dom_classes": [],
            "_model_module": "@jupyter-widgets/controls",
            "_model_module_version": "1.5.0",
            "_model_name": "FloatProgressModel",
            "_view_count": null,
            "_view_module": "@jupyter-widgets/controls",
            "_view_module_version": "1.5.0",
            "_view_name": "ProgressView",
            "bar_style": "success",
            "description": "",
            "description_tooltip": null,
            "layout": "IPY_MODEL_cde3c5f62b044c779eab4852e81400e5",
            "max": 237990,
            "min": 0,
            "orientation": "horizontal",
            "style": "IPY_MODEL_a8544456beca40bb92006a4b808e97aa",
            "value": 237990
          }
        },
        "f2fe365ec4504c79b044354f25f8945d": {
          "model_module": "@jupyter-widgets/controls",
          "model_name": "HTMLModel",
          "model_module_version": "1.5.0",
          "state": {
            "_dom_classes": [],
            "_model_module": "@jupyter-widgets/controls",
            "_model_module_version": "1.5.0",
            "_model_name": "HTMLModel",
            "_view_count": null,
            "_view_module": "@jupyter-widgets/controls",
            "_view_module_version": "1.5.0",
            "_view_name": "HTMLView",
            "description": "",
            "description_tooltip": null,
            "layout": "IPY_MODEL_3da37102711a4a6281fcdd1e1760fa08",
            "placeholder": "​",
            "style": "IPY_MODEL_5bdeee5415eb44f6b32b163b504e8791",
            "value": " 232k/232k [00:00&lt;00:00, 2.93MB/s]"
          }
        },
        "513752182d364fcf831f0448f33200e8": {
          "model_module": "@jupyter-widgets/base",
          "model_name": "LayoutModel",
          "model_module_version": "1.2.0",
          "state": {
            "_model_module": "@jupyter-widgets/base",
            "_model_module_version": "1.2.0",
            "_model_name": "LayoutModel",
            "_view_count": null,
            "_view_module": "@jupyter-widgets/base",
            "_view_module_version": "1.2.0",
            "_view_name": "LayoutView",
            "align_content": null,
            "align_items": null,
            "align_self": null,
            "border": null,
            "bottom": null,
            "display": null,
            "flex": null,
            "flex_flow": null,
            "grid_area": null,
            "grid_auto_columns": null,
            "grid_auto_flow": null,
            "grid_auto_rows": null,
            "grid_column": null,
            "grid_gap": null,
            "grid_row": null,
            "grid_template_areas": null,
            "grid_template_columns": null,
            "grid_template_rows": null,
            "height": null,
            "justify_content": null,
            "justify_items": null,
            "left": null,
            "margin": null,
            "max_height": null,
            "max_width": null,
            "min_height": null,
            "min_width": null,
            "object_fit": null,
            "object_position": null,
            "order": null,
            "overflow": null,
            "overflow_x": null,
            "overflow_y": null,
            "padding": null,
            "right": null,
            "top": null,
            "visibility": null,
            "width": null
          }
        },
        "42b2d1718f7e481e9a7be9563017109e": {
          "model_module": "@jupyter-widgets/base",
          "model_name": "LayoutModel",
          "model_module_version": "1.2.0",
          "state": {
            "_model_module": "@jupyter-widgets/base",
            "_model_module_version": "1.2.0",
            "_model_name": "LayoutModel",
            "_view_count": null,
            "_view_module": "@jupyter-widgets/base",
            "_view_module_version": "1.2.0",
            "_view_name": "LayoutView",
            "align_content": null,
            "align_items": null,
            "align_self": null,
            "border": null,
            "bottom": null,
            "display": null,
            "flex": null,
            "flex_flow": null,
            "grid_area": null,
            "grid_auto_columns": null,
            "grid_auto_flow": null,
            "grid_auto_rows": null,
            "grid_column": null,
            "grid_gap": null,
            "grid_row": null,
            "grid_template_areas": null,
            "grid_template_columns": null,
            "grid_template_rows": null,
            "height": null,
            "justify_content": null,
            "justify_items": null,
            "left": null,
            "margin": null,
            "max_height": null,
            "max_width": null,
            "min_height": null,
            "min_width": null,
            "object_fit": null,
            "object_position": null,
            "order": null,
            "overflow": null,
            "overflow_x": null,
            "overflow_y": null,
            "padding": null,
            "right": null,
            "top": null,
            "visibility": null,
            "width": null
          }
        },
        "892c494defe4439e8cdd9db34b9cdc41": {
          "model_module": "@jupyter-widgets/controls",
          "model_name": "DescriptionStyleModel",
          "model_module_version": "1.5.0",
          "state": {
            "_model_module": "@jupyter-widgets/controls",
            "_model_module_version": "1.5.0",
            "_model_name": "DescriptionStyleModel",
            "_view_count": null,
            "_view_module": "@jupyter-widgets/base",
            "_view_module_version": "1.2.0",
            "_view_name": "StyleView",
            "description_width": ""
          }
        },
        "cde3c5f62b044c779eab4852e81400e5": {
          "model_module": "@jupyter-widgets/base",
          "model_name": "LayoutModel",
          "model_module_version": "1.2.0",
          "state": {
            "_model_module": "@jupyter-widgets/base",
            "_model_module_version": "1.2.0",
            "_model_name": "LayoutModel",
            "_view_count": null,
            "_view_module": "@jupyter-widgets/base",
            "_view_module_version": "1.2.0",
            "_view_name": "LayoutView",
            "align_content": null,
            "align_items": null,
            "align_self": null,
            "border": null,
            "bottom": null,
            "display": null,
            "flex": null,
            "flex_flow": null,
            "grid_area": null,
            "grid_auto_columns": null,
            "grid_auto_flow": null,
            "grid_auto_rows": null,
            "grid_column": null,
            "grid_gap": null,
            "grid_row": null,
            "grid_template_areas": null,
            "grid_template_columns": null,
            "grid_template_rows": null,
            "height": null,
            "justify_content": null,
            "justify_items": null,
            "left": null,
            "margin": null,
            "max_height": null,
            "max_width": null,
            "min_height": null,
            "min_width": null,
            "object_fit": null,
            "object_position": null,
            "order": null,
            "overflow": null,
            "overflow_x": null,
            "overflow_y": null,
            "padding": null,
            "right": null,
            "top": null,
            "visibility": null,
            "width": null
          }
        },
        "a8544456beca40bb92006a4b808e97aa": {
          "model_module": "@jupyter-widgets/controls",
          "model_name": "ProgressStyleModel",
          "model_module_version": "1.5.0",
          "state": {
            "_model_module": "@jupyter-widgets/controls",
            "_model_module_version": "1.5.0",
            "_model_name": "ProgressStyleModel",
            "_view_count": null,
            "_view_module": "@jupyter-widgets/base",
            "_view_module_version": "1.2.0",
            "_view_name": "StyleView",
            "bar_color": null,
            "description_width": ""
          }
        },
        "3da37102711a4a6281fcdd1e1760fa08": {
          "model_module": "@jupyter-widgets/base",
          "model_name": "LayoutModel",
          "model_module_version": "1.2.0",
          "state": {
            "_model_module": "@jupyter-widgets/base",
            "_model_module_version": "1.2.0",
            "_model_name": "LayoutModel",
            "_view_count": null,
            "_view_module": "@jupyter-widgets/base",
            "_view_module_version": "1.2.0",
            "_view_name": "LayoutView",
            "align_content": null,
            "align_items": null,
            "align_self": null,
            "border": null,
            "bottom": null,
            "display": null,
            "flex": null,
            "flex_flow": null,
            "grid_area": null,
            "grid_auto_columns": null,
            "grid_auto_flow": null,
            "grid_auto_rows": null,
            "grid_column": null,
            "grid_gap": null,
            "grid_row": null,
            "grid_template_areas": null,
            "grid_template_columns": null,
            "grid_template_rows": null,
            "height": null,
            "justify_content": null,
            "justify_items": null,
            "left": null,
            "margin": null,
            "max_height": null,
            "max_width": null,
            "min_height": null,
            "min_width": null,
            "object_fit": null,
            "object_position": null,
            "order": null,
            "overflow": null,
            "overflow_x": null,
            "overflow_y": null,
            "padding": null,
            "right": null,
            "top": null,
            "visibility": null,
            "width": null
          }
        },
        "5bdeee5415eb44f6b32b163b504e8791": {
          "model_module": "@jupyter-widgets/controls",
          "model_name": "DescriptionStyleModel",
          "model_module_version": "1.5.0",
          "state": {
            "_model_module": "@jupyter-widgets/controls",
            "_model_module_version": "1.5.0",
            "_model_name": "DescriptionStyleModel",
            "_view_count": null,
            "_view_module": "@jupyter-widgets/base",
            "_view_module_version": "1.2.0",
            "_view_name": "StyleView",
            "description_width": ""
          }
        },
        "56c82c3b892a42ce8379b244d57ee797": {
          "model_module": "@jupyter-widgets/controls",
          "model_name": "HBoxModel",
          "model_module_version": "1.5.0",
          "state": {
            "_dom_classes": [],
            "_model_module": "@jupyter-widgets/controls",
            "_model_module_version": "1.5.0",
            "_model_name": "HBoxModel",
            "_view_count": null,
            "_view_module": "@jupyter-widgets/controls",
            "_view_module_version": "1.5.0",
            "_view_name": "HBoxView",
            "box_style": "",
            "children": [
              "IPY_MODEL_2106d669fb884cf295717d01c1fb471a",
              "IPY_MODEL_9f80732dd4614fe99d2ead7b8fade89f",
              "IPY_MODEL_3e706447a02c46318aea004ee48a4fec"
            ],
            "layout": "IPY_MODEL_a2567974678e4bbbafb9d8fb763f7fd6"
          }
        },
        "2106d669fb884cf295717d01c1fb471a": {
          "model_module": "@jupyter-widgets/controls",
          "model_name": "HTMLModel",
          "model_module_version": "1.5.0",
          "state": {
            "_dom_classes": [],
            "_model_module": "@jupyter-widgets/controls",
            "_model_module_version": "1.5.0",
            "_model_name": "HTMLModel",
            "_view_count": null,
            "_view_module": "@jupyter-widgets/controls",
            "_view_module_version": "1.5.0",
            "_view_name": "HTMLView",
            "description": "",
            "description_tooltip": null,
            "layout": "IPY_MODEL_1ab5e4b5cf3344648478ac1bd33abbaf",
            "placeholder": "​",
            "style": "IPY_MODEL_b03781bc588e4678813bb560bc06de1e",
            "value": "Downloading: 100%"
          }
        },
        "9f80732dd4614fe99d2ead7b8fade89f": {
          "model_module": "@jupyter-widgets/controls",
          "model_name": "FloatProgressModel",
          "model_module_version": "1.5.0",
          "state": {
            "_dom_classes": [],
            "_model_module": "@jupyter-widgets/controls",
            "_model_module_version": "1.5.0",
            "_model_name": "FloatProgressModel",
            "_view_count": null,
            "_view_module": "@jupyter-widgets/controls",
            "_view_module_version": "1.5.0",
            "_view_name": "ProgressView",
            "bar_style": "success",
            "description": "",
            "description_tooltip": null,
            "layout": "IPY_MODEL_6e04ac8bd7ec4e38ad84a1c7141c4d9f",
            "max": 1786,
            "min": 0,
            "orientation": "horizontal",
            "style": "IPY_MODEL_c4c823b23f834d1f9b2f6320f234908e",
            "value": 1786
          }
        },
        "3e706447a02c46318aea004ee48a4fec": {
          "model_module": "@jupyter-widgets/controls",
          "model_name": "HTMLModel",
          "model_module_version": "1.5.0",
          "state": {
            "_dom_classes": [],
            "_model_module": "@jupyter-widgets/controls",
            "_model_module_version": "1.5.0",
            "_model_name": "HTMLModel",
            "_view_count": null,
            "_view_module": "@jupyter-widgets/controls",
            "_view_module_version": "1.5.0",
            "_view_name": "HTMLView",
            "description": "",
            "description_tooltip": null,
            "layout": "IPY_MODEL_e251ad618a6349a3ac8d99da58ec6c5a",
            "placeholder": "​",
            "style": "IPY_MODEL_fa09ca715b0f42e0a8fef15b9c58f39f",
            "value": " 1.74k/1.74k [00:00&lt;00:00, 65.8kB/s]"
          }
        },
        "a2567974678e4bbbafb9d8fb763f7fd6": {
          "model_module": "@jupyter-widgets/base",
          "model_name": "LayoutModel",
          "model_module_version": "1.2.0",
          "state": {
            "_model_module": "@jupyter-widgets/base",
            "_model_module_version": "1.2.0",
            "_model_name": "LayoutModel",
            "_view_count": null,
            "_view_module": "@jupyter-widgets/base",
            "_view_module_version": "1.2.0",
            "_view_name": "LayoutView",
            "align_content": null,
            "align_items": null,
            "align_self": null,
            "border": null,
            "bottom": null,
            "display": null,
            "flex": null,
            "flex_flow": null,
            "grid_area": null,
            "grid_auto_columns": null,
            "grid_auto_flow": null,
            "grid_auto_rows": null,
            "grid_column": null,
            "grid_gap": null,
            "grid_row": null,
            "grid_template_areas": null,
            "grid_template_columns": null,
            "grid_template_rows": null,
            "height": null,
            "justify_content": null,
            "justify_items": null,
            "left": null,
            "margin": null,
            "max_height": null,
            "max_width": null,
            "min_height": null,
            "min_width": null,
            "object_fit": null,
            "object_position": null,
            "order": null,
            "overflow": null,
            "overflow_x": null,
            "overflow_y": null,
            "padding": null,
            "right": null,
            "top": null,
            "visibility": null,
            "width": null
          }
        },
        "1ab5e4b5cf3344648478ac1bd33abbaf": {
          "model_module": "@jupyter-widgets/base",
          "model_name": "LayoutModel",
          "model_module_version": "1.2.0",
          "state": {
            "_model_module": "@jupyter-widgets/base",
            "_model_module_version": "1.2.0",
            "_model_name": "LayoutModel",
            "_view_count": null,
            "_view_module": "@jupyter-widgets/base",
            "_view_module_version": "1.2.0",
            "_view_name": "LayoutView",
            "align_content": null,
            "align_items": null,
            "align_self": null,
            "border": null,
            "bottom": null,
            "display": null,
            "flex": null,
            "flex_flow": null,
            "grid_area": null,
            "grid_auto_columns": null,
            "grid_auto_flow": null,
            "grid_auto_rows": null,
            "grid_column": null,
            "grid_gap": null,
            "grid_row": null,
            "grid_template_areas": null,
            "grid_template_columns": null,
            "grid_template_rows": null,
            "height": null,
            "justify_content": null,
            "justify_items": null,
            "left": null,
            "margin": null,
            "max_height": null,
            "max_width": null,
            "min_height": null,
            "min_width": null,
            "object_fit": null,
            "object_position": null,
            "order": null,
            "overflow": null,
            "overflow_x": null,
            "overflow_y": null,
            "padding": null,
            "right": null,
            "top": null,
            "visibility": null,
            "width": null
          }
        },
        "b03781bc588e4678813bb560bc06de1e": {
          "model_module": "@jupyter-widgets/controls",
          "model_name": "DescriptionStyleModel",
          "model_module_version": "1.5.0",
          "state": {
            "_model_module": "@jupyter-widgets/controls",
            "_model_module_version": "1.5.0",
            "_model_name": "DescriptionStyleModel",
            "_view_count": null,
            "_view_module": "@jupyter-widgets/base",
            "_view_module_version": "1.2.0",
            "_view_name": "StyleView",
            "description_width": ""
          }
        },
        "6e04ac8bd7ec4e38ad84a1c7141c4d9f": {
          "model_module": "@jupyter-widgets/base",
          "model_name": "LayoutModel",
          "model_module_version": "1.2.0",
          "state": {
            "_model_module": "@jupyter-widgets/base",
            "_model_module_version": "1.2.0",
            "_model_name": "LayoutModel",
            "_view_count": null,
            "_view_module": "@jupyter-widgets/base",
            "_view_module_version": "1.2.0",
            "_view_name": "LayoutView",
            "align_content": null,
            "align_items": null,
            "align_self": null,
            "border": null,
            "bottom": null,
            "display": null,
            "flex": null,
            "flex_flow": null,
            "grid_area": null,
            "grid_auto_columns": null,
            "grid_auto_flow": null,
            "grid_auto_rows": null,
            "grid_column": null,
            "grid_gap": null,
            "grid_row": null,
            "grid_template_areas": null,
            "grid_template_columns": null,
            "grid_template_rows": null,
            "height": null,
            "justify_content": null,
            "justify_items": null,
            "left": null,
            "margin": null,
            "max_height": null,
            "max_width": null,
            "min_height": null,
            "min_width": null,
            "object_fit": null,
            "object_position": null,
            "order": null,
            "overflow": null,
            "overflow_x": null,
            "overflow_y": null,
            "padding": null,
            "right": null,
            "top": null,
            "visibility": null,
            "width": null
          }
        },
        "c4c823b23f834d1f9b2f6320f234908e": {
          "model_module": "@jupyter-widgets/controls",
          "model_name": "ProgressStyleModel",
          "model_module_version": "1.5.0",
          "state": {
            "_model_module": "@jupyter-widgets/controls",
            "_model_module_version": "1.5.0",
            "_model_name": "ProgressStyleModel",
            "_view_count": null,
            "_view_module": "@jupyter-widgets/base",
            "_view_module_version": "1.2.0",
            "_view_name": "StyleView",
            "bar_color": null,
            "description_width": ""
          }
        },
        "e251ad618a6349a3ac8d99da58ec6c5a": {
          "model_module": "@jupyter-widgets/base",
          "model_name": "LayoutModel",
          "model_module_version": "1.2.0",
          "state": {
            "_model_module": "@jupyter-widgets/base",
            "_model_module_version": "1.2.0",
            "_model_name": "LayoutModel",
            "_view_count": null,
            "_view_module": "@jupyter-widgets/base",
            "_view_module_version": "1.2.0",
            "_view_name": "LayoutView",
            "align_content": null,
            "align_items": null,
            "align_self": null,
            "border": null,
            "bottom": null,
            "display": null,
            "flex": null,
            "flex_flow": null,
            "grid_area": null,
            "grid_auto_columns": null,
            "grid_auto_flow": null,
            "grid_auto_rows": null,
            "grid_column": null,
            "grid_gap": null,
            "grid_row": null,
            "grid_template_areas": null,
            "grid_template_columns": null,
            "grid_template_rows": null,
            "height": null,
            "justify_content": null,
            "justify_items": null,
            "left": null,
            "margin": null,
            "max_height": null,
            "max_width": null,
            "min_height": null,
            "min_width": null,
            "object_fit": null,
            "object_position": null,
            "order": null,
            "overflow": null,
            "overflow_x": null,
            "overflow_y": null,
            "padding": null,
            "right": null,
            "top": null,
            "visibility": null,
            "width": null
          }
        },
        "fa09ca715b0f42e0a8fef15b9c58f39f": {
          "model_module": "@jupyter-widgets/controls",
          "model_name": "DescriptionStyleModel",
          "model_module_version": "1.5.0",
          "state": {
            "_model_module": "@jupyter-widgets/controls",
            "_model_module_version": "1.5.0",
            "_model_name": "DescriptionStyleModel",
            "_view_count": null,
            "_view_module": "@jupyter-widgets/base",
            "_view_module_version": "1.2.0",
            "_view_name": "StyleView",
            "description_width": ""
          }
        },
        "0015a996afd549d49a695687ece04d3f": {
          "model_module": "@jupyter-widgets/controls",
          "model_name": "HBoxModel",
          "model_module_version": "1.5.0",
          "state": {
            "_dom_classes": [],
            "_model_module": "@jupyter-widgets/controls",
            "_model_module_version": "1.5.0",
            "_model_name": "HBoxModel",
            "_view_count": null,
            "_view_module": "@jupyter-widgets/controls",
            "_view_module_version": "1.5.0",
            "_view_name": "HBoxView",
            "box_style": "",
            "children": [
              "IPY_MODEL_f5b35b1f562a43e4a3db7b9d8cf17ecf",
              "IPY_MODEL_fdf06d00b4904318b1f290c920d8defa",
              "IPY_MODEL_56b609eaccff493b97c7d51039c3a555"
            ],
            "layout": "IPY_MODEL_eb44a77cff424dc3bf8ac6413722c42d"
          }
        },
        "f5b35b1f562a43e4a3db7b9d8cf17ecf": {
          "model_module": "@jupyter-widgets/controls",
          "model_name": "HTMLModel",
          "model_module_version": "1.5.0",
          "state": {
            "_dom_classes": [],
            "_model_module": "@jupyter-widgets/controls",
            "_model_module_version": "1.5.0",
            "_model_name": "HTMLModel",
            "_view_count": null,
            "_view_module": "@jupyter-widgets/controls",
            "_view_module_version": "1.5.0",
            "_view_name": "HTMLView",
            "description": "",
            "description_tooltip": null,
            "layout": "IPY_MODEL_9751bcca6b394358a6f42c2c7f90bac1",
            "placeholder": "​",
            "style": "IPY_MODEL_cb039e2d791c46cc863d0b86b543e386",
            "value": "Downloading: 100%"
          }
        },
        "fdf06d00b4904318b1f290c920d8defa": {
          "model_module": "@jupyter-widgets/controls",
          "model_name": "FloatProgressModel",
          "model_module_version": "1.5.0",
          "state": {
            "_dom_classes": [],
            "_model_module": "@jupyter-widgets/controls",
            "_model_module_version": "1.5.0",
            "_model_name": "FloatProgressModel",
            "_view_count": null,
            "_view_module": "@jupyter-widgets/controls",
            "_view_module_version": "1.5.0",
            "_view_name": "ProgressView",
            "bar_style": "success",
            "description": "",
            "description_tooltip": null,
            "layout": "IPY_MODEL_b1a76fec6e61419b9cd1f8f416aaf51a",
            "max": 24,
            "min": 0,
            "orientation": "horizontal",
            "style": "IPY_MODEL_a043ba1ae31d4e7592edbd0f294830fe",
            "value": 24
          }
        },
        "56b609eaccff493b97c7d51039c3a555": {
          "model_module": "@jupyter-widgets/controls",
          "model_name": "HTMLModel",
          "model_module_version": "1.5.0",
          "state": {
            "_dom_classes": [],
            "_model_module": "@jupyter-widgets/controls",
            "_model_module_version": "1.5.0",
            "_model_name": "HTMLModel",
            "_view_count": null,
            "_view_module": "@jupyter-widgets/controls",
            "_view_module_version": "1.5.0",
            "_view_name": "HTMLView",
            "description": "",
            "description_tooltip": null,
            "layout": "IPY_MODEL_5b27118c34dc4d13a9a5fdead986cbd2",
            "placeholder": "​",
            "style": "IPY_MODEL_2ed73e6ded3c4127944ccf1720e8e7ea",
            "value": " 24.0/24.0 [00:00&lt;00:00, 961B/s]"
          }
        },
        "eb44a77cff424dc3bf8ac6413722c42d": {
          "model_module": "@jupyter-widgets/base",
          "model_name": "LayoutModel",
          "model_module_version": "1.2.0",
          "state": {
            "_model_module": "@jupyter-widgets/base",
            "_model_module_version": "1.2.0",
            "_model_name": "LayoutModel",
            "_view_count": null,
            "_view_module": "@jupyter-widgets/base",
            "_view_module_version": "1.2.0",
            "_view_name": "LayoutView",
            "align_content": null,
            "align_items": null,
            "align_self": null,
            "border": null,
            "bottom": null,
            "display": null,
            "flex": null,
            "flex_flow": null,
            "grid_area": null,
            "grid_auto_columns": null,
            "grid_auto_flow": null,
            "grid_auto_rows": null,
            "grid_column": null,
            "grid_gap": null,
            "grid_row": null,
            "grid_template_areas": null,
            "grid_template_columns": null,
            "grid_template_rows": null,
            "height": null,
            "justify_content": null,
            "justify_items": null,
            "left": null,
            "margin": null,
            "max_height": null,
            "max_width": null,
            "min_height": null,
            "min_width": null,
            "object_fit": null,
            "object_position": null,
            "order": null,
            "overflow": null,
            "overflow_x": null,
            "overflow_y": null,
            "padding": null,
            "right": null,
            "top": null,
            "visibility": null,
            "width": null
          }
        },
        "9751bcca6b394358a6f42c2c7f90bac1": {
          "model_module": "@jupyter-widgets/base",
          "model_name": "LayoutModel",
          "model_module_version": "1.2.0",
          "state": {
            "_model_module": "@jupyter-widgets/base",
            "_model_module_version": "1.2.0",
            "_model_name": "LayoutModel",
            "_view_count": null,
            "_view_module": "@jupyter-widgets/base",
            "_view_module_version": "1.2.0",
            "_view_name": "LayoutView",
            "align_content": null,
            "align_items": null,
            "align_self": null,
            "border": null,
            "bottom": null,
            "display": null,
            "flex": null,
            "flex_flow": null,
            "grid_area": null,
            "grid_auto_columns": null,
            "grid_auto_flow": null,
            "grid_auto_rows": null,
            "grid_column": null,
            "grid_gap": null,
            "grid_row": null,
            "grid_template_areas": null,
            "grid_template_columns": null,
            "grid_template_rows": null,
            "height": null,
            "justify_content": null,
            "justify_items": null,
            "left": null,
            "margin": null,
            "max_height": null,
            "max_width": null,
            "min_height": null,
            "min_width": null,
            "object_fit": null,
            "object_position": null,
            "order": null,
            "overflow": null,
            "overflow_x": null,
            "overflow_y": null,
            "padding": null,
            "right": null,
            "top": null,
            "visibility": null,
            "width": null
          }
        },
        "cb039e2d791c46cc863d0b86b543e386": {
          "model_module": "@jupyter-widgets/controls",
          "model_name": "DescriptionStyleModel",
          "model_module_version": "1.5.0",
          "state": {
            "_model_module": "@jupyter-widgets/controls",
            "_model_module_version": "1.5.0",
            "_model_name": "DescriptionStyleModel",
            "_view_count": null,
            "_view_module": "@jupyter-widgets/base",
            "_view_module_version": "1.2.0",
            "_view_name": "StyleView",
            "description_width": ""
          }
        },
        "b1a76fec6e61419b9cd1f8f416aaf51a": {
          "model_module": "@jupyter-widgets/base",
          "model_name": "LayoutModel",
          "model_module_version": "1.2.0",
          "state": {
            "_model_module": "@jupyter-widgets/base",
            "_model_module_version": "1.2.0",
            "_model_name": "LayoutModel",
            "_view_count": null,
            "_view_module": "@jupyter-widgets/base",
            "_view_module_version": "1.2.0",
            "_view_name": "LayoutView",
            "align_content": null,
            "align_items": null,
            "align_self": null,
            "border": null,
            "bottom": null,
            "display": null,
            "flex": null,
            "flex_flow": null,
            "grid_area": null,
            "grid_auto_columns": null,
            "grid_auto_flow": null,
            "grid_auto_rows": null,
            "grid_column": null,
            "grid_gap": null,
            "grid_row": null,
            "grid_template_areas": null,
            "grid_template_columns": null,
            "grid_template_rows": null,
            "height": null,
            "justify_content": null,
            "justify_items": null,
            "left": null,
            "margin": null,
            "max_height": null,
            "max_width": null,
            "min_height": null,
            "min_width": null,
            "object_fit": null,
            "object_position": null,
            "order": null,
            "overflow": null,
            "overflow_x": null,
            "overflow_y": null,
            "padding": null,
            "right": null,
            "top": null,
            "visibility": null,
            "width": null
          }
        },
        "a043ba1ae31d4e7592edbd0f294830fe": {
          "model_module": "@jupyter-widgets/controls",
          "model_name": "ProgressStyleModel",
          "model_module_version": "1.5.0",
          "state": {
            "_model_module": "@jupyter-widgets/controls",
            "_model_module_version": "1.5.0",
            "_model_name": "ProgressStyleModel",
            "_view_count": null,
            "_view_module": "@jupyter-widgets/base",
            "_view_module_version": "1.2.0",
            "_view_name": "StyleView",
            "bar_color": null,
            "description_width": ""
          }
        },
        "5b27118c34dc4d13a9a5fdead986cbd2": {
          "model_module": "@jupyter-widgets/base",
          "model_name": "LayoutModel",
          "model_module_version": "1.2.0",
          "state": {
            "_model_module": "@jupyter-widgets/base",
            "_model_module_version": "1.2.0",
            "_model_name": "LayoutModel",
            "_view_count": null,
            "_view_module": "@jupyter-widgets/base",
            "_view_module_version": "1.2.0",
            "_view_name": "LayoutView",
            "align_content": null,
            "align_items": null,
            "align_self": null,
            "border": null,
            "bottom": null,
            "display": null,
            "flex": null,
            "flex_flow": null,
            "grid_area": null,
            "grid_auto_columns": null,
            "grid_auto_flow": null,
            "grid_auto_rows": null,
            "grid_column": null,
            "grid_gap": null,
            "grid_row": null,
            "grid_template_areas": null,
            "grid_template_columns": null,
            "grid_template_rows": null,
            "height": null,
            "justify_content": null,
            "justify_items": null,
            "left": null,
            "margin": null,
            "max_height": null,
            "max_width": null,
            "min_height": null,
            "min_width": null,
            "object_fit": null,
            "object_position": null,
            "order": null,
            "overflow": null,
            "overflow_x": null,
            "overflow_y": null,
            "padding": null,
            "right": null,
            "top": null,
            "visibility": null,
            "width": null
          }
        },
        "2ed73e6ded3c4127944ccf1720e8e7ea": {
          "model_module": "@jupyter-widgets/controls",
          "model_name": "DescriptionStyleModel",
          "model_module_version": "1.5.0",
          "state": {
            "_model_module": "@jupyter-widgets/controls",
            "_model_module_version": "1.5.0",
            "_model_name": "DescriptionStyleModel",
            "_view_count": null,
            "_view_module": "@jupyter-widgets/base",
            "_view_module_version": "1.2.0",
            "_view_name": "StyleView",
            "description_width": ""
          }
        },
        "7d3c4df9c5ea4fad8ab62598a0ab51f8": {
          "model_module": "@jupyter-widgets/controls",
          "model_name": "HBoxModel",
          "model_module_version": "1.5.0",
          "state": {
            "_dom_classes": [],
            "_model_module": "@jupyter-widgets/controls",
            "_model_module_version": "1.5.0",
            "_model_name": "HBoxModel",
            "_view_count": null,
            "_view_module": "@jupyter-widgets/controls",
            "_view_module_version": "1.5.0",
            "_view_name": "HBoxView",
            "box_style": "",
            "children": [
              "IPY_MODEL_8f1aeb1f9db84ebda2cf5a06a59deb52",
              "IPY_MODEL_79673cd33a0641d1b3b69a4128387713",
              "IPY_MODEL_2b4d6cbfbac84fd8bcadaf38eb090828"
            ],
            "layout": "IPY_MODEL_be5f37cbcb1a4089a92523189833b0a8"
          }
        },
        "8f1aeb1f9db84ebda2cf5a06a59deb52": {
          "model_module": "@jupyter-widgets/controls",
          "model_name": "HTMLModel",
          "model_module_version": "1.5.0",
          "state": {
            "_dom_classes": [],
            "_model_module": "@jupyter-widgets/controls",
            "_model_module_version": "1.5.0",
            "_model_name": "HTMLModel",
            "_view_count": null,
            "_view_module": "@jupyter-widgets/controls",
            "_view_module_version": "1.5.0",
            "_view_name": "HTMLView",
            "description": "",
            "description_tooltip": null,
            "layout": "IPY_MODEL_16dfea70502d48a5a64e02bbca9db682",
            "placeholder": "​",
            "style": "IPY_MODEL_b601c1453d864824b352590ed61f11d6",
            "value": "Downloading: 100%"
          }
        },
        "79673cd33a0641d1b3b69a4128387713": {
          "model_module": "@jupyter-widgets/controls",
          "model_name": "FloatProgressModel",
          "model_module_version": "1.5.0",
          "state": {
            "_dom_classes": [],
            "_model_module": "@jupyter-widgets/controls",
            "_model_module_version": "1.5.0",
            "_model_name": "FloatProgressModel",
            "_view_count": null,
            "_view_module": "@jupyter-widgets/controls",
            "_view_module_version": "1.5.0",
            "_view_name": "ProgressView",
            "bar_style": "success",
            "description": "",
            "description_tooltip": null,
            "layout": "IPY_MODEL_2b16c12b0dfa40ac845ed2b339d3280c",
            "max": 546,
            "min": 0,
            "orientation": "horizontal",
            "style": "IPY_MODEL_54cf5c85bece4eaa834b025d08d40c10",
            "value": 546
          }
        },
        "2b4d6cbfbac84fd8bcadaf38eb090828": {
          "model_module": "@jupyter-widgets/controls",
          "model_name": "HTMLModel",
          "model_module_version": "1.5.0",
          "state": {
            "_dom_classes": [],
            "_model_module": "@jupyter-widgets/controls",
            "_model_module_version": "1.5.0",
            "_model_name": "HTMLModel",
            "_view_count": null,
            "_view_module": "@jupyter-widgets/controls",
            "_view_module_version": "1.5.0",
            "_view_name": "HTMLView",
            "description": "",
            "description_tooltip": null,
            "layout": "IPY_MODEL_98b2b32dab7541ca98e9c573cc4d11a7",
            "placeholder": "​",
            "style": "IPY_MODEL_45ec51820b154e2bbcd31329673db348",
            "value": " 546/546 [00:00&lt;00:00, 18.4kB/s]"
          }
        },
        "be5f37cbcb1a4089a92523189833b0a8": {
          "model_module": "@jupyter-widgets/base",
          "model_name": "LayoutModel",
          "model_module_version": "1.2.0",
          "state": {
            "_model_module": "@jupyter-widgets/base",
            "_model_module_version": "1.2.0",
            "_model_name": "LayoutModel",
            "_view_count": null,
            "_view_module": "@jupyter-widgets/base",
            "_view_module_version": "1.2.0",
            "_view_name": "LayoutView",
            "align_content": null,
            "align_items": null,
            "align_self": null,
            "border": null,
            "bottom": null,
            "display": null,
            "flex": null,
            "flex_flow": null,
            "grid_area": null,
            "grid_auto_columns": null,
            "grid_auto_flow": null,
            "grid_auto_rows": null,
            "grid_column": null,
            "grid_gap": null,
            "grid_row": null,
            "grid_template_areas": null,
            "grid_template_columns": null,
            "grid_template_rows": null,
            "height": null,
            "justify_content": null,
            "justify_items": null,
            "left": null,
            "margin": null,
            "max_height": null,
            "max_width": null,
            "min_height": null,
            "min_width": null,
            "object_fit": null,
            "object_position": null,
            "order": null,
            "overflow": null,
            "overflow_x": null,
            "overflow_y": null,
            "padding": null,
            "right": null,
            "top": null,
            "visibility": null,
            "width": null
          }
        },
        "16dfea70502d48a5a64e02bbca9db682": {
          "model_module": "@jupyter-widgets/base",
          "model_name": "LayoutModel",
          "model_module_version": "1.2.0",
          "state": {
            "_model_module": "@jupyter-widgets/base",
            "_model_module_version": "1.2.0",
            "_model_name": "LayoutModel",
            "_view_count": null,
            "_view_module": "@jupyter-widgets/base",
            "_view_module_version": "1.2.0",
            "_view_name": "LayoutView",
            "align_content": null,
            "align_items": null,
            "align_self": null,
            "border": null,
            "bottom": null,
            "display": null,
            "flex": null,
            "flex_flow": null,
            "grid_area": null,
            "grid_auto_columns": null,
            "grid_auto_flow": null,
            "grid_auto_rows": null,
            "grid_column": null,
            "grid_gap": null,
            "grid_row": null,
            "grid_template_areas": null,
            "grid_template_columns": null,
            "grid_template_rows": null,
            "height": null,
            "justify_content": null,
            "justify_items": null,
            "left": null,
            "margin": null,
            "max_height": null,
            "max_width": null,
            "min_height": null,
            "min_width": null,
            "object_fit": null,
            "object_position": null,
            "order": null,
            "overflow": null,
            "overflow_x": null,
            "overflow_y": null,
            "padding": null,
            "right": null,
            "top": null,
            "visibility": null,
            "width": null
          }
        },
        "b601c1453d864824b352590ed61f11d6": {
          "model_module": "@jupyter-widgets/controls",
          "model_name": "DescriptionStyleModel",
          "model_module_version": "1.5.0",
          "state": {
            "_model_module": "@jupyter-widgets/controls",
            "_model_module_version": "1.5.0",
            "_model_name": "DescriptionStyleModel",
            "_view_count": null,
            "_view_module": "@jupyter-widgets/base",
            "_view_module_version": "1.2.0",
            "_view_name": "StyleView",
            "description_width": ""
          }
        },
        "2b16c12b0dfa40ac845ed2b339d3280c": {
          "model_module": "@jupyter-widgets/base",
          "model_name": "LayoutModel",
          "model_module_version": "1.2.0",
          "state": {
            "_model_module": "@jupyter-widgets/base",
            "_model_module_version": "1.2.0",
            "_model_name": "LayoutModel",
            "_view_count": null,
            "_view_module": "@jupyter-widgets/base",
            "_view_module_version": "1.2.0",
            "_view_name": "LayoutView",
            "align_content": null,
            "align_items": null,
            "align_self": null,
            "border": null,
            "bottom": null,
            "display": null,
            "flex": null,
            "flex_flow": null,
            "grid_area": null,
            "grid_auto_columns": null,
            "grid_auto_flow": null,
            "grid_auto_rows": null,
            "grid_column": null,
            "grid_gap": null,
            "grid_row": null,
            "grid_template_areas": null,
            "grid_template_columns": null,
            "grid_template_rows": null,
            "height": null,
            "justify_content": null,
            "justify_items": null,
            "left": null,
            "margin": null,
            "max_height": null,
            "max_width": null,
            "min_height": null,
            "min_width": null,
            "object_fit": null,
            "object_position": null,
            "order": null,
            "overflow": null,
            "overflow_x": null,
            "overflow_y": null,
            "padding": null,
            "right": null,
            "top": null,
            "visibility": null,
            "width": null
          }
        },
        "54cf5c85bece4eaa834b025d08d40c10": {
          "model_module": "@jupyter-widgets/controls",
          "model_name": "ProgressStyleModel",
          "model_module_version": "1.5.0",
          "state": {
            "_model_module": "@jupyter-widgets/controls",
            "_model_module_version": "1.5.0",
            "_model_name": "ProgressStyleModel",
            "_view_count": null,
            "_view_module": "@jupyter-widgets/base",
            "_view_module_version": "1.2.0",
            "_view_name": "StyleView",
            "bar_color": null,
            "description_width": ""
          }
        },
        "98b2b32dab7541ca98e9c573cc4d11a7": {
          "model_module": "@jupyter-widgets/base",
          "model_name": "LayoutModel",
          "model_module_version": "1.2.0",
          "state": {
            "_model_module": "@jupyter-widgets/base",
            "_model_module_version": "1.2.0",
            "_model_name": "LayoutModel",
            "_view_count": null,
            "_view_module": "@jupyter-widgets/base",
            "_view_module_version": "1.2.0",
            "_view_name": "LayoutView",
            "align_content": null,
            "align_items": null,
            "align_self": null,
            "border": null,
            "bottom": null,
            "display": null,
            "flex": null,
            "flex_flow": null,
            "grid_area": null,
            "grid_auto_columns": null,
            "grid_auto_flow": null,
            "grid_auto_rows": null,
            "grid_column": null,
            "grid_gap": null,
            "grid_row": null,
            "grid_template_areas": null,
            "grid_template_columns": null,
            "grid_template_rows": null,
            "height": null,
            "justify_content": null,
            "justify_items": null,
            "left": null,
            "margin": null,
            "max_height": null,
            "max_width": null,
            "min_height": null,
            "min_width": null,
            "object_fit": null,
            "object_position": null,
            "order": null,
            "overflow": null,
            "overflow_x": null,
            "overflow_y": null,
            "padding": null,
            "right": null,
            "top": null,
            "visibility": null,
            "width": null
          }
        },
        "45ec51820b154e2bbcd31329673db348": {
          "model_module": "@jupyter-widgets/controls",
          "model_name": "DescriptionStyleModel",
          "model_module_version": "1.5.0",
          "state": {
            "_model_module": "@jupyter-widgets/controls",
            "_model_module_version": "1.5.0",
            "_model_name": "DescriptionStyleModel",
            "_view_count": null,
            "_view_module": "@jupyter-widgets/base",
            "_view_module_version": "1.2.0",
            "_view_name": "StyleView",
            "description_width": ""
          }
        },
        "725cf52f754e4fcb88ef1f6b6b26ed99": {
          "model_module": "@jupyter-widgets/controls",
          "model_name": "HBoxModel",
          "model_module_version": "1.5.0",
          "state": {
            "_dom_classes": [],
            "_model_module": "@jupyter-widgets/controls",
            "_model_module_version": "1.5.0",
            "_model_name": "HBoxModel",
            "_view_count": null,
            "_view_module": "@jupyter-widgets/controls",
            "_view_module_version": "1.5.0",
            "_view_name": "HBoxView",
            "box_style": "",
            "children": [
              "IPY_MODEL_64376f62b49a4129ad7bcfea74290a7c",
              "IPY_MODEL_16d2f0e50d4a4436ab112bb91481c24d",
              "IPY_MODEL_fc88fe7c1a97462aa50474dcb4377136"
            ],
            "layout": "IPY_MODEL_634c6e405c944f81957cc6c81f0ce0ff"
          }
        },
        "64376f62b49a4129ad7bcfea74290a7c": {
          "model_module": "@jupyter-widgets/controls",
          "model_name": "HTMLModel",
          "model_module_version": "1.5.0",
          "state": {
            "_dom_classes": [],
            "_model_module": "@jupyter-widgets/controls",
            "_model_module_version": "1.5.0",
            "_model_name": "HTMLModel",
            "_view_count": null,
            "_view_module": "@jupyter-widgets/controls",
            "_view_module_version": "1.5.0",
            "_view_name": "HTMLView",
            "description": "",
            "description_tooltip": null,
            "layout": "IPY_MODEL_799484c505d64fd2841973d7df9c9d75",
            "placeholder": "​",
            "style": "IPY_MODEL_f59842cf00064077af7cba8575d848c4",
            "value": "Downloading: 100%"
          }
        },
        "16d2f0e50d4a4436ab112bb91481c24d": {
          "model_module": "@jupyter-widgets/controls",
          "model_name": "FloatProgressModel",
          "model_module_version": "1.5.0",
          "state": {
            "_dom_classes": [],
            "_model_module": "@jupyter-widgets/controls",
            "_model_module_version": "1.5.0",
            "_model_name": "FloatProgressModel",
            "_view_count": null,
            "_view_module": "@jupyter-widgets/controls",
            "_view_module_version": "1.5.0",
            "_view_name": "ProgressView",
            "bar_style": "success",
            "description": "",
            "description_tooltip": null,
            "layout": "IPY_MODEL_fd90ca3c297d4b02bb511e5a50a1e9c1",
            "max": 11275562724,
            "min": 0,
            "orientation": "horizontal",
            "style": "IPY_MODEL_9cc3e079bbdc42c5a4ce48d7f23083da",
            "value": 11275562724
          }
        },
        "fc88fe7c1a97462aa50474dcb4377136": {
          "model_module": "@jupyter-widgets/controls",
          "model_name": "HTMLModel",
          "model_module_version": "1.5.0",
          "state": {
            "_dom_classes": [],
            "_model_module": "@jupyter-widgets/controls",
            "_model_module_version": "1.5.0",
            "_model_name": "HTMLModel",
            "_view_count": null,
            "_view_module": "@jupyter-widgets/controls",
            "_view_module_version": "1.5.0",
            "_view_name": "HTMLView",
            "description": "",
            "description_tooltip": null,
            "layout": "IPY_MODEL_52ec273cdf174dcd99c6dfafba848b75",
            "placeholder": "​",
            "style": "IPY_MODEL_ac13feac1e014bc58a88359ceae6f722",
            "value": " 10.5G/10.5G [02:59&lt;00:00, 70.6MB/s]"
          }
        },
        "634c6e405c944f81957cc6c81f0ce0ff": {
          "model_module": "@jupyter-widgets/base",
          "model_name": "LayoutModel",
          "model_module_version": "1.2.0",
          "state": {
            "_model_module": "@jupyter-widgets/base",
            "_model_module_version": "1.2.0",
            "_model_name": "LayoutModel",
            "_view_count": null,
            "_view_module": "@jupyter-widgets/base",
            "_view_module_version": "1.2.0",
            "_view_name": "LayoutView",
            "align_content": null,
            "align_items": null,
            "align_self": null,
            "border": null,
            "bottom": null,
            "display": null,
            "flex": null,
            "flex_flow": null,
            "grid_area": null,
            "grid_auto_columns": null,
            "grid_auto_flow": null,
            "grid_auto_rows": null,
            "grid_column": null,
            "grid_gap": null,
            "grid_row": null,
            "grid_template_areas": null,
            "grid_template_columns": null,
            "grid_template_rows": null,
            "height": null,
            "justify_content": null,
            "justify_items": null,
            "left": null,
            "margin": null,
            "max_height": null,
            "max_width": null,
            "min_height": null,
            "min_width": null,
            "object_fit": null,
            "object_position": null,
            "order": null,
            "overflow": null,
            "overflow_x": null,
            "overflow_y": null,
            "padding": null,
            "right": null,
            "top": null,
            "visibility": null,
            "width": null
          }
        },
        "799484c505d64fd2841973d7df9c9d75": {
          "model_module": "@jupyter-widgets/base",
          "model_name": "LayoutModel",
          "model_module_version": "1.2.0",
          "state": {
            "_model_module": "@jupyter-widgets/base",
            "_model_module_version": "1.2.0",
            "_model_name": "LayoutModel",
            "_view_count": null,
            "_view_module": "@jupyter-widgets/base",
            "_view_module_version": "1.2.0",
            "_view_name": "LayoutView",
            "align_content": null,
            "align_items": null,
            "align_self": null,
            "border": null,
            "bottom": null,
            "display": null,
            "flex": null,
            "flex_flow": null,
            "grid_area": null,
            "grid_auto_columns": null,
            "grid_auto_flow": null,
            "grid_auto_rows": null,
            "grid_column": null,
            "grid_gap": null,
            "grid_row": null,
            "grid_template_areas": null,
            "grid_template_columns": null,
            "grid_template_rows": null,
            "height": null,
            "justify_content": null,
            "justify_items": null,
            "left": null,
            "margin": null,
            "max_height": null,
            "max_width": null,
            "min_height": null,
            "min_width": null,
            "object_fit": null,
            "object_position": null,
            "order": null,
            "overflow": null,
            "overflow_x": null,
            "overflow_y": null,
            "padding": null,
            "right": null,
            "top": null,
            "visibility": null,
            "width": null
          }
        },
        "f59842cf00064077af7cba8575d848c4": {
          "model_module": "@jupyter-widgets/controls",
          "model_name": "DescriptionStyleModel",
          "model_module_version": "1.5.0",
          "state": {
            "_model_module": "@jupyter-widgets/controls",
            "_model_module_version": "1.5.0",
            "_model_name": "DescriptionStyleModel",
            "_view_count": null,
            "_view_module": "@jupyter-widgets/base",
            "_view_module_version": "1.2.0",
            "_view_name": "StyleView",
            "description_width": ""
          }
        },
        "fd90ca3c297d4b02bb511e5a50a1e9c1": {
          "model_module": "@jupyter-widgets/base",
          "model_name": "LayoutModel",
          "model_module_version": "1.2.0",
          "state": {
            "_model_module": "@jupyter-widgets/base",
            "_model_module_version": "1.2.0",
            "_model_name": "LayoutModel",
            "_view_count": null,
            "_view_module": "@jupyter-widgets/base",
            "_view_module_version": "1.2.0",
            "_view_name": "LayoutView",
            "align_content": null,
            "align_items": null,
            "align_self": null,
            "border": null,
            "bottom": null,
            "display": null,
            "flex": null,
            "flex_flow": null,
            "grid_area": null,
            "grid_auto_columns": null,
            "grid_auto_flow": null,
            "grid_auto_rows": null,
            "grid_column": null,
            "grid_gap": null,
            "grid_row": null,
            "grid_template_areas": null,
            "grid_template_columns": null,
            "grid_template_rows": null,
            "height": null,
            "justify_content": null,
            "justify_items": null,
            "left": null,
            "margin": null,
            "max_height": null,
            "max_width": null,
            "min_height": null,
            "min_width": null,
            "object_fit": null,
            "object_position": null,
            "order": null,
            "overflow": null,
            "overflow_x": null,
            "overflow_y": null,
            "padding": null,
            "right": null,
            "top": null,
            "visibility": null,
            "width": null
          }
        },
        "9cc3e079bbdc42c5a4ce48d7f23083da": {
          "model_module": "@jupyter-widgets/controls",
          "model_name": "ProgressStyleModel",
          "model_module_version": "1.5.0",
          "state": {
            "_model_module": "@jupyter-widgets/controls",
            "_model_module_version": "1.5.0",
            "_model_name": "ProgressStyleModel",
            "_view_count": null,
            "_view_module": "@jupyter-widgets/base",
            "_view_module_version": "1.2.0",
            "_view_name": "StyleView",
            "bar_color": null,
            "description_width": ""
          }
        },
        "52ec273cdf174dcd99c6dfafba848b75": {
          "model_module": "@jupyter-widgets/base",
          "model_name": "LayoutModel",
          "model_module_version": "1.2.0",
          "state": {
            "_model_module": "@jupyter-widgets/base",
            "_model_module_version": "1.2.0",
            "_model_name": "LayoutModel",
            "_view_count": null,
            "_view_module": "@jupyter-widgets/base",
            "_view_module_version": "1.2.0",
            "_view_name": "LayoutView",
            "align_content": null,
            "align_items": null,
            "align_self": null,
            "border": null,
            "bottom": null,
            "display": null,
            "flex": null,
            "flex_flow": null,
            "grid_area": null,
            "grid_auto_columns": null,
            "grid_auto_flow": null,
            "grid_auto_rows": null,
            "grid_column": null,
            "grid_gap": null,
            "grid_row": null,
            "grid_template_areas": null,
            "grid_template_columns": null,
            "grid_template_rows": null,
            "height": null,
            "justify_content": null,
            "justify_items": null,
            "left": null,
            "margin": null,
            "max_height": null,
            "max_width": null,
            "min_height": null,
            "min_width": null,
            "object_fit": null,
            "object_position": null,
            "order": null,
            "overflow": null,
            "overflow_x": null,
            "overflow_y": null,
            "padding": null,
            "right": null,
            "top": null,
            "visibility": null,
            "width": null
          }
        },
        "ac13feac1e014bc58a88359ceae6f722": {
          "model_module": "@jupyter-widgets/controls",
          "model_name": "DescriptionStyleModel",
          "model_module_version": "1.5.0",
          "state": {
            "_model_module": "@jupyter-widgets/controls",
            "_model_module_version": "1.5.0",
            "_model_name": "DescriptionStyleModel",
            "_view_count": null,
            "_view_module": "@jupyter-widgets/base",
            "_view_module_version": "1.2.0",
            "_view_name": "StyleView",
            "description_width": ""
          }
        },
        "cdc872ff6e5b46f68bcf7ad4045948d1": {
          "model_module": "@jupyter-widgets/controls",
          "model_name": "HBoxModel",
          "model_module_version": "1.5.0",
          "state": {
            "_dom_classes": [],
            "_model_module": "@jupyter-widgets/controls",
            "_model_module_version": "1.5.0",
            "_model_name": "HBoxModel",
            "_view_count": null,
            "_view_module": "@jupyter-widgets/controls",
            "_view_module_version": "1.5.0",
            "_view_name": "HBoxView",
            "box_style": "",
            "children": [
              "IPY_MODEL_cbee45341358423ab8b851c59114bbb3",
              "IPY_MODEL_fa5a7821e20545a28d1792677f62eb01",
              "IPY_MODEL_3c2368c1dbf34911a11838457ca843d5"
            ],
            "layout": "IPY_MODEL_9a6bd2b6282a4079862a23a4a248e880"
          }
        },
        "cbee45341358423ab8b851c59114bbb3": {
          "model_module": "@jupyter-widgets/controls",
          "model_name": "HTMLModel",
          "model_module_version": "1.5.0",
          "state": {
            "_dom_classes": [],
            "_model_module": "@jupyter-widgets/controls",
            "_model_module_version": "1.5.0",
            "_model_name": "HTMLModel",
            "_view_count": null,
            "_view_module": "@jupyter-widgets/controls",
            "_view_module_version": "1.5.0",
            "_view_name": "HTMLView",
            "description": "",
            "description_tooltip": null,
            "layout": "IPY_MODEL_0530024a68ee4f8a830c39b3646d849d",
            "placeholder": "​",
            "style": "IPY_MODEL_677d4e2c438b4c6caa9da2663ff69324",
            "value": "100%"
          }
        },
        "fa5a7821e20545a28d1792677f62eb01": {
          "model_module": "@jupyter-widgets/controls",
          "model_name": "FloatProgressModel",
          "model_module_version": "1.5.0",
          "state": {
            "_dom_classes": [],
            "_model_module": "@jupyter-widgets/controls",
            "_model_module_version": "1.5.0",
            "_model_name": "FloatProgressModel",
            "_view_count": null,
            "_view_module": "@jupyter-widgets/controls",
            "_view_module_version": "1.5.0",
            "_view_name": "ProgressView",
            "bar_style": "success",
            "description": "",
            "description_tooltip": null,
            "layout": "IPY_MODEL_093da0bd7efe4879b3bbe09fa6699861",
            "max": 50,
            "min": 0,
            "orientation": "horizontal",
            "style": "IPY_MODEL_f2fa4a197aed45099031252044ab069d",
            "value": 50
          }
        },
        "3c2368c1dbf34911a11838457ca843d5": {
          "model_module": "@jupyter-widgets/controls",
          "model_name": "HTMLModel",
          "model_module_version": "1.5.0",
          "state": {
            "_dom_classes": [],
            "_model_module": "@jupyter-widgets/controls",
            "_model_module_version": "1.5.0",
            "_model_name": "HTMLModel",
            "_view_count": null,
            "_view_module": "@jupyter-widgets/controls",
            "_view_module_version": "1.5.0",
            "_view_name": "HTMLView",
            "description": "",
            "description_tooltip": null,
            "layout": "IPY_MODEL_59c10e38a3c44f95b49d6c7e1d807f80",
            "placeholder": "​",
            "style": "IPY_MODEL_bb5ca840e7f14d4fa6caa8b85cda7de7",
            "value": " 50/50 [00:17&lt;00:00,  2.64it/s]"
          }
        },
        "9a6bd2b6282a4079862a23a4a248e880": {
          "model_module": "@jupyter-widgets/base",
          "model_name": "LayoutModel",
          "model_module_version": "1.2.0",
          "state": {
            "_model_module": "@jupyter-widgets/base",
            "_model_module_version": "1.2.0",
            "_model_name": "LayoutModel",
            "_view_count": null,
            "_view_module": "@jupyter-widgets/base",
            "_view_module_version": "1.2.0",
            "_view_name": "LayoutView",
            "align_content": null,
            "align_items": null,
            "align_self": null,
            "border": null,
            "bottom": null,
            "display": null,
            "flex": null,
            "flex_flow": null,
            "grid_area": null,
            "grid_auto_columns": null,
            "grid_auto_flow": null,
            "grid_auto_rows": null,
            "grid_column": null,
            "grid_gap": null,
            "grid_row": null,
            "grid_template_areas": null,
            "grid_template_columns": null,
            "grid_template_rows": null,
            "height": null,
            "justify_content": null,
            "justify_items": null,
            "left": null,
            "margin": null,
            "max_height": null,
            "max_width": null,
            "min_height": null,
            "min_width": null,
            "object_fit": null,
            "object_position": null,
            "order": null,
            "overflow": null,
            "overflow_x": null,
            "overflow_y": null,
            "padding": null,
            "right": null,
            "top": null,
            "visibility": null,
            "width": null
          }
        },
        "0530024a68ee4f8a830c39b3646d849d": {
          "model_module": "@jupyter-widgets/base",
          "model_name": "LayoutModel",
          "model_module_version": "1.2.0",
          "state": {
            "_model_module": "@jupyter-widgets/base",
            "_model_module_version": "1.2.0",
            "_model_name": "LayoutModel",
            "_view_count": null,
            "_view_module": "@jupyter-widgets/base",
            "_view_module_version": "1.2.0",
            "_view_name": "LayoutView",
            "align_content": null,
            "align_items": null,
            "align_self": null,
            "border": null,
            "bottom": null,
            "display": null,
            "flex": null,
            "flex_flow": null,
            "grid_area": null,
            "grid_auto_columns": null,
            "grid_auto_flow": null,
            "grid_auto_rows": null,
            "grid_column": null,
            "grid_gap": null,
            "grid_row": null,
            "grid_template_areas": null,
            "grid_template_columns": null,
            "grid_template_rows": null,
            "height": null,
            "justify_content": null,
            "justify_items": null,
            "left": null,
            "margin": null,
            "max_height": null,
            "max_width": null,
            "min_height": null,
            "min_width": null,
            "object_fit": null,
            "object_position": null,
            "order": null,
            "overflow": null,
            "overflow_x": null,
            "overflow_y": null,
            "padding": null,
            "right": null,
            "top": null,
            "visibility": null,
            "width": null
          }
        },
        "677d4e2c438b4c6caa9da2663ff69324": {
          "model_module": "@jupyter-widgets/controls",
          "model_name": "DescriptionStyleModel",
          "model_module_version": "1.5.0",
          "state": {
            "_model_module": "@jupyter-widgets/controls",
            "_model_module_version": "1.5.0",
            "_model_name": "DescriptionStyleModel",
            "_view_count": null,
            "_view_module": "@jupyter-widgets/base",
            "_view_module_version": "1.2.0",
            "_view_name": "StyleView",
            "description_width": ""
          }
        },
        "093da0bd7efe4879b3bbe09fa6699861": {
          "model_module": "@jupyter-widgets/base",
          "model_name": "LayoutModel",
          "model_module_version": "1.2.0",
          "state": {
            "_model_module": "@jupyter-widgets/base",
            "_model_module_version": "1.2.0",
            "_model_name": "LayoutModel",
            "_view_count": null,
            "_view_module": "@jupyter-widgets/base",
            "_view_module_version": "1.2.0",
            "_view_name": "LayoutView",
            "align_content": null,
            "align_items": null,
            "align_self": null,
            "border": null,
            "bottom": null,
            "display": null,
            "flex": null,
            "flex_flow": null,
            "grid_area": null,
            "grid_auto_columns": null,
            "grid_auto_flow": null,
            "grid_auto_rows": null,
            "grid_column": null,
            "grid_gap": null,
            "grid_row": null,
            "grid_template_areas": null,
            "grid_template_columns": null,
            "grid_template_rows": null,
            "height": null,
            "justify_content": null,
            "justify_items": null,
            "left": null,
            "margin": null,
            "max_height": null,
            "max_width": null,
            "min_height": null,
            "min_width": null,
            "object_fit": null,
            "object_position": null,
            "order": null,
            "overflow": null,
            "overflow_x": null,
            "overflow_y": null,
            "padding": null,
            "right": null,
            "top": null,
            "visibility": null,
            "width": null
          }
        },
        "f2fa4a197aed45099031252044ab069d": {
          "model_module": "@jupyter-widgets/controls",
          "model_name": "ProgressStyleModel",
          "model_module_version": "1.5.0",
          "state": {
            "_model_module": "@jupyter-widgets/controls",
            "_model_module_version": "1.5.0",
            "_model_name": "ProgressStyleModel",
            "_view_count": null,
            "_view_module": "@jupyter-widgets/base",
            "_view_module_version": "1.2.0",
            "_view_name": "StyleView",
            "bar_color": null,
            "description_width": ""
          }
        },
        "59c10e38a3c44f95b49d6c7e1d807f80": {
          "model_module": "@jupyter-widgets/base",
          "model_name": "LayoutModel",
          "model_module_version": "1.2.0",
          "state": {
            "_model_module": "@jupyter-widgets/base",
            "_model_module_version": "1.2.0",
            "_model_name": "LayoutModel",
            "_view_count": null,
            "_view_module": "@jupyter-widgets/base",
            "_view_module_version": "1.2.0",
            "_view_name": "LayoutView",
            "align_content": null,
            "align_items": null,
            "align_self": null,
            "border": null,
            "bottom": null,
            "display": null,
            "flex": null,
            "flex_flow": null,
            "grid_area": null,
            "grid_auto_columns": null,
            "grid_auto_flow": null,
            "grid_auto_rows": null,
            "grid_column": null,
            "grid_gap": null,
            "grid_row": null,
            "grid_template_areas": null,
            "grid_template_columns": null,
            "grid_template_rows": null,
            "height": null,
            "justify_content": null,
            "justify_items": null,
            "left": null,
            "margin": null,
            "max_height": null,
            "max_width": null,
            "min_height": null,
            "min_width": null,
            "object_fit": null,
            "object_position": null,
            "order": null,
            "overflow": null,
            "overflow_x": null,
            "overflow_y": null,
            "padding": null,
            "right": null,
            "top": null,
            "visibility": null,
            "width": null
          }
        },
        "bb5ca840e7f14d4fa6caa8b85cda7de7": {
          "model_module": "@jupyter-widgets/controls",
          "model_name": "DescriptionStyleModel",
          "model_module_version": "1.5.0",
          "state": {
            "_model_module": "@jupyter-widgets/controls",
            "_model_module_version": "1.5.0",
            "_model_name": "DescriptionStyleModel",
            "_view_count": null,
            "_view_module": "@jupyter-widgets/base",
            "_view_module_version": "1.2.0",
            "_view_name": "StyleView",
            "description_width": ""
          }
        },
        "58f03395fed74c6bb019ea395c74efcc": {
          "model_module": "@jupyter-widgets/controls",
          "model_name": "HBoxModel",
          "model_module_version": "1.5.0",
          "state": {
            "_dom_classes": [],
            "_model_module": "@jupyter-widgets/controls",
            "_model_module_version": "1.5.0",
            "_model_name": "HBoxModel",
            "_view_count": null,
            "_view_module": "@jupyter-widgets/controls",
            "_view_module_version": "1.5.0",
            "_view_name": "HBoxView",
            "box_style": "",
            "children": [
              "IPY_MODEL_d8747fce988e4eea82eb51b246f7aab5",
              "IPY_MODEL_9730a94cd3c84032abb5f529b51cf8a5",
              "IPY_MODEL_6f31dad3afa0440797c5cb43ac0ac510"
            ],
            "layout": "IPY_MODEL_917bca7b754b4c6c98cdae6d8822c3d2"
          }
        },
        "d8747fce988e4eea82eb51b246f7aab5": {
          "model_module": "@jupyter-widgets/controls",
          "model_name": "HTMLModel",
          "model_module_version": "1.5.0",
          "state": {
            "_dom_classes": [],
            "_model_module": "@jupyter-widgets/controls",
            "_model_module_version": "1.5.0",
            "_model_name": "HTMLModel",
            "_view_count": null,
            "_view_module": "@jupyter-widgets/controls",
            "_view_module_version": "1.5.0",
            "_view_name": "HTMLView",
            "description": "",
            "description_tooltip": null,
            "layout": "IPY_MODEL_15d3c6e36e8041da88a65356754771a0",
            "placeholder": "​",
            "style": "IPY_MODEL_b3a0442dbb104ad680dc70506f20a069",
            "value": " 22%"
          }
        },
        "9730a94cd3c84032abb5f529b51cf8a5": {
          "model_module": "@jupyter-widgets/controls",
          "model_name": "FloatProgressModel",
          "model_module_version": "1.5.0",
          "state": {
            "_dom_classes": [],
            "_model_module": "@jupyter-widgets/controls",
            "_model_module_version": "1.5.0",
            "_model_name": "FloatProgressModel",
            "_view_count": null,
            "_view_module": "@jupyter-widgets/controls",
            "_view_module_version": "1.5.0",
            "_view_name": "ProgressView",
            "bar_style": "danger",
            "description": "",
            "description_tooltip": null,
            "layout": "IPY_MODEL_f5a72d274ec642a7a7b88f8354333c24",
            "max": 40,
            "min": 0,
            "orientation": "horizontal",
            "style": "IPY_MODEL_00a7994f852449e085dd890addea7cd4",
            "value": 9
          }
        },
        "6f31dad3afa0440797c5cb43ac0ac510": {
          "model_module": "@jupyter-widgets/controls",
          "model_name": "HTMLModel",
          "model_module_version": "1.5.0",
          "state": {
            "_dom_classes": [],
            "_model_module": "@jupyter-widgets/controls",
            "_model_module_version": "1.5.0",
            "_model_name": "HTMLModel",
            "_view_count": null,
            "_view_module": "@jupyter-widgets/controls",
            "_view_module_version": "1.5.0",
            "_view_name": "HTMLView",
            "description": "",
            "description_tooltip": null,
            "layout": "IPY_MODEL_e6a44153919640bf9c150472bf0b458c",
            "placeholder": "​",
            "style": "IPY_MODEL_86c4c2ed2ef344b19b11bf184110d539",
            "value": " 9/40 [00:04&lt;00:14,  2.12it/s]"
          }
        },
        "917bca7b754b4c6c98cdae6d8822c3d2": {
          "model_module": "@jupyter-widgets/base",
          "model_name": "LayoutModel",
          "model_module_version": "1.2.0",
          "state": {
            "_model_module": "@jupyter-widgets/base",
            "_model_module_version": "1.2.0",
            "_model_name": "LayoutModel",
            "_view_count": null,
            "_view_module": "@jupyter-widgets/base",
            "_view_module_version": "1.2.0",
            "_view_name": "LayoutView",
            "align_content": null,
            "align_items": null,
            "align_self": null,
            "border": null,
            "bottom": null,
            "display": null,
            "flex": null,
            "flex_flow": null,
            "grid_area": null,
            "grid_auto_columns": null,
            "grid_auto_flow": null,
            "grid_auto_rows": null,
            "grid_column": null,
            "grid_gap": null,
            "grid_row": null,
            "grid_template_areas": null,
            "grid_template_columns": null,
            "grid_template_rows": null,
            "height": null,
            "justify_content": null,
            "justify_items": null,
            "left": null,
            "margin": null,
            "max_height": null,
            "max_width": null,
            "min_height": null,
            "min_width": null,
            "object_fit": null,
            "object_position": null,
            "order": null,
            "overflow": null,
            "overflow_x": null,
            "overflow_y": null,
            "padding": null,
            "right": null,
            "top": null,
            "visibility": null,
            "width": null
          }
        },
        "15d3c6e36e8041da88a65356754771a0": {
          "model_module": "@jupyter-widgets/base",
          "model_name": "LayoutModel",
          "model_module_version": "1.2.0",
          "state": {
            "_model_module": "@jupyter-widgets/base",
            "_model_module_version": "1.2.0",
            "_model_name": "LayoutModel",
            "_view_count": null,
            "_view_module": "@jupyter-widgets/base",
            "_view_module_version": "1.2.0",
            "_view_name": "LayoutView",
            "align_content": null,
            "align_items": null,
            "align_self": null,
            "border": null,
            "bottom": null,
            "display": null,
            "flex": null,
            "flex_flow": null,
            "grid_area": null,
            "grid_auto_columns": null,
            "grid_auto_flow": null,
            "grid_auto_rows": null,
            "grid_column": null,
            "grid_gap": null,
            "grid_row": null,
            "grid_template_areas": null,
            "grid_template_columns": null,
            "grid_template_rows": null,
            "height": null,
            "justify_content": null,
            "justify_items": null,
            "left": null,
            "margin": null,
            "max_height": null,
            "max_width": null,
            "min_height": null,
            "min_width": null,
            "object_fit": null,
            "object_position": null,
            "order": null,
            "overflow": null,
            "overflow_x": null,
            "overflow_y": null,
            "padding": null,
            "right": null,
            "top": null,
            "visibility": null,
            "width": null
          }
        },
        "b3a0442dbb104ad680dc70506f20a069": {
          "model_module": "@jupyter-widgets/controls",
          "model_name": "DescriptionStyleModel",
          "model_module_version": "1.5.0",
          "state": {
            "_model_module": "@jupyter-widgets/controls",
            "_model_module_version": "1.5.0",
            "_model_name": "DescriptionStyleModel",
            "_view_count": null,
            "_view_module": "@jupyter-widgets/base",
            "_view_module_version": "1.2.0",
            "_view_name": "StyleView",
            "description_width": ""
          }
        },
        "f5a72d274ec642a7a7b88f8354333c24": {
          "model_module": "@jupyter-widgets/base",
          "model_name": "LayoutModel",
          "model_module_version": "1.2.0",
          "state": {
            "_model_module": "@jupyter-widgets/base",
            "_model_module_version": "1.2.0",
            "_model_name": "LayoutModel",
            "_view_count": null,
            "_view_module": "@jupyter-widgets/base",
            "_view_module_version": "1.2.0",
            "_view_name": "LayoutView",
            "align_content": null,
            "align_items": null,
            "align_self": null,
            "border": null,
            "bottom": null,
            "display": null,
            "flex": null,
            "flex_flow": null,
            "grid_area": null,
            "grid_auto_columns": null,
            "grid_auto_flow": null,
            "grid_auto_rows": null,
            "grid_column": null,
            "grid_gap": null,
            "grid_row": null,
            "grid_template_areas": null,
            "grid_template_columns": null,
            "grid_template_rows": null,
            "height": null,
            "justify_content": null,
            "justify_items": null,
            "left": null,
            "margin": null,
            "max_height": null,
            "max_width": null,
            "min_height": null,
            "min_width": null,
            "object_fit": null,
            "object_position": null,
            "order": null,
            "overflow": null,
            "overflow_x": null,
            "overflow_y": null,
            "padding": null,
            "right": null,
            "top": null,
            "visibility": null,
            "width": null
          }
        },
        "00a7994f852449e085dd890addea7cd4": {
          "model_module": "@jupyter-widgets/controls",
          "model_name": "ProgressStyleModel",
          "model_module_version": "1.5.0",
          "state": {
            "_model_module": "@jupyter-widgets/controls",
            "_model_module_version": "1.5.0",
            "_model_name": "ProgressStyleModel",
            "_view_count": null,
            "_view_module": "@jupyter-widgets/base",
            "_view_module_version": "1.2.0",
            "_view_name": "StyleView",
            "bar_color": null,
            "description_width": ""
          }
        },
        "e6a44153919640bf9c150472bf0b458c": {
          "model_module": "@jupyter-widgets/base",
          "model_name": "LayoutModel",
          "model_module_version": "1.2.0",
          "state": {
            "_model_module": "@jupyter-widgets/base",
            "_model_module_version": "1.2.0",
            "_model_name": "LayoutModel",
            "_view_count": null,
            "_view_module": "@jupyter-widgets/base",
            "_view_module_version": "1.2.0",
            "_view_name": "LayoutView",
            "align_content": null,
            "align_items": null,
            "align_self": null,
            "border": null,
            "bottom": null,
            "display": null,
            "flex": null,
            "flex_flow": null,
            "grid_area": null,
            "grid_auto_columns": null,
            "grid_auto_flow": null,
            "grid_auto_rows": null,
            "grid_column": null,
            "grid_gap": null,
            "grid_row": null,
            "grid_template_areas": null,
            "grid_template_columns": null,
            "grid_template_rows": null,
            "height": null,
            "justify_content": null,
            "justify_items": null,
            "left": null,
            "margin": null,
            "max_height": null,
            "max_width": null,
            "min_height": null,
            "min_width": null,
            "object_fit": null,
            "object_position": null,
            "order": null,
            "overflow": null,
            "overflow_x": null,
            "overflow_y": null,
            "padding": null,
            "right": null,
            "top": null,
            "visibility": null,
            "width": null
          }
        },
        "86c4c2ed2ef344b19b11bf184110d539": {
          "model_module": "@jupyter-widgets/controls",
          "model_name": "DescriptionStyleModel",
          "model_module_version": "1.5.0",
          "state": {
            "_model_module": "@jupyter-widgets/controls",
            "_model_module_version": "1.5.0",
            "_model_name": "DescriptionStyleModel",
            "_view_count": null,
            "_view_module": "@jupyter-widgets/base",
            "_view_module_version": "1.2.0",
            "_view_name": "StyleView",
            "description_width": ""
          }
        }
      }
    }
  },
  "cells": [
    {
      "cell_type": "markdown",
      "metadata": {
        "id": "view-in-github",
        "colab_type": "text"
      },
      "source": [
        "<a href=\"https://colab.research.google.com/github/KonstantinaT/Predictor/blob/main/Tier_CGI_humsavar_other.ipynb\" target=\"_parent\"><img src=\"https://colab.research.google.com/assets/colab-badge.svg\" alt=\"Open In Colab\"/></a>"
      ]
    },
    {
      "cell_type": "markdown",
      "source": [
        "Use of Prott5 representations as features for the training of FC NN. Training set Tier1_2_3_humsavar and Tier1_2_3_Other with sequences smaller than 2000AA. Test on DRGN and CPV "
      ],
      "metadata": {
        "id": "92oaE-1exDqu"
      }
    },
    {
      "cell_type": "markdown",
      "metadata": {
        "id": "aRz0zEa9-in3"
      },
      "source": [
        "## Libraries, Classes and Functions"
      ]
    },
    {
      "cell_type": "code",
      "execution_count": null,
      "metadata": {
        "colab": {
          "base_uri": "https://localhost:8080/"
        },
        "id": "Eo3H90SL6xHP",
        "outputId": "2b6210c2-065a-4e94-fc29-63e39a6b3ed9"
      },
      "outputs": [
        {
          "output_type": "stream",
          "name": "stdout",
          "text": [
            "\u001b[K     |████████████████████████████████| 1.2 MB 4.5 MB/s \n",
            "\u001b[K     |████████████████████████████████| 4.4 MB 29.1 MB/s \n",
            "\u001b[K     |████████████████████████████████| 596 kB 59.2 MB/s \n",
            "\u001b[K     |████████████████████████████████| 101 kB 8.9 MB/s \n",
            "\u001b[K     |████████████████████████████████| 6.6 MB 22.9 MB/s \n",
            "\u001b[?25hLooking in indexes: https://pypi.org/simple, https://us-python.pkg.dev/colab-wheels/public/simple/\n",
            "Collecting Biopython\n",
            "  Downloading biopython-1.79-cp37-cp37m-manylinux_2_5_x86_64.manylinux1_x86_64.whl (2.3 MB)\n",
            "\u001b[K     |████████████████████████████████| 2.3 MB 5.0 MB/s \n",
            "\u001b[?25hRequirement already satisfied: numpy in /usr/local/lib/python3.7/dist-packages (from Biopython) (1.21.6)\n",
            "Installing collected packages: Biopython\n",
            "Successfully installed Biopython-1.79\n"
          ]
        }
      ],
      "source": [
        "import csv\n",
        "import seaborn as sns\n",
        "import pickle\n",
        "import matplotlib.pyplot as plt\n",
        "from matplotlib.pyplot import figure\n",
        "import math\n",
        "import gc\n",
        "import warnings\n",
        "import numpy as np\n",
        "import pandas as pd\n",
        "from tqdm.notebook import tqdm\n",
        "from sklearn.metrics import matthews_corrcoef\n",
        "import torch\n",
        "from torch.utils.data import Dataset, DataLoader, WeightedRandomSampler, TensorDataset\n",
        "from sklearn.preprocessing import MinMaxScaler    \n",
        "from sklearn.model_selection import train_test_split, KFold, StratifiedKFold\n",
        "from sklearn.metrics import confusion_matrix, classification_report, roc_curve, roc_auc_score\n",
        "from numpy import asarray,savez_compressed\n",
        "pd.set_option(\"display.max_rows\", None, \"display.max_columns\", None)\n",
        "!pip install -q SentencePiece transformers\n",
        "from transformers import AdamW, get_cosine_schedule_with_warmup, get_linear_schedule_with_warmup, T5EncoderModel, T5Tokenizer\n",
        "import torch.nn as nn\n",
        "from torch.optim import lr_scheduler\n",
        "from torch.nn.utils.rnn import pad_sequence\n",
        "import requests\n",
        "import warnings\n",
        "from torch.autograd import Variable\n",
        "import torch.nn.functional as F\n",
        "import torch.optim as optim\n",
        "from sklearn import metrics\n",
        "#from torch.utils import data\n",
        "import re\n",
        "import os\n",
        "!pip install Biopython"
      ]
    },
    {
      "cell_type": "code",
      "source": [
        "# evaluates the performance of a model and return the predictions and ground truth\n",
        "def eval(model, loader):\n",
        "    model.eval()\n",
        "    outputs = []\n",
        "    predictions = []\n",
        "    for i, batch in enumerate(loader):\n",
        "        sequences = batch[0].to(device)\n",
        "        output = batch[1].to(device)\n",
        "        output = output.flatten()\n",
        "        prediction = model(sequences)\n",
        "\n",
        "        prediction = torch.round(prediction.squeeze()).flatten()  # rounds to the nearest integer\n",
        "\n",
        "        predictions.append(prediction.detach().cpu().numpy())\n",
        "        outputs.append(output.detach().cpu().numpy())\n",
        "    \n",
        "    return np.hstack(predictions), np.hstack(outputs)\n",
        "\n",
        "\n",
        "# implementation of a single training epoch\n",
        "def train_epoch(net, loader, loss_fn, optimizer, scheduler):\n",
        "    \n",
        "    # set the network in training mode\n",
        "    net.train()\n",
        "    \n",
        "    # keep track of the loss\n",
        "    loss_cum = 0\n",
        "    cnt = 0\n",
        "    num_correct = 0\n",
        "    targets = []\n",
        "    predictions = []\n",
        "    \n",
        "    for i, data in enumerate(loader): \n",
        "        \n",
        "        # sample data\n",
        "        x, y = data\n",
        "        x = x.to(device)\n",
        "        y = y.to(device)\n",
        "        \n",
        "        # set all gradients equal to zero\n",
        "        net.zero_grad()\n",
        "        \n",
        "        # feed the batch to the network and compute the outputs\n",
        "        y_pred = net(x)\n",
        "        #y_pred_sq = np.squeeze(y_pred) # add when using loss_fn: BCEloss()\n",
        "        \n",
        "        pred = torch.round(y_pred.squeeze())  # rounds to the nearest integer\n",
        "  \n",
        "        # compare predictions to true label\n",
        "        #correct_tensor = pred.eq(y.float().view_as(pred))\n",
        "        #correct = np.squeeze(correct_tensor.cpu().numpy())\n",
        "        #num_correct += np.sum(correct)\n",
        "        targets.extend(y.cpu().detach().numpy().tolist())\n",
        "        predictions.extend(torch.sigmoid(y_pred).cpu().detach().numpy().tolist())\n",
        "\n",
        "        #predictions_round = [round(p) for p in predictions]\n",
        "        #correct_tensor = predictions_round.eq(targets.float().view_as(predictions_round))\n",
        "\n",
        "        #loss = loss_fn(y_pred_sq, y.float())  #add when using loss_fn: BCEloss()\n",
        "        loss = loss_fn(y_pred, y.float())\n",
        "\n",
        "        # Specify L1 and L2 weights\n",
        "        l1_weight = 0\n",
        "        l2_weight = 0\n",
        "        \n",
        "        # Compute L1 and L2 loss component\n",
        "        parameters = []\n",
        "        for parameter in net.parameters():\n",
        "            parameters.append(parameter.view(-1))\n",
        "        l1 = l1_weight * net.compute_l1_loss(torch.cat(parameters))\n",
        "        l2 = l2_weight * net.compute_l2_loss(torch.cat(parameters))\n",
        "        \n",
        "        # Add L1 and L2 loss components\n",
        "        loss += l1\n",
        "        loss += l2\n",
        "\n",
        "        loss_cum += loss.data.cpu().numpy()\n",
        "        cnt += 1\n",
        "\n",
        "        # backpropagate the gradients w.r.t. computed loss\n",
        "        loss.backward()\n",
        "\n",
        "        # apply one step in the optimization\n",
        "        optimizer.step()\n",
        "        scheduler.step()\n",
        "        \n",
        "        #break #for training one batch\n",
        "          \n",
        "    # compute the average loss\n",
        "    #mytrain_acc = num_correct \n",
        "    loss_avg = loss_cum / cnt\n",
        "\n",
        "    #predictions = np.array(predictions) >= 0.5\n",
        "    predictions = [1 if p[0] > 0.5 else 0 for p in predictions]\n",
        "    mytrain_acc  = metrics.accuracy_score(targets, predictions)   *100\n",
        "    #mytrain_acc = (num_correct/ (len(y)*cnt)) *100\n",
        "\n",
        "    return loss_avg, mytrain_acc\n",
        "\n",
        "def loss_fn(outputs, targets):\n",
        "  return nn.BCEWithLogitsLoss()(outputs, targets.view(-1, 1))"
      ],
      "metadata": {
        "id": "ikaQZE05iJQj"
      },
      "execution_count": null,
      "outputs": []
    },
    {
      "cell_type": "code",
      "source": [
        "# implementation of a single testing epoch\n",
        "def test_epoch(net, loader, loss_fn):\n",
        "    \n",
        "    # set the network in evaluation mode\n",
        "    net.eval()\n",
        "    \n",
        "    # keep track of the loss\n",
        "    loss_cum = 0\n",
        "    cnt = 0\n",
        "    num_correct_val = 0\n",
        "    targets = []\n",
        "    predictions = []\n",
        "    with torch.no_grad():\n",
        "      for i, data in enumerate(loader): \n",
        "\n",
        "          x, y = data\n",
        "          x = x.to(device)\n",
        "          y = y.to(device)\n",
        "          \n",
        "          # feed the batch to the network and compute the outputs\n",
        "          y_pred = net(x)\n",
        "         \n",
        "          #y_pred_sq = np.squeeze(y_pred) #add when using loss_fn: BCEloss()\n",
        "          pred = torch.round(y_pred.squeeze())  # rounds to the nearest integer\n",
        "          \n",
        "          # compare predictions to true label\n",
        "          #correct_tensor = pred.eq(y.float().view_as(pred))\n",
        "          #correct = np.squeeze(correct_tensor.cpu().numpy())\n",
        "          \n",
        "          targets.extend(y.cpu().detach().numpy().tolist())\n",
        "          predictions.extend(torch.sigmoid(y_pred).cpu().detach().numpy().tolist())\n",
        "\n",
        "          #num_correct_val += np.sum(correct)\n",
        "          # compare the outputs to the labels with the loss function\n",
        "          #loss = loss_fn(y_pred_sq, y.float())  #ad|d when using loss_fn: BCEloss()\n",
        "          loss = loss_fn(y_pred, y.float())\n",
        "\n",
        "          # Specify L1 and L2 weights\n",
        "          l1_weight = 0\n",
        "          l2_weight = 0\n",
        "          \n",
        "          # Compute L1 and L2 loss component\n",
        "          parameters = []\n",
        "          for parameter in net.parameters():\n",
        "              parameters.append(parameter.view(-1))\n",
        "          l1 = l1_weight * net.compute_l1_loss(torch.cat(parameters))\n",
        "          l2 = l2_weight * net.compute_l2_loss(torch.cat(parameters))\n",
        "          \n",
        "          # Add L1 and L2 loss components\n",
        "          loss += l1\n",
        "          loss += l2\n",
        "            \n",
        "          loss_cum += loss.data.cpu().numpy()\n",
        "          cnt += 1\n",
        "    print(predictions)      \n",
        "    # compute the average loss\n",
        "    #len_trainx = len(loader) * len(y_pred)\n",
        "    #mytest_acc = num_correct_val \n",
        "    loss_avg = loss_cum / cnt\n",
        "    predictions = np.array(predictions) >= 0.5\n",
        "    mytest_acc  = (metrics.accuracy_score(targets, predictions)) *100\n",
        "    \n",
        "    return loss_avg, mytest_acc"
      ],
      "metadata": {
        "id": "LymEfthBiFQI"
      },
      "execution_count": null,
      "outputs": []
    },
    {
      "cell_type": "code",
      "source": [
        "def train_net(net, train_loader, val_loader, loss_fn, optimizer, epochs , scheduler):\n",
        "    \n",
        "    # transfer the network to the GPU\n",
        "    net = net.to(device)\n",
        "    \n",
        "    train_loss = np.zeros((epochs))\n",
        "    test_loss = np.zeros((epochs))\n",
        "    train_acc = np.zeros((epochs))\n",
        "    train_acc_alt = np.zeros((epochs))\n",
        "    \n",
        "    test_acc = np.zeros((epochs))\n",
        "    test_acc_alt = np.zeros((epochs))\n",
        "    \n",
        "    print(\"Begin training.\")\n",
        "\n",
        "    for epoch in tqdm(range(epochs)):\n",
        "        \n",
        "        # training\n",
        "        train_loss[epoch], train_acc[epoch] = train_epoch(net, train_loader, loss_fn, optimizer, scheduler)\n",
        "        #predictions, outputs = eval(net, train_loader)\n",
        "        #train_acc_alt[epoch] = metrics.accuracy_score(outputs, predictions)\n",
        "\n",
        "        # validation\n",
        "        test_loss[epoch], test_acc[epoch] = test_epoch(net, val_loader, loss_fn)\n",
        "        #predictions, outputs = eval(net, val_loader)\n",
        "        #test_acc_alt[epoch] = metrics.accuracy_score(outputs, predictions)\n",
        "        \n",
        "        print('Epoch %5d - Train loss: %.6f - Train accuracy: %.6f - Test loss: %.6f - Test accuracy: %.6f' \n",
        "             % (epoch, train_loss[epoch], train_acc[epoch], test_loss[epoch], test_acc[epoch]))\n",
        "\n",
        "    return (train_loss, test_loss), (train_acc , test_acc)\n",
        "    #return train_loss, train_acc # for training one batch"
      ],
      "metadata": {
        "id": "f-6kjW08h_TW"
      },
      "execution_count": null,
      "outputs": []
    },
    {
      "cell_type": "code",
      "execution_count": null,
      "metadata": {
        "colab": {
          "base_uri": "https://localhost:8080/"
        },
        "id": "nKuEmlw-4u6p",
        "outputId": "dbd41740-70fe-42bc-a420-c300d705e6e9"
      },
      "outputs": [
        {
          "output_type": "stream",
          "name": "stdout",
          "text": [
            "Training on GPU.\n"
          ]
        }
      ],
      "source": [
        "# First checking if GPU is available\n",
        "train_on_gpu=torch.cuda.is_available()\n",
        "\n",
        "if(train_on_gpu):\n",
        "    print('Training on GPU.')\n",
        "else:\n",
        "    print('No GPU available, training on CPU.')"
      ]
    },
    {
      "cell_type": "code",
      "execution_count": null,
      "metadata": {
        "id": "fU5-AomUqIbl"
      },
      "outputs": [],
      "source": [
        "class toyRNN(nn.Module):\n",
        "    \"\"\"\n",
        "    The RNN model that will be used to perform Sentiment analysis.\n",
        "    \"\"\"\n",
        "\n",
        "    def __init__(self, output_size, hidden_dim, n_layers):\n",
        "        \"\"\"\n",
        "        Initialize the model by setting up the layers.\n",
        "        \"\"\"\n",
        "        super(toyRNN, self).__init__()\n",
        "\n",
        "        self.output_size = output_size\n",
        "        self.n_layers = n_layers\n",
        "        self.hidden_dim = hidden_dim\n",
        "        in_channels = 1\n",
        "\n",
        "        self.gru = nn.GRU(in_channels, hidden_dim, n_layers, batch_first=True)\n",
        "        \n",
        "        # dropout layer\n",
        "        self.dropout = nn.Dropout(0.4)\n",
        "        # linear and sigmoid layers\n",
        "        self.fc = nn.Linear(hidden_dim, output_size)\n",
        "        nn.init.xavier_normal_(self.fc.weight)\n",
        "        self.sig = nn.Sigmoid()\n",
        "\n",
        "         \n",
        "    def forward(self, x, hidden, test_var=False):\n",
        "        \"\"\"\n",
        "        Perform a forward pass of our model on some input and hidden state.\n",
        "        \"\"\"\n",
        "        batch_size = x.size(0)  \n",
        "        # embeddings and lstm_out\n",
        "        #print('hidden', hidden[0].size())\n",
        "\n",
        "        lstm_out, hidden = self.gru(x, hidden)\n",
        "       \n",
        "        # stack up lstm outputs\n",
        "        lstm = lstm_out.contiguous().view(-1, self.hidden_dim)\n",
        "        # dropout and fully-connected layer\n",
        "        out = self.dropout(lstm)\n",
        "        \n",
        "        # dropout and fully-connected layer\n",
        "        out = self.fc(out)\n",
        "        # sigmoid function\n",
        "        sig_out = self.sig(out)\n",
        "\n",
        "        # reshape to be batch_size first\n",
        "        sig_out = sig_out.view(batch_size, -1)\n",
        "        sig_out = sig_out[:, -1] # get last batch of labels\n",
        "        if test_var == True:\n",
        "          return lstm_out\n",
        "        # return last sigmoid output and hidden state\n",
        "        else:\n",
        "          return sig_out , hidden\n",
        "\n",
        "\n",
        "    def init_hidden(self, batch_size):\n",
        "        ''' Initializes hidden state '''\n",
        "        hidden = torch.zeros(self.n_layers, batch_size, self.hidden_dim).cuda()\n",
        "\n",
        "        return hidden"
      ]
    },
    {
      "cell_type": "code",
      "execution_count": null,
      "metadata": {
        "id": "fGCOwZvjc98W"
      },
      "outputs": [],
      "source": [
        "class Classifier(nn.Module):\n",
        "    def __init__(self, hidden, dropout=0):\n",
        "        super(Classifier, self).__init__()\n",
        "        self.hidden = hidden\n",
        "        self.num_feature = 2000\n",
        "        self.dropout = dropout\n",
        "        self.batchnorm1 = nn.BatchNorm1d(self.hidden)\n",
        "\n",
        "        self.layer_1 = nn.Linear(self.num_feature,  self.hidden)\n",
        "        self.layer_2 = nn.Linear( self.hidden, 1)\n",
        "        \n",
        "        self.relu = nn.ReLU()\n",
        "        self.dropout = nn.Dropout(dropout)\n",
        "        self.sigmoid = nn.Sigmoid()\n",
        "\n",
        "    def forward(self, x):\n",
        "        x = self.layer_1(x)\n",
        "        x = self.batchnorm1(x)\n",
        "        x = self.relu(x)\n",
        "        \n",
        "        x = self.layer_2(x)\n",
        "        #x = self.batchnorm2(x)\n",
        "        #x = self.sigmoid(x)\n",
        "        \n",
        "        return x\n",
        "\n",
        "    def compute_l1_loss(self, w):\n",
        "        return torch.abs(w).sum()\n",
        "\n",
        "    def compute_l2_loss(self, w):\n",
        "        return torch.square(w).sum()"
      ]
    },
    {
      "cell_type": "code",
      "execution_count": null,
      "metadata": {
        "id": "QYnulWBrjZsv"
      },
      "outputs": [],
      "source": [
        "def dataset_with_indices(cls):\n",
        "    \"\"\"\n",
        "    Modifies the given Dataset class to return a tuple data, target, index\n",
        "    instead of just data, target.\n",
        "    \"\"\"\n",
        "\n",
        "    def __getitem__(self, index):\n",
        "        data, target = cls.__getitem__(self, index)\n",
        "        return data, target, index\n",
        "\n",
        "    return type(cls.__name__, (cls,), {\n",
        "        '__getitem__': __getitem__,\n",
        "    })\n",
        "\n",
        "\n",
        "DWithInd = dataset_with_indices(torch.utils.data.TensorDataset)"
      ]
    },
    {
      "cell_type": "code",
      "execution_count": null,
      "metadata": {
        "id": "e7bxA5TKndA9"
      },
      "outputs": [],
      "source": [
        "def Average(lst):\n",
        "  return sum(lst) /len(lst)"
      ]
    },
    {
      "cell_type": "code",
      "execution_count": null,
      "metadata": {
        "id": "3Geipw0E6bE7"
      },
      "outputs": [],
      "source": [
        "def get_class_distribution_binary(obj):\n",
        "    count_dict = {\n",
        "        'Neutral': 0,\n",
        "        'Deleterious': 0,\n",
        "    }\n",
        "    \n",
        "    for i in obj:\n",
        "        if i == 0: \n",
        "            count_dict['Neutral'] += 1\n",
        "        elif i == 1: \n",
        "            count_dict['Deleterious'] += 1\n",
        "        \n",
        "        else:\n",
        "            print(\"Check classes.\")\n",
        "            \n",
        "    return count_dict"
      ]
    },
    {
      "cell_type": "code",
      "execution_count": null,
      "metadata": {
        "id": "Rv_Imf1z8OCK"
      },
      "outputs": [],
      "source": [
        "def multi_acc(y_pred, y_test):\n",
        "    y_pred_softmax = torch.log_softmax(y_pred, dim = 1)\n",
        "    _, y_pred_tags = torch.max(y_pred_softmax, dim = 1)    \n",
        "    \n",
        "    correct_pred = (y_pred_tags == y_test).float()\n",
        "    acc = correct_pred.sum() / len(correct_pred)\n",
        "    \n",
        "    acc = torch.round(acc * 100)\n",
        "    \n",
        "    return acc"
      ]
    },
    {
      "cell_type": "code",
      "execution_count": null,
      "metadata": {
        "id": "7BGSa9O-4ned"
      },
      "outputs": [],
      "source": [
        "class ClassifierDataset(Dataset):\n",
        "    \n",
        "    def __init__(self, X_data, y_data):\n",
        "        self.X_data = X_data\n",
        "        self.y_data = y_data\n",
        "        \n",
        "    def __getitem__(self, index):\n",
        "        return self.X_data[index], self.y_data[index]\n",
        "        \n",
        "    def __len__ (self):\n",
        "        return len(self.X_data)"
      ]
    },
    {
      "cell_type": "code",
      "execution_count": null,
      "metadata": {
        "id": "M2QoDsxhODDa"
      },
      "outputs": [],
      "source": [
        "def unique(list1):\n",
        " \n",
        "    # initialize a null list\n",
        "    unique_list = []\n",
        "     \n",
        "    # traverse for all elements\n",
        "    for x in list1:\n",
        "        # check if exists in unique_list or not\n",
        "        if x not in unique_list:\n",
        "            unique_list.append(x)\n",
        "\n",
        "    print(f'{len(unique_list)} unique transcripts')\n",
        "    return unique_list"
      ]
    },
    {
      "cell_type": "code",
      "execution_count": null,
      "metadata": {
        "id": "cfQgl-GRcuKT"
      },
      "outputs": [],
      "source": [
        "def init_weights(m):\n",
        "    if type(m) == nn.Linear:\n",
        "        nn.init.normal_(m.weight, std=0.01) \n",
        "        #nn.init.xavier_normal_(m.weight)\n",
        "\n",
        "    if type(m) == nn.LSTM:\n",
        "      for param in m._flat_weights_names:\n",
        "          if \"weight\" in param:\n",
        "              nn.init.xavier_uniform_(m._parameters[param])"
      ]
    },
    {
      "cell_type": "code",
      "execution_count": null,
      "metadata": {
        "id": "gwMg4RXcKU4s"
      },
      "outputs": [],
      "source": [
        "class LSTM(nn.Module):\n",
        "    \"\"\"\n",
        "    The RNN model that will be used to perform Sentiment analysis.\n",
        "    \"\"\"\n",
        "\n",
        "    def __init__(self, output_size, hidden_dim, n_layers):\n",
        "        \"\"\"\n",
        "        Initialize the model by setting up the layers.\n",
        "        \"\"\"\n",
        "        super(LSTM, self).__init__()\n",
        "\n",
        "        self.output_size = output_size\n",
        "        self.n_layers = n_layers\n",
        "        self.hidden_dim = hidden_dim\n",
        "        in_channels = 1\n",
        "\n",
        "        #self.lstm = nn.LSTM(embedding_dim, hidden_dim, n_layers, \n",
        "        #                    batch_first=True, bidirectional=True)\n",
        "        self.lstm = nn.LSTM(in_channels, hidden_dim,\n",
        "                            n_layers, batch_first=True, bidirectional=True)\n",
        "        \n",
        "        \n",
        "        # dropout layer\n",
        "        self.dropout = nn.Dropout(0.4)\n",
        "        # linear and sigmoid layers\n",
        "        self.fc = nn.Linear(hidden_dim, output_size)\n",
        "        nn.init.xavier_normal_(self.fc.weight)\n",
        "        self.sig = nn.Sigmoid()\n",
        "\n",
        "         \n",
        "    def forward(self, x, hidden, test_var=False):\n",
        "        \"\"\"\n",
        "        Perform a forward pass of our model on some input and hidden state.\n",
        "        \"\"\"\n",
        "        batch_size = x.size(0)  \n",
        "        # embeddings and lstm_out\n",
        "        #print('hidden', hidden[0].size())\n",
        "\n",
        "        lstm_out, hidden = self.lstm(x, hidden)\n",
        "       \n",
        "        # stack up lstm outputs\n",
        "        lstm = lstm_out.contiguous().view(-1, self.hidden_dim)\n",
        "        # dropout and fully-connected layer\n",
        "        out = self.dropout(lstm)\n",
        "        \n",
        "        # dropout and fully-connected layer\n",
        "        out = self.fc(out)\n",
        "        # sigmoid function\n",
        "        sig_out = self.sig(out)\n",
        "\n",
        "        # reshape to be batch_size first\n",
        "        sig_out = sig_out.view(batch_size, -1)\n",
        "        sig_out = sig_out[:, -1] # get last batch of labels\n",
        "        if test_var == True:\n",
        "          return lstm_out\n",
        "        # return last sigmoid output and hidden state\n",
        "        else:\n",
        "          return sig_out , hidden\n",
        "\n",
        "\n",
        "    def init_hidden(self, batch_size):\n",
        "        ''' Initializes hidden state '''\n",
        "        # Create two new tensors with sizes n_layers x batch_size x hidden_dim,\n",
        "        # initialized to zero, for hidden state and cell state of LSTM\n",
        "        weight = next(self.parameters()).data\n",
        "\n",
        "        if (train_on_gpu):\n",
        "            #hidden = (weight.new(self.n_layers*2, batch_size, self.hidden_dim).zero_().cuda())\n",
        "            hidden = (weight.new(self.n_layers*2, batch_size, self.hidden_dim).zero_().cuda(),\n",
        "                      weight.new(self.n_layers*2, batch_size, self.hidden_dim).zero_().cuda())\n",
        "            #nn.init.xavier_normal_(hidden)\n",
        "        else:\n",
        "            hidden = (weight.new(self.n_layers*2, batch_size, self.hidden_dim).zero_(),\n",
        "                      weight.new(self.n_layers*2, batch_size, self.hidden_dim).zero_())\n",
        "\n",
        "        return hidden"
      ]
    },
    {
      "cell_type": "markdown",
      "metadata": {
        "id": "v25mXSw1ap7r"
      },
      "source": [
        "## Load Prot t5 Model "
      ]
    },
    {
      "cell_type": "code",
      "execution_count": null,
      "metadata": {
        "colab": {
          "base_uri": "https://localhost:8080/",
          "height": 266,
          "referenced_widgets": [
            "37480976e9734c2ea2a237ed56a35c2e",
            "67a9d33d7d684c21a50900713c8923e5",
            "a72fd03d993f49ec8837812eab64274a",
            "f2fe365ec4504c79b044354f25f8945d",
            "513752182d364fcf831f0448f33200e8",
            "42b2d1718f7e481e9a7be9563017109e",
            "892c494defe4439e8cdd9db34b9cdc41",
            "cde3c5f62b044c779eab4852e81400e5",
            "a8544456beca40bb92006a4b808e97aa",
            "3da37102711a4a6281fcdd1e1760fa08",
            "5bdeee5415eb44f6b32b163b504e8791",
            "56c82c3b892a42ce8379b244d57ee797",
            "2106d669fb884cf295717d01c1fb471a",
            "9f80732dd4614fe99d2ead7b8fade89f",
            "3e706447a02c46318aea004ee48a4fec",
            "a2567974678e4bbbafb9d8fb763f7fd6",
            "1ab5e4b5cf3344648478ac1bd33abbaf",
            "b03781bc588e4678813bb560bc06de1e",
            "6e04ac8bd7ec4e38ad84a1c7141c4d9f",
            "c4c823b23f834d1f9b2f6320f234908e",
            "e251ad618a6349a3ac8d99da58ec6c5a",
            "fa09ca715b0f42e0a8fef15b9c58f39f",
            "0015a996afd549d49a695687ece04d3f",
            "f5b35b1f562a43e4a3db7b9d8cf17ecf",
            "fdf06d00b4904318b1f290c920d8defa",
            "56b609eaccff493b97c7d51039c3a555",
            "eb44a77cff424dc3bf8ac6413722c42d",
            "9751bcca6b394358a6f42c2c7f90bac1",
            "cb039e2d791c46cc863d0b86b543e386",
            "b1a76fec6e61419b9cd1f8f416aaf51a",
            "a043ba1ae31d4e7592edbd0f294830fe",
            "5b27118c34dc4d13a9a5fdead986cbd2",
            "2ed73e6ded3c4127944ccf1720e8e7ea",
            "7d3c4df9c5ea4fad8ab62598a0ab51f8",
            "8f1aeb1f9db84ebda2cf5a06a59deb52",
            "79673cd33a0641d1b3b69a4128387713",
            "2b4d6cbfbac84fd8bcadaf38eb090828",
            "be5f37cbcb1a4089a92523189833b0a8",
            "16dfea70502d48a5a64e02bbca9db682",
            "b601c1453d864824b352590ed61f11d6",
            "2b16c12b0dfa40ac845ed2b339d3280c",
            "54cf5c85bece4eaa834b025d08d40c10",
            "98b2b32dab7541ca98e9c573cc4d11a7",
            "45ec51820b154e2bbcd31329673db348",
            "725cf52f754e4fcb88ef1f6b6b26ed99",
            "64376f62b49a4129ad7bcfea74290a7c",
            "16d2f0e50d4a4436ab112bb91481c24d",
            "fc88fe7c1a97462aa50474dcb4377136",
            "634c6e405c944f81957cc6c81f0ce0ff",
            "799484c505d64fd2841973d7df9c9d75",
            "f59842cf00064077af7cba8575d848c4",
            "fd90ca3c297d4b02bb511e5a50a1e9c1",
            "9cc3e079bbdc42c5a4ce48d7f23083da",
            "52ec273cdf174dcd99c6dfafba848b75",
            "ac13feac1e014bc58a88359ceae6f722"
          ]
        },
        "id": "Y-4KiOlCCfr8",
        "outputId": "5d0c39f3-8d98-4ca2-b010-0154c04abd20"
      },
      "outputs": [
        {
          "output_type": "display_data",
          "data": {
            "text/plain": [
              "Downloading:   0%|          | 0.00/232k [00:00<?, ?B/s]"
            ],
            "application/vnd.jupyter.widget-view+json": {
              "version_major": 2,
              "version_minor": 0,
              "model_id": "37480976e9734c2ea2a237ed56a35c2e"
            }
          },
          "metadata": {}
        },
        {
          "output_type": "display_data",
          "data": {
            "text/plain": [
              "Downloading:   0%|          | 0.00/1.74k [00:00<?, ?B/s]"
            ],
            "application/vnd.jupyter.widget-view+json": {
              "version_major": 2,
              "version_minor": 0,
              "model_id": "56c82c3b892a42ce8379b244d57ee797"
            }
          },
          "metadata": {}
        },
        {
          "output_type": "display_data",
          "data": {
            "text/plain": [
              "Downloading:   0%|          | 0.00/24.0 [00:00<?, ?B/s]"
            ],
            "application/vnd.jupyter.widget-view+json": {
              "version_major": 2,
              "version_minor": 0,
              "model_id": "0015a996afd549d49a695687ece04d3f"
            }
          },
          "metadata": {}
        },
        {
          "output_type": "display_data",
          "data": {
            "text/plain": [
              "Downloading:   0%|          | 0.00/546 [00:00<?, ?B/s]"
            ],
            "application/vnd.jupyter.widget-view+json": {
              "version_major": 2,
              "version_minor": 0,
              "model_id": "7d3c4df9c5ea4fad8ab62598a0ab51f8"
            }
          },
          "metadata": {}
        },
        {
          "output_type": "display_data",
          "data": {
            "text/plain": [
              "Downloading:   0%|          | 0.00/10.5G [00:00<?, ?B/s]"
            ],
            "application/vnd.jupyter.widget-view+json": {
              "version_major": 2,
              "version_minor": 0,
              "model_id": "725cf52f754e4fcb88ef1f6b6b26ed99"
            }
          },
          "metadata": {}
        },
        {
          "output_type": "stream",
          "name": "stderr",
          "text": [
            "Some weights of the model checkpoint at Rostlab/prot_t5_xl_uniref50 were not used when initializing T5EncoderModel: ['decoder.block.4.layer.0.SelfAttention.k.weight', 'decoder.block.9.layer.0.SelfAttention.q.weight', 'decoder.block.18.layer.1.EncDecAttention.k.weight', 'decoder.block.21.layer.0.SelfAttention.k.weight', 'decoder.block.19.layer.1.layer_norm.weight', 'decoder.block.20.layer.1.EncDecAttention.o.weight', 'decoder.block.20.layer.2.layer_norm.weight', 'decoder.block.17.layer.1.EncDecAttention.k.weight', 'decoder.block.18.layer.0.SelfAttention.o.weight', 'decoder.block.7.layer.1.EncDecAttention.q.weight', 'decoder.block.12.layer.2.layer_norm.weight', 'decoder.block.18.layer.0.SelfAttention.k.weight', 'decoder.block.8.layer.0.SelfAttention.q.weight', 'decoder.block.22.layer.2.DenseReluDense.wo.weight', 'decoder.block.4.layer.1.layer_norm.weight', 'decoder.block.11.layer.1.layer_norm.weight', 'decoder.block.18.layer.2.DenseReluDense.wo.weight', 'decoder.block.14.layer.1.EncDecAttention.q.weight', 'decoder.block.2.layer.2.layer_norm.weight', 'decoder.block.10.layer.1.EncDecAttention.k.weight', 'decoder.block.19.layer.2.layer_norm.weight', 'decoder.block.21.layer.2.DenseReluDense.wo.weight', 'decoder.block.4.layer.2.layer_norm.weight', 'decoder.block.5.layer.1.EncDecAttention.o.weight', 'decoder.block.8.layer.1.EncDecAttention.o.weight', 'decoder.block.2.layer.1.EncDecAttention.q.weight', 'decoder.block.2.layer.1.EncDecAttention.k.weight', 'decoder.block.16.layer.1.layer_norm.weight', 'decoder.block.13.layer.2.DenseReluDense.wi.weight', 'decoder.block.22.layer.2.layer_norm.weight', 'decoder.block.1.layer.1.EncDecAttention.k.weight', 'decoder.block.17.layer.1.layer_norm.weight', 'decoder.block.5.layer.0.SelfAttention.o.weight', 'decoder.block.20.layer.1.EncDecAttention.q.weight', 'decoder.block.20.layer.1.EncDecAttention.v.weight', 'decoder.block.1.layer.2.DenseReluDense.wo.weight', 'decoder.block.19.layer.1.EncDecAttention.o.weight', 'decoder.block.7.layer.1.EncDecAttention.v.weight', 'decoder.block.0.layer.0.layer_norm.weight', 'decoder.block.15.layer.1.EncDecAttention.o.weight', 'decoder.block.14.layer.2.layer_norm.weight', 'decoder.block.4.layer.1.EncDecAttention.o.weight', 'decoder.block.7.layer.2.layer_norm.weight', 'decoder.block.10.layer.0.SelfAttention.q.weight', 'decoder.block.8.layer.0.SelfAttention.k.weight', 'decoder.block.4.layer.0.layer_norm.weight', 'decoder.block.11.layer.1.EncDecAttention.q.weight', 'decoder.block.19.layer.1.EncDecAttention.v.weight', 'decoder.block.10.layer.0.layer_norm.weight', 'decoder.block.19.layer.1.EncDecAttention.q.weight', 'decoder.block.12.layer.2.DenseReluDense.wo.weight', 'decoder.block.6.layer.1.EncDecAttention.v.weight', 'decoder.block.8.layer.2.DenseReluDense.wo.weight', 'decoder.block.3.layer.2.DenseReluDense.wo.weight', 'decoder.block.21.layer.2.DenseReluDense.wi.weight', 'decoder.block.21.layer.1.EncDecAttention.k.weight', 'decoder.block.6.layer.2.DenseReluDense.wi.weight', 'decoder.block.23.layer.0.layer_norm.weight', 'decoder.block.18.layer.0.SelfAttention.v.weight', 'decoder.block.14.layer.0.SelfAttention.k.weight', 'decoder.block.17.layer.2.DenseReluDense.wo.weight', 'decoder.block.8.layer.0.SelfAttention.v.weight', 'decoder.block.10.layer.0.SelfAttention.k.weight', 'decoder.block.23.layer.0.SelfAttention.v.weight', 'decoder.block.20.layer.0.SelfAttention.q.weight', 'decoder.block.2.layer.0.SelfAttention.v.weight', 'decoder.block.6.layer.1.layer_norm.weight', 'decoder.block.3.layer.2.layer_norm.weight', 'decoder.block.4.layer.2.DenseReluDense.wi.weight', 'decoder.block.11.layer.2.layer_norm.weight', 'decoder.block.0.layer.2.DenseReluDense.wo.weight', 'decoder.block.20.layer.0.SelfAttention.v.weight', 'decoder.block.14.layer.1.EncDecAttention.o.weight', 'decoder.block.11.layer.2.DenseReluDense.wo.weight', 'decoder.block.11.layer.0.layer_norm.weight', 'decoder.block.10.layer.0.SelfAttention.v.weight', 'decoder.block.13.layer.2.layer_norm.weight', 'decoder.block.3.layer.2.DenseReluDense.wi.weight', 'decoder.block.14.layer.0.layer_norm.weight', 'decoder.block.23.layer.1.EncDecAttention.v.weight', 'decoder.block.17.layer.0.SelfAttention.v.weight', 'decoder.block.23.layer.1.layer_norm.weight', 'decoder.block.1.layer.0.SelfAttention.q.weight', 'decoder.block.11.layer.1.EncDecAttention.o.weight', 'decoder.block.5.layer.0.SelfAttention.k.weight', 'decoder.block.3.layer.1.EncDecAttention.k.weight', 'decoder.block.5.layer.2.DenseReluDense.wi.weight', 'decoder.block.12.layer.1.EncDecAttention.q.weight', 'decoder.block.7.layer.2.DenseReluDense.wo.weight', 'decoder.block.3.layer.1.EncDecAttention.v.weight', 'decoder.block.3.layer.1.EncDecAttention.o.weight', 'decoder.block.0.layer.1.EncDecAttention.o.weight', 'decoder.block.3.layer.0.SelfAttention.o.weight', 'decoder.block.5.layer.2.DenseReluDense.wo.weight', 'decoder.block.3.layer.0.SelfAttention.v.weight', 'decoder.block.14.layer.2.DenseReluDense.wo.weight', 'decoder.block.17.layer.0.SelfAttention.o.weight', 'decoder.block.3.layer.0.layer_norm.weight', 'decoder.block.13.layer.1.EncDecAttention.q.weight', 'decoder.block.4.layer.1.EncDecAttention.q.weight', 'decoder.block.15.layer.1.EncDecAttention.k.weight', 'decoder.block.12.layer.1.layer_norm.weight', 'decoder.block.8.layer.0.layer_norm.weight', 'decoder.block.21.layer.0.layer_norm.weight', 'decoder.block.8.layer.1.EncDecAttention.q.weight', 'decoder.block.7.layer.1.EncDecAttention.k.weight', 'decoder.block.12.layer.0.SelfAttention.o.weight', 'decoder.block.5.layer.2.layer_norm.weight', 'decoder.block.7.layer.0.SelfAttention.o.weight', 'decoder.block.18.layer.2.DenseReluDense.wi.weight', 'decoder.block.15.layer.0.SelfAttention.o.weight', 'decoder.block.17.layer.1.EncDecAttention.o.weight', 'decoder.block.14.layer.1.layer_norm.weight', 'decoder.block.21.layer.1.EncDecAttention.o.weight', 'decoder.final_layer_norm.weight', 'decoder.block.18.layer.0.layer_norm.weight', 'decoder.block.19.layer.0.layer_norm.weight', 'decoder.block.8.layer.2.DenseReluDense.wi.weight', 'decoder.block.16.layer.2.layer_norm.weight', 'decoder.block.7.layer.0.SelfAttention.v.weight', 'decoder.block.17.layer.1.EncDecAttention.v.weight', 'decoder.block.18.layer.2.layer_norm.weight', 'decoder.block.2.layer.0.SelfAttention.k.weight', 'decoder.block.12.layer.1.EncDecAttention.v.weight', 'decoder.block.22.layer.0.SelfAttention.q.weight', 'decoder.block.2.layer.2.DenseReluDense.wo.weight', 'decoder.block.9.layer.0.SelfAttention.k.weight', 'decoder.block.9.layer.2.DenseReluDense.wi.weight', 'decoder.block.11.layer.2.DenseReluDense.wi.weight', 'decoder.block.12.layer.1.EncDecAttention.o.weight', 'decoder.block.13.layer.0.SelfAttention.o.weight', 'decoder.block.21.layer.0.SelfAttention.v.weight', 'decoder.block.0.layer.1.EncDecAttention.v.weight', 'decoder.block.12.layer.0.layer_norm.weight', 'decoder.block.22.layer.1.layer_norm.weight', 'decoder.block.22.layer.1.EncDecAttention.o.weight', 'decoder.block.7.layer.0.SelfAttention.q.weight', 'decoder.block.19.layer.0.SelfAttention.v.weight', 'decoder.block.2.layer.1.EncDecAttention.v.weight', 'decoder.block.22.layer.2.DenseReluDense.wi.weight', 'decoder.block.12.layer.0.SelfAttention.v.weight', 'decoder.block.9.layer.1.EncDecAttention.o.weight', 'decoder.block.15.layer.2.layer_norm.weight', 'decoder.block.7.layer.1.layer_norm.weight', 'decoder.block.18.layer.1.EncDecAttention.v.weight', 'decoder.block.3.layer.1.layer_norm.weight', 'decoder.block.22.layer.1.EncDecAttention.v.weight', 'decoder.block.0.layer.0.SelfAttention.v.weight', 'decoder.block.14.layer.0.SelfAttention.o.weight', 'decoder.block.1.layer.1.EncDecAttention.o.weight', 'decoder.block.14.layer.2.DenseReluDense.wi.weight', 'decoder.block.16.layer.0.SelfAttention.q.weight', 'decoder.block.20.layer.2.DenseReluDense.wo.weight', 'decoder.block.17.layer.0.layer_norm.weight', 'decoder.block.22.layer.0.SelfAttention.k.weight', 'decoder.block.1.layer.1.EncDecAttention.v.weight', 'decoder.block.22.layer.0.SelfAttention.o.weight', 'decoder.block.20.layer.0.SelfAttention.o.weight', 'decoder.block.21.layer.0.SelfAttention.q.weight', 'decoder.block.1.layer.0.layer_norm.weight', 'decoder.block.0.layer.1.layer_norm.weight', 'decoder.block.9.layer.2.DenseReluDense.wo.weight', 'decoder.block.16.layer.1.EncDecAttention.q.weight', 'decoder.block.18.layer.1.EncDecAttention.o.weight', 'decoder.block.10.layer.2.DenseReluDense.wi.weight', 'decoder.block.19.layer.0.SelfAttention.k.weight', 'decoder.embed_tokens.weight', 'decoder.block.22.layer.0.SelfAttention.v.weight', 'decoder.block.13.layer.0.SelfAttention.v.weight', 'decoder.block.3.layer.0.SelfAttention.k.weight', 'decoder.block.16.layer.2.DenseReluDense.wi.weight', 'decoder.block.11.layer.0.SelfAttention.v.weight', 'decoder.block.23.layer.2.DenseReluDense.wo.weight', 'decoder.block.5.layer.1.EncDecAttention.q.weight', 'decoder.block.17.layer.1.EncDecAttention.q.weight', 'decoder.block.7.layer.2.DenseReluDense.wi.weight', 'decoder.block.23.layer.0.SelfAttention.q.weight', 'decoder.block.1.layer.1.layer_norm.weight', 'decoder.block.3.layer.0.SelfAttention.q.weight', 'decoder.block.18.layer.1.EncDecAttention.q.weight', 'decoder.block.10.layer.0.SelfAttention.o.weight', 'decoder.block.22.layer.1.EncDecAttention.q.weight', 'decoder.block.15.layer.0.SelfAttention.k.weight', 'decoder.block.14.layer.1.EncDecAttention.k.weight', 'decoder.block.21.layer.1.layer_norm.weight', 'decoder.block.8.layer.1.EncDecAttention.v.weight', 'decoder.block.6.layer.0.SelfAttention.o.weight', 'decoder.block.1.layer.2.layer_norm.weight', 'decoder.block.17.layer.2.DenseReluDense.wi.weight', 'decoder.block.7.layer.0.SelfAttention.k.weight', 'decoder.block.22.layer.1.EncDecAttention.k.weight', 'decoder.block.2.layer.1.EncDecAttention.o.weight', 'decoder.block.20.layer.0.SelfAttention.k.weight', 'decoder.block.0.layer.2.layer_norm.weight', 'decoder.block.2.layer.2.DenseReluDense.wi.weight', 'decoder.block.11.layer.1.EncDecAttention.k.weight', 'decoder.block.6.layer.1.EncDecAttention.o.weight', 'decoder.block.5.layer.0.SelfAttention.q.weight', 'decoder.block.0.layer.0.SelfAttention.o.weight', 'decoder.block.16.layer.1.EncDecAttention.o.weight', 'decoder.block.17.layer.0.SelfAttention.q.weight', 'decoder.block.18.layer.1.layer_norm.weight', 'decoder.block.22.layer.0.layer_norm.weight', 'decoder.block.2.layer.0.layer_norm.weight', 'decoder.block.10.layer.1.EncDecAttention.v.weight', 'decoder.block.15.layer.0.SelfAttention.v.weight', 'decoder.block.15.layer.1.EncDecAttention.q.weight', 'decoder.block.18.layer.0.SelfAttention.q.weight', 'decoder.block.19.layer.0.SelfAttention.q.weight', 'decoder.block.14.layer.1.EncDecAttention.v.weight', 'decoder.block.14.layer.0.SelfAttention.v.weight', 'decoder.block.13.layer.1.layer_norm.weight', 'decoder.block.5.layer.1.layer_norm.weight', 'decoder.block.10.layer.2.layer_norm.weight', 'decoder.block.6.layer.0.SelfAttention.k.weight', 'decoder.block.16.layer.0.SelfAttention.o.weight', 'decoder.block.0.layer.0.SelfAttention.relative_attention_bias.weight', 'decoder.block.13.layer.0.SelfAttention.k.weight', 'decoder.block.1.layer.0.SelfAttention.v.weight', 'decoder.block.17.layer.2.layer_norm.weight', 'decoder.block.21.layer.0.SelfAttention.o.weight', 'decoder.block.23.layer.1.EncDecAttention.k.weight', 'decoder.block.8.layer.1.layer_norm.weight', 'decoder.block.10.layer.1.layer_norm.weight', 'decoder.block.12.layer.2.DenseReluDense.wi.weight', 'decoder.block.12.layer.0.SelfAttention.k.weight', 'decoder.block.9.layer.0.layer_norm.weight', 'decoder.block.14.layer.0.SelfAttention.q.weight', 'decoder.block.1.layer.0.SelfAttention.o.weight', 'decoder.block.19.layer.0.SelfAttention.o.weight', 'decoder.block.16.layer.2.DenseReluDense.wo.weight', 'decoder.block.20.layer.2.DenseReluDense.wi.weight', 'decoder.block.6.layer.0.SelfAttention.q.weight', 'decoder.block.17.layer.0.SelfAttention.k.weight', 'decoder.block.6.layer.0.layer_norm.weight', 'decoder.block.0.layer.1.EncDecAttention.q.weight', 'decoder.block.6.layer.0.SelfAttention.v.weight', 'decoder.block.4.layer.1.EncDecAttention.v.weight', 'decoder.block.6.layer.1.EncDecAttention.q.weight', 'decoder.block.0.layer.0.SelfAttention.q.weight', 'decoder.block.9.layer.1.EncDecAttention.k.weight', 'decoder.block.12.layer.0.SelfAttention.q.weight', 'decoder.block.3.layer.1.EncDecAttention.q.weight', 'decoder.block.9.layer.0.SelfAttention.v.weight', 'decoder.block.23.layer.0.SelfAttention.o.weight', 'decoder.block.4.layer.0.SelfAttention.q.weight', 'decoder.block.5.layer.0.SelfAttention.v.weight', 'decoder.block.13.layer.1.EncDecAttention.k.weight', 'decoder.block.15.layer.2.DenseReluDense.wo.weight', 'decoder.block.7.layer.0.layer_norm.weight', 'decoder.block.10.layer.1.EncDecAttention.q.weight', 'decoder.block.15.layer.1.layer_norm.weight', 'decoder.block.7.layer.1.EncDecAttention.o.weight', 'decoder.block.21.layer.1.EncDecAttention.v.weight', 'decoder.block.1.layer.2.DenseReluDense.wi.weight', 'decoder.block.9.layer.2.layer_norm.weight', 'decoder.block.1.layer.1.EncDecAttention.q.weight', 'decoder.block.15.layer.0.layer_norm.weight', 'decoder.block.23.layer.2.DenseReluDense.wi.weight', 'decoder.block.13.layer.0.SelfAttention.q.weight', 'decoder.block.16.layer.0.SelfAttention.k.weight', 'decoder.block.9.layer.1.layer_norm.weight', 'decoder.block.4.layer.1.EncDecAttention.k.weight', 'decoder.block.2.layer.0.SelfAttention.o.weight', 'decoder.block.9.layer.1.EncDecAttention.v.weight', 'decoder.block.21.layer.2.layer_norm.weight', 'decoder.block.12.layer.1.EncDecAttention.k.weight', 'decoder.block.4.layer.0.SelfAttention.v.weight', 'decoder.block.0.layer.2.DenseReluDense.wi.weight', 'decoder.block.15.layer.0.SelfAttention.q.weight', 'decoder.block.19.layer.2.DenseReluDense.wi.weight', 'decoder.block.16.layer.0.layer_norm.weight', 'decoder.block.23.layer.1.EncDecAttention.q.weight', 'decoder.block.4.layer.0.SelfAttention.o.weight', 'decoder.block.6.layer.2.DenseReluDense.wo.weight', 'decoder.block.21.layer.1.EncDecAttention.q.weight', 'decoder.block.6.layer.1.EncDecAttention.k.weight', 'decoder.block.8.layer.2.layer_norm.weight', 'decoder.block.8.layer.1.EncDecAttention.k.weight', 'decoder.block.20.layer.1.layer_norm.weight', 'decoder.block.15.layer.1.EncDecAttention.v.weight', 'decoder.block.9.layer.1.EncDecAttention.q.weight', 'decoder.block.6.layer.2.layer_norm.weight', 'decoder.block.11.layer.0.SelfAttention.o.weight', 'decoder.block.5.layer.1.EncDecAttention.v.weight', 'decoder.block.5.layer.0.layer_norm.weight', 'decoder.block.2.layer.1.layer_norm.weight', 'decoder.block.13.layer.0.layer_norm.weight', 'decoder.block.15.layer.2.DenseReluDense.wi.weight', 'decoder.block.23.layer.1.EncDecAttention.o.weight', 'lm_head.weight', 'decoder.block.13.layer.2.DenseReluDense.wo.weight', 'decoder.block.11.layer.1.EncDecAttention.v.weight', 'decoder.block.20.layer.0.layer_norm.weight', 'decoder.block.23.layer.2.layer_norm.weight', 'decoder.block.19.layer.2.DenseReluDense.wo.weight', 'decoder.block.8.layer.0.SelfAttention.o.weight', 'decoder.block.4.layer.2.DenseReluDense.wo.weight', 'decoder.block.23.layer.0.SelfAttention.k.weight', 'decoder.block.13.layer.1.EncDecAttention.o.weight', 'decoder.block.11.layer.0.SelfAttention.k.weight', 'decoder.block.13.layer.1.EncDecAttention.v.weight', 'decoder.block.11.layer.0.SelfAttention.q.weight', 'decoder.block.16.layer.0.SelfAttention.v.weight', 'decoder.block.20.layer.1.EncDecAttention.k.weight', 'decoder.block.0.layer.1.EncDecAttention.k.weight', 'decoder.block.2.layer.0.SelfAttention.q.weight', 'decoder.block.10.layer.1.EncDecAttention.o.weight', 'decoder.block.19.layer.1.EncDecAttention.k.weight', 'decoder.block.16.layer.1.EncDecAttention.v.weight', 'decoder.block.9.layer.0.SelfAttention.o.weight', 'decoder.block.1.layer.0.SelfAttention.k.weight', 'decoder.block.0.layer.0.SelfAttention.k.weight', 'decoder.block.5.layer.1.EncDecAttention.k.weight', 'decoder.block.16.layer.1.EncDecAttention.k.weight', 'decoder.block.10.layer.2.DenseReluDense.wo.weight']\n",
            "- This IS expected if you are initializing T5EncoderModel from the checkpoint of a model trained on another task or with another architecture (e.g. initializing a BertForSequenceClassification model from a BertForPreTraining model).\n",
            "- This IS NOT expected if you are initializing T5EncoderModel from the checkpoint of a model that you expect to be exactly identical (initializing a BertForSequenceClassification model from a BertForSequenceClassification model).\n"
          ]
        },
        {
          "output_type": "execute_result",
          "data": {
            "text/plain": [
              "1055"
            ]
          },
          "metadata": {},
          "execution_count": 16
        }
      ],
      "source": [
        "# Advanced\n",
        "tokenizer = T5Tokenizer.from_pretrained(\"Rostlab/prot_t5_xl_uniref50\", do_lower_case=False )\n",
        "model = T5EncoderModel.from_pretrained(\"Rostlab/prot_t5_xl_uniref50\")\n",
        "device = torch.device('cuda:0' if torch.cuda.is_available() else 'cpu')\n",
        "model = model.to(device)\n",
        "model = model.eval()\n",
        "gc.collect()"
      ]
    },
    {
      "cell_type": "markdown",
      "source": [
        "##Load DRGN / CPV mutations"
      ],
      "metadata": {
        "id": "_AObYgiLvyt2"
      }
    },
    {
      "cell_type": "markdown",
      "source": [
        "Find creation of sets here: [link text](https://colab.research.google.com/drive/1mhIHCpEekHNcFI8Ql9p79RSu1T4Y1iUl#scrollTo=CWNrIjS231bc)"
      ],
      "metadata": {
        "id": "FR-hTatftaR8"
      }
    },
    {
      "cell_type": "code",
      "source": [
        "DRGN = pd.read_csv('/content/drive/MyDrive/my_colab/3rdYear/datasets/DRGN_mutations.csv')"
      ],
      "metadata": {
        "id": "By4si9ROIiBn"
      },
      "execution_count": null,
      "outputs": []
    },
    {
      "cell_type": "code",
      "source": [
        "seq_all =[]\n",
        "for i, mut in DRGN.iterrows():\n",
        "  seq_all.append(mut['mut_sequence'])\n",
        "\n",
        "# Add spaces between Amino Acids\n",
        "seq_spaced = []\n",
        "for seq_single in seq_all:\n",
        "  temp = \" \".join(seq_single)\n",
        "  seq_spaced.append(temp)\n",
        "len_sequences = len(seq_spaced)"
      ],
      "metadata": {
        "id": "krM_lWoeIirg"
      },
      "execution_count": null,
      "outputs": []
    },
    {
      "cell_type": "code",
      "source": [
        "indices_to_excl = []\n",
        "seq_pooled = []\n",
        "count=0\n",
        "BATCH_FILE_SIZE = 2000\n",
        "for i in seq_spaced:\n",
        "    count+=1\n",
        "    #print('Length of sequence', len(i) )\n",
        "    ids = tokenizer.batch_encode_plus([i], add_special_tokens=True, padding='longest')\n",
        "    input_ids = torch.tensor(ids['input_ids']).to(device)\n",
        "    attention_mask = torch.tensor(ids['attention_mask']).to(device)\n",
        "    try:\n",
        "        with torch.no_grad():\n",
        "            embedding = model(input_ids=input_ids,attention_mask=attention_mask)\n",
        "        embedding = embedding.last_hidden_state.cpu().numpy()\n",
        "        \n",
        "        for seq_num in range(len(embedding)):\n",
        "            seq_len = (attention_mask[seq_num] == 1).sum()\n",
        "            seq_emd = embedding[seq_num][:seq_len-1]\n",
        "            # seq_emd = embedding[seq_num]\n",
        "            # print('After cropping: ', seq_emd.shape)\n",
        "            seq_temp = torch.tensor(seq_emd)\n",
        "            #seq_emd_pooled = m(seq_temp)\n",
        "            #print('After maxpooling:', seq_emd_pooled.shape)\n",
        "        \n",
        "        seq_pooled.append(seq_temp)\n",
        "        \n",
        "        if not count % BATCH_FILE_SIZE:\n",
        "            print('Count is:', count)\n",
        "            print('Seq_pooled size is:', len(seq_pooled))\n",
        "            with open(f'/content/drive/MyDrive/my_colab/3rdYear/ProTrans/prott5_DRGN_{int(count/BATCH_FILE_SIZE)}.pickle', 'wb') as handle:\n",
        "                print('count/batch:' , int(count/BATCH_FILE_SIZE))\n",
        "                pickle.dump(seq_pooled, handle)\n",
        "            seq_pooled = []\n",
        "        \n",
        "    except:\n",
        "        indices_to_excl.append(count - 1)\n",
        "\n",
        "\n",
        "if count % BATCH_FILE_SIZE: # for last sequences \n",
        "    with open(f'/content/drive/MyDrive/my_colab/3rdYear/ProTrans/prott5_DRGN_{math.ceil(count/BATCH_FILE_SIZE)}.pickle', 'wb') as handle:\n",
        "        pickle.dump(seq_pooled, handle)  \n",
        "print(len(seq_pooled))\n",
        "\n",
        "\n",
        "with open('/content/drive/MyDrive/my_colab/3rdYear/ProTrans/prott5_DRGN_indices_to_excl.pickle', 'wb') as handle:\n",
        "    pickle.dump(indices_to_excl, handle)"
      ],
      "metadata": {
        "colab": {
          "base_uri": "https://localhost:8080/"
        },
        "id": "YeU7Vb5lINc_",
        "outputId": "03c6b770-80c5-4d0d-cc8c-4a8401bd9fad"
      },
      "execution_count": null,
      "outputs": [
        {
          "output_type": "stream",
          "name": "stdout",
          "text": [
            "Count is: 2000\n",
            "Seq_pooled size is: 1990\n",
            "count/batch: 1\n",
            "1631\n"
          ]
        }
      ]
    },
    {
      "cell_type": "code",
      "source": [
        "CPV = pd.read_csv('/content/drive/MyDrive/my_colab/3rdYear/datasets/CPV_mutations.csv')"
      ],
      "metadata": {
        "id": "YYUU5rCgIiIG"
      },
      "execution_count": null,
      "outputs": []
    },
    {
      "cell_type": "code",
      "source": [
        "seq_all =[]\n",
        "for i, mut in CPV.iterrows():\n",
        "  seq_all.append(mut['mut_sequence'])\n",
        "\n",
        "# Add spaces between Amino Acids\n",
        "seq_spaced = []\n",
        "for seq_single in seq_all:\n",
        "  temp = \" \".join(seq_single)\n",
        "  seq_spaced.append(temp)\n",
        "len_sequences = len(seq_spaced)\n",
        "#m = nn.MaxPool1d(50) #, ceil_mode=True) # Max Pooling for reduction of features from 1024 to 20 per AA, and to 25"
      ],
      "metadata": {
        "id": "th-4MRN6vyCw"
      },
      "execution_count": null,
      "outputs": []
    },
    {
      "cell_type": "code",
      "source": [
        "indices_to_excl = []\n",
        "seq_pooled = []\n",
        "count=0\n",
        "BATCH_FILE_SIZE = 2000\n",
        "for i in seq_spaced:\n",
        "    count+=1\n",
        "    #print('Length of sequence', len(i) )\n",
        "    ids = tokenizer.batch_encode_plus([i], add_special_tokens=True, padding='longest')\n",
        "    input_ids = torch.tensor(ids['input_ids']).to(device)\n",
        "    attention_mask = torch.tensor(ids['attention_mask']).to(device)\n",
        "    try:\n",
        "        with torch.no_grad():\n",
        "            embedding = model(input_ids=input_ids,attention_mask=attention_mask)\n",
        "        embedding = embedding.last_hidden_state.cpu().numpy()\n",
        "        \n",
        "        for seq_num in range(len(embedding)):\n",
        "            seq_len = (attention_mask[seq_num] == 1).sum()\n",
        "            seq_emd = embedding[seq_num][:seq_len-1]\n",
        "            seq_temp = torch.tensor(seq_emd)\n",
        "            #seq_emd_pooled = m(seq_temp)\n",
        "        seq_pooled.append(seq_temp)\n",
        "\n",
        "        if not count % BATCH_FILE_SIZE:\n",
        "            print('Count is:', count)\n",
        "            print('Seq_pooled size is:', len(seq_pooled))\n",
        "            with open(f'/content/drive/MyDrive/my_colab/3rdYear/ProTrans/prott5_CPV_{int(count/BATCH_FILE_SIZE)}.pickle', 'wb') as handle:\n",
        "                print('count/batch:' , int(count/BATCH_FILE_SIZE))\n",
        "                pickle.dump(seq_pooled, handle)\n",
        "            seq_pooled = []\n",
        "        \n",
        "    except:\n",
        "        indices_to_excl.append(count - 1)\n",
        "\n",
        "\n",
        "if count % BATCH_FILE_SIZE: # for last sequences \n",
        "    with open(f'/content/drive/MyDrive/my_colab/3rdYear/ProTrans/prott5_CPV_{math.ceil(count/BATCH_FILE_SIZE)}.pickle', 'wb') as handle:\n",
        "        pickle.dump(seq_pooled, handle)  \n",
        "print(len(seq_pooled))\n",
        "\n",
        "\n",
        "with open('/content/drive/MyDrive/my_colab/3rdYear/ProTrans/prott5_CPV_indices_to_excl.pickle', 'wb') as handle:\n",
        "    pickle.dump(indices_to_excl, handle)"
      ],
      "metadata": {
        "colab": {
          "base_uri": "https://localhost:8080/"
        },
        "id": "x3hsgmHWqJvX",
        "outputId": "0e188de1-90c6-4fc5-9e35-7d638677c892"
      },
      "execution_count": null,
      "outputs": [
        {
          "output_type": "stream",
          "name": "stdout",
          "text": [
            "238\n"
          ]
        }
      ]
    },
    {
      "cell_type": "markdown",
      "source": [
        "# Tier1_2_3_CGI_humsavar"
      ],
      "metadata": {
        "id": "N-bOxwmowlKx"
      }
    },
    {
      "cell_type": "markdown",
      "source": [
        "Load Tier1_2_3_CGI_humsavar mutations. Find creation of set here: [link text](https://colab.research.google.com/drive/1mhIHCpEekHNcFI8Ql9p79RSu1T4Y1iUl#scrollTo=CWNrIjS231bc)"
      ],
      "metadata": {
        "id": "TY7Gg5gSvvfQ"
      }
    },
    {
      "cell_type": "code",
      "source": [
        "Tier1_2_3_CGI_humsavar =pd.read_csv('/content/drive/MyDrive/my_colab/3rdYear/datasets/Tier1_2_3_CGI_humsavar.csv')\n",
        "Tier1_2_3_CGI_humsavar = Tier1_2_3_CGI_humsavar.sort_values(by='uniprot') "
      ],
      "metadata": {
        "id": "DgoMAwpG3Hgu"
      },
      "execution_count": null,
      "outputs": []
    },
    {
      "cell_type": "markdown",
      "source": [
        "## Calculate prot5 representations"
      ],
      "metadata": {
        "id": "LQGfau-3IXG9"
      }
    },
    {
      "cell_type": "code",
      "source": [
        "seq_all =[]\n",
        "for i, mut in Tier1_2_3_CGI_humsavar.iterrows():\n",
        "  seq_all.append(mut['mut_sequence'])\n",
        "\n",
        "# Add spaces between Amino Acids\n",
        "seq_spaced = []\n",
        "for seq_single in seq_all:\n",
        "  temp = \" \".join(seq_single)\n",
        "  seq_spaced.append(temp)\n",
        "len_sequences = len(seq_spaced)"
      ],
      "metadata": {
        "id": "YBC8uhmyvy8G"
      },
      "execution_count": null,
      "outputs": []
    },
    {
      "cell_type": "code",
      "source": [
        "indices_to_excl = []\n",
        "seq_pooled = []\n",
        "count=0\n",
        "BATCH_FILE_SIZE = 2000\n",
        "for i in seq_spaced:\n",
        "    count+=1\n",
        "    #print('Length of sequence', len(i) )\n",
        "    ids = tokenizer.batch_encode_plus([i], add_special_tokens=True, padding='longest')\n",
        "    input_ids = torch.tensor(ids['input_ids']).to(device)\n",
        "    attention_mask = torch.tensor(ids['attention_mask']).to(device)\n",
        "    try:\n",
        "        with torch.no_grad():\n",
        "            embedding = model(input_ids=input_ids,attention_mask=attention_mask)\n",
        "        embedding = embedding.last_hidden_state.cpu().numpy()\n",
        "        \n",
        "        for seq_num in range(len(embedding)):\n",
        "            seq_len = (attention_mask[seq_num] == 1).sum()\n",
        "            seq_emd = embedding[seq_num][:seq_len-1]\n",
        "            seq_temp = torch.tensor(seq_emd)\n",
        "        seq_pooled.append(seq_temp)\n",
        "        \n",
        "        if not count % BATCH_FILE_SIZE:\n",
        "            print('Count is:', count)\n",
        "            print('Seq_pooled size is:', len(seq_pooled))\n",
        "            with open(f'/content/drive/MyDrive/my_colab/3rdYear/ProTrans/prott5_Tier1_2_3_CGI_humsavar_{int(count/BATCH_FILE_SIZE)}.pickle', 'wb') as handle:\n",
        "                print('count/batch:' , int(count/BATCH_FILE_SIZE))\n",
        "                pickle.dump(seq_pooled, handle)\n",
        "            seq_pooled = []\n",
        "        \n",
        "    except:\n",
        "        indices_to_excl.append(count - 1)\n",
        "\n",
        "\n",
        "if count % BATCH_FILE_SIZE: # for last sequences \n",
        "    with open(f'/content/drive/MyDrive/my_colab/3rdYear/ProTrans/prott5_Tier1_2_3_CGI_humsavar_{math.ceil(count/BATCH_FILE_SIZE)}.pickle', 'wb') as handle:\n",
        "        pickle.dump(seq_pooled, handle)  \n",
        "print(len(seq_pooled))\n",
        "\n",
        "\n",
        "with open('/content/drive/MyDrive/my_colab/3rdYear/ProTrans/prott5_Tier1_2_3_CGI_humsavar_indices_to_excl.pickle', 'wb') as handle:\n",
        "    pickle.dump(indices_to_excl, handle)"
      ],
      "metadata": {
        "colab": {
          "base_uri": "https://localhost:8080/"
        },
        "id": "fCxCj-u2vy-_",
        "outputId": "5301e0f5-0d11-47cc-ca58-a3def307a7a0"
      },
      "execution_count": null,
      "outputs": [
        {
          "output_type": "stream",
          "name": "stdout",
          "text": [
            "Count is: 2000\n",
            "Seq_pooled size is: 1966\n",
            "count/batch: 1\n",
            "Count is: 4000\n",
            "Seq_pooled size is: 1949\n",
            "count/batch: 2\n",
            "Count is: 6000\n",
            "Seq_pooled size is: 1980\n",
            "count/batch: 3\n",
            "Count is: 8000\n",
            "Seq_pooled size is: 1868\n",
            "count/batch: 4\n",
            "Count is: 10000\n",
            "Seq_pooled size is: 1831\n",
            "count/batch: 5\n",
            "236\n"
          ]
        }
      ]
    },
    {
      "cell_type": "markdown",
      "source": [
        "## Exclude DRGN and CPV mutations"
      ],
      "metadata": {
        "id": "_rVo6vI5tYrp"
      }
    },
    {
      "cell_type": "code",
      "source": [
        "with open('/content/drive/MyDrive/my_colab/3rdYear/ProTrans/prott5_Tier1_2_3_CGI_humsavar_indices_to_excl.pickle', 'rb') as handle:\n",
        "    indices_to_excl = pickle.load(handle)"
      ],
      "metadata": {
        "id": "jPzxuuHn5Ssg"
      },
      "execution_count": null,
      "outputs": []
    },
    {
      "cell_type": "code",
      "source": [
        "Tier1_2_3_CGI_humsavar = Tier1_2_3_CGI_humsavar.reset_index(drop=True)\n",
        "Tier1_2_3_CGI_humsavar = Tier1_2_3_CGI_humsavar.drop(Tier1_2_3_CGI_humsavar.index[indices_to_excl])"
      ],
      "metadata": {
        "id": "HNrOOcl34Z5K"
      },
      "execution_count": null,
      "outputs": []
    },
    {
      "cell_type": "code",
      "source": [
        "ind_exc = []\n",
        "Tier1_2_3_CGI_humsavar = Tier1_2_3_CGI_humsavar.reset_index(drop=True)\n",
        "for i, mut in Tier1_2_3_CGI_humsavar.iterrows():\n",
        "  found = False\n",
        "  uniprot = mut['uniprot']\n",
        "  temp_df = DRGN[DRGN['uniprot id'] == uniprot]\n",
        "  for k, mu2 in temp_df.iterrows():\n",
        "    if mu2['position'] == mut['position'] and mu2['AA_targ'] == mut['AA_targ'] :\n",
        "      ind_exc.append(i)\n",
        "      found = True\n",
        "      break\n",
        "\n",
        "  if found == False:    \n",
        "    temp_cpv = CPV[CPV['uniprot id'] == uniprot]\n",
        "    for k, mu2 in temp_cpv.iterrows():\n",
        "      if mu2['position'] == mut['position'] and mu2['AA_targ'] == mut['AA_targ'] :\n",
        "        ind_exc.append(i)\n",
        "        found = True\n",
        "        break"
      ],
      "metadata": {
        "id": "uMuCwpM5xLSh"
      },
      "execution_count": null,
      "outputs": []
    },
    {
      "cell_type": "code",
      "source": [
        "# Remove sequences bigger than 2000AA\n",
        "ind_2000AA = []\n",
        "for i, mut in Tier1_2_3_CGI_humsavar.iterrows():\n",
        "  if len(mut['mut_sequence']) > 2000:\n",
        "    ind_2000AA.append(i)"
      ],
      "metadata": {
        "id": "zmrnuuaH4-P_"
      },
      "execution_count": null,
      "outputs": []
    },
    {
      "cell_type": "code",
      "source": [
        "ind_all = list(set(ind_exc + ind_2000AA))\n",
        "Tier1_2_3_CGI_humsavar = Tier1_2_3_CGI_humsavar.drop(Tier1_2_3_CGI_humsavar.index[ind_all])\n",
        "Tier1_2_3_CGI_humsavar = Tier1_2_3_CGI_humsavar.reset_index(drop=True)"
      ],
      "metadata": {
        "id": "stUjxzSX6EL-"
      },
      "execution_count": null,
      "outputs": []
    },
    {
      "cell_type": "code",
      "source": [
        "seq_all_nocrop = []\n",
        "gc.collect()\n",
        "#count = -1 # used to exclude DRGN and CPV sequences\n",
        "for k in range(1, 7):\n",
        "  with open(f'/content/drive/MyDrive/my_colab/3rdYear/ProTrans/prott5_Tier1_2_3_CGI_humsavar_{k}.pickle','rb') as file_handle:\n",
        "    file_temp = pickle.load(file_handle) # load the sequences of one batch (2000)\n",
        "\n",
        "    seq_temp = []\n",
        "    for seq in file_temp:\n",
        "      #count+=1\n",
        "      #if count in ind_all: # for excluding the GDRN / CPV\n",
        "        #print('count :', count)\n",
        "      #  continue\n",
        "      AA_seq_temp = []\n",
        "      for AA in seq:\n",
        "        AA_seq_temp.append(torch.mean(AA))\n",
        "      seq_temp.append(AA_seq_temp)\n",
        "    seq_all_nocrop = seq_all_nocrop + seq_temp\n",
        "    del file_temp, seq_temp, AA_seq_temp\n",
        "    gc.collect()"
      ],
      "metadata": {
        "id": "U20DlatEw--C"
      },
      "execution_count": null,
      "outputs": []
    },
    {
      "cell_type": "code",
      "source": [
        "print(len(seq_all_nocrop), len(seq_all_nocrop[2]))"
      ],
      "metadata": {
        "colab": {
          "base_uri": "https://localhost:8080/"
        },
        "id": "9f1YTMayc0Oe",
        "outputId": "b11afa24-5b3b-424d-9be0-0efc034546d8"
      },
      "execution_count": null,
      "outputs": [
        {
          "output_type": "stream",
          "name": "stdout",
          "text": [
            "9830 756\n"
          ]
        }
      ]
    },
    {
      "cell_type": "code",
      "source": [
        "# Pad to 2000 AA\n",
        "seq_all_cropped = []\n",
        "for seq_single in seq_all_nocrop:\n",
        "  seq_single = torch.tensor(seq_single)\n",
        "\n",
        "  to_pad = 2000 - len(seq_single) \n",
        "  seq_all_cropped.append(F.pad(input=seq_single, pad=(0, to_pad), mode='constant', value=0))"
      ],
      "metadata": {
        "id": "Ha92LEOn11on"
      },
      "execution_count": null,
      "outputs": []
    },
    {
      "cell_type": "code",
      "source": [
        "del seq_all_nocrop\n",
        "gc.collect()\n",
        "seq_cropped_flat = []\n",
        "for i in seq_all_cropped:\n",
        "  seq_cropped_flat.append(torch.flatten(i))\n",
        "\n",
        "del seq_all_cropped\n",
        "gc.collect()\n",
        "stacked_tensor_flat = torch.stack(seq_cropped_flat)\n",
        "print(stacked_tensor_flat.shape)\n",
        "del seq_cropped_flat\n",
        "gc.collect()"
      ],
      "metadata": {
        "colab": {
          "base_uri": "https://localhost:8080/"
        },
        "id": "jL8IstdTL5Bs",
        "outputId": "ab6b33e1-496d-49aa-e325-17d226ae185f"
      },
      "execution_count": null,
      "outputs": [
        {
          "output_type": "stream",
          "name": "stdout",
          "text": [
            "torch.Size([9830, 2000])\n"
          ]
        },
        {
          "output_type": "execute_result",
          "data": {
            "text/plain": [
              "0"
            ]
          },
          "metadata": {},
          "execution_count": 25
        }
      ]
    },
    {
      "cell_type": "markdown",
      "source": [
        "## Create Training set"
      ],
      "metadata": {
        "id": "lXYUBRafw7F7"
      }
    },
    {
      "cell_type": "code",
      "source": [
        "# seperate inputs and outputs\n",
        "X = stacked_tensor_flat\n",
        "y = Tier1_2_3_CGI_humsavar['label']\n",
        "mu_all = Tier1_2_3_CGI_humsavar['AA_orig']+ Tier1_2_3_CGI_humsavar['position'].astype(str)+Tier1_2_3_CGI_humsavar['AA_targ']\n",
        "\n",
        "# Split, shuffle and stratify sequences, mutations, proteins and label\n",
        "X_train, X_test, y_train, y_test, mu_all_train, mu_all_test , prot_all_train, prot_all_test = train_test_split(X, y, mu_all, Tier1_2_3_CGI_humsavar['uniprot'], test_size=0.1, stratify=y, random_state=69)\n",
        "# Split train into train-val\n",
        "#X_train, X_val, y_train, y_val, mu_all_train, mu_all_val, prot_all_train, prot_all_val = train_test_split(X_trainval, y_trainval, mu_all_trainval, prot_all_trainval, test_size=0.1, stratify=y_trainval, random_state=21)  \n",
        "\n",
        "# Normalize\n",
        "scaler = MinMaxScaler()\n",
        "X_train = scaler.fit_transform(X_train)\n",
        "X_test = scaler.transform(X_test)\n",
        "\n",
        "X_train, y_train = np.array(X_train), np.array(y_train)\n",
        "X_test, y_test = np.array(X_test), np.array(y_test)\n",
        "\n",
        "del stacked_tensor_flat, X\n",
        "gc.collect()"
      ],
      "metadata": {
        "colab": {
          "base_uri": "https://localhost:8080/"
        },
        "id": "Nj8z-SBEvPj4",
        "outputId": "fd6c5320-e63c-4ef5-8de0-57ac010ffe48"
      },
      "execution_count": null,
      "outputs": [
        {
          "output_type": "execute_result",
          "data": {
            "text/plain": [
              "0"
            ]
          },
          "metadata": {},
          "execution_count": 26
        }
      ]
    },
    {
      "cell_type": "code",
      "source": [
        "train_dataset = ClassifierDataset(torch.from_numpy(X_train).float(), torch.from_numpy(y_train).long())\n",
        "val_dataset = ClassifierDataset(torch.from_numpy(X_test).float(), torch.from_numpy(y_test).long())\n",
        "\n",
        "fig, axes = plt.subplots(nrows=1, ncols=2, figsize=(25,7))# Train\n",
        "sns.barplot(data = pd.DataFrame.from_dict([get_class_distribution_binary(y_train)]).melt(), x = \"variable\", y=\"value\", hue=\"variable\",  ax=axes[0]).set_title('Class Distribution in Train Set')# Validation\n",
        "sns.barplot(data = pd.DataFrame.from_dict([get_class_distribution_binary(y_test)]).melt(), x = \"variable\", y=\"value\", hue=\"variable\",  ax=axes[1]).set_title('Class Distribution in Val Set')"
      ],
      "metadata": {
        "colab": {
          "base_uri": "https://localhost:8080/",
          "height": 477
        },
        "id": "5XuMJweXvPms",
        "outputId": "aca660da-6e92-42bc-f7ba-d17b395de263"
      },
      "execution_count": null,
      "outputs": [
        {
          "output_type": "execute_result",
          "data": {
            "text/plain": [
              "Text(0.5, 1.0, 'Class Distribution in Val Set')"
            ]
          },
          "metadata": {},
          "execution_count": 27
        },
        {
          "output_type": "display_data",
          "data": {
            "text/plain": [
              "<Figure size 1800x504 with 2 Axes>"
            ],
            "image/png": "[encoded data removed]"
          },
          "metadata": {
            "needs_background": "light"
          }
        }
      ]
    },
    {
      "cell_type": "code",
      "source": [
        "BATCH_SIZE=64\n",
        "train_loader = DataLoader(dataset=train_dataset,\n",
        "                          batch_size=BATCH_SIZE, \n",
        "                          drop_last=True)\n",
        "val_loader = DataLoader(dataset=val_dataset, batch_size=64, drop_last=True)\n",
        "\n",
        "device = torch.device(\"cuda:0\" if torch.cuda.is_available() else \"cpu\")"
      ],
      "metadata": {
        "id": "U-UsKzANvPox"
      },
      "execution_count": null,
      "outputs": []
    },
    {
      "cell_type": "code",
      "source": [
        "# Set fixed random number seed\n",
        "torch.manual_seed(42)\n",
        "TRAIN_BATCH_SIZE = 64\n",
        "epochs =40\n",
        "lr = 1e-5\n",
        "\n",
        "h = 128\n",
        "warmup=0.2\n",
        "\n",
        "my_net = Classifier(h, 0.2).to(device)\n",
        "#my_net = Classifier(h, 0.3).to(device)\n",
        "\n",
        "my_net.apply(init_weights)\n",
        "#1st way for optimizer\n",
        "optimizer = optim.AdamW(my_net.parameters(), lr=lr)#, weight_decay=0.001)\n",
        "total_steps = len(X_train)/BATCH_SIZE\n",
        "warmup_steps = math.floor(total_steps * warmup)\n",
        "warmup_steps = math.floor(total_steps * warmup)\n",
        "scheduler = get_cosine_schedule_with_warmup(optimizer, warmup_steps, total_steps)\n",
        "\n",
        "loss, acc = train_net(my_net, train_loader, val_loader, loss_fn, optimizer, epochs, scheduler)\n",
        "\n",
        "plt.rcParams[\"figure.figsize\"] = (15,5)\n",
        "sns.set()\n",
        "# plot train/validation loss curves\n",
        "plt.subplot(1, 2, 1)\n",
        "plt.plot(loss[0])\n",
        "plt.plot(loss[1])\n",
        "plt.xlabel('Epochs')\n",
        "plt.ylabel('Loss')\n",
        "plt.title(f'Learning rate: {lr}, hidden : {h}')\n",
        "plt.legend(('Train', 'Validation'))\n",
        "#plt.title(f'Learning rate: {lr}, hidden : {h}, hidden2: {h2}')\n",
        "\n",
        "plt.subplot(1, 2, 2)\n",
        "plt.plot(acc[0])\n",
        "plt.plot(acc[1])\n",
        "plt.xlabel('Epochs')\n",
        "plt.ylabel('Accuracy')\n",
        "plt.legend(('Train', 'Validation'))\n",
        "plt.show()"
      ],
      "metadata": {
        "colab": {
          "base_uri": "https://localhost:8080/",
          "height": 817,
          "referenced_widgets": [
            "58f03395fed74c6bb019ea395c74efcc",
            "d8747fce988e4eea82eb51b246f7aab5",
            "9730a94cd3c84032abb5f529b51cf8a5",
            "6f31dad3afa0440797c5cb43ac0ac510",
            "917bca7b754b4c6c98cdae6d8822c3d2",
            "15d3c6e36e8041da88a65356754771a0",
            "b3a0442dbb104ad680dc70506f20a069",
            "f5a72d274ec642a7a7b88f8354333c24",
            "00a7994f852449e085dd890addea7cd4",
            "e6a44153919640bf9c150472bf0b458c",
            "86c4c2ed2ef344b19b11bf184110d539"
          ]
        },
        "id": "8sez8Z3kNe76",
        "outputId": "2089ca38-3bcf-436e-9d3b-20e2edeadd79"
      },
      "execution_count": null,
      "outputs": [
        {
          "output_type": "stream",
          "name": "stdout",
          "text": [
            "Begin training.\n"
          ]
        },
        {
          "output_type": "display_data",
          "data": {
            "text/plain": [
              "  0%|          | 0/40 [00:00<?, ?it/s]"
            ],
            "application/vnd.jupyter.widget-view+json": {
              "version_major": 2,
              "version_minor": 0,
              "model_id": "58f03395fed74c6bb019ea395c74efcc"
            }
          },
          "metadata": {}
        },
        {
          "output_type": "stream",
          "name": "stdout",
          "text": [
            "[[0.5029656887054443], [0.4982428550720215], [0.5131794810295105], [0.5498263239860535], [0.51606285572052], [0.5253821611404419], [0.5353044867515564], [0.5004652142524719], [0.4875431954860687], [0.5166440606117249], [0.493082195520401], [0.5028319358825684], [0.49247226119041443], [0.5174511075019836], [0.505357563495636], [0.5067814588546753], [0.5189477205276489], [0.5078957676887512], [0.487374484539032], [0.5651715397834778], [0.5164029002189636], [0.49797725677490234], [0.4976867735385895], [0.5019675493240356], [0.49409082531929016], [0.5383560657501221], [0.5185635685920715], [0.5085482001304626], [0.5319022536277771], [0.5020603537559509], [0.509082555770874], [0.4340960681438446], [0.4962444305419922], [0.532508134841919], [0.5258751511573792], [0.5184453725814819], [0.5230602622032166], [0.5386571288108826], [0.5001348257064819], [0.5125254988670349], [0.5229385495185852], [0.5465768575668335], [0.4972681999206543], [0.5019422173500061], [0.5091131329536438], [0.5121270418167114], [0.49770596623420715], [0.5314549207687378], [0.4880032539367676], [0.5202437043190002], [0.5037763714790344], [0.5057384371757507], [0.5051416158676147], [0.49741432070732117], [0.5273842811584473], [0.5138672590255737], [0.516226053237915], [0.4875631630420685], [0.5153727531433105], [0.5018013119697571], [0.4921647310256958], [0.5305615663528442], [0.5052423477172852], [0.510564386844635], [0.5014654397964478], [0.48857444524765015], [0.5583095550537109], [0.5167998671531677], [0.5196675062179565], [0.48524776101112366], [0.49104854464530945], [0.49664556980133057], [0.5290996432304382], [0.5085425972938538], [0.5101215839385986], [0.5182307362556458], [0.5198972225189209], [0.5309235453605652], [0.5329105854034424], [0.49928292632102966], [0.46069833636283875], [0.4993334412574768], [0.5178907513618469], [0.49603191018104553], [0.502443253993988], [0.5347810983657837], [0.4437534213066101], [0.531396210193634], [0.49831780791282654], [0.49789366126060486], [0.4918229579925537], [0.46196845173835754], [0.5039067268371582], [0.4928229749202728], [0.5106858611106873], [0.5106051564216614], [0.5075681805610657], [0.5225206613540649], [0.5203583240509033], [0.5087023973464966], [0.5176728963851929], [0.5005158185958862], [0.5158980488777161], [0.49135538935661316], [0.5156988501548767], [0.5102666616439819], [0.518588662147522], [0.5646317005157471], [0.574830174446106], [0.4915468096733093], [0.490797221660614], [0.4995541274547577], [0.4973457157611847], [0.4835231900215149], [0.4937072694301605], [0.49334967136383057], [0.5092938542366028], [0.5080815553665161], [0.5239928364753723], [0.5008459091186523], [0.5004903674125671], [0.5345932245254517], [0.5027168393135071], [0.5016574859619141], [0.5177357196807861], [0.5089881420135498], [0.5033387541770935], [0.495950847864151], [0.49993956089019775], [0.5081756114959717], [0.49789467453956604], [0.50876384973526], [0.48408544063568115], [0.4997401535511017], [0.4980758726596832], [0.5082980990409851], [0.5007652640342712], [0.5336302518844604], [0.4908372461795807], [0.4784609079360962], [0.49166837334632874], [0.5110468864440918], [0.4959631860256195], [0.4908182919025421], [0.5378430485725403], [0.5493624806404114], [0.5339167714118958], [0.4990312159061432], [0.49997156858444214], [0.5129126310348511], [0.49681323766708374], [0.5156397223472595], [0.5219480395317078], [0.5259162783622742], [0.5121327638626099], [0.43409428000450134], [0.5092636942863464], [0.5238050818443298], [0.49302318692207336], [0.49772804975509644], [0.5007830858230591], [0.5306165218353271], [0.4951455891132355], [0.50901198387146], [0.5217318534851074], [0.5192905068397522], [0.5221974849700928], [0.5104593634605408], [0.5282172560691833], [0.4616633653640747], [0.4980476200580597], [0.5337456464767456], [0.5005034804344177], [0.5300033688545227], [0.5001667141914368], [0.4918077290058136], [0.5344054698944092], [0.50318843126297], [0.5578101873397827], [0.5653592944145203], [0.5061860084533691], [0.4743909537792206], [0.5092637538909912], [0.5000810027122498], [0.5065354108810425], [0.5187031626701355], [0.4964909553527832], [0.49987760186195374], [0.49052849411964417], [0.5075554251670837], [0.518654465675354], [0.5375903248786926], [0.4952043294906616], [0.4994279742240906], [0.4972418248653412], [0.5082314610481262], [0.5182652473449707], [0.5202040076255798], [0.5052929520606995], [0.533730149269104], [0.515810489654541], [0.5067682266235352], [0.4873771071434021], [0.5055912733078003], [0.5357065796852112], [0.5089245438575745], [0.5048978924751282], [0.5155468583106995], [0.539246678352356], [0.5403074622154236], [0.49598053097724915], [0.5127670764923096], [0.503561794757843], [0.4828025698661804], [0.5046500563621521], [0.49936917424201965], [0.5313757658004761], [0.5184360146522522], [0.5196212530136108], [0.4966404139995575], [0.5075392127037048], [0.5284801721572876], [0.5103738307952881], [0.49234282970428467], [0.4894978106021881], [0.5388562083244324], [0.5582658648490906], [0.4969462752342224], [0.4923537075519562], [0.5146639347076416], [0.519368588924408], [0.48863887786865234], [0.5204604864120483], [0.5064572095870972], [0.5009180307388306], [0.4997088313102722], [0.5153405666351318], [0.5339531302452087], [0.5208655595779419], [0.4914061725139618], [0.4337804615497589], [0.5176531672477722], [0.5045052766799927], [0.5337342023849487], [0.5106312036514282], [0.55043625831604], [0.4968404173851013], [0.49153372645378113], [0.5188342928886414], [0.5392723083496094], [0.49930182099342346], [0.49738720059394836], [0.5229297280311584], [0.5097977519035339], [0.49274516105651855], [0.49221745133399963], [0.526428759098053], [0.4937928318977356], [0.5109276175498962], [0.5185569524765015], [0.5084594488143921], [0.5166584849357605], [0.5392376184463501], [0.5085453987121582], [0.5258872509002686], [0.5234042406082153], [0.5028361678123474], [0.4962809979915619], [0.5379648804664612], [0.5187732577323914], [0.4927253723144531], [0.49701786041259766], [0.4714915156364441], [0.5271003842353821], [0.49816522002220154], [0.5252262353897095], [0.49475765228271484], [0.49926531314849854], [0.517188549041748], [0.5012375712394714], [0.4561406970024109], [0.5132843255996704], [0.5340434908866882], [0.535406231880188], [0.499080091714859], [0.5008119940757751], [0.5095627307891846], [0.49274423718452454], [0.49529555439949036], [0.5090588331222534], [0.49969416856765747], [0.5010480284690857], [0.49633005261421204], [0.5094137191772461], [0.4958738684654236], [0.508912980556488], [0.4435233473777771], [0.5497114062309265], [0.5255060195922852], [0.5171815752983093], [0.5142810344696045], [0.5003795027732849], [0.5094579458236694], [0.5120978951454163], [0.5332620143890381], [0.5177615880966187], [0.5188133716583252], [0.5010117292404175], [0.50424724817276], [0.5167014598846436], [0.4818520247936249], [0.50970059633255], [0.5187065005302429], [0.5087918043136597], [0.5555242300033569], [0.5103082060813904], [0.5682793855667114], [0.5226315259933472], [0.4874160587787628], [0.5216553211212158], [0.509199321269989], [0.5082672238349915], [0.5379327535629272], [0.5160369873046875], [0.4959261119365692], [0.5085117816925049], [0.5012860298156738], [0.4513387978076935], [0.49573713541030884], [0.4934784770011902], [0.492942750453949], [0.500310480594635], [0.48766911029815674], [0.5201862454414368], [0.4960910379886627], [0.5148726105690002], [0.5138309597969055], [0.5335037708282471], [0.5018827319145203], [0.49594351649284363], [0.4562264680862427], [0.521482527256012], [0.4343104064464569], [0.5311185121536255], [0.4984520971775055], [0.5106713771820068], [0.5134537816047668], [0.49114274978637695], [0.5336335301399231], [0.5496708750724792], [0.5201423764228821], [0.5066062808036804], [0.5668756365776062], [0.4813365340232849], [0.5356524586677551], [0.4878682792186737], [0.5137864947319031], [0.5003738403320312], [0.497314989566803], [0.49341025948524475], [0.5068904161453247], [0.5139316320419312], [0.49258846044540405], [0.522468626499176], [0.501962423324585], [0.5021312236785889], [0.4956754446029663], [0.5113862156867981], [0.5129690766334534], [0.520095944404602], [0.5084257125854492], [0.4898327887058258], [0.509743332862854], [0.5248562693595886], [0.5012141466140747], [0.522233784198761], [0.4965895414352417], [0.5054833889007568], [0.5021858811378479], [0.5335671901702881], [0.45380181074142456], [0.509773313999176], [0.48783740401268005], [0.5183737277984619], [0.49595096707344055], [0.5034152865409851], [0.5038561820983887], [0.5022366642951965], [0.4971349835395813], [0.5933793783187866], [0.5084859132766724], [0.5255097150802612], [0.49819645285606384], [0.5146852731704712], [0.495547354221344], [0.4874519407749176], [0.4258524775505066], [0.5229988694190979], [0.5294514894485474], [0.4845728874206543], [0.48256438970565796], [0.4880223274230957], [0.5495618581771851], [0.5194610953330994], [0.5293914675712585], [0.499695360660553], [0.5083270072937012], [0.5245317816734314], [0.5153215527534485], [0.5084915161132812], [0.5497846603393555], [0.5091298818588257], [0.5150228142738342], [0.5171837210655212], [0.5018188953399658], [0.5000044703483582], [0.4999273419380188], [0.5047441124916077], [0.5061330795288086], [0.5311864614486694], [0.4824759066104889], [0.48319777846336365], [0.48725616931915283], [0.5244655609130859], [0.5177347660064697], [0.49814900755882263], [0.5008750557899475], [0.4895789325237274], [0.5187034606933594], [0.5171626806259155], [0.500505268573761], [0.49274417757987976], [0.49317535758018494], [0.492264062166214], [0.5188634991645813], [0.5092037320137024], [0.5168513655662537], [0.5118924379348755], [0.5119556784629822], [0.5493215322494507], [0.5123019218444824], [0.5277261137962341], [0.5087245106697083], [0.48513829708099365], [0.5077693462371826], [0.5066477656364441], [0.5101260542869568], [0.5133074522018433], [0.4976607859134674], [0.5085331201553345], [0.4890342056751251], [0.4950934052467346], [0.4984985589981079], [0.43439212441444397], [0.5148826837539673], [0.507990837097168], [0.5057967305183411], [0.4971303939819336], [0.48850274085998535], [0.5035091638565063], [0.5260664820671082], [0.49248364567756653], [0.5168037414550781], [0.4952546954154968], [0.4778869152069092], [0.5079682469367981], [0.4914156198501587], [0.4870789349079132], [0.5049471259117126], [0.4961087703704834], [0.5073192715644836], [0.4870598316192627], [0.5070719122886658], [0.5100535154342651], [0.5127115249633789], [0.5191545486450195], [0.5056458711624146], [0.5220311284065247], [0.5019622445106506], [0.5130962133407593], [0.4843764007091522], [0.49694904685020447], [0.4920600354671478], [0.509179949760437], [0.504909336566925], [0.49956515431404114], [0.5016632080078125], [0.5297285318374634], [0.5135560035705566], [0.49154725670814514], [0.49421030282974243], [0.5234125256538391], [0.5102747082710266], [0.5276206731796265], [0.48363107442855835], [0.5195835828781128], [0.4927409887313843], [0.5021900534629822], [0.5000249147415161], [0.47991472482681274], [0.49516838788986206], [0.5138815641403198], [0.5185873508453369], [0.5074782967567444], [0.4791640341281891], [0.43407613039016724], [0.4846631586551666], [0.5080338716506958], [0.5236005187034607], [0.5297684073448181], [0.5494050979614258], [0.4955868422985077], [0.492058664560318], [0.5112561583518982], [0.5037896633148193], [0.5070898532867432], [0.5184608101844788], [0.4255662262439728], [0.4763558804988861], [0.5080468654632568], [0.5207846164703369], [0.5057004690170288], [0.4969590902328491], [0.464165061712265], [0.5391485691070557], [0.5114017724990845], [0.5044214725494385], [0.4994440972805023], [0.512078583240509], [0.4913467764854431], [0.5091312527656555], [0.47894880175590515], [0.49662870168685913], [0.49593210220336914], [0.4996609687805176], [0.5342499613761902], [0.517671525478363], [0.4992993175983429], [0.5180949568748474], [0.5162287950515747], [0.50323086977005], [0.5031334757804871], [0.528464138507843], [0.49621453881263733], [0.5403599739074707], [0.4834105670452118], [0.5050703883171082], [0.5237809419631958], [0.49286147952079773], [0.5572444796562195], [0.5033427476882935], [0.5107593536376953], [0.5120142698287964], [0.5089044570922852], [0.5113722681999207], [0.5070660710334778], [0.5187909007072449], [0.516121506690979], [0.5051044821739197], [0.5200293660163879], [0.5186423063278198], [0.4954732656478882], [0.5109858512878418], [0.5169954299926758], [0.4769105613231659], [0.5066787004470825], [0.5169443488121033], [0.5098412036895752], [0.5019381642341614], [0.49171286821365356], [0.514571487903595], [0.5046103596687317], [0.4993225634098053], [0.5033318400382996], [0.5211924314498901], [0.5499769449234009], [0.5676158666610718], [0.4983607828617096], [0.4801356792449951], [0.5159706473350525], [0.5039326548576355], [0.5003616809844971], [0.5209988951683044], [0.48973292112350464], [0.5031130313873291], [0.4938506782054901], [0.5253351926803589], [0.5166527032852173], [0.49978336691856384], [0.5142503976821899], [0.5301785469055176], [0.5006414651870728], [0.5028755068778992], [0.5132743716239929], [0.49337589740753174], [0.5186144113540649], [0.5031838417053223], [0.5500198006629944], [0.5000664591789246], [0.5006918907165527], [0.5183411836624146], [0.5131635069847107], [0.5085190534591675], [0.5156782269477844], [0.5155917406082153], [0.49390891194343567], [0.5164467096328735], [0.5078455209732056], [0.4958750307559967], [0.4963695704936981], [0.5041050314903259], [0.509218692779541], [0.5210849046707153], [0.5346608757972717], [0.49489647150039673], [0.5014278888702393], [0.5134234428405762], [0.5110222101211548], [0.5068844556808472], [0.5090449452400208], [0.49152907729148865], [0.5132454037666321], [0.540103018283844], [0.5300402641296387], [0.5084035992622375], [0.5004835724830627], [0.5176762938499451], [0.5025927424430847], [0.5130770206451416], [0.5099042654037476], [0.4437475800514221], [0.4920710623264313], [0.52109694480896], [0.5156843662261963], [0.5094337463378906], [0.516635000705719], [0.5076074004173279], [0.4977051317691803], [0.5014979839324951], [0.5582259297370911], [0.5091792941093445], [0.48332467675209045], [0.43408331274986267], [0.5498513579368591], [0.4988239109516144], [0.5589264631271362], [0.4927152395248413], [0.5081374049186707], [0.4966050088405609], [0.5428382158279419], [0.5178169012069702], [0.5109837651252747], [0.5067815184593201], [0.5019776821136475], [0.5154440999031067], [0.45936453342437744], [0.5138981342315674], [0.5056432485580444], [0.5109935402870178], [0.5021294951438904], [0.5106516480445862], [0.5090424418449402], [0.5175945162773132], [0.5017726421356201], [0.4929761290550232], [0.5138970017433167], [0.5269665718078613], [0.5122366547584534], [0.5071413516998291], [0.5027603507041931], [0.5183590650558472], [0.4975617825984955], [0.5277402400970459], [0.4337012469768524], [0.5275313258171082], [0.5033305287361145], [0.512895941734314], [0.5008028149604797], [0.4802064895629883], [0.49393129348754883], [0.4941190779209137], [0.5064840316772461], [0.5235597491264343], [0.5159532427787781], [0.502627432346344], [0.5166892409324646], [0.5184699296951294], [0.5027787685394287], [0.5290095210075378], [0.517342209815979], [0.5242385268211365], [0.5211400985717773], [0.5002115964889526], [0.5000395178794861], [0.4887964725494385], [0.5106841325759888], [0.5942524075508118], [0.5072271227836609], [0.5385979413986206], [0.48154929280281067], [0.5132538080215454], [0.5310636758804321], [0.49672096967697144], [0.5018144845962524], [0.5186261534690857], [0.5154703259468079], [0.4931143522262573], [0.5183799862861633], [0.5345872044563293], [0.5101790428161621], [0.527999997138977], [0.5186388492584229], [0.49746057391166687], [0.49751898646354675], [0.4765084385871887], [0.5234082937240601], [0.4452066123485565], [0.529760479927063], [0.4994015693664551], [0.5340929627418518], [0.5028588771820068], [0.508198618888855], [0.4903792440891266], [0.5052096247673035], [0.49761828780174255], [0.5336273908615112], [0.5244624018669128], [0.5106625556945801], [0.49672967195510864], [0.5059890151023865], [0.5584104061126709], [0.4966760277748108], [0.5078436136245728], [0.5024194121360779], [0.5465124249458313], [0.5163223743438721], [0.5082671046257019], [0.5162638425827026], [0.5299752950668335], [0.49487724900245667], [0.5216292142868042], [0.5132544040679932], [0.5340860486030579], [0.5497891306877136], [0.4886377155780792], [0.4567192494869232], [0.48757416009902954], [0.5078638792037964], [0.5034781694412231], [0.4939447343349457], [0.5204421877861023], [0.5202232003211975], [0.5198609232902527], [0.520867645740509], [0.49598902463912964], [0.49195054173469543], [0.49854958057403564], [0.5161577463150024], [0.5036118030548096], [0.509898841381073], [0.5489886999130249], [0.5168946385383606], [0.48073872923851013], [0.48768866062164307], [0.4989148676395416], [0.5271848440170288], [0.5135805010795593], [0.5083726048469543], [0.5174756646156311], [0.507841944694519], [0.5085130929946899], [0.49291181564331055], [0.4925369620323181], [0.5085780024528503], [0.5057801604270935], [0.518852174282074], [0.5183203220367432], [0.5077793598175049], [0.4340451657772064], [0.5187281370162964], [0.4775443971157074], [0.5084524154663086], [0.5338345766067505], [0.506233811378479], [0.5000060796737671], [0.5106034874916077], [0.4905967712402344], [0.49781495332717896], [0.5331165790557861], [0.4988125264644623], [0.5382914543151855], [0.5047257542610168], [0.47658246755599976], [0.5112574100494385], [0.5058072805404663], [0.5210139155387878], [0.5221988558769226], [0.48994025588035583], [0.5096377730369568], [0.5204083323478699], [0.5092788934707642], [0.48879146575927734], [0.5399268269538879], [0.5340860486030579], [0.507729172706604], [0.5188000202178955], [0.4971872568130493], [0.5183665752410889], [0.5256844758987427], [0.4969727098941803], [0.5020055770874023], [0.49600350856781006], [0.45451590418815613], [0.53317791223526], [0.5023874044418335], [0.5164922475814819], [0.4957347810268402], [0.4964841306209564], [0.5152543187141418], [0.5139255523681641], [0.4945423901081085], [0.5044906139373779], [0.49663910269737244], [0.4992116689682007], [0.49997198581695557], [0.5041868686676025], [0.5024545192718506], [0.524269163608551], [0.49410712718963623], [0.5210409164428711], [0.505113422870636], [0.49234941601753235], [0.5098943114280701], [0.5390923023223877], [0.5176874995231628], [0.5150143504142761], [0.5167776346206665], [0.49959489703178406], [0.5193219184875488], [0.5204420685768127], [0.5186313986778259], [0.49487602710723877], [0.5105050802230835], [0.45618385076522827], [0.49028804898262024], [0.5014384388923645], [0.5315364599227905], [0.563774049282074], [0.49707913398742676], [0.4968484342098236], [0.5081242322921753], [0.5336940288543701], [0.5188584923744202], [0.5122157335281372], [0.4337913990020752], [0.4948701858520508], [0.49789583683013916], [0.5117232203483582], [0.5053521990776062], [0.5575648546218872], [0.5003756880760193], [0.5114427208900452], [0.5092995166778564], [0.5003703236579895], [0.49233531951904297], [0.508594274520874], [0.5018270611763], [0.5142369866371155], [0.4785579442977905], [0.510708749294281], [0.5087025165557861], [0.5005030035972595], [0.5006383657455444], [0.5051792860031128], [0.5161498785018921], [0.5357551574707031], [0.5107164978981018], [0.518360435962677], [0.5038726925849915], [0.5180354118347168], [0.5122872591018677], [0.4955247640609741], [0.5009844899177551], [0.4960867762565613], [0.5060098171234131], [0.500188946723938], [0.5019258260726929], [0.5051456689834595], [0.5236979126930237], [0.5202108025550842], [0.49782729148864746], [0.5195083022117615], [0.5143579244613647], [0.5271066427230835], [0.5181552171707153], [0.509364128112793], [0.5665558576583862], [0.5067098140716553], [0.49876514077186584], [0.5097212791442871], [0.5103240609169006], [0.4568289816379547], [0.4930728077888489], [0.4973069727420807], [0.5111241936683655], [0.5383708477020264], [0.4892357885837555], [0.5003164410591125], [0.48794078826904297], [0.5325567126274109], [0.5180134773254395], [0.4911535978317261], [0.49149835109710693], [0.49577903747558594], [0.530750572681427], [0.5122491717338562], [0.4878217279911041], [0.5103522539138794], [0.49311819672584534], [0.5022743344306946], [0.5004124045372009], [0.49699655175209045], [0.5256953239440918], [0.5651710033416748], [0.5222196578979492], [0.5091633796691895], [0.5107759833335876], [0.5048909783363342], [0.4877977967262268], [0.5175104737281799], [0.5089831948280334], [0.5242633819580078], [0.49041548371315], [0.5033217668533325], [0.4992431104183197], [0.5085405707359314], [0.524103045463562], [0.5054824352264404], [0.5165426731109619], [0.4982600212097168], [0.5646330714225769], [0.5287176370620728], [0.5204287171363831], [0.4915871322154999], [0.4343148171901703], [0.5081361532211304], [0.5215023159980774], [0.5083631873130798], [0.5252434015274048], [0.4988311529159546], [0.5032312273979187], [0.42771342396736145], [0.5048143863677979], [0.5579223036766052], [0.5305086970329285], [0.5328634977340698], [0.5081811547279358], [0.4969048798084259], [0.5033199191093445], [0.5166612267494202]]\n",
            "Epoch     0 - Train loss: 0.687972 - Train accuracy: 55.751812 - Test loss: 0.683503 - Test accuracy: 60.729167\n",
            "[[0.5032656788825989], [0.4587775468826294], [0.502411961555481], [0.5696889162063599], [0.5151300430297852], [0.5269743800163269], [0.5631939172744751], [0.49726784229278564], [0.44961485266685486], [0.5271567702293396], [0.4910990297794342], [0.500024139881134], [0.4958185851573944], [0.5500453114509583], [0.49475613236427307], [0.5036249756813049], [0.5331206321716309], [0.5074281096458435], [0.48886314034461975], [0.5754934549331665], [0.5155683755874634], [0.4990822970867157], [0.5037421584129333], [0.49901145696640015], [0.49235206842422485], [0.5714024901390076], [0.532594621181488], [0.5067205429077148], [0.5265100598335266], [0.508766770362854], [0.5203136205673218], [0.3889468014240265], [0.4934932291507721], [0.5269482731819153], [0.5274382829666138], [0.532733678817749], [0.525570273399353], [0.5585166215896606], [0.4968660771846771], [0.5127232074737549], [0.521743655204773], [0.5434187650680542], [0.4866630434989929], [0.5019200444221497], [0.506066620349884], [0.49881085753440857], [0.4981933832168579], [0.5362575650215149], [0.4499935209751129], [0.5265966057777405], [0.48878106474876404], [0.5104430317878723], [0.5007820725440979], [0.5035433769226074], [0.5072420239448547], [0.5201361179351807], [0.5173242688179016], [0.4761947691440582], [0.4855450689792633], [0.4963773190975189], [0.49198055267333984], [0.5358456969261169], [0.5042916536331177], [0.5075962543487549], [0.4895039200782776], [0.48148804903030396], [0.5659312605857849], [0.5166472792625427], [0.5140681266784668], [0.48218294978141785], [0.48259681463241577], [0.49342942237854004], [0.5377897024154663], [0.5110294818878174], [0.5088777542114258], [0.5133525729179382], [0.5118008255958557], [0.5397302508354187], [0.5605540871620178], [0.48907315731048584], [0.4437849223613739], [0.49982309341430664], [0.5499382019042969], [0.4931528568267822], [0.4994280934333801], [0.5018941164016724], [0.42413216829299927], [0.530597984790802], [0.4988706707954407], [0.4963214099407196], [0.48689794540405273], [0.4222448170185089], [0.50581294298172], [0.4963366687297821], [0.5112485885620117], [0.5083586573600769], [0.5066124200820923], [0.5242134928703308], [0.5087679028511047], [0.4986000061035156], [0.5318438410758972], [0.5032429695129395], [0.5270045399665833], [0.4910609722137451], [0.5161237120628357], [0.5344401597976685], [0.5329835414886475], [0.5752394795417786], [0.5893404483795166], [0.4828696846961975], [0.49248817563056946], [0.49903348088264465], [0.48700428009033203], [0.4882742464542389], [0.49110767245292664], [0.4669575095176697], [0.5103299021720886], [0.5123604536056519], [0.5149622559547424], [0.4885299801826477], [0.5012201070785522], [0.5630127191543579], [0.5183724164962769], [0.4999065697193146], [0.5318877100944519], [0.5104702115058899], [0.49931371212005615], [0.4908579885959625], [0.5005714893341064], [0.5060038566589355], [0.45825904607772827], [0.5224990844726562], [0.466819167137146], [0.5003219842910767], [0.49903354048728943], [0.519676685333252], [0.5017077922821045], [0.5612594485282898], [0.4859628975391388], [0.48771554231643677], [0.4886687994003296], [0.5146837830543518], [0.48529109358787537], [0.48213261365890503], [0.5575481057167053], [0.5692472457885742], [0.5623003244400024], [0.49890151619911194], [0.5050980448722839], [0.5114797949790955], [0.4974025785923004], [0.5030098557472229], [0.519089937210083], [0.5354601144790649], [0.5118851065635681], [0.39000773429870605], [0.5044548511505127], [0.5227307081222534], [0.4667072892189026], [0.4936157166957855], [0.4789199233055115], [0.5405323505401611], [0.4935274124145508], [0.5172888040542603], [0.5366607904434204], [0.5142646431922913], [0.537367582321167], [0.5344656109809875], [0.5385386347770691], [0.44474005699157715], [0.4973638355731964], [0.5615851879119873], [0.4789547026157379], [0.5289298295974731], [0.4880092740058899], [0.46257373690605164], [0.562259316444397], [0.5019623041152954], [0.5653553605079651], [0.5755234956741333], [0.5039801001548767], [0.44470617175102234], [0.5076831579208374], [0.5046425461769104], [0.4875963032245636], [0.5327547788619995], [0.4935580790042877], [0.5050181150436401], [0.48173198103904724], [0.5061604380607605], [0.5329015254974365], [0.5705083608627319], [0.4916990399360657], [0.5053774118423462], [0.5018121004104614], [0.5096780061721802], [0.5324117541313171], [0.5203749537467957], [0.5056516528129578], [0.5614498853683472], [0.5265768766403198], [0.5106730461120605], [0.47160229086875916], [0.4921816289424896], [0.5252996683120728], [0.5094404220581055], [0.5023452043533325], [0.49679863452911377], [0.571879506111145], [0.5597651600837708], [0.490903377532959], [0.5095334649085999], [0.4959765374660492], [0.4711996912956238], [0.5016855597496033], [0.49303025007247925], [0.5306587815284729], [0.5325962901115417], [0.529434084892273], [0.49304160475730896], [0.5186319351196289], [0.5238069891929626], [0.518373429775238], [0.49292513728141785], [0.45701897144317627], [0.5722848176956177], [0.5656369924545288], [0.4931175410747528], [0.4956761598587036], [0.5122209191322327], [0.5511237978935242], [0.47833555936813354], [0.5097953081130981], [0.5063742399215698], [0.5013201236724854], [0.5003935098648071], [0.5104973316192627], [0.5624846816062927], [0.5113644003868103], [0.48271122574806213], [0.38950908184051514], [0.5196363925933838], [0.5038408041000366], [0.5622661113739014], [0.5125355124473572], [0.5702902674674988], [0.500008761882782], [0.4828185439109802], [0.5329337120056152], [0.5589916706085205], [0.4927871823310852], [0.49342089891433716], [0.5229336023330688], [0.5111314654350281], [0.4960421323776245], [0.479524165391922], [0.5253531336784363], [0.49017682671546936], [0.5348232984542847], [0.5326496958732605], [0.5099629163742065], [0.5299738645553589], [0.5587857365608215], [0.5136054754257202], [0.5274841785430908], [0.5119374394416809], [0.49991822242736816], [0.46540743112564087], [0.5578700304031372], [0.5328449010848999], [0.49010729789733887], [0.49769988656044006], [0.4451475441455841], [0.5370531678199768], [0.49988916516304016], [0.5268491506576538], [0.4978552460670471], [0.5000506639480591], [0.5276565551757812], [0.5037069916725159], [0.41100311279296875], [0.5116733908653259], [0.5624669194221497], [0.5249916315078735], [0.49985021352767944], [0.49799320101737976], [0.5032458901405334], [0.4884255826473236], [0.49919649958610535], [0.502583384513855], [0.4984917938709259], [0.5002492666244507], [0.4944801330566406], [0.508224368095398], [0.4930478036403656], [0.5143699049949646], [0.4240231513977051], [0.5694949626922607], [0.5270529389381409], [0.5165185332298279], [0.513457715511322], [0.5053622126579285], [0.5040269494056702], [0.5161758065223694], [0.5618835091590881], [0.5197275876998901], [0.5508803129196167], [0.5007889270782471], [0.49882546067237854], [0.5276781916618347], [0.47019079327583313], [0.49894508719444275], [0.5332242250442505], [0.5128000378608704], [0.5533983111381531], [0.5275722742080688], [0.5938994884490967], [0.5132120847702026], [0.4710808992385864], [0.5229529142379761], [0.5062493681907654], [0.5227248072624207], [0.5573791861534119], [0.5270612835884094], [0.46510523557662964], [0.5227720141410828], [0.4795690178871155], [0.42489513754844666], [0.4919891059398651], [0.49131402373313904], [0.4886857867240906], [0.5010560154914856], [0.4714066684246063], [0.5297998189926147], [0.4960879981517792], [0.5260162353515625], [0.5126678943634033], [0.5395385026931763], [0.5004928708076477], [0.4932328164577484], [0.4116106927394867], [0.5177099108695984], [0.3904132544994354], [0.5295000672340393], [0.4993937909603119], [0.5347907543182373], [0.5055740475654602], [0.4997914731502533], [0.5621660351753235], [0.5694579482078552], [0.5194317698478699], [0.4932776093482971], [0.5916898250579834], [0.47911199927330017], [0.5542676448822021], [0.48532289266586304], [0.5144668817520142], [0.5054593086242676], [0.49975645542144775], [0.48957961797714233], [0.5038178563117981], [0.5129511952400208], [0.48379719257354736], [0.5375917553901672], [0.4902409017086029], [0.49926283955574036], [0.49517562985420227], [0.5139597654342651], [0.47131818532943726], [0.512423574924469], [0.5108017921447754], [0.4455201029777527], [0.5070034861564636], [0.516478955745697], [0.4982002377510071], [0.5126489996910095], [0.49310538172721863], [0.49614763259887695], [0.4963725209236145], [0.5397459268569946], [0.4067831039428711], [0.5135550498962402], [0.44993093609809875], [0.5327349305152893], [0.4919244050979614], [0.5057783126831055], [0.5027641654014587], [0.5030778646469116], [0.4935359060764313], [0.6243274807929993], [0.5113900303840637], [0.5238109230995178], [0.4587852656841278], [0.515106737613678], [0.4952544569969177], [0.4899434447288513], [0.3764893412590027], [0.5217318534851074], [0.5333579182624817], [0.48964327573776245], [0.4710743725299835], [0.48926374316215515], [0.5693823099136353], [0.529034435749054], [0.5251078605651855], [0.4520905911922455], [0.5093598961830139], [0.5231502652168274], [0.5259221792221069], [0.510155975818634], [0.5696945190429688], [0.5230098366737366], [0.5120243430137634], [0.5163248777389526], [0.502117931842804], [0.5050390958786011], [0.500716507434845], [0.5208975076675415], [0.5045350790023804], [0.5306230187416077], [0.47116851806640625], [0.4717898368835449], [0.48764902353286743], [0.5039151310920715], [0.5317462086677551], [0.5042650699615479], [0.49851110577583313], [0.4575692415237427], [0.5329083204269409], [0.5315253734588623], [0.4946119487285614], [0.5057035088539124], [0.46666383743286133], [0.49240559339523315], [0.5328567624092102], [0.5083420276641846], [0.5076017379760742], [0.4703560471534729], [0.5080949664115906], [0.5692634582519531], [0.5015584230422974], [0.5373915433883667], [0.5124476552009583], [0.4476411044597626], [0.5045649409294128], [0.5119227766990662], [0.4959692656993866], [0.5131778120994568], [0.49077609181404114], [0.5111991763114929], [0.48271822929382324], [0.4908207654953003], [0.5046335458755493], [0.3901021182537079], [0.5094169974327087], [0.5250996351242065], [0.5153489112854004], [0.49307411909103394], [0.4938089847564697], [0.5028051137924194], [0.5173213481903076], [0.49574047327041626], [0.52788245677948], [0.4985365867614746], [0.48709598183631897], [0.5218719244003296], [0.49155470728874207], [0.4814848303794861], [0.5063731670379639], [0.49262362718582153], [0.49388599395751953], [0.4702460765838623], [0.5054306983947754], [0.5100340247154236], [0.5134066939353943], [0.5232443809509277], [0.5044148564338684], [0.5209951400756836], [0.4901115298271179], [0.5140826106071472], [0.48134610056877136], [0.4660143554210663], [0.4649239480495453], [0.505508542060852], [0.5031379461288452], [0.4841182827949524], [0.5021234154701233], [0.5589979887008667], [0.515228807926178], [0.48673921823501587], [0.4984811246395111], [0.5117814540863037], [0.5088576078414917], [0.5375440120697021], [0.48865434527397156], [0.507603645324707], [0.48883533477783203], [0.49781933426856995], [0.49681711196899414], [0.48749491572380066], [0.4929295480251312], [0.5140855312347412], [0.532677173614502], [0.50565505027771], [0.472328245639801], [0.39000025391578674], [0.4705752432346344], [0.5221050977706909], [0.5285614132881165], [0.559711754322052], [0.5693525075912476], [0.49531492590904236], [0.4965014159679413], [0.5122619271278381], [0.49679356813430786], [0.5098203420639038], [0.5326045751571655], [0.3758638799190521], [0.4377138018608093], [0.5106914043426514], [0.5184553265571594], [0.5024586319923401], [0.493577241897583], [0.42791229486465454], [0.5719112157821655], [0.5124869346618652], [0.5200678706169128], [0.5019227266311646], [0.5189070105552673], [0.49020594358444214], [0.5205007195472717], [0.47724977135658264], [0.4655746817588806], [0.4991432726383209], [0.4988972544670105], [0.5620420575141907], [0.5499181151390076], [0.49445563554763794], [0.5323612093925476], [0.5271643996238708], [0.4883028268814087], [0.49909308552742004], [0.5091766119003296], [0.49263623356819153], [0.5597363710403442], [0.46941637992858887], [0.5007569789886475], [0.5221919417381287], [0.4942352771759033], [0.5644126534461975], [0.5008752346038818], [0.5180355310440063], [0.5083479285240173], [0.5170931816101074], [0.5086778402328491], [0.5037935972213745], [0.5071459412574768], [0.5206063389778137], [0.5097841620445251], [0.5296517610549927], [0.5326385498046875], [0.4808610677719116], [0.5001732110977173], [0.5162299275398254], [0.4746389389038086], [0.5069478154182434], [0.5161556601524353], [0.510148286819458], [0.504128634929657], [0.4830329418182373], [0.5122408270835876], [0.5051335692405701], [0.5003280639648438], [0.5062843561172485], [0.5222910046577454], [0.5449436902999878], [0.5927798748016357], [0.5031747221946716], [0.4877471327781677], [0.5200765132904053], [0.4969845414161682], [0.5009817481040955], [0.523533284664154], [0.48833346366882324], [0.5069884061813354], [0.49062424898147583], [0.5240861773490906], [0.5274227857589722], [0.5021170973777771], [0.5209199786186218], [0.5161592364311218], [0.49589279294013977], [0.4978281855583191], [0.5134701132774353], [0.4908861517906189], [0.5320853590965271], [0.4990767538547516], [0.5699152946472168], [0.48306527733802795], [0.49747660756111145], [0.5326173305511475], [0.5059555768966675], [0.5136365294456482], [0.5093287229537964], [0.5264590978622437], [0.49265792965888977], [0.5488958954811096], [0.5169900059700012], [0.4851369559764862], [0.4925766587257385], [0.5030989646911621], [0.5062764286994934], [0.5250221490859985], [0.5014171600341797], [0.4923986494541168], [0.48941662907600403], [0.5140722393989563], [0.5151201486587524], [0.5108940005302429], [0.5170849561691284], [0.49000242352485657], [0.5058342218399048], [0.5599169135093689], [0.5600500106811523], [0.5082604885101318], [0.5018494129180908], [0.5129095911979675], [0.4971022307872772], [0.5191696286201477], [0.5086265802383423], [0.42420586943626404], [0.479688435792923], [0.5123935341835022], [0.5155767798423767], [0.5107575058937073], [0.516423761844635], [0.5061248540878296], [0.49407628178596497], [0.5043231248855591], [0.5656535625457764], [0.5062829256057739], [0.48019275069236755], [0.3900113105773926], [0.5696773529052734], [0.4980919659137726], [0.5658249855041504], [0.48017558455467224], [0.5104513764381409], [0.4946224093437195], [0.5358263254165649], [0.5198836326599121], [0.5349640846252441], [0.5073863863945007], [0.4901599884033203], [0.4990164339542389], [0.4209488332271576], [0.5206614136695862], [0.5212501287460327], [0.5070531964302063], [0.4974358081817627], [0.5347476005554199], [0.5174294710159302], [0.5496094226837158], [0.49628323316574097], [0.4963311553001404], [0.506981372833252], [0.5369160771369934], [0.5090075731277466], [0.5084885358810425], [0.4954945147037506], [0.511357307434082], [0.4985862672328949], [0.5376101732254028], [0.38948822021484375], [0.5372914671897888], [0.5155633091926575], [0.5197446942329407], [0.5051171779632568], [0.4622264802455902], [0.4928677976131439], [0.4923798143863678], [0.504034161567688], [0.5174992084503174], [0.5269394516944885], [0.5028751492500305], [0.5111169815063477], [0.5323733687400818], [0.5064054131507874], [0.5101507306098938], [0.5495116114616394], [0.5231631398200989], [0.5289414525032043], [0.5009285807609558], [0.5023543238639832], [0.4813469648361206], [0.5345875024795532], [0.6249855756759644], [0.5133888125419617], [0.55836421251297], [0.4747913181781769], [0.4877561628818512], [0.5303373336791992], [0.49310004711151123], [0.5028316974639893], [0.5052264332771301], [0.5116080045700073], [0.4899625778198242], [0.5323497653007507], [0.5013585090637207], [0.5086899995803833], [0.5380125641822815], [0.5103375911712646], [0.48182421922683716], [0.4970354735851288], [0.4862681031227112], [0.5175964832305908], [0.42549818754196167], [0.5275752544403076], [0.48242196440696716], [0.5625413060188293], [0.4963836669921875], [0.4976271390914917], [0.481778085231781], [0.503990113735199], [0.4940888583660126], [0.562224268913269], [0.5316203832626343], [0.5095951557159424], [0.49242258071899414], [0.5120928883552551], [0.5656574368476868], [0.49314814805984497], [0.5215767621994019], [0.4968815743923187], [0.5442250370979309], [0.5296629667282104], [0.5226735472679138], [0.5205373167991638], [0.5599542260169983], [0.4979517161846161], [0.5106834769248962], [0.5085225701332092], [0.5618471503257751], [0.5695970058441162], [0.4750899374485016], [0.4116816520690918], [0.4893111288547516], [0.5100066065788269], [0.49944034218788147], [0.491473525762558], [0.527282178401947], [0.5173541903495789], [0.5149253010749817], [0.5284664630889893], [0.46513280272483826], [0.47455596923828125], [0.4972776174545288], [0.527152419090271], [0.5014317035675049], [0.5006852149963379], [0.5219466686248779], [0.513728141784668], [0.4679951071739197], [0.4902077615261078], [0.49854323267936707], [0.5285607576370239], [0.5207448601722717], [0.5085573196411133], [0.5123685002326965], [0.511203944683075], [0.5042573809623718], [0.4962666630744934], [0.48570528626441956], [0.5100582242012024], [0.5106018781661987], [0.497628778219223], [0.5042081475257874], [0.5002259612083435], [0.3899730145931244], [0.5327852368354797], [0.43924063444137573], [0.5145625472068787], [0.562450647354126], [0.5093935132026672], [0.50074702501297], [0.534915030002594], [0.489227294921875], [0.5039650797843933], [0.5611905455589294], [0.4869365096092224], [0.5711594820022583], [0.504872739315033], [0.47458162903785706], [0.5128071904182434], [0.5029324889183044], [0.5062183737754822], [0.5211932063102722], [0.4869198203086853], [0.5089878439903259], [0.5169287919998169], [0.4950464069843292], [0.4814523458480835], [0.5594154000282288], [0.5623519420623779], [0.5099869966506958], [0.5328253507614136], [0.49351760745048523], [0.5328760743141174], [0.5241070985794067], [0.5030068755149841], [0.501101016998291], [0.4928046762943268], [0.4123739004135132], [0.5612582564353943], [0.5053533911705017], [0.5274680256843567], [0.4922449588775635], [0.4882380962371826], [0.5169174075126648], [0.5144542455673218], [0.4808454215526581], [0.5039178133010864], [0.46553704142570496], [0.4997525215148926], [0.4996214509010315], [0.5166177153587341], [0.49902522563934326], [0.5037545561790466], [0.4880628287792206], [0.5191055536270142], [0.5049201846122742], [0.4965798854827881], [0.5068519711494446], [0.5718797445297241], [0.5129040479660034], [0.5145223736763], [0.5167129039764404], [0.5015292763710022], [0.5512185096740723], [0.5268555879592896], [0.5326831936836243], [0.49158748984336853], [0.5344099998474121], [0.41171035170555115], [0.48759955167770386], [0.49527525901794434], [0.539583146572113], [0.5736876130104065], [0.49317124485969543], [0.5023620128631592], [0.5253898501396179], [0.5216997265815735], [0.5331913232803345], [0.513126015663147], [0.38961440324783325], [0.49799245595932007], [0.493786096572876], [0.5168663859367371], [0.5214760899543762], [0.5653082132339478], [0.5017588138580322], [0.5106720328330994], [0.5264115333557129], [0.4997090697288513], [0.4959452748298645], [0.5054455399513245], [0.500549852848053], [0.5062193274497986], [0.47680312395095825], [0.5063154697418213], [0.510589599609375], [0.5055413246154785], [0.5047976970672607], [0.5056446194648743], [0.5038010478019714], [0.5371811985969543], [0.5037073493003845], [0.5322976112365723], [0.5034074187278748], [0.5131244659423828], [0.5197083353996277], [0.502892017364502], [0.5013688206672668], [0.49246224761009216], [0.5024652481079102], [0.4883303940296173], [0.50421142578125], [0.49034085869789124], [0.5178706645965576], [0.5267038345336914], [0.49056094884872437], [0.5337884426116943], [0.5163018703460693], [0.5369637608528137], [0.5322695970535278], [0.5120131373405457], [0.5919982194900513], [0.5072605609893799], [0.4976116716861725], [0.5037789940834045], [0.5119050145149231], [0.4120030105113983], [0.490778386592865], [0.4817293882369995], [0.5121006369590759], [0.5708397626876831], [0.4877169132232666], [0.4787454903125763], [0.4653095602989197], [0.5263874530792236], [0.5322180986404419], [0.4826202690601349], [0.4828508198261261], [0.492007851600647], [0.5605309009552002], [0.5130166411399841], [0.4499010145664215], [0.5342530012130737], [0.4905875325202942], [0.5178502202033997], [0.49857524037361145], [0.49326443672180176], [0.5246440768241882], [0.5756490230560303], [0.5204002261161804], [0.5107073187828064], [0.5120382308959961], [0.506313681602478], [0.48080089688301086], [0.5500243902206421], [0.5226991772651672], [0.5184125900268555], [0.49127331376075745], [0.49616682529449463], [0.4998631775379181], [0.5018432140350342], [0.5213612914085388], [0.5073431730270386], [0.4839664697647095], [0.4979719817638397], [0.5747563242912292], [0.5279586315155029], [0.5168861150741577], [0.4830900728702545], [0.38984519243240356], [0.5197216868400574], [0.5207964777946472], [0.5096980929374695], [0.5322736501693726], [0.5001134872436523], [0.4938174784183502], [0.3790126144886017], [0.5062761902809143], [0.5649827122688293], [0.5384809374809265], [0.5389525890350342], [0.5188673734664917], [0.4659913182258606], [0.49625492095947266], [0.5163782238960266]]\n",
            "Epoch     1 - Train loss: 0.678064 - Train accuracy: 63.779438 - Test loss: 0.671353 - Test accuracy: 65.937500\n",
            "[[0.506159782409668], [0.4445870518684387], [0.4989633560180664], [0.5867016315460205], [0.5166043639183044], [0.5251203179359436], [0.5769798159599304], [0.5007006525993347], [0.4376068413257599], [0.537976086139679], [0.4957786202430725], [0.506911039352417], [0.49559468030929565], [0.568486213684082], [0.4955618977546692], [0.5076116919517517], [0.5487871170043945], [0.5099620223045349], [0.49435675144195557], [0.5814124345779419], [0.5169740915298462], [0.5024309754371643], [0.5128251314163208], [0.5034142732620239], [0.4968341886997223], [0.5891968607902527], [0.5476023554801941], [0.5115001797676086], [0.5293287038803101], [0.5173558592796326], [0.5311871767044067], [0.37445390224456787], [0.4979945123195648], [0.5302445292472839], [0.5257279276847839], [0.5482025742530823], [0.530734658241272], [0.5671058297157288], [0.5002673268318176], [0.5155095458030701], [0.5257256627082825], [0.5439929366111755], [0.4859989285469055], [0.5039840340614319], [0.5116215348243713], [0.49917447566986084], [0.5051203966140747], [0.5409950613975525], [0.4377254843711853], [0.5315279960632324], [0.4849438965320587], [0.5153041481971741], [0.5053632855415344], [0.5123574733734131], [0.5028020739555359], [0.5259246230125427], [0.5192050933837891], [0.4729158580303192], [0.47514548897743225], [0.49889421463012695], [0.49738407135009766], [0.5463742017745972], [0.509734034538269], [0.5110044479370117], [0.486582487821579], [0.48064133524894714], [0.5740381479263306], [0.5214380621910095], [0.5145167112350464], [0.48540860414505005], [0.4828791916370392], [0.48997068405151367], [0.5434794425964355], [0.5180763006210327], [0.511684000492096], [0.5198400616645813], [0.5128390192985535], [0.5455008745193481], [0.5836751461029053], [0.4885653257369995], [0.434383362531662], [0.5020241141319275], [0.5680953860282898], [0.4975775480270386], [0.5038534998893738], [0.49687838554382324], [0.41880160570144653], [0.536553144454956], [0.5048303604125977], [0.49984437227249146], [0.4897814989089966], [0.4074249565601349], [0.5102301836013794], [0.4960169494152069], [0.5138324499130249], [0.5116150379180908], [0.5093813538551331], [0.5271811485290527], [0.5091565251350403], [0.497956246137619], [0.5473939180374146], [0.5086889863014221], [0.5380734205245972], [0.4947756826877594], [0.519527792930603], [0.5520133376121521], [0.5484437346458435], [0.5810571312904358], [0.5974739193916321], [0.4833914041519165], [0.49639177322387695], [0.503453254699707], [0.486263632774353], [0.48548802733421326], [0.49498677253723145], [0.4563804268836975], [0.5133580565452576], [0.5174670815467834], [0.5208985805511475], [0.4883438050746918], [0.506730854511261], [0.585765540599823], [0.5340789556503296], [0.5059185028076172], [0.5475674271583557], [0.5141425132751465], [0.5025448799133301], [0.4913056194782257], [0.5061863660812378], [0.5055094361305237], [0.4440629184246063], [0.5344240665435791], [0.46317413449287415], [0.5041658878326416], [0.5023531317710876], [0.5306269526481628], [0.5073186755180359], [0.5843942761421204], [0.486755907535553], [0.49336767196655273], [0.497507780790329], [0.5210604667663574], [0.48497018218040466], [0.4824504852294922], [0.5663014650344849], [0.5863052606582642], [0.5851254463195801], [0.5018140077590942], [0.5144649147987366], [0.5140896439552307], [0.5014395713806152], [0.5016497373580933], [0.5219196081161499], [0.5428674817085266], [0.5146036744117737], [0.37462911009788513], [0.5075850486755371], [0.5258293151855469], [0.45624232292175293], [0.49037259817123413], [0.4702606499195099], [0.5464234352111816], [0.49624183773994446], [0.526134729385376], [0.5428362488746643], [0.5206974148750305], [0.5437140464782715], [0.5520451068878174], [0.5465283989906311], [0.4354223310947418], [0.5015806555747986], [0.5849473476409912], [0.47062191367149353], [0.5341634154319763], [0.4878447651863098], [0.45694732666015625], [0.5761715769767761], [0.5059243440628052], [0.5734043717384338], [0.5812301635742188], [0.5049087405204773], [0.4374918043613434], [0.5134361982345581], [0.5108122825622559], [0.4840865433216095], [0.5480135083198547], [0.49590253829956055], [0.5140417218208313], [0.48196274042129517], [0.5106335878372192], [0.5483755469322205], [0.5883687138557434], [0.4929521381855011], [0.5142453908920288], [0.5080682039260864], [0.5163819789886475], [0.5478227138519287], [0.5234218239784241], [0.5109434723854065], [0.5757046341896057], [0.5377234816551208], [0.5170071125030518], [0.46520915627479553], [0.48929840326309204], [0.5223289132118225], [0.5163410902023315], [0.5074610114097595], [0.49265116453170776], [0.5893847942352295], [0.5747950673103333], [0.49134352803230286], [0.5130850076675415], [0.4966096580028534], [0.46733635663986206], [0.5050901770591736], [0.495248943567276], [0.5365302562713623], [0.5480634570121765], [0.5343467593193054], [0.48936569690704346], [0.5294883251190186], [0.524490237236023], [0.5221989154815674], [0.49634477496147156], [0.44534870982170105], [0.5903252363204956], [0.5736888647079468], [0.4895661473274231], [0.4955286979675293], [0.5146968960762024], [0.5692762136459351], [0.4752149283885956], [0.5119776725769043], [0.5113911032676697], [0.5059280395507812], [0.5059777498245239], [0.5070138573646545], [0.5853337645530701], [0.5173723697662354], [0.48309242725372314], [0.37405145168304443], [0.5268861651420593], [0.5078028440475464], [0.5851801037788391], [0.5182310342788696], [0.5873939990997314], [0.5055147409439087], [0.48310399055480957], [0.5483183264732361], [0.5674917101860046], [0.4916907548904419], [0.490099161863327], [0.5257898569107056], [0.5175219774246216], [0.495950847864151], [0.47849124670028687], [0.5329123139381409], [0.4915497303009033], [0.5526102185249329], [0.548027515411377], [0.5167086720466614], [0.537376344203949], [0.5672299861907959], [0.5214521884918213], [0.525659441947937], [0.5083229541778564], [0.5043812990188599], [0.451373815536499], [0.5665401220321655], [0.547937273979187], [0.4944791793823242], [0.5012924671173096], [0.4379296898841858], [0.5447797179222107], [0.5056563019752502], [0.5250499844551086], [0.5095415115356445], [0.5057114958763123], [0.5386332869529724], [0.507782518863678], [0.39729082584381104], [0.5160961747169495], [0.5852156281471252], [0.5219842791557312], [0.5048753619194031], [0.5020243525505066], [0.5061265230178833], [0.49214455485343933], [0.5060383081436157], [0.5062151551246643], [0.5005171298980713], [0.5031936168670654], [0.4962661564350128], [0.5146890878677368], [0.49744534492492676], [0.518888533115387], [0.41873899102211], [0.5865859985351562], [0.5251036286354065], [0.5231336951255798], [0.5185041427612305], [0.5145628452301025], [0.5066118836402893], [0.5218637585639954], [0.5761770606040955], [0.5270111560821533], [0.5692068338394165], [0.5045438408851624], [0.5008798241615295], [0.5384455323219299], [0.46626463532447815], [0.5000954270362854], [0.5483314394950867], [0.5159288048744202], [0.5560157299041748], [0.5408509373664856], [0.606890082359314], [0.5118580460548401], [0.4662400484085083], [0.5274839401245117], [0.5072383880615234], [0.5348326563835144], [0.5725377798080444], [0.5383991599082947], [0.451051265001297], [0.5347434282302856], [0.47116613388061523], [0.4182549715042114], [0.48789653182029724], [0.49348118901252747], [0.4901416599750519], [0.5064924359321594], [0.4667069911956787], [0.5351131558418274], [0.5018590688705444], [0.5371384620666504], [0.5155606865882874], [0.5428367853164673], [0.5043128132820129], [0.49770909547805786], [0.39798566699028015], [0.5242910981178284], [0.3751760721206665], [0.5331828594207764], [0.5012325644493103], [0.5524266362190247], [0.5082446336746216], [0.506957471370697], [0.5850511193275452], [0.5864390134811401], [0.5236468315124512], [0.4907175302505493], [0.6043469905853271], [0.48237019777297974], [0.5625419020652771], [0.48655441403388977], [0.5174008011817932], [0.5146566033363342], [0.5058043003082275], [0.48710665106773376], [0.5091865062713623], [0.5122714638710022], [0.4844858646392822], [0.5436327457427979], [0.4875182807445526], [0.5034310221672058], [0.5004288554191589], [0.5164733529090881], [0.45147910714149475], [0.5135546326637268], [0.5177884697914124], [0.4305441081523895], [0.5126200914382935], [0.5198637843132019], [0.5026138424873352], [0.518627941608429], [0.48918676376342773], [0.49540331959724426], [0.49925658106803894], [0.5431782007217407], [0.39384087920188904], [0.5193144679069519], [0.43815523386001587], [0.5480074286460876], [0.48897793889045715], [0.5095077157020569], [0.5052892565727234], [0.507073700428009], [0.48967552185058594], [0.6451609134674072], [0.5181320905685425], [0.5318734645843506], [0.4445738196372986], [0.5182079076766968], [0.49789565801620483], [0.49480149149894714], [0.3646214008331299], [0.5259818434715271], [0.5402886867523193], [0.4867461919784546], [0.4672256112098694], [0.48865407705307007], [0.5864413380622864], [0.5338939428329468], [0.5276479721069336], [0.44177818298339844], [0.5134967565536499], [0.5306695103645325], [0.5369346737861633], [0.5147138833999634], [0.5868246555328369], [0.534818708896637], [0.5157046914100647], [0.5177886486053467], [0.505402147769928], [0.514168918132782], [0.506121814250946], [0.5357083678245544], [0.5065892338752747], [0.536508321762085], [0.467195063829422], [0.4678972661495209], [0.4937116801738739], [0.4992328882217407], [0.5471068620681763], [0.513259768486023], [0.5019364356994629], [0.44600075483322144], [0.5480692982673645], [0.5469165444374084], [0.49259915947914124], [0.5137753486633301], [0.4564049541950226], [0.4949304461479187], [0.5484201312065125], [0.5116056203842163], [0.5073074698448181], [0.45049864053726196], [0.5101155638694763], [0.5862204432487488], [0.49826255440711975], [0.5448924899101257], [0.5170499086380005], [0.4353533685207367], [0.5087559223175049], [0.5160771608352661], [0.49298956990242004], [0.5176898837089539], [0.49257519841194153], [0.5181312561035156], [0.4821411371231079], [0.4934912919998169], [0.5138536095619202], [0.3747045695781708], [0.5056740045547485], [0.5386909246444702], [0.5195376873016357], [0.4893385171890259], [0.4990854859352112], [0.5054133534431458], [0.5168328881263733], [0.49565231800079346], [0.5389021635055542], [0.5100834369659424], [0.4926559329032898], [0.5338833928108215], [0.4923883080482483], [0.4842856526374817], [0.5096860527992249], [0.48871538043022156], [0.4934445023536682], [0.46851101517677307], [0.5079391002655029], [0.5102349519729614], [0.5184614658355713], [0.5286503434181213], [0.5098998546600342], [0.5240072011947632], [0.4872318208217621], [0.5162383317947388], [0.4848954677581787], [0.4518973231315613], [0.4543445110321045], [0.5050355195999146], [0.5093361735343933], [0.4810413122177124], [0.5078404545783997], [0.5822635293006897], [0.5200657844543457], [0.4875987470149994], [0.5026921033859253], [0.5082259774208069], [0.5112953186035156], [0.5454478859901428], [0.4951106905937195], [0.507851243019104], [0.48841091990470886], [0.4974360167980194], [0.5002380609512329], [0.492868036031723], [0.49647220969200134], [0.519505500793457], [0.5478164553642273], [0.5103251338005066], [0.4666549563407898], [0.3746205270290375], [0.469427227973938], [0.5340510010719299], [0.5341861248016357], [0.583374559879303], [0.586482584476471], [0.5007340908050537], [0.5011193156242371], [0.5178711414337158], [0.4955662786960602], [0.5163807272911072], [0.5479434132575989], [0.36407965421676636], [0.4209437668323517], [0.5174946188926697], [0.5211647748947144], [0.5049618482589722], [0.4896407723426819], [0.4182204604148865], [0.5898873805999756], [0.5178313255310059], [0.5352596044540405], [0.5046530961990356], [0.5249045491218567], [0.4958861172199249], [0.5306224822998047], [0.46680691838264465], [0.451587975025177], [0.5105296969413757], [0.5027257204055786], [0.5759670734405518], [0.5682320594787598], [0.4964701533317566], [0.5478297472000122], [0.5380397439002991], [0.48453572392463684], [0.5023047924041748], [0.5055013298988342], [0.4888361394405365], [0.5747300982475281], [0.46808555722236633], [0.505362331867218], [0.5255303978919983], [0.4989011585712433], [0.5724847912788391], [0.5050015449523926], [0.5242261290550232], [0.5102372169494629], [0.5260003209114075], [0.5149721503257751], [0.5092001557350159], [0.5078821182250977], [0.5252989530563354], [0.5143099427223206], [0.534809410572052], [0.5479050874710083], [0.48170769214630127], [0.501262903213501], [0.5177974700927734], [0.46440044045448303], [0.506804883480072], [0.5176613330841064], [0.515230655670166], [0.5079683065414429], [0.48324429988861084], [0.5152281522750854], [0.5080609917640686], [0.5042418837547302], [0.5088326930999756], [0.5254980325698853], [0.5541446208953857], [0.6056739091873169], [0.5090925693511963], [0.4933657944202423], [0.5256429314613342], [0.49767473340034485], [0.5061502456665039], [0.5267030000686646], [0.4887559413909912], [0.5120683908462524], [0.49269863963127136], [0.5319134593009949], [0.5383120775222778], [0.504801332950592], [0.5284485220909119], [0.5138921737670898], [0.4980205297470093], [0.5004422068595886], [0.5159650444984436], [0.4941817820072174], [0.5471541881561279], [0.5022918581962585], [0.5867912173271179], [0.48131614923477173], [0.5008439421653748], [0.5479897260665894], [0.5048987865447998], [0.5179805755615234], [0.5103046894073486], [0.5372416973114014], [0.49499306082725525], [0.5668607950210571], [0.5213863253593445], [0.4848167598247528], [0.49505674839019775], [0.506999135017395], [0.5072745084762573], [0.5305553674697876], [0.4963095486164093], [0.49375295639038086], [0.4865003526210785], [0.5191040635108948], [0.5210672616958618], [0.5173296332359314], [0.5258083343505859], [0.49114418029785156], [0.5084834098815918], [0.5686796307563782], [0.5837259888648987], [0.5093593597412109], [0.505431592464447], [0.5194369554519653], [0.49970775842666626], [0.5248895287513733], [0.5150502324104309], [0.4188169538974762], [0.47868531942367554], [0.5151304006576538], [0.5207963585853577], [0.5152658224105835], [0.5206513404846191], [0.5107583999633789], [0.49017786979675293], [0.50834721326828], [0.5737811326980591], [0.5072075724601746], [0.4835909307003021], [0.374629944562912], [0.5867862105369568], [0.5023800134658813], [0.573734700679779], [0.4791858196258545], [0.5173316597938538], [0.49515703320503235], [0.5392848253250122], [0.5273252129554749], [0.552645206451416], [0.5141609311103821], [0.4873323142528534], [0.49157941341400146], [0.411894828081131], [0.5284760594367981], [0.535807728767395], [0.5090712904930115], [0.4999263882637024], [0.5524573922157288], [0.5262507796287537], [0.5673719644546509], [0.49541807174682617], [0.4959613084793091], [0.510186493396759], [0.5445863604545593], [0.5125232338905334], [0.5117458701133728], [0.4957900643348694], [0.5129534006118774], [0.5046718120574951], [0.5453372001647949], [0.3742022216320038], [0.5448195934295654], [0.5239190459251404], [0.5252681374549866], [0.511104166507721], [0.4598868191242218], [0.49564480781555176], [0.4981965720653534], [0.5089300870895386], [0.5148180723190308], [0.5379608869552612], [0.5058782696723938], [0.5074741244316101], [0.5471326112747192], [0.5113123059272766], [0.5063852071762085], [0.567023515701294], [0.5311300754547119], [0.535155177116394], [0.5064877271652222], [0.5064004063606262], [0.48060518503189087], [0.5520929098129272], [0.645939826965332], [0.5177196264266968], [0.5671482682228088], [0.469131201505661], [0.4770071804523468], [0.5362660884857178], [0.4891388416290283], [0.507600724697113], [0.5053547620773315], [0.513649582862854], [0.4921591281890869], [0.5478118062019348], [0.4962596893310547], [0.5111098885536194], [0.5457923412322998], [0.5110505819320679], [0.4817303717136383], [0.5020005702972412], [0.4920826554298401], [0.5152311325073242], [0.42030152678489685], [0.5310456156730652], [0.4806721806526184], [0.5853383541107178], [0.4971889555454254], [0.4988342821598053], [0.4819750487804413], [0.5093701481819153], [0.49028363823890686], [0.5853520631790161], [0.5394833087921143], [0.5138821601867676], [0.4966449737548828], [0.5186405777931213], [0.5737503170967102], [0.489096075296402], [0.5336652994155884], [0.4994630515575409], [0.5475639700889587], [0.5371074080467224], [0.5347942113876343], [0.5251434445381165], [0.5836048722267151], [0.5095667243003845], [0.5129682421684265], [0.5048852562904358], [0.5758917331695557], [0.5867106318473816], [0.47300034761428833], [0.39798325300216675], [0.4949573278427124], [0.5168200135231018], [0.502651572227478], [0.494850218296051], [0.5311437249183655], [0.5190392732620239], [0.5214740037918091], [0.5346088409423828], [0.45093095302581787], [0.471945583820343], [0.5004759430885315], [0.5382893681526184], [0.5049378871917725], [0.500033438205719], [0.5141141414642334], [0.5171537399291992], [0.464611291885376], [0.49515366554260254], [0.5026050806045532], [0.5300959348678589], [0.5287442207336426], [0.5125307440757751], [0.5083745718002319], [0.5174444317817688], [0.5048056244850159], [0.496117502450943], [0.4849262833595276], [0.513702929019928], [0.5151494741439819], [0.4932868480682373], [0.5008915662765503], [0.49817195534706116], [0.37458768486976624], [0.5482171773910522], [0.4224584102630615], [0.5209237337112427], [0.5852314233779907], [0.5158198475837708], [0.5063509941101074], [0.5524157881736755], [0.4902372360229492], [0.5129808187484741], [0.5839816927909851], [0.48775774240493774], [0.5888736844062805], [0.510408341884613], [0.47296977043151855], [0.5203918218612671], [0.5055235028266907], [0.5037460923194885], [0.524229109287262], [0.4957733452320099], [0.5122657418251038], [0.520374059677124], [0.492207407951355], [0.480846643447876], [0.5747109055519104], [0.5852369070053101], [0.5169843435287476], [0.548010528087616], [0.48979973793029785], [0.5476788282394409], [0.5321372151374817], [0.5111671090126038], [0.5032606720924377], [0.4953354001045227], [0.3966764211654663], [0.5835264921188354], [0.5078441500663757], [0.5384631156921387], [0.4881652295589447], [0.48786690831184387], [0.52109694480896], [0.5214017033576965], [0.47819986939430237], [0.506505012512207], [0.45159342885017395], [0.5024443864822388], [0.5045928955078125], [0.5253298282623291], [0.5034258961677551], [0.4989452064037323], [0.4912146329879761], [0.5227797627449036], [0.5099349021911621], [0.501291036605835], [0.5101258158683777], [0.5897061824798584], [0.508823037147522], [0.5184781551361084], [0.5215972661972046], [0.5030919313430786], [0.5695124268531799], [0.5319814085960388], [0.5482224822044373], [0.49245429039001465], [0.551957905292511], [0.39835798740386963], [0.49640610814094543], [0.498170405626297], [0.5463883876800537], [0.5794988870620728], [0.48975202441215515], [0.5114922523498535], [0.5385943055152893], [0.5204896330833435], [0.5485963821411133], [0.5147337913513184], [0.37420058250427246], [0.5095193982124329], [0.4904067814350128], [0.5215515494346619], [0.5363184809684753], [0.5734670162200928], [0.5060728192329407], [0.514523446559906], [0.5398143529891968], [0.5033783316612244], [0.4957487881183624], [0.506472647190094], [0.5029922127723694], [0.5056003332138062], [0.46666470170021057], [0.5023519992828369], [0.5126726031303406], [0.5144562125205994], [0.5108480453491211], [0.5130322575569153], [0.5024641156196594], [0.538128137588501], [0.5016313791275024], [0.5476736426353455], [0.5060996413230896], [0.519596517086029], [0.5284232497215271], [0.508432924747467], [0.5070904493331909], [0.48871976137161255], [0.5063042044639587], [0.48530688881874084], [0.5084460973739624], [0.490923136472702], [0.5155375003814697], [0.5318285822868347], [0.49005982279777527], [0.5484545826911926], [0.5205996632575989], [0.5448855757713318], [0.5476388931274414], [0.5167680382728577], [0.6050584316253662], [0.5141858458518982], [0.5037583708763123], [0.5052829384803772], [0.5163052678108215], [0.3981514871120453], [0.4941181242465973], [0.48171067237854004], [0.5162287354469299], [0.5891487002372742], [0.49092498421669006], [0.47036975622177124], [0.4594128131866455], [0.530559778213501], [0.5467870831489563], [0.4828845262527466], [0.4831662178039551], [0.4883648157119751], [0.5842779874801636], [0.5182859897613525], [0.4379631578922272], [0.5517604947090149], [0.49953824281692505], [0.5337636470794678], [0.50200355052948], [0.48956647515296936], [0.532473087310791], [0.5813779830932617], [0.5222994685173035], [0.5169801115989685], [0.5135554075241089], [0.5093026757240295], [0.47996804118156433], [0.5682461857795715], [0.5347272753715515], [0.5212108492851257], [0.4948752224445343], [0.4965560734272003], [0.5024591088294983], [0.5052355527877808], [0.5240283012390137], [0.5100259184837341], [0.4762333333492279], [0.5019439458847046], [0.5803508162498474], [0.5298852920532227], [0.5203014016151428], [0.48336800932884216], [0.37428709864616394], [0.5309275984764099], [0.5242996215820312], [0.5134654641151428], [0.5353271961212158], [0.5006548166275024], [0.49312472343444824], [0.367326021194458], [0.5095334649085999], [0.573043942451477], [0.5451980233192444], [0.5422208905220032], [0.5298908948898315], [0.4519558548927307], [0.4966513514518738], [0.5206972360610962]]\n",
            "Epoch     2 - Train loss: 0.663941 - Train accuracy: 68.829257 - Test loss: 0.664335 - Test accuracy: 67.916667\n",
            "[[0.5083895921707153], [0.40263667702674866], [0.48578447103500366], [0.6183849573135376], [0.5161046385765076], [0.5243450999259949], [0.6136038899421692], [0.5053493976593018], [0.3980245590209961], [0.5558053255081177], [0.4984031319618225], [0.5107855796813965], [0.49845731258392334], [0.5984752178192139], [0.48905637860298157], [0.5089095234870911], [0.5712766647338867], [0.511447548866272], [0.49856704473495483], [0.5957703590393066], [0.5164114236831665], [0.5056474804878235], [0.52659672498703], [0.5012150406837463], [0.4993823170661926], [0.6266824007034302], [0.5690297484397888], [0.517386794090271], [0.5280651450157166], [0.5307777523994446], [0.5506289601325989], [0.34312933683395386], [0.49989429116249084], [0.5292831659317017], [0.5249682068824768], [0.5705070495605469], [0.5371198654174805], [0.59242182970047], [0.5048364400863647], [0.5172690749168396], [0.5282310843467712], [0.5425164699554443], [0.47182464599609375], [0.5055387020111084], [0.5144215226173401], [0.48977455496788025], [0.5113605260848999], [0.5482889413833618], [0.3977966010570526], [0.5415767431259155], [0.47172725200653076], [0.5230774879455566], [0.5062071681022644], [0.5251988768577576], [0.48061850666999817], [0.5359683632850647], [0.5218093991279602], [0.46060124039649963], [0.44914838671684265], [0.49677979946136475], [0.5018422603607178], [0.5604113936424255], [0.5105733275413513], [0.5123612880706787], [0.47289377450942993], [0.47457775473594666], [0.5929986834526062], [0.5264726877212524], [0.5109895467758179], [0.48643362522125244], [0.4719039499759674], [0.4821222424507141], [0.5510619878768921], [0.526946485042572], [0.5122939944267273], [0.5239527821540833], [0.5069951415061951], [0.5526006817817688], [0.6176390647888184], [0.4745945632457733], [0.41249746084213257], [0.5041897296905518], [0.5979462265968323], [0.49923738837242126], [0.5017393231391907], [0.46919238567352295], [0.3973642885684967], [0.5426158905029297], [0.5110544562339783], [0.5018513798713684], [0.4900428354740143], [0.36996978521347046], [0.5160832405090332], [0.4991452991962433], [0.5157877802848816], [0.5134167671203613], [0.5111897587776184], [0.5329046845436096], [0.4987322688102722], [0.49152088165283203], [0.5696031451225281], [0.5161242485046387], [0.5561140775680542], [0.4973737299442291], [0.5228997468948364], [0.5845305919647217], [0.5708833336830139], [0.5954827666282654], [0.6133851408958435], [0.47255972027778625], [0.5014417171478271], [0.5076480507850647], [0.4721287488937378], [0.4863942265510559], [0.4958276152610779], [0.4278686046600342], [0.5177466869354248], [0.5255072116851807], [0.5249829292297363], [0.48081329464912415], [0.5130389928817749], [0.6193283200263977], [0.5617022514343262], [0.5098705887794495], [0.5703781247138977], [0.5186717510223389], [0.5014523267745972], [0.4867454469203949], [0.512488842010498], [0.5018404126167297], [0.4023999571800232], [0.5578792095184326], [0.44681164622306824], [0.5079869031906128], [0.5066843032836914], [0.5500885844230652], [0.5137139558792114], [0.6183065176010132], [0.4835929274559021], [0.5016583800315857], [0.5063270330429077], [0.5290557146072388], [0.47460728883743286], [0.4715050160884857], [0.5919308662414551], [0.6179964542388916], [0.6187336444854736], [0.5050199627876282], [0.5271431803703308], [0.5147703289985657], [0.5026861429214478], [0.4934487044811249], [0.5219414234161377], [0.5593087077140808], [0.517301082611084], [0.3430884778499603], [0.506203293800354], [0.52741539478302], [0.4275068938732147], [0.48204782605171204], [0.44744521379470825], [0.5556392669677734], [0.49716833233833313], [0.5424216389656067], [0.5614960789680481], [0.5248062610626221], [0.5628566741943359], [0.5845546722412109], [0.563396692276001], [0.41353586316108704], [0.50487220287323], [0.6186854243278503], [0.4484832286834717], [0.5376189351081848], [0.4802957773208618], [0.43530651926994324], [0.6124138236045837], [0.5078459978103638], [0.5919966697692871], [0.5955139398574829], [0.5045341849327087], [0.41367286443710327], [0.5173271894454956], [0.5190321207046509], [0.4690302610397339], [0.5701086521148682], [0.49442654848098755], [0.5267316699028015], [0.47097674012184143], [0.5166069865226746], [0.5704444646835327], [0.6262209415435791], [0.4903697371482849], [0.5269466638565063], [0.5177853107452393], [0.5235797166824341], [0.5694947242736816], [0.5264531373977661], [0.5136748552322388], [0.6119111180305481], [0.5560116767883301], [0.5277779698371887], [0.45009055733680725], [0.47663694620132446], [0.5077884793281555], [0.523236870765686], [0.5096487402915955], [0.4717752933502197], [0.6274529695510864], [0.6044423580169678], [0.48674601316452026], [0.5130563974380493], [0.4921988546848297], [0.4537588059902191], [0.5044745206832886], [0.49320900440216064], [0.5425819754600525], [0.5702382326126099], [0.548492968082428], [0.4810625910758972], [0.5488709807395935], [0.5235803723335266], [0.5320167541503906], [0.4990229606628418], [0.4097496569156647], [0.6283730268478394], [0.5921741127967834], [0.4812038838863373], [0.4983813166618347], [0.5154648423194885], [0.598816454410553], [0.46306148171424866], [0.5052520036697388], [0.5138064622879028], [0.5097728371620178], [0.5126276016235352], [0.49972835183143616], [0.6193109750747681], [0.5212605595588684], [0.4720623791217804], [0.3422296941280365], [0.5357603430747986], [0.5111773014068604], [0.6191076040267944], [0.5252707004547119], [0.6188879013061523], [0.5126266479492188], [0.4720149338245392], [0.570203959941864], [0.5928419232368469], [0.48572495579719543], [0.4818927049636841], [0.5271422266960144], [0.5229281783103943], [0.49897974729537964], [0.4627436101436615], [0.5407324433326721], [0.48940491676330566], [0.5852431058883667], [0.5701513886451721], [0.5239182710647583], [0.5515111684799194], [0.5922240018844604], [0.5322167873382568], [0.5249024033546448], [0.49680712819099426], [0.5024347901344299], [0.42002251744270325], [0.5920001864433289], [0.5701106190681458], [0.4965131878852844], [0.504357635974884], [0.4100066125392914], [0.561362087726593], [0.5120953917503357], [0.524296760559082], [0.5347961187362671], [0.5123516321182251], [0.5564126968383789], [0.514529287815094], [0.35581353306770325], [0.5177760720252991], [0.6188820004463196], [0.5073933601379395], [0.5096579790115356], [0.5044352412223816], [0.5044276118278503], [0.49225154519081116], [0.5142390727996826], [0.5025709867477417], [0.5006307363510132], [0.504314124584198], [0.4956483244895935], [0.5194236040115356], [0.4991609752178192], [0.5317777395248413], [0.3974952697753906], [0.6181017756462097], [0.5242600440979004], [0.529192328453064], [0.523002564907074], [0.5272734761238098], [0.5055317878723145], [0.5289742946624756], [0.6125653982162476], [0.5359206199645996], [0.5994419455528259], [0.5070343017578125], [0.49932512640953064], [0.5561059713363647], [0.45270541310310364], [0.49429842829704285], [0.5712218880653381], [0.5228445529937744], [0.5572482943534851], [0.5695930123329163], [0.6369050145149231], [0.5029946565628052], [0.4477557837963104], [0.5323576927185059], [0.5030357837677002], [0.5582591891288757], [0.602832019329071], [0.5560919642448425], [0.41999709606170654], [0.5583130121231079], [0.4486333429813385], [0.3952924609184265], [0.4794408679008484], [0.49310925602912903], [0.48694542050361633], [0.5128800272941589], [0.44826963543891907], [0.548999011516571], [0.5070586800575256], [0.5554326176643372], [0.5168890357017517], [0.5527728199958801], [0.5073286294937134], [0.4994822144508362], [0.356621116399765], [0.5298635363578796], [0.34374964237213135], [0.5356292724609375], [0.5028464794158936], [0.5849134922027588], [0.5038415789604187], [0.518521785736084], [0.6187952160835266], [0.6178898811340332], [0.5263397097587585], [0.4782576262950897], [0.6334880590438843], [0.4827931225299835], [0.5785925984382629], [0.4852237403392792], [0.519292950630188], [0.5272148251533508], [0.5119696855545044], [0.47935494780540466], [0.5109068751335144], [0.5106353163719177], [0.4739243686199188], [0.5625128746032715], [0.4740850031375885], [0.5012311935424805], [0.5039975047111511], [0.519850492477417], [0.40929239988327026], [0.5129154324531555], [0.5264565944671631], [0.39236849546432495], [0.515437126159668], [0.5165536999702454], [0.5004853010177612], [0.5225781798362732], [0.4810095429420471], [0.4873678684234619], [0.4969824254512787], [0.5533941984176636], [0.3496389091014862], [0.5259905457496643], [0.39841228723526], [0.5704876780509949], [0.48103728890419006], [0.5138862729072571], [0.5065022706985474], [0.5103583335876465], [0.4813893437385559], [0.6779069900512695], [0.5268838405609131], [0.539421558380127], [0.40270087122917175], [0.5210215449333191], [0.49864232540130615], [0.5009774565696716], [0.32502979040145874], [0.5284751653671265], [0.5475218892097473], [0.48746219277381897], [0.4536578059196472], [0.48843178153038025], [0.6180532574653625], [0.5482322573661804], [0.5256262421607971], [0.4033086597919464], [0.5173547267913818], [0.5384162068367004], [0.5548918843269348], [0.5208927392959595], [0.6183216571807861], [0.5586602091789246], [0.5174310207366943], [0.5171725749969482], [0.5069127678871155], [0.5268486738204956], [0.5123063325881958], [0.5628604292869568], [0.506530225276947], [0.542559802532196], [0.45346033573150635], [0.45438191294670105], [0.5009610652923584], [0.47685152292251587], [0.5688430070877075], [0.5268734097480774], [0.5031399130821228], [0.41027751564979553], [0.570285975933075], [0.5698356032371521], [0.48696404695510864], [0.5318570733070374], [0.4279597997665405], [0.4961490333080292], [0.5708130598068237], [0.5137843489646912], [0.49810972809791565], [0.40861010551452637], [0.5086168050765991], [0.6181017160415649], [0.4848209619522095], [0.5614577531814575], [0.5245404243469238], [0.396200031042099], [0.5119575262069702], [0.5285317897796631], [0.48051655292510986], [0.5214828848838806], [0.48990076780319214], [0.5270966291427612], [0.47664323449134827], [0.4919421970844269], [0.5270968079566956], [0.34334540367126465], [0.49753090739250183], [0.5666134357452393], [0.5309938788414001], [0.4808691143989563], [0.5073614120483398], [0.5074267983436584], [0.5127565860748291], [0.49848219752311707], [0.5572957992553711], [0.5353742837905884], [0.50048828125], [0.55698561668396], [0.4961361885070801], [0.4818318784236908], [0.5147271156311035], [0.48062029480934143], [0.48027944564819336], [0.45230960845947266], [0.5096858143806458], [0.5122756958007812], [0.5239730477333069], [0.5370120406150818], [0.5141543745994568], [0.5265800952911377], [0.47365492582321167], [0.5198462605476379], [0.4858151376247406], [0.4209151864051819], [0.4255354702472687], [0.5017111897468567], [0.5133303999900818], [0.46598589420318604], [0.5124802589416504], [0.615999162197113], [0.5256174802780151], [0.48453763127326965], [0.5099065899848938], [0.49677205085754395], [0.5110771059989929], [0.562616765499115], [0.5028245449066162], [0.4968782067298889], [0.484554648399353], [0.4933556616306305], [0.5048730969429016], [0.5037102699279785], [0.4974575638771057], [0.5251442790031433], [0.5697947144508362], [0.5161011815071106], [0.44981861114501953], [0.34307780861854553], [0.4567660987377167], [0.5575472116470337], [0.5436449646949768], [0.6173189878463745], [0.6180627942085266], [0.5056032538414001], [0.5093438029289246], [0.5236282348632812], [0.4892635643482208], [0.5250033736228943], [0.5700412392616272], [0.32465505599975586], [0.3801259696483612], [0.5262836813926697], [0.5243029594421387], [0.5053078532218933], [0.48143842816352844], [0.38025224208831787], [0.6274626851081848], [0.5235810279846191], [0.5629026293754578], [0.5078209638595581], [0.5329450964927673], [0.4994417130947113], [0.5481587648391724], [0.4463787376880646], [0.4204089939594269], [0.5362043976783752], [0.5060911178588867], [0.6122344732284546], [0.5982190370559692], [0.49411073327064514], [0.5698819160461426], [0.5561156272888184], [0.4712253212928772], [0.5012335181236267], [0.48820364475250244], [0.4807949364185333], [0.6047855019569397], [0.4555283784866333], [0.5062770843505859], [0.5307134985923767], [0.5033409595489502], [0.5907166004180908], [0.5064822435379028], [0.5329771041870117], [0.5088289380073547], [0.5424086451530457], [0.5188497304916382], [0.511014461517334], [0.4962170124053955], [0.5347048044204712], [0.5217421054840088], [0.5486920475959778], [0.5696519017219543], [0.4745112955570221], [0.4955177307128906], [0.5173938274383545], [0.4437328577041626], [0.5051712393760681], [0.5172414183616638], [0.5196371674537659], [0.5128217339515686], [0.4720335304737091], [0.5154467225074768], [0.5111753940582275], [0.5090967416763306], [0.5122295618057251], [0.528856635093689], [0.5640192627906799], [0.6354403495788574], [0.5177237391471863], [0.5050174593925476], [0.5332856178283691], [0.493288516998291], [0.5119081735610962], [0.5311779379844666], [0.4855898916721344], [0.5192368626594543], [0.4910421073436737], [0.5398700833320618], [0.5561896562576294], [0.5079359412193298], [0.5400506854057312], [0.5021470785140991], [0.4958857595920563], [0.49872711300849915], [0.5176194906234741], [0.4953514337539673], [0.5688060522079468], [0.501130223274231], [0.6187971830368042], [0.4597115218639374], [0.5053913593292236], [0.5706419348716736], [0.4992268681526184], [0.5304699540138245], [0.5077390074729919], [0.5554252862930298], [0.4957756996154785], [0.5971439480781555], [0.532944917678833], [0.4745008647441864], [0.4935673773288727], [0.5103626251220703], [0.5030800104141235], [0.538364052772522], [0.4685034155845642], [0.49253177642822266], [0.4727754592895508], [0.524375855922699], [0.5283164978027344], [0.5281553268432617], [0.5421354174613953], [0.4900302290916443], [0.5044835209846497], [0.5942181944847107], [0.6175721883773804], [0.5093643069267273], [0.5094847083091736], [0.523677408695221], [0.4976215064525604], [0.5346856713294983], [0.519746720790863], [0.39721331000328064], [0.46277278661727905], [0.5152531862258911], [0.5262125134468079], [0.520832359790802], [0.5252591967582703], [0.5167833566665649], [0.48201504349708557], [0.515010416507721], [0.5923534035682678], [0.5030279755592346], [0.4844147264957428], [0.3431023955345154], [0.6184020638465881], [0.5063591003417969], [0.5918116569519043], [0.4634310007095337], [0.5259198546409607], [0.4939815402030945], [0.5378711223602295], [0.5364470481872559], [0.5851485133171082], [0.5212510228157043], [0.4736637771129608], [0.46622753143310547], [0.37704870104789734], [0.5401144623756409], [0.5628180503845215], [0.5064258575439453], [0.49743300676345825], [0.5850455164909363], [0.5428462624549866], [0.5971097946166992], [0.4920843839645386], [0.49874454736709595], [0.5072283744812012], [0.5614095330238342], [0.5125880837440491], [0.5153372883796692], [0.491036593914032], [0.5097247958183289], [0.5112448930740356], [0.5624169111251831], [0.3429432809352875], [0.5616298317909241], [0.540152907371521], [0.5361006855964661], [0.519645094871521], [0.4451916813850403], [0.49684059619903564], [0.5019441843032837], [0.5099992752075195], [0.5070260167121887], [0.5561129450798035], [0.5070839524269104], [0.49564915895462036], [0.5687894225120544], [0.5185257792472839], [0.4895329475402832], [0.5970253944396973], [0.5391963124275208], [0.5446863174438477], [0.5126203894615173], [0.5114511847496033], [0.4743184447288513], [0.5845683813095093], [0.6785951852798462], [0.5264453887939453], [0.5926591157913208], [0.45228609442710876], [0.4504639506340027], [0.5424035787582397], [0.48081180453300476], [0.5123332738876343], [0.4988965392112732], [0.5131443738937378], [0.4907146394252777], [0.5699636936187744], [0.4684203267097473], [0.5108444690704346], [0.5624575614929199], [0.5057539939880371], [0.4747332036495209], [0.5063303112983704], [0.5003706812858582], [0.5075775384902954], [0.39895084500312805], [0.5326060652732849], [0.45910924673080444], [0.6190284490585327], [0.4940737783908844], [0.49287664890289307], [0.4710743725299835], [0.5099849104881287], [0.4821370542049408], [0.6188804507255554], [0.5531378984451294], [0.5161484479904175], [0.4970459043979645], [0.5279892086982727], [0.5923393964767456], [0.48047059774398804], [0.5569388270378113], [0.497250497341156], [0.5490095615386963], [0.551425576210022], [0.5586140155792236], [0.5344150066375732], [0.6174243688583374], [0.5350425839424133], [0.5082431435585022], [0.4973693788051605], [0.6121140122413635], [0.6183963418006897], [0.46029627323150635], [0.3565433621406555], [0.49934783577919006], [0.525182843208313], [0.5015733242034912], [0.49567854404449463], [0.5395190119743347], [0.5162456631660461], [0.5256771445274353], [0.5442340970039368], [0.41956859827041626], [0.4579116106033325], [0.5014204382896423], [0.5564457178115845], [0.5061009526252747], [0.49203404784202576], [0.4885171353816986], [0.5169969797134399], [0.45421814918518066], [0.5012998580932617], [0.5066884160041809], [0.5315924286842346], [0.5406097769737244], [0.5152630805969238], [0.4968612492084503], [0.5240025520324707], [0.5024594068527222], [0.49900978803634644], [0.47865286469459534], [0.5181176662445068], [0.5226126909255981], [0.47129300236701965], [0.48827117681503296], [0.4897673726081848], [0.34302759170532227], [0.5702831745147705], [0.38128426671028137], [0.5302424430847168], [0.6189262270927429], [0.5236207842826843], [0.5126109719276428], [0.5849451422691345], [0.48969948291778564], [0.5261127352714539], [0.61780846118927], [0.4790686368942261], [0.6266671419143677], [0.515518069267273], [0.4682421088218689], [0.5273116230964661], [0.5049787163734436], [0.48912686109542847], [0.526881754398346], [0.5046730637550354], [0.5145430564880371], [0.5199172496795654], [0.47985488176345825], [0.4746876358985901], [0.6047228574752808], [0.6189464330673218], [0.5254647731781006], [0.5699853897094727], [0.4817524552345276], [0.5697185397148132], [0.5397366881370544], [0.523254930973053], [0.5054730772972107], [0.49387574195861816], [0.35113611817359924], [0.6170194745063782], [0.5112049579620361], [0.5564489364624023], [0.47991418838500977], [0.4800838530063629], [0.526032567024231], [0.5291461944580078], [0.46339479088783264], [0.508443295955658], [0.42043381929397583], [0.5055631399154663], [0.5075041651725769], [0.5413236021995544], [0.5082589387893677], [0.4767494201660156], [0.4870861768722534], [0.5241755247116089], [0.5135658383369446], [0.5095378160476685], [0.5111883878707886], [0.6273859739303589], [0.4972594678401947], [0.5216528177261353], [0.5263640284538269], [0.5049512982368469], [0.5996055006980896], [0.5415307879447937], [0.570329487323761], [0.48988959193229675], [0.5843061208724976], [0.35674452781677246], [0.5052862167358398], [0.4958527684211731], [0.5568132996559143], [0.5937237739562988], [0.48139652609825134], [0.5245383977890015], [0.5668666958808899], [0.5106260180473328], [0.570690929889679], [0.5159366130828857], [0.3425520658493042], [0.5350692272186279], [0.48194047808647156], [0.52723228931427], [0.5639002919197083], [0.5919546484947205], [0.5110732316970825], [0.5188061594963074], [0.5679507255554199], [0.5053049921989441], [0.4988011419773102], [0.5042625665664673], [0.5036446452140808], [0.49668899178504944], [0.4462147057056427], [0.49264469742774963], [0.5156101584434509], [0.5270676612854004], [0.5193735957145691], [0.5208064317703247], [0.4944121539592743], [0.5361035466194153], [0.4919433891773224], [0.570453941822052], [0.5084061026573181], [0.5236543416976929], [0.541067898273468], [0.5219532251358032], [0.5128054618835449], [0.4803175628185272], [0.5071925520896912], [0.4740919768810272], [0.515159547328949], [0.4830826222896576], [0.5079779624938965], [0.5413780808448792], [0.48286172747612], [0.5704268217086792], [0.5259551405906677], [0.5618598461151123], [0.5701400637626648], [0.5240080952644348], [0.6346260905265808], [0.5207905173301697], [0.5094293355941772], [0.5023087859153748], [0.5215792059898376], [0.35666027665138245], [0.49550193548202515], [0.47472742199897766], [0.5208890438079834], [0.6267324090003967], [0.4933108389377594], [0.4482457935810089], [0.43566104769706726], [0.5341050028800964], [0.5690321326255798], [0.47200772166252136], [0.47190672159194946], [0.4801759123802185], [0.6179900765419006], [0.524051308631897], [0.39821290969848633], [0.5840837955474854], [0.5088404417037964], [0.5618981122970581], [0.5025507807731628], [0.4811966121196747], [0.5406059622764587], [0.5956056714057922], [0.5225456357002258], [0.5241783857345581], [0.5148260593414307], [0.5140034556388855], [0.47272297739982605], [0.5980893969535828], [0.5580121874809265], [0.5199946165084839], [0.4984113574028015], [0.49221813678741455], [0.5056164860725403], [0.5011179447174072], [0.5253065824508667], [0.5133290886878967], [0.4485023319721222], [0.505889892578125], [0.5943775177001953], [0.5311233401298523], [0.519835352897644], [0.47230949997901917], [0.34252840280532837], [0.5502232313156128], [0.5267812013626099], [0.5177716612815857], [0.5423166751861572], [0.500989556312561], [0.482491672039032], [0.32786253094673157], [0.5144727826118469], [0.5913733839988708], [0.5558900833129883], [0.5522191524505615], [0.5490921139717102], [0.4209246039390564], [0.49199378490448], [0.5236662030220032]]\n",
            "Epoch     3 - Train loss: 0.653307 - Train accuracy: 70.708786 - Test loss: 0.649397 - Test accuracy: 70.729167\n",
            "[[0.5198315382003784], [0.40166425704956055], [0.49080824851989746], [0.6400062441825867], [0.5274261236190796], [0.5351799130439758], [0.6355588436126709], [0.5162889361381531], [0.3850679397583008], [0.5709688663482666], [0.5087611079216003], [0.5197619199752808], [0.509982705116272], [0.623303234577179], [0.4976418912410736], [0.5161060690879822], [0.5868683457374573], [0.5224247574806213], [0.5149562358856201], [0.6126335263252258], [0.5275804996490479], [0.516616940498352], [0.5383977293968201], [0.511385977268219], [0.5096663236618042], [0.6543431878089905], [0.5849251747131348], [0.5312198996543884], [0.5369387269020081], [0.545292317867279], [0.5673312544822693], [0.3609960377216339], [0.5102412104606628], [0.5381248593330383], [0.5356888175010681], [0.5860670208930969], [0.5484641194343567], [0.6162083148956299], [0.5153318643569946], [0.5287350416183472], [0.5396806597709656], [0.5504867434501648], [0.4818006455898285], [0.5160053968429565], [0.525968611240387], [0.4945967495441437], [0.523736298084259], [0.5598669648170471], [0.38520190119743347], [0.5556501150131226], [0.4761350452899933], [0.5341892838478088], [0.514592170715332], [0.5365015864372253], [0.48458531498908997], [0.5496654510498047], [0.5338053703308105], [0.4650874733924866], [0.4356067478656769], [0.5030399560928345], [0.5126152634620667], [0.5716369152069092], [0.5199005603790283], [0.5207953453063965], [0.4765995740890503], [0.4766201376914978], [0.6081908345222473], [0.5372042655944824], [0.5179391503334045], [0.4978238642215729], [0.4776057004928589], [0.4886123239994049], [0.561041533946991], [0.5375683307647705], [0.52232426404953], [0.5324079394340515], [0.5172569155693054], [0.5626757144927979], [0.6383973956108093], [0.48541510105133057], [0.42048269510269165], [0.513420820236206], [0.6231436729431152], [0.5097564458847046], [0.5117702484130859], [0.46358922123908997], [0.39904114603996277], [0.5523563623428345], [0.518631100654602], [0.5111109018325806], [0.5006108283996582], [0.3638800382614136], [0.5287360548973083], [0.5109071731567383], [0.5286473631858826], [0.5212520956993103], [0.5221773982048035], [0.5447300672531128], [0.5062752366065979], [0.4981592297554016], [0.5856499671936035], [0.5278452038764954], [0.5713292360305786], [0.5074557662010193], [0.534507691860199], [0.6109904646873474], [0.5866252183914185], [0.6121492981910706], [0.6317591667175293], [0.4785555601119995], [0.5122897028923035], [0.5181408524513245], [0.4822455942630768], [0.511473536491394], [0.5066168308258057], [0.4273507595062256], [0.5280745029449463], [0.5364525318145752], [0.5346184968948364], [0.48832762241363525], [0.5210328698158264], [0.6393234729766846], [0.5860262513160706], [0.5229364633560181], [0.5864346623420715], [0.5301734805107117], [0.5147416591644287], [0.49267762899398804], [0.5208376049995422], [0.510520875453949], [0.4014652371406555], [0.5752241015434265], [0.43966585397720337], [0.5177938938140869], [0.5178979635238647], [0.566683292388916], [0.5224681496620178], [0.6390756368637085], [0.4932292401790619], [0.5349540710449219], [0.5306564569473267], [0.5429403781890869], [0.4827974736690521], [0.47740399837493896], [0.61590576171875], [0.6395664215087891], [0.6390538215637207], [0.5159434080123901], [0.539101779460907], [0.525347888469696], [0.5137161016464233], [0.49811044335365295], [0.5332472324371338], [0.5755866765975952], [0.5278217196464539], [0.3616204857826233], [0.5160080790519714], [0.5381911396980286], [0.4268627166748047], [0.48860880732536316], [0.4429014325141907], [0.5669240355491638], [0.505422055721283], [0.55517578125], [0.5790788531303406], [0.5334300398826599], [0.5796065926551819], [0.6108085513114929], [0.5801313519477844], [0.4219304323196411], [0.5141163468360901], [0.63886958360672], [0.4437845051288605], [0.5492073893547058], [0.48768964409828186], [0.44145363569259644], [0.6339544057846069], [0.5184196829795837], [0.6070588231086731], [0.6121612787246704], [0.5133985877037048], [0.4171724021434784], [0.5278148055076599], [0.5330681204795837], [0.4756622314453125], [0.5860900282859802], [0.5045933723449707], [0.5380781292915344], [0.47637179493904114], [0.5303871631622314], [0.5858892798423767], [0.6538587808609009], [0.4977461099624634], [0.537823498249054], [0.531457781791687], [0.535338282585144], [0.585675060749054], [0.5356418490409851], [0.5220730304718018], [0.6334039568901062], [0.571274995803833], [0.5402016639709473], [0.45186105370521545], [0.4774514436721802], [0.5132257342338562], [0.534966766834259], [0.5178642868995667], [0.4730217754840851], [0.6550285816192627], [0.6243707537651062], [0.49262189865112305], [0.5233029127120972], [0.4972745478153229], [0.46318867802619934], [0.5135387778282166], [0.49955180287361145], [0.5524275302886963], [0.5857081413269043], [0.5637948513031006], [0.4872945547103882], [0.5655710101127625], [0.5349077582359314], [0.5430394411087036], [0.512143611907959], [0.4029383659362793], [0.6559562087059021], [0.6071860194206238], [0.48754212260246277], [0.5100158452987671], [0.5294317007064819], [0.6236299872398376], [0.46880829334259033], [0.5131703019142151], [0.5221775770187378], [0.5221956372261047], [0.5209457278251648], [0.5018212795257568], [0.6397325396537781], [0.5302277207374573], [0.4778691232204437], [0.3608149290084839], [0.5502719283103943], [0.5216770172119141], [0.6400201916694641], [0.5371691584587097], [0.640617311000824], [0.525939404964447], [0.4776393473148346], [0.5856297016143799], [0.6168688535690308], [0.490131139755249], [0.4882935583591461], [0.5367099046707153], [0.5347602367401123], [0.5107349157333374], [0.46855974197387695], [0.5558570027351379], [0.49643513560295105], [0.6112614870071411], [0.585576593875885], [0.5356706380844116], [0.5666878819465637], [0.6158592700958252], [0.5451880693435669], [0.535710334777832], [0.49903497099876404], [0.5127828121185303], [0.41695770621299744], [0.6159811019897461], [0.5856559872627258], [0.5049034953117371], [0.513595461845398], [0.4115847647190094], [0.5779619812965393], [0.5233001112937927], [0.5351119041442871], [0.5513451099395752], [0.5206450819969177], [0.5715312957763672], [0.5296633839607239], [0.36110761761665344], [0.529440701007843], [0.6389073729515076], [0.5128442049026489], [0.5217706561088562], [0.5144744515419006], [0.5124116539955139], [0.5014046430587769], [0.526719868183136], [0.509772539138794], [0.5100880861282349], [0.5160465240478516], [0.5050259232521057], [0.5286654829978943], [0.5094343423843384], [0.5500843524932861], [0.3992261290550232], [0.6395860314369202], [0.5349056720733643], [0.5389646291732788], [0.5330260396003723], [0.5386295914649963], [0.5122439861297607], [0.5413963794708252], [0.6341648697853088], [0.5504226684570312], [0.6245519518852234], [0.5172876715660095], [0.5088664293289185], [0.5715296268463135], [0.46180176734924316], [0.5043190717697144], [0.5877487659454346], [0.5367852449417114], [0.5714725852012634], [0.5887963175773621], [0.6570942997932434], [0.5114578008651733], [0.4519597589969635], [0.5449472665786743], [0.5110905766487122], [0.575590193271637], [0.6228634119033813], [0.5714492201805115], [0.41700974106788635], [0.5756632685661316], [0.44407713413238525], [0.3981448709964752], [0.4850848913192749], [0.5044364333152771], [0.49667274951934814], [0.5212587714195251], [0.45236003398895264], [0.5644199252128601], [0.5186117887496948], [0.5709742903709412], [0.5286997556686401], [0.5669605135917664], [0.5154203772544861], [0.5099815726280212], [0.36193594336509705], [0.5405949354171753], [0.36222538352012634], [0.5448976159095764], [0.5138885378837585], [0.6112464666366577], [0.5085043907165527], [0.5366058349609375], [0.6393753886222839], [0.6392564177513123], [0.5364698171615601], [0.47923150658607483], [0.6536427736282349], [0.49370354413986206], [0.5923032164573669], [0.4955546259880066], [0.5308865308761597], [0.5390180945396423], [0.5230470895767212], [0.4890883266925812], [0.5204682946205139], [0.5182929635047913], [0.48017382621765137], [0.5784791111946106], [0.47775375843048096], [0.5118555426597595], [0.5135225653648376], [0.5317856073379517], [0.39927902817726135], [0.5224071741104126], [0.5368303060531616], [0.37507110834121704], [0.524610161781311], [0.5236361026763916], [0.5108152627944946], [0.5319933295249939], [0.4873659908771515], [0.4937596917152405], [0.5056006908416748], [0.5677372217178345], [0.3479830324649811], [0.5384052395820618], [0.3853038549423218], [0.5863443613052368], [0.4870561957359314], [0.5255994200706482], [0.5164496898651123], [0.5192040205001831], [0.48761075735092163], [0.7072317004203796], [0.5376543998718262], [0.5546631813049316], [0.4015989899635315], [0.5308372378349304], [0.5088359117507935], [0.5126988887786865], [0.3296402096748352], [0.5400345921516418], [0.5569234490394592], [0.5122303366661072], [0.4631505012512207], [0.49984467029571533], [0.639592170715332], [0.5633140206336975], [0.5366335511207581], [0.4062349200248718], [0.5272209048271179], [0.5532791614532471], [0.5704294443130493], [0.5303887128829956], [0.6398870944976807], [0.5761560797691345], [0.5272161960601807], [0.5279613137245178], [0.5171089172363281], [0.5381975769996643], [0.5205760598182678], [0.5873309969902039], [0.5145803093910217], [0.5524040460586548], [0.46311113238334656], [0.46391862630844116], [0.5130369067192078], [0.4785749316215515], [0.5842135548591614], [0.5384418964385986], [0.5112115740776062], [0.40361639857292175], [0.5859607458114624], [0.585262656211853], [0.494968056678772], [0.5542760491371155], [0.4273495674133301], [0.507217288017273], [0.5866267681121826], [0.5253554582595825], [0.5053956508636475], [0.3987167775630951], [0.5171390771865845], [0.6400142908096313], [0.49004310369491577], [0.5784937739372253], [0.5368916392326355], [0.38446950912475586], [0.5248700976371765], [0.5469843149185181], [0.48442593216896057], [0.5323412418365479], [0.5001452565193176], [0.5378299951553345], [0.4874388873577118], [0.49908187985420227], [0.5382387042045593], [0.36188367009162903], [0.4991808235645294], [0.5858089923858643], [0.5479152798652649], [0.48735541105270386], [0.5221343636512756], [0.5161425471305847], [0.5231094360351562], [0.510141909122467], [0.5727353096008301], [0.5513647198677063], [0.5332300662994385], [0.5741674304008484], [0.5066745281219482], [0.4889766275882721], [0.5246570110321045], [0.4863910675048828], [0.48548007011413574], [0.45345237851142883], [0.5220600366592407], [0.5222281217575073], [0.5343266725540161], [0.551040530204773], [0.5248809456825256], [0.5333547592163086], [0.47747716307640076], [0.5329658389091492], [0.49761223793029785], [0.4178823232650757], [0.4247928857803345], [0.5123544335365295], [0.5223060846328735], [0.4680976867675781], [0.523819625377655], [0.6389281749725342], [0.5384756922721863], [0.4942055940628052], [0.5222041010856628], [0.49906453490257263], [0.5223719477653503], [0.5791124105453491], [0.5147614479064941], [0.5042247176170349], [0.49100637435913086], [0.5014967918395996], [0.5157174468040466], [0.5198080539703369], [0.5063112378120422], [0.536014974117279], [0.5853888988494873], [0.5299242734909058], [0.45517364144325256], [0.36163756251335144], [0.4682694971561432], [0.5749432444572449], [0.5566370487213135], [0.640204668045044], [0.6396775841712952], [0.5185127258300781], [0.5235121846199036], [0.535366952419281], [0.4983496367931366], [0.5357360243797302], [0.5856174230575562], [0.32924947142601013], [0.37330466508865356], [0.5371530652046204], [0.5355768203735352], [0.5153567790985107], [0.4879366159439087], [0.37335774302482605], [0.6549197435379028], [0.5351845622062683], [0.5871723890304565], [0.5191081166267395], [0.5496208667755127], [0.5098195672035217], [0.5621760487556458], [0.44403406977653503], [0.4173126220703125], [0.5535339117050171], [0.5158470869064331], [0.6337751746177673], [0.6231175661087036], [0.5017743110656738], [0.5855757594108582], [0.5714142322540283], [0.4754854738712311], [0.5144769549369812], [0.4936055541038513], [0.48681047558784485], [0.6249740719795227], [0.46693122386932373], [0.5147206783294678], [0.537400484085083], [0.5142182111740112], [0.6062873601913452], [0.5131024718284607], [0.5500277876853943], [0.517433226108551], [0.555290699005127], [0.5286868214607239], [0.520606517791748], [0.5028815865516663], [0.5473867058753967], [0.5325191020965576], [0.5641681551933289], [0.5851658582687378], [0.4818211793899536], [0.505384624004364], [0.5283680558204651], [0.4414803981781006], [0.5162656307220459], [0.5284439325332642], [0.5305076837539673], [0.5254078507423401], [0.4773103892803192], [0.5243998169898987], [0.5200324058532715], [0.5210322141647339], [0.5254690051078796], [0.5404630899429321], [0.5791523456573486], [0.6556161046028137], [0.5310842394828796], [0.5220111012458801], [0.5478394627571106], [0.49859869480133057], [0.5202865600585938], [0.5446724891662598], [0.4954991340637207], [0.531851589679718], [0.4985697269439697], [0.5550767183303833], [0.5714091062545776], [0.5193473100662231], [0.5548869371414185], [0.5090166926383972], [0.5041653513908386], [0.5054361820220947], [0.5271446108818054], [0.5048929452896118], [0.5842254161834717], [0.5144401788711548], [0.6403622031211853], [0.461807519197464], [0.516194224357605], [0.5860845446586609], [0.5072867274284363], [0.5483371615409851], [0.5152019262313843], [0.5709425210952759], [0.503659725189209], [0.6224380135536194], [0.5496593713760376], [0.48284998536109924], [0.5009822845458984], [0.5193747282028198], [0.5111174583435059], [0.5522579550743103], [0.4626888334751129], [0.4999300241470337], [0.47654736042022705], [0.5354485511779785], [0.541176974773407], [0.5404711961746216], [0.554909348487854], [0.498614639043808], [0.5092504024505615], [0.6185732483863831], [0.6403366327285767], [0.5195184946060181], [0.5178758502006531], [0.532486617565155], [0.5040707588195801], [0.5485175251960754], [0.5288652777671814], [0.3988909423351288], [0.46856003999710083], [0.5237249135971069], [0.5357112288475037], [0.5294984579086304], [0.5351977348327637], [0.5307353138923645], [0.48863697052001953], [0.5302628874778748], [0.6075849533081055], [0.5111744999885559], [0.49567630887031555], [0.36162999272346497], [0.6399362683296204], [0.5166988372802734], [0.606676459312439], [0.4692051410675049], [0.5363413691520691], [0.5046452879905701], [0.5484587550163269], [0.5510585904121399], [0.6111423373222351], [0.5324386358261108], [0.4772164523601532], [0.47060471773147583], [0.37577611207962036], [0.5550174713134766], [0.5874142646789551], [0.5178865790367126], [0.5036934018135071], [0.611453652381897], [0.5557513236999512], [0.6224486827850342], [0.5006746053695679], [0.5104860663414001], [0.5128107666969299], [0.5780947208404541], [0.5230439305305481], [0.5279484391212463], [0.4962349832057953], [0.519839882850647], [0.5190517902374268], [0.5791027545928955], [0.36160001158714294], [0.5783780217170715], [0.5608618259429932], [0.5487025380134583], [0.5322047472000122], [0.4449647068977356], [0.5044262409210205], [0.5111007690429688], [0.5189808011054993], [0.5064756870269775], [0.571506917476654], [0.5172522664070129], [0.5012545585632324], [0.5843497514724731], [0.5324274301528931], [0.49494004249572754], [0.6223191618919373], [0.5546320080757141], [0.5613013505935669], [0.5207055807113647], [0.5226758122444153], [0.47659382224082947], [0.6108191013336182], [0.7077599167823792], [0.5417683124542236], [0.6170920729637146], [0.458356112241745], [0.4491749405860901], [0.5524147152900696], [0.4870510697364807], [0.5256762504577637], [0.5030972957611084], [0.5263355374336243], [0.49820664525032043], [0.5857518315315247], [0.4626270830631256], [0.5222010612487793], [0.5791662931442261], [0.5134578347206116], [0.48109835386276245], [0.5157753229141235], [0.534074068069458], [0.5071466565132141], [0.40082231163978577], [0.5416801571846008], [0.4612078070640564], [0.639395534992218], [0.5008389949798584], [0.5004627108573914], [0.47697874903678894], [0.5193281769752502], [0.4882770776748657], [0.639393150806427], [0.5665653347969055], [0.5259016752243042], [0.5069858431816101], [0.5432637929916382], [0.6073941588401794], [0.4866095781326294], [0.573794424533844], [0.5031459927558899], [0.5570806860923767], [0.566717267036438], [0.5758363604545593], [0.5469374656677246], [0.6401610374450684], [0.551922619342804], [0.516749382019043], [0.49937570095062256], [0.6336153149604797], [0.6398974657058716], [0.46301206946372986], [0.3618389368057251], [0.5157983303070068], [0.5358167290687561], [0.5146206617355347], [0.5045994520187378], [0.5532751679420471], [0.5270295739173889], [0.5341376066207886], [0.5609918236732483], [0.41643962264060974], [0.4722762703895569], [0.5105988383293152], [0.5718770623207092], [0.5153313875198364], [0.4965193569660187], [0.4972453713417053], [0.5259800553321838], [0.4628258943557739], [0.5130117535591125], [0.5171465277671814], [0.5447179675102234], [0.5556976795196533], [0.5239081382751465], [0.5026785135269165], [0.5356171727180481], [0.5107789635658264], [0.5106822848320007], [0.48824381828308105], [0.5295250415802002], [0.5338914394378662], [0.4703812599182129], [0.49687761068344116], [0.4955034554004669], [0.3615896999835968], [0.5857515335083008], [0.37512537837028503], [0.5449119210243225], [0.6390919089317322], [0.5373610258102417], [0.5207881331443787], [0.6114566326141357], [0.501304566860199], [0.5372912287712097], [0.6387900710105896], [0.48906686902046204], [0.6541993021965027], [0.5246465802192688], [0.47325217723846436], [0.5397718548774719], [0.5166727304458618], [0.49826109409332275], [0.533621072769165], [0.529291033744812], [0.5261224508285522], [0.5296721458435059], [0.4833231568336487], [0.4769992530345917], [0.624894917011261], [0.6391926407814026], [0.5358347296714783], [0.5857043862342834], [0.487677663564682], [0.5857703685760498], [0.555074155330658], [0.5345884561538696], [0.5161023139953613], [0.5038905739784241], [0.34248414635658264], [0.6382767558097839], [0.5244335532188416], [0.571827232837677], [0.48587068915367126], [0.48791980743408203], [0.5384288430213928], [0.5430057644844055], [0.4673280715942383], [0.5190989375114441], [0.4172927737236023], [0.5153611898422241], [0.5184964537620544], [0.5614808797836304], [0.5209475159645081], [0.4784485697746277], [0.494260311126709], [0.5321620106697083], [0.5220516324043274], [0.5239014625549316], [0.5195003747940063], [0.6544751524925232], [0.5030560493469238], [0.5320611000061035], [0.5446188449859619], [0.5168017148971558], [0.6245399117469788], [0.5554219484329224], [0.5857340693473816], [0.49695226550102234], [0.610860288143158], [0.3621106743812561], [0.5296413898468018], [0.5047550201416016], [0.571397602558136], [0.6103870272636414], [0.4874149262905121], [0.5378578901290894], [0.5857905745506287], [0.5213581919670105], [0.5861184597015381], [0.528191864490509], [0.3611217737197876], [0.551978349685669], [0.4878878891468048], [0.5388873815536499], [0.5882880687713623], [0.6075654029846191], [0.523460865020752], [0.5300801396369934], [0.5869425535202026], [0.5149004459381104], [0.5107120871543884], [0.513457715511322], [0.5141763091087341], [0.5038443207740784], [0.44394198060035706], [0.49440959095954895], [0.5266343355178833], [0.5384565591812134], [0.5318089127540588], [0.531098484992981], [0.4990353286266327], [0.5489145517349243], [0.5000404119491577], [0.585860550403595], [0.5175264477729797], [0.5320848822593689], [0.5552002787590027], [0.5420554280281067], [0.5211063027381897], [0.4866271913051605], [0.5142316222190857], [0.4792831242084503], [0.5302954316139221], [0.4883047044277191], [0.5074731111526489], [0.5553426742553711], [0.4941336214542389], [0.5862811803817749], [0.5386437773704529], [0.5785598158836365], [0.5857599377632141], [0.5356877446174622], [0.6549215912818909], [0.5320320725440979], [0.522256076335907], [0.5089722275733948], [0.5322008728981018], [0.36177965998649597], [0.5051971673965454], [0.4812493920326233], [0.5321815609931946], [0.6543815732002258], [0.5151404142379761], [0.4435325264930725], [0.44121187925338745], [0.5421513319015503], [0.5845118761062622], [0.477556049823761], [0.47733190655708313], [0.4863918125629425], [0.640518069267273], [0.534621000289917], [0.38522595167160034], [0.610515296459198], [0.5334094762802124], [0.5865170955657959], [0.5108404755592346], [0.48745447397232056], [0.5555307865142822], [0.6124590635299683], [0.5334658026695251], [0.5348085761070251], [0.5265229940414429], [0.5236443281173706], [0.4818192422389984], [0.6230226755142212], [0.5752862095832825], [0.5274537205696106], [0.5104009509086609], [0.4972797930240631], [0.5154299139976501], [0.5082730650901794], [0.5325359106063843], [0.5243191719055176], [0.4525010883808136], [0.5170518755912781], [0.6109248399734497], [0.5410658717155457], [0.5295880436897278], [0.477853000164032], [0.3612584173679352], [0.5666627287864685], [0.5366320013999939], [0.528902530670166], [0.5541555881500244], [0.5126023888587952], [0.4845742881298065], [0.33250856399536133], [0.5240364074707031], [0.6066380739212036], [0.570712149143219], [0.566497266292572], [0.5655198097229004], [0.41794848442077637], [0.4974217414855957], [0.5338025093078613]]\n",
            "Epoch     4 - Train loss: 0.643320 - Train accuracy: 72.690217 - Test loss: 0.644345 - Test accuracy: 68.437500\n",
            "[[0.505190908908844], [0.3606167733669281], [0.46350550651550293], [0.6495766639709473], [0.5124734044075012], [0.5152594447135925], [0.6465015411376953], [0.5094755291938782], [0.35195645689964294], [0.573871910572052], [0.4945663511753082], [0.5102272629737854], [0.49268287420272827], [0.6268091201782227], [0.480840802192688], [0.5029021501541138], [0.5964644551277161], [0.5070340633392334], [0.50263512134552], [0.6098026037216187], [0.5126504302024841], [0.5039778351783752], [0.5379921197891235], [0.4912883937358856], [0.49540120363235474], [0.6655745506286621], [0.5940057039260864], [0.5247747898101807], [0.5219410061836243], [0.5425589680671692], [0.5734012722969055], [0.3344258666038513], [0.49337148666381836], [0.5235438346862793], [0.5159189105033875], [0.5957644581794739], [0.5403072834014893], [0.6170885562896729], [0.5087663531303406], [0.5145983695983887], [0.5243095755577087], [0.5336026549339294], [0.45435160398483276], [0.5027771592140198], [0.5116814970970154], [0.4736812114715576], [0.5137376189231873], [0.552383303642273], [0.35190218687057495], [0.5445325374603271], [0.45360931754112244], [0.5268701314926147], [0.50188148021698], [0.5361068844795227], [0.45508435368537903], [0.5438650846481323], [0.5193315744400024], [0.4400746524333954], [0.40637707710266113], [0.4892760217189789], [0.5006091594696045], [0.5716432929039001], [0.505426287651062], [0.5090206265449524], [0.4529259502887726], [0.459635853767395], [0.6113842129707336], [0.5275112390518188], [0.5002151131629944], [0.4818989634513855], [0.45131567120552063], [0.4650460183620453], [0.5451846122741699], [0.534439206123352], [0.5078781843185425], [0.5279678702354431], [0.49640658497810364], [0.5464837551116943], [0.651138186454773], [0.4571380317211151], [0.3860933184623718], [0.5013605952262878], [0.6266435980796814], [0.49241986870765686], [0.4919237196445465], [0.4365861415863037], [0.3689473569393158], [0.5436478853225708], [0.5135977268218994], [0.49879539012908936], [0.48689666390419006], [0.330498605966568], [0.5179256796836853], [0.49353206157684326], [0.5117238759994507], [0.5099565386772156], [0.506165623664856], [0.5335084795951843], [0.48337680101394653], [0.47895917296409607], [0.5947304368019104], [0.5179088115692139], [0.5743708610534668], [0.49528422951698303], [0.5215921998023987], [0.6206719279289246], [0.5962854623794556], [0.6094383001327515], [0.6233080625534058], [0.45199480652809143], [0.5018537640571594], [0.5084360241889954], [0.4546951353549957], [0.49096232652664185], [0.49105867743492126], [0.3932037055492401], [0.5180184245109558], [0.5309737324714661], [0.5327319502830505], [0.4693606495857239], [0.5156909823417664], [0.6520489454269409], [0.5960917472839355], [0.507398784160614], [0.5957927107810974], [0.5179877877235413], [0.5020350217819214], [0.4782925248146057], [0.514773428440094], [0.4924039840698242], [0.3607034683227539], [0.5837793946266174], [0.4185273051261902], [0.5073028206825256], [0.5053180456161499], [0.5726454854011536], [0.5165503621101379], [0.651874303817749], [0.47570696473121643], [0.5215012431144714], [0.5282368063926697], [0.5325062870979309], [0.46305739879608154], [0.4506950378417969], [0.6167095303535461], [0.6492431163787842], [0.651796281337738], [0.5037285089492798], [0.5385876297950745], [0.511323094367981], [0.4980742335319519], [0.4769141972064972], [0.515375554561615], [0.5759792327880859], [0.5146172046661377], [0.3350611627101898], [0.4976702332496643], [0.5247554183006287], [0.3928487300872803], [0.46445751190185547], [0.41332364082336426], [0.5514936447143555], [0.49302852153778076], [0.5579215288162231], [0.5770724415779114], [0.5286816954612732], [0.5786724090576172], [0.6202285885810852], [0.5807417631149292], [0.38693782687187195], [0.5035766363143921], [0.6515895128250122], [0.4145735502243042], [0.5367071628570557], [0.46868371963500977], [0.4180983304977417], [0.6446191072463989], [0.5040650367736816], [0.6101275086402893], [0.6093813180923462], [0.499912828207016], [0.3901074528694153], [0.5173295140266418], [0.522869348526001], [0.4546833634376526], [0.5954959392547607], [0.4862833619117737], [0.5378398299217224], [0.450228750705719], [0.5239846110343933], [0.5956730246543884], [0.6650521755218506], [0.48170071840286255], [0.5374724268913269], [0.5246627926826477], [0.5268056988716125], [0.5945908427238464], [0.5258508920669556], [0.5103073120117188], [0.6440091133117676], [0.5741239786148071], [0.5386819839477539], [0.42748406529426575], [0.4560278058052063], [0.4843011796474457], [0.5260903239250183], [0.506364643573761], [0.44452834129333496], [0.66619873046875], [0.633567750453949], [0.47826632857322693], [0.5069533586502075], [0.4804895222187042], [0.4377138912677765], [0.4977533221244812], [0.4853559732437134], [0.5435906052589417], [0.5953505039215088], [0.5617200136184692], [0.46388915181159973], [0.5714466571807861], [0.5167845487594604], [0.5317471623420715], [0.4955492913722992], [0.36527377367019653], [0.6673652529716492], [0.6102373003959656], [0.46399441361427307], [0.492599219083786], [0.5174620151519775], [0.627177357673645], [0.44328320026397705], [0.49403125047683716], [0.5097465515136719], [0.5078632235527039], [0.51512211561203], [0.47746580839157104], [0.6525266170501709], [0.528458833694458], [0.45143604278564453], [0.3341028094291687], [0.5429791212081909], [0.509413480758667], [0.6528341174125671], [0.5304775238037109], [0.6502248644828796], [0.5163275003433228], [0.4511982798576355], [0.5952616333961487], [0.6175079941749573], [0.4695669114589691], [0.4648325443267822], [0.5246696472167969], [0.5235540866851807], [0.49335476756095886], [0.44443219900131226], [0.5522806644439697], [0.48093530535697937], [0.621061384677887], [0.5953131914138794], [0.5271769762039185], [0.5580266118049622], [0.6163293719291687], [0.5367668867111206], [0.5157330632209778], [0.47822609543800354], [0.4926902949810028], [0.3852871358394623], [0.6168685555458069], [0.5952208042144775], [0.4934409558773041], [0.5024392008781433], [0.38286224007606506], [0.5782973766326904], [0.5127290487289429], [0.5151290893554688], [0.5602290630340576], [0.5147758722305298], [0.5745413303375244], [0.5169750452041626], [0.3244997262954712], [0.511999785900116], [0.6516621112823486], [0.48383402824401855], [0.5110803842544556], [0.500447154045105], [0.49632951617240906], [0.4873320162296295], [0.5161097049713135], [0.49184268712997437], [0.4947800636291504], [0.49820858240127563], [0.4891410171985626], [0.5196290612220764], [0.49221131205558777], [0.5462844967842102], [0.3692645728588104], [0.6492422819137573], [0.5151238441467285], [0.5328583717346191], [0.5235866904258728], [0.5383684039115906], [0.5005766749382019], [0.534707248210907], [0.644835352897644], [0.5433034896850586], [0.6280742287635803], [0.5057730674743652], [0.4927799701690674], [0.5744077563285828], [0.4363862872123718], [0.4902537167072296], [0.5969249606132507], [0.5267175436019897], [0.5529142618179321], [0.595966637134552], [0.6625925302505493], [0.48826315999031067], [0.4241067171096802], [0.5329442620277405], [0.48986780643463135], [0.5838050246238708], [0.6318296790122986], [0.5742242932319641], [0.38512280583381653], [0.5838721394538879], [0.4145047664642334], [0.37249594926834106], [0.4619402289390564], [0.4861242175102234], [0.4782414734363556], [0.5150712728500366], [0.424493670463562], [0.562377393245697], [0.5073376297950745], [0.5737179517745972], [0.512297511100769], [0.5578495264053345], [0.5032824873924255], [0.49276578426361084], [0.3254335820674896], [0.5323739051818848], [0.33580800890922546], [0.5326437950134277], [0.4992510676383972], [0.6206773519515991], [0.49237173795700073], [0.5229266881942749], [0.6521348357200623], [0.6488030552864075], [0.5248627662658691], [0.45848166942596436], [0.6588261127471924], [0.47553712129592896], [0.5774785280227661], [0.47440534830093384], [0.5157274007797241], [0.5386599898338318], [0.511815071105957], [0.46484214067459106], [0.5075010061264038], [0.5045247077941895], [0.4531484544277191], [0.5779631733894348], [0.4542430341243744], [0.4915704131126404], [0.5031526684761047], [0.5190299153327942], [0.3638259470462799], [0.5060800909996033], [0.5339606404304504], [0.3411923348903656], [0.5134726762771606], [0.5083882808685303], [0.49064531922340393], [0.5301179885864258], [0.4641590416431427], [0.472111314535141], [0.48883965611457825], [0.5587432980537415], [0.31046658754348755], [0.531432032585144], [0.3521791696548462], [0.5959149599075317], [0.4638480842113495], [0.5140634775161743], [0.5016284584999084], [0.5096376538276672], [0.4644804000854492], [0.7195935249328613], [0.5340602993965149], [0.5505961179733276], [0.3608519434928894], [0.5196601152420044], [0.4926331639289856], [0.5007325410842896], [0.2959274351596832], [0.5245316028594971], [0.5513620972633362], [0.4919177293777466], [0.43770694732666016], [0.4816049337387085], [0.6492564082145691], [0.5612543821334839], [0.5195876955986023], [0.3753505051136017], [0.5172258615493774], [0.5496562123298645], [0.5730615258216858], [0.5253787040710449], [0.6495499014854431], [0.5840176343917847], [0.5126882791519165], [0.5135475993156433], [0.5027986764907837], [0.5380645990371704], [0.5148448348045349], [0.5973316431045532], [0.5019636154174805], [0.5436857342720032], [0.43755629658699036], [0.43850281834602356], [0.5022770762443542], [0.44716066122055054], [0.5938440561294556], [0.538375198841095], [0.4982343912124634], [0.3657461702823639], [0.5954852104187012], [0.5950365662574768], [0.46871358156204224], [0.5523333549499512], [0.39348337054252625], [0.4906434714794159], [0.5961721539497375], [0.5090919733047485], [0.4815802574157715], [0.36307448148727417], [0.5013526082038879], [0.6494708061218262], [0.46241500973701477], [0.5788763165473938], [0.5299336910247803], [0.3511556088924408], [0.512120246887207], [0.5425819754600525], [0.46140751242637634], [0.5203180313110352], [0.48372623324394226], [0.5349289774894714], [0.46684691309928894], [0.4840303361415863], [0.5383056402206421], [0.3354080021381378], [0.4750502407550812], [0.5927276611328125], [0.53853440284729], [0.4633100926876068], [0.5123975872993469], [0.5048919320106506], [0.50255286693573], [0.4926639497280121], [0.5758792757987976], [0.5603427886962891], [0.5199177861213684], [0.5824151039123535], [0.49566882848739624], [0.47156599164009094], [0.5156379342079163], [0.4633902907371521], [0.46070626378059387], [0.42882487177848816], [0.5095558762550354], [0.5073887705802917], [0.5268519520759583], [0.5422167778015137], [0.51364666223526], [0.5203713178634644], [0.4536830186843872], [0.5185719728469849], [0.4815388023853302], [0.38593295216560364], [0.3909223973751068], [0.4930487871170044], [0.5126261115074158], [0.4448401927947998], [0.5132941603660583], [0.6515087485313416], [0.527398407459259], [0.4768311381340027], [0.5128910541534424], [0.47814247012138367], [0.5048774480819702], [0.5794950723648071], [0.5024521946907043], [0.48124194145202637], [0.4756717383861542], [0.4808935523033142], [0.5090324878692627], [0.5106926560401917], [0.4934597313404083], [0.5267441868782043], [0.594785749912262], [0.5232913494110107], [0.42459166049957275], [0.33507633209228516], [0.4396780729293823], [0.5831087231636047], [0.549347996711731], [0.6529930233955383], [0.6493391394615173], [0.505222499370575], [0.515710711479187], [0.5257584452629089], [0.48175033926963806], [0.5321326851844788], [0.5951647758483887], [0.2955155074596405], [0.33617132902145386], [0.5338921546936035], [0.5231500267982483], [0.5020526647567749], [0.4644404351711273], [0.33602437376976013], [0.6662037968635559], [0.5256541967391968], [0.5972124934196472], [0.5069349408149719], [0.5375369191169739], [0.49672722816467285], [0.5540794730186462], [0.40439334511756897], [0.38552337884902954], [0.5623186230659485], [0.5049403309822083], [0.6444090604782104], [0.6266336441040039], [0.4816106855869293], [0.5950739979743958], [0.5742232203483582], [0.45279133319854736], [0.5017809867858887], [0.4687831401824951], [0.4638383388519287], [0.6340281367301941], [0.4385412335395813], [0.5018398761749268], [0.524872362613678], [0.5031705498695374], [0.6090712547302246], [0.5040175914764404], [0.5379851460456848], [0.5018383264541626], [0.5580103993415833], [0.516948401927948], [0.5077856183052063], [0.4791671633720398], [0.5410149097442627], [0.5255262851715088], [0.562046229839325], [0.5948651432991028], [0.46537020802497864], [0.4915255010128021], [0.5141333341598511], [0.4021754562854767], [0.4960552752017975], [0.5137802362442017], [0.5190543532371521], [0.5131018757820129], [0.45140504837036133], [0.5107893943786621], [0.5104765295982361], [0.5081213712692261], [0.5097543597221375], [0.527413010597229], [0.5820414423942566], [0.6609039902687073], [0.5252101421356201], [0.512342095375061], [0.5367581248283386], [0.4823524057865143], [0.5141200423240662], [0.5303274989128113], [0.47354504466056824], [0.5243756175041199], [0.48396623134613037], [0.5513332486152649], [0.5743677616119385], [0.5071493983268738], [0.5515267848968506], [0.4869588315486908], [0.48391976952552795], [0.49050965905189514], [0.5137540102005005], [0.49012356996536255], [0.5934006571769714], [0.5015676617622375], [0.6500410437583923], [0.43330562114715576], [0.5094401836395264], [0.5958964824676514], [0.48670274019241333], [0.5444981455802917], [0.4997924268245697], [0.5737298130989075], [0.4914854168891907], [0.6259286999702454], [0.540545642375946], [0.46293336153030396], [0.4855468273162842], [0.510297417640686], [0.49005451798439026], [0.5431432127952576], [0.4357851445674896], [0.4861505925655365], [0.45270082354545593], [0.5256248712539673], [0.534464955329895], [0.5391391515731812], [0.5577322244644165], [0.48297780752182007], [0.4937137961387634], [0.619168758392334], [0.6530776023864746], [0.5037313103675842], [0.5084691643714905], [0.5278741717338562], [0.4904073476791382], [0.5424684286117554], [0.5199645757675171], [0.3685995638370514], [0.4445267915725708], [0.5138605833053589], [0.5262712240219116], [0.5234587788581848], [0.5240598320960999], [0.5242751836776733], [0.46499282121658325], [0.5175344944000244], [0.6106456518173218], [0.48998260498046875], [0.4795328378677368], [0.33509743213653564], [0.6495824456214905], [0.5068910121917725], [0.6097034811973572], [0.4452062249183655], [0.5331897139549255], [0.48607802391052246], [0.5341206192970276], [0.5441114902496338], [0.6208388805389404], [0.5257845520973206], [0.45392975211143494], [0.43271028995513916], [0.34377163648605347], [0.5517605543136597], [0.5973554849624634], [0.5047601461410522], [0.48841091990470886], [0.6207667589187622], [0.5585922002792358], [0.6260567307472229], [0.4833771288394928], [0.4930550456047058], [0.4978415369987488], [0.5784360766410828], [0.5067764520645142], [0.5144001841545105], [0.47933024168014526], [0.5007131099700928], [0.5138512849807739], [0.5794895887374878], [0.3351942300796509], [0.5786728858947754], [0.5564498901367188], [0.5402036309242249], [0.5229200124740601], [0.4226994812488556], [0.49374550580978394], [0.5016801953315735], [0.5066320896148682], [0.4836150109767914], [0.5743247270584106], [0.5029647350311279], [0.47437894344329834], [0.593890905380249], [0.5223081111907959], [0.4704332649707794], [0.6257948279380798], [0.5508216023445129], [0.5553116798400879], [0.5149194598197937], [0.5114706754684448], [0.45910266041755676], [0.6201396584510803], [0.7201358675956726], [0.5311902165412903], [0.6175405383110046], [0.4269488751888275], [0.4160268008708954], [0.5436848402023315], [0.46346673369407654], [0.5111804604530334], [0.48584699630737305], [0.5134760141372681], [0.48370179533958435], [0.5949580669403076], [0.4357298016548157], [0.5044886469841003], [0.5796509981155396], [0.4936675429344177], [0.4686405062675476], [0.5050864815711975], [0.5208715200424194], [0.48414114117622375], [0.3706497251987457], [0.5296635627746582], [0.4327560067176819], [0.6521628499031067], [0.4867528975009918], [0.4800107181072235], [0.4501427412033081], [0.5048324465751648], [0.4652114510536194], [0.652206301689148], [0.5626240968704224], [0.514666736125946], [0.4903686046600342], [0.5306410789489746], [0.6104763150215149], [0.46329569816589355], [0.581841766834259], [0.48953333497047424], [0.5477612018585205], [0.5576851963996887], [0.5841913223266602], [0.5406920909881592], [0.6528832316398621], [0.5608575940132141], [0.49902820587158203], [0.47589796781539917], [0.6442500948905945], [0.6495715975761414], [0.4369271397590637], [0.32537907361984253], [0.5035942196846008], [0.5323213934898376], [0.5020629167556763], [0.4916837215423584], [0.5443875193595886], [0.5080372095108032], [0.5296785831451416], [0.5549569129943848], [0.3848484456539154], [0.44919052720069885], [0.49602609872817993], [0.5747600197792053], [0.5016446113586426], [0.47768813371658325], [0.4643639624118805], [0.5082359910011292], [0.4403392970561981], [0.501132607460022], [0.5074278116226196], [0.5260884761810303], [0.5524054169654846], [0.5119592547416687], [0.47595375776290894], [0.5243520140647888], [0.4927437901496887], [0.4932312071323395], [0.4682677388191223], [0.5173021554946899], [0.5268017053604126], [0.4393823444843292], [0.46900859475135803], [0.4735329747200012], [0.3349889814853668], [0.5954093337059021], [0.3375144302845001], [0.5332520604133606], [0.6519403457641602], [0.5255984663963318], [0.5150315165519714], [0.6206914782524109], [0.4820217490196228], [0.5370211005210876], [0.651714563369751], [0.465946227312088], [0.6653329133987427], [0.5158451795578003], [0.4507574141025543], [0.5280922651290894], [0.49986305832862854], [0.468757688999176], [0.5207638144493103], [0.5266158580780029], [0.5099437236785889], [0.5112583637237549], [0.4607082009315491], [0.45989105105400085], [0.634095311164856], [0.6519288420677185], [0.53264319896698], [0.5950474739074707], [0.46507489681243896], [0.5948611497879028], [0.5510966181755066], [0.5333178639411926], [0.5001484155654907], [0.48555976152420044], [0.30388686060905457], [0.6510435938835144], [0.5087000727653503], [0.5746467113494873], [0.46251747012138367], [0.4688091278076172], [0.527430534362793], [0.5305958986282349], [0.4437576234340668], [0.5055849552154541], [0.38553476333618164], [0.5042621493339539], [0.5060703158378601], [0.5574431419372559], [0.5108281970024109], [0.446729451417923], [0.4756915271282196], [0.51968914270401], [0.5087394714355469], [0.5159884691238403], [0.5074860453605652], [0.6657374501228333], [0.4762880504131317], [0.5214996933937073], [0.5336660742759705], [0.5014690160751343], [0.6281668543815613], [0.5442586541175842], [0.5954089164733887], [0.48138436675071716], [0.6203315854072571], [0.3256355822086334], [0.5271084904670715], [0.4878278076648712], [0.5610646605491638], [0.6074791550636292], [0.4636196494102478], [0.5369316935539246], [0.5925418734550476], [0.5002207159996033], [0.5957978367805481], [0.5132526159286499], [0.33449214696884155], [0.560842752456665], [0.46415650844573975], [0.5297837853431702], [0.5982851982116699], [0.6104068160057068], [0.511441707611084], [0.5164746642112732], [0.5939177870750427], [0.5021217465400696], [0.4933628439903259], [0.49633467197418213], [0.49898555874824524], [0.48064160346984863], [0.4041860103607178], [0.4702698588371277], [0.5136021971702576], [0.5384966135025024], [0.5225600004196167], [0.5251206755638123], [0.4780501127243042], [0.5293521881103516], [0.4767008125782013], [0.595344603061676], [0.5056591033935547], [0.5276861190795898], [0.5506783723831177], [0.5370354056358337], [0.5145666599273682], [0.4632337987422943], [0.5007423162460327], [0.4530065655708313], [0.5177911520004272], [0.4685874879360199], [0.48454758524894714], [0.5441486835479736], [0.4732031226158142], [0.5958187580108643], [0.5278743505477905], [0.5790534019470215], [0.5953291654586792], [0.5285120606422424], [0.6603172421455383], [0.5249630808830261], [0.5100340247154236], [0.4939827620983124], [0.5199697613716125], [0.32508906722068787], [0.490488201379776], [0.4688167870044708], [0.5208221077919006], [0.6655551791191101], [0.5034553408622742], [0.41425272822380066], [0.4061822295188904], [0.533514142036438], [0.5942379236221313], [0.4516078531742096], [0.45112285017967224], [0.46323472261428833], [0.6531811356544495], [0.5272466540336609], [0.35203447937965393], [0.6200473308563232], [0.5310955047607422], [0.5966721773147583], [0.49748876690864563], [0.4642976224422455], [0.5521952509880066], [0.6096469759941101], [0.5166800618171692], [0.5283072590827942], [0.510511040687561], [0.5142970085144043], [0.45961278676986694], [0.6265615820884705], [0.5834149718284607], [0.5138510465621948], [0.4973088800907135], [0.48068252205848694], [0.5043964982032776], [0.49022048711776733], [0.5227870941162109], [0.5121250152587891], [0.4212814271450043], [0.5064831972122192], [0.6078663468360901], [0.5271344184875488], [0.5110850930213928], [0.45185622572898865], [0.33458831906318665], [0.5724811553955078], [0.5235748291015625], [0.5167052149772644], [0.5447373986244202], [0.49470892548561096], [0.465792179107666], [0.2992507219314575], [0.5149343013763428], [0.6096931099891663], [0.560448408126831], [0.5572966933250427], [0.5711296796798706], [0.3859771490097046], [0.48063042759895325], [0.5220701694488525]]\n",
            "Epoch     5 - Train loss: 0.630317 - Train accuracy: 74.365942 - Test loss: 0.631777 - Test accuracy: 72.291667\n",
            "[[0.5203853845596313], [0.3532923460006714], [0.46516114473342896], [0.6829922199249268], [0.5287918448448181], [0.5298586487770081], [0.6837397217750549], [0.5303493738174438], [0.32990342378616333], [0.5988671183586121], [0.512177050113678], [0.5246149897575378], [0.5107368230819702], [0.6503397226333618], [0.49259713292121887], [0.5166696310043335], [0.627201497554779], [0.5247263312339783], [0.5268604755401611], [0.6351288557052612], [0.5288501977920532], [0.5197992920875549], [0.558476448059082], [0.5037519335746765], [0.5130231380462646], [0.7043582797050476], [0.6250836849212646], [0.5494800806045532], [0.534663736820221], [0.568459689617157], [0.6027957201004028], [0.3629666566848755], [0.5091458559036255], [0.5366342663764954], [0.53059983253479], [0.6265207529067993], [0.5568650364875793], [0.6459549069404602], [0.5292518138885498], [0.5301910638809204], [0.5418990850448608], [0.5436080098152161], [0.4588280916213989], [0.5185850262641907], [0.5301143527030945], [0.4782417416572571], [0.5346000790596008], [0.5712046027183533], [0.3299533724784851], [0.5675320029258728], [0.4606844186782837], [0.54786217212677], [0.5145018100738525], [0.5561326742172241], [0.45097172260284424], [0.566860556602478], [0.5383603572845459], [0.4432125687599182], [0.3897019922733307], [0.49785348773002625], [0.5174738764762878], [0.5929147601127625], [0.5176915526390076], [0.5226140022277832], [0.4552864730358124], [0.46283313632011414], [0.6399573087692261], [0.5459451675415039], [0.5109288096427917], [0.49923887848854065], [0.45405784249305725], [0.47120413184165955], [0.5544478297233582], [0.5514560341835022], [0.5231001973152161], [0.5454764366149902], [0.510360062122345], [0.5557683706283569], [0.6783522963523865], [0.4630827009677887], [0.3920719623565674], [0.5166412591934204], [0.6504519581794739], [0.5080369114875793], [0.5041611790657043], [0.42367878556251526], [0.3662513494491577], [0.5583794116973877], [0.5277856588363647], [0.513275146484375], [0.5059927701950073], [0.320439875125885], [0.5376570224761963], [0.5119974613189697], [0.5301775336265564], [0.5238614082336426], [0.5222206711769104], [0.5540742874145508], [0.49016353487968445], [0.49000224471092224], [0.6258605718612671], [0.5363249182701111], [0.5996459722518921], [0.5112258791923523], [0.5396353006362915], [0.6542733907699585], [0.6272541880607605], [0.6346822381019592], [0.6513568758964539], [0.4550456404685974], [0.5202761888504028], [0.5266987085342407], [0.4594055712223053], [0.5251503586769104], [0.506084680557251], [0.388201504945755], [0.5347447395324707], [0.5489914417266846], [0.5502673387527466], [0.4802020192146301], [0.530045747756958], [0.6792231798171997], [0.6333466172218323], [0.5282403230667114], [0.626901388168335], [0.5361844301223755], [0.5203287601470947], [0.4863789975643158], [0.529382586479187], [0.502629280090332], [0.35339394211769104], [0.6136805415153503], [0.4059935212135315], [0.5236096382141113], [0.5258864760398865], [0.6020945906639099], [0.5317116975784302], [0.6791143417358398], [0.4902222156524658], [0.5576440095901489], [0.5645326972007751], [0.5550046563148499], [0.46960780024528503], [0.4536110460758209], [0.6457617878913879], [0.6828455328941345], [0.679052472114563], [0.5220195055007935], [0.5591610074043274], [0.5271791219711304], [0.5111839771270752], [0.4859639108181], [0.5310481786727905], [0.6033734679222107], [0.5311528444290161], [0.36364802718162537], [0.5119515061378479], [0.5413211584091187], [0.387790709733963], [0.46982553601264954], [0.4069252610206604], [0.5629065036773682], [0.5059620141983032], [0.5827337503433228], [0.6058347225189209], [0.5462666749954224], [0.6067559719085693], [0.6537760496139526], [0.608931303024292], [0.39346298575401306], [0.5189021229743958], [0.678385853767395], [0.4082651734352112], [0.5544610619544983], [0.479278028011322], [0.4313458204269409], [0.6813216209411621], [0.5206575989723206], [0.6386106610298157], [0.6345756649971008], [0.5145594477653503], [0.3941147029399872], [0.5335637927055359], [0.5456840395927429], [0.4629570543766022], [0.6266170740127563], [0.49994951486587524], [0.5585692524909973], [0.4520329236984253], [0.548450767993927], [0.6262573599815369], [0.7039304971694946], [0.4916449189186096], [0.5574959516525269], [0.5470133423805237], [0.5466458797454834], [0.6259141564369202], [0.541221559047699], [0.5216785669326782], [0.6808220148086548], [0.5992386341094971], [0.5612713694572449], [0.4294200837612152], [0.4544629454612732], [0.4831658601760864], [0.547073245048523], [0.521287202835083], [0.4405050277709961], [0.7050730586051941], [0.6669139266014099], [0.4862743616104126], [0.5223614573478699], [0.48915529251098633], [0.4458664357662201], [0.5109542608261108], [0.4973470866680145], [0.5585475564002991], [0.6260378360748291], [0.587576150894165], [0.46907180547714233], [0.6007277369499207], [0.5392252802848816], [0.5490146279335022], [0.51537024974823], [0.35051214694976807], [0.7061721086502075], [0.6387041211128235], [0.46925118565559387], [0.5108165144920349], [0.5392255783081055], [0.6508626341819763], [0.4485633671283722], [0.5040664076805115], [0.5209030508995056], [0.5266921520233154], [0.5296702980995178], [0.48038429021835327], [0.6798569560050964], [0.5463189482688904], [0.4541539251804352], [0.3626945912837982], [0.5663331151008606], [0.5266934037208557], [0.6802094578742981], [0.5497748255729675], [0.6839130520820618], [0.5380667448043823], [0.45370185375213623], [0.6258836984634399], [0.6459768414497375], [0.47510501742362976], [0.4704512655735016], [0.5373995900154114], [0.5413240194320679], [0.5117760300636292], [0.44556093215942383], [0.5755189061164856], [0.49069052934646606], [0.6546264290809631], [0.6259770393371582], [0.5469273328781128], [0.5802202820777893], [0.6451308727264404], [0.5579320788383484], [0.5304545760154724], [0.48011094331741333], [0.5054265856742859], [0.380691260099411], [0.6457505226135254], [0.6259639859199524], [0.5082030892372131], [0.517959475517273], [0.3816899061203003], [0.6058484315872192], [0.5327183604240417], [0.5298581123352051], [0.5941904187202454], [0.5295628905296326], [0.5995753407478333], [0.5419686436653137], [0.32709407806396484], [0.5306556224822998], [0.678943395614624], [0.48271578550338745], [0.5294795036315918], [0.5178162455558777], [0.5095136165618896], [0.5016663670539856], [0.5376431345939636], [0.5020616054534912], [0.5096813440322876], [0.5167067646980286], [0.5030745267868042], [0.535778820514679], [0.5076926350593567], [0.5810458064079285], [0.3667251169681549], [0.6826972365379333], [0.529630720615387], [0.5499071478843689], [0.5417996644973755], [0.5585291385650635], [0.5122696161270142], [0.5539075136184692], [0.6817424893379211], [0.5666066408157349], [0.6518239378929138], [0.5210834741592407], [0.5088269114494324], [0.5999784469604492], [0.4441462457180023], [0.5051786303520203], [0.6287018656730652], [0.5491326451301575], [0.5718244314193726], [0.6321948170661926], [0.6977830529212952], [0.49681663513183594], [0.4262663424015045], [0.5530218482017517], [0.49976563453674316], [0.6137982606887817], [0.6647699475288391], [0.5994912981987], [0.3803566098213196], [0.6138463616371155], [0.4081893563270569], [0.37606310844421387], [0.4669016897678375], [0.5027287006378174], [0.4899178743362427], [0.5297300815582275], [0.42672213912010193], [0.5886673927307129], [0.5250822901725769], [0.5990619659423828], [0.5294954180717468], [0.5809096097946167], [0.5184240341186523], [0.5083640217781067], [0.32823681831359863], [0.5523672699928284], [0.364451140165329], [0.5467605590820312], [0.5151756405830383], [0.6542471647262573], [0.4982048571109772], [0.5465819239616394], [0.6794854402542114], [0.6823360323905945], [0.5404125452041626], [0.45703744888305664], [0.6936438679695129], [0.492801308631897], [0.5973063707351685], [0.4885427951812744], [0.5315524339675903], [0.5591283440589905], [0.5310336947441101], [0.4762951731681824], [0.522072434425354], [0.5164819955825806], [0.45695361495018005], [0.6051583886146545], [0.4568778872489929], [0.5041302442550659], [0.5188925266265869], [0.5372707843780518], [0.3517668545246124], [0.5252062082290649], [0.5502227544784546], [0.31964555382728577], [0.5286282896995544], [0.5193662643432617], [0.503155529499054], [0.5479769706726074], [0.4694373607635498], [0.4813332259654999], [0.4995671808719635], [0.5824278593063354], [0.3007138967514038], [0.5507429838180542], [0.33013850450515747], [0.6270366311073303], [0.46943384408950806], [0.532252311706543], [0.5160775780677795], [0.5242016911506653], [0.4696272611618042], [0.7534632086753845], [0.5512065291404724], [0.5736331939697266], [0.35353171825408936], [0.5352364778518677], [0.5070993304252625], [0.5197244882583618], [0.29395294189453125], [0.5420492887496948], [0.5669313073158264], [0.5254567265510559], [0.4459807872772217], [0.4979478120803833], [0.6828367114067078], [0.5867798924446106], [0.5328288078308105], [0.37677252292633057], [0.5321716070175171], [0.5728118419647217], [0.5986239910125732], [0.5433496236801147], [0.6831095218658447], [0.6140814423561096], [0.5284519195556641], [0.5286861658096313], [0.5173090100288391], [0.5584255456924438], [0.5291263461112976], [0.6337471008300781], [0.5130324363708496], [0.558439314365387], [0.4458557963371277], [0.446708083152771], [0.5243322849273682], [0.4426414668560028], [0.624103307723999], [0.5586624145507812], [0.5116122364997864], [0.35116755962371826], [0.6263865828514099], [0.625504732131958], [0.48159757256507874], [0.5910723805427551], [0.38855835795402527], [0.5053986310958862], [0.6271079778671265], [0.5249729156494141], [0.48799440264701843], [0.3509940207004547], [0.5138531923294067], [0.6836379766464233], [0.4640473425388336], [0.6067686676979065], [0.5508837103843689], [0.32929912209510803], [0.5333704352378845], [0.5774738192558289], [0.4654400944709778], [0.5357884168624878], [0.49921944737434387], [0.5516811609268188], [0.4810766279697418], [0.4943104088306427], [0.5582413077354431], [0.36408406496047974], [0.47690829634666443], [0.6288290023803711], [0.5654247403144836], [0.46864303946495056], [0.5346806049346924], [0.5196833610534668], [0.5168188214302063], [0.5109390020370483], [0.6014833450317383], [0.5940210819244385], [0.5557804107666016], [0.6117774248123169], [0.5162750482559204], [0.48206400871276855], [0.5319422483444214], [0.46851053833961487], [0.46235954761505127], [0.4277303218841553], [0.5288929343223572], [0.5251961350440979], [0.5458043813705444], [0.5648428797721863], [0.5302507281303406], [0.532238781452179], [0.45615458488464355], [0.5390620231628418], [0.49936094880104065], [0.38123658299446106], [0.3856765329837799], [0.509623646736145], [0.5287883877754211], [0.4461815357208252], [0.5323753952980042], [0.6861268281936646], [0.5498201251029968], [0.4915511906147003], [0.534360945224762], [0.48034799098968506], [0.5201258063316345], [0.6071279644966125], [0.5225242376327515], [0.48753052949905396], [0.4850957691669464], [0.4933958649635315], [0.5299567580223083], [0.5370204448699951], [0.5071713924407959], [0.545513927936554], [0.625328004360199], [0.5482968688011169], [0.42290806770324707], [0.3636596202850342], [0.4506514370441437], [0.6131681799888611], [0.5710284113883972], [0.687593400478363], [0.6829047799110413], [0.5249262452125549], [0.5388175249099731], [0.544337809085846], [0.4947545528411865], [0.5489234924316406], [0.6258785724639893], [0.29352453351020813], [0.32694435119628906], [0.5511084794998169], [0.5438912510871887], [0.5195972919464111], [0.4697398245334625], [0.321162611246109], [0.7049242854118347], [0.5442007184028625], [0.6338189840316772], [0.5247166752815247], [0.5617619752883911], [0.5128573179244995], [0.5750178098678589], [0.39474955201148987], [0.3806971311569214], [0.5964153409004211], [0.5214424729347229], [0.681337296962738], [0.6504473686218262], [0.49312257766723633], [0.6259297728538513], [0.5994451642036438], [0.45977702736854553], [0.5201601982116699], [0.4762234687805176], [0.46899527311325073], [0.667415201663971], [0.449518620967865], [0.5147314071655273], [0.5420064330101013], [0.5217116475105286], [0.6376014947891235], [0.5149176120758057], [0.5625253319740295], [0.5143553614616394], [0.5830103158950806], [0.5329861044883728], [0.5224180221557617], [0.48195144534111023], [0.564123809337616], [0.546552836894989], [0.58827143907547], [0.6256449818611145], [0.4767390489578247], [0.5062617659568787], [0.5300745964050293], [0.39277371764183044], [0.5105248689651489], [0.5299898982048035], [0.5364271998405457], [0.5349200963973999], [0.45354387164115906], [0.5235302448272705], [0.5258798003196716], [0.528361439704895], [0.5281521081924438], [0.543209969997406], [0.6081134080886841], [0.6958825588226318], [0.5471641421318054], [0.5387954711914062], [0.5584067106246948], [0.4910237789154053], [0.5285781621932983], [0.5513266921043396], [0.48424986004829407], [0.5442537665367126], [0.49403640627861023], [0.5750106573104858], [0.599484920501709], [0.5249665379524231], [0.5751065611839294], [0.4970281720161438], [0.49602052569389343], [0.5009371638298035], [0.5284227132797241], [0.5050572752952576], [0.6236873269081116], [0.5199141502380371], [0.6836984157562256], [0.4272969365119934], [0.5302143096923828], [0.6265133023262024], [0.4990961253643036], [0.5788626074790955], [0.5115749835968018], [0.5990207195281982], [0.5036496520042419], [0.64993816614151], [0.5671571493148804], [0.4699038565158844], [0.4965490400791168], [0.5261678695678711], [0.49994802474975586], [0.5657456517219543], [0.4226038157939911], [0.4976213574409485], [0.45511749386787415], [0.542750895023346], [0.5541434288024902], [0.5620374083518982], [0.5825925469398499], [0.49306896328926086], [0.499830961227417], [0.6484683752059937], [0.6876682639122009], [0.5186271667480469], [0.5226552486419678], [0.5458025336265564], [0.4990389943122864], [0.5657029151916504], [0.535853922367096], [0.36603671312332153], [0.4453922212123871], [0.5304037928581238], [0.5440607070922852], [0.538652777671814], [0.5405171513557434], [0.5492493510246277], [0.47073090076446533], [0.5426509976387024], [0.639097273349762], [0.4997829496860504], [0.4968760907649994], [0.3636833429336548], [0.6831239461898804], [0.5246120691299438], [0.6382725238800049], [0.44633954763412476], [0.5497000217437744], [0.5026247501373291], [0.550020158290863], [0.5674331188201904], [0.6546199917793274], [0.5453245043754578], [0.45615845918655396], [0.4292680323123932], [0.3390567898750305], [0.5754479765892029], [0.6341113448143005], [0.5180074572563171], [0.49818527698516846], [0.6542944312095642], [0.5836821794509888], [0.650097131729126], [0.49674680829048157], [0.5111123919487], [0.5052887797355652], [0.6059845089912415], [0.5217915773391724], [0.5328226685523987], [0.48779553174972534], [0.5142967104911804], [0.528110682964325], [0.6072890758514404], [0.3637964725494385], [0.6062974333763123], [0.5882275104522705], [0.5615049004554749], [0.5428110361099243], [0.42004701495170593], [0.5054028630256653], [0.5163843035697937], [0.5189158320426941], [0.48032933473587036], [0.5997169613838196], [0.5173395276069641], [0.4749121069908142], [0.624610185623169], [0.5441741943359375], [0.4783123731613159], [0.6498303413391113], [0.5746855735778809], [0.5797633528709412], [0.5291987657546997], [0.5288585424423218], [0.4622136354446411], [0.6537275314331055], [0.7540692090988159], [0.5575270056724548], [0.6466299891471863], [0.42569485306739807], [0.4108082056045532], [0.5588107705116272], [0.4687115252017975], [0.5308991074562073], [0.49221646785736084], [0.5338653922080994], [0.49390727281570435], [0.6257686018943787], [0.4225725531578064], [0.5197944641113281], [0.6071764826774597], [0.5037649869918823], [0.48276668787002563], [0.5205737948417664], [0.5573114156723022], [0.4808798134326935], [0.36837902665138245], [0.5437048077583313], [0.4267624318599701], [0.6794632077217102], [0.49748852849006653], [0.49303919076919556], [0.4531285762786865], [0.5166565775871277], [0.4705301523208618], [0.6793091893196106], [0.5856562256813049], [0.5293827652931213], [0.5054768919944763], [0.5544045567512512], [0.6389510631561279], [0.4683440625667572], [0.6111913323402405], [0.4981628358364105], [0.5614519715309143], [0.5798792243003845], [0.6142529249191284], [0.563827395439148], [0.687444269657135], [0.5950190424919128], [0.5121248960494995], [0.4781171679496765], [0.6810994744300842], [0.6831570863723755], [0.4380365312099457], [0.3282880485057831], [0.5276132225990295], [0.5490144491195679], [0.5202854871749878], [0.5052707195281982], [0.5653954744338989], [0.5197221040725708], [0.5473145246505737], [0.5794938206672668], [0.3801443874835968], [0.465154230594635], [0.5085726380348206], [0.6000862717628479], [0.5161545872688293], [0.48166900873184204], [0.4697689116001129], [0.5212793350219727], [0.4540708363056183], [0.5204334855079651], [0.5255331993103027], [0.543670654296875], [0.5765478014945984], [0.5255425572395325], [0.47667571902275085], [0.5409193634986877], [0.5058398246765137], [0.5114937424659729], [0.4819655120372772], [0.5353904962539673], [0.5479399561882019], [0.4328465163707733], [0.48020219802856445], [0.4791441261768341], [0.36356639862060547], [0.6260765790939331], [0.32876378297805786], [0.5569420456886292], [0.6792680025100708], [0.5452522039413452], [0.5295192003250122], [0.6542424559593201], [0.497533917427063], [0.5569419860839844], [0.6791214942932129], [0.47934091091156006], [0.7042432427406311], [0.5299457311630249], [0.4562245309352875], [0.5491623282432556], [0.5174508094787598], [0.47786736488342285], [0.5326542854309082], [0.5633813142776489], [0.525774359703064], [0.5245368480682373], [0.46438130736351013], [0.4629015326499939], [0.6671479940414429], [0.6791270971298218], [0.5493381023406982], [0.6259433627128601], [0.4700835943222046], [0.6261115074157715], [0.574395477771759], [0.5528368353843689], [0.5179154276847839], [0.49921149015426636], [0.29263824224472046], [0.6782918572425842], [0.5269485116004944], [0.6000047922134399], [0.46769848465919495], [0.4786106050014496], [0.5473951101303101], [0.5538936853408813], [0.4466637670993805], [0.5209638476371765], [0.3807460069656372], [0.5175760388374329], [0.523419201374054], [0.5884964466094971], [0.535756528377533], [0.44210153818130493], [0.48500755429267883], [0.5325421094894409], [0.5212957859039307], [0.5391964316368103], [0.5208367109298706], [0.704454779624939], [0.4770708680152893], [0.5383201241493225], [0.5609946250915527], [0.5206376314163208], [0.6517347693443298], [0.5667112469673157], [0.6259851455688477], [0.49102094769477844], [0.6539638042449951], [0.32856136560440063], [0.5638617277145386], [0.4987599551677704], [0.5832246541976929], [0.6328985095024109], [0.4688348174095154], [0.5585412979125977], [0.6286417245864868], [0.5114497542381287], [0.626462996006012], [0.5295501351356506], [0.36307454109191895], [0.5947877168655396], [0.4694075584411621], [0.545876681804657], [0.6347701549530029], [0.6389987468719482], [0.5310801267623901], [0.5362927913665771], [0.6292030215263367], [0.5171364545822144], [0.5115638971328735], [0.5105617046356201], [0.514877200126648], [0.48806992173194885], [0.3948494791984558], [0.4675924777984619], [0.5293490290641785], [0.5584561824798584], [0.5421364903450012], [0.5434267520904541], [0.4871238172054291], [0.5427851676940918], [0.4842657446861267], [0.6256300806999207], [0.5211948156356812], [0.5451180338859558], [0.5728529691696167], [0.5720142126083374], [0.5293298959732056], [0.4685792624950409], [0.5141475200653076], [0.45950472354888916], [0.5424026250839233], [0.47524750232696533], [0.4815322756767273], [0.5666720271110535], [0.4874407649040222], [0.6268714070320129], [0.548309862613678], [0.6067157983779907], [0.6261404156684875], [0.5482375621795654], [0.6952916383743286], [0.5449604392051697], [0.5300322771072388], [0.5052529573440552], [0.5376880764961243], [0.32788828015327454], [0.5056390762329102], [0.4829283356666565], [0.5397326350212097], [0.7042952179908752], [0.5362301468849182], [0.4079834818840027], [0.40763744711875916], [0.5523567199707031], [0.6245288848876953], [0.4536607265472412], [0.45361727476119995], [0.4683932363986969], [0.6876484751701355], [0.5464147329330444], [0.33000609278678894], [0.6536810398101807], [0.5676289796829224], [0.6342038512229919], [0.5088742971420288], [0.4694848954677582], [0.5756450891494751], [0.6348499059677124], [0.5338937640190125], [0.5463031530380249], [0.5272548198699951], [0.5306679606437683], [0.47071218490600586], [0.650223970413208], [0.6133432388305664], [0.5279826521873474], [0.5155791640281677], [0.48943743109703064], [0.5179305076599121], [0.4997609853744507], [0.5348362326622009], [0.5287992358207703], [0.4202653765678406], [0.5248779058456421], [0.633266031742096], [0.5414901375770569], [0.5243011713027954], [0.4544489085674286], [0.36294782161712646], [0.6017977595329285], [0.5376213192939758], [0.5345683693885803], [0.562092125415802], [0.5110335946083069], [0.4633759558200836], [0.29743412137031555], [0.5308952331542969], [0.6381494402885437], [0.5826516151428223], [0.5806061029434204], [0.600189745426178], [0.3812384009361267], [0.4891071319580078], [0.5366440415382385]]\n",
            "Epoch     6 - Train loss: 0.621699 - Train accuracy: 75.079257 - Test loss: 0.622309 - Test accuracy: 71.145833\n",
            "[[0.5167618989944458], [0.34210342168807983], [0.45540913939476013], [0.6909769177436829], [0.5272244215011597], [0.5220709443092346], [0.6908690333366394], [0.5306690335273743], [0.31434836983680725], [0.6045089364051819], [0.5087308883666992], [0.5225778818130493], [0.5056573152542114], [0.6581867337226868], [0.48894041776657104], [0.5107561945915222], [0.6357695460319519], [0.5207319855690002], [0.5290622711181641], [0.6380133032798767], [0.5274183750152588], [0.5165189504623413], [0.5622164011001587], [0.498168408870697], [0.5095139145851135], [0.7140937447547913], [0.6335017681121826], [0.5530219674110413], [0.5302779078483582], [0.5710767507553101], [0.6095135807991028], [0.3727708160877228], [0.5030160546302795], [0.5325301289558411], [0.5227776765823364], [0.6350462436676025], [0.555903971195221], [0.6521373987197876], [0.5296422243118286], [0.5276040434837341], [0.5368489027023315], [0.5375400185585022], [0.45333173871040344], [0.5157023668289185], [0.5265005230903625], [0.47015178203582764], [0.5333756804466248], [0.5705339908599854], [0.31438761949539185], [0.5653960108757019], [0.45328977704048157], [0.5469900965690613], [0.5102740526199341], [0.5597338676452637], [0.44311264157295227], [0.5681453943252563], [0.5354297161102295], [0.43403565883636475], [0.3717539310455322], [0.4924095869064331], [0.5152457356452942], [0.5949503183364868], [0.5134492516517639], [0.5187908411026001], [0.4474046528339386], [0.4537479877471924], [0.6447380185127258], [0.5448566675186157], [0.5042749047279358], [0.4957144558429718], [0.4435691237449646], [0.4620409309864044], [0.5450621247291565], [0.5533230900764465], [0.5195408463478088], [0.5456569194793701], [0.5052383542060852], [0.5464434623718262], [0.6880107522010803], [0.45770755410194397], [0.3845842480659485], [0.5138244032859802], [0.6581605672836304], [0.5018293261528015], [0.4985957443714142], [0.4121730327606201], [0.35551130771636963], [0.5552622079849243], [0.5272142291069031], [0.5100425481796265], [0.5033929944038391], [0.3093510568141937], [0.5357227325439453], [0.5069672465324402], [0.5264952182769775], [0.5194473266601562], [0.5176525115966797], [0.5514590740203857], [0.48427435755729675], [0.484002023935318], [0.6343424320220947], [0.5344616174697876], [0.6054524779319763], [0.5079013705253601], [0.5375033020973206], [0.6640899181365967], [0.6358732581138611], [0.637582540512085], [0.6539952754974365], [0.4444221258163452], [0.5189254283905029], [0.5262343287467957], [0.4540616273880005], [0.5299579501152039], [0.5021857023239136], [0.3781820237636566], [0.5333658456802368], [0.5489329099655151], [0.5513578653335571], [0.4754441976547241], [0.5295099020004272], [0.6889131665229797], [0.64432293176651], [0.5249343514442444], [0.6354227662086487], [0.5343507528305054], [0.522836446762085], [0.4812205731868744], [0.5286995768547058], [0.4972061812877655], [0.342359721660614], [0.6213719248771667], [0.39268067479133606], [0.5216782689094543], [0.5236982107162476], [0.6088613867759705], [0.5311121940612793], [0.6887986660003662], [0.4855741560459137], [0.567205548286438], [0.5759169459342957], [0.5536373257637024], [0.4656035006046295], [0.44300931692123413], [0.6518940329551697], [0.6908324956893921], [0.6887465715408325], [0.5193129181861877], [0.5628505349159241], [0.524634838104248], [0.5070413947105408], [0.47731831669807434], [0.5261185169219971], [0.6078959703445435], [0.5282863974571228], [0.37361598014831543], [0.5061716437339783], [0.5382161140441895], [0.37767931818962097], [0.4605723023414612], [0.39440879225730896], [0.5538691878318787], [0.5027106404304504], [0.5872550010681152], [0.6086236238479614], [0.5464788675308228], [0.609630286693573], [0.6635803580284119], [0.6136950254440308], [0.3861229121685028], [0.516591489315033], [0.688073992729187], [0.395729660987854], [0.5521903038024902], [0.47447478771209717], [0.42906680703163147], [0.6881300806999207], [0.5174233317375183], [0.6433584690093994], [0.6375194191932678], [0.511705756187439], [0.3884040117263794], [0.5311776995658875], [0.5446780920028687], [0.4596575200557709], [0.6351922750473022], [0.4941650629043579], [0.5622737407684326], [0.44159120321273804], [0.5520192980766296], [0.6348100304603577], [0.7136459946632385], [0.4855402410030365], [0.5611124038696289], [0.5475109219551086], [0.5465117692947388], [0.6343855857849121], [0.5392102599143982], [0.517696738243103], [0.6877436637878418], [0.6050102114677429], [0.5636706948280334], [0.4187128245830536], [0.44498971104621887], [0.4718118906021118], [0.5463335514068604], [0.5185332298278809], [0.42988863587379456], [0.7148157954216003], [0.6742256879806519], [0.4811439514160156], [0.5180532336235046], [0.4825513958930969], [0.4409472942352295], [0.5059683918952942], [0.4918316602706909], [0.5553300380706787], [0.6345517039299011], [0.590667724609375], [0.46000808477401733], [0.6073808670043945], [0.5350038409233093], [0.5424785017967224], [0.5118746757507324], [0.33534905314445496], [0.7158762216567993], [0.6434214115142822], [0.46004247665405273], [0.5057074427604675], [0.5410215854644775], [0.65857994556427], [0.44018957018852234], [0.4991290271282196], [0.5168136358261108], [0.5231910943984985], [0.5291253924369812], [0.4676767885684967], [0.6895825862884521], [0.5470853447914124], [0.44347429275512695], [0.37271180748939514], [0.5681180357933044], [0.5237895250320435], [0.6899498105049133], [0.5499675273895264], [0.6919156312942505], [0.5379262566566467], [0.4431528151035309], [0.6343721151351929], [0.6520503759384155], [0.46544814109802246], [0.46128368377685547], [0.5345782041549683], [0.5390431880950928], [0.5066851377487183], [0.4400727152824402], [0.5804259181022644], [0.4846397340297699], [0.6643729209899902], [0.6344762444496155], [0.5468186736106873], [0.5776980519294739], [0.6511929631233215], [0.5555716753005981], [0.5226452350616455], [0.4713759422302246], [0.499933123588562], [0.37040531635284424], [0.6519376039505005], [0.6345162391662598], [0.5049256086349487], [0.515446126461029], [0.376638799905777], [0.6103761196136475], [0.5306335091590881], [0.5219296216964722], [0.5997236967086792], [0.5289843678474426], [0.6053971648216248], [0.5415939688682556], [0.32376354932785034], [0.5269254446029663], [0.6886312961578369], [0.47136300802230835], [0.5276626944541931], [0.5138933658599854], [0.50400310754776], [0.49762246012687683], [0.5357103943824768], [0.4957479238510132], [0.505305826663971], [0.5127550363540649], [0.4982250928878784], [0.5341863632202148], [0.5015880465507507], [0.5856421589851379], [0.3560435473918915], [0.6906715035438538], [0.5219038724899292], [0.5491985082626343], [0.5398790240287781], [0.5621845722198486], [0.5083757638931274], [0.5547393560409546], [0.6884984970092773], [0.5684091448783875], [0.6600908041000366], [0.5185767412185669], [0.5045359134674072], [0.6057658791542053], [0.4390164613723755], [0.5052242279052734], [0.6373188495635986], [0.5485572814941406], [0.5665953755378723], [0.638626217842102], [0.7027261257171631], [0.49026840925216675], [0.41809192299842834], [0.5511685609817505], [0.49272286891937256], [0.6215302348136902], [0.6720736026763916], [0.6051658391952515], [0.3699452579021454], [0.6215982437133789], [0.39535248279571533], [0.37095528841018677], [0.45763540267944336], [0.4971460700035095], [0.48511889576911926], [0.529141902923584], [0.4184225797653198], [0.5917823910713196], [0.5229591131210327], [0.6048288345336914], [0.5262382626533508], [0.5794776678085327], [0.513337254524231], [0.5021782517433167], [0.32490605115890503], [0.5512297749519348], [0.37443241477012634], [0.5430027842521667], [0.5117751955986023], [0.6640390753746033], [0.4907846450805664], [0.5438172817230225], [0.6891996264457703], [0.6902796030044556], [0.5375640392303467], [0.447817325592041], [0.6985768675804138], [0.4874582290649414], [0.5882691144943237], [0.48127296566963196], [0.528440535068512], [0.5628136992454529], [0.5287458896636963], [0.4697120487689972], [0.5189446806907654], [0.5125859379768372], [0.44631317257881165], [0.607983410358429], [0.4489040970802307], [0.4985787272453308], [0.516869843006134], [0.5350704193115234], [0.3390379250049591], [0.5203621983528137], [0.5519985556602478], [0.30215686559677124], [0.525776743888855], [0.514750063419342], [0.49756065011024475], [0.5490092635154724], [0.4602575898170471], [0.4739798903465271], [0.4940076768398285], [0.5809827446937561], [0.29264986515045166], [0.5513961315155029], [0.31460636854171753], [0.6356485486030579], [0.46015432476997375], [0.5306565165519714], [0.5118040442466736], [0.521492063999176], [0.46064484119415283], [0.7661489844322205], [0.5529876351356506], [0.5782931447029114], [0.3423539996147156], [0.5330578088760376], [0.5027270913124084], [0.5162017941474915], [0.2924361526966095], [0.5370780825614929], [0.5656639337539673], [0.530132532119751], [0.4409351646900177], [0.4933105707168579], [0.6908220052719116], [0.5898248553276062], [0.5297008752822876], [0.37366271018981934], [0.5297297835350037], [0.5774515867233276], [0.604385495185852], [0.543225109577179], [0.6910911798477173], [0.6217833161354065], [0.5236466526985168], [0.5274277925491333], [0.5139565467834473], [0.5621040463447571], [0.5284695029258728], [0.6446486711502075], [0.5091648697853088], [0.5553271174430847], [0.4409119784832001], [0.4416901767253876], [0.5223993062973022], [0.43142080307006836], [0.6325557827949524], [0.5624333024024963], [0.5076126456260681], [0.33631184697151184], [0.6349153518676758], [0.6340044140815735], [0.4712250530719757], [0.5989295840263367], [0.3786148130893707], [0.5011088252067566], [0.6356737613677979], [0.5211473703384399], [0.48011764883995056], [0.33828961849212646], [0.5090863704681396], [0.6916715502738953], [0.45422622561454773], [0.6113549470901489], [0.5514212250709534], [0.31367236375808716], [0.5321407318115234], [0.58202064037323], [0.4560266137123108], [0.5331119298934937], [0.49542972445487976], [0.5536032319068909], [0.47695639729499817], [0.48903533816337585], [0.5619708299636841], [0.37402215600013733], [0.4642936587333679], [0.6350342035293579], [0.5660638809204102], [0.4592418968677521], [0.5342102646827698], [0.5169070363044739], [0.5098524689674377], [0.5057328343391418], [0.6073087453842163], [0.5995866656303406], [0.5658117532730103], [0.6193111538887024], [0.5142766833305359], [0.4756124019622803], [0.530038058757782], [0.4593036472797394], [0.4541862905025482], [0.41764122247695923], [0.5284430384635925], [0.5198090672492981], [0.5453060269355774], [0.5648322701454163], [0.5285296440124512], [0.5252203941345215], [0.4482481777667999], [0.5367989540100098], [0.4957077205181122], [0.37099483609199524], [0.37584713101387024], [0.5055911540985107], [0.5270100831985474], [0.43794238567352295], [0.5309129357337952], [0.6978209614753723], [0.5486035943031311], [0.4869459271430969], [0.5338360667228699], [0.47158709168434143], [0.5155612230300903], [0.6116787791252136], [0.5192996859550476], [0.4817401170730591], [0.4798860549926758], [0.48585593700408936], [0.5302966237068176], [0.5366302132606506], [0.5035087466239929], [0.5446328520774841], [0.6338145136833191], [0.5518253445625305], [0.413030743598938], [0.37362203001976013], [0.4440281391143799], [0.6209171414375305], [0.5706858038902283], [0.6995475888252258], [0.6908994317054749], [0.5227639675140381], [0.539726972579956], [0.5436433553695679], [0.49214252829551697], [0.5505380034446716], [0.6343954205513], [0.292023241519928], [0.31492894887924194], [0.5529767274856567], [0.5421262383460999], [0.516663670539856], [0.4606715738773346], [0.3080349862575531], [0.7146235108375549], [0.5435399413108826], [0.6448649764060974], [0.5227240920066833], [0.5620980858802795], [0.5097121596336365], [0.5698569416999817], [0.3771025836467743], [0.37039217352867126], [0.6019644737243652], [0.5188537240028381], [0.6884198188781738], [0.6583230495452881], [0.4851350486278534], [0.6344353556632996], [0.6051863431930542], [0.45223936438560486], [0.5226072669029236], [0.4698735773563385], [0.45999330282211304], [0.6747157573699951], [0.4429493248462677], [0.5105000734329224], [0.5332900881767273], [0.5203288793563843], [0.6423357725143433], [0.5121423006057739], [0.5629578232765198], [0.5098999738693237], [0.5875504612922668], [0.5302706360816956], [0.5193621516227722], [0.4742792248725891], [0.5645172595977783], [0.5456488132476807], [0.5913721323013306], [0.6341704726219177], [0.4727555215358734], [0.5062326788902283], [0.528676450252533], [0.37576156854629517], [0.5055567026138306], [0.5285495519638062], [0.5346903204917908], [0.5335260033607483], [0.4430810809135437], [0.5199548006057739], [0.5235089659690857], [0.5250524282455444], [0.5248111486434937], [0.5407090783119202], [0.6156219244003296], [0.7007561922073364], [0.5488672256469727], [0.5385453104972839], [0.5578179955482483], [0.4844582676887512], [0.5278575420379639], [0.5488802194595337], [0.47717827558517456], [0.5443477630615234], [0.4895809292793274], [0.5799360275268555], [0.6052548885345459], [0.523078978061676], [0.578394889831543], [0.4911401569843292], [0.4881075620651245], [0.4951867461204529], [0.5246346592903137], [0.500153124332428], [0.6319446563720703], [0.5224803686141968], [0.6917095184326172], [0.41715383529663086], [0.530542254447937], [0.6350608468055725], [0.49240005016326904], [0.583587110042572], [0.506395161151886], [0.604819655418396], [0.5003297924995422], [0.658227801322937], [0.5677958726882935], [0.46585366129875183], [0.49132317304611206], [0.5243622660636902], [0.49280989170074463], [0.5656738877296448], [0.41107240319252014], [0.49362197518348694], [0.4471910297870636], [0.5418804287910461], [0.5550311803817749], [0.5645427703857422], [0.5870830416679382], [0.488219678401947], [0.4927166998386383], [0.6547027826309204], [0.6997035145759583], [0.5142927169799805], [0.5200490355491638], [0.5460278987884521], [0.4936247169971466], [0.5668824911117554], [0.5343874096870422], [0.35529661178588867], [0.4398033320903778], [0.5288851261138916], [0.5426382422447205], [0.5374007821083069], [0.5374416708946228], [0.5528456568717957], [0.46154317259788513], [0.54228276014328], [0.6438173055648804], [0.4927275776863098], [0.49317046999931335], [0.3736600875854492], [0.6911170482635498], [0.523967444896698], [0.6430383920669556], [0.44085368514060974], [0.5514543652534485], [0.49681830406188965], [0.5472404956817627], [0.5692782402038574], [0.6644740700721741], [0.5451953411102295], [0.4483061730861664], [0.4181908071041107], [0.33135196566581726], [0.5787919759750366], [0.6449612975120544], [0.517575204372406], [0.49149519205093384], [0.6640809774398804], [0.58819180727005], [0.6577388644218445], [0.49194565415382385], [0.5060656666755676], [0.4986078143119812], [0.6105093359947205], [0.5174664258956909], [0.5301268696784973], [0.4811815917491913], [0.5088309645652771], [0.5277600884437561], [0.6118987202644348], [0.3735221326351166], [0.6108993291854858], [0.5931128263473511], [0.559374988079071], [0.5409191846847534], [0.41004303097724915], [0.502213180065155], [0.5147547125816345], [0.5152217745780945], [0.46580272912979126], [0.6055131554603577], [0.5137175917625427], [0.465431809425354], [0.6330903172492981], [0.5439095497131348], [0.47208625078201294], [0.6576461791992188], [0.579345703125], [0.584254264831543], [0.5284790992736816], [0.5260781645774841], [0.4528646171092987], [0.6635472178459167], [0.7667321562767029], [0.557109534740448], [0.6527787446975708], [0.41566991806030273], [0.3984471261501312], [0.5557492971420288], [0.4594363868236542], [0.5276625752449036], [0.4844103753566742], [0.5350937843322754], [0.4894750714302063], [0.6342199444770813], [0.4110450744628906], [0.5152531862258911], [0.6117468476295471], [0.4964176118373871], [0.4811438322067261], [0.5180866718292236], [0.5675479173660278], [0.4663791060447693], [0.35761308670043945], [0.5398924946784973], [0.41660192608833313], [0.6891797780990601], [0.4933894872665405], [0.4859561324119568], [0.4424762427806854], [0.512418806552887], [0.46150919795036316], [0.6890048980712891], [0.5859801173210144], [0.5269809365272522], [0.5012550354003906], [0.5521706938743591], [0.6437003016471863], [0.45916974544525146], [0.6187204122543335], [0.4925558269023895], [0.5590574145317078], [0.5774238705635071], [0.6220487952232361], [0.5642610192298889], [0.6994381546974182], [0.6005941033363342], [0.5066619515419006], [0.46568259596824646], [0.6879860162734985], [0.6911492943763733], [0.4270572066307068], [0.3250235915184021], [0.5298201441764832], [0.5505924224853516], [0.5226640105247498], [0.5013366937637329], [0.5641655325889587], [0.5154063105583191], [0.5475634336471558], [0.5838382840156555], [0.3700890839099884], [0.46614232659339905], [0.5048703551292419], [0.6056895852088928], [0.5118924379348755], [0.4741362929344177], [0.4652608335018158], [0.5147901773452759], [0.4492286741733551], [0.5169010758399963], [0.5248900055885315], [0.5388017892837524], [0.5799965858459473], [0.5212056040763855], [0.46723270416259766], [0.5379928350448608], [0.499484121799469], [0.5064595341682434], [0.477486789226532], [0.5334866046905518], [0.5470832586288452], [0.4191126227378845], [0.47235631942749023], [0.4707506000995636], [0.37354758381843567], [0.6345881223678589], [0.3167482018470764], [0.5550562143325806], [0.6889783143997192], [0.5438289642333984], [0.5288399457931519], [0.6641000509262085], [0.49162793159484863], [0.5605488419532776], [0.6890845894813538], [0.4743155241012573], [0.7139487862586975], [0.5286376476287842], [0.44458991289138794], [0.547016978263855], [0.5150699615478516], [0.4702497124671936], [0.5256698131561279], [0.5748011469841003], [0.521871030330658], [0.5182650685310364], [0.4551795721054077], [0.45364946126937866], [0.6744435429573059], [0.6888360381126404], [0.551079511642456], [0.6343618035316467], [0.46125465631484985], [0.6346388459205627], [0.5790723562240601], [0.5561665892601013], [0.5132290720939636], [0.4932675063610077], [0.2817918360233307], [0.6880831718444824], [0.5236167907714844], [0.6057843565940857], [0.4584043025970459], [0.47417697310447693], [0.54697585105896], [0.5504419207572937], [0.4396849274635315], [0.5176652073860168], [0.370449036359787], [0.5153682231903076], [0.5214102864265442], [0.593300461769104], [0.535260796546936], [0.4308969974517822], [0.4781583845615387], [0.528110682964325], [0.5154351592063904], [0.5400630235671997], [0.5168901681900024], [0.7141492366790771], [0.4675126373767853], [0.5368880033493042], [0.5643033385276794], [0.5171211957931519], [0.6595420241355896], [0.5644962787628174], [0.6344725489616394], [0.485153466463089], [0.6637277603149414], [0.3251906633377075], [0.5753632187843323], [0.4933582544326782], [0.5817141532897949], [0.6359399557113647], [0.45970526337623596], [0.5622266530990601], [0.6347455382347107], [0.507910430431366], [0.6349846124649048], [0.5269954204559326], [0.37304162979125977], [0.6003268361091614], [0.4600026309490204], [0.5450659394264221], [0.6456805467605591], [0.6437188982963562], [0.5285982489585876], [0.5321469902992249], [0.6352396011352539], [0.5137791037559509], [0.5065945386886597], [0.5051161050796509], [0.510692298412323], [0.4801618456840515], [0.37782683968544006], [0.4563363194465637], [0.526942253112793], [0.5621517896652222], [0.5402415990829468], [0.543463945388794], [0.47856494784355164], [0.5393373370170593], [0.47819381952285767], [0.6340335011482239], [0.5184633731842041], [0.5452792048454285], [0.5743294954299927], [0.5767472982406616], [0.528437077999115], [0.4592944383621216], [0.5081117749214172], [0.4491637349128723], [0.542055606842041], [0.4670233428478241], [0.46685969829559326], [0.5644409656524658], [0.48472532629966736], [0.6354479193687439], [0.5481600165367126], [0.6112757325172424], [0.634655237197876], [0.5484068393707275], [0.7002895474433899], [0.5449075102806091], [0.5278857350349426], [0.500450611114502], [0.5337661504745483], [0.3244861364364624], [0.5007319450378418], [0.48136869072914124], [0.5381515026092529], [0.714022696018219], [0.5436188578605652], [0.3954848349094391], [0.3979591429233551], [0.5483971834182739], [0.6328683495521545], [0.44320452213287354], [0.4429171085357666], [0.4592984616756439], [0.6996843218803406], [0.5459831357002258], [0.31444886326789856], [0.6634278893470764], [0.5788642764091492], [0.6452441811561584], [0.5046900510787964], [0.46040597558021545], [0.5804771780967712], [0.63773512840271], [0.5291585326194763], [0.5459946393966675], [0.5236595273017883], [0.5285457968711853], [0.4649081826210022], [0.6580689549446106], [0.6210547089576721], [0.5243306756019592], [0.5129275321960449], [0.4827142357826233], [0.5156448483467102], [0.493319034576416], [0.5321483612060547], [0.5263499021530151], [0.4128853380680084], [0.5242965221405029], [0.6360580325126648], [0.5377722978591919], [0.5179954171180725], [0.44399842619895935], [0.37298595905303955], [0.608574390411377], [0.5338459610939026], [0.5327081680297852], [0.5602723956108093], [0.5070147514343262], [0.4556815028190613], [0.29599928855895996], [0.5288755893707275], [0.6429381370544434], [0.5812572240829468], [0.5790655016899109], [0.6068030595779419], [0.3709336519241333], [0.48252788186073303], [0.5336076021194458]]\n",
            "Epoch     7 - Train loss: 0.610259 - Train accuracy: 75.917120 - Test loss: 0.616147 - Test accuracy: 72.395833\n",
            "[[0.5027993321418762], [0.2993611991405487], [0.4215207099914551], [0.7061807513237], [0.5120484232902527], [0.5011281371116638], [0.707465648651123], [0.531333863735199], [0.27443939447402954], [0.614158570766449], [0.49240902066230774], [0.510953426361084], [0.48927152156829834], [0.6559436917304993], [0.4675826132297516], [0.4960593581199646], [0.6539457440376282], [0.5047799944877625], [0.5105899572372437], [0.6421623826026917], [0.5122163891792297], [0.5034487247467041], [0.5694428086280823], [0.47231367230415344], [0.49305737018585205], [0.7320481538772583], [0.6513869166374207], [0.5555711388587952], [0.512000560760498], [0.5734363794326782], [0.6229260563850403], [0.3527511656284332], [0.4847539961338043], [0.5146116018295288], [0.502037525177002], [0.6533405780792236], [0.5465001463890076], [0.6556893587112427], [0.5301678776741028], [0.5124356150627136], [0.5193856358528137], [0.516274094581604], [0.4177927076816559], [0.5020581483840942], [0.5112665891647339], [0.44210192561149597], [0.5246173143386841], [0.5646246671676636], [0.27467647194862366], [0.5570263266563416], [0.42816731333732605], [0.5431894659996033], [0.49388551712036133], [0.5666208267211914], [0.40012431144714355], [0.5668532252311707], [0.5205050110816956], [0.40364769101142883], [0.33892950415611267], [0.47266462445259094], [0.5024290084838867], [0.6003151535987854], [0.4932393729686737], [0.505914032459259], [0.4161681532859802], [0.4314468801021576], [0.6550778746604919], [0.5377615690231323], [0.4820180833339691], [0.47815608978271484], [0.4125843346118927], [0.435166597366333], [0.5221017599105835], [0.5540024042129517], [0.5034555792808533], [0.5427449345588684], [0.48147666454315186], [0.5228381156921387], [0.7010162472724915], [0.4209786057472229], [0.34534555673599243], [0.5013850927352905], [0.6559388637542725], [0.4834843873977661], [0.47309136390686035], [0.3751331865787506], [0.3190929591655731], [0.5458633303642273], [0.523593008518219], [0.49638602137565613], [0.4895903170108795], [0.2707628607749939], [0.5269373059272766], [0.4902891516685486], [0.5104761719703674], [0.504736065864563], [0.5006831884384155], [0.5410028100013733], [0.45367568731307983], [0.46333563327789307], [0.6523035168647766], [0.526498556137085], [0.6153416633605957], [0.4939342439174652], [0.5265529155731201], [0.6800633072853088], [0.6542887091636658], [0.6414734125137329], [0.6527576446533203], [0.4135223925113678], [0.5116448998451233], [0.5187146663665771], [0.4180033504962921], [0.5121863484382629], [0.4840373992919922], [0.3380429148674011], [0.5240437388420105], [0.5457216501235962], [0.5525085926055908], [0.4526546001434326], [0.5264191627502441], [0.7020024657249451], [0.6611487865447998], [0.5082014203071594], [0.6537411212921143], [0.523625373840332], [0.5119673609733582], [0.4639359712600708], [0.5248451232910156], [0.4776613414287567], [0.2997065782546997], [0.6395421028137207], [0.3681621849536896], [0.5121035575866699], [0.5138158798217773], [0.6221505999565125], [0.5277302265167236], [0.7018824219703674], [0.46613726019859314], [0.553076982498169], [0.5819336771965027], [0.5433547496795654], [0.4385868310928345], [0.4119657576084137], [0.6554357409477234], [0.7060240507125854], [0.7018554210662842], [0.5073277950286865], [0.5692969560623169], [0.509136974811554], [0.48752596974372864], [0.45525410771369934], [0.5055572986602783], [0.6146930456161499], [0.5157930254936218], [0.3534814417362213], [0.4852807819843292], [0.5243049263954163], [0.33732870221138], [0.4337410032749176], [0.3643115758895874], [0.5311682820320129], [0.49013835191726685], [0.5982712507247925], [0.6163721680641174], [0.5434562563896179], [0.6176438927650452], [0.6797707676887512], [0.6210452914237976], [0.3464888036251068], [0.5047896504402161], [0.701116144657135], [0.3660130500793457], [0.5371217727661133], [0.45175033807754517], [0.40319523215293884], [0.7044999599456787], [0.5022872090339661], [0.653630256652832], [0.6416000127792358], [0.49936744570732117], [0.3562888503074646], [0.5193980932235718], [0.5369910001754761], [0.433910071849823], [0.6534385681152344], [0.47367051243782043], [0.5688517093658447], [0.4109692871570587], [0.5547713041305542], [0.6530762314796448], [0.7315264344215393], [0.4684889614582062], [0.5679745674133301], [0.5434637665748596], [0.5415574908256531], [0.6523662209510803], [0.5289739966392517], [0.5032147169113159], [0.7041056156158447], [0.6148927211761475], [0.5661891102790833], [0.38885498046875], [0.41641756892204285], [0.4310128390789032], [0.5395244359970093], [0.5044569373130798], [0.39278489351272583], [0.7328557968139648], [0.689655065536499], [0.4638429880142212], [0.49910420179367065], [0.4620927572250366], [0.41137462854385376], [0.4867013990879059], [0.4745544493198395], [0.5458764433860779], [0.6527606844902039], [0.5954865217208862], [0.4330800771713257], [0.6205823421478271], [0.5207793712615967], [0.5306867957115173], [0.4982050955295563], [0.2921964228153229], [0.7337805032730103], [0.653633713722229], [0.43363651633262634], [0.48922407627105713], [0.5300098657608032], [0.6564244627952576], [0.4091440737247467], [0.474265992641449], [0.5019688606262207], [0.507869303226471], [0.5256762504577637], [0.44073083996772766], [0.7027585506439209], [0.5480437874794006], [0.4126226305961609], [0.3524180054664612], [0.5666698813438416], [0.5118585824966431], [0.7031699419021606], [0.5433615446090698], [0.7071735262870789], [0.5305776000022888], [0.4122281074523926], [0.6525272130966187], [0.6554720401763916], [0.4396764039993286], [0.4344642460346222], [0.5203947424888611], [0.5284919142723083], [0.49020376801490784], [0.40723541378974915], [0.5836731195449829], [0.4677874743938446], [0.680487871170044], [0.6527162194252014], [0.541987419128418], [0.5686478018760681], [0.6546054482460022], [0.5475769639015198], [0.5016850829124451], [0.44626352190971375], [0.47408413887023926], [0.34227436780929565], [0.6554902791976929], [0.6527531147003174], [0.49200889468193054], [0.5049799084663391], [0.34306082129478455], [0.6172261238098145], [0.5210343599319458], [0.5010543465614319], [0.6184629201889038], [0.5256718397140503], [0.6151090264320374], [0.5340062975883484], [0.28047430515289307], [0.507304310798645], [0.7017133235931396], [0.4305395185947418], [0.5179608464241028], [0.4967570900917053], [0.4841539263725281], [0.47999775409698486], [0.5277713537216187], [0.4704833924770355], [0.48726195096969604], [0.49501094222068787], [0.4796763062477112], [0.5241473317146301], [0.4831308126449585], [0.5936816334724426], [0.31946051120758057], [0.7058203220367432], [0.5006948709487915], [0.5427781343460083], [0.5303900837898254], [0.5684459209442139], [0.49398764967918396], [0.550274133682251], [0.704431414604187], [0.5669987797737122], [0.6578465104103088], [0.5060116648674011], [0.48860660195350647], [0.6155368089675903], [0.409437894821167], [0.4901764392852783], [0.6556627750396729], [0.5400362610816956], [0.544580340385437], [0.6557355523109436], [0.7169287204742432], [0.4611867666244507], [0.3851974308490753], [0.540704607963562], [0.4684615433216095], [0.639860212802887], [0.6874909996986389], [0.6147525906562805], [0.34153249859809875], [0.6399519443511963], [0.3655863404273987], [0.3415174186229706], [0.4306010603904724], [0.47527894377708435], [0.46330976486206055], [0.5253063440322876], [0.3853071630001068], [0.5969778299331665], [0.5118892192840576], [0.6146255135536194], [0.5080738067626953], [0.574611485004425], [0.49932795763015747], [0.48386579751968384], [0.2816668450832367], [0.5423976182937622], [0.35443976521492004], [0.5299006700515747], [0.4960218369960785], [0.6801764965057373], [0.4660661816596985], [0.5321391224861145], [0.7023165822029114], [0.7053632140159607], [0.5250692963600159], [0.41984739899635315], [0.7127062082290649], [0.468214213848114], [0.5717930197715759], [0.4557327628135681], [0.5129454731941223], [0.5692120790481567], [0.5191261768341064], [0.4421689510345459], [0.5027898550033569], [0.49753516912460327], [0.41457030177116394], [0.6158492565155029], [0.41779008507728577], [0.473093181848526], [0.5041683316230774], [0.521260142326355], [0.30586346983909607], [0.5056529641151428], [0.5524823069572449], [0.2657959759235382], [0.5126992464065552], [0.49467232823371887], [0.4717184007167816], [0.5499240756034851], [0.43368402123451233], [0.4484691321849823], [0.471341073513031], [0.5760968923568726], [0.2527131736278534], [0.546092689037323], [0.2746778726577759], [0.6540930867195129], [0.43292462825775146], [0.5183088779449463], [0.49571534991264343], [0.5122409462928772], [0.4339362680912018], [0.7737584114074707], [0.5534831285476685], [0.5813138484954834], [0.2996961176395416], [0.5223290324211121], [0.4856448769569397], [0.5039246678352356], [0.2545554041862488], [0.5196256637573242], [0.5607789158821106], [0.5124340057373047], [0.41150644421577454], [0.4764382839202881], [0.7059988975524902], [0.5948938131332397], [0.5099878907203674], [0.3378157913684845], [0.5185122489929199], [0.5805550813674927], [0.6141124367713928], [0.5421109199523926], [0.7062647342681885], [0.6399849653244019], [0.506708025932312], [0.512900710105896], [0.49918273091316223], [0.5686215758323669], [0.5248733758926392], [0.6615315079689026], [0.4951842427253723], [0.5459293127059937], [0.41144266724586487], [0.4121771454811096], [0.5151465535163879], [0.3908909559249878], [0.6506296396255493], [0.5696481466293335], [0.4923939108848572], [0.29345032572746277], [0.6529709696769714], [0.6521602272987366], [0.4437955319881439], [0.6112096309661865], [0.3378479480743408], [0.4843571186065674], [0.653916597366333], [0.502651572227478], [0.45108726620674133], [0.30535122752189636], [0.4893534183502197], [0.7068952322006226], [0.42022204399108887], [0.618424654006958], [0.5467506051063538], [0.2735322117805481], [0.5206600427627563], [0.5895931720733643], [0.4276371896266937], [0.5180312395095825], [0.4766697585582733], [0.5545616149902344], [0.4542538523674011], [0.4712648093700409], [0.5690028071403503], [0.3540516495704651], [0.43731942772865295], [0.6515966057777405], [0.5635154843330383], [0.4323539435863495], [0.5268226265907288], [0.5037927031517029], [0.48574021458625793], [0.48921632766723633], [0.617379367351532], [0.618424654006958], [0.5513266921043396], [0.6371883153915405], [0.509103000164032], [0.45545607805252075], [0.5263420343399048], [0.4327475130558014], [0.4209287762641907], [0.38532671332359314], [0.5164492726325989], [0.5071457624435425], [0.5415806770324707], [0.5582873225212097], [0.5173233151435852], [0.5100528597831726], [0.41726067662239075], [0.525253176689148], [0.4781547784805298], [0.34281274676322937], [0.3350127041339874], [0.48643678426742554], [0.5166262984275818], [0.4086478054523468], [0.5213944315910339], [0.7116162776947021], [0.5398281216621399], [0.46759945154190063], [0.5289070010185242], [0.4466697871685028], [0.49439990520477295], [0.618668258190155], [0.5086818337440491], [0.4510575234889984], [0.4599466919898987], [0.4629303514957428], [0.53099125623703], [0.5313003659248352], [0.488557368516922], [0.5383911728858948], [0.6516894698143005], [0.5542634129524231], [0.3749714493751526], [0.353532075881958], [0.4104813039302826], [0.6392108201980591], [0.5651186108589172], [0.713468074798584], [0.7060922980308533], [0.5090189576148987], [0.5386441349983215], [0.5366076231002808], [0.47353872656822205], [0.5509237051010132], [0.6525812149047852], [0.2540338337421417], [0.2812266945838928], [0.5536350011825562], [0.5325598120689392], [0.505221426486969], [0.4337800145149231], [0.2648483216762543], [0.7325651049613953], [0.5364532470703125], [0.6618480682373047], [0.5110847353935242], [0.5542275905609131], [0.4962768852710724], [0.557986319065094], [0.3406217098236084], [0.342242956161499], [0.620932400226593], [0.508831799030304], [0.7050377130508423], [0.6560941934585571], [0.46108460426330566], [0.6526608467102051], [0.6149216890335083], [0.42707547545433044], [0.5117794275283813], [0.44091513752937317], [0.4331660866737366], [0.6901240348815918], [0.4094947576522827], [0.4939340353012085], [0.5229483842849731], [0.5123047828674316], [0.6524839997291565], [0.5013012886047363], [0.555124044418335], [0.4907621443271637], [0.5985568761825562], [0.5178229808807373], [0.5035108923912048], [0.44018447399139404], [0.5641430616378784], [0.5417434573173523], [0.5965633392333984], [0.652366578578949], [0.45384126901626587], [0.49112457036972046], [0.5141305327415466], [0.3397468328475952], [0.48336365818977356], [0.5137462019920349], [0.5259215831756592], [0.5231216549873352], [0.41176360845565796], [0.5035569071769714], [0.5146576762199402], [0.514183521270752], [0.5107461810112], [0.5284705758094788], [0.6239684224128723], [0.7148389220237732], [0.5489998459815979], [0.5338628888130188], [0.5478416085243225], [0.46478062868118286], [0.5240166187286377], [0.5352671146392822], [0.4498520493507385], [0.5389216542243958], [0.46972498297691345], [0.5831171870231628], [0.6150477528572083], [0.5114381313323975], [0.581722617149353], [0.46566104888916016], [0.4641115367412567], [0.47409582138061523], [0.5092048645019531], [0.4830094575881958], [0.6495383977890015], [0.5117884278297424], [0.7069453001022339], [0.37789416313171387], [0.5311256647109985], [0.653377115726471], [0.4706881642341614], [0.5911412239074707], [0.4879435896873474], [0.6146110892295837], [0.487954705953598], [0.6560192704200745], [0.5651602745056152], [0.43874987959861755], [0.4727386236190796], [0.5156641602516174], [0.46841007471084595], [0.558979332447052], [0.3738050162792206], [0.47760307788848877], [0.41609522700309753], [0.5344345569610596], [0.5504524111747742], [0.5671499967575073], [0.5979704260826111], [0.4710068106651306], [0.4684552848339081], [0.658302366733551], [0.7136220335960388], [0.49679580330848694], [0.5115336775779724], [0.5427560806274414], [0.4743981659412384], [0.5652374029159546], [0.5245737433433533], [0.318935751914978], [0.40656644105911255], [0.5207372307777405], [0.5336750149726868], [0.5324939489364624], [0.5271660685539246], [0.5553259253501892], [0.4347468912601471], [0.5344123840332031], [0.6540144681930542], [0.46833568811416626], [0.47524702548980713], [0.35354509949684143], [0.7063023447990417], [0.5159459114074707], [0.653183102607727], [0.4079839289188385], [0.5519282817840576], [0.4761751890182495], [0.5285364985466003], [0.568225622177124], [0.6805790662765503], [0.540434718132019], [0.41718974709510803], [0.37221747636795044], [0.29360583424568176], [0.5824432373046875], [0.6616812348365784], [0.5000495910644531], [0.47188928723335266], [0.6801854968070984], [0.5992358326911926], [0.6556935906410217], [0.4744561016559601], [0.4894566833972931], [0.47574326395988464], [0.6173977851867676], [0.4990788996219635], [0.5170548558235168], [0.46054115891456604], [0.48491159081459045], [0.5247480273246765], [0.6189409494400024], [0.3535028100013733], [0.6178176999092102], [0.5962316393852234], [0.5535120964050293], [0.5324516296386719], [0.37896379828453064], [0.4910293519496918], [0.5054601430892944], [0.496553897857666], [0.436257004737854], [0.6153574585914612], [0.4986242949962616], [0.4340437352657318], [0.6511669158935547], [0.5379704236984253], [0.443359911441803], [0.655380129814148], [0.5827586650848389], [0.5846096873283386], [0.5249668955802917], [0.5132708549499512], [0.4303310811519623], [0.6794642210006714], [0.7743675708770752], [0.5499228835105896], [0.65639728307724], [0.3772248327732086], [0.3600175976753235], [0.5465044379234314], [0.43257656693458557], [0.512438178062439], [0.4591881036758423], [0.5221788883209229], [0.4696044325828552], [0.6522173285484314], [0.37381961941719055], [0.4938935339450836], [0.6186929941177368], [0.47079846262931824], [0.47029149532318115], [0.5079198479652405], [0.5526759028434753], [0.43673697113990784], [0.32090893387794495], [0.5240352749824524], [0.3773200511932373], [0.7023289203643799], [0.4774240553379059], [0.4631103575229645], [0.4113203287124634], [0.4922596216201782], [0.4348208010196686], [0.7021185159683228], [0.5840210318565369], [0.516325831413269], [0.4827795922756195], [0.5418282747268677], [0.6539461016654968], [0.4323095381259918], [0.636565089225769], [0.47294965386390686], [0.5492299795150757], [0.5683202743530273], [0.6404822468757629], [0.5637598037719727], [0.7133303284645081], [0.6195880770683289], [0.4832945764064789], [0.43849870562553406], [0.7045604586601257], [0.706366777420044], [0.3948933482170105], [0.28224703669548035], [0.5118492245674133], [0.5505604147911072], [0.5121685266494751], [0.4865451157093048], [0.5569843649864197], [0.49280330538749695], [0.5447695851325989], [0.5841759443283081], [0.3422119915485382], [0.4366670548915863], [0.48800915479660034], [0.6154924035072327], [0.4974163770675659], [0.4488298296928406], [0.42411959171295166], [0.4936796724796295], [0.4239058196544647], [0.5046581625938416], [0.517248809337616], [0.5193076133728027], [0.5837868452072144], [0.5069605708122253], [0.4359596371650696], [0.5254217386245728], [0.47893184423446655], [0.4898770749568939], [0.45729756355285645], [0.5226448774337769], [0.5433412790298462], [0.37815237045288086], [0.4413307309150696], [0.44289740920066833], [0.3534238040447235], [0.6527667045593262], [0.28310564160346985], [0.5459396839141846], [0.7021026015281677], [0.5342838764190674], [0.5252245664596558], [0.6804034113883972], [0.47130534052848816], [0.5675389170646667], [0.7025182843208313], [0.4468783736228943], [0.7319295406341553], [0.5203883051872253], [0.42023009061813354], [0.5366793870925903], [0.49763503670692444], [0.4354991912841797], [0.5106891393661499], [0.58078533411026], [0.5038183927536011], [0.4977298080921173], [0.4270244836807251], [0.43102195858955383], [0.6898247599601746], [0.7019500732421875], [0.5514665842056274], [0.6524466276168823], [0.43454429507255554], [0.6526747941970825], [0.5822362303733826], [0.5621925592422485], [0.4998668134212494], [0.4722922146320343], [0.24745191633701324], [0.7012538909912109], [0.5097498893737793], [0.6155780553817749], [0.43171000480651855], [0.44979363679885864], [0.5367108583450317], [0.5357579588890076], [0.41081345081329346], [0.5032955408096313], [0.34223905205726624], [0.5035178661346436], [0.5088726878166199], [0.5965225696563721], [0.5309196710586548], [0.39038199186325073], [0.45219072699546814], [0.5115419030189514], [0.4983906149864197], [0.5391360521316528], [0.5036419034004211], [0.7320391535758972], [0.4357604384422302], [0.5248990654945374], [0.5551497936248779], [0.5031272768974304], [0.657396674156189], [0.5561397075653076], [0.6526132822036743], [0.4681624472141266], [0.6798074841499329], [0.2818435728549957], [0.581118643283844], [0.4703490734100342], [0.5727819204330444], [0.6398445963859558], [0.4325694441795349], [0.5694554448127747], [0.6511783003807068], [0.48116326332092285], [0.6531757116317749], [0.5108445286750793], [0.3528265357017517], [0.6192265152931213], [0.43290141224861145], [0.535346269607544], [0.6625568270683289], [0.6538941264152527], [0.5166008472442627], [0.5194826722145081], [0.6517007946968079], [0.49827849864959717], [0.4905216097831726], [0.48414433002471924], [0.49468791484832764], [0.45072194933891296], [0.34131884574890137], [0.43038374185562134], [0.516197144985199], [0.5686081647872925], [0.5318233966827393], [0.540057361125946], [0.4566168189048767], [0.5139023065567017], [0.4481278359889984], [0.6519545316696167], [0.5047585368156433], [0.5423556566238403], [0.5730482339859009], [0.5811432600021362], [0.524089515209198], [0.4324265420436859], [0.4928949773311615], [0.42022445797920227], [0.5345984697341919], [0.4419378638267517], [0.43736180663108826], [0.5561183094978333], [0.46307462453842163], [0.6536148190498352], [0.5382082462310791], [0.6182963252067566], [0.6529150605201721], [0.5428324937820435], [0.7145588994026184], [0.5396904945373535], [0.5145009756088257], [0.48260632157325745], [0.5215359926223755], [0.2812611162662506], [0.48337268829345703], [0.4704783260822296], [0.5280536413192749], [0.7319589853286743], [0.5388559103012085], [0.3655988276004791], [0.355327844619751], [0.5407959818840027], [0.6510033011436462], [0.41258811950683594], [0.41210466623306274], [0.43266403675079346], [0.7136784195899963], [0.5423097014427185], [0.2745811343193054], [0.6794997453689575], [0.5850677490234375], [0.6622750759124756], [0.48765215277671814], [0.43374860286712646], [0.5838837623596191], [0.641778826713562], [0.5117842555046082], [0.541038453578949], [0.507094144821167], [0.5242007970809937], [0.4398462176322937], [0.6558560729026794], [0.639266848564148], [0.5072733759880066], [0.5020845532417297], [0.4624723196029663], [0.5036442279815674], [0.46790874004364014], [0.5195481181144714], [0.5161060690879822], [0.3758121430873871], [0.5162632465362549], [0.6399102210998535], [0.5238498449325562], [0.4972391724586487], [0.41313251852989197], [0.35315030813217163], [0.6217357516288757], [0.5192220211029053], [0.522067666053772], [0.5529103875160217], [0.4881228506565094], [0.42882633209228516], [0.2579268515110016], [0.5251039862632751], [0.6531239748001099], [0.5723206996917725], [0.5739781856536865], [0.6198847889900208], [0.3427625298500061], [0.4622592329978943], [0.5185700058937073]]\n",
            "Epoch     8 - Train loss: 0.599475 - Train accuracy: 76.222826 - Test loss: 0.599769 - Test accuracy: 73.437500\n"
          ]
        },
        {
          "output_type": "error",
          "ename": "KeyboardInterrupt",
          "evalue": "ignored",
          "traceback": [
            "\u001b[0;31m---------------------------------------------------------------------------\u001b[0m",
            "\u001b[0;31mKeyboardInterrupt\u001b[0m                         Traceback (most recent call last)",
            "\u001b[0;32m<ipython-input-76-b8dcc17c1a2a>\u001b[0m in \u001b[0;36m<module>\u001b[0;34m()\u001b[0m\n\u001b[1;32m     19\u001b[0m \u001b[0mscheduler\u001b[0m \u001b[0;34m=\u001b[0m \u001b[0mget_cosine_schedule_with_warmup\u001b[0m\u001b[0;34m(\u001b[0m\u001b[0moptimizer\u001b[0m\u001b[0;34m,\u001b[0m \u001b[0mwarmup_steps\u001b[0m\u001b[0;34m,\u001b[0m \u001b[0mtotal_steps\u001b[0m\u001b[0;34m)\u001b[0m\u001b[0;34m\u001b[0m\u001b[0;34m\u001b[0m\u001b[0m\n\u001b[1;32m     20\u001b[0m \u001b[0;34m\u001b[0m\u001b[0m\n\u001b[0;32m---> 21\u001b[0;31m \u001b[0mloss\u001b[0m\u001b[0;34m,\u001b[0m \u001b[0macc\u001b[0m \u001b[0;34m=\u001b[0m \u001b[0mtrain_net\u001b[0m\u001b[0;34m(\u001b[0m\u001b[0mmy_net\u001b[0m\u001b[0;34m,\u001b[0m \u001b[0mtrain_loader\u001b[0m\u001b[0;34m,\u001b[0m \u001b[0mval_loader\u001b[0m\u001b[0;34m,\u001b[0m \u001b[0mloss_fn\u001b[0m\u001b[0;34m,\u001b[0m \u001b[0moptimizer\u001b[0m\u001b[0;34m,\u001b[0m \u001b[0mepochs\u001b[0m\u001b[0;34m,\u001b[0m \u001b[0mscheduler\u001b[0m\u001b[0;34m)\u001b[0m\u001b[0;34m\u001b[0m\u001b[0;34m\u001b[0m\u001b[0m\n\u001b[0m\u001b[1;32m     22\u001b[0m \u001b[0;34m\u001b[0m\u001b[0m\n\u001b[1;32m     23\u001b[0m \u001b[0mplt\u001b[0m\u001b[0;34m.\u001b[0m\u001b[0mrcParams\u001b[0m\u001b[0;34m[\u001b[0m\u001b[0;34m\"figure.figsize\"\u001b[0m\u001b[0;34m]\u001b[0m \u001b[0;34m=\u001b[0m \u001b[0;34m(\u001b[0m\u001b[0;36m15\u001b[0m\u001b[0;34m,\u001b[0m\u001b[0;36m5\u001b[0m\u001b[0;34m)\u001b[0m\u001b[0;34m\u001b[0m\u001b[0;34m\u001b[0m\u001b[0m\n",
            "\u001b[0;32m<ipython-input-4-fdf19388352b>\u001b[0m in \u001b[0;36mtrain_net\u001b[0;34m(net, train_loader, val_loader, loss_fn, optimizer, epochs, scheduler)\u001b[0m\n\u001b[1;32m     17\u001b[0m \u001b[0;34m\u001b[0m\u001b[0m\n\u001b[1;32m     18\u001b[0m         \u001b[0;31m# training\u001b[0m\u001b[0;34m\u001b[0m\u001b[0;34m\u001b[0m\u001b[0;34m\u001b[0m\u001b[0m\n\u001b[0;32m---> 19\u001b[0;31m         \u001b[0mtrain_loss\u001b[0m\u001b[0;34m[\u001b[0m\u001b[0mepoch\u001b[0m\u001b[0;34m]\u001b[0m\u001b[0;34m,\u001b[0m \u001b[0mtrain_acc\u001b[0m\u001b[0;34m[\u001b[0m\u001b[0mepoch\u001b[0m\u001b[0;34m]\u001b[0m \u001b[0;34m=\u001b[0m \u001b[0mtrain_epoch\u001b[0m\u001b[0;34m(\u001b[0m\u001b[0mnet\u001b[0m\u001b[0;34m,\u001b[0m \u001b[0mtrain_loader\u001b[0m\u001b[0;34m,\u001b[0m \u001b[0mloss_fn\u001b[0m\u001b[0;34m,\u001b[0m \u001b[0moptimizer\u001b[0m\u001b[0;34m,\u001b[0m \u001b[0mscheduler\u001b[0m\u001b[0;34m)\u001b[0m\u001b[0;34m\u001b[0m\u001b[0;34m\u001b[0m\u001b[0m\n\u001b[0m\u001b[1;32m     20\u001b[0m         \u001b[0;31m#predictions, outputs = eval(net, train_loader)\u001b[0m\u001b[0;34m\u001b[0m\u001b[0;34m\u001b[0m\u001b[0;34m\u001b[0m\u001b[0m\n\u001b[1;32m     21\u001b[0m         \u001b[0;31m#train_acc_alt[epoch] = metrics.accuracy_score(outputs, predictions)\u001b[0m\u001b[0;34m\u001b[0m\u001b[0;34m\u001b[0m\u001b[0;34m\u001b[0m\u001b[0m\n",
            "\u001b[0;32m<ipython-input-2-b3a864796aeb>\u001b[0m in \u001b[0;36mtrain_epoch\u001b[0;34m(net, loader, loss_fn, optimizer, scheduler)\u001b[0m\n\u001b[1;32m     39\u001b[0m \u001b[0;34m\u001b[0m\u001b[0m\n\u001b[1;32m     40\u001b[0m         \u001b[0;31m# set all gradients equal to zero\u001b[0m\u001b[0;34m\u001b[0m\u001b[0;34m\u001b[0m\u001b[0;34m\u001b[0m\u001b[0m\n\u001b[0;32m---> 41\u001b[0;31m         \u001b[0mnet\u001b[0m\u001b[0;34m.\u001b[0m\u001b[0mzero_grad\u001b[0m\u001b[0;34m(\u001b[0m\u001b[0;34m)\u001b[0m\u001b[0;34m\u001b[0m\u001b[0;34m\u001b[0m\u001b[0m\n\u001b[0m\u001b[1;32m     42\u001b[0m \u001b[0;34m\u001b[0m\u001b[0m\n\u001b[1;32m     43\u001b[0m         \u001b[0;31m# feed the batch to the network and compute the outputs\u001b[0m\u001b[0;34m\u001b[0m\u001b[0;34m\u001b[0m\u001b[0;34m\u001b[0m\u001b[0m\n",
            "\u001b[0;32m/usr/local/lib/python3.7/dist-packages/torch/nn/modules/module.py\u001b[0m in \u001b[0;36mzero_grad\u001b[0;34m(self, set_to_none)\u001b[0m\n\u001b[1;32m   1799\u001b[0m                     \u001b[0;32melse\u001b[0m\u001b[0;34m:\u001b[0m\u001b[0;34m\u001b[0m\u001b[0;34m\u001b[0m\u001b[0m\n\u001b[1;32m   1800\u001b[0m                         \u001b[0mp\u001b[0m\u001b[0;34m.\u001b[0m\u001b[0mgrad\u001b[0m\u001b[0;34m.\u001b[0m\u001b[0mrequires_grad_\u001b[0m\u001b[0;34m(\u001b[0m\u001b[0;32mFalse\u001b[0m\u001b[0;34m)\u001b[0m\u001b[0;34m\u001b[0m\u001b[0;34m\u001b[0m\u001b[0m\n\u001b[0;32m-> 1801\u001b[0;31m                     \u001b[0mp\u001b[0m\u001b[0;34m.\u001b[0m\u001b[0mgrad\u001b[0m\u001b[0;34m.\u001b[0m\u001b[0mzero_\u001b[0m\u001b[0;34m(\u001b[0m\u001b[0;34m)\u001b[0m\u001b[0;34m\u001b[0m\u001b[0;34m\u001b[0m\u001b[0m\n\u001b[0m\u001b[1;32m   1802\u001b[0m \u001b[0;34m\u001b[0m\u001b[0m\n\u001b[1;32m   1803\u001b[0m     \u001b[0;32mdef\u001b[0m \u001b[0mshare_memory\u001b[0m\u001b[0;34m(\u001b[0m\u001b[0mself\u001b[0m\u001b[0;34m:\u001b[0m \u001b[0mT\u001b[0m\u001b[0;34m)\u001b[0m \u001b[0;34m->\u001b[0m \u001b[0mT\u001b[0m\u001b[0;34m:\u001b[0m\u001b[0;34m\u001b[0m\u001b[0;34m\u001b[0m\u001b[0m\n",
            "\u001b[0;31mKeyboardInterrupt\u001b[0m: "
          ]
        }
      ]
    },
    {
      "cell_type": "code",
      "source": [
        "# Set fixed random number seed\n",
        "torch.manual_seed(42)\n",
        "TRAIN_BATCH_SIZE = 64\n",
        "epochs =50\n",
        "lr = [1e-5]\n",
        "#lr =1e-5\n",
        "#h = 128\n",
        "h = 256\n",
        "hidden2 = 256\n",
        "\n",
        "#my_net = Classifier2L(h, hidden2, 0.2).to(device)\n",
        "my_net = Classifier(h, 0.3).to(device)\n",
        "my_net.apply(init_weights)\n",
        "param_optimizer = list(my_net.named_parameters())\n",
        "no_decay = [\"bias\", \"LayerNorm.bias\", \"LayerNorm.weight\"]\n",
        "optimizer_parameters = [\n",
        "    {\n",
        "        \"params\": [\n",
        "            p for n, p in param_optimizer if not any(nd in n for nd in no_decay)\n",
        "        ],\n",
        "        \"weight_decay\": 0.001,\n",
        "    },\n",
        "    {\n",
        "        \"params\": [\n",
        "            p for n, p in param_optimizer if any(nd in n for nd in no_decay)\n",
        "        ],\n",
        "        \"weight_decay\": 0.0,\n",
        "    },\n",
        "]\n",
        "\n",
        "num_train_steps = int(len(X_train) / TRAIN_BATCH_SIZE * epochs)\n",
        "optimizer = torch.optim.AdamW(optimizer_parameters, lr=3e-5)\n",
        "scheduler = get_linear_schedule_with_warmup(\n",
        "    optimizer, num_warmup_steps=0, num_training_steps=num_train_steps\n",
        ")\n",
        "#loss_fn = nn.BCELoss()\n",
        "#optimizer = optim.Adam(my_net.parameters(), lr=lr)\n",
        "loss, acc = train_net(my_net, train_loader, val_loader, loss_fn, optimizer, epochs, scheduler)\n",
        "\n",
        "plt.rcParams[\"figure.figsize\"] = (15,5)\n",
        "sns.set()\n",
        "# plot train/validation loss curves\n",
        "plt.subplot(1, 2, 1)\n",
        "plt.plot(loss[0])\n",
        "plt.plot(loss[1])\n",
        "plt.xlabel('Epochs')\n",
        "plt.ylabel('Loss')\n",
        "plt.title(f'Learning rate: {lr}, hidden : {h}')\n",
        "plt.legend(('Train', 'Validation'))\n",
        "#plt.title(f'Learning rate: {lr}, hidden : {h}, hidden2: {h2}')\n",
        "\n",
        "plt.subplot(1, 2, 2)\n",
        "plt.plot(acc[0])\n",
        "plt.plot(acc[1])\n",
        "plt.xlabel('Epochs')\n",
        "plt.ylabel('Accuracy')\n",
        "plt.legend(('Train', 'Validation'))\n",
        "plt.show()"
      ],
      "metadata": {
        "colab": {
          "base_uri": "https://localhost:8080/",
          "height": 1000,
          "referenced_widgets": [
            "cdc872ff6e5b46f68bcf7ad4045948d1",
            "cbee45341358423ab8b851c59114bbb3",
            "fa5a7821e20545a28d1792677f62eb01",
            "3c2368c1dbf34911a11838457ca843d5",
            "9a6bd2b6282a4079862a23a4a248e880",
            "0530024a68ee4f8a830c39b3646d849d",
            "677d4e2c438b4c6caa9da2663ff69324",
            "093da0bd7efe4879b3bbe09fa6699861",
            "f2fa4a197aed45099031252044ab069d",
            "59c10e38a3c44f95b49d6c7e1d807f80",
            "bb5ca840e7f14d4fa6caa8b85cda7de7"
          ]
        },
        "id": "MphW_oA2Ne-N",
        "outputId": "83f87a82-6771-4095-c124-a06aca6a0656"
      },
      "execution_count": null,
      "outputs": [
        {
          "output_type": "stream",
          "name": "stdout",
          "text": [
            "Begin training.\n"
          ]
        },
        {
          "output_type": "display_data",
          "data": {
            "text/plain": [
              "  0%|          | 0/50 [00:00<?, ?it/s]"
            ],
            "application/vnd.jupyter.widget-view+json": {
              "version_major": 2,
              "version_minor": 0,
              "model_id": "cdc872ff6e5b46f68bcf7ad4045948d1"
            }
          },
          "metadata": {}
        },
        {
          "output_type": "stream",
          "name": "stdout",
          "text": [
            "Epoch     0 - Train loss: 0.640257 - Train accuracy: 69.712753 - Test loss: 0.599633 - Test accuracy: 75.426136\n",
            "Epoch     1 - Train loss: 0.565617 - Train accuracy: 76.815025 - Test loss: 0.540863 - Test accuracy: 80.255682\n",
            "Epoch     2 - Train loss: 0.511376 - Train accuracy: 79.655934 - Test loss: 0.495127 - Test accuracy: 80.681818\n",
            "Epoch     3 - Train loss: 0.469871 - Train accuracy: 81.250000 - Test loss: 0.461795 - Test accuracy: 82.102273\n",
            "Epoch     4 - Train loss: 0.438550 - Train accuracy: 82.212753 - Test loss: 0.439015 - Test accuracy: 82.812500\n",
            "Epoch     5 - Train loss: 0.414658 - Train accuracy: 83.143939 - Test loss: 0.423991 - Test accuracy: 82.386364\n",
            "Epoch     6 - Train loss: 0.396097 - Train accuracy: 83.854167 - Test loss: 0.414067 - Test accuracy: 82.244318\n",
            "Epoch     7 - Train loss: 0.381273 - Train accuracy: 84.438131 - Test loss: 0.406807 - Test accuracy: 82.102273\n",
            "Epoch     8 - Train loss: 0.369150 - Train accuracy: 84.958965 - Test loss: 0.402507 - Test accuracy: 82.102273\n",
            "Epoch     9 - Train loss: 0.359028 - Train accuracy: 85.321970 - Test loss: 0.398284 - Test accuracy: 82.528409\n",
            "Epoch    10 - Train loss: 0.350444 - Train accuracy: 85.795455 - Test loss: 0.396786 - Test accuracy: 82.244318\n",
            "Epoch    11 - Train loss: 0.342964 - Train accuracy: 86.032197 - Test loss: 0.395616 - Test accuracy: 81.960227\n",
            "Epoch    12 - Train loss: 0.336434 - Train accuracy: 86.268939 - Test loss: 0.394856 - Test accuracy: 82.102273\n",
            "Epoch    13 - Train loss: 0.330595 - Train accuracy: 86.505682 - Test loss: 0.394445 - Test accuracy: 82.244318\n",
            "Epoch    14 - Train loss: 0.325335 - Train accuracy: 86.695076 - Test loss: 0.394022 - Test accuracy: 82.244318\n",
            "Epoch    15 - Train loss: 0.320564 - Train accuracy: 86.789773 - Test loss: 0.394377 - Test accuracy: 82.386364\n",
            "Epoch    16 - Train loss: 0.316194 - Train accuracy: 86.884470 - Test loss: 0.394045 - Test accuracy: 82.102273\n",
            "Epoch    17 - Train loss: 0.312226 - Train accuracy: 87.073864 - Test loss: 0.394375 - Test accuracy: 82.244318\n",
            "Epoch    18 - Train loss: 0.308502 - Train accuracy: 87.200126 - Test loss: 0.394469 - Test accuracy: 82.244318\n",
            "Epoch    19 - Train loss: 0.305052 - Train accuracy: 87.326389 - Test loss: 0.395815 - Test accuracy: 82.244318\n",
            "Epoch    20 - Train loss: 0.301817 - Train accuracy: 87.405303 - Test loss: 0.395507 - Test accuracy: 82.244318\n",
            "Epoch    21 - Train loss: 0.298803 - Train accuracy: 87.436869 - Test loss: 0.396397 - Test accuracy: 82.386364\n",
            "Epoch    22 - Train loss: 0.295975 - Train accuracy: 87.547348 - Test loss: 0.396622 - Test accuracy: 82.528409\n",
            "Epoch    23 - Train loss: 0.293297 - Train accuracy: 87.673611 - Test loss: 0.397394 - Test accuracy: 82.670455\n",
            "Epoch    24 - Train loss: 0.290781 - Train accuracy: 87.815657 - Test loss: 0.398467 - Test accuracy: 82.812500\n",
            "Epoch    25 - Train loss: 0.288401 - Train accuracy: 87.894571 - Test loss: 0.398416 - Test accuracy: 83.096591\n",
            "Epoch    26 - Train loss: 0.286149 - Train accuracy: 88.036616 - Test loss: 0.399720 - Test accuracy: 82.670455\n",
            "Epoch    27 - Train loss: 0.283989 - Train accuracy: 88.147096 - Test loss: 0.400047 - Test accuracy: 82.670455\n",
            "Epoch    28 - Train loss: 0.281982 - Train accuracy: 88.289141 - Test loss: 0.400952 - Test accuracy: 82.670455\n",
            "Epoch    29 - Train loss: 0.280046 - Train accuracy: 88.383838 - Test loss: 0.401668 - Test accuracy: 82.528409\n",
            "Epoch    30 - Train loss: 0.278231 - Train accuracy: 88.462753 - Test loss: 0.402388 - Test accuracy: 82.812500\n",
            "Epoch    31 - Train loss: 0.276484 - Train accuracy: 88.525884 - Test loss: 0.402804 - Test accuracy: 82.812500\n",
            "Epoch    32 - Train loss: 0.274862 - Train accuracy: 88.636364 - Test loss: 0.403728 - Test accuracy: 82.812500\n",
            "Epoch    33 - Train loss: 0.273316 - Train accuracy: 88.731061 - Test loss: 0.404461 - Test accuracy: 82.528409\n",
            "Epoch    34 - Train loss: 0.271848 - Train accuracy: 88.794192 - Test loss: 0.405040 - Test accuracy: 82.812500\n",
            "Epoch    35 - Train loss: 0.270460 - Train accuracy: 88.873106 - Test loss: 0.405663 - Test accuracy: 82.670455\n",
            "Epoch    36 - Train loss: 0.269156 - Train accuracy: 88.888889 - Test loss: 0.405989 - Test accuracy: 83.096591\n",
            "Epoch    37 - Train loss: 0.267937 - Train accuracy: 88.920455 - Test loss: 0.406787 - Test accuracy: 82.954545\n",
            "Epoch    38 - Train loss: 0.266786 - Train accuracy: 88.920455 - Test loss: 0.407351 - Test accuracy: 82.954545\n",
            "Epoch    39 - Train loss: 0.265710 - Train accuracy: 88.967803 - Test loss: 0.407832 - Test accuracy: 82.954545\n",
            "Epoch    40 - Train loss: 0.264717 - Train accuracy: 89.015152 - Test loss: 0.408248 - Test accuracy: 82.954545\n",
            "Epoch    41 - Train loss: 0.263796 - Train accuracy: 89.046717 - Test loss: 0.408869 - Test accuracy: 82.812500\n",
            "Epoch    42 - Train loss: 0.262942 - Train accuracy: 89.109848 - Test loss: 0.409172 - Test accuracy: 82.954545\n",
            "Epoch    43 - Train loss: 0.262171 - Train accuracy: 89.204545 - Test loss: 0.409575 - Test accuracy: 82.954545\n",
            "Epoch    44 - Train loss: 0.261469 - Train accuracy: 89.299242 - Test loss: 0.409959 - Test accuracy: 82.954545\n",
            "Epoch    45 - Train loss: 0.260840 - Train accuracy: 89.346591 - Test loss: 0.410344 - Test accuracy: 82.954545\n",
            "Epoch    46 - Train loss: 0.260289 - Train accuracy: 89.346591 - Test loss: 0.410479 - Test accuracy: 82.954545\n",
            "Epoch    47 - Train loss: 0.259809 - Train accuracy: 89.378157 - Test loss: 0.410690 - Test accuracy: 82.954545\n",
            "Epoch    48 - Train loss: 0.259402 - Train accuracy: 89.393939 - Test loss: 0.410799 - Test accuracy: 82.954545\n",
            "Epoch    49 - Train loss: 0.259073 - Train accuracy: 89.393939 - Test loss: 0.410871 - Test accuracy: 83.096591\n"
          ]
        },
        {
          "output_type": "display_data",
          "data": {
            "text/plain": [
              "<Figure size 1080x360 with 2 Axes>"
            ],
            "image/png": "[encoded data removed]"
          },
          "metadata": {}
        }
      ]
    },
    {
      "cell_type": "markdown",
      "source": [
        "## Test set"
      ],
      "metadata": {
        "id": "GId9stV8YckA"
      }
    },
    {
      "cell_type": "markdown",
      "source": [
        "### CPV"
      ],
      "metadata": {
        "id": "2qMQq2-cYhPE"
      }
    },
    {
      "cell_type": "code",
      "source": [
        "with open(f'/content/drive/MyDrive/my_colab/3rdYear/ProTrans/prott5_CPV_1.pickle','rb') as file_handle:\n",
        "  seq_pooled_cpv= pickle.load(file_handle)\n",
        "\n",
        "  seq_temp = []\n",
        "  seq_all_nocrop_cpv = []\n",
        "  for seq in seq_pooled_cpv:\n",
        "    AA_seq_temp = []\n",
        "    for AA in seq:\n",
        "      AA_seq_temp.append(torch.mean(AA))\n",
        "    seq_temp.append(AA_seq_temp)\n",
        "  seq_all_nocrop_cpv = seq_all_nocrop_cpv + seq_temp\n",
        "\n",
        "\n",
        "count_pos, count_neg = 0, 0\n",
        "for i in CPV['label'].values:\n",
        "  if i == 0:\n",
        "    count_neg +=1\n",
        "  elif i == 1:\n",
        "    count_pos += 1\n",
        "  else:\n",
        "    print('else')\n",
        "\n",
        "print(count_pos, count_neg)"
      ],
      "metadata": {
        "colab": {
          "base_uri": "https://localhost:8080/"
        },
        "id": "gf8aBxmWYgCt",
        "outputId": "0ee15078-2b13-4afa-aee3-591ab3f92866"
      },
      "execution_count": null,
      "outputs": [
        {
          "output_type": "stream",
          "name": "stdout",
          "text": [
            "154 84\n"
          ]
        }
      ]
    },
    {
      "cell_type": "code",
      "source": [
        "# Crop to 1500 AA, pad shorter ones to 2000 AA\n",
        "seq_all_cropped_cpv = []\n",
        "for seq_single in seq_all_nocrop_cpv:\n",
        "  seq_single = torch.tensor(seq_single)\n",
        "  if len(seq_single) > 2000:\n",
        "    seq_all_cropped_cpv.append(seq_single[:2000])\n",
        "  else:\n",
        "    to_pad = 2000 - len(seq_single) \n",
        "    seq_all_cropped_cpv.append(F.pad(input=seq_single, pad=(0, to_pad), mode='constant', value=0))"
      ],
      "metadata": {
        "id": "x2S24GXsYgLM"
      },
      "execution_count": null,
      "outputs": []
    },
    {
      "cell_type": "code",
      "source": [
        "gc.collect()\n",
        "seq_cropped_flat = []\n",
        "for i in seq_all_cropped_cpv:\n",
        "  seq_cropped_flat.append(torch.flatten(i))\n",
        "\n",
        "del seq_all_cropped_cpv\n",
        "gc.collect()\n",
        "stacked_tensor_flat_cpv = torch.stack(seq_cropped_flat)\n",
        "print(stacked_tensor_flat_cpv.shape)"
      ],
      "metadata": {
        "colab": {
          "base_uri": "https://localhost:8080/"
        },
        "id": "BQc9L2SsZixo",
        "outputId": "8023ba16-7a59-4118-89fd-8a89a663dc82"
      },
      "execution_count": null,
      "outputs": [
        {
          "output_type": "stream",
          "name": "stdout",
          "text": [
            "torch.Size([236, 2000])\n"
          ]
        }
      ]
    },
    {
      "cell_type": "code",
      "source": [
        "X_cpv, y_cpv = np.array(stacked_tensor_flat_cpv), np.array( CPV['label'].values)\n",
        "cpv_dataset = ClassifierDataset(torch.from_numpy(X_cpv).float(), torch.from_numpy(y_cpv).long())\n",
        "cpv_loader = DataLoader(dataset=cpv_dataset, batch_size=1 , drop_last=True)\n",
        "\n",
        "device = torch.device(\"cuda:0\" if torch.cuda.is_available() else \"cpu\")\n",
        "\n",
        "y_pred_list = []\n",
        "predictions_cpv= []\n",
        "with torch.no_grad():\n",
        "    for X_batch, _ in cpv_loader:\n",
        "        X_batch = X_batch.to(device)\n",
        "        y_test_pred = my_net(X_batch)\n",
        "        #print(y_test_pred)\n",
        "        predictions_cpv.extend(torch.sigmoid(y_test_pred).cpu().detach().numpy().tolist())\n",
        "        #print(predictions_cpv)\n",
        "\n",
        "flat_list = []\n",
        "for sublist in predictions_cpv:\n",
        "    for item in sublist:\n",
        "        flat_list.append(item)\n",
        "predictions_cpv = [1 if i>=0.5 else 0 for i in flat_list]\n",
        "confusion_matrix_df = pd.DataFrame(confusion_matrix(y_cpv, predictions_cpv))\n",
        "tn, fp, fn, tp = confusion_matrix(y_cpv, predictions_cpv).ravel()\n",
        "print(classification_report(y_cpv, predictions_cpv))\n",
        "print(tp, tn, fp, fn)\n",
        "TPR =tp / (tp + fn)\n",
        "print('Sensitivity: %.2f'  % (TPR*100))\n",
        "\n",
        "TNR = tn / (tn + fp)\n",
        "print('Specificity: %.2f'  % (TNR*100))"
      ],
      "metadata": {
        "colab": {
          "base_uri": "https://localhost:8080/"
        },
        "id": "qHau1t5JZi0F",
        "outputId": "c14d6e10-85aa-498b-9153-0bb64c2e64f3"
      },
      "execution_count": null,
      "outputs": [
        {
          "output_type": "error",
          "ename": "ValueError",
          "evalue": "ignored",
          "traceback": [
            "\u001b[0;31m---------------------------------------------------------------------------\u001b[0m",
            "\u001b[0;31mValueError\u001b[0m                                Traceback (most recent call last)",
            "\u001b[0;32m<ipython-input-44-d71f7020d665>\u001b[0m in \u001b[0;36m<module>\u001b[0;34m()\u001b[0m\n\u001b[1;32m     20\u001b[0m         \u001b[0mflat_list\u001b[0m\u001b[0;34m.\u001b[0m\u001b[0mappend\u001b[0m\u001b[0;34m(\u001b[0m\u001b[0mitem\u001b[0m\u001b[0;34m)\u001b[0m\u001b[0;34m\u001b[0m\u001b[0;34m\u001b[0m\u001b[0m\n\u001b[1;32m     21\u001b[0m \u001b[0mpredictions_cpv\u001b[0m \u001b[0;34m=\u001b[0m \u001b[0;34m[\u001b[0m\u001b[0;36m1\u001b[0m \u001b[0;32mif\u001b[0m \u001b[0mi\u001b[0m\u001b[0;34m>=\u001b[0m\u001b[0;36m0.5\u001b[0m \u001b[0;32melse\u001b[0m \u001b[0;36m0\u001b[0m \u001b[0;32mfor\u001b[0m \u001b[0mi\u001b[0m \u001b[0;32min\u001b[0m \u001b[0mflat_list\u001b[0m\u001b[0;34m]\u001b[0m\u001b[0;34m\u001b[0m\u001b[0;34m\u001b[0m\u001b[0m\n\u001b[0;32m---> 22\u001b[0;31m \u001b[0mconfusion_matrix_df\u001b[0m \u001b[0;34m=\u001b[0m \u001b[0mpd\u001b[0m\u001b[0;34m.\u001b[0m\u001b[0mDataFrame\u001b[0m\u001b[0;34m(\u001b[0m\u001b[0mconfusion_matrix\u001b[0m\u001b[0;34m(\u001b[0m\u001b[0my_cpv\u001b[0m\u001b[0;34m,\u001b[0m \u001b[0mpredictions_cpv\u001b[0m\u001b[0;34m)\u001b[0m\u001b[0;34m)\u001b[0m\u001b[0;34m\u001b[0m\u001b[0;34m\u001b[0m\u001b[0m\n\u001b[0m\u001b[1;32m     23\u001b[0m \u001b[0mtn\u001b[0m\u001b[0;34m,\u001b[0m \u001b[0mfp\u001b[0m\u001b[0;34m,\u001b[0m \u001b[0mfn\u001b[0m\u001b[0;34m,\u001b[0m \u001b[0mtp\u001b[0m \u001b[0;34m=\u001b[0m \u001b[0mconfusion_matrix\u001b[0m\u001b[0;34m(\u001b[0m\u001b[0my_cpv\u001b[0m\u001b[0;34m,\u001b[0m \u001b[0mpredictions_cpv\u001b[0m\u001b[0;34m)\u001b[0m\u001b[0;34m.\u001b[0m\u001b[0mravel\u001b[0m\u001b[0;34m(\u001b[0m\u001b[0;34m)\u001b[0m\u001b[0;34m\u001b[0m\u001b[0;34m\u001b[0m\u001b[0m\n\u001b[1;32m     24\u001b[0m \u001b[0mprint\u001b[0m\u001b[0;34m(\u001b[0m\u001b[0mclassification_report\u001b[0m\u001b[0;34m(\u001b[0m\u001b[0my_cpv\u001b[0m\u001b[0;34m,\u001b[0m \u001b[0mpredictions_cpv\u001b[0m\u001b[0;34m)\u001b[0m\u001b[0;34m)\u001b[0m\u001b[0;34m\u001b[0m\u001b[0;34m\u001b[0m\u001b[0m\n",
            "\u001b[0;32m/usr/local/lib/python3.7/dist-packages/sklearn/metrics/_classification.py\u001b[0m in \u001b[0;36mconfusion_matrix\u001b[0;34m(y_true, y_pred, labels, sample_weight, normalize)\u001b[0m\n\u001b[1;32m    305\u001b[0m     \u001b[0;34m(\u001b[0m\u001b[0;36m0\u001b[0m\u001b[0;34m,\u001b[0m \u001b[0;36m2\u001b[0m\u001b[0;34m,\u001b[0m \u001b[0;36m1\u001b[0m\u001b[0;34m,\u001b[0m \u001b[0;36m1\u001b[0m\u001b[0;34m)\u001b[0m\u001b[0;34m\u001b[0m\u001b[0;34m\u001b[0m\u001b[0m\n\u001b[1;32m    306\u001b[0m     \"\"\"\n\u001b[0;32m--> 307\u001b[0;31m     \u001b[0my_type\u001b[0m\u001b[0;34m,\u001b[0m \u001b[0my_true\u001b[0m\u001b[0;34m,\u001b[0m \u001b[0my_pred\u001b[0m \u001b[0;34m=\u001b[0m \u001b[0m_check_targets\u001b[0m\u001b[0;34m(\u001b[0m\u001b[0my_true\u001b[0m\u001b[0;34m,\u001b[0m \u001b[0my_pred\u001b[0m\u001b[0;34m)\u001b[0m\u001b[0;34m\u001b[0m\u001b[0;34m\u001b[0m\u001b[0m\n\u001b[0m\u001b[1;32m    308\u001b[0m     \u001b[0;32mif\u001b[0m \u001b[0my_type\u001b[0m \u001b[0;32mnot\u001b[0m \u001b[0;32min\u001b[0m \u001b[0;34m(\u001b[0m\u001b[0;34m\"binary\"\u001b[0m\u001b[0;34m,\u001b[0m \u001b[0;34m\"multiclass\"\u001b[0m\u001b[0;34m)\u001b[0m\u001b[0;34m:\u001b[0m\u001b[0;34m\u001b[0m\u001b[0;34m\u001b[0m\u001b[0m\n\u001b[1;32m    309\u001b[0m         \u001b[0;32mraise\u001b[0m \u001b[0mValueError\u001b[0m\u001b[0;34m(\u001b[0m\u001b[0;34m\"%s is not supported\"\u001b[0m \u001b[0;34m%\u001b[0m \u001b[0my_type\u001b[0m\u001b[0;34m)\u001b[0m\u001b[0;34m\u001b[0m\u001b[0;34m\u001b[0m\u001b[0m\n",
            "\u001b[0;32m/usr/local/lib/python3.7/dist-packages/sklearn/metrics/_classification.py\u001b[0m in \u001b[0;36m_check_targets\u001b[0;34m(y_true, y_pred)\u001b[0m\n\u001b[1;32m     82\u001b[0m     \u001b[0my_pred\u001b[0m \u001b[0;34m:\u001b[0m \u001b[0marray\u001b[0m \u001b[0;32mor\u001b[0m \u001b[0mindicator\u001b[0m \u001b[0mmatrix\u001b[0m\u001b[0;34m\u001b[0m\u001b[0;34m\u001b[0m\u001b[0m\n\u001b[1;32m     83\u001b[0m     \"\"\"\n\u001b[0;32m---> 84\u001b[0;31m     \u001b[0mcheck_consistent_length\u001b[0m\u001b[0;34m(\u001b[0m\u001b[0my_true\u001b[0m\u001b[0;34m,\u001b[0m \u001b[0my_pred\u001b[0m\u001b[0;34m)\u001b[0m\u001b[0;34m\u001b[0m\u001b[0;34m\u001b[0m\u001b[0m\n\u001b[0m\u001b[1;32m     85\u001b[0m     \u001b[0mtype_true\u001b[0m \u001b[0;34m=\u001b[0m \u001b[0mtype_of_target\u001b[0m\u001b[0;34m(\u001b[0m\u001b[0my_true\u001b[0m\u001b[0;34m)\u001b[0m\u001b[0;34m\u001b[0m\u001b[0;34m\u001b[0m\u001b[0m\n\u001b[1;32m     86\u001b[0m     \u001b[0mtype_pred\u001b[0m \u001b[0;34m=\u001b[0m \u001b[0mtype_of_target\u001b[0m\u001b[0;34m(\u001b[0m\u001b[0my_pred\u001b[0m\u001b[0;34m)\u001b[0m\u001b[0;34m\u001b[0m\u001b[0;34m\u001b[0m\u001b[0m\n",
            "\u001b[0;32m/usr/local/lib/python3.7/dist-packages/sklearn/utils/validation.py\u001b[0m in \u001b[0;36mcheck_consistent_length\u001b[0;34m(*arrays)\u001b[0m\n\u001b[1;32m    332\u001b[0m         raise ValueError(\n\u001b[1;32m    333\u001b[0m             \u001b[0;34m\"Found input variables with inconsistent numbers of samples: %r\"\u001b[0m\u001b[0;34m\u001b[0m\u001b[0;34m\u001b[0m\u001b[0m\n\u001b[0;32m--> 334\u001b[0;31m             \u001b[0;34m%\u001b[0m \u001b[0;34m[\u001b[0m\u001b[0mint\u001b[0m\u001b[0;34m(\u001b[0m\u001b[0ml\u001b[0m\u001b[0;34m)\u001b[0m \u001b[0;32mfor\u001b[0m \u001b[0ml\u001b[0m \u001b[0;32min\u001b[0m \u001b[0mlengths\u001b[0m\u001b[0;34m]\u001b[0m\u001b[0;34m\u001b[0m\u001b[0;34m\u001b[0m\u001b[0m\n\u001b[0m\u001b[1;32m    335\u001b[0m         )\n\u001b[1;32m    336\u001b[0m \u001b[0;34m\u001b[0m\u001b[0m\n",
            "\u001b[0;31mValueError\u001b[0m: Found input variables with inconsistent numbers of samples: [238, 236]"
          ]
        }
      ]
    },
    {
      "cell_type": "markdown",
      "source": [
        "### DRGN"
      ],
      "metadata": {
        "id": "D7Xl9tXKcRoK"
      }
    },
    {
      "cell_type": "code",
      "source": [
        "DRGN = pd.read_csv('/content/drive/MyDrive/my_colab/3rdYear/datasets/DRGN_mutations.csv')"
      ],
      "metadata": {
        "id": "em3YQsw4cscD"
      },
      "execution_count": null,
      "outputs": []
    },
    {
      "cell_type": "code",
      "source": [
        "seq_all_nocrop_drgn  = []\n",
        "for k in range(1, 3):\n",
        "  with open(f'/content/drive/MyDrive/my_colab/3rdYear/ProTrans/prott5_DRGN_{k}.pickle','rb') as file_handle:\n",
        "    file_temp = pickle.load(file_handle) # load the sequences of one batch (2000)\n",
        "\n",
        "    seq_temp = []\n",
        "\n",
        "    for seq in file_temp :\n",
        "      AA_seq_temp = []\n",
        "      for AA in seq:\n",
        "        AA_seq_temp.append(torch.mean(AA))\n",
        "      seq_temp.append(AA_seq_temp)\n",
        "    seq_all_nocrop_drgn = seq_all_nocrop_drgn + seq_temp\n",
        "\n",
        "    del file_temp, seq_temp, AA_seq_temp\n",
        "    gc.collect()\n",
        "\n",
        "count_pos, count_neg = 0, 0\n",
        "for i in DRGN['label'].values:\n",
        "  if i == 0:\n",
        "    count_neg +=1\n",
        "  elif i == 1:\n",
        "    count_pos += 1\n",
        "  else:\n",
        "    print('else')"
      ],
      "metadata": {
        "id": "n6XOxeJLcTS3"
      },
      "execution_count": null,
      "outputs": []
    },
    {
      "cell_type": "code",
      "source": [
        "# pad to 2000 AA\n",
        "seq_all_cropped_drgn = []\n",
        "for seq_single in seq_all_nocrop_drgn:\n",
        "  seq_single = torch.tensor(seq_single)\n",
        "  if len(seq_single) > 2000:\n",
        "    seq_all_cropped_drgn.append(seq_single[:2000])\n",
        "  else:\n",
        "    to_pad = 2000 - len(seq_single) \n",
        "    seq_all_cropped_drgn.append(F.pad(input=seq_single, pad=(0, to_pad), mode='constant', value=0))"
      ],
      "metadata": {
        "id": "wX5ry9h9dUkY"
      },
      "execution_count": null,
      "outputs": []
    },
    {
      "cell_type": "code",
      "source": [
        "del train_dataset, val_dataset\n",
        "gc.collect()"
      ],
      "metadata": {
        "colab": {
          "base_uri": "https://localhost:8080/"
        },
        "id": "9XOc7fXTd3To",
        "outputId": "5649cbcd-c308-4c4b-8d42-25d601a613ef"
      },
      "execution_count": null,
      "outputs": [
        {
          "output_type": "execute_result",
          "data": {
            "text/plain": [
              "173125"
            ]
          },
          "metadata": {},
          "execution_count": 46
        }
      ]
    },
    {
      "cell_type": "code",
      "source": [
        "gc.collect()\n",
        "seq_cropped_flat = []\n",
        "for i in seq_all_cropped_drgn:\n",
        "  seq_cropped_flat.append(torch.flatten(i))\n",
        "\n",
        "gc.collect()\n",
        "stacked_tensor_flat = torch.stack(seq_cropped_flat)\n",
        "print(stacked_tensor_flat.shape)"
      ],
      "metadata": {
        "colab": {
          "base_uri": "https://localhost:8080/"
        },
        "id": "8tG2nPqZdUnD",
        "outputId": "53ce1360-3309-4b3d-cd81-965a78d7e669"
      },
      "execution_count": null,
      "outputs": [
        {
          "output_type": "stream",
          "name": "stdout",
          "text": [
            "torch.Size([3621, 2000])\n"
          ]
        }
      ]
    },
    {
      "cell_type": "code",
      "source": [
        "with open('/content/drive/MyDrive/my_colab/3rdYear/ProTrans/prott5_DRGN_indices_to_excl.pickle', 'rb') as handle:\n",
        "    indices_to_excl = pickle.load(handle)"
      ],
      "metadata": {
        "id": "HoRSEtK1l0Fu"
      },
      "execution_count": null,
      "outputs": []
    },
    {
      "cell_type": "code",
      "source": [
        "DRGN = DRGN.reset_index(drop=True)\n",
        "DRGN = DRGN.drop(DRGN.index[indices_to_excl])"
      ],
      "metadata": {
        "id": "3GiwWn0ksqMP"
      },
      "execution_count": null,
      "outputs": []
    },
    {
      "cell_type": "code",
      "source": [
        "drgn_dataset = ClassifierDataset(stacked_tensor_flat, torch.from_numpy(np.array(DRGN['label'].values)))"
      ],
      "metadata": {
        "id": "kpypXASovcxt"
      },
      "execution_count": null,
      "outputs": []
    },
    {
      "cell_type": "code",
      "source": [
        "drgn_loader = DataLoader(dataset=drgn_dataset, batch_size=64, drop_last=True)"
      ],
      "metadata": {
        "id": "YeuRn7uuv21c"
      },
      "execution_count": null,
      "outputs": []
    },
    {
      "cell_type": "code",
      "source": [
        "test_loss, test_acc = test_epoch(my_net, drgn_loader, loss_fn)"
      ],
      "metadata": {
        "colab": {
          "base_uri": "https://localhost:8080/"
        },
        "id": "ybj7JYd6wJyR",
        "outputId": "5189cca6-eaf6-463a-d4fa-15a56d44ccb9"
      },
      "execution_count": null,
      "outputs": [
        {
          "output_type": "stream",
          "name": "stdout",
          "text": [
            "[[0.9558364748954773], [0.9557973742485046], [0.9558207392692566], [0.9558083415031433], [0.9558150768280029], [0.9558200836181641], [0.9558199048042297], [0.9558141231536865], [0.9558133482933044], [0.9558054208755493], [0.9558225870132446], [0.9558225870132446], [0.9558301568031311], [0.9558145403862], [0.9558334946632385], [0.9558195471763611], [0.955816388130188], [0.9558234810829163], [0.9558141231536865], [0.9558022618293762], [0.9558471441268921], [0.9558170437812805], [0.9558165073394775], [0.9558351635932922], [0.955810546875], [0.9558154344558716], [0.9558255672454834], [0.9558151960372925], [0.955818235874176], [0.9551771283149719], [0.9551766514778137], [0.9551774263381958], [0.9551780819892883], [0.9551772475242615], [0.955178439617157], [0.9551739692687988], [0.9551790952682495], [0.9551820158958435], [0.9551652669906616], [0.9551642537117004], [0.9551726579666138], [0.955165445804596], [0.9551747441291809], [0.9551746249198914], [0.9551804661750793], [0.9551770091056824], [0.956466019153595], [0.9564509987831116], [0.9564610123634338], [0.9564634561538696], [0.956460177898407], [0.956450343132019], [0.9564597010612488], [0.9559609293937683], [0.9559632539749146], [0.9559720754623413], [0.9561778903007507], [0.9561643004417419], [0.9561490416526794], [0.9561657905578613], [0.9561809301376343], [0.9561589360237122], [0.9561616778373718], [0.9561594724655151], [0.9563446044921875], [0.9563585519790649], [0.9563392400741577], [0.9563434720039368], [0.9563266038894653], [0.9563490748405457], [0.9563332200050354], [0.9563400149345398], [0.9563383460044861], [0.9563425183296204], [0.9563443660736084], [0.9563334584236145], [0.9563417434692383], [0.9563489556312561], [0.9563450217247009], [0.9563440084457397], [0.9563297629356384], [0.9563392400741577], [0.9563466310501099], [0.9563324451446533], [0.9563429355621338], [0.956024706363678], [0.9560183882713318], [0.9560144543647766], [0.9560177326202393], [0.9560264348983765], [0.9560136795043945], [0.956026017665863], [0.9560232758522034], [0.9559997320175171], [0.9560239315032959], [0.9560185670852661], [0.9560171961784363], [0.9560248851776123], [0.9560261964797974], [0.9560227394104004], [0.9560215473175049], [0.9560180306434631], [0.9560241103172302], [0.9560149908065796], [0.9560218453407288], [0.9560268521308899], [0.9560490846633911], [0.9560301303863525], [0.9560340642929077], [0.9560290575027466], [0.9560297131538391], [0.9560250043869019], [0.9560170769691467], [0.9560272097587585], [0.9560202360153198], [0.9560083150863647], [0.9560275077819824], [0.9560231566429138], [0.9560393691062927], [0.9560196995735168], [0.9560452699661255], [0.9560213088989258], [0.9560184478759766], [0.9560186862945557], [0.9560346007347107], [0.9560244679450989], [0.9560218453407288], [0.9560241103172302], [0.9560166001319885], [0.9560051560401917], [0.9560360312461853], [0.9560273885726929], [0.9560219645500183], [0.9560286998748779], [0.955994725227356], [0.9560102224349976], [0.9560169577598572], [0.9560617208480835], [0.9560257792472839], [0.9560268521308899], [0.9560215473175049], [0.9560369849205017], [0.9559928774833679], [0.9560085535049438], [0.9560197591781616], [0.9560304880142212], [0.9560177326202393], [0.9559968113899231], [0.9560112953186035], [0.9560291767120361], [0.9560263156890869], [0.9560034275054932], [0.9560264348983765], [0.9560179114341736], [0.9560241103172302], [0.9560198783874512], [0.9560210704803467], [0.9560256600379944], [0.9560194611549377], [0.9560194611549377], [0.9560152888298035], [0.9560218453407288], [0.9560277462005615], [0.956032395362854], [0.9560399651527405], [0.9560230374336243], [0.95602947473526], [0.956026017665863], [0.9560127854347229], [0.9560537934303284], [0.9560257792472839], [0.9560375213623047], [0.9560268521308899], [0.9560254216194153], [0.9559471011161804], [0.9560171961784363], [0.9560243487358093], [0.9560166001319885], [0.9560220837593079], [0.956043004989624], [0.9560496211051941], [0.9560490846633911], [0.9560461640357971], [0.9560535550117493], [0.9560523629188538], [0.9560549855232239], [0.9560522437095642], [0.9558398127555847], [0.9558461308479309], [0.9558495283126831], [0.9558371901512146], [0.9558509588241577], [0.955833375453949], [0.9558428525924683], [0.955834686756134], [0.9558441638946533], [0.9558291435241699], [0.9558465480804443], [0.9558444023132324], [0.9558387398719788], [0.9558337330818176], [0.9558414816856384], [0.9558433294296265], [0.955851674079895], [0.9558508396148682], [0.9558420181274414], [0.9558453559875488], [0.955843985080719], [0.9558408260345459], [0.9558368921279907], [0.9558376669883728], [0.9558579921722412], [0.9558333158493042], [0.9561565518379211], [0.9562368392944336], [0.9565431475639343], [0.9565461874008179], [0.956550657749176], [0.9565353989601135], [0.9565221071243286], [0.9565438032150269], [0.9565407633781433], [0.9565441608428955], [0.9565438032150269], [0.9565392136573792], [0.9565544128417969], [0.9562847018241882], [0.9562936425209045], [0.9562913775444031], [0.956275999546051], [0.9562814235687256], [0.9562795758247375], [0.9561481475830078], [0.95616614818573], [0.9561508893966675], [0.9561682939529419], [0.9561394453048706], [0.9561542272567749], [0.9561492204666138], [0.9561408162117004], [0.9561443328857422], [0.9561491012573242], [0.9561590552330017], [0.9561609029769897], [0.9561604857444763], [0.9561523795127869], [0.956165611743927], [0.956153392791748], [0.9561540484428406], [0.9561617970466614], [0.956155002117157], [0.9561553597450256], [0.9561446309089661], [0.9561553597450256], [0.9561610221862793], [0.956154465675354], [0.956155002117157], [0.9561524987220764], [0.9561730027198792], [0.9561616778373718], [0.9561460614204407], [0.9565718173980713], [0.9565672874450684], [0.9565654993057251], [0.9565591812133789], [0.9565688967704773], [0.9565687775611877], [0.9565608501434326], [0.9565731287002563], [0.9565699696540833], [0.9565653800964355], [0.9562042951583862], [0.9562040567398071], [0.9561845660209656], [0.9562084078788757], [0.956183910369873], [0.9561910629272461], [0.9561882615089417], [0.9562066793441772], [0.9561944603919983], [0.956200361251831], [0.9562031030654907], [0.9562036395072937], [0.9563587307929993], [0.956346333026886], [0.9563499093055725], [0.9563466310501099], [0.9563521146774292], [0.9559840559959412], [0.9559946060180664], [0.9559847116470337], [0.9559852480888367], [0.9559915661811829], [0.9559856653213501], [0.9559854865074158], [0.955982506275177], [0.9559749960899353], [0.9559881687164307], [0.955962061882019], [0.9559876322746277], [0.9559761881828308], [0.9559901356697083], [0.9559916853904724], [0.9559988379478455], [0.9559826254844666], [0.9559862017631531], [0.9560050964355469], [0.9559751152992249], [0.9559860229492188], [0.9559836387634277], [0.9559827446937561], [0.9559869766235352], [0.9559974670410156], [0.9559981226921082], [0.9559866786003113], [0.9560019373893738], [0.9559898376464844], [0.9559943675994873], [0.9559841752052307], [0.9559904932975769], [0.9559789299964905], [0.9561322331428528], [0.9561476111412048], [0.9561303853988647], [0.95613694190979], [0.9561324715614319], [0.9561472535133362], [0.9563433527946472], [0.9563348889350891], [0.9563814401626587], [0.9563681483268738], [0.956376850605011], [0.9563391208648682], [0.9563730359077454], [0.9563526511192322], [0.9563314914703369], [0.9563494920730591], [0.9563494920730591], [0.9563512206077576], [0.9563418626785278], [0.9563553929328918], [0.9563446044921875], [0.9563489556312561], [0.9563535451889038], [0.9563452005386353], [0.9563599228858948], [0.9563867449760437], [0.9563467502593994], [0.9563739895820618], [0.9563434720039368], [0.9563462138175964], [0.9563652873039246], [0.9563705325126648], [0.9563460946083069], [0.9563663005828857], [0.9563684463500977], [0.9563472867012024], [0.9563519954681396], [0.9563514590263367], [0.9563804268836975], [0.9563555717468262], [0.9563605189323425], [0.9563659429550171], [0.956360936164856], [0.9563496708869934], [0.9563655257225037], [0.9563405513763428], [0.9563381671905518], [0.9563718438148499], [0.956343948841095], [0.9563592076301575], [0.9563406705856323], [0.9563489556312561], [0.9563447833061218], [0.9563677906990051], [0.9563649892807007], [0.9563581943511963], [0.9563437104225159], [0.9563420414924622], [0.9563416242599487], [0.9563658237457275], [0.9563705325126648], [0.9563418626785278], [0.9563331007957458], [0.9563764929771423], [0.9563464522361755], [0.9563919901847839], [0.9563655257225037], [0.9563326835632324], [0.9563562273979187], [0.9563526511192322], [0.9563366174697876], [0.9563542604446411], [0.9563496708869934], [0.956360936164856], [0.9563485980033875], [0.9563618898391724], [0.9563517570495605], [0.9563484191894531], [0.9563718438148499], [0.9563404321670532], [0.9563491344451904], [0.956335723400116], [0.9563404321670532], [0.9563398957252502], [0.956348180770874], [0.9563432931900024], [0.9563830494880676], [0.9563345313072205], [0.9563813209533691], [0.9563739895820618], [0.956351637840271], [0.9563509225845337], [0.9563426971435547], [0.9563423991203308], [0.9563464522361755], [0.9563485980033875], [0.9563421607017517], [0.9563624262809753], [0.9563592076301575], [0.9563751220703125], [0.9563663601875305], [0.9563679099082947], [0.9563691020011902], [0.9563590884208679], [0.9563704133033752], [0.9563831686973572], [0.9560027718544006], [0.9563719630241394], [0.9563581943511963], [0.9563679099082947], [0.9563780426979065], [0.9563688039779663], [0.9563855528831482], [0.9563577771186829], [0.9563648700714111], [0.9563518762588501], [0.9563634395599365], [0.9563592076301575], [0.9560821056365967], [0.9563667178153992], [0.9563671350479126], [0.9563419818878174], [0.955998957157135], [0.956363320350647], [0.9563650488853455], [0.9563586115837097], [0.9563426971435547], [0.9563369154930115], [0.956331729888916], [0.9563435912132263], [0.9563431739807129], [0.9563258290290833], [0.9563443660736084], [0.9563555717468262], [0.9563441276550293], [0.9562119245529175], [0.9562243223190308], [0.9562169313430786], [0.9562069177627563], [0.9562221765518188], [0.9562200903892517], [0.956228494644165], [0.9562084078788757], [0.9562148451805115], [0.9562053680419922], [0.9562225937843323], [0.9562148451805115], [0.9562215805053711], [0.9562203884124756], [0.955208957195282], [0.9552139639854431], [0.9552193284034729], [0.9552027583122253], [0.9552135467529297], [0.9563639760017395], [0.956375777721405], [0.9563122987747192], [0.95635986328125], [0.9563626646995544], [0.9563397765159607], [0.9563610553741455], [0.9563538432121277], [0.9563508033752441], [0.9563522338867188], [0.9563465118408203], [0.9563522934913635], [0.9563600420951843], [0.956360399723053], [0.9563654065132141], [0.9563663601875305], [0.9563526511192322], [0.9563698768615723], [0.9563469886779785], [0.9563479423522949], [0.9563537240028381], [0.956344485282898], [0.9563485980033875], [0.9563478231430054], [0.9563661813735962], [0.9563561081886292], [0.9563758969306946], [0.9563539624214172], [0.9563560485839844], [0.9563521146774292], [0.9563308358192444], [0.9563382267951965], [0.9563606977462769], [0.9563905000686646], [0.9563626646995544], [0.9563613533973694], [0.9563764333724976], [0.956337571144104], [0.9563605189323425], [0.9563420414924622], [0.9563639760017395], [0.9563913345336914], [0.956358015537262], [0.9563479423522949], [0.9563552737236023], [0.9563408493995667], [0.956351101398468], [0.9563406705856323], [0.9563698768615723], [0.9563477635383606], [0.9563478231430054], [0.956347644329071], [0.9563543796539307], [0.9563477635383606], [0.9563403129577637], [0.9565704464912415], [0.9563531875610352], [0.9563605189323425], [0.9563615918159485], [0.9563542604446411], [0.956365704536438], [0.9563353061676025], [0.9563613533973694], [0.9563620090484619], [0.9563585519790649], [0.9563355445861816], [0.9563540816307068], [0.9563647508621216], [0.9563595056533813], [0.956350564956665], [0.956361711025238], [0.9563518762588501], [0.9563531875610352], [0.9563515782356262], [0.9563636779785156], [0.9563438296318054], [0.9563543796539307], [0.9563398957252502], [0.9563451409339905], [0.9563440084457397], [0.9563560485839844], [0.9563380479812622], [0.9563593864440918], [0.956351101398468], [0.9563580751419067], [0.9563500285148621], [0.9563592672348022], [0.956335186958313], [0.9563419818878174], [0.9563316106796265], [0.9563270211219788], [0.9563307166099548], [0.9563323855400085], [0.9563385844230652], [0.9563266038894653], [0.9563339948654175], [0.9563391208648682], [0.9563384652137756], [0.9563443660736084], [0.9563388228416443], [0.9563446044921875], [0.9563464522361755], [0.9563385844230652], [0.9562403559684753], [0.9562537670135498], [0.9562135338783264], [0.956231951713562], [0.9562340378761292], [0.9562361240386963], [0.956234335899353], [0.9562377333641052], [0.9562450647354126], [0.9562435150146484], [0.9562207460403442], [0.9562450647354126], [0.9562456011772156], [0.9562203288078308], [0.9562320709228516], [0.9562507271766663], [0.9562379717826843], [0.9562242031097412], [0.9562413096427917], [0.9562210440635681], [0.9562470316886902], [0.9561556577682495], [0.9561613202095032], [0.9561678767204285], [0.9561554193496704], [0.9561418294906616], [0.9561611413955688], [0.9561573266983032], [0.9561691880226135], [0.956153154373169], [0.9561485648155212], [0.9561598896980286], [0.9561560750007629], [0.9561590552330017], [0.9561495780944824], [0.9561523795127869], [0.956153929233551], [0.9558745622634888], [0.9558576941490173], [0.9558688998222351], [0.9558565020561218], [0.9558761715888977], [0.9558656215667725], [0.9558725953102112], [0.9558730721473694], [0.9558724164962769], [0.9558682441711426], [0.9558682441711426], [0.9558661580085754], [0.9558634757995605], [0.9558687806129456], [0.9558807611465454], [0.9558697938919067], [0.9558674693107605], [0.9558711647987366], [0.9562507271766663], [0.9562444090843201], [0.9562615156173706], [0.9562422037124634], [0.9562268257141113], [0.9562502503395081], [0.9562520384788513], [0.9560948610305786], [0.9553261399269104], [0.9553222060203552], [0.9553183913230896], [0.9553400874137878], [0.9553292989730835], [0.955328643321991], [0.9553295969963074], [0.9553288817405701], [0.9553335309028625], [0.9553287625312805], [0.9553282856941223], [0.9553306102752686], [0.9553259015083313], [0.9553179740905762], [0.9553252458572388], [0.9553233981132507], [0.9553282856941223], [0.9553361535072327], [0.9553289413452148], [0.955329179763794], [0.9553274512290955], [0.9553292989730835], [0.9553361535072327], [0.9553166627883911], [0.9553427696228027], [0.9553382396697998], [0.9553319215774536], [0.9553261399269104], [0.9553289413452148], [0.9553114771842957], [0.9558897018432617], [0.9559029936790466], [0.955894410610199], [0.9559009075164795], [0.9558941721916199], [0.9558879733085632], [0.9558923244476318], [0.9558963775634766], [0.9550730586051941], [0.955075204372406], [0.9550731182098389], [0.9550639986991882], [0.9550678133964539], [0.9550705552101135], [0.9550720453262329], [0.9550708532333374], [0.9550682306289673], [0.9550725817680359], [0.9550721645355225], [0.9550742506980896], [0.9550703167915344], [0.955070972442627], [0.9550641179084778], [0.9550715088844299], [0.955068051815033], [0.9550718665122986], [0.9550673961639404], [0.9550667405128479], [0.955072820186615], [0.955071747303009], [0.955068051815033], [0.9550682306289673], [0.9550669193267822], [0.9550779461860657], [0.9550688862800598], [0.9558758735656738], [0.9558691382408142], [0.9558716416358948], [0.955868661403656], [0.9558769464492798], [0.9558761119842529], [0.9558750987052917], [0.9558699131011963], [0.9558725953102112], [0.9558731317520142], [0.9573193192481995], [0.9573429226875305], [0.9573146104812622], [0.9573151469230652], [0.957302451133728], [0.9573208093643188], [0.9573014974594116], [0.9573167562484741], [0.9573189616203308], [0.9573174118995667], [0.9573197364807129], [0.9573150277137756], [0.9573127627372742], [0.9573180079460144], [0.9572944045066833], [0.9573187232017517], [0.9573076963424683], [0.9573035836219788], [0.9573292136192322], [0.9573107957839966], [0.9573251008987427], [0.9573190808296204], [0.9573109149932861], [0.957319974899292], [0.9573193192481995], [0.9573193192481995], [0.9572947025299072], [0.9556652903556824], [0.9556707143783569], [0.9556739926338196], [0.9556912779808044], [0.9556658267974854], [0.9556684494018555], [0.9556688666343689], [0.9567322134971619], [0.9567469358444214], [0.956735372543335], [0.9567684531211853], [0.9567300081253052], [0.9567184448242188], [0.9567267894744873], [0.956719696521759], [0.9567261934280396], [0.9567204117774963], [0.9567328691482544], [0.9567413926124573], [0.9567420482635498], [0.9567396640777588], [0.9567375779151917], [0.9567073583602905], [0.9567301273345947], [0.9567304849624634], [0.9567421674728394], [0.9567412734031677], [0.9567384123802185], [0.9567356109619141], [0.9567058086395264], [0.9567413926124573], [0.9567349553108215], [0.9567396640777588], [0.9567208886146545], [0.956732988357544], [0.9567229151725769], [0.956750214099884], [0.956737756729126], [0.9567331075668335], [0.956731915473938], [0.9567261338233948], [0.956736147403717], [0.9567425847053528], [0.9567320942878723], [0.9567276239395142], [0.9567290544509888], [0.9567323327064514], [0.9567357897758484], [0.9567428827285767], [0.9556959867477417], [0.9563166499137878], [0.9557728171348572], [0.9557836055755615], [0.955689013004303], [0.9557729363441467], [0.9556979537010193], [0.9557049870491028], [0.9557011723518372], [0.9557693600654602], [0.955777645111084], [0.9556958675384521], [0.9557787179946899], [0.9556904435157776], [0.9557822942733765], [0.9556916356086731], [0.9557027220726013], [0.9556991457939148], [0.955690860748291], [0.9556940197944641], [0.9557227492332458], [0.9557000994682312], [0.955695629119873], [0.9556786417961121], [0.9556965231895447], [0.9557762145996094], [0.9557660818099976], [0.9556928277015686], [0.955781877040863], [0.9558315277099609], [0.9558145403862], [0.9558081030845642], [0.9556909799575806], [0.955690860748291], [0.9556886553764343], [0.9557032585144043], [0.9562654495239258], [0.9562650918960571], [0.9562197327613831], [0.9562283754348755], [0.9562304615974426], [0.956234335899353], [0.9562274813652039], [0.9562245607376099], [0.9562240242958069], [0.9562257528305054], [0.9562056064605713], [0.9562094211578369], [0.9562285542488098], [0.9562250971794128], [0.9562228918075562], [0.9562383890151978], [0.9562291502952576], [0.9562323689460754], [0.9562228322029114], [0.956229567527771], [0.9562255144119263], [0.9562506079673767], [0.9562656283378601], [0.9562633633613586], [0.9562543034553528], [0.9562561511993408], [0.9562628269195557], [0.956335723400116], [0.9563308358192444], [0.956307590007782], [0.9563245177268982], [0.9563207030296326], [0.9563382267951965], [0.9563422799110413], [0.9563350081443787], [0.9563410878181458], [0.9563325643539429], [0.9563230872154236], [0.9563350677490234], [0.9563369154930115], [0.9563358426094055], [0.9563282132148743], [0.9563297629356384], [0.9562866687774658], [0.9562755823135376], [0.9562976956367493], [0.9563024044036865], [0.9563111066818237], [0.9562855958938599], [0.9563074111938477], [0.9563124179840088], [0.9563090205192566], [0.9562879800796509], [0.9562922716140747], [0.9562961459159851], [0.9562872052192688], [0.956287682056427], [0.9553389549255371], [0.9553335309028625], [0.9553252458572388], [0.9553306102752686], [0.9553425908088684], [0.9562572240829468], [0.9562543034553528], [0.9562808275222778], [0.9562795758247375], [0.956278383731842], [0.9562908411026001], [0.9562928080558777], [0.9562687873840332], [0.9562874436378479], [0.9562820792198181], [0.9562810063362122], [0.9562733769416809], [0.95628821849823], [0.9562573432922363], [0.95626300573349], [0.956260085105896], [0.9562820792198181], [0.9562628269195557], [0.9562790393829346], [0.9562921524047852], [0.9562910199165344], [0.9562814235687256], [0.9562823176383972], [0.9562704563140869], [0.9562769532203674], [0.9562733769416809], [0.9562540650367737], [0.9562829732894897], [0.9562820792198181], [0.9562721848487854], [0.9564429521560669], [0.9558219909667969], [0.9558289051055908], [0.9558225870132446], [0.9558262228965759], [0.9558168649673462], [0.9558154344558716], [0.9558286070823669], [0.9558213949203491], [0.9558217525482178], [0.9558240175247192], [0.9558238983154297], [0.9558272957801819], [0.9558266401290894], [0.955828845500946], [0.9558159708976746], [0.9558267593383789], [0.9558366537094116], [0.955826997756958], [0.9558466672897339], [0.9557855725288391], [0.9558233618736267], [0.9558155536651611], [0.9558305740356445], [0.9558283686637878], [0.9558194279670715], [0.9558303356170654], [0.955843985080719], [0.9558253288269043], [0.9558068513870239], [0.9558156728744507], [0.955815851688385], [0.9558103084564209], [0.9558213949203491], [0.9558234810829163], [0.9558315277099609], [0.9558377265930176], [0.9558238387107849], [0.9558199048042297], [0.95583176612854], [0.9558258652687073], [0.9558190107345581], [0.9558192491531372], [0.9558305740356445], [0.9558216333389282], [0.9558277130126953], [0.9558185935020447], [0.9558232426643372], [0.9558274149894714], [0.9558225870132446], [0.9558247923851013], [0.9558213949203491], [0.955812931060791], [0.9558188319206238], [0.9558001756668091], [0.9558066129684448], [0.9558373093605042], [0.9558259844779968], [0.9558199048042297], [0.9558142423629761], [0.9558246731758118], [0.9558227062225342], [0.9558172821998596], [0.9558243751525879], [0.9558228254318237], [0.9558278322219849], [0.9558171629905701], [0.955827534198761], [0.9558076858520508], [0.9558172821998596], [0.9558179378509521], [0.9558037519454956], [0.955816924571991], [0.9558227062225342], [0.9558188915252686], [0.955833375453949], [0.9558247923851013], [0.9558225870132446], [0.9558730721473694], [0.955817699432373], [0.9558212161064148], [0.9558172821998596], [0.9558257460594177], [0.955828070640564], [0.9558194279670715], [0.9558292627334595], [0.9558230638504028], [0.9558206796646118], [0.9558314085006714], [0.9558097720146179], [0.9558178186416626], [0.9558308124542236], [0.9558156728744507], [0.9558252096176147], [0.9558200240135193], [0.9558243751525879], [0.9558312296867371], [0.955830454826355], [0.9558236002922058], [0.9558262228965759], [0.9558188319206238], [0.9558205604553223], [0.9558330774307251], [0.9558205604553223], [0.9558300375938416], [0.9558267593383789], [0.9558225274085999], [0.956234335899353], [0.9562438726425171], [0.9562369585037231], [0.9562422037124634], [0.9562214016914368], [0.9562379717826843], [0.9562386274337769], [0.9562420845031738], [0.9562253952026367], [0.9562472105026245], [0.9562400579452515], [0.9562386274337769], [0.9562411308288574], [0.956246554851532], [0.9559532403945923], [0.955946147441864], [0.9559431076049805], [0.9559494256973267], [0.9559493064880371], [0.9559375047683716], [0.955951452255249], [0.9559313058853149], [0.9559428691864014], [0.955947756767273], [0.9559491872787476], [0.9559582471847534], [0.955950915813446], [0.9559399485588074], [0.9559615850448608], [0.9559590816497803], [0.9559550881385803], [0.9561529159545898], [0.9561495780944824], [0.9561560750007629], [0.9561499953269958], [0.9561535120010376], [0.9556995630264282], [0.9557297229766846], [0.9557227492332458], [0.9557070732116699], [0.9557148218154907], [0.9557350873947144], [0.9557252526283264], [0.9557287693023682], [0.9557551145553589], [0.9557265639305115], [0.9557346105575562], [0.9557077288627625], [0.9557291865348816], [0.9557352662086487], [0.9557239413261414], [0.9557265639305115], [0.9563571214675903], [0.9563658237457275], [0.9563629031181335], [0.9563618302345276], [0.9563639760017395], [0.9563589692115784], [0.9563458561897278], [0.956360399723053], [0.9563547372817993], [0.9563694596290588], [0.9560908079147339], [0.9563692212104797], [0.9563517570495605], [0.9563517570495605], [0.9563528895378113], [0.9563350081443787], [0.9563608169555664], [0.9563563466072083], [0.9563559293746948], [0.9566585421562195], [0.9566652178764343], [0.9566704630851746], [0.9566777944564819], [0.9566819071769714], [0.9566780924797058], [0.9566736221313477], [0.9566705822944641], [0.9566789865493774], [0.9570390582084656], [0.9570326209068298], [0.9570387005805969], [0.9570360779762268], [0.9570412039756775], [0.9570334553718567], [0.9570357799530029], [0.95704185962677], [0.9570329189300537], [0.957037091255188], [0.9570291042327881], [0.9570372104644775], [0.9570294618606567], [0.9570273756980896], [0.9570332765579224], [0.9570356607437134], [0.9570326209068298], [0.9570314884185791], [0.9570397138595581], [0.9570271372795105], [0.9570334553718567], [0.9570387005805969], [0.9570424556732178], [0.9570391774177551], [0.9570369720458984], [0.9570352435112], [0.9570295214653015], [0.9570377469062805], [0.9570395946502686], [0.9570329189300537], [0.9570375084877014], [0.9570321440696716], [0.9570578336715698], [0.9570398330688477], [0.9570368528366089], [0.9570272564888], [0.9570341110229492], [0.9570390582084656], [0.9570373892784119], [0.957037091255188], [0.9570391774177551], [0.9570388197898865], [0.9570369720458984], [0.9570341110229492], [0.9570422172546387], [0.9570369720458984], [0.9570393562316895], [0.957039475440979], [0.9570333361625671], [0.957038402557373], [0.9570327401161194], [0.9570294618606567], [0.9570355415344238], [0.9570284485816956], [0.9563480615615845], [0.9563513398170471], [0.956351101398468], [0.9560722708702087], [0.956349790096283], [0.956349790096283], [0.9563443660736084], [0.9563385844230652], [0.9563465118408203], [0.9563522934913635], [0.9563458561897278], [0.9563440084457397], [0.956352949142456], [0.9563630223274231], [0.9560089707374573], [0.9560104012489319], [0.9560073614120483], [0.9560208916664124], [0.9560149908065796], [0.9560077786445618], [0.9560264348983765], [0.9560196995735168], [0.9560099840164185], [0.9560037851333618], [0.956017255783081], [0.9560036659240723], [0.956015944480896], [0.9560057520866394], [0.9560253620147705], [0.9560155272483826], [0.9560168385505676], [0.9560076594352722], [0.9560089111328125], [0.9560198783874512], [0.9562132358551025], [0.9562193155288696], [0.9562166929244995], [0.9562228322029114], [0.9562104940414429], [0.9562438726425171], [0.9562289118766785], [0.9562323093414307], [0.9562381505966187], [0.956234335899353], [0.9562051296234131], [0.9562385082244873], [0.9562203884124756], [0.9562346935272217], [0.9562093019485474], [0.95623379945755], [0.9562292098999023], [0.9562355875968933], [0.9562394022941589], [0.9566137194633484], [0.9566134214401245], [0.9566035866737366], [0.9566097259521484], [0.9566106796264648], [0.9566173553466797], [0.9566121101379395], [0.9566076397895813], [0.956613302230835], [0.9566082954406738], [0.9566050171852112], [0.9566106796264648], [0.9566066265106201], [0.9566082954406738], [0.9566066265106201], [0.9566066265106201], [0.9566181898117065], [0.9566109776496887], [0.9566217064857483], [0.956615149974823], [0.9566097855567932], [0.9566065073013306], [0.9566067457199097], [0.956612765789032], [0.956619381904602], [0.9566047787666321], [0.9566009640693665], [0.9566115736961365], [0.9566096067428589], [0.9566135406494141], [0.9566125273704529], [0.9566028118133545], [0.9566190838813782], [0.9562028646469116], [0.9562069177627563], [0.9562224745750427], [0.9562785029411316], [0.9562253355979919], [0.9562126398086548], [0.9561152458190918], [0.956013560295105], [0.9560016989707947], [0.9562907218933105], [0.9567771553993225], [0.9562860131263733], [0.9562814235687256], [0.9560006856918335], [0.9559932947158813], [0.9560065865516663], [0.9560052752494812], [0.9559974670410156], [0.9560127258300781], [0.9560055136680603], [0.9559993147850037], [0.9559990763664246], [0.9562972784042358], [0.9559962749481201], [0.9560102820396423], [0.9559996128082275], [0.9559981226921082], [0.9567819833755493], [0.9567785859107971], [0.9559987783432007], [0.9560208916664124], [0.9560026526451111], [0.9560027718544006], [0.9562931060791016], [0.9559996128082275], [0.9563145041465759], [0.956122875213623], [0.9551713466644287], [0.9551631808280945], [0.9551736116409302], [0.9551696181297302], [0.9551697373390198], [0.955168604850769], [0.9565654993057251], [0.9565826654434204], [0.9565632343292236], [0.9565564393997192], [0.9565559029579163], [0.956559956073761], [0.9565750956535339], [0.9565695524215698], [0.9565837383270264], [0.9565865993499756], [0.9565519094467163], [0.9565638899803162], [0.956574559211731], [0.9565641283988953], [0.9565750956535339], [0.9565874338150024], [0.9565706253051758], [0.9565448760986328], [0.9565650820732117], [0.9565497040748596], [0.956574559211731], [0.9565720558166504], [0.9565816521644592], [0.9565650820732117], [0.9565567970275879], [0.9565538167953491], [0.9565470814704895], [0.9565640091896057], [0.9565516710281372], [0.9565649628639221], [0.9565863609313965], [0.9565686583518982], [0.9565550684928894], [0.9565721750259399], [0.9565426111221313], [0.9565743803977966], [0.956545352935791], [0.9565559029579163], [0.9565693140029907], [0.9565737247467041], [0.9563592076301575], [0.9563403129577637], [0.956358015537262], [0.9563567042350769], [0.9563623666763306], [0.957063615322113], [0.9570471048355103], [0.9570512771606445], [0.9570645093917847], [0.9570499658584595], [0.9570427536964417], [0.9570572972297668], [0.9570463299751282], [0.9570541381835938], [0.9570699334144592], [0.9570441842079163], [0.9570428729057312], [0.9570486545562744], [0.9570488929748535], [0.9570451378822327], [0.957030177116394], [0.9570476412773132], [0.9570503830909729], [0.9570443034172058], [0.9570476412773132], [0.9570385217666626], [0.9570402503013611], [0.9556283354759216], [0.9556369781494141], [0.9556232690811157], [0.9556289315223694], [0.9556317329406738], [0.9556326866149902], [0.9556306600570679], [0.9556357860565186], [0.9556288123130798], [0.9556019306182861], [0.9566400051116943], [0.9565747976303101], [0.956346333026886], [0.9563438296318054], [0.9568377733230591], [0.956573486328125], [0.9564419388771057], [0.9565787315368652], [0.9565833806991577], [0.9564587473869324], [0.9566147327423096], [0.9565766453742981], [0.956824779510498], [0.9568129777908325], [0.9565787315368652], [0.9563522934913635], [0.9565622210502625], [0.95682293176651], [0.9568243026733398], [0.9565826654434204], [0.9568114280700684], [0.9565694332122803], [0.9565601944923401], [0.9563422799110413], [0.9563471674919128], [0.9568260908126831], [0.9568317532539368], [0.9564869999885559], [0.9565823078155518], [0.9566452503204346], [0.9565662741661072], [0.9565444588661194], [0.9565742611885071], [0.9563747644424438], [0.956836462020874], [0.9563359618186951], [0.9565665125846863], [0.9568051099777222], [0.9564874172210693], [0.9565768837928772], [0.956332266330719], [0.9565737843513489], [0.956548810005188], [0.9565747976303101], [0.9565663933753967], [0.9565699696540833], [0.9563539624214172], [0.9568079710006714], [0.9565579891204834], [0.9564875364303589], [0.9565679430961609], [0.9565628170967102], [0.9566365480422974], [0.9565720558166504], [0.9563471078872681], [0.9568132162094116], [0.9568127393722534], [0.9563479423522949], [0.9565746784210205], [0.956559956073761], [0.9565700888633728], [0.9565552473068237], [0.9566000699996948], [0.9565684795379639], [0.9565690159797668], [0.9568352103233337], [0.956058144569397], [0.9560397267341614], [0.9560391902923584], [0.9560467004776001], [0.9560344815254211], [0.9560350179672241], [0.9560517072677612], [0.9560542106628418], [0.9560536742210388], [0.9560490846633911], [0.9560385346412659], [0.956061840057373], [0.9560386538505554], [0.9560216069221497], [0.9560465812683105], [0.9560725092887878], [0.9560633897781372], [0.9560595750808716], [0.9560544490814209], [0.9560501575469971], [0.956055760383606], [0.9560499787330627], [0.9560546278953552], [0.9560533165931702], [0.9560590982437134], [0.9560425281524658], [0.9560332894325256], [0.9560298919677734], [0.9560523629188538], [0.9560498595237732], [0.9560490846633911], [0.9560756683349609], [0.9560493230819702], [0.9560450315475464], [0.9560462832450867], [0.9560476541519165], [0.9560560584068298], [0.956048846244812], [0.9560478925704956], [0.9560495018959045], [0.9560754895210266], [0.956043541431427], [0.9560481905937195], [0.9560554027557373], [0.9560469388961792], [0.956043541431427], [0.9560545682907104], [0.9560494422912598], [0.9560418725013733], [0.9560511708259583], [0.9560422301292419], [0.9560467004776001], [0.9560526013374329], [0.9560536742210388], [0.9560456871986389], [0.9560363292694092], [0.9560522437095642], [0.9560571312904358], [0.9560388326644897], [0.9560481309890747], [0.9560369849205017], [0.9560532569885254], [0.9560304880142212], [0.9560474753379822], [0.9560678601264954], [0.9560471177101135], [0.9560507535934448], [0.9560414552688599], [0.9560638070106506], [0.9560517072677612], [0.9560521245002747], [0.9560517072677612], [0.956031322479248], [0.9560531377792358], [0.9560489654541016], [0.9560527801513672], [0.9560551047325134], [0.9560413360595703], [0.9560422301292419], [0.9560527801513672], [0.9560554027557373], [0.9560590982437134], [0.9560528993606567], [0.956047773361206], [0.9560495018959045], [0.9560534358024597], [0.9560473561286926], [0.9560706615447998], [0.956031858921051], [0.9560897350311279], [0.9560607671737671], [0.9560914635658264], [0.956078290939331], [0.9560677409172058], [0.9560552835464478], [0.956039309501648], [0.956078052520752], [0.9560561776161194], [0.9560810327529907], [0.9560649991035461], [0.9560468196868896], [0.9560893177986145], [0.9560860395431519], [0.9560869932174683], [0.956058144569397], [0.9560437798500061], [0.956102728843689], [0.9560935497283936], [0.9560768604278564], [0.956089437007904], [0.9565973877906799], [0.9566022753715515], [0.9565934538841248], [0.9565978050231934], [0.9566038250923157], [0.9565993547439575], [0.9565895199775696], [0.9565902948379517], [0.9566054344177246], [0.9566118717193604], [0.9565924406051636], [0.9565996527671814], [0.956589937210083], [0.9566237926483154], [0.9564093351364136], [0.95643150806427], [0.9564136862754822], [0.9564193487167358], [0.9564321041107178], [0.9564047455787659], [0.9564248323440552], [0.9564245939254761], [0.9564266800880432], [0.956419825553894], [0.9564215540885925], [0.9564319252967834], [0.9564340114593506], [0.956423819065094], [0.9564445614814758], [0.9565949440002441], [0.9565715193748474], [0.9565768837928772], [0.9565784931182861], [0.9565749168395996], [0.9565790295600891], [0.956585168838501], [0.9565871357917786], [0.9565742611885071], [0.9565820693969727], [0.9565922617912292], [0.9565858244895935], [0.9565796852111816], [0.9565843939781189], [0.9565806984901428], [0.9565757513046265], [0.9565820693969727], [0.9565859436988831], [0.9565730690956116], [0.9565798044204712], [0.9565795063972473], [0.9565784931182861], [0.9565809965133667], [0.9565816521644592], [0.9565725922584534], [0.9565887451171875], [0.9565796852111816], [0.9565971493721008], [0.9565833806991577], [0.9565922617912292], [0.956569254398346], [0.9565796852111816], [0.9565693140029907], [0.9565812349319458], [0.9565662741661072], [0.9565885066986084], [0.9565824270248413], [0.9565752148628235], [0.9565798044204712], [0.956574022769928], [0.9565805792808533], [0.9565756320953369], [0.9565826654434204], [0.9565912485122681], [0.9565896391868591], [0.9565902948379517], [0.956571102142334], [0.9565695524215698], [0.9565795063972473], [0.9565761089324951], [0.956588625907898], [0.9565783739089966], [0.9565789103507996], [0.9565820693969727], [0.956585168838501], [0.9565818905830383], [0.9565774202346802], [0.9565859436988831], [0.9565663933753967], [0.9565736055374146], [0.956574022769928], [0.9565902948379517], [0.9565833806991577], [0.9565802216529846], [0.9565750360488892], [0.9565811157226562], [0.9565836191177368], [0.9565727114677429], [0.9565809965133667], [0.9565830826759338], [0.9565795660018921], [0.9565838575363159], [0.9565744400024414], [0.9565820693969727], [0.9565817713737488], [0.9565786123275757], [0.9565699100494385], [0.9565853476524353], [0.9565994143486023], [0.9565768837928772], [0.9565813541412354], [0.9565778374671936], [0.9565911293029785], [0.956571102142334], [0.9565761089324951], [0.9565690159797668], [0.9565959572792053], [0.9565891623497009], [0.956604540348053], [0.956578254699707], [0.9565812349319458], [0.9565854668617249], [0.9565821886062622], [0.9565830826759338], [0.9565907120704651], [0.956588864326477], [0.9565759897232056], [0.9559381008148193], [0.9559476375579834], [0.9559366703033447], [0.9566504955291748], [0.9566588997840881], [0.9566675424575806], [0.9566418528556824], [0.9566380381584167], [0.9566465616226196], [0.9566629528999329], [0.9566463232040405], [0.9566468000411987], [0.9566289782524109], [0.9566680788993835], [0.9566366672515869], [0.9566457867622375], [0.956642210483551], [0.9566497206687927], [0.9566338062286377], [0.9566489458084106], [0.9566240906715393], [0.956645667552948], [0.9566353559494019], [0.9566428661346436], [0.9566454887390137], [0.9566463232040405], [0.9566459059715271], [0.9566474556922913], [0.9566360116004944], [0.9566506147384644], [0.9566572904586792], [0.9566407799720764], [0.9566360712051392], [0.9566343426704407], [0.9566702246665955], [0.9566411972045898], [0.9566475749015808], [0.9566537737846375], [0.956645667552948], [0.9566726684570312], [0.9566501975059509], [0.9566469788551331], [0.956645667552948], [0.9566461443901062], [0.9566462635993958], [0.9566441774368286], [0.956641435623169], [0.9566531181335449], [0.9566558599472046], [0.956638514995575], [0.9566770195960999], [0.9566484093666077], [0.9566498398780823], [0.9566330313682556], [0.9566389322280884], [0.9566365480422974], [0.9566429853439331], [0.9566454887390137], [0.956657886505127], [0.9566501975059509], [0.9566398859024048], [0.9566454887390137], [0.9566030502319336], [0.9566464424133301], [0.9566620588302612], [0.9566301107406616], [0.956645667552948], [0.9566347002983093], [0.9566460251808167], [0.9566345810890198], [0.956631064414978], [0.9566456079483032], [0.9566563963890076], [0.9566591382026672], [0.956639289855957], [0.9566521048545837], [0.9566407799720764], [0.9566208124160767], [0.9566474556922913], [0.9566347002983093], [0.9566410183906555], [0.9566368460655212], [0.9566484093666077], [0.956681489944458], [0.9566265940666199], [0.9566478729248047], [0.9566521048545837], [0.9566474556922913], [0.9566469788551331], [0.956657886505127], [0.9566280245780945], [0.9566501975059509], [0.9566447138786316], [0.9566349983215332], [0.956638514995575], [0.9566475749015808], [0.9566365480422974], [0.9566587805747986], [0.956645131111145], [0.9566508531570435], [0.956640362739563], [0.9566493034362793], [0.9566405415534973], [0.9566367268562317], [0.9566462635993958], [0.9566456079483032], [0.9566481113433838], [0.956645667552948], [0.956639289855957], [0.9566469192504883], [0.9566482901573181], [0.9557957053184509], [0.9557913541793823], [0.9557837247848511], [0.9557867646217346], [0.9557644724845886], [0.9557929039001465], [0.9557917714118958], [0.9557980895042419], [0.9557893872261047], [0.9557929635047913], [0.955793559551239], [0.9558053016662598], [0.9557614922523499], [0.9557933211326599], [0.9557974338531494], [0.9557947516441345], [0.9557909369468689], [0.9557673931121826], [0.9557722210884094], [0.9569202661514282], [0.9569196105003357], [0.95640629529953], [0.9569190740585327], [0.9569182991981506], [0.9569152593612671], [0.9568971395492554], [0.9563754200935364], [0.956169068813324], [0.9561582803726196], [0.9561706185340881], [0.9561651349067688], [0.9561498761177063], [0.9561689496040344], [0.9563006162643433], [0.9562972784042358], [0.9562969207763672], [0.9562969207763672], [0.9562979340553284], [0.9562967419624329], [0.9562917947769165], [0.956291913986206], [0.9562975764274597], [0.9563553929328918], [0.956362783908844], [0.9563559293746948], [0.9563676714897156], [0.9563576579093933], [0.9563549160957336], [0.9563345313072205], [0.9563605785369873], [0.9563587307929993], [0.9563500285148621], [0.9563452005386353], [0.956367552280426], [0.956358015537262], [0.9563610553741455], [0.9563522338867188], [0.9563413262367249], [0.95636385679245], [0.95635986328125], [0.9563611745834351], [0.9563387036323547], [0.9563552737236023], [0.956331193447113], [0.956363320350647], [0.9563722610473633], [0.9563780426979065], [0.9563513398170471], [0.9563648700714111], [0.9563347697257996], [0.9555105566978455], [0.9555261731147766], [0.9555191993713379], [0.955525279045105], [0.9555177688598633], [0.9555263519287109], [0.9555224180221558], [0.9555321335792542], [0.9555255174636841], [0.9555318355560303], [0.9555190801620483], [0.9555116891860962], [0.9555208086967468], [0.955523669719696], [0.9555172324180603], [0.9555171132087708], [0.9555147290229797], [0.9555039405822754], [0.9555137157440186], [0.9555209279060364], [0.9555246233940125], [0.9555237293243408], [0.9555172324180603], [0.9555268883705139], [0.9555243849754333], [0.9555168151855469], [0.9555270075798035], [0.9555138349533081], [0.955527663230896], [0.9555222392082214], [0.9555246233940125], [0.9555418491363525], [0.9555272459983826], [0.955525279045105], [0.9555151462554932], [0.9555085301399231], [0.9555237293243408], [0.9555325508117676], [0.9555180072784424], [0.9555255174636841], [0.9555085301399231], [0.9555227756500244], [0.9555255770683289], [0.955522894859314], [0.9555264711380005], [0.9555220007896423], [0.9555285573005676], [0.9555227756500244], [0.955539882183075], [0.955522358417511], [0.9555230736732483], [0.9555234313011169], [0.955520510673523], [0.9555193781852722], [0.9555213451385498], [0.9555230736732483], [0.9555220007896423], [0.9555313587188721], [0.9555171132087708], [0.9555153846740723], [0.955523669719696], [0.9555185437202454], [0.9555240869522095], [0.9555202722549438], [0.9555220007896423], [0.9555248618125916], [0.9555224180221558], [0.9555065631866455], [0.9555293917655945], [0.9555484652519226], [0.9555280208587646], [0.9555196166038513], [0.9555240869522095], [0.9555298686027527], [0.9555410742759705], [0.9555260539054871], [0.9554879665374756], [0.9555211663246155], [0.9555318355560303], [0.9555231928825378], [0.9555073976516724], [0.9555249214172363], [0.9555302858352661], [0.955530047416687], [0.9555231928825378], [0.9555224180221558], [0.9555226564407349], [0.9555304050445557], [0.9555221199989319], [0.9555273652076721], [0.9555246233940125], [0.9555267095565796], [0.9555230140686035], [0.9555304050445557], [0.955528974533081], [0.9555255174636841], [0.9555270075798035], [0.9555175304412842], [0.9555201530456543], [0.955524742603302], [0.9554836750030518], [0.955522358417511], [0.9565963745117188], [0.9565966129302979], [0.95658940076828], [0.9565954208374023], [0.9565685987472534], [0.9565909504890442], [0.9565917253494263], [0.9565830826759338], [0.9565891623497009], [0.9565930962562561], [0.9565921425819397], [0.9565924406051636], [0.9565672874450684], [0.9565900564193726], [0.9565960764884949], [0.9565878510475159], [0.9565757513046265], [0.9565929174423218], [0.9565855860710144], [0.9566035866737366], [0.9565988779067993], [0.9565830826759338], [0.956587016582489], [0.9565849304199219], [0.9565905928611755], [0.956596851348877], [0.9565983414649963], [0.9566159248352051], [0.9566012024879456], [0.9565989971160889], [0.9566001892089844], [0.9566069841384888], [0.9565907120704651], [0.9565887451171875], [0.956588625907898], [0.9565916061401367], [0.9565949440002441], [0.9565916061401367], [0.9565914869308472], [0.9566037058830261], [0.9565898180007935], [0.956601619720459], [0.9565892815589905], [0.9565799236297607], [0.9565984606742859], [0.9565871357917786], [0.9565841555595398], [0.9565728306770325], [0.9561433792114258], [0.9564345479011536], [0.9564391374588013], [0.9561402201652527], [0.9564298391342163], [0.956155002117157], [0.9561474919319153], [0.9564452171325684], [0.9561429023742676], [0.9561373591423035], [0.9561505317687988], [0.9564399719238281], [0.9561415910720825], [0.9561382532119751], [0.9561321139335632], [0.9561095833778381], [0.9561492204666138], [0.9561335444450378], [0.9561423659324646], [0.9561427235603333], [0.9561410546302795], [0.9561440348625183], [0.9561383128166199], [0.9564387798309326], [0.9564312696456909], [0.9561410546302795], [0.9564454555511475], [0.9564157724380493], [0.9561497569084167], [0.9564293026924133], [0.9560976624488831], [0.9561474919319153], [0.9561331272125244], [0.9561434388160706], [0.956423282623291], [0.9561481475830078], [0.9561465978622437], [0.9561439156532288], [0.9561322331428528], [0.9561439156532288], [0.9564213156700134], [0.9561411738395691], [0.9564226269721985], [0.9561429023742676], [0.9561414122581482], [0.9561247229576111], [0.9561278820037842], [0.9564387798309326], [0.9561440348625183], [0.9561384320259094], [0.9561431407928467], [0.956142246723175], [0.9561530351638794], [0.9564476013183594], [0.9561459422111511], [0.9561433792114258], [0.9564288854598999], [0.9553647637367249], [0.9561483860015869], [0.9561553597450256], [0.9564385414123535], [0.9561306238174438], [0.955368161201477], [0.9561406373977661], [0.9561455249786377], [0.9561484456062317], [0.9561410546302795], [0.9564183950424194], [0.9564323425292969], [0.9561359286308289], [0.9561481475830078], [0.9561360478401184], [0.9553636908531189], [0.9561435580253601], [0.9564333558082581], [0.956153154373169], [0.9564369320869446], [0.9564293026924133], [0.9564316868782043], [0.9561344981193542], [0.9564308524131775], [0.9561417102813721], [0.9564136862754822], [0.9553643465042114], [0.9564444422721863], [0.9561551213264465], [0.9561572074890137], [0.9564400911331177], [0.9561392068862915], [0.9564285278320312], [0.9561357498168945], [0.9561518430709839], [0.9561432600021362], [0.956139326095581], [0.9561440348625183], [0.9561235308647156], [0.9561451077461243], [0.9564358592033386], [0.9564358592033386], [0.9561586380004883], [0.9561387896537781], [0.9564335346221924], [0.956153392791748], [0.956437349319458], [0.9561535120010376], [0.9561049938201904], [0.956154465675354], [0.9561434388160706], [0.9561415910720825], [0.9564254879951477], [0.9564352035522461], [0.9561459422111511], [0.9561306834220886], [0.9553601741790771], [0.9564359784126282], [0.9561402201652527], [0.9564247131347656], [0.9561285376548767], [0.956138014793396], [0.9561501145362854], [0.9564244151115417], [0.9564204812049866], [0.9561340808868408], [0.9561243653297424], [0.9564257860183716], [0.9561552405357361], [0.9561314582824707], [0.9561548233032227], [0.9564453363418579], [0.9561284184455872], [0.9561322331428528], [0.9553579092025757], [0.9564347267150879], [0.9561365842819214], [0.9561653733253479], [0.9564332365989685], [0.9561517238616943], [0.9561194777488708], [0.9564167857170105], [0.9561336636543274], [0.9564304947853088], [0.9564450979232788], [0.9561440348625183], [0.9561206698417664], [0.9561536908149719], [0.9561738967895508], [0.9561622142791748], [0.9561797380447388], [0.9561612010002136], [0.9561524987220764], [0.9561871886253357], [0.9561721086502075], [0.9561818242073059], [0.9561766982078552], [0.956167459487915], [0.95616614818573], [0.9561637043952942], [0.9561545848846436], [0.9561770558357239], [0.956165611743927], [0.9561600089073181], [0.9561758041381836], [0.9561676383018494], [0.956168532371521], [0.9561765789985657], [0.9561730027198792], [0.9561869502067566], [0.9561736583709717], [0.9561657905578613], [0.9561771154403687], [0.9561576247215271], [0.9561699628829956], [0.9561566710472107], [0.9562830924987793], [0.9562607407569885], [0.956272304058075], [0.9562729597091675], [0.9561652541160583], [0.9561494588851929], [0.9561618566513062], [0.9561557769775391], [0.9561627507209778], [0.9562162756919861], [0.9562066793441772], [0.9562129974365234], [0.956216037273407], [0.9562187790870667], [0.9562220573425293], [0.956200897693634], [0.9562344551086426], [0.9562203288078308], [0.956201434135437], [0.9562352299690247], [0.9561271071434021], [0.9562411308288574], [0.9562132954597473], [0.9561359286308289], [0.956228494644165], [0.9562523365020752], [0.9562220573425293], [0.9561192393302917], [0.9561469554901123], [0.9561344385147095], [0.9562316536903381], [0.9562513828277588], [0.9562208652496338], [0.9562278389930725], [0.9561328887939453], [0.9562786221504211], [0.9563074111938477], [0.956276535987854], [0.956571102142334], [0.9565754532814026], [0.9565762281417847], [0.9565891027450562], [0.9565730690956116], [0.9565793871879578], [0.9569597840309143], [0.956953763961792], [0.9569540023803711], [0.9569479823112488], [0.9569538831710815], [0.9569665789604187], [0.9569481015205383], [0.9569531083106995], [0.9569756388664246], [0.9569547772407532], [0.9569511413574219], [0.9569523334503174], [0.9569725394248962], [0.9569488763809204], [0.9569559693336487], [0.9569536447525024], [0.9569553136825562], [0.956961989402771], [0.9569607377052307], [0.9569580554962158], [0.9569525718688965], [0.956966757774353], [0.9569417834281921], [0.9569562673568726], [0.9569600224494934], [0.9569591283798218], [0.9569444060325623], [0.9569524526596069], [0.9569510221481323], [0.9569651484489441], [0.9569590091705322], [0.9569469094276428], [0.956967294216156], [0.9569569230079651], [0.956967294216156], [0.9565654993057251], [0.9565523266792297], [0.9565663933753967], [0.956569254398346], [0.9565550684928894], [0.9565683603286743], [0.9565665125846863], [0.9565720558166504], [0.9565628170967102], [0.9565737843513489], [0.9565620422363281], [0.9565652012825012], [0.9565704464912415], [0.9565658569335938], [0.9565673470497131], [0.9565658569335938], [0.9565682411193848], [0.9565600752830505], [0.9565684795379639], [0.9565638899803162], [0.9565673470497131], [0.956574559211731], [0.956572949886322], [0.9565652012825012], [0.9565699696540833], [0.9565803408622742], [0.9565672874450684], [0.9565679430961609], [0.9565704464912415], [0.9565668106079102], [0.9565714001655579], [0.9565660357475281], [0.9565602540969849], [0.9565653204917908], [0.956571638584137], [0.9565670490264893], [0.9565709829330444], [0.9565625786781311], [0.9565686583518982], [0.9565684795379639], [0.9565730690956116], [0.9565586447715759], [0.9565671682357788], [0.9565790295600891], [0.9567994475364685], [0.956809937953949], [0.9567962884902954], [0.9567883014678955], [0.956803023815155], [0.9567968249320984], [0.9568077325820923], [0.9568040370941162], [0.9567968249320984], [0.9567957520484924], [0.956799328327179], [0.9567984342575073], [0.9567959308624268], [0.9568078517913818], [0.9567990899085999], [0.9568119645118713], [0.9567986726760864], [0.9568044543266296], [0.9568102359771729], [0.9568036794662476], [0.9567949771881104], [0.9568148255348206], [0.9567893743515015], [0.956787109375], [0.9568009376525879], [0.9568086862564087], [0.9568054676055908], [0.9568019509315491], [0.9568080902099609], [0.9568041563034058], [0.9567849040031433], [0.956782877445221], [0.956775426864624], [0.9567738771438599], [0.9567806720733643], [0.9567831754684448], [0.9567689895629883], [0.9567614793777466], [0.9567921161651611], [0.9567822217941284], [0.9567844867706299], [0.9567812085151672], [0.9567853808403015], [0.9567815661430359], [0.9567744731903076], [0.9567788243293762], [0.9567795991897583], [0.956774890422821], [0.956771194934845], [0.9567734599113464], [0.9567712545394897], [0.9567812085151672], [0.9567818641662598], [0.9567764401435852], [0.9567762017250061], [0.9567719101905823], [0.9567801356315613], [0.9567720293998718], [0.9567839503288269], [0.9567766189575195], [0.9567821025848389], [0.9567864537239075], [0.9567763209342957], [0.9567751288414001], [0.9567794799804688], [0.9567709565162659], [0.9567862153053284], [0.9567781686782837], [0.9558029174804688], [0.955808699131012], [0.9558038711547852], [0.9558079242706299], [0.9558187127113342], [0.9555624723434448], [0.9555552005767822], [0.9571059942245483], [0.9569659233093262], [0.9569763541221619], [0.9571200609207153], [0.9569799900054932], [0.9569701552391052], [0.9569748640060425], [0.956967294216156], [0.956976056098938], [0.956969141960144], [0.9569829106330872], [0.9569756388664246], [0.9569793343544006], [0.9569727778434753], [0.9569728970527649], [0.9571096897125244], [0.9571064114570618], [0.9571100473403931], [0.9569758176803589], [0.9569616317749023], [0.9569689631462097], [0.956973671913147], [0.9569697380065918], [0.9569740891456604], [0.9571155905723572], [0.9569560885429382], [0.956990659236908], [0.9571096897125244], [0.9571161270141602], [0.9570996165275574], [0.95698082447052], [0.9569728970527649], [0.9569708108901978], [0.956967294216156], [0.9571103453636169], [0.957110583782196], [0.9571080803871155], [0.9569852352142334], [0.9571061730384827], [0.9569726586341858], [0.9569684267044067], [0.9571061730384827], [0.9569834470748901], [0.956980288028717], [0.9569740891456604], [0.9569687247276306], [0.9571078419685364], [0.9571178555488586], [0.956976056098938], [0.9569735527038574], [0.9569689631462097], [0.9570958018302917], [0.9569813013076782], [0.9571163654327393], [0.9569740891456604], [0.9569738507270813], [0.9569743275642395], [0.9569723606109619], [0.9569609761238098], [0.9569827914237976], [0.9569715857505798], [0.9569659233093262], [0.956951379776001], [0.9569705724716187], [0.956979513168335], [0.9569731950759888], [0.9569627046585083], [0.9569709300994873], [0.9569647908210754], [0.956967830657959], [0.9571183323860168], [0.9569801688194275], [0.9571132063865662], [0.9569720029830933], [0.9560046195983887], [0.9560032486915588], [0.9560089707374573], [0.9559939503669739], [0.9560155272483826], [0.9560048580169678], [0.9560065865516663], [0.9560030102729797], [0.9560038447380066], [0.9560158848762512], [0.9560012817382812], [0.9560032486915588], [0.9559991955757141], [0.9560161828994751], [0.9560068249702454], [0.9560149908065796], [0.9559981226921082], [0.9560132622718811], [0.9564564228057861], [0.9564521908760071], [0.9564385414123535], [0.9564491510391235], [0.9564412832260132], [0.9565317034721375], [0.9565172791481018], [0.9565232992172241], [0.9565079212188721], [0.9565104246139526], [0.9565372467041016], [0.9565045237541199], [0.9561029076576233], [0.9561111927032471], [0.9561173319816589], [0.9561148881912231], [0.9561129212379456], [0.9561077356338501], [0.9561071991920471], [0.9561107754707336], [0.9561206698417664], [0.9561036825180054], [0.9561119675636292], [0.9561115503311157], [0.9561190605163574], [0.9561142325401306], [0.9561153650283813], [0.9561150074005127], [0.956122100353241], [0.9561195969581604], [0.9561240673065186], [0.9561277627944946], [0.9561265707015991], [0.9561230540275574], [0.9560852646827698], [0.9563829302787781], [0.9563726782798767], [0.9563819766044617], [0.9563896059989929], [0.9563925266265869], [0.9563789367675781], [0.956379771232605], [0.9563912153244019], [0.9563795924186707], [0.9563665986061096], [0.956363320350647], [0.9563876390457153], [0.956376850605011], [0.9564027190208435], [0.9563753008842468], [0.956381618976593], [0.9563840627670288], [0.9563780426979065], [0.9563971161842346], [0.9563947319984436], [0.956389844417572], [0.9563841819763184], [0.9563775062561035], [0.9563718438148499], [0.9563818573951721], [0.9563679099082947], [0.9557675123214722], [0.9557605385780334], [0.9557744860649109], [0.9557697176933289], [0.9557695984840393], [0.9557740688323975], [0.9557727575302124], [0.9557722806930542], [0.9549647569656372], [0.9560944437980652], [0.9561019539833069], [0.9561105370521545], [0.9561082720756531], [0.9562177658081055], [0.9561895728111267], [0.9562361836433411], [0.9560815691947937], [0.9560830593109131], [0.956092119216919], [0.9560823440551758], [0.9562461376190186], [0.956230878829956], [0.9562203884124756], [0.9562135338783264], [0.9562196731567383], [0.9562234878540039], [0.956233024597168], [0.9562312960624695], [0.9562215209007263], [0.9562103748321533], [0.9562354683876038], [0.9562289118766785], [0.956230640411377], [0.9562228918075562], [0.956215500831604], [0.9562219381332397], [0.9562121033668518], [0.9562170505523682], [0.9562203288078308], [0.9562082886695862], [0.9562286734580994], [0.9562150835990906], [0.9562116861343384], [0.9562209248542786], [0.956231951713562], [0.9562194347381592], [0.9562215805053711], [0.9562289118766785], [0.9562323689460754], [0.956211268901825], [0.9562583565711975], [0.9562279582023621], [0.9562098383903503], [0.9562371969223022], [0.9562064409255981], [0.9562207460403442], [0.9562186598777771], [0.956226646900177], [0.9562289118766785], [0.9562222361564636], [0.9562291502952576], [0.9562234878540039], [0.9562532305717468], [0.9562399387359619], [0.9562187790870667], [0.9562195539474487], [0.9562318325042725], [0.9562094211578369], [0.9562349915504456], [0.9562041759490967], [0.9562156200408936], [0.9562200903892517], [0.956231951713562], [0.9562323689460754], [0.9562395811080933], [0.9562283754348755], [0.956227719783783], [0.9562239050865173], [0.9562265276908875], [0.9562219381332397], [0.9562565684318542], [0.9562448263168335], [0.9561936855316162], [0.9558839201927185], [0.9558774828910828], [0.955883800983429], [0.955893874168396], [0.9558865427970886], [0.9558831453323364], [0.9558848142623901], [0.9558880925178528], [0.9558752179145813], [0.9558804631233215], [0.9558924436569214], [0.9558979868888855], [0.9558756351470947], [0.9558876156806946], [0.9558887481689453], [0.9558947086334229], [0.9558883905410767], [0.9558833837509155], [0.9558745622634888], [0.9558848142623901], [0.9558926224708557], [0.955881655216217], [0.9558866620063782], [0.9563350677490234], [0.9563267827033997], [0.9563334584236145], [0.9563233256340027], [0.9563166499137878], [0.9563215970993042], [0.9563214778900146], [0.956321656703949], [0.9563275575637817], [0.9561309218406677], [0.9561261534690857], [0.9561444520950317], [0.9557925462722778], [0.9557873010635376], [0.9557875394821167], [0.9557838439941406], [0.955784797668457], [0.9571863412857056], [0.9557854533195496], [0.9557843804359436], [0.9557867646217346], [0.9557898640632629], [0.955780565738678], [0.9557899236679077], [0.9557862281799316], [0.955793559551239], [0.9571989178657532], [0.9557974338531494], [0.9557995200157166], [0.9557806849479675], [0.9557859301567078], [0.9557856917381287], [0.9571928977966309], [0.9557849168777466], [0.9572065472602844], [0.9557809233665466], [0.9557901620864868], [0.955781102180481], [0.9557933211326599], [0.9572067856788635], [0.9557772874832153], [0.9557897448539734], [0.9557837247848511], [0.9557887315750122], [0.9557815790176392], [0.9572036266326904], [0.9557787179946899], [0.9557896256446838], [0.9572057723999023], [0.9557815790176392], [0.9557942152023315], [0.9557853937149048], [0.9557843804359436], [0.9557884335517883], [0.9557751417160034], [0.955779492855072], [0.9557843804359436], [0.9557868838310242], [0.9557847380638123], [0.9558029174804688], [0.9557902812957764], [0.9571861624717712], [0.9557885527610779], [0.9557881951332092], [0.9557604193687439], [0.9558460116386414], [0.9560094475746155], [0.9560099840164185], [0.9560250043869019], [0.9560288190841675], [0.9560182690620422], [0.9560185670852661], [0.9560149908065796], [0.9560241103172302], [0.9560266733169556], [0.9560176134109497], [0.9560266733169556], [0.956008791923523], [0.9560120701789856], [0.9560176134109497], [0.9560168385505676], [0.9560097455978394], [0.9560145735740662], [0.9560211896896362], [0.9560151100158691], [0.9560121297836304], [0.9560037851333618], [0.956017255783081], [0.9560285210609436], [0.9565510153770447], [0.9565424919128418], [0.9565532207489014], [0.9565582275390625], [0.9565536379814148], [0.9565536379814148], [0.9565481543540955], [0.9565551280975342], [0.9565621614456177], [0.9565463066101074], [0.9565538167953491], [0.9565500020980835], [0.9565324783325195], [0.9565412998199463], [0.9565680027008057], [0.9565513134002686], [0.9564310312271118], [0.9564679861068726], [0.9564563632011414], [0.9564352035522461], [0.9564520716667175], [0.956436276435852], [0.9564698934555054], [0.956451416015625], [0.9564555883407593], [0.9564481377601624], [0.9562642574310303], [0.9562682509422302], [0.9562807083129883], [0.9562627077102661], [0.9562240242958069], [0.956228494644165], [0.956214427947998], [0.9562243223190308], [0.9562103748321533], [0.9562298059463501], [0.9562256336212158], [0.9562177062034607], [0.9562190771102905], [0.9562259912490845], [0.9562258720397949], [0.9560394883155823], [0.9562203884124756], [0.9562040567398071], [0.9561910629272461], [0.9562170505523682], [0.9562188982963562], [0.9560350179672241], [0.9561810493469238], [0.9560297131538391], [0.9562097191810608], [0.9562264084815979], [0.9562627077102661], [0.9562245607376099], [0.9562152624130249], [0.9560481309890747], [0.9562177062034607], [0.9562069773674011], [0.9562166929244995], [0.9562252163887024], [0.956212043762207], [0.9562256336212158], [0.9562005996704102], [0.9562010169029236], [0.9562214016914368], [0.9562017917633057], [0.9562312960624695], [0.9560346007347107], [0.9562235474586487], [0.9562082290649414], [0.9560418128967285], [0.9562244415283203], [0.9560351371765137], [0.9561817049980164], [0.9561721086502075], [0.9561955332756042], [0.9561777114868164], [0.9561777710914612], [0.9561780095100403], [0.9561756253242493], [0.9561797380447388], [0.9561743140220642], [0.9561896920204163], [0.9561854004859924], [0.956182062625885], [0.9568782448768616], [0.9568719267845154], [0.9568820595741272], [0.9568793177604675], [0.9568800926208496], [0.9568666815757751], [0.9568722248077393], [0.9568749666213989], [0.9568593502044678], [0.9568807482719421], [0.9568758606910706], [0.9568560719490051], [0.9568844437599182], [0.9568818211555481], [0.9568729996681213], [0.9568703770637512], [0.9568722248077393], [0.9568731188774109], [0.9568746089935303], [0.9568791389465332], [0.9568789005279541], [0.9568721055984497], [0.9568747282028198], [0.9564723968505859], [0.9564721584320068], [0.9564647674560547], [0.9564841389656067], [0.9564884901046753], [0.9564734697341919], [0.9564639925956726], [0.9564797878265381], [0.9564682245254517], [0.9564711451530457], [0.956390380859375], [0.9568480253219604], [0.9563972353935242], [0.9563897252082825], [0.9563845992088318], [0.9563888311386108], [0.9563871026039124], [0.9563864469528198], [0.956390917301178], [0.9563866853713989], [0.9563886523246765], [0.9564093351364136], [0.9563843607902527], [0.9563776254653931], [0.9563915729522705], [0.956377387046814], [0.9563937783241272], [0.9563971161842346], [0.9563812017440796], [0.9563915729522705], [0.9563837051391602], [0.956389844417572], [0.9568442702293396], [0.9563782811164856], [0.9563943147659302], [0.9563817381858826], [0.9563618898391724], [0.9563937783241272], [0.956378161907196], [0.9563869833946228], [0.9563906788825989], [0.9563894867897034], [0.9563860297203064], [0.9563857913017273], [0.9563767313957214], [0.9563888311386108], [0.9563891887664795], [0.956388533115387], [0.9563772678375244], [0.9563862085342407], [0.9563820958137512], [0.9563930034637451], [0.9563921093940735], [0.9563818573951721], [0.9568424224853516], [0.9563875198364258], [0.9563844799995422], [0.9563999772071838], [0.9563778042793274], [0.9563962817192078], [0.9564110040664673], [0.9568629860877991], [0.9563978910446167], [0.9563845992088318], [0.956388533115387], [0.9564002752304077], [0.9563891887664795], [0.9564035534858704], [0.9563805460929871], [0.9563826322555542], [0.9563864469528198], [0.9563863277435303], [0.9563689827919006], [0.9563916921615601], [0.9563918709754944], [0.9563928842544556], [0.9563643336296082], [0.9563840627670288], [0.9563897252082825], [0.9563940763473511], [0.9563873410224915], [0.9563630819320679], [0.9563880562782288], [0.9563790559768677], [0.9563818573951721], [0.9563941955566406], [0.9563406705856323], [0.9563873410224915], [0.9563822746276855], [0.9563947319984436], [0.956394612789154], [0.9563915729522705], [0.9563960433006287], [0.9563873410224915], [0.9563814401626587], [0.9563863277435303], [0.9568426609039307], [0.9563900232315063], [0.9563733339309692], [0.956393301486969], [0.9563964605331421], [0.956376850605011], [0.9563806653022766], [0.9563668370246887], [0.9563939571380615], [0.9563893675804138], [0.9563926458358765], [0.9564036726951599], [0.9563851356506348], [0.9563841819763184], [0.9563748836517334], [0.9563854336738586], [0.9568433165550232], [0.9563924670219421], [0.9560551047325134], [0.9560528993606567], [0.9560621380805969], [0.9560496211051941], [0.9560554027557373], [0.956058144569397], [0.956058144569397], [0.9560452699661255], [0.9558055996894836], [0.9561392068862915], [0.9558067321777344], [0.9558000564575195], [0.9558366537094116], [0.9559722542762756], [0.955947756767273], [0.9559872150421143], [0.9559929966926575], [0.9559850096702576], [0.9559836983680725], [0.9559704065322876], [0.9562227129936218], [0.956330418586731], [0.9564717411994934], [0.956257164478302], [0.9563353061676025], [0.9563214778900146], [0.9562500715255737], [0.9563189744949341], [0.956331729888916], [0.9565697908401489], [0.9562968015670776], [0.9565038681030273], [0.956318736076355], [0.9563292860984802], [0.9562515020370483], [0.9563242793083191], [0.9563297629356384], [0.9563292264938354], [0.9563556909561157], [0.9563270211219788], [0.95625901222229], [0.9563295245170593], [0.956317126750946], [0.9563270211219788], [0.9563258290290833], [0.9563383460044861], [0.9565706253051758], [0.9563245177268982], [0.9562248587608337], [0.95632004737854], [0.9563287496566772], [0.9563213586807251], [0.95632004737854], [0.9563316106796265], [0.9563471674919128], [0.9563305974006653], [0.956330418586731], [0.9563276767730713], [0.9563047885894775], [0.956307590007782], [0.9562296867370605], [0.9563120007514954], [0.9563078284263611], [0.9563332200050354], [0.956318736076355], [0.9564201235771179], [0.9562814235687256], [0.9565766453742981], [0.956332802772522], [0.9565708637237549], [0.9563263654708862], [0.9563212394714355], [0.956321120262146], [0.9563418626785278], [0.9563204646110535], [0.956585705280304], [0.9565051198005676], [0.9562371969223022], [0.9563241004943848], [0.9564340710639954], [0.956317663192749], [0.9563388228416443], [0.9564405083656311], [0.9565727114677429], [0.9563261270523071], [0.9563258290290833], [0.9562565684318542], [0.9563233256340027], [0.9563138484954834], [0.9563321471214294], [0.9563274383544922], [0.9563373923301697], [0.9565686583518982], [0.9563208222389221], [0.9565101265907288], [0.9565744400024414], [0.9563248157501221], [0.9564290642738342], [0.956337571144104], [0.9565626978874207], [0.9561299681663513], [0.9561061859130859], [0.9561153650283813], [0.9561131596565247], [0.9560765624046326], [0.9560806751251221], [0.9560994505882263], [0.9560918211936951], [0.9560883045196533], [0.9560804963111877], [0.9560918211936951], [0.9560853838920593], [0.9560962915420532], [0.9560865759849548], [0.956361711025238], [0.9563718438148499], [0.9563706517219543], [0.9563643932342529], [0.9563612341880798], [0.9563596248626709], [0.95636385679245], [0.9563584327697754], [0.9563642144203186], [0.956017255783081], [0.9560114741325378], [0.9560208916664124], [0.9560301303863525], [0.956026017665863], [0.9560250043869019], [0.956012487411499], [0.9560233950614929], [0.956026554107666], [0.9560118317604065], [0.9560210704803467], [0.9560191035270691], [0.956028401851654], [0.9560254216194153], [0.9560165405273438], [0.9560216069221497], [0.9560338258743286], [0.9560322165489197], [0.9560242295265198], [0.9560263156890869], [0.9560255408287048], [0.9560232758522034], [0.9563565850257874], [0.9563581943511963], [0.9563345313072205], [0.9563489556312561], [0.9563513398170471], [0.9563408493995667], [0.9563531875610352], [0.9563482999801636], [0.9563453197479248], [0.9563485980033875], [0.9563385844230652], [0.9563518762588501], [0.956334114074707], [0.9563376903533936], [0.956346869468689], [0.9563527703285217], [0.9563479423522949], [0.956347644329071], [0.9563354253768921], [0.956351637840271], [0.956351637840271], [0.9563385844230652], [0.9563519954681396], [0.9563538432121277], [0.956334114074707], [0.9563608169555664], [0.9563572406768799], [0.95634925365448], [0.9559459090232849], [0.9559540748596191], [0.9559815526008606], [0.9559754133224487], [0.9559731483459473], [0.9559822082519531], [0.9559693336486816], [0.9559817314147949], [0.9559566974639893], [0.955964982509613], [0.9559662938117981], [0.9559735059738159], [0.9559780359268188], [0.9559729099273682], [0.9559761881828308], [0.9559823274612427], [0.9561207890510559], [0.9561268091201782], [0.9561130404472351], [0.9562888741493225], [0.9562999606132507], [0.9562903046607971], [0.9563069343566895], [0.956285834312439], [0.9562899470329285], [0.9562857151031494], [0.9562888741493225], [0.9561105370521545], [0.9561042189598083], [0.9561066031455994], [0.956108808517456], [0.9561106562614441], [0.9561084508895874], [0.9561063051223755], [0.9560965895652771], [0.9565557837486267], [0.956534206867218], [0.9565445780754089], [0.9565460085868835], [0.9565466642379761], [0.9565294981002808], [0.9565346240997314], [0.9565505981445312], [0.9565381407737732], [0.9565570950508118], [0.9565486311912537], [0.9570692777633667], [0.9570778012275696], [0.9570810794830322], [0.9570632576942444], [0.9570630788803101], [0.957077145576477], [0.957078218460083], [0.9570760726928711], [0.9570738673210144], [0.9562075734138489], [0.9570834040641785], [0.9570823907852173], [0.9570847153663635], [0.9561973810195923], [0.9570679664611816], [0.9570766091346741], [0.9570830464363098], [0.9570784568786621], [0.9570823907852173], [0.957084596157074], [0.9570772647857666], [0.9570732116699219], [0.957076370716095], [0.9570784568786621], [0.9570761919021606], [0.9570822715759277], [0.9570748805999756], [0.957062840461731], [0.9570850133895874], [0.9570775628089905], [0.9570813179016113], [0.9570841193199158], [0.9570835828781128], [0.9570878744125366], [0.9570571780204773], [0.957061231136322], [0.9570785760879517], [0.9570700526237488], [0.957076907157898], [0.9570680856704712], [0.9570757150650024], [0.9570745229721069], [0.9570794701576233], [0.957073450088501], [0.9561904072761536], [0.9562036395072937], [0.957085907459259], [0.9570671916007996], [0.9570795297622681], [0.9570716619491577], [0.9570813179016113], [0.9570772647857666], [0.9570750594139099], [0.9570887088775635], [0.95707106590271], [0.9561977386474609], [0.9571042060852051], [0.9570792317390442], [0.9561921954154968], [0.9570804238319397], [0.9570855498313904], [0.9570750594139099], [0.9570768475532532], [0.9561944603919983], [0.9570780396461487], [0.9570773839950562], [0.9570795297622681], [0.957073986530304], [0.9570755362510681], [0.9570633769035339], [0.9570847749710083], [0.9570804238319397], [0.9570757150650024], [0.9570768475532532], [0.9562360048294067], [0.9570717811584473], [0.9570749402046204], [0.9570751786231995], [0.9570850133895874], [0.9570843577384949], [0.9570856690406799], [0.9570737481117249], [0.9570780396461487], [0.9570813179016113], [0.9570760726928711], [0.9570707082748413], [0.9570577144622803], [0.9570827484130859], [0.9570788145065308], [0.9570615291595459], [0.9570679664611816], [0.9570555090904236], [0.957078218460083], [0.9570632576942444], [0.9570581316947937], [0.957075297832489], [0.9561948180198669], [0.9570834636688232], [0.9570723176002502], [0.9570788145065308], [0.9570730924606323], [0.9570632576942444], [0.9561138153076172], [0.95708829164505], [0.9570862054824829], [0.9570814967155457], [0.9570697546005249], [0.9570791125297546], [0.9570725560188293], [0.9570797681808472], [0.9570696353912354], [0.9570754170417786], [0.9570746421813965], [0.9570800065994263], [0.9570742845535278], [0.95708829164505], [0.9562390446662903], [0.9570828080177307], [0.9570859670639038], [0.9570805430412292], [0.9570775032043457], [0.9570778012275696], [0.9570825099945068], [0.9570744037628174], [0.9570711255073547], [0.9562315344810486], [0.9570955038070679], [0.9570755362510681], [0.9570634961128235], [0.9570770263671875], [0.957063615322113], [0.9570792317390442], [0.9570702910423279], [0.9571045637130737], [0.9570789933204651], [0.9570801854133606], [0.957084596157074], [0.9570691585540771], [0.9570793509483337], [0.957088828086853], [0.9570748805999756], [0.9570860862731934], [0.9570767283439636], [0.9570724368095398], [0.9570810794830322], [0.9561969637870789], [0.9570794701576233], [0.9570825099945068], [0.9570759534835815], [0.9570960402488708], [0.9570772647857666], [0.9570764899253845], [0.9570722579956055], [0.9570878744125366], [0.9570746421813965], [0.9570653438568115], [0.9570803046226501], [0.9570903778076172], [0.9570857882499695], [0.9570658206939697], [0.9570853114128113], [0.9570784568786621], [0.9570820927619934], [0.9570792317390442], [0.9570726752281189], [0.9570795297622681], [0.9570835828781128], [0.9570717811584473], [0.9562111496925354], [0.9570788145065308], [0.9561336636543274], [0.9561271071434021], [0.956125020980835], [0.9561309218406677], [0.9561389088630676], [0.9561331272125244], [0.9561396241188049], [0.9561344385147095], [0.9561237096786499], [0.9561195969581604], [0.956139862537384], [0.9561305046081543], [0.9565156698226929], [0.9565160870552063], [0.9565120935440063], [0.9565393328666687], [0.9565120935440063], [0.9565116167068481], [0.9565033316612244], [0.9565470814704895], [0.9564972519874573], [0.9565005302429199], [0.9565101265907288], [0.9565025568008423], [0.9564853310585022], [0.9565022587776184], [0.9565131664276123], [0.9557148218154907], [0.9557170867919922], [0.9557207822799683], [0.9557176232337952], [0.9557166695594788], [0.9557127356529236], [0.9557227492332458], [0.9557152390480042], [0.9556954503059387], [0.9557147026062012], [0.9557139277458191], [0.9557185173034668], [0.9557121992111206], [0.9557257890701294], [0.9557170867919922], [0.9557149410247803], [0.9557016491889954], [0.9557175040245056], [0.9557129740715027], [0.9557074904441833], [0.9557152390480042], [0.9557178616523743], [0.9557086229324341], [0.9557193517684937], [0.9557223320007324], [0.9557234048843384], [0.9557176232337952], [0.9557232856750488], [0.9557130932807922], [0.9557197093963623], [0.9557163119316101], [0.9557212591171265], [0.9557162523269653], [0.955727756023407], [0.9554781317710876], [0.9555060267448425], [0.9555180668830872], [0.9555070996284485], [0.9555159211158752], [0.9554923176765442], [0.9555110335350037], [0.9555253982543945], [0.9555102586746216], [0.9555023312568665], [0.9555124044418335], [0.9555118083953857], [0.9555131793022156], [0.9555007815361023], [0.95550936460495], [0.955528199672699], [0.9555178880691528], [0.9555038213729858], [0.9555102586746216], [0.955504298210144], [0.955511212348938], [0.9554754495620728], [0.9555115699768066], [0.9555107951164246], [0.9555105566978455], [0.9555260539054871], [0.955508828163147], [0.9555155634880066], [0.9555183053016663], [0.955511212348938], [0.9555098414421082], [0.9555124044418335], [0.9554985165596008], [0.9555041790008545], [0.9555080533027649], [0.9555119872093201], [0.9555158019065857], [0.9555165767669678], [0.955505907535553], [0.9554906487464905], [0.9555222392082214], [0.9555100202560425], [0.9555036425590515], [0.9562928080558777], [0.9562897086143494], [0.9562866687774658], [0.9562979936599731], [0.9565529823303223], [0.9565697908401489], [0.9565551280975342], [0.9565654993057251], [0.9565649628639221], [0.9565606117248535], [0.9565460085868835], [0.9565732479095459], [0.9565402269363403], [0.9565531015396118], [0.9565553665161133], [0.9565645456314087], [0.9565423727035522], [0.9565446972846985], [0.9565635323524475], [0.9565598368644714], [0.9565861225128174], [0.9565778374671936], [0.9565778374671936], [0.9565708637237549], [0.9565619230270386], [0.9565429091453552], [0.9565674662590027], [0.9565790295600891], [0.9565808176994324], [0.9565834999084473], [0.9565519094467163], [0.9565590620040894], [0.9565759897232056], [0.9565542936325073], [0.956215500831604], [0.9562006592750549], [0.9562223553657532], [0.9562171101570129], [0.9562223553657532], [0.9562208652496338], [0.9562110304832458], [0.9562000036239624], [0.9562063217163086], [0.9562205076217651], [0.9565402269363403], [0.9565303921699524], [0.9565268754959106], [0.9565460085868835], [0.9565292000770569], [0.9565456509590149], [0.9565324783325195], [0.9565426111221313], [0.9565451145172119], [0.9565364122390747], [0.9565386772155762], [0.9565281271934509], [0.9565380215644836], [0.9565404057502747], [0.9565248489379883], [0.9565532803535461], [0.9565228819847107], [0.9565370678901672], [0.9565095901489258], [0.9565407633781433], [0.9565268158912659], [0.9565448760986328], [0.9565419554710388], [0.9565384387969971], [0.9565265774726868], [0.956533670425415], [0.9565179347991943], [0.9564830660820007], [0.9565456509590149], [0.9565258026123047], [0.9565503597259521], [0.9565390348434448], [0.9565390944480896], [0.9565239548683167], [0.9565219879150391], [0.9565281271934509], [0.9565075039863586], [0.9565433859825134], [0.9565439224243164], [0.9565293192863464], [0.9565497040748596], [0.9565258026123047], [0.9548109173774719], [0.9548079967498779], [0.9548166990280151], [0.9548183083534241], [0.9548159241676331], [0.9548088908195496], [0.9548248648643494], [0.9548337459564209], [0.9548095464706421], [0.9548046588897705], [0.9548070430755615], [0.9547962546348572], [0.9548177719116211], [0.9548100829124451], [0.9548073410987854], [0.9548095464706421], [0.956824541091919], [0.9568259716033936], [0.9567862153053284], [0.9568290114402771], [0.9568359851837158], [0.9568274021148682], [0.9568315148353577], [0.9568217992782593], [0.9568196535110474], [0.9568353295326233], [0.9568182229995728], [0.9568350315093994], [0.9568137526512146], [0.9568217992782593], [0.9568328261375427], [0.9568249583244324], [0.9568187594413757], [0.9568379521369934], [0.95680171251297], [0.9568185210227966], [0.9568334817886353], [0.9568283557891846], [0.9567905068397522], [0.9567776322364807], [0.9567999839782715], [0.956821620464325], [0.9567961692810059], [0.9568225741386414], [0.9568210244178772], [0.9568296670913696], [0.9567951560020447], [0.9568160176277161], [0.9561790823936462], [0.9561812877655029], [0.9561835527420044], [0.9561887979507446], [0.956182599067688], [0.9561686515808105], [0.9561765789985657], [0.956183671951294], [0.9561689496040344], [0.9561765789985657], [0.9561792016029358], [0.9561998248100281], [0.9561777710914612], [0.9561734199523926], [0.9561677575111389], [0.956182062625885]]\n"
          ]
        }
      ]
    },
    {
      "cell_type": "code",
      "source": [
        "test_loss, test_acc "
      ],
      "metadata": {
        "id": "1Jbh4NnowPJl"
      },
      "execution_count": null,
      "outputs": []
    },
    {
      "cell_type": "code",
      "source": [
        "X_drgn, y_drgn= np.array(stacked_tensor_flat), np.array(DRGN['label'].values)\n",
        "\n",
        "drgn_dataset = ClassifierDataset(torch.from_numpy(X_drgn).float(), torch.from_numpy(y_drgn).long())\n",
        "drgn_loader = DataLoader(dataset=drgn_dataset, batch_size=1 , drop_last=True)\n",
        "\n",
        "device = torch.device(\"cuda:0\" if torch.cuda.is_available() else \"cpu\")\n",
        "\n",
        "y_pred_list = []\n",
        "predictions_drgn= []\n",
        "my_net.eval()\n",
        "with torch.no_grad():\n",
        "    for X_batch, _ in drgn_loader:\n",
        "        X_batch = X_batch.to(device)\n",
        "        y_test_pred = my_net(X_batch)\n",
        "        predictions_drgn.extend(torch.sigmoid(y_test_pred).cpu().detach().numpy().tolist())\n",
        "\n",
        "flat_list = []\n",
        "for sublist in predictions_drgn:\n",
        "    for item in sublist:\n",
        "        flat_list.append(item)\n",
        "\n",
        "predictions_drgn = [1 if i>=0.5 else 0 for i in flat_list]"
      ],
      "metadata": {
        "id": "Tegh_9PFdUpg"
      },
      "execution_count": null,
      "outputs": []
    },
    {
      "cell_type": "code",
      "source": [
        "y_test_pred"
      ],
      "metadata": {
        "colab": {
          "base_uri": "https://localhost:8080/"
        },
        "id": "rKcomeLDuJvd",
        "outputId": "49472283-1fbf-4447-a7c6-7fc658c9d166"
      },
      "execution_count": null,
      "outputs": [
        {
          "output_type": "execute_result",
          "data": {
            "text/plain": [
              "tensor([[6.3384]], device='cuda:0')"
            ]
          },
          "metadata": {},
          "execution_count": 73
        }
      ]
    },
    {
      "cell_type": "code",
      "source": [
        "confusion_matrix_df = pd.DataFrame(confusion_matrix(y_drgn, predictions_drgn))\n",
        "tn, fp, fn, tp = confusion_matrix(y_drgn, predictions_drgn).ravel()\n",
        "\n",
        "print(classification_report(y_drgn, predictions_drgn))\n",
        "print(tp, tn, fp, fn)\n",
        "\n",
        "TPR =tp / (tp + fn)\n",
        "print('Sensitivity: %.2f'  % (TPR*100))\n",
        "\n",
        "TNR = tn / (tn + fp)\n",
        "print('Specificity: %.2f'  % (TNR*100))"
      ],
      "metadata": {
        "colab": {
          "base_uri": "https://localhost:8080/"
        },
        "id": "Umrq8n6tdUr2",
        "outputId": "13d3e139-c125-4f36-8b58-9dd64570c769"
      },
      "execution_count": null,
      "outputs": [
        {
          "output_type": "stream",
          "name": "stdout",
          "text": [
            "              precision    recall  f1-score   support\n",
            "\n",
            "           0       0.00      0.00      0.00      1978\n",
            "           1       0.45      1.00      0.62      1643\n",
            "\n",
            "    accuracy                           0.45      3621\n",
            "   macro avg       0.23      0.50      0.31      3621\n",
            "weighted avg       0.21      0.45      0.28      3621\n",
            "\n",
            "1643 0 1978 0\n",
            "Sensitivity: 100.00\n",
            "Specificity: 0.00\n"
          ]
        },
        {
          "output_type": "stream",
          "name": "stderr",
          "text": [
            "/usr/local/lib/python3.7/dist-packages/sklearn/metrics/_classification.py:1318: UndefinedMetricWarning: Precision and F-score are ill-defined and being set to 0.0 in labels with no predicted samples. Use `zero_division` parameter to control this behavior.\n",
            "  _warn_prf(average, modifier, msg_start, len(result))\n",
            "/usr/local/lib/python3.7/dist-packages/sklearn/metrics/_classification.py:1318: UndefinedMetricWarning: Precision and F-score are ill-defined and being set to 0.0 in labels with no predicted samples. Use `zero_division` parameter to control this behavior.\n",
            "  _warn_prf(average, modifier, msg_start, len(result))\n",
            "/usr/local/lib/python3.7/dist-packages/sklearn/metrics/_classification.py:1318: UndefinedMetricWarning: Precision and F-score are ill-defined and being set to 0.0 in labels with no predicted samples. Use `zero_division` parameter to control this behavior.\n",
            "  _warn_prf(average, modifier, msg_start, len(result))\n"
          ]
        }
      ]
    },
    {
      "cell_type": "markdown",
      "source": [
        "# Tier1_2_3_CGI_Other"
      ],
      "metadata": {
        "id": "gkhtYqNiwpDw"
      }
    },
    {
      "cell_type": "code",
      "source": [
        ""
      ],
      "metadata": {
        "id": "bm_pFI1NZh7I"
      },
      "execution_count": null,
      "outputs": []
    },
    {
      "cell_type": "code",
      "source": [
        ""
      ],
      "metadata": {
        "id": "yEQ3RRXaZh9g"
      },
      "execution_count": null,
      "outputs": []
    },
    {
      "cell_type": "code",
      "source": [
        ""
      ],
      "metadata": {
        "id": "pwv0HTcpZiAH"
      },
      "execution_count": null,
      "outputs": []
    },
    {
      "cell_type": "code",
      "source": [
        ""
      ],
      "metadata": {
        "id": "oXR1J_WIwrH3"
      },
      "execution_count": null,
      "outputs": []
    },
    {
      "cell_type": "markdown",
      "source": [
        ""
      ],
      "metadata": {
        "id": "0XLQ7irlxBnE"
      }
    }
  ]
}