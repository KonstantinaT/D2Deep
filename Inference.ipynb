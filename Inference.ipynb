{
  "nbformat": 4,
  "nbformat_minor": 0,
  "metadata": {
    "colab": {
      "provenance": [],
      "machine_shape": "hm",
      "gpuClass": "premium"
    },
    "kernelspec": {
      "name": "python3",
      "display_name": "Python 3"
    },
    "language_info": {
      "name": "python"
    },
    "accelerator": "GPU",
    "gpuClass": "premium"
  },
  "cells": [
    {
      "cell_type": "markdown",
      "source": [
        "# Libraries"
      ],
      "metadata": {
        "id": "jTCjN5rAX7Wf"
      }
    },
    {
      "cell_type": "code",
      "execution_count": null,
      "metadata": {
        "id": "GH7nhNqAX1Tl"
      },
      "outputs": [],
      "source": [
        "import csv\n",
        "from sklearn.metrics import precision_recall_fscore_support\n",
        "import seaborn as sns\n",
        "from scipy.stats import wilcoxon\n",
        "from collections import OrderedDict\n",
        "import pickle\n",
        "import plotly.express as px\n",
        "from csv import DictWriter\n",
        "from matplotlib_venn import venn2, venn2_circles\n",
        "from sklearn.mixture import GaussianMixture\n",
        "import matplotlib.pyplot as plt\n",
        "from matplotlib.pyplot import figure\n",
        "import math\n",
        "import imblearn\n",
        "from collections import Counter\n",
        "from imblearn.over_sampling import RandomOverSampler\n",
        "import gc\n",
        "import warnings\n",
        "import numpy as np\n",
        "import pandas as pd\n",
        "from tqdm.notebook import tqdm\n",
        "from sklearn.metrics import matthews_corrcoef\n",
        "import torch\n",
        "from torch.utils.data import Dataset, DataLoader, WeightedRandomSampler, TensorDataset\n",
        "from sklearn.preprocessing import MinMaxScaler , StandardScaler\n",
        "from sklearn.model_selection import train_test_split, KFold, StratifiedKFold\n",
        "from sklearn.metrics import confusion_matrix, classification_report, roc_curve, roc_auc_score\n",
        "from numpy import asarray,savez_compressed\n",
        "pd.set_option(\"display.max_rows\", None, \"display.max_columns\", None)\n",
        "!pip install -q SentencePiece transformers\n",
        "from transformers import AdamW, get_cosine_schedule_with_warmup, get_linear_schedule_with_warmup, T5EncoderModel, T5Tokenizer\n",
        "import torch.nn as nn\n",
        "from torch.optim import lr_scheduler\n",
        "from torch.nn.utils.rnn import pad_sequence\n",
        "import requests\n",
        "from torch.autograd import Variable\n",
        "import torch.nn.functional as F\n",
        "import torch.optim as optim\n",
        "from sklearn import metrics\n",
        "#from torch.utils import data\n",
        "import re\n",
        "import os\n",
        "!pip install Biopython"
      ]
    },
    {
      "cell_type": "markdown",
      "source": [
        "# Functions"
      ],
      "metadata": {
        "id": "EpMYyPwyX-cw"
      }
    },
    {
      "cell_type": "code",
      "execution_count": null,
      "metadata": {
        "id": "OOjQc6HHvtJl"
      },
      "outputs": [],
      "source": [
        "class Classifier2L(nn.Module):\n",
        "    def __init__(self, hidden, hidden2, dropout=0):\n",
        "        super(Classifier2L, self).__init__()\n",
        "        self.hidden = hidden\n",
        "        self.hidden2 = hidden2\n",
        "        self.num_feature = 2200\n",
        "        self.dropout = dropout\n",
        "        self.batchnorm1 = nn.BatchNorm1d(self.hidden)\n",
        "        self.batchnorm2 = nn.BatchNorm1d(self.hidden2)\n",
        "\n",
        "        self.layer_1 = nn.Linear(self.num_feature,  self.hidden)\n",
        "        self.layer_2 = nn.Linear( self.hidden, self.hidden2)\n",
        "        self.layer_3 = nn.Linear( self.hidden2, 1)\n",
        "\n",
        "        self.relu = nn.ReLU()\n",
        "        self.dropout = nn.Dropout(dropout)\n",
        "        self.sigmoid = nn.Sigmoid()\n",
        "\n",
        "    def forward(self, x):\n",
        "        x = self.layer_1(x)\n",
        "        x = self.batchnorm1(x)\n",
        "        x= self.dropout(x)\n",
        "        x = self.relu(x)\n",
        "\n",
        "        x = self.layer_2(x)\n",
        "        x = self.batchnorm2(x)\n",
        "        x = self.relu(x)\n",
        "        x= self.dropout(x)\n",
        "\n",
        "        x = self.layer_3(x)\n",
        "        #x = self.sigmoid(x)\n",
        "\n",
        "        return x\n",
        "\n",
        "\n",
        "    def compute_l1_loss(self, w):\n",
        "        return torch.abs(w).sum()\n",
        "\n",
        "    def compute_l2_loss(self, w):\n",
        "        return torch.square(w).sum()"
      ]
    },
    {
      "cell_type": "code",
      "source": [
        "def NormalizeData(data):\n",
        "    return (data - np.min(data)) / (np.max(data) - np.min(data))"
      ],
      "metadata": {
        "id": "C-NfmcMjFw5V"
      },
      "execution_count": null,
      "outputs": []
    },
    {
      "cell_type": "code",
      "source": [
        "def notNaN(num):\n",
        "    return num == num"
      ],
      "metadata": {
        "id": "LSV3HOHowSeE"
      },
      "execution_count": null,
      "outputs": []
    },
    {
      "cell_type": "code",
      "execution_count": null,
      "metadata": {
        "id": "5JS2Nt8gZY4v"
      },
      "outputs": [],
      "source": [
        "def intersection(lst1, lst2):\n",
        "    return list(set(lst1) & set(lst2))"
      ]
    },
    {
      "cell_type": "code",
      "source": [
        "def train_net_cross(net, train_loader, val_loader, loss_fn, optimizer, epochs , scheduler):\n",
        "\n",
        "    # transfer the network to the GPU\n",
        "    net = net.to(device)\n",
        "\n",
        "    train_loss = np.zeros((epochs))\n",
        "    test_loss = np.zeros((epochs))\n",
        "    train_acc = np.zeros((epochs))\n",
        "    train_acc_alt = np.zeros((epochs))\n",
        "\n",
        "    test_acc = np.zeros((epochs))\n",
        "    test_acc_alt = np.zeros((epochs))\n",
        "\n",
        "    print(\"Begin training.\")\n",
        "\n",
        "    for epoch in tqdm(range(epochs)):\n",
        "\n",
        "        # training\n",
        "        train_loss[epoch], train_acc[epoch] = train_epoch_cross(net, train_loader, loss_fn, optimizer, scheduler)\n",
        "        # validation\n",
        "        test_loss[epoch], test_acc[epoch] = test_epoch(net, val_loader, loss_fn)\n",
        "\n",
        "        print('Epoch %5d - Train loss: %.6f - Train accuracy: %.6f - Test loss: %.6f - Test accuracy: %.6f'\n",
        "             % (epoch, train_loss[epoch], train_acc[epoch], test_loss[epoch], test_acc[epoch]))\n",
        "\n",
        "        #print('Epoch %5d - Train loss: %.6f - Train accuracy: %.6f'\n",
        "        #    % (epoch, train_loss[epoch], train_acc[epoch]))# for training one batch\n",
        "\n",
        "    return (train_loss, test_loss), (train_acc , test_acc)\n",
        "    #return train_loss, train_acc # for training one batch"
      ],
      "metadata": {
        "id": "mBxGCSGnZH8J"
      },
      "execution_count": null,
      "outputs": []
    },
    {
      "cell_type": "code",
      "execution_count": null,
      "metadata": {
        "id": "QYnulWBrjZsv"
      },
      "outputs": [],
      "source": [
        "def dataset_with_indices(cls):\n",
        "    \"\"\"\n",
        "    Modifies the given Dataset class to return a tuple data, target, index\n",
        "    instead of just data, target.\n",
        "    \"\"\"\n",
        "\n",
        "    def __getitem__(self, index):\n",
        "        data, target = cls.__getitem__(self, index)\n",
        "        return data, target, index\n",
        "\n",
        "    return type(cls.__name__, (cls,), {\n",
        "        '__getitem__': __getitem__,\n",
        "    })\n",
        "\n",
        "DWithInd = dataset_with_indices(torch.utils.data.TensorDataset)"
      ]
    },
    {
      "cell_type": "code",
      "execution_count": null,
      "metadata": {
        "id": "e7bxA5TKndA9"
      },
      "outputs": [],
      "source": [
        "def Average(lst):\n",
        "  return sum(lst) /len(lst)"
      ]
    },
    {
      "cell_type": "code",
      "execution_count": null,
      "metadata": {
        "id": "3Geipw0E6bE7"
      },
      "outputs": [],
      "source": [
        "def get_class_distribution_binary(obj):\n",
        "    count_dict = {\n",
        "        'Neutral': 0,\n",
        "        'Deleterious': 0,\n",
        "    }\n",
        "\n",
        "    for i in obj:\n",
        "        if i == 0:\n",
        "            count_dict['Neutral'] += 1\n",
        "        elif i == 1:\n",
        "            count_dict['Deleterious'] += 1\n",
        "\n",
        "        else:\n",
        "            print(\"Check classes.\")\n",
        "\n",
        "    return count_dict"
      ]
    },
    {
      "cell_type": "code",
      "execution_count": null,
      "metadata": {
        "id": "Rv_Imf1z8OCK"
      },
      "outputs": [],
      "source": [
        "def multi_acc(y_pred, y_test):\n",
        "    y_pred_softmax = torch.log_softmax(y_pred, dim = 1)\n",
        "    _, y_pred_tags = torch.max(y_pred_softmax, dim = 1)\n",
        "\n",
        "    correct_pred = (y_pred_tags == y_test).float()\n",
        "    acc = correct_pred.sum() / len(correct_pred)\n",
        "\n",
        "    acc = torch.round(acc * 100)\n",
        "\n",
        "    return acc"
      ]
    },
    {
      "cell_type": "code",
      "execution_count": null,
      "metadata": {
        "id": "7BGSa9O-4ned"
      },
      "outputs": [],
      "source": [
        "class ClassifierDataset(Dataset):\n",
        "\n",
        "    def __init__(self, X_data, y_data):\n",
        "        self.X_data = X_data\n",
        "        self.y_data = y_data\n",
        "\n",
        "    def __getitem__(self, index):\n",
        "        return self.X_data[index], self.y_data[index]\n",
        "\n",
        "    def __len__ (self):\n",
        "        return len(self.X_data)"
      ]
    },
    {
      "cell_type": "code",
      "execution_count": null,
      "metadata": {
        "id": "M2QoDsxhODDa"
      },
      "outputs": [],
      "source": [
        "def unique(list1):\n",
        "\n",
        "    # initialize a null list\n",
        "    unique_list = []\n",
        "\n",
        "    # traverse for all elements\n",
        "    for x in list1:\n",
        "        # check if exists in unique_list or not\n",
        "        if x not in unique_list:\n",
        "            unique_list.append(x)\n",
        "\n",
        "    print(f'{len(unique_list)} unique transcripts')\n",
        "    return unique_list"
      ]
    },
    {
      "cell_type": "code",
      "execution_count": null,
      "metadata": {
        "id": "cfQgl-GRcuKT"
      },
      "outputs": [],
      "source": [
        "def init_weights(m):\n",
        "    if type(m) == nn.Linear:\n",
        "        #nn.init.normal_(m.weight, std=0.01)\n",
        "        nn.init.xavier_normal_(m.weight)\n",
        "\n",
        "    if type(m) == nn.LSTM:\n",
        "      for param in m._flat_weights_names:\n",
        "          if \"weight\" in param:\n",
        "              nn.init.xavier_uniform_(m._parameters[param])"
      ]
    },
    {
      "cell_type": "markdown",
      "source": [
        "# Load model"
      ],
      "metadata": {
        "id": "0zyPpl6aGcTU"
      }
    },
    {
      "cell_type": "code",
      "source": [
        "h = 4096\n",
        "hidden2=2048\n",
        "device = torch.device(\"cuda:0\" if torch.cuda.is_available() else \"cpu\")\n",
        "\n",
        "model = Classifier2L(h, hidden2, 0.3).to(device)\n",
        "model.load_state_dict(torch.load('/content/drive/MyDrive/my_colab/3rdYear/GMM/model'))\n",
        "model.eval()"
      ],
      "metadata": {
        "id": "TjG34yZpGdsA"
      },
      "execution_count": null,
      "outputs": []
    },
    {
      "cell_type": "markdown",
      "metadata": {
        "id": "93llTGfI50zS"
      },
      "source": [
        "# DRGN"
      ]
    },
    {
      "cell_type": "code",
      "execution_count": null,
      "metadata": {
        "id": "_EfM2DTi6GnM"
      },
      "outputs": [],
      "source": [
        "# import difference for each mutation + labels\n",
        "#dif_mut_drgn = pd.read_csv('/content/drive/MyDrive/log_probWT_MUT_DRGN2200AA_filtermix3517maxpool.csv', header = None, names = ['mutation', 'log_difference', 'label'])\n",
        "dif_mut_drgn = pd.read_csv('/content/drive/MyDrive/log_probWT_MUT_DRGN_2200AA_57maxpool.csv', header = None, names = ['mutation', 'log_difference', 'label'])\n",
        "# exclude duplicates\n",
        "#dif_mut_drgn.drop_duplicates(subset = 'mutation', inplace =True)\n",
        "\n",
        "# log_difference has been saved as string of list! Here I convert it back to list of floats\n",
        "fl_dif = []\n",
        "for x in dif_mut_drgn['log_difference']:\n",
        "  p = x[1:-1].split(',')\n",
        "  fl_dif.append([float(i) for i in p])\n",
        "\n",
        "dif_mut_drgn['fl_dif'] = fl_dif\n",
        "\n",
        "print('Deleterious mutations in dataset: ', len(dif_mut_drgn[dif_mut_drgn['label'] == 1]))\n",
        "print('Benign mutations in dataset: ', len(dif_mut_drgn[dif_mut_drgn['label'] == 0]))\n",
        "\n",
        "# pad to 2200 AA\n",
        "N= 2200\n",
        "fl_dif_pad =[]\n",
        "for i, mut in dif_mut_drgn.iterrows():\n",
        "  a = mut['fl_dif']\n",
        "  new_a = a + [0] * (N - len(a))\n",
        "  fl_dif_pad.append(new_a)\n",
        "dif_mut_drgn['fl_dif_pad'] = fl_dif_pad\n",
        "\n",
        "stacked_flat_drgn =[]\n",
        "for i, mut in dif_mut_drgn.iterrows():\n",
        "  stacked_flat_drgn.append(torch.tensor(mut['fl_dif_pad']))\n",
        "\n",
        "stacked_drgn = torch.stack(stacked_flat_drgn)\n",
        "print(stacked_drgn.shape)"
      ]
    },
    {
      "cell_type": "code",
      "execution_count": null,
      "metadata": {
        "id": "I8TYGsET50zS"
      },
      "outputs": [],
      "source": [
        "dif_mut_drgn_temp = dif_mut_drgn.mutation.str.split(pat='_',expand=True)\n",
        "labels_drgn = dif_mut_drgn['label'].tolist()\n",
        "X_drgn, y_drgn = np.array(stacked_drgn), np.array(labels_drgn)\n",
        "\n",
        "drgn_dataset = ClassifierDataset(torch.from_numpy(X_drgn).float(), torch.from_numpy(y_drgn).long())\n",
        "drgn_loader = DataLoader(dataset=drgn_dataset, batch_size=1 , drop_last=True)\n",
        "\n",
        "device = torch.device(\"cuda:0\" if torch.cuda.is_available() else \"cpu\")\n",
        "\n",
        "y_pred_list = []\n",
        "predictions_drgn= []\n",
        "my_net.eval()\n",
        "\n",
        "with torch.no_grad():\n",
        "    for X_batch, _ in drgn_loader:\n",
        "        X_batch = X_batch.to(device)\n",
        "        y_test_pred = my_net(X_batch)\n",
        "        #print(y_test_pred)\n",
        "        predictions_drgn.extend(torch.sigmoid(y_test_pred).cpu().detach().numpy().tolist())\n",
        "        #print(predictions_drgn)\n",
        "\n",
        "flat_list = []\n",
        "for sublist in predictions_drgn:\n",
        "    for item in sublist:\n",
        "        flat_list.append(item)\n",
        "\n",
        "predictions_drgn = [1 if i>=0.5 else 0 for i in flat_list]\n",
        "confusion_matrix_df = pd.DataFrame(confusion_matrix(y_drgn, predictions_drgn))\n",
        "tn, fp, fn, tp = confusion_matrix(y_drgn, predictions_drgn).ravel()\n",
        "print(classification_report(y_drgn, predictions_drgn))\n",
        "print(tp, tn, fp, fn)\n",
        "TPR =tp / (tp + fn)\n",
        "print('Sensitivity: %.2f'  % (TPR*100))\n",
        "\n",
        "TNR = tn / (tn + fp)\n",
        "print('Specificity: %.2f'  % (TNR*100))\n",
        "print(matthews_corrcoef(y_drgn, predictions_drgn))"
      ]
    },
    {
      "cell_type": "code",
      "source": [
        "dif_mut_drgn_all = dif_mut_drgn\n",
        "temp = dif_mut_drgn_all.mutation.str.split(pat='_',expand=True)\n",
        "pos, AA_o, AA_t = [], [], []\n",
        "test= temp[1].tolist()\n",
        "for i in test:\n",
        "  pos.append(i[1:-1])\n",
        "  AA_o.append(i[0])\n",
        "  AA_t.append(i[-1])\n",
        "\n",
        "dif_mut_drgn_all['uniprot'] = temp[0].tolist()\n",
        "dif_mut_drgn_all['D2D'] = flat_list # cont_value\n",
        "dif_mut_drgn_all['AA_orig'] =AA_o\n",
        "dif_mut_drgn_all['position'] =pos\n",
        "dif_mut_drgn_all['AA_targ'] =AA_t\n",
        "\n",
        "# compute TP etc\n",
        "TP, TN, FP, FN=[],[],[],[]\n",
        "for i, mut in dif_mut_drgn_all.iterrows():\n",
        "\n",
        "  if (mut['label'] == 1) and (mut['D2D'] >=0.5):\n",
        "    TP.append(1)\n",
        "    TN.append(0)\n",
        "    FP.append(0)\n",
        "    FN.append(0)\n",
        "  elif mut['label'] == 1 and mut['D2D'] < 0.5:\n",
        "    TP.append(0)\n",
        "    TN.append(0)\n",
        "    FP.append(0)\n",
        "    FN.append(1)\n",
        "  elif mut['label'] == 0 and mut['D2D'] >=0.5:\n",
        "    TP.append(0)\n",
        "    TN.append(0)\n",
        "    FP.append(1)\n",
        "    FN.append(0)\n",
        "  elif mut['label'] == 0 and mut['D2D'] < 0.5:\n",
        "    TP.append(0)\n",
        "    TN.append(1)\n",
        "    FP.append(0)\n",
        "    FN.append(0)\n",
        "  else:\n",
        "    TP.append(0)\n",
        "    TN.append(0)\n",
        "    FP.append(0)\n",
        "    FN.append(0)\n",
        "\n",
        "dif_mut_drgn_all['TP'] =TP\n",
        "dif_mut_drgn_all['TN'] =TN\n",
        "dif_mut_drgn_all['FP'] =FP\n",
        "dif_mut_drgn_all['FN'] =FN\n",
        "\n",
        "accuracy_D2D = (dif_mut_drgn_all['TP'].sum() + dif_mut_drgn_all['TN'].sum()) / (dif_mut_drgn_all['TP'].sum() + dif_mut_drgn_all['TN'].sum() + dif_mut_drgn_all['FP'].sum() + dif_mut_drgn_all['FN'].sum())\n",
        "\n",
        "print(f'Accuracy of D2D predictor:  {accuracy_D2D*100:.2f} %')"
      ],
      "metadata": {
        "id": "PaN_Phs-WxA2"
      },
      "execution_count": null,
      "outputs": []
    },
    {
      "cell_type": "code",
      "source": [
        "dif_mut_drgn_all['position'] = dif_mut_drgn_all['position'].astype(int)\n",
        "dif_mut_drgn_all = dif_mut_drgn_all.drop(columns=['log_difference', 'fl_dif', 'fl_dif_pad'])\n",
        "df_sorted = dif_mut_drgn_all.sort_values(by=['uniprot', 'position', 'AA_targ'])\n",
        "filepath = '/content/drive/MyDrive/d2d_drgn_012023_resultsb.csv'\n",
        "df_sorted.to_csv(filepath, index=False)"
      ],
      "metadata": {
        "id": "Uz1AoLyhX9Bg"
      },
      "execution_count": null,
      "outputs": []
    },
    {
      "cell_type": "code",
      "source": [
        "with open('/content/drive/MyDrive/d2d_drgn_012023_results.csv', 'w', newline='') as myfile:\n",
        "     wr = csv.writer(myfile, quoting=csv.QUOTE_ALL)\n",
        "     wr.writerow(predictions_drgn)"
      ],
      "metadata": {
        "id": "4l_xJ6USW7UY"
      },
      "execution_count": null,
      "outputs": []
    },
    {
      "cell_type": "code",
      "source": [
        "lw = 2\n",
        "import matplotlib\n",
        "matplotlib.rc_file_defaults()\n",
        "fpr, tpr, _ = metrics.roc_curve(y_drgn[:len(predictions_drgn)],  flat_list)\n",
        "auc = metrics.roc_auc_score(y_drgn[:len(predictions_drgn)], flat_list)\n",
        "plt.plot(fpr,tpr,color=\"navy\",label=\"DRGN, auc=\"+str(round(auc, 3)))\n",
        "plt.plot([0, 1], [0, 1], color=\"darkorange\", lw=lw, linestyle=\"--\")\n",
        "plt.legend(loc=4)\n",
        "plt.xlabel(\"False Positive Rate\")\n",
        "plt.ylabel(\"True Positive Rate\")\n",
        "plt.title(\"Receiver operating characteristic DRGN set\")\n",
        "plt.rcParams[\"figure.figsize\"] = (10,10)\n",
        "plt.show()"
      ],
      "metadata": {
        "id": "8BbGp-9brnyi"
      },
      "execution_count": null,
      "outputs": []
    },
    {
      "cell_type": "code",
      "source": [
        "pos, AA_o, AA_t = [], [], []\n",
        "test_mutation= dif_mut_drgn_temp[1].tolist()\n",
        "for i in test_mutation:\n",
        "  pos.append(i[1:-1])\n",
        "  AA_o.append(i[0])\n",
        "  AA_t.append(i[-1])\n",
        "\n",
        "orig_drgn =AA_o\n",
        "pos_drgn = pos\n",
        "targ_drgn = AA_t\n",
        "prot_drgn = dif_mut_drgn_temp[0]"
      ],
      "metadata": {
        "id": "vyf0gljTwsFf"
      },
      "execution_count": null,
      "outputs": []
    },
    {
      "cell_type": "code",
      "source": [
        "incorrect, correct = 0,0\n",
        "incorrect_mu, incorrect_prot, correct_mu, correct_prot, correct_lab, incorrect_lab, incorrect_pre, cont_lab_inc, cont_lab_c, repres_inc, repres_c, temp_pos_inc, \\\n",
        "temp_targ_inc, temp_orig_inc, temp_pos_c, temp_targ_c, temp_orig_c, temp_len_c, temp_len_inc = [], [], [], [], [], [], [], [], [], [], [], [], [], [], [], [], [], [], []\n",
        "\n",
        "for ind, pre in enumerate(predictions_drgn):\n",
        "  if labels_drgn[ind] != pre:\n",
        "\n",
        "    incorrect_prot.append(prot_drgn[ind])\n",
        "    temp_pos_inc.append(pos_drgn[ind])\n",
        "    #temp_len_inc.append(len_drgn[ind])\n",
        "    temp_targ_inc.append(targ_drgn[ind])\n",
        "    temp_orig_inc.append(orig_drgn[ind])\n",
        "    incorrect += 1\n",
        "    incorrect_lab.append(labels_drgn[ind])\n",
        "    incorrect_pre.append(pre)\n",
        "    cont_lab_inc.append(flat_list[ind]) # append the continuous values for comparison with EVE predictor\n",
        "    repres_inc.append(X_drgn[ind])\n",
        "\n",
        "  else:\n",
        "    correct +=1\n",
        "    correct_prot.append(prot_drgn[ind])\n",
        "    temp_pos_c.append(pos_drgn[ind])\n",
        "    #temp_len_c.append(len_drgn[ind])\n",
        "    temp_targ_c.append(targ_drgn[ind])\n",
        "    temp_orig_c.append(orig_drgn[ind])\n",
        "    correct_lab.append(labels_drgn[ind] )\n",
        "    cont_lab_c.append(flat_list[ind]) # append the continuous values for comparison with EVE predictor\n",
        "    repres_c.append(X_drgn[ind])\n",
        "\n",
        "df_incorrect_drgn = pd.DataFrame(list(zip(incorrect_prot, incorrect_lab, incorrect_pre , cont_lab_inc, temp_pos_inc, temp_orig_inc, temp_targ_inc)),#temp_len_inc)),\n",
        "               columns =['Protein', 'Ground Truth', 'Prediction', 'Continuous prediction', 'Position', 'Original', 'Target'])#, 'Length'])\n",
        "df_correct_drgn = pd.DataFrame(list(zip(correct_prot, correct_lab, cont_lab_c, temp_pos_c ,temp_orig_c, temp_targ_c)),# temp_len_c)),\n",
        "               columns =['Protein', 'Ground Truth','Continuous prediction', 'Position', 'Original', 'Target'])#, 'Length'])"
      ],
      "metadata": {
        "id": "F1mXy2D5smeR"
      },
      "execution_count": null,
      "outputs": []
    },
    {
      "cell_type": "code",
      "source": [
        "dict_prot_c = {}\n",
        "for ind, mutation in df_correct_drgn.iterrows():\n",
        "    pr = mutation['Protein']\n",
        "    if pr not in dict_prot_c:\n",
        "      if mutation['Ground Truth'] == 0:\n",
        "        dict_prot_c[pr]= [1,0]\n",
        "      else:\n",
        "        dict_prot_c[pr]= [0,1]\n",
        "    else:\n",
        "      if mutation['Ground Truth'] == 0:\n",
        "        dict_prot_c[pr][0]+= 1\n",
        "      else:\n",
        "        dict_prot_c[pr][1]+= 1\n",
        "\n",
        "dict_prot_inc = {}\n",
        "for ind, mutation in df_incorrect_drgn.iterrows():\n",
        "    pr = mutation['Protein']\n",
        "    if pr not in dict_prot_inc:\n",
        "      if mutation['Ground Truth'] == 0:\n",
        "        dict_prot_inc[pr]= [1,0]\n",
        "      else:\n",
        "        dict_prot_inc[pr]= [0,1]\n",
        "    else:\n",
        "      if mutation['Ground Truth'] == 0:\n",
        "        dict_prot_inc[pr][0]+= 1\n",
        "      else:\n",
        "        dict_prot_inc[pr][1]+= 1\n",
        "\n",
        "dict_prot_dif_mut = {} # deleterious / benign samples in training set\n",
        "for ind, mut in dif_mut.iterrows():\n",
        "    pr = mut['mutation'].split('_')[0]\n",
        "    if pr not in dict_prot_dif_mut:\n",
        "      if mut['label'] == 0:\n",
        "        dict_prot_dif_mut[pr]= [1,0]\n",
        "      else:\n",
        "        dict_prot_dif_mut[pr]= [0,1]\n",
        "    else:\n",
        "      if mut['label'] == 0:\n",
        "        dict_prot_dif_mut[pr][0]+= 1\n",
        "      else:\n",
        "        dict_prot_dif_mut[pr][1]+= 1"
      ],
      "metadata": {
        "id": "9R-o2dTBspJS"
      },
      "execution_count": null,
      "outputs": []
    },
    {
      "cell_type": "code",
      "source": [
        "list_prot = list(dict_prot_c.keys())\n",
        "samples = len(dict_prot_c.keys())\n",
        "barWidth = 0.2\n",
        "figure(figsize=(55, 6), dpi=80)\n",
        "bars1,bars2, bars3 = [], [], []\n",
        "for keys in list_prot[:50]:\n",
        "  #benign graph\n",
        "  if keys in dict_prot_dif_mut:\n",
        "    bars1.append(dict_prot_dif_mut[keys][1])\n",
        "  else:\n",
        "    bars1.append(0)\n",
        "  if keys in dict_prot_c:\n",
        "    bars2.append(dict_prot_c[keys][1])\n",
        "  else:\n",
        "    bars2.append(0)\n",
        "  if keys in dict_prot_inc:\n",
        "    bars3.append(dict_prot_inc[keys][1])\n",
        "  else:\n",
        "    bars3.append(0)\n",
        "\n",
        "# Set position of bar on X axis\n",
        "r1 = np.arange(len(bars1))\n",
        "r2 = [x + barWidth for x in r1]\n",
        "r3 = [x + barWidth for x in r2]\n",
        "\n",
        "# Make the plot\n",
        "plt.bar(r1, bars1, color='#969491', width=barWidth, edgecolor='white', label='Training')\n",
        "plt.bar(r2, bars2, color='#94ce08', width=barWidth, edgecolor='white', label='Test correct')\n",
        "plt.bar(r3, bars3, color='#ce1141', width=barWidth, edgecolor='white', label='Test incorrect')\n",
        "\n",
        "# Add xticks on the middle of the group bars\n",
        "plt.xlabel('uniprot id', fontweight='bold')\n",
        "plt.title('Pathogenic mutations')\n",
        "\n",
        "plt.xticks([r + barWidth for r in range(len(bars1))], list_prot, rotation=45)\n",
        "\n",
        "# Create legend & Show graphic\n",
        "plt.legend()"
      ],
      "metadata": {
        "id": "tFO1dM2Ns5Tp"
      },
      "execution_count": null,
      "outputs": []
    },
    {
      "cell_type": "code",
      "source": [
        "list_prot = list(dict_prot_c.keys())\n",
        "samples = len(dict_prot_c.keys())\n",
        "barWidth = 0.2\n",
        "figure(figsize=(55, 6), dpi=80)\n",
        "bars1,bars2, bars3 = [], [], []\n",
        "for keys in list_prot[:50]:\n",
        "  #benign graph\n",
        "  if keys in dict_prot_dif_mut:\n",
        "    bars1.append(dict_prot_dif_mut[keys][0])\n",
        "  else:\n",
        "    bars1.append(0)\n",
        "  if keys in dict_prot_c:\n",
        "    bars2.append(dict_prot_c[keys][0])\n",
        "  else:\n",
        "    bars2.append(0)\n",
        "  if keys in dict_prot_inc:\n",
        "    bars3.append(dict_prot_inc[keys][0])\n",
        "  else:\n",
        "    bars3.append(0)\n",
        "\n",
        "# Set position of bar on X axis\n",
        "r1 = np.arange(len(bars1))\n",
        "r2 = [x + barWidth for x in r1]\n",
        "r3 = [x + barWidth for x in r2]\n",
        "\n",
        "# Make the plot\n",
        "plt.bar(r1, bars1, color='#969491', width=barWidth, edgecolor='white', label='Training')\n",
        "plt.bar(r2, bars2, color='#94ce08', width=barWidth, edgecolor='white', label='Test correct')\n",
        "plt.bar(r3, bars3, color='#ce1141', width=barWidth, edgecolor='white', label='Test incorrect')\n",
        "\n",
        "\n",
        "# Add xticks on the middle of the group bars\n",
        "plt.xlabel('uniprot id', fontweight='bold')\n",
        "plt.title('Benign mutations')\n",
        "plt.xticks([r + barWidth for r in range(len(bars1))], list_prot, rotation=45)\n",
        "\n",
        "# Create legend & Show graphic\n",
        "plt.legend()"
      ],
      "metadata": {
        "id": "znU2FFhpxvtP"
      },
      "execution_count": null,
      "outputs": []
    },
    {
      "cell_type": "markdown",
      "source": [
        "### Drop in perfornace when DRGN is excluded from training set"
      ],
      "metadata": {
        "id": "4K7qty_5je60"
      }
    },
    {
      "cell_type": "code",
      "source": [
        "# import difference for each mutation + labels\n",
        "dif_mut = pd.read_csv('/content/drive/MyDrive/log_probWT_MUT_Tier1_2_3_common_balanced+-2_2200AA_57maxpool.csv', header = None, names = ['mutation', 'log_difference', 'label'])\n",
        "\n",
        "# exclude duplicates\n",
        "#dif_mut.drop_duplicates(subset = 'mutation', inplace =True)\n",
        "\n",
        "# log_difference has been saved as string of list! Here I convert it back to list of floats\n",
        "fl_dif = []\n",
        "for x in dif_mut['log_difference']:\n",
        "  p = x[1:-1].split(',')\n",
        "  fl_dif.append([float(i) for i in p])\n",
        "\n",
        "dif_mut['fl_dif'] = fl_dif\n",
        "\n",
        "print('Deleterious mutations in dataset: ', len(dif_mut[dif_mut['label'] == 1]))\n",
        "print('Benign mutations in dataset: ', len(dif_mut[dif_mut['label'] == 0]))\n",
        "\n",
        "# pad to 2200 AA\n",
        "N= 2200\n",
        "fl_dif_pad =[]\n",
        "for i, mut in dif_mut.iterrows():\n",
        "  a = mut['fl_dif']\n",
        "  new_a = a + [0] * (N - len(a))\n",
        "  fl_dif_pad.append(new_a)\n",
        "dif_mut['fl_dif_pad'] = fl_dif_pad"
      ],
      "metadata": {
        "id": "zH-yXp9njgrL"
      },
      "execution_count": null,
      "outputs": []
    },
    {
      "cell_type": "code",
      "source": [
        "# import difference for each mutation + labels\n",
        "dif_mut_drgn = pd.read_csv('/content/drive/MyDrive/log_probWT_MUT_DRGN_2200AA_57maxpool.csv', header = None, names = ['mutation', 'log_difference', 'label'])\n",
        "# exclude duplicates\n",
        "#dif_mut_drgn.drop_duplicates(subset = 'mutation', inplace =True)\n",
        "\n",
        "# log_difference has been saved as string of list! Here I convert it back to list of floats\n",
        "fl_dif = []\n",
        "for x in dif_mut_drgn['log_difference']:\n",
        "  p = x[1:-1].split(',')\n",
        "  fl_dif.append([float(i) for i in p])\n",
        "\n",
        "dif_mut_drgn['fl_dif'] = fl_dif\n",
        "\n",
        "print('Deleterious mutations in dataset: ', len(dif_mut_drgn[dif_mut_drgn['label'] == 1]))\n",
        "print('Benign mutations in dataset: ', len(dif_mut_drgn[dif_mut_drgn['label'] == 0]))\n",
        "\n",
        "# pad to 2200 AA\n",
        "N= 2200\n",
        "fl_dif_pad =[]\n",
        "for i, mut in dif_mut_drgn.iterrows():\n",
        "  a = mut['fl_dif']\n",
        "  new_a = a + [0] * (N - len(a))\n",
        "  fl_dif_pad.append(new_a)\n",
        "dif_mut_drgn['fl_dif_pad'] = fl_dif_pad\n",
        "\n",
        "stacked_flat_drgn =[]\n",
        "for i, mut in dif_mut_drgn.iterrows():\n",
        "  stacked_flat_drgn.append(torch.tensor(mut['fl_dif_pad']))\n",
        "\n",
        "stacked_drgn = torch.stack(stacked_flat_drgn)\n",
        "print(stacked_drgn.shape)"
      ],
      "metadata": {
        "id": "-XW1vSHGlR-N"
      },
      "execution_count": null,
      "outputs": []
    },
    {
      "cell_type": "code",
      "execution_count": null,
      "metadata": {
        "id": "co7_-6_RA1K-"
      },
      "outputs": [],
      "source": [
        "# remove DRGN mutations form training set\n",
        "cond = dif_mut['mutation'].isin(dif_mut_drgn['mutation'])\n",
        "dif_mut.drop(dif_mut[cond].index, inplace = True)"
      ]
    },
    {
      "cell_type": "code",
      "execution_count": null,
      "metadata": {
        "id": "1_N-EGcdIL2k"
      },
      "outputs": [],
      "source": [
        "stacked_flat =[]\n",
        "for i, mut in dif_mut.iterrows():\n",
        "  stacked_flat.append(torch.tensor(mut['fl_dif_pad']))\n",
        "\n",
        "stacked_gmm = torch.stack(stacked_flat)\n",
        "print(stacked_gmm.shape)"
      ]
    },
    {
      "cell_type": "code",
      "source": [
        "\n",
        "out = venn2(subsets = (6608, 3603, 1092), set_labels = ('Training set', 'DRGN'))\n",
        "c = venn2_circles(subsets= (6608, 3603, 1092), linestyle='dashed')\n",
        "\n",
        "plt.show()"
      ],
      "metadata": {
        "id": "RkvVr3I5T2Xy"
      },
      "execution_count": null,
      "outputs": []
    },
    {
      "cell_type": "code",
      "execution_count": null,
      "metadata": {
        "id": "PQYzBlDc8c1A"
      },
      "outputs": [],
      "source": [
        "temp = dif_mut.mutation.str.split(pat='_',expand=True)\n",
        "# seperate inputs and outputs\n",
        "X = stacked_gmm\n",
        "y = dif_mut['label']\n",
        "\n",
        "# Split, shuffle and stratify sequences, mutations, proteins and label\n",
        "\n",
        "#X_train, X_test, y_train, y_test, mu_all_train, mu_all_test , prot_all_train, prot_all_test = train_test_split(X, y, temp[1],  temp[0], test_size=0.1, stratify=y, random_state=69)\n",
        "X_train, X_test, y_train, y_test, mu_all_train, mu_all_test , prot_all_train, prot_all_test = train_test_split(X, y, temp[1],  temp[0], test_size=0.0002, stratify=y, random_state=69)\n",
        "X_train, y_train = np.array(X_train), np.array(y_train)\n",
        "X_test, y_test = np.array(X_test), np.array(y_test)\n",
        "\n",
        "del stacked_gmm, X\n",
        "gc.collect()\n",
        "\n",
        "train_dataset = ClassifierDataset(torch.from_numpy(X_train).float(), torch.from_numpy(y_train).long())\n",
        "val_dataset = ClassifierDataset(torch.from_numpy(X_test).float(), torch.from_numpy(y_test).long())\n",
        "\n",
        "fig, axes = plt.subplots(nrows=1, ncols=2, figsize=(25,7))# Train\n",
        "sns.barplot(data = pd.DataFrame.from_dict([get_class_distribution_binary(y_train)]).melt(), x = \"variable\", y=\"value\", hue=\"variable\",  ax=axes[0]).set_title('Class Distribution in Train Set')# Validation\n",
        "sns.barplot(data = pd.DataFrame.from_dict([get_class_distribution_binary(y_test)]).melt(), x = \"variable\", y=\"value\", hue=\"variable\",  ax=axes[1]).set_title('Class Distribution in Val Set')\n",
        "\n",
        "\n",
        "BATCH_SIZE=64\n",
        "train_loader = DataLoader(dataset=train_dataset,\n",
        "                          batch_size=BATCH_SIZE,\n",
        "                          drop_last=True)\n",
        "val_loader = DataLoader(dataset\n",
        "=val_dataset, batch_size=2, drop_last=True)\n",
        "\n",
        "device = torch.device(\"cuda:0\" if torch.cuda.is_available() else \"cpu\")"
      ]
    },
    {
      "cell_type": "code",
      "execution_count": null,
      "metadata": {
        "id": "XtbB4NuV8c1B"
      },
      "outputs": [],
      "source": [
        "# implementation of a single training epoch\n",
        "def train_epoch_cross(net, loader, loss_fn, optimizer, scheduler):\n",
        "\n",
        "    # set the network in training mode\n",
        "    net.train()\n",
        "\n",
        "    # keep track of the loss\n",
        "    loss_cum = 0\n",
        "    cnt = 0\n",
        "    num_correct = 0\n",
        "    targets = []\n",
        "    predictions = []\n",
        "\n",
        "    for i, data in enumerate(loader):\n",
        "\n",
        "        # sample data\n",
        "        x, y = data\n",
        "        x = x.to(device)\n",
        "        y = y.to(device)\n",
        "\n",
        "        # set all gradients equal to zero\n",
        "        net.zero_grad()\n",
        "\n",
        "        # feed the batch to the network and compute the outputs\n",
        "        y_pred = net(x)\n",
        "        #y_pred_sq = np.squeeze(y_pred) # add when using loss_fn: BCEloss()\n",
        "\n",
        "        pred = torch.round(y_pred.squeeze())  # rounds to the nearest integer\n",
        "\n",
        "        # compare predictions to true label\n",
        "        #correct_tensor = pred.eq(y.float().view_as(pred))\n",
        "        #correct = np.squeeze(correct_tensor.cpu().numpy())\n",
        "        #num_correct += np.sum(correct)\n",
        "        targets.extend(y.cpu().detach().numpy().tolist())\n",
        "        predictions.extend(torch.sigmoid(y_pred).cpu().detach().numpy().tolist())\n",
        "\n",
        "        #predictions_round = [round(p) for p in predictions]\n",
        "        #correct_tensor = predictions_round.eq(targets.float().view_as(predictions_round))\n",
        "\n",
        "        #loss = loss_fn(y_pred_sq, y.float())  #add when using loss_fn: BCEloss()\n",
        "        loss = loss_fn(y_pred, y.float())\n",
        "\n",
        "        # Specify L1 and L2 weights\n",
        "        l1_weight = 0\n",
        "        l2_weight = 0\n",
        "\n",
        "        # Compute L1 and L2 loss component\n",
        "        parameters = []\n",
        "        for parameter in net.parameters():\n",
        "            parameters.append(parameter.view(-1))\n",
        "        l1 = l1_weight * net.compute_l1_loss(torch.cat(parameters))\n",
        "        l2 = l2_weight * net.compute_l2_loss(torch.cat(parameters))\n",
        "\n",
        "        # Add L1 and L2 loss components\n",
        "        loss += l1\n",
        "        loss += l2\n",
        "\n",
        "        loss_cum += loss.data.cpu().numpy()\n",
        "        cnt += 1\n",
        "\n",
        "        # backpropagate the gradients w.r.t. computed loss\n",
        "        loss.backward()\n",
        "\n",
        "        # apply one step in the optimization\n",
        "        optimizer.step()\n",
        "        scheduler.step()\n",
        "\n",
        "        #break #for training one batch\n",
        "\n",
        "    # compute the average loss\n",
        "    #mytrain_acc = num_correct\n",
        "    loss_avg = loss_cum / cnt\n",
        "\n",
        "    #predictions = np.array(predictions) >= 0.5\n",
        "    predictions = [1 if p[0] > 0.5 else 0 for p in predictions]\n",
        "    mytrain_acc  = metrics.accuracy_score(targets, predictions)   *100\n",
        "    #mytrain_acc = (num_correct/ (len(y)*cnt)) *100\n",
        "    return loss_avg, mytrain_acc\n",
        "\n",
        "def loss_fn(outputs, targets):\n",
        "  return nn.BCEWithLogitsLoss()(outputs, targets.view(-1, 1))\n",
        "\n",
        "\n",
        "\n",
        "def train_net_cross(net, train_loader, val_loader, loss_fn, optimizer, epochs , scheduler):\n",
        "\n",
        "    # transfer the network to the GPU\n",
        "    net = net.to(device)\n",
        "\n",
        "    train_loss = np.zeros((epochs))\n",
        "    test_loss = np.zeros((epochs))\n",
        "    train_acc = np.zeros((epochs))\n",
        "    train_acc_alt = np.zeros((epochs))\n",
        "\n",
        "    test_acc = np.zeros((epochs))\n",
        "    test_acc_alt = np.zeros((epochs))\n",
        "\n",
        "    print(\"Begin training.\")\n",
        "\n",
        "    for epoch in tqdm(range(epochs)):\n",
        "\n",
        "        # training\n",
        "        train_loss[epoch], train_acc[epoch] = train_epoch_cross(net, train_loader, loss_fn, optimizer, scheduler)\n",
        "        #predictions, outputs = eval(net, train_loader)\n",
        "        #train_acc_alt[epoch] = metrics.accuracy_score(outputs, predictions)\n",
        "\n",
        "        # validation\n",
        "        test_loss[epoch], test_acc[epoch] = test_epoch(net, val_loader, loss_fn)\n",
        "        #predictions, outputs = eval(net, val_loader)\n",
        "        #test_acc_alt[epoch] = metrics.accuracy_score(outputs, predictions)\n",
        "\n",
        "        print('Epoch %5d - Train loss: %.6f - Train accuracy: %.6f - Test loss: %.6f - Test accuracy: %.6f'\n",
        "             % (epoch, train_loss[epoch], train_acc[epoch], test_loss[epoch], test_acc[epoch]))\n",
        "\n",
        "        #print('Epoch %5d - Train loss: %.6f - Train accuracy: %.6f'\n",
        "        #    % (epoch, train_loss[epoch], train_acc[epoch]))# for training one batch\n",
        "\n",
        "    return (train_loss, test_loss), (train_acc , test_acc)\n",
        "    #return train_loss, train_acc # for training one batch"
      ]
    },
    {
      "cell_type": "code",
      "execution_count": null,
      "metadata": {
        "id": "VCmDNaMJ8c1B"
      },
      "outputs": [],
      "source": [
        "# Set fixed random number seed\n",
        "torch.manual_seed(42)\n",
        "TRAIN_BATCH_SIZE = 64\n",
        "epochs =200\n",
        "lr = [3e-5]\n",
        "#h = 1024\n",
        "#h = 2048\n",
        "h = 4096\n",
        "#hidden2 =258\n",
        "#hidden2=1024\n",
        "hidden2=2048\n",
        "\n",
        "my_net = Classifier2L(h, hidden2, 0.3).to(device)\n",
        "#my_net = Classifier(h, 0.3).to(device)\n",
        "my_net.apply(init_weights)\n",
        "param_optimizer = list(my_net.named_parameters())\n",
        "no_decay = [\"bias\", \"LayerNorm.bias\", \"LayerNorm.weight\"]\n",
        "optimizer_parameters = [\n",
        "    {\n",
        "        \"params\": [\n",
        "            p for n, p in param_optimizer if not any(nd in n for nd in no_decay)\n",
        "        ],\n",
        "        \"weight_decay\": 0.001,\n",
        "    },\n",
        "    {\n",
        "        \"params\": [\n",
        "            p for n, p in param_optimizer if any(nd in n for nd in no_decay)\n",
        "        ],\n",
        "        \"weight_decay\": 0.02,\n",
        "    },\n",
        "]\n",
        "\n",
        "num_train_steps = int(len(X_train) / TRAIN_BATCH_SIZE * epochs)\n",
        "optimizer = torch.optim.AdamW(optimizer_parameters, lr=3e-5)\n",
        "scheduler = get_linear_schedule_with_warmup(\n",
        "    optimizer, num_warmup_steps=1000, num_training_steps=num_train_steps\n",
        ")\n",
        "#loss_fn = nn.BCELoss()\n",
        "\n",
        "loss, acc = train_net_cross(my_net, train_loader, val_loader, loss_fn, optimizer, epochs, scheduler)\n",
        "\n",
        "plt.rcParams[\"figure.figsize\"] = (15,5)\n",
        "sns.set()\n",
        "# plot train/validation loss curves\n",
        "plt.subplot(1, 2, 1)\n",
        "plt.plot(loss[0])\n",
        "plt.plot(loss[1])\n",
        "plt.xlabel('Epochs')\n",
        "plt.ylabel('Loss')\n",
        "plt.title(f'Learning rate: {lr}, hidden : {h}')\n",
        "plt.legend(('Train', 'Validation'))\n",
        "#plt.title(f'Learning rate: {lr}, hidden : {h}, hidden2: {h2}')\n",
        "\n",
        "plt.subplot(1, 2, 2)\n",
        "plt.plot(acc[0])\n",
        "plt.plot(acc[1])\n",
        "plt.xlabel('Epochs')\n",
        "plt.ylabel('Accuracy')\n",
        "plt.legend(('Train', 'Validation'))\n",
        "plt.show()"
      ]
    },
    {
      "cell_type": "code",
      "execution_count": null,
      "metadata": {
        "id": "Muivzvi3IhgT"
      },
      "outputs": [],
      "source": [
        "labels_drgn = dif_mut_drgn['label'].tolist()\n",
        "X_drgn, y_drgn = np.array(stacked_drgn), np.array(labels_drgn)\n",
        "\n",
        "drgn_dataset = ClassifierDataset(torch.from_numpy(X_drgn).float(), torch.from_numpy(y_drgn).long())\n",
        "drgn_loader = DataLoader(dataset=drgn_dataset, batch_size=1 , drop_last=True)\n",
        "\n",
        "device = torch.device(\"cuda:0\" if torch.cuda.is_available() else \"cpu\")\n",
        "\n",
        "y_pred_list = []\n",
        "predictions_drgn= []\n",
        "my_net.eval()\n",
        "\n",
        "with torch.no_grad():\n",
        "    for X_batch, _ in drgn_loader:\n",
        "        X_batch = X_batch.to(device)\n",
        "        y_test_pred = my_net(X_batch)\n",
        "        #print(y_test_pred)\n",
        "        predictions_drgn.extend(torch.sigmoid(y_test_pred).cpu().detach().numpy().tolist())\n",
        "        #print(predictions_drgn)\n",
        "\n",
        "flat_list = []\n",
        "for sublist in predictions_drgn:\n",
        "    for item in sublist:\n",
        "        flat_list.append(item)\n",
        "\n",
        "\n",
        "predictions_drgn = [1 if i>=0.5 else 0 for i in flat_list]\n",
        "confusion_matrix_df = pd.DataFrame(confusion_matrix(y_drgn, predictions_drgn))\n",
        "tn, fp, fn, tp = confusion_matrix(y_drgn, predictions_drgn).ravel()\n",
        "print(classification_report(y_drgn, predictions_drgn))\n",
        "print(tp, tn, fp, fn)\n",
        "TPR =tp / (tp + fn)\n",
        "print('Sensitivity: %.2f'  % (TPR*100))\n",
        "\n",
        "TNR = tn / (tn + fp)\n",
        "print('Specificity: %.2f'  % (TNR*100))\n",
        "print(matthews_corrcoef(y_drgn, predictions_drgn))"
      ]
    },
    {
      "cell_type": "code",
      "execution_count": null,
      "metadata": {
        "id": "W41fz5e8Ikng"
      },
      "outputs": [],
      "source": [
        "lw = 2\n",
        "import matplotlib\n",
        "matplotlib.rc_file_defaults()\n",
        "fpr, tpr, _ = metrics.roc_curve(y_drgn[:len(predictions_drgn)],  flat_list)\n",
        "auc = metrics.roc_auc_score(y_drgn[:len(predictions_drgn)], flat_list)\n",
        "plt.plot(fpr,tpr,color=\"navy\",label=\"DRGN, auc=\"+str(round(auc, 3)))\n",
        "plt.plot([0, 1], [0, 1], color=\"darkorange\", lw=lw, linestyle=\"--\")\n",
        "plt.legend(loc=4)\n",
        "plt.xlabel(\"False Positive Rate\")\n",
        "plt.ylabel(\"True Positive Rate\")\n",
        "plt.title(\"Receiver operating characteristic DRGN set\")\n",
        "plt.rcParams[\"figure.figsize\"] = (10,10)\n",
        "plt.show()"
      ]
    },
    {
      "cell_type": "code",
      "source": [
        "included = [78, 53, 68]\n",
        "excluded = [70, 50, 62]\n",
        "barWidth = 0.17\n",
        "fig = plt.figure(figsize=(8, 7), dpi=80)\n",
        "\n",
        "bars1 = [included,excluded]\n",
        "r1 = np.arange(len(included))\n",
        "r2 = [x + barWidth for x in r1]\n",
        "\n",
        "# Make the plot\n",
        "plt.bar(r1, included, color='#8d1b1a', width=barWidth, edgecolor='white', label='included', alpha=0.75)\n",
        "plt.bar(r2, excluded, color='#2164f4', width=barWidth, edgecolor='white', label='excluded', alpha=0.7) #ad5f7d\n",
        "\n",
        "# Add values above the bars\n",
        "for i in range(len(included)):\n",
        "    plt.text(x=r1[i]-0.02, y=included[i]+1, s=str(round(included[i],1)), fontweight='bold', fontsize=12, color='#8d1b1a')\n",
        "    plt.text(x=r2[i]-0.02, y=excluded[i]+1, s=str(round(excluded[i],1)), fontweight='bold', fontsize=12, color='#ad5f7d')\n",
        "\n",
        "# Add xticks on the middle of the group bars\n",
        "plt.title('Drop of performance when DRGN is excluded from training set',fontname=\"Calibri\", fontsize=16)\n",
        "plt.xticks([r + barWidth-0.1 for r in range(3)],  ['Sensitivity', 'Specificity', 'AUC (%)'],fontname=\"Calibri\", fontsize=16)\n",
        "\n",
        "# Create legend & Show graphic\n",
        "plt.legend(fontsize=14)"
      ],
      "metadata": {
        "id": "Wcz0ToVFSOX9"
      },
      "execution_count": null,
      "outputs": []
    },
    {
      "cell_type": "markdown",
      "metadata": {
        "id": "rkFnIqp_50zT"
      },
      "source": [
        "#### Error analysis"
      ]
    },
    {
      "cell_type": "code",
      "execution_count": null,
      "metadata": {
        "id": "dWmgq0sR50zT"
      },
      "outputs": [],
      "source": [
        "dif_mut_drgn_all = dif_mut_drgn\n",
        "temp = dif_mut_drgn_all.mutation.str.split(pat='_',expand=True)"
      ]
    },
    {
      "cell_type": "code",
      "execution_count": null,
      "metadata": {
        "id": "oWqIjU7650zT"
      },
      "outputs": [],
      "source": [
        "pos, AA_o, AA_t = [], [], []\n",
        "test= temp[1].tolist()\n",
        "for i in test:\n",
        "  pos.append(i[1:-1])\n",
        "  AA_o.append(i[0])\n",
        "  AA_t.append(i[-1])\n",
        "\n",
        "dif_mut_drgn_all['uniprot'] = temp[0].tolist()\n",
        "dif_mut_drgn_all['D2D'] = flat_list # cont_value\n",
        "dif_mut_drgn_all['AA_orig'] =AA_o\n",
        "dif_mut_drgn_all['position'] =pos\n",
        "dif_mut_drgn_all['AA_targ'] =AA_t"
      ]
    },
    {
      "cell_type": "code",
      "execution_count": null,
      "metadata": {
        "id": "6r1_GO8C50zU"
      },
      "outputs": [],
      "source": [
        "# compute TP etc\n",
        "TP, TN, FP, FN=[],[],[],[]\n",
        "for i, mut in dif_mut_drgn_all.iterrows():\n",
        "\n",
        "  if (mut['label'] == 1) and (mut['D2D'] >=0.5):\n",
        "    TP.append(1)\n",
        "    TN.append(0)\n",
        "    FP.append(0)\n",
        "    FN.append(0)\n",
        "  elif mut['label'] == 1 and mut['D2D'] < 0.5:\n",
        "    TP.append(0)\n",
        "    TN.append(0)\n",
        "    FP.append(0)\n",
        "    FN.append(1)\n",
        "  elif mut['label'] == 0 and mut['D2D'] >=0.5:\n",
        "    TP.append(0)\n",
        "    TN.append(0)\n",
        "    FP.append(1)\n",
        "    FN.append(0)\n",
        "  elif mut['label'] == 0 and mut['D2D'] < 0.5:\n",
        "    TP.append(0)\n",
        "    TN.append(1)\n",
        "    FP.append(0)\n",
        "    FN.append(0)\n",
        "  else:\n",
        "    TP.append(0)\n",
        "    TN.append(0)\n",
        "    FP.append(0)\n",
        "    FN.append(0)\n",
        "\n",
        "dif_mut_drgn_all['TP'] =TP\n",
        "dif_mut_drgn_all['TN'] =TN\n",
        "dif_mut_drgn_all['FP'] =FP\n",
        "dif_mut_drgn_all['FN'] =FN\n",
        "\n",
        "accuracy_D2D = (dif_mut_drgn_all['TP'].sum() + dif_mut_drgn_all['TN'].sum()) / (dif_mut_drgn_all['TP'].sum() + dif_mut_drgn_all['TN'].sum() + dif_mut_drgn_all['FP'].sum() + dif_mut_drgn_all['FN'].sum())\n",
        "\n",
        "print(f'Accuracy of D2D predictor:  {accuracy_D2D*100:.2f} %')"
      ]
    },
    {
      "cell_type": "code",
      "execution_count": null,
      "metadata": {
        "id": "QpBxwEvA50zU"
      },
      "outputs": [],
      "source": [
        "dif_mut_drgn_all['position'] = dif_mut_drgn_all['position'].astype(int)"
      ]
    },
    {
      "cell_type": "code",
      "execution_count": null,
      "metadata": {
        "id": "L0VuAhXZ50zU"
      },
      "outputs": [],
      "source": [
        "dif_mut_drgn_all = dif_mut_drgn_all.drop(columns=['log_difference', 'fl_dif', 'fl_dif_pad'])"
      ]
    },
    {
      "cell_type": "code",
      "execution_count": null,
      "metadata": {
        "id": "KiROiDlN50zU"
      },
      "outputs": [],
      "source": [
        "df_sorted = dif_mut_drgn_all.sort_values(by=['uniprot', 'position', 'AA_targ'])\n",
        "filepath = '/content/drive/MyDrive/D2D_DRGN_122200_sorted_maxpool.csv'\n",
        "df_sorted.to_csv(filepath, index=False)"
      ]
    },
    {
      "cell_type": "code",
      "execution_count": null,
      "metadata": {
        "id": "qt5yBzIu50zU"
      },
      "outputs": [],
      "source": [
        "sensitivity_D2D = dif_mut_drgn_all['TP'].sum()  / (dif_mut_drgn_all['TP'].sum() + dif_mut_drgn_all['FN'].sum())"
      ]
    },
    {
      "cell_type": "code",
      "execution_count": null,
      "metadata": {
        "id": "rzAt-pnA50zU"
      },
      "outputs": [],
      "source": [
        "specificity_D2D = dif_mut_drgn_all['TN'].sum() /( dif_mut_drgn_all['TN'].sum() +  dif_mut_drgn_all['FP'].sum())"
      ]
    },
    {
      "cell_type": "markdown",
      "metadata": {
        "id": "Xk8cuHfq50zV"
      },
      "source": [
        "#### EVE versus D2D"
      ]
    },
    {
      "cell_type": "code",
      "execution_count": null,
      "metadata": {
        "id": "3O2CJKE150zV"
      },
      "outputs": [],
      "source": [
        "results = pd.read_csv('/content/drive/MyDrive/my_colab/3rdYear/GMM/DRGN_mutations_012023_DEOGEN_etc.csv')"
      ]
    },
    {
      "cell_type": "code",
      "source": [
        "# keep only rows where both EVE and D2D have values and append uniprot ids\n",
        "eve_values, d2d_values, len_seq, uniprot_ids= [], [], [], []\n",
        "\n",
        "for i, mut in results.iterrows():\n",
        "  if math.isnan(mut['EVE']):\n",
        "    continue\n",
        "  if  math.isnan(mut['D2D']):\n",
        "    continue\n",
        "  eve_values.append(mut['EVE'])\n",
        "  d2d_values.append(mut['D2D'])\n",
        "  uniprot_ids.append(mut['uniprot'])"
      ],
      "metadata": {
        "id": "nQfZadobsZO9"
      },
      "execution_count": null,
      "outputs": []
    },
    {
      "cell_type": "code",
      "source": [
        "eve_values_np = np.array(eve_values)"
      ],
      "metadata": {
        "id": "HlDbosCjsZRd"
      },
      "execution_count": null,
      "outputs": []
    },
    {
      "cell_type": "code",
      "source": [
        "# compute scatter plot EVE vs D2D\n",
        "from scipy import stats\n",
        "correlation, p_value = stats.pearsonr(eve_values, d2d_values)\n",
        "\n",
        "import seaborn as sns\n",
        "sns.set_theme()\n",
        "plt.rcParams[\"figure.figsize\"] = (12,12)\n",
        "plt.figure(facecolor='black')\n",
        "\n",
        "plt.rcParams['axes.facecolor'] = 'black'\n",
        "\n",
        "plt.scatter(eve_values, d2d_values, alpha=0.6, color = 'green')\n",
        "plt.xlabel('EVE', fontweight='bold', color = 'grey' )\n",
        "plt.ylabel('D2D', fontweight='bold', color = 'grey')\n",
        "\n",
        "#find line of best fit\n",
        "a, b = np.polyfit(eve_values, d2d_values,1)\n",
        "plt.plot(eve_values, a*eve_values_np+b, color = 'magenta')\n",
        "\n",
        "plt.xticks(color = 'grey',fontweight='bold')\n",
        "plt.yticks(color = 'grey',fontweight='bold')\n",
        "plt.text(0.02, 0.02, 'y = ' + '{:.2f}'.format(b) + '+' + ' {:.2f}'.format(a) + 'x', size=20, color='magenta',  fontweight='bold')\n",
        "plt.title(\"Comparison of EVE predictor with D2D predictor on DRGN set\",fontsize = 15, fontweight='bold', color = 'grey')\n",
        "\n",
        "plt.show()"
      ],
      "metadata": {
        "id": "olj6en4hsc6s"
      },
      "execution_count": null,
      "outputs": []
    },
    {
      "cell_type": "markdown",
      "metadata": {
        "id": "uPQH605550zV"
      },
      "source": [
        "Analysis of results where EVE ~=0 and D2D ~=1"
      ]
    },
    {
      "cell_type": "code",
      "execution_count": null,
      "metadata": {
        "id": "LyzwR5Q650zV"
      },
      "outputs": [],
      "source": [
        "highEVElowD2D = results[(results['D2D'] >0.75) & (results['EVE']<0.32)]"
      ]
    },
    {
      "cell_type": "markdown",
      "metadata": {
        "id": "Kq0V3OHI50zZ"
      },
      "source": [
        "### FATHMM vs Polyphen2 vs D2D vs EVE"
      ]
    },
    {
      "cell_type": "code",
      "source": [
        "#results = pd.read_csv('/content/drive/MyDrive/my_colab/3rdYear/GMM/DRGN_mutations_082022_EVE_D2D_FATHMM_POLY2_maxpool2200new2.csv')\n",
        "#results = pd.read_csv('/content/drive/MyDrive/my_colab/3rdYear/GMM/DRGN_mutations_122022_sorted.csv')\n",
        "results = pd.read_csv('/content/drive/MyDrive/my_colab/3rdYear/GMM/DRGN_mutations_012023_DEOGEN_etc.csv')\n",
        "print(len(results))"
      ],
      "metadata": {
        "id": "u3-c6otSiKQe"
      },
      "execution_count": null,
      "outputs": []
    },
    {
      "cell_type": "code",
      "execution_count": null,
      "metadata": {
        "id": "_DHflQSu50zZ"
      },
      "outputs": [],
      "source": [
        "#results['Eve_score'] = pd.to_numeric(results['Eve_score'],errors='coerce')\n",
        "#results['D2D_values'] = pd.to_numeric(results['D2D'],errors='coerce')\n",
        "#results['FATHMM (threshold = -0.75)'] = pd.to_numeric(results['FATHMM (threshold = -0.75)'],errors='coerce')\n",
        "#results['polyphen2'] = pd.to_numeric(results['polyphen2'],errors='coerce')\n",
        "#results['DEOGEN'] = pd.to_numeric(results['DEOGEN'],errors='coerce')"
      ]
    },
    {
      "cell_type": "code",
      "execution_count": null,
      "metadata": {
        "id": "BbuqOSdy50zZ"
      },
      "outputs": [],
      "source": [
        "# compute TP for D2D\n",
        "TP_D2D, TN_D2D, FP_D2D, FN_D2D=[],[],[],[]\n",
        "for i, mut in results.iterrows():\n",
        "  if mut['label'] == 1 and mut['D2D'] >=0.5:\n",
        "    TP_D2D.append(1)\n",
        "    TN_D2D.append(0)\n",
        "    FP_D2D.append(0)\n",
        "    FN_D2D.append(0)\n",
        "  elif mut['label'] == 1 and mut['D2D'] < 0.5:\n",
        "    TP_D2D.append(0)\n",
        "    TN_D2D.append(0)\n",
        "    FP_D2D.append(0)\n",
        "    FN_D2D.append(1)\n",
        "  elif mut['label'] == 0 and mut['D2D'] >=0.5:\n",
        "    TP_D2D.append(0)\n",
        "    TN_D2D.append(0)\n",
        "    FP_D2D.append(1)\n",
        "    FN_D2D.append(0)\n",
        "  elif mut['label'] == 0 and mut['D2D'] < 0.5:\n",
        "    TP_D2D.append(0)\n",
        "    TN_D2D.append(1)\n",
        "    FP_D2D.append(0)\n",
        "    FN_D2D.append(0)\n",
        "  else:\n",
        "    TP_D2D.append(0)\n",
        "    TN_D2D.append(0)\n",
        "    FP_D2D.append(0)\n",
        "    FN_D2D.append(0)\n",
        "\n",
        "results['TP_D2D'] =TP_D2D\n",
        "results['TN_D2D'] =TN_D2D\n",
        "results['FP_D2D'] =FP_D2D\n",
        "results['FN_D2D'] =FN_D2D\n",
        "acc_D2D = (results['TP_D2D'].sum() + results['TN_D2D'].sum()) / (results['TP_D2D'].sum() + results['TN_D2D'].sum() + results['FP_D2D'].sum() + results['FN_D2D'].sum())\n",
        "\n",
        "# compute TP for SIFT\n",
        "results['SIFT'] = pd.to_numeric(results['SIFT'],errors='coerce')\n",
        "\n",
        "TP_SIFT, TN_SIFT, FP_SIFT, FN_SIFT=[],[],[],[]\n",
        "for i, mut in results.iterrows():\n",
        "  if (mut['label'] == 1) and (mut['SIFT'] <=0.05):\n",
        "    TP_SIFT.append(1)\n",
        "    TN_SIFT.append(0)\n",
        "    FP_SIFT.append(0)\n",
        "    FN_SIFT.append(0)\n",
        "  elif (mut['label'] == 1) and (mut['SIFT'] > 0.05):\n",
        "    TP_SIFT.append(0)\n",
        "    TN_SIFT.append(0)\n",
        "    FP_SIFT.append(0)\n",
        "    FN_SIFT.append(1)\n",
        "  elif (mut['label'] == 0) and (mut['SIFT'] <=0.05):\n",
        "    TP_SIFT.append(0)\n",
        "    TN_SIFT.append(0)\n",
        "    FP_SIFT.append(1)\n",
        "    FN_SIFT.append(0)\n",
        "  elif (mut['label'] == 0) and (mut['SIFT'] > 0.05):\n",
        "    TP_SIFT.append(0)\n",
        "    TN_SIFT.append(1)\n",
        "    FP_SIFT.append(0)\n",
        "    FN_SIFT.append(0)\n",
        "  else:\n",
        "    TP_SIFT.append(0)\n",
        "    TN_SIFT.append(0)\n",
        "    FP_SIFT.append(0)\n",
        "    FN_SIFT.append(0)\n",
        "\n",
        "results['TP_SIFT'] =TP_SIFT\n",
        "results['TN_SIFT'] =TN_SIFT\n",
        "results['FP_SIFT'] =FP_SIFT\n",
        "results['FN_SIFT'] =FN_SIFT\n",
        "\n",
        "acc_SIFT= (results['TP_SIFT'].sum() + results['TN_SIFT'].sum()) / (results['TP_SIFT'].sum() + results['TN_SIFT'].sum() + results['FP_SIFT'].sum() + results['FN_SIFT'].sum())\n",
        "\n",
        "# compute TP etc\n",
        "TP_DEOGEN, TN_DEOGEN, FP_DEOGEN, FN_DEOGEN=[],[],[],[]\n",
        "for i, mut in results.iterrows():\n",
        "  if mut['label'] == 1 and mut['DEOGEN2'] >0.5:\n",
        "    TP_DEOGEN.append(1)\n",
        "    TN_DEOGEN.append(0)\n",
        "    FP_DEOGEN.append(0)\n",
        "    FN_DEOGEN.append(0)\n",
        "  elif mut['label'] == 1 and mut['DEOGEN2'] <= 0.5:\n",
        "    TP_DEOGEN.append(0)\n",
        "    TN_DEOGEN.append(0)\n",
        "    FP_DEOGEN.append(0)\n",
        "    FN_DEOGEN.append(1)\n",
        "  elif mut['label'] == 0 and mut['DEOGEN2'] >0.5:\n",
        "    TP_DEOGEN.append(0)\n",
        "    TN_DEOGEN.append(0)\n",
        "    FP_DEOGEN.append(1)\n",
        "    FN_DEOGEN.append(0)\n",
        "  elif mut['label'] == 0 and mut['DEOGEN2'] <= 0.5:\n",
        "    TP_DEOGEN.append(0)\n",
        "    TN_DEOGEN.append(1)\n",
        "    FP_DEOGEN.append(0)\n",
        "    FN_DEOGEN.append(0)\n",
        "  else:\n",
        "    TP_DEOGEN.append(0)\n",
        "    TN_DEOGEN.append(0)\n",
        "    FP_DEOGEN.append(0)\n",
        "    FN_DEOGEN.append(0)\n",
        "\n",
        "results['TP_DEOGEN'] =TP_DEOGEN\n",
        "results['TN_DEOGEN'] =TN_DEOGEN\n",
        "results['FP_DEOGEN'] =FP_DEOGEN\n",
        "results['FN_DEOGEN'] =FN_DEOGEN\n",
        "\n",
        "acc_DEOGEN = (results['TP_DEOGEN'].sum() + results['TN_DEOGEN'].sum()) / (results['TP_DEOGEN'].sum() + results['TN_DEOGEN'].sum() + results['FP_DEOGEN'].sum() + results['FN_DEOGEN'].sum())\n",
        "\n",
        "# compute TP etc\n",
        "TP_eve, TN_eve, FP_eve, FN_eve=[],[],[],[]\n",
        "for i, mut in results.iterrows():\n",
        "  if mut['label'] == 1 and mut['EVE'] >=0.5:\n",
        "    TP_eve.append(1)\n",
        "    TN_eve.append(0)\n",
        "    FP_eve.append(0)\n",
        "    FN_eve.append(0)\n",
        "  elif mut['label'] == 1 and mut['EVE'] < 0.5:\n",
        "    TP_eve.append(0)\n",
        "    TN_eve.append(0)\n",
        "    FP_eve.append(0)\n",
        "    FN_eve.append(1)\n",
        "  elif mut['label'] == 0 and mut['EVE'] >=0.5:\n",
        "    TP_eve.append(0)\n",
        "    TN_eve.append(0)\n",
        "    FP_eve.append(1)\n",
        "    FN_eve.append(0)\n",
        "  elif mut['label'] == 0 and mut['EVE'] < 0.5:\n",
        "    TP_eve.append(0)\n",
        "    TN_eve.append(1)\n",
        "    FP_eve.append(0)\n",
        "    FN_eve.append(0)\n",
        "  else:\n",
        "    TP_eve.append(0)\n",
        "    TN_eve.append(0)\n",
        "    FP_eve.append(0)\n",
        "    FN_eve.append(0)\n",
        "\n",
        "results['TP_eve'] =TP_eve\n",
        "results['TN_eve'] =TN_eve\n",
        "results['FP_eve'] =FP_eve\n",
        "results['FN_eve'] =FN_eve\n",
        "\n",
        "acc_EVE = (results['TP_eve'].sum() + results['TN_eve'].sum()) / (results['TP_eve'].sum() + results['TN_eve'].sum() + results['FP_eve'].sum() + results['FN_eve'].sum())"
      ]
    },
    {
      "cell_type": "code",
      "execution_count": null,
      "metadata": {
        "id": "3Em6SS0Z50za"
      },
      "outputs": [],
      "source": [
        "# compute TP etc\n",
        "TP_FATH, TN_FATH, FP_FATH, FN_FATH=[],[],[],[]\n",
        "for i, mut in results.iterrows():\n",
        "  if mut['label'] == 1 and mut['FATHMM'] <-0.75:\n",
        "    TP_FATH.append(1)\n",
        "    TN_FATH.append(0)\n",
        "    FP_FATH.append(0)\n",
        "    FN_FATH.append(0)\n",
        "  elif mut['label'] == 1 and mut['FATHMM'] >= -0.75:\n",
        "    TP_FATH.append(0)\n",
        "    TN_FATH.append(0)\n",
        "    FP_FATH.append(0)\n",
        "    FN_FATH.append(1)\n",
        "  elif mut['label'] == 0 and mut['FATHMM'] <-0.75:\n",
        "    TP_FATH.append(0)\n",
        "    TN_FATH.append(0)\n",
        "    FP_FATH.append(1)\n",
        "    FN_FATH.append(0)\n",
        "  elif mut['label'] == 0 and mut['FATHMM'] >= -0.75:\n",
        "    TP_FATH.append(0)\n",
        "    TN_FATH.append(1)\n",
        "    FP_FATH.append(0)\n",
        "    FN_FATH.append(0)\n",
        "  else:\n",
        "    TP_FATH.append(0)\n",
        "    TN_FATH.append(0)\n",
        "    FP_FATH.append(0)\n",
        "    FN_FATH.append(0)\n",
        "\n",
        "results['TP_FATH'] =TP_FATH\n",
        "results['TN_FATH'] =TN_FATH\n",
        "results['FP_FATH'] =FP_FATH\n",
        "results['FN_FATH'] =FN_FATH\n",
        "acc_FATH = (results['TP_FATH'].sum() + results['TN_FATH'].sum()) / (results['TP_FATH'].sum() + results['TN_FATH'].sum() + results['FP_FATH'].sum() + results['FN_FATH'].sum())\n",
        "\n",
        "# compute TP etc\n",
        "TP_pol, TN_pol, FP_pol, FN_pol=[],[],[],[]\n",
        "for i, mut in results.iterrows():\n",
        "  if mut['label'] == 1 and mut['PolyPhen2'] >=0.49:\n",
        "    TP_pol.append(1)\n",
        "    TN_pol.append(0)\n",
        "    FP_pol.append(0)\n",
        "    FN_pol.append(0)\n",
        "  elif mut['label'] == 1 and mut['PolyPhen2'] < 0.49:\n",
        "    TP_pol.append(0)\n",
        "    TN_pol.append(0)\n",
        "    FP_pol.append(0)\n",
        "    FN_pol.append(1)\n",
        "  elif mut['label'] == 0 and mut['PolyPhen2'] > 0.49:\n",
        "    TP_pol.append(0)\n",
        "    TN_pol.append(0)\n",
        "    FP_pol.append(1)\n",
        "    FN_pol.append(0)\n",
        "  elif mut['label'] == 0 and mut['PolyPhen2'] < 0.49:\n",
        "    TP_pol.append(0)\n",
        "    TN_pol.append(1)\n",
        "    FP_pol.append(0)\n",
        "    FN_pol.append(0)\n",
        "  else:\n",
        "    TP_pol.append(0)\n",
        "    TN_pol.append(0)\n",
        "    FP_pol.append(0)\n",
        "    FN_pol.append(0)\n",
        "\n",
        "results['TP_pol'] =TP_pol\n",
        "results['TN_pol'] =TN_pol\n",
        "results['FP_pol'] =FP_pol\n",
        "results['FN_pol'] =FN_pol\n",
        "\n",
        "acc_pol = (results['TP_pol'].sum() + results['TN_pol'].sum()) / (results['TP_pol'].sum() + results['TN_pol'].sum() + results['FP_pol'].sum() + results['FN_pol'].sum())"
      ]
    },
    {
      "cell_type": "code",
      "execution_count": null,
      "metadata": {
        "id": "BSSq12pGZzsM"
      },
      "outputs": [],
      "source": [
        "sens_SIFT = sum(TP_SIFT) / (sum(TP_SIFT) + sum(FN_SIFT))\n",
        "spec_SIFT = sum(TN_SIFT) / (sum(TN_SIFT) + sum(FP_SIFT))\n",
        "print(sens_SIFT, spec_SIFT, acc_SIFT)\n",
        "\n",
        "#sensitivities & specificities\n",
        "sens_D2D = sum(TP_D2D) / (sum(TP_D2D) + sum(FN_D2D))\n",
        "spec_D2D = sum(TN_D2D) / (sum(TN_D2D) + sum(FP_D2D))\n",
        "print(sens_D2D, spec_D2D, acc_D2D)\n",
        "\n",
        "sens_EVE = sum(TP_eve) / (sum(TP_eve) + sum(FN_eve))\n",
        "spec_EVE = sum(TN_eve) / (sum(TN_eve) + sum(FP_eve))\n",
        "print(sens_EVE, spec_EVE, acc_EVE)\n",
        "\n",
        "sens_FATH = sum(TP_FATH) / (sum(TP_FATH) + sum(FN_FATH))\n",
        "spec_FATH = sum(TN_FATH) / (sum(TN_FATH) + sum(FP_FATH))\n",
        "print(sens_FATH, spec_FATH, acc_FATH)\n",
        "\n",
        "sens_pol = sum(TP_pol) / (sum(TP_pol) + sum(FN_pol))\n",
        "spec_pol = sum(TN_pol) / (sum(TN_pol) + sum(FP_pol))\n",
        "print(sens_pol, spec_pol, acc_pol)\n",
        "\n",
        "sens_DEOGEN = sum(TP_DEOGEN) / (sum(TP_DEOGEN) + sum(FN_DEOGEN))\n",
        "spec_DEOGEN = sum(TN_DEOGEN) / (sum(TN_DEOGEN) + sum(FP_DEOGEN))\n",
        "print(sens_DEOGEN, spec_DEOGEN, acc_DEOGEN)"
      ]
    },
    {
      "cell_type": "code",
      "source": [
        "D2Deep = [65, 78, 53]\n",
        "EVE = [55, 75, 41 ]\n",
        "FATHHM = [63, 76, 52]\n",
        "PolyPhen2 = [55, 87, 30 ]\n",
        "DEOGEN = [59, 79, 45 ]\n",
        "SIFT = [49, 73, 30 ]\n",
        "\n",
        "barWidth = 0.12\n",
        "figure(figsize=(12, 6), dpi=80)\n",
        "\n",
        "bars1 = [D2Deep, EVE, FATHHM, PolyPhen2, DEOGEN, SIFT ]\n",
        "r1 = np.arange(len(D2Deep))\n",
        "r2 = [x + barWidth for x in r1]\n",
        "r3 = [x + barWidth for x in r2]\n",
        "r4 = [x + barWidth for x in r3]\n",
        "r5 = [x + barWidth for x in r4]\n",
        "r6 = [x + barWidth for x in r5]\n",
        "\n",
        "\n",
        "# Make the plot\n",
        "plt.bar(r1, D2Deep, color = '#2292a7' , width=barWidth, edgecolor='white', label='D2Deep') #2166ac # ff0000 #334858 # 000000 '#ce1141' '#cd595a' da5a47\n",
        "plt.bar(r2, EVE, color='#ffc907', width=barWidth, edgecolor='white', label='EVE') # 67a9cf # fbb034 # cd595a # be0027 #eeb111' 8ba753\n",
        "plt.bar(r3, FATHHM, color='#56B4E9', width=barWidth, edgecolor='white', label='FATHMM_cancer') # d1e5f0 # c1d82f # 94938f # cf8d2e #02a388 #a6192e\n",
        "plt.bar(r4, PolyPhen2, color='#82ad27', width=barWidth, edgecolor='white', label='PolyPhen2') # CCFFE5 # 007ea3 # dbc5b0 # e4e932 #0087b4\n",
        "plt.bar(r5, DEOGEN, color='#695647', width=barWidth, edgecolor='white', label='DEOGEN2') # FFCCE5 # 00a4e4 # f8dfc2 # 2c9f45 #5654a4\n",
        "plt.bar(r6, SIFT, color='#4234a4', width=barWidth, edgecolor='white', label='SIFT') # FFCCE5 # 9e4770 #f9ebdf # 371777\n",
        "\n",
        "# Add xticks on the middle of the group bars\n",
        "plt.title('Comparison of predictors for DRGN test set',fontname=\"Calibri\", fontsize=16)\n",
        "#plt.xticks([r + barWidth+0.16 for r in range(3)],  ['Sensitivity', 'Specificity', ], rotation=35,fontname=\"Comic Sans MS\", fontsize=12)\n",
        "plt.xticks([r + barWidth+0.16 for r in range(3)],  ['Accuracy', 'Sensitivity', 'Specificity'], fontname=\"Calibri\", fontsize=16)\n",
        "plt.ylim(0, 100)\n",
        "plt.grid(axis = \"y\")\n",
        "# Create legend & Show graphic\n",
        "#plt.legend(fontsize=16)\n",
        "\n",
        "# Create legend & Show graphic\n",
        "plt.legend(bbox_to_anchor=(1.05, 1.0), loc='upper left', fontsize=14)"
      ],
      "metadata": {
        "id": "zhm-M_23UWd1"
      },
      "execution_count": null,
      "outputs": []
    },
    {
      "cell_type": "code",
      "source": [
        "# double-check FATHMM conversion\n",
        "results = pd.read_csv('/content/drive/MyDrive/my_colab/3rdYear/GMM/DRGN_mutations_012023_DEOGEN_etc.csv')\n",
        "results = results.dropna(subset=['FATHMM'])\n",
        "df = pd.DataFrame()\n",
        "df['result'] = results['FATHMM'].tolist()\n",
        "selected_rows = results[~results['FATHMM'].isnull()]\n",
        "selected_rows['FATHMM_pos'] = 1- NormalizeData(selected_rows['FATHMM'])\n",
        "condition1 = selected_rows['FATHMM'] < -0.75\n",
        "selected_rows['FATHMM_inter'] =np.where(condition1, selected_rows['FATHMM_pos']+0.2, selected_rows['FATHMM_pos'] )\n",
        "condition1 = selected_rows['FATHMM']<-9\n",
        "value = 1\n",
        "selected_rows['FATHMM_inter'] =np.where(condition1, value, selected_rows['FATHMM_inter'] )\n",
        "df['processed'] = selected_rows['FATHMM_inter'].tolist()\n",
        "# saving the dataframe\n",
        "df.to_csv('FATHMM.csv')"
      ],
      "metadata": {
        "id": "3oAku7TispPJ"
      },
      "execution_count": null,
      "outputs": []
    },
    {
      "cell_type": "code",
      "source": [
        "results = pd.read_csv('/content/drive/MyDrive/my_colab/3rdYear/GMM/DRGN_mutations_012023_DEOGEN_etc.csv')\n",
        "\n",
        "figure(figsize=(8, 6), dpi=80)\n",
        "lw=2\n",
        "\n",
        "#D2D\n",
        "# keep rows of resutls where D2D has values\n",
        "selected_rows = results[~results['D2D'].isnull()]\n",
        "fpr, tpr, _ = metrics.roc_curve(selected_rows['label'],  selected_rows['D2D'])\n",
        "auc = metrics.roc_auc_score(selected_rows['label'], selected_rows['D2D']) #  probability estimates of the positive class\n",
        "plt.plot(fpr,tpr,color=\"#2292a7\",label=\"D2D, auc=\"+str(round(auc, 3))) #d20962\n",
        "\n",
        "\n",
        "#EVE\n",
        "selected_rows = results[~results['EVE'].isnull()]\n",
        "condition1 = (selected_rows['EVE'] >= 0.5) & (selected_rows['EVE'] <= 0.62)\n",
        "selected_rows['EVE_inter'] =np.where(condition1, selected_rows['EVE'] - 0.13, selected_rows['EVE'] )\n",
        "\n",
        "condition2 = (selected_rows['EVE'] >= 0.38) & (selected_rows['EVE'] < 0.5)\n",
        "selected_rows['EVE_fin'] =np.where(condition2, selected_rows['EVE'] + 0.17, selected_rows['EVE_inter'] )\n",
        "\n",
        "fpr, tpr, _ = metrics.roc_curve(selected_rows['label'],  selected_rows['EVE_fin'])\n",
        "auc = metrics.roc_auc_score(selected_rows['label'], selected_rows['EVE_fin'])\n",
        "plt.plot(fpr,tpr,color=\"#ffc907\",label=\"EVE, auc=\"+str(round(auc, 3))) # 00a78e\n",
        "\n",
        "#FATHHM [-10, 10]\n",
        "selected_rows = results[~results['FATHMM'].isnull()]\n",
        "selected_rows['FATHMM_pos'] = 1- NormalizeData(selected_rows['FATHMM'])\n",
        "condition1 = selected_rows['FATHMM'] < -0.75\n",
        "selected_rows['FATHMM_inter'] =np.where(condition1, selected_rows['FATHMM_pos']+0.2, selected_rows['FATHMM_pos'] )\n",
        "condition1 = selected_rows['FATHMM']<-9\n",
        "value = 1\n",
        "selected_rows['FATHMM_inter'] =np.where(condition1, value, selected_rows['FATHMM_inter'] )\n",
        "\n",
        "fpr, tpr, _ = metrics.roc_curve(selected_rows['label'],  selected_rows['FATHMM_inter']) #+0.75\n",
        "auc = metrics.roc_auc_score(selected_rows['label'], selected_rows['FATHMM_inter']) # +0.75\n",
        "plt.plot(fpr,tpr,color=\"#56B4E9\",label=\"FATHMM_cancer, auc=\"+str(round(auc, 3))) # 00bce4 ##a6192e\n",
        "\n",
        "#Polyphen2\n",
        "selected_rows = results[~results['PolyPhen2'].isnull()]\n",
        "fpr, tpr, _ = metrics.roc_curve(selected_rows['label'],  selected_rows['PolyPhen2'])\n",
        "auc = metrics.roc_auc_score(selected_rows['label'], selected_rows['PolyPhen2'])\n",
        "plt.plot(fpr,tpr,color=\"#82ad27\",label=\"PolyPhen2, auc=\"+str(round(auc, 3))) # 00bce4\n",
        "\n",
        "#DEOGEN2\n",
        "selected_rows = results[~results['DEOGEN2'].isnull()]\n",
        "fpr, tpr, _ = metrics.roc_curve(selected_rows['label'],  selected_rows['DEOGEN2'])\n",
        "auc = metrics.roc_auc_score(selected_rows['label'], selected_rows['DEOGEN2'])\n",
        "plt.plot(fpr,tpr,color=\"#695647\",label=\"DEOGEN, auc=\"+str(round(auc, 3))) # 7d3f98\n",
        "plt.plot([0, 1], [0, 1], color=\"lightgray\", lw=lw, linestyle=\"--\")\n",
        "\n",
        "#SIFT [0, 1]\n",
        "selected_rows = results[~results['SIFT'].isnull()]\n",
        "selected_rows['SIFT_pos'] = 1 - selected_rows['SIFT']\n",
        "condition1 = selected_rows['SIFT']<=0.05\n",
        "selected_rows['SIFT_inter'] =np.where(condition1,  1- selected_rows['SIFT'], 1- selected_rows['SIFT'] -0.5 )\n",
        "condition2 = selected_rows['SIFT_inter']<0\n",
        "selected_rows['SIFT_values'] =np.where(condition2,  0, selected_rows['SIFT_inter'] )\n",
        "\n",
        "fpr, tpr, _ = metrics.roc_curve(selected_rows['label'], selected_rows['SIFT_values'])\n",
        "auc = metrics.roc_auc_score(selected_rows['label'], selected_rows['SIFT_values'])\n",
        "plt.plot(fpr,tpr,color=\"#4234a4\",label=\"SIFT, auc=\"+str(round(auc, 3)))\n",
        "plt.legend(loc=4, prop={'size': 14})\n",
        "plt.xlabel(\"False Positive Rate\", fontname=\"Calibri\",fontsize=13)\n",
        "plt.ylabel(\"True Positive Rate\", fontname=\"Calibri\",fontsize=13)\n",
        "plt.title(\"ROC curves DRGN set\",fontname=\"Calibri\",fontsize=16)\n",
        "plt.rcParams[\"figure.figsize\"] = (8,8)\n",
        "\n",
        "plt.show()"
      ],
      "metadata": {
        "id": "XoqrJvqsXahG"
      },
      "execution_count": null,
      "outputs": []
    },
    {
      "cell_type": "markdown",
      "source": [
        "Keep the overlapping predictions"
      ],
      "metadata": {
        "id": "CTFKlR8HcHPx"
      }
    },
    {
      "cell_type": "code",
      "source": [
        "results = pd.read_csv('/content/drive/MyDrive/my_colab/3rdYear/GMM/DRGN_mutations_012023_DEOGEN_etc.csv')\n",
        "results = results.dropna()\n",
        "print(len(results))"
      ],
      "metadata": {
        "id": "-_SdKI0ScLT2"
      },
      "execution_count": null,
      "outputs": []
    },
    {
      "cell_type": "code",
      "source": [
        "# compute TP for D2D\n",
        "TP_D2D, TN_D2D, FP_D2D, FN_D2D=[],[],[],[]\n",
        "for i, mut in results.iterrows():\n",
        "  if mut['label'] == 1 and mut['D2D'] >=0.5:\n",
        "    TP_D2D.append(1)\n",
        "    TN_D2D.append(0)\n",
        "    FP_D2D.append(0)\n",
        "    FN_D2D.append(0)\n",
        "  elif mut['label'] == 1 and mut['D2D'] < 0.5:\n",
        "    TP_D2D.append(0)\n",
        "    TN_D2D.append(0)\n",
        "    FP_D2D.append(0)\n",
        "    FN_D2D.append(1)\n",
        "  elif mut['label'] == 0 and mut['D2D'] >=0.5:\n",
        "    TP_D2D.append(0)\n",
        "    TN_D2D.append(0)\n",
        "    FP_D2D.append(1)\n",
        "    FN_D2D.append(0)\n",
        "  elif mut['label'] == 0 and mut['D2D'] < 0.5:\n",
        "    TP_D2D.append(0)\n",
        "    TN_D2D.append(1)\n",
        "    FP_D2D.append(0)\n",
        "    FN_D2D.append(0)\n",
        "  else:\n",
        "    TP_D2D.append(0)\n",
        "    TN_D2D.append(0)\n",
        "    FP_D2D.append(0)\n",
        "    FN_D2D.append(0)\n",
        "\n",
        "results['TP_D2D'] =TP_D2D\n",
        "results['TN_D2D'] =TN_D2D\n",
        "results['FP_D2D'] =FP_D2D\n",
        "results['FN_D2D'] =FN_D2D\n",
        "acc_D2D = (results['TP_D2D'].sum() + results['TN_D2D'].sum()) / (results['TP_D2D'].sum() + results['TN_D2D'].sum() + results['FP_D2D'].sum() + results['FN_D2D'].sum())\n",
        "\n",
        "# compute TP for SIFT\n",
        "results['SIFT'] = pd.to_numeric(results['SIFT'],errors='coerce')\n",
        "\n",
        "TP_SIFT, TN_SIFT, FP_SIFT, FN_SIFT=[],[],[],[]\n",
        "for i, mut in results.iterrows():\n",
        "  if (mut['label'] == 1) and (mut['SIFT'] <=0.05):\n",
        "    TP_SIFT.append(1)\n",
        "    TN_SIFT.append(0)\n",
        "    FP_SIFT.append(0)\n",
        "    FN_SIFT.append(0)\n",
        "  elif (mut['label'] == 1) and (mut['SIFT'] > 0.05):\n",
        "    TP_SIFT.append(0)\n",
        "    TN_SIFT.append(0)\n",
        "    FP_SIFT.append(0)\n",
        "    FN_SIFT.append(1)\n",
        "  elif (mut['label'] == 0) and (mut['SIFT'] <=0.05):\n",
        "    TP_SIFT.append(0)\n",
        "    TN_SIFT.append(0)\n",
        "    FP_SIFT.append(1)\n",
        "    FN_SIFT.append(0)\n",
        "  elif (mut['label'] == 0) and (mut['SIFT'] > 0.05):\n",
        "    TP_SIFT.append(0)\n",
        "    TN_SIFT.append(1)\n",
        "    FP_SIFT.append(0)\n",
        "    FN_SIFT.append(0)\n",
        "  else:\n",
        "    TP_SIFT.append(0)\n",
        "    TN_SIFT.append(0)\n",
        "    FP_SIFT.append(0)\n",
        "    FN_SIFT.append(0)\n",
        "\n",
        "results['TP_SIFT'] =TP_SIFT\n",
        "results['TN_SIFT'] =TN_SIFT\n",
        "results['FP_SIFT'] =FP_SIFT\n",
        "results['FN_SIFT'] =FN_SIFT\n",
        "\n",
        "acc_SIFT= (results['TP_SIFT'].sum() + results['TN_SIFT'].sum()) / (results['TP_SIFT'].sum() + results['TN_SIFT'].sum() + results['FP_SIFT'].sum() + results['FN_SIFT'].sum())\n",
        "\n",
        "# compute TP etc\n",
        "TP_DEOGEN, TN_DEOGEN, FP_DEOGEN, FN_DEOGEN=[],[],[],[]\n",
        "for i, mut in results.iterrows():\n",
        "  if mut['label'] == 1 and mut['DEOGEN2'] >0.5:\n",
        "    TP_DEOGEN.append(1)\n",
        "    TN_DEOGEN.append(0)\n",
        "    FP_DEOGEN.append(0)\n",
        "    FN_DEOGEN.append(0)\n",
        "  elif mut['label'] == 1 and mut['DEOGEN2'] <= 0.5:\n",
        "    TP_DEOGEN.append(0)\n",
        "    TN_DEOGEN.append(0)\n",
        "    FP_DEOGEN.append(0)\n",
        "    FN_DEOGEN.append(1)\n",
        "  elif mut['label'] == 0 and mut['DEOGEN2'] >0.5:\n",
        "    TP_DEOGEN.append(0)\n",
        "    TN_DEOGEN.append(0)\n",
        "    FP_DEOGEN.append(1)\n",
        "    FN_DEOGEN.append(0)\n",
        "  elif mut['label'] == 0 and mut['DEOGEN2'] <= 0.5:\n",
        "    TP_DEOGEN.append(0)\n",
        "    TN_DEOGEN.append(1)\n",
        "    FP_DEOGEN.append(0)\n",
        "    FN_DEOGEN.append(0)\n",
        "  else:\n",
        "    TP_DEOGEN.append(0)\n",
        "    TN_DEOGEN.append(0)\n",
        "    FP_DEOGEN.append(0)\n",
        "    FN_DEOGEN.append(0)\n",
        "\n",
        "results['TP_DEOGEN'] =TP_DEOGEN\n",
        "results['TN_DEOGEN'] =TN_DEOGEN\n",
        "results['FP_DEOGEN'] =FP_DEOGEN\n",
        "results['FN_DEOGEN'] =FN_DEOGEN\n",
        "\n",
        "acc_DEOGEN = (results['TP_DEOGEN'].sum() + results['TN_DEOGEN'].sum()) / (results['TP_DEOGEN'].sum() + results['TN_DEOGEN'].sum() + results['FP_DEOGEN'].sum() + results['FN_DEOGEN'].sum())\n",
        "\n",
        "# compute TP etc\n",
        "TP_eve, TN_eve, FP_eve, FN_eve=[],[],[],[]\n",
        "for i, mut in results.iterrows():\n",
        "  if mut['label'] == 1 and mut['EVE'] >=0.5:\n",
        "    TP_eve.append(1)\n",
        "    TN_eve.append(0)\n",
        "    FP_eve.append(0)\n",
        "    FN_eve.append(0)\n",
        "  elif mut['label'] == 1 and mut['EVE'] < 0.5:\n",
        "    TP_eve.append(0)\n",
        "    TN_eve.append(0)\n",
        "    FP_eve.append(0)\n",
        "    FN_eve.append(1)\n",
        "  elif mut['label'] == 0 and mut['EVE'] >=0.5:\n",
        "    TP_eve.append(0)\n",
        "    TN_eve.append(0)\n",
        "    FP_eve.append(1)\n",
        "    FN_eve.append(0)\n",
        "  elif mut['label'] == 0 and mut['EVE'] < 0.5:\n",
        "    TP_eve.append(0)\n",
        "    TN_eve.append(1)\n",
        "    FP_eve.append(0)\n",
        "    FN_eve.append(0)\n",
        "  else:\n",
        "    TP_eve.append(0)\n",
        "    TN_eve.append(0)\n",
        "    FP_eve.append(0)\n",
        "    FN_eve.append(0)\n",
        "\n",
        "results['TP_eve'] =TP_eve\n",
        "results['TN_eve'] =TN_eve\n",
        "results['FP_eve'] =FP_eve\n",
        "results['FN_eve'] =FN_eve\n",
        "\n",
        "acc_EVE = (results['TP_eve'].sum() + results['TN_eve'].sum()) / (results['TP_eve'].sum() + results['TN_eve'].sum() + results['FP_eve'].sum() + results['FN_eve'].sum())"
      ],
      "metadata": {
        "id": "vlf3ewvcc8D3"
      },
      "execution_count": null,
      "outputs": []
    },
    {
      "cell_type": "code",
      "source": [
        "# compute TP etc\n",
        "TP_FATH, TN_FATH, FP_FATH, FN_FATH=[],[],[],[]\n",
        "for i, mut in results.iterrows():\n",
        "  if mut['label'] == 1 and mut['FATHMM'] <-0.75:\n",
        "    TP_FATH.append(1)\n",
        "    TN_FATH.append(0)\n",
        "    FP_FATH.append(0)\n",
        "    FN_FATH.append(0)\n",
        "  elif mut['label'] == 1 and mut['FATHMM'] >= -0.75:\n",
        "    TP_FATH.append(0)\n",
        "    TN_FATH.append(0)\n",
        "    FP_FATH.append(0)\n",
        "    FN_FATH.append(1)\n",
        "  elif mut['label'] == 0 and mut['FATHMM'] <-0.75:\n",
        "    TP_FATH.append(0)\n",
        "    TN_FATH.append(0)\n",
        "    FP_FATH.append(1)\n",
        "    FN_FATH.append(0)\n",
        "  elif mut['label'] == 0 and mut['FATHMM'] >= -0.75:\n",
        "    TP_FATH.append(0)\n",
        "    TN_FATH.append(1)\n",
        "    FP_FATH.append(0)\n",
        "    FN_FATH.append(0)\n",
        "  else:\n",
        "    TP_FATH.append(0)\n",
        "    TN_FATH.append(0)\n",
        "    FP_FATH.append(0)\n",
        "    FN_FATH.append(0)\n",
        "\n",
        "results['TP_FATH'] =TP_FATH\n",
        "results['TN_FATH'] =TN_FATH\n",
        "results['FP_FATH'] =FP_FATH\n",
        "results['FN_FATH'] =FN_FATH\n",
        "acc_FATH = (results['TP_FATH'].sum() + results['TN_FATH'].sum()) / (results['TP_FATH'].sum() + results['TN_FATH'].sum() + results['FP_FATH'].sum() + results['FN_FATH'].sum())\n",
        "\n",
        "# compute TP etc\n",
        "TP_pol, TN_pol, FP_pol, FN_pol=[],[],[],[]\n",
        "for i, mut in results.iterrows():\n",
        "  if mut['label'] == 1 and mut['PolyPhen2'] >=0.49:\n",
        "    TP_pol.append(1)\n",
        "    TN_pol.append(0)\n",
        "    FP_pol.append(0)\n",
        "    FN_pol.append(0)\n",
        "  elif mut['label'] == 1 and mut['PolyPhen2'] < 0.49:\n",
        "    TP_pol.append(0)\n",
        "    TN_pol.append(0)\n",
        "    FP_pol.append(0)\n",
        "    FN_pol.append(1)\n",
        "  elif mut['label'] == 0 and mut['PolyPhen2'] > 0.49:\n",
        "    TP_pol.append(0)\n",
        "    TN_pol.append(0)\n",
        "    FP_pol.append(1)\n",
        "    FN_pol.append(0)\n",
        "  elif mut['label'] == 0 and mut['PolyPhen2'] < 0.49:\n",
        "    TP_pol.append(0)\n",
        "    TN_pol.append(1)\n",
        "    FP_pol.append(0)\n",
        "    FN_pol.append(0)\n",
        "  else:\n",
        "    TP_pol.append(0)\n",
        "    TN_pol.append(0)\n",
        "    FP_pol.append(0)\n",
        "    FN_pol.append(0)\n",
        "\n",
        "results['TP_pol'] =TP_pol\n",
        "results['TN_pol'] =TN_pol\n",
        "results['FP_pol'] =FP_pol\n",
        "results['FN_pol'] =FN_pol\n",
        "\n",
        "acc_pol = (results['TP_pol'].sum() + results['TN_pol'].sum()) / (results['TP_pol'].sum() + results['TN_pol'].sum() + results['FP_pol'].sum() + results['FN_pol'].sum())"
      ],
      "metadata": {
        "id": "nvsNmKEic8F7"
      },
      "execution_count": null,
      "outputs": []
    },
    {
      "cell_type": "code",
      "source": [
        "sens_SIFT = sum(TP_SIFT) / (sum(TP_SIFT) + sum(FN_SIFT))\n",
        "spec_SIFT = sum(TN_SIFT) / (sum(TN_SIFT) + sum(FP_SIFT))\n",
        "print('SIFT:', round(sens_SIFT, 2), round(spec_SIFT, 2),round(acc_SIFT, 2))\n",
        "\n",
        "#sensitivities & specificities\n",
        "sens_D2D = sum(TP_D2D) / (sum(TP_D2D) + sum(FN_D2D))\n",
        "spec_D2D = sum(TN_D2D) / (sum(TN_D2D) + sum(FP_D2D))\n",
        "print('D2Deep:',round(sens_D2D, 2), round(spec_D2D, 2), round(acc_D2D, 2))\n",
        "\n",
        "sens_EVE = sum(TP_eve) / (sum(TP_eve) + sum(FN_eve))\n",
        "spec_EVE = sum(TN_eve) / (sum(TN_eve) + sum(FP_eve))\n",
        "print('EVE:',round(sens_EVE, 2), round(spec_EVE, 2), round(acc_EVE, 2))\n",
        "\n",
        "sens_FATH = sum(TP_FATH) / (sum(TP_FATH) + sum(FN_FATH))\n",
        "spec_FATH = sum(TN_FATH) / (sum(TN_FATH) + sum(FP_FATH))\n",
        "print('FATHMM:',round(sens_FATH, 2), round(spec_FATH, 2), round(acc_FATH, 2))\n",
        "\n",
        "sens_pol = sum(TP_pol) / (sum(TP_pol) + sum(FN_pol))\n",
        "spec_pol = sum(TN_pol) / (sum(TN_pol) + sum(FP_pol))\n",
        "print('Polyphen2:',round(sens_pol, 2), round(spec_pol, 2), round(acc_pol, 2))\n",
        "\n",
        "sens_DEOGEN = sum(TP_DEOGEN) / (sum(TP_DEOGEN) + sum(FN_DEOGEN))\n",
        "spec_DEOGEN = sum(TN_DEOGEN) / (sum(TN_DEOGEN) + sum(FP_DEOGEN))\n",
        "print('DEOGEN:',round(sens_DEOGEN, 2), round(spec_DEOGEN, 2), round(acc_DEOGEN, 2))"
      ],
      "metadata": {
        "id": "VruyVbxEcLV_"
      },
      "execution_count": null,
      "outputs": []
    },
    {
      "cell_type": "code",
      "source": [
        "D2Deep = [64, 80, 50]\n",
        "EVE = [56, 75, 39 ]\n",
        "FATHHM = [62, 80, 46]\n",
        "PolyPhen2 = [53, 89, 21 ]\n",
        "DEOGEN = [54, 89, 23 ]\n",
        "SIFT = [50, 78, 25 ]\n",
        "\n",
        "barWidth = 0.12\n",
        "figure(figsize=(12, 6), dpi=80)\n",
        "\n",
        "bars1 = [D2Deep, EVE, FATHHM, PolyPhen2, DEOGEN, SIFT ]\n",
        "r1 = np.arange(len(D2Deep))\n",
        "r2 = [x + barWidth for x in r1]\n",
        "r3 = [x + barWidth for x in r2]\n",
        "r4 = [x + barWidth for x in r3]\n",
        "r5 = [x + barWidth for x in r4]\n",
        "r6 = [x + barWidth for x in r5]\n",
        "\n",
        "\n",
        "# Make the plot\n",
        "plt.bar(r1, D2Deep, color = '#2292a7' , width=barWidth, edgecolor='white', label='D2Deep') #2166ac # ff0000 #334858 # 000000 '#ce1141' '#cd595a' da5a47\n",
        "plt.bar(r2, EVE, color='#ffc907', width=barWidth, edgecolor='white', label='EVE') # 67a9cf # fbb034 # cd595a # be0027 #eeb111' 8ba753\n",
        "plt.bar(r3, FATHHM, color='#56B4E9', width=barWidth, edgecolor='white', label='FATHMM_cancer') # #CC79A7 #a6192e #D55E00 #CC79A7\n",
        "plt.bar(r4, PolyPhen2, color='#82ad27', width=barWidth, edgecolor='white', label='PolyPhen2') # CCFFE5 # 007ea3 # dbc5b0 # e4e932 #0087b4\n",
        "plt.bar(r5, DEOGEN, color='#695647', width=barWidth, edgecolor='white', label='DEOGEN2') # FFCCE5 # 00a4e4 # f8dfc2 # 2c9f45 #5654a4\n",
        "plt.bar(r6, SIFT, color='#4234a4', width=barWidth, edgecolor='white', label='SIFT') # FFCCE5 # 9e4770 #f9ebdf # 371777\n",
        "\n",
        "# Add xticks on the middle of the group bars\n",
        "plt.title('Comparison of predictors for DRGN test set',fontname=\"Calibri\", fontsize=16)\n",
        "#plt.xticks([r + barWidth+0.16 for r in range(3)],  ['Sensitivity', 'Specificity', ], rotation=35,fontname=\"Comic Sans MS\", fontsize=12)\n",
        "plt.xticks([r + barWidth+0.16 for r in range(3)],  ['Accuracy', 'Sensitivity', 'Specificity'], fontname=\"Calibri\", fontsize=16)\n",
        "plt.ylim(0, 100)\n",
        "plt.grid(axis = \"y\")\n",
        "# Create legend & Show graphic\n",
        "#plt.legend(fontsize=16)\n",
        "\n",
        "# Create legend & Show graphic\n",
        "plt.legend(bbox_to_anchor=(1.05, 1.0), loc='upper left', fontsize=14)"
      ],
      "metadata": {
        "id": "1mNBpXWafZhN"
      },
      "execution_count": null,
      "outputs": []
    },
    {
      "cell_type": "code",
      "source": [
        "results = pd.read_csv('/content/drive/MyDrive/my_colab/3rdYear/GMM/DRGN_mutations_012023_DEOGEN_etc.csv')\n",
        "results=results.dropna()\n",
        "\n",
        "figure(figsize=(8, 6), dpi=80)\n",
        "lw=2\n",
        "#D2D\n",
        "# keep rows of resutls where D2D has values\n",
        "selected_rows = results[~results['D2D'].isnull()]\n",
        "fpr, tpr, _ = metrics.roc_curve(selected_rows['label'],  selected_rows['D2D'])\n",
        "auc = metrics.roc_auc_score(selected_rows['label'], selected_rows['D2D']) #  probability estimates of the positive class\n",
        "plt.plot(fpr,tpr,color=\"#2292a7\",label=\"D2D, auc=\"+str(round(auc, 3))) #d20962\n",
        "\n",
        "#EVE\n",
        "selected_rows = results[~results['EVE'].isnull()]\n",
        "condition1 = (selected_rows['EVE'] >= 0.5) & (selected_rows['EVE'] <= 0.62)\n",
        "selected_rows['EVE_inter'] =np.where(condition1, selected_rows['EVE'] - 0.13, selected_rows['EVE'] )\n",
        "\n",
        "condition2 = (selected_rows['EVE'] >= 0.38) & (selected_rows['EVE'] < 0.5)\n",
        "selected_rows['EVE_fin'] =np.where(condition2, selected_rows['EVE'] + 0.17, selected_rows['EVE_inter'] )\n",
        "\n",
        "fpr, tpr, _ = metrics.roc_curve(selected_rows['label'],  selected_rows['EVE_fin'])\n",
        "auc = metrics.roc_auc_score(selected_rows['label'], selected_rows['EVE_fin'])\n",
        "plt.plot(fpr,tpr,color=\"#ffc907\",label=\"EVE, auc=\"+str(round(auc, 3))) # 00a78e\n",
        "\n",
        "#FATHHM [-10, 10]\n",
        "selected_rows = results[~results['FATHMM'].isnull()]\n",
        "selected_rows['FATHMM_pos'] = 1- NormalizeData(selected_rows['FATHMM'])\n",
        "condition1 = selected_rows['FATHMM'] < -0.75\n",
        "selected_rows['FATHMM_inter'] =np.where(condition1, selected_rows['FATHMM_pos']+0.2, selected_rows['FATHMM_pos'] )\n",
        "condition1 = selected_rows['FATHMM']<-9\n",
        "value = 1\n",
        "selected_rows['FATHMM_inter'] =np.where(condition1, value, selected_rows['FATHMM_inter'] )\n",
        "\n",
        "fpr, tpr, _ = metrics.roc_curve(selected_rows['label'],  selected_rows['FATHMM_inter']) #+0.75\n",
        "auc = metrics.roc_auc_score(selected_rows['label'], selected_rows['FATHMM_inter']) # +0.75\n",
        "plt.plot(fpr,tpr,color=\"#56B4E9\",label=\"FATHMM_cancer, auc=\"+str(round(auc, 3))) # 00bce4 #\n",
        "\n",
        "#Polyphen2\n",
        "selected_rows = results[~results['PolyPhen2'].isnull()]\n",
        "fpr, tpr, _ = metrics.roc_curve(selected_rows['label'],  selected_rows['PolyPhen2'])\n",
        "auc = metrics.roc_auc_score(selected_rows['label'], selected_rows['PolyPhen2'])\n",
        "plt.plot(fpr,tpr,color=\"#82ad27\",label=\"PolyPhen2, auc=\"+str(round(auc, 3))) # 00bce4\n",
        "\n",
        "#DEOGEN2\n",
        "selected_rows = results[~results['DEOGEN2'].isnull()]\n",
        "fpr, tpr, _ = metrics.roc_curve(selected_rows['label'],  selected_rows['DEOGEN2'])\n",
        "auc = metrics.roc_auc_score(selected_rows['label'], selected_rows['DEOGEN2'])\n",
        "plt.plot(fpr,tpr,color=\"#695647\",label=\"DEOGEN, auc=\"+str(round(auc, 3))) # 7d3f98\n",
        "plt.plot([0, 1], [0, 1], color=\"lightgray\", lw=lw, linestyle=\"--\")\n",
        "\n",
        "#SIFT [0, 1]\n",
        "selected_rows = results[~results['SIFT'].isnull()]\n",
        "selected_rows['SIFT_pos'] = 1 - selected_rows['SIFT']\n",
        "condition1 = selected_rows['SIFT']<=0.05\n",
        "selected_rows['SIFT_inter'] =np.where(condition1,  1- selected_rows['SIFT'], 1- selected_rows['SIFT'] -0.5 )\n",
        "condition2 = selected_rows['SIFT_inter']<0\n",
        "selected_rows['SIFT_values'] =np.where(condition2,  0, selected_rows['SIFT_inter'] )\n",
        "\n",
        "fpr, tpr, _ = metrics.roc_curve(selected_rows['label'], selected_rows['SIFT_values'])\n",
        "auc = metrics.roc_auc_score(selected_rows['label'], selected_rows['SIFT_values'])\n",
        "plt.plot(fpr,tpr,color=\"#4234a4\",label=\"SIFT, auc=\"+str(round(auc, 3)))\n",
        "plt.legend(loc=4, prop={'size': 14})\n",
        "plt.xlabel(\"False Positive Rate\", fontname=\"Calibri\",fontsize=13)\n",
        "plt.ylabel(\"True Positive Rate\", fontname=\"Calibri\",fontsize=13)\n",
        "plt.title(\"ROC curves DRGN set\",fontname=\"Calibri\",fontsize=16)\n",
        "plt.rcParams[\"figure.figsize\"] = (8,8)\n",
        "\n",
        "plt.show()"
      ],
      "metadata": {
        "id": "zfaQtcyWdHF4"
      },
      "execution_count": null,
      "outputs": []
    },
    {
      "cell_type": "code",
      "source": [],
      "metadata": {
        "id": "gsX1AFuMdHHz"
      },
      "execution_count": null,
      "outputs": []
    },
    {
      "cell_type": "markdown",
      "metadata": {
        "id": "CFEFvk5hz3Zv"
      },
      "source": [
        "### Are there genes easier to predict than others? Outdated"
      ]
    },
    {
      "cell_type": "code",
      "execution_count": null,
      "metadata": {
        "id": "73h1yAlOTjiO"
      },
      "outputs": [],
      "source": [
        "results = pd.read_csv('/content/drive/MyDrive/my_colab/3rdYear/GMM/DRGN_mutations_122022_sorted.csv')"
      ]
    },
    {
      "cell_type": "code",
      "execution_count": null,
      "metadata": {
        "id": "omA0jhPfz7Gf"
      },
      "outputs": [],
      "source": [
        "# create D2D dictionary with keys: genes, values: (TP, TN, FP, FN)\n",
        "genes = results['uniprot id'].unique()\n",
        "D2D_results_genes = {}\n",
        "for gene in genes:\n",
        "  temp = results[results['uniprot id'] == gene]\n",
        "  for i, mut in temp.iterrows():\n",
        "    if mut['label'] == 1 and mut['D2D'] >=0.5:\n",
        "      if gene in D2D_results_genes:\n",
        "        D2D_results_genes[gene][0] +=1\n",
        "      else:\n",
        "        D2D_results_genes[gene] =[1, 0, 0, 0]\n",
        "    elif mut['label'] == 1 and mut['D2D'] < 0.5:\n",
        "      if gene in D2D_results_genes:\n",
        "        D2D_results_genes[gene][3] +=1\n",
        "      else:\n",
        "        D2D_results_genes[gene] =[0, 0, 0, 1]\n",
        "    elif mut['label'] == 0 and mut['D2D'] >=0.5:\n",
        "      if gene in D2D_results_genes:\n",
        "        D2D_results_genes[gene][2] +=1\n",
        "      else:\n",
        "        D2D_results_genes[gene] =[0, 0, 1, 0]\n",
        "    elif mut['label'] == 0 and mut['D2D'] < 0.5:\n",
        "      if gene in D2D_results_genes:\n",
        "        D2D_results_genes[gene][1] +=1\n",
        "      else:\n",
        "        D2D_results_genes[gene]  =[0, 1, 0, 0]\n",
        "\n",
        "#  for all genes, calculate sensitivity and specificity\n",
        "D2D_results_genes_sens={}\n",
        "D2D_results_genes_spec={}\n",
        "for keys, values in D2D_results_genes.items():\n",
        "  if D2D_results_genes[keys][0]>0:\n",
        "    sens = round(D2D_results_genes[keys][0] / (D2D_results_genes[keys][0]+ D2D_results_genes[keys][3]),2)\n",
        "  else:\n",
        "    sens = 0\n",
        "  if D2D_results_genes[keys][1]>0:\n",
        "    spec =  round(D2D_results_genes[keys][1] / (D2D_results_genes[keys][1]+ D2D_results_genes[keys][2]),2)\n",
        "  else:\n",
        "    spec=0\n",
        "  D2D_results_genes_sens[keys] =sens\n",
        "  D2D_results_genes_spec[keys]= spec\n",
        "\n",
        "dict_new = dict(sorted(D2D_results_genes_sens.items(), key=lambda item: item[1],reverse=True))\n",
        "names_sens = list(dict_new.keys())\n",
        "values_sens = list(dict_new.values())\n",
        "\n",
        "dict_new = dict(sorted(D2D_results_genes_spec.items(), key=lambda item: item[1],reverse=True))\n",
        "names_spec = list(dict_new.keys())\n",
        "values_spec = list(dict_new.values())\n",
        "\n",
        "#print(names_sens[:30])\n",
        "#print(names_spec[:30])\n",
        "# find 50 proteins with highest sensitivities AND specificities\n",
        "easier_proteins = intersection(names_sens[:100], names_spec[:100])\n",
        "hardest_proteins= intersection(names_sens[100:], names_spec[100:])\n",
        "print(easier_proteins)\n",
        "print(hardest_proteins)\n",
        "#figure(figsize=(30, 10), dpi=80)\n",
        "#plt.bar(range(30), values_sens[:30], tick_label=names_sens[:30])\n",
        "#plt.xticks(rotation=45)\n",
        "#plt.show()\n",
        "\n",
        "#figure(figsize=(30, 10), dpi=80)\n",
        "#plt.bar(range(30), values_spec[:30], tick_label=names_spec[:30])\n",
        "#plt.xticks(rotation=45)\n",
        "#plt.show()"
      ]
    },
    {
      "cell_type": "markdown",
      "source": [
        "#### What are the training variants for those best / worst genes?"
      ],
      "metadata": {
        "id": "8D7Oz05QKpHO"
      }
    },
    {
      "cell_type": "code",
      "source": [
        "dict_prot_dif_mut = {} # deleterious / benign samples in training set\n",
        "for ind, mut in dif_mut.iterrows():\n",
        "    pr = mut['mutation'].split('_')[0]\n",
        "    if pr not in dict_prot_dif_mut:\n",
        "      if mut['label'] == 0:\n",
        "        dict_prot_dif_mut[pr]= [1,0]\n",
        "      else:\n",
        "        dict_prot_dif_mut[pr]= [0,1]\n",
        "    else:\n",
        "      if mut['label'] == 0:\n",
        "        dict_prot_dif_mut[pr][0]+= 1\n",
        "      else:\n",
        "        dict_prot_dif_mut[pr][1]+= 1"
      ],
      "metadata": {
        "id": "-3flB1qSt4hx"
      },
      "execution_count": null,
      "outputs": []
    },
    {
      "cell_type": "code",
      "source": [
        "easy_flag, protein, train_del, train_ben, test_del, test_ben = [],[],[],[],[],[]\n",
        "for prot in easier_proteins:\n",
        "  easy_flag.append(1)\n",
        "  protein.append(prot)\n",
        "  if prot not in dict_prot_dif_mut:\n",
        "    train_del.append(0)\n",
        "    train_ben.append(0)\n",
        "  else:\n",
        "    train_del.append(dict_prot_dif_mut[prot][1])\n",
        "    train_ben.append(dict_prot_dif_mut[prot][0])\n",
        "  temp = results[results['uniprot id'] == prot]\n",
        "  temp_del = temp[temp['label'] ==1]\n",
        "  temp_ben = temp[temp['label'] ==0]\n",
        "  test_del.append(len(temp_del))\n",
        "  test_ben.append(len(temp_ben))\n",
        "\n",
        "for prot in hardest_proteins:\n",
        "  easy_flag.append(0)\n",
        "  protein.append(prot)\n",
        "  if prot not in dict_prot_dif_mut:\n",
        "    train_del.append(0)\n",
        "    train_ben.append(0)\n",
        "  else:\n",
        "    train_del.append(dict_prot_dif_mut[prot][1])\n",
        "    train_ben.append(dict_prot_dif_mut[prot][0])\n",
        "  temp = results[results['uniprot id'] == prot]\n",
        "  temp_del = temp[temp['label'] ==1]\n",
        "  temp_ben = temp[temp['label'] ==0]\n",
        "  test_del.append(len(temp_del))\n",
        "  test_ben.append(len(temp_ben))\n",
        "\n",
        "easy_hard_comb= pd.DataFrame(list(zip(easy_flag, protein, train_del, train_ben, test_del, test_ben)),\n",
        "               columns =['easy_flag', 'protein', 'train_del', 'train_ben', 'test_del', 'test_ben'])#, 'Length'])"
      ],
      "metadata": {
        "id": "uCXuFCe6uFul"
      },
      "execution_count": null,
      "outputs": []
    },
    {
      "cell_type": "code",
      "source": [
        "easy_hard_comb.boxplot(column=['train_del', 'train_ben', 'test_del', 'test_ben'], by='easy_flag', figsize=(12, 8))\n",
        "plt.show()"
      ],
      "metadata": {
        "id": "g4Agc-9mxeoB"
      },
      "execution_count": null,
      "outputs": []
    },
    {
      "cell_type": "code",
      "source": [
        "easy_flag, protein, msa_len_orig, msa_final, msa_dif = [],[],[],[],[]\n",
        "for prot in easier_proteins:\n",
        "  easy_flag.append(1)\n",
        "  protein.append(prot)\n",
        "  if prot not in dict_prot_dif_mut:\n",
        "    continue\n",
        "  else:\n",
        "    msa_len_orig.append(int(msa_orig_nb[prot]))\n",
        "    msa_final.append(int(msa_final_nb[prot]))\n",
        "    msa_dif.append(int(msa_orig_nb[prot]) - int(msa_final_nb[prot]))\n",
        "\n",
        "for prot in hardest_proteins:\n",
        "  easy_flag.append(0)\n",
        "  protein.append(prot)\n",
        "  if prot not in dict_prot_dif_mut:\n",
        "    continue\n",
        "  else:\n",
        "    msa_len_orig.append(int(msa_orig_nb[prot]))\n",
        "    msa_final.append(int(msa_final_nb[prot]))\n",
        "    msa_dif.append(int(msa_orig_nb[prot]) - int(msa_final_nb[prot]))\n",
        "\n",
        "easy_hard_msa= pd.DataFrame(list(zip(easy_flag, protein, msa_len_orig, msa_final, msa_dif)),\n",
        "               columns =['easy_flag', 'protein', 'msa_len_orig', 'msa_final', 'msa_dif'])#, 'Length'])"
      ],
      "metadata": {
        "id": "YBXvremm8rML"
      },
      "execution_count": null,
      "outputs": []
    },
    {
      "cell_type": "code",
      "source": [
        "easy_hard_msa.boxplot(column=['msa_len_orig', 'msa_final', 'msa_dif'], by='easy_flag', figsize=(12, 8))\n",
        "plt.show()"
      ],
      "metadata": {
        "id": "OwQTixlw9f0N"
      },
      "execution_count": null,
      "outputs": []
    },
    {
      "cell_type": "code",
      "source": [
        "samples_easy = 0\n",
        "training_len, sens, spec = [], [], []\n",
        "for i, easy_prot in enumerate(D2D_results_genes_sens.keys()):\n",
        "  temp = dif_mut[dif_mut['mutation'].str.contains(easy_prot)]\n",
        "  samples_easy += len(temp)\n",
        "  training_len.append(len(temp))\n",
        "  sens.append(D2D_results_genes_sens[easy_prot])\n",
        "  spec.append(D2D_results_genes_spec[easy_prot])\n",
        "plt.scatter(training_len, sens, label='sens', alpha = 0.6)\n",
        "plt.scatter(training_len, spec, label='spec', alpha = 0.6)\n",
        "\n",
        "# Add axis labels and a legend\n",
        "plt.xlabel('samples of protein present in trianing set')\n",
        "plt.ylabel('performance')\n",
        "plt.legend()\n",
        "\n",
        "# Show the plot\n",
        "plt.show()"
      ],
      "metadata": {
        "id": "XSmLX3OFaX5h"
      },
      "execution_count": null,
      "outputs": []
    },
    {
      "cell_type": "code",
      "source": [
        "from itertools import islice\n",
        "\n",
        "def take(n, iterable):\n",
        "    \"\"\"Return the first n items of the iterable as a list.\"\"\"\n",
        "    return list(islice(iterable, n))"
      ],
      "metadata": {
        "id": "A6sdJ2QdbXua"
      },
      "execution_count": null,
      "outputs": []
    },
    {
      "cell_type": "markdown",
      "source": [
        "#### Rest"
      ],
      "metadata": {
        "id": "TtQO3xBOKyzQ"
      }
    },
    {
      "cell_type": "code",
      "execution_count": null,
      "metadata": {
        "id": "XIp8VSjrz7Le"
      },
      "outputs": [],
      "source": [
        "# create EVE dictionary with keys: genes, values: (TP, TN, FP, FN)\n",
        "genes = results['uniprot id'].unique()\n",
        "EVE_results_genes = {}\n",
        "for gene in genes:\n",
        "  temp = results[results['uniprot id'] == gene]\n",
        "  for i, mut in temp.iterrows():\n",
        "    if mut['label'] == 1 and mut['EVE'] >=0.5:\n",
        "      if gene in EVE_results_genes:\n",
        "        EVE_results_genes[gene][0] +=1\n",
        "      else:\n",
        "        EVE_results_genes[gene] =[1, 0, 0, 0]\n",
        "    elif mut['label'] == 1 and mut['EVE'] < 0.5:\n",
        "      if gene in EVE_results_genes:\n",
        "        EVE_results_genes[gene][3] +=1\n",
        "      else:\n",
        "        EVE_results_genes[gene] =[0, 0, 0, 1]\n",
        "    elif mut['label'] == 0 and mut['EVE'] >=0.5:\n",
        "      if gene in EVE_results_genes:\n",
        "        EVE_results_genes[gene][2] +=1\n",
        "      else:\n",
        "        EVE_results_genes[gene] =[0, 0, 1, 0]\n",
        "    elif mut['label'] == 0 and mut['EVE'] < 0.5:\n",
        "      if gene in EVE_results_genes:\n",
        "        EVE_results_genes[gene][1] +=1\n",
        "      else:\n",
        "        EVE_results_genes[gene]  =[0, 1, 0, 0]\n",
        "\n",
        "#  for all genes, calculate sensitivity and specificity\n",
        "EVE_results_genes_sens={}\n",
        "EVE_results_genes_spec={}\n",
        "for keys, values in EVE_results_genes.items():\n",
        "  if EVE_results_genes[keys][0]>0:\n",
        "    sens = round(EVE_results_genes[keys][0] / (EVE_results_genes[keys][0]+ EVE_results_genes[keys][3]),2)\n",
        "  else:\n",
        "    sens = 0\n",
        "  if EVE_results_genes[keys][1]>0:\n",
        "    spec =  round(EVE_results_genes[keys][1] / (EVE_results_genes[keys][1]+ EVE_results_genes[keys][2]),2)\n",
        "  else:\n",
        "    spec=0\n",
        "  EVE_results_genes_sens[keys] =sens\n",
        "  EVE_results_genes_spec[keys]= spec\n",
        "\n",
        "dict_new = dict(sorted(EVE_results_genes_sens.items(), key=lambda item: item[1],reverse=True))\n",
        "names_sens = list(dict_new.keys())\n",
        "values_sens = list(dict_new.values())\n",
        "\n",
        "dict_new = dict(sorted(EVE_results_genes_spec.items(), key=lambda item: item[1],reverse=True))\n",
        "names_spec = list(dict_new.keys())\n",
        "values_spec = list(dict_new.values())\n",
        "\n",
        "print(names_sens[:30])\n",
        "#print(names_spec[:30])\n",
        "# find 50 proteins with highest sensitivities AND specificities\n",
        "easier_proteins = intersection(names_sens[:70], names_spec[:70])\n",
        "#print(easier_proteins)\n",
        "#figure(figsize=(30, 10), dpi=80)\n",
        "#plt.bar(range(30), values_sens[:30], tick_label=names_sens[:30])\n",
        "#plt.xticks(rotation=45)\n",
        "#plt.show()\n",
        "\n",
        "#figure(figsize=(30, 10), dpi=80)\n",
        "#plt.bar(range(30), values_spec[:30], tick_label=names_spec[:30])\n",
        "#plt.xticks(rotation=45)\n",
        "#plt.show()"
      ]
    },
    {
      "cell_type": "code",
      "execution_count": null,
      "metadata": {
        "id": "lXmr5rlr9cfn"
      },
      "outputs": [],
      "source": [
        "# create DEOGEN2 dictionary with keys: genes, values: (TP, TN, FP, FN)\n",
        "genes = results['uniprot id'].unique()\n",
        "DEOGEN2_results_genes = {}\n",
        "for gene in genes:\n",
        "  temp = results[results['uniprot id'] == gene]\n",
        "  for i, mut in temp.iterrows():\n",
        "    if mut['label'] == 1 and mut['DEOGEN2'] >=0.5:\n",
        "      if gene in DEOGEN2_results_genes:\n",
        "        DEOGEN2_results_genes[gene][0] +=1\n",
        "      else:\n",
        "        DEOGEN2_results_genes[gene] =[1, 0, 0, 0]\n",
        "    elif mut['label'] == 1 and mut['DEOGEN2'] < 0.5:\n",
        "      if gene in DEOGEN2_results_genes:\n",
        "        DEOGEN2_results_genes[gene][3] +=1\n",
        "      else:\n",
        "        DEOGEN2_results_genes[gene] =[0, 0, 0, 1]\n",
        "    elif mut['label'] == 0 and mut['DEOGEN2'] >=0.5:\n",
        "      if gene in DEOGEN2_results_genes:\n",
        "        DEOGEN2_results_genes[gene][2] +=1\n",
        "      else:\n",
        "        DEOGEN2_results_genes[gene] =[0, 0, 1, 0]\n",
        "    elif mut['label'] == 0 and mut['DEOGEN2'] < 0.5:\n",
        "      if gene in DEOGEN2_results_genes:\n",
        "        DEOGEN2_results_genes[gene][1] +=1\n",
        "      else:\n",
        "        DEOGEN2_results_genes[gene]  =[0, 1, 0, 0]\n",
        "\n",
        "#  for all genes, calculate sensitivity and specificity\n",
        "DEOGEN2_results_genes_sens={}\n",
        "DEOGEN2_results_genes_spec={}\n",
        "for keys, values in DEOGEN2_results_genes.items():\n",
        "  if DEOGEN2_results_genes[keys][0]>0:\n",
        "    sens = round(DEOGEN2_results_genes[keys][0] / (DEOGEN2_results_genes[keys][0]+ DEOGEN2_results_genes[keys][3]),2)\n",
        "  else:\n",
        "    sens = 0\n",
        "  if DEOGEN2_results_genes[keys][1]>0:\n",
        "    spec =  round(DEOGEN2_results_genes[keys][1] / (DEOGEN2_results_genes[keys][1]+ DEOGEN2_results_genes[keys][2]),2)\n",
        "  else:\n",
        "    spec=0\n",
        "  DEOGEN2_results_genes_sens[keys] =sens\n",
        "  DEOGEN2_results_genes_spec[keys]= spec\n",
        "\n",
        "dict_new = dict(sorted(DEOGEN2_results_genes_sens.items(), key=lambda item: item[1],reverse=True))\n",
        "names_sens = list(dict_new.keys())\n",
        "values_sens = list(dict_new.values())\n",
        "\n",
        "dict_new = dict(sorted(DEOGEN2_results_genes_spec.items(), key=lambda item: item[1],reverse=True))\n",
        "names_spec = list(dict_new.keys())\n",
        "values_spec = list(dict_new.values())\n",
        "\n",
        "print(names_sens[:30])\n",
        "#print(names_spec[:30])\n",
        "# find 50 proteins with highest sensitivities AND specificities\n",
        "easier_proteins = intersection(names_sens[:90], names_spec[:90])\n",
        "#print(easier_proteins)\n",
        "#figure(figsize=(30, 10), dpi=80)\n",
        "#plt.bar(range(30), values_sens[:30], tick_label=names_sens[:30])\n",
        "#plt.xticks(rotation=45)\n",
        "#plt.show()\n",
        "\n",
        "#figure(figsize=(30, 10), dpi=80)\n",
        "#plt.bar(range(30), values_spec[:30], tick_label=names_spec[:30])\n",
        "#plt.xticks(rotation=45)\n",
        "#plt.show()"
      ]
    },
    {
      "cell_type": "code",
      "execution_count": null,
      "metadata": {
        "id": "j6YPAwweolic"
      },
      "outputs": [],
      "source": [
        "# create polyphen2 dictionary with keys: genes, values: (TP, TN, FP, FN)\n",
        "genes = results['uniprot id'].unique()\n",
        "polyphen2_results_genes = {}\n",
        "for gene in genes:\n",
        "  temp = results[results['uniprot id'] == gene]\n",
        "  for i, mut in temp.iterrows():\n",
        "    if mut['label'] == 1 and mut['polyphen2'] >=0.49:\n",
        "      if gene in polyphen2_results_genes:\n",
        "        polyphen2_results_genes[gene][0] +=1\n",
        "      else:\n",
        "        polyphen2_results_genes[gene] =[1, 0, 0, 0]\n",
        "    elif mut['label'] == 1 and mut['polyphen2'] < 0.49:\n",
        "      if gene in polyphen2_results_genes:\n",
        "        polyphen2_results_genes[gene][3] +=1\n",
        "      else:\n",
        "        polyphen2_results_genes[gene] =[0, 0, 0, 1]\n",
        "    elif mut['label'] == 0 and mut['polyphen2'] >=0.49:\n",
        "      if gene in polyphen2_results_genes:\n",
        "        polyphen2_results_genes[gene][2] +=1\n",
        "      else:\n",
        "        polyphen2_results_genes[gene] =[0, 0, 1, 0]\n",
        "    elif mut['label'] == 0 and mut['polyphen2'] < 0.49:\n",
        "      if gene in polyphen2_results_genes:\n",
        "        polyphen2_results_genes[gene][1] +=1\n",
        "      else:\n",
        "        polyphen2_results_genes[gene]  =[0, 1, 0, 0]\n",
        "\n",
        "#  for all genes, calculate sensitivity and specificity\n",
        "polyphen2_results_genes_sens={}\n",
        "polyphen2_results_genes_spec={}\n",
        "for keys, values in polyphen2_results_genes.items():\n",
        "  if polyphen2_results_genes[keys][0]>0:\n",
        "    sens = round(polyphen2_results_genes[keys][0] / (polyphen2_results_genes[keys][0]+ polyphen2_results_genes[keys][3]),2)\n",
        "  else:\n",
        "    sens = 0\n",
        "  if polyphen2_results_genes[keys][1]>0:\n",
        "    spec =  round(polyphen2_results_genes[keys][1] / (polyphen2_results_genes[keys][1]+ polyphen2_results_genes[keys][2]),2)\n",
        "  else:\n",
        "    spec=0\n",
        "  polyphen2_results_genes_sens[keys] =sens\n",
        "  polyphen2_results_genes_spec[keys]= spec\n",
        "\n",
        "dict_new = dict(sorted(polyphen2_results_genes_sens.items(), key=lambda item: item[1],reverse=True))\n",
        "names_sens = list(dict_new.keys())\n",
        "values_sens = list(dict_new.values())\n",
        "\n",
        "dict_new = dict(sorted(polyphen2_results_genes_spec.items(), key=lambda item: item[1],reverse=True))\n",
        "names_spec = list(dict_new.keys())\n",
        "values_spec = list(dict_new.values())\n",
        "\n",
        "print(names_sens[:30])\n",
        "#print(names_spec[:30])\n",
        "# find 50 proteins with highest sensitivities AND specificities\n",
        "easier_proteins = intersection(names_sens[:90], names_spec[:90])\n",
        "#print(easier_proteins)\n",
        "#figure(figsize=(30, 10), dpi=80)\n",
        "#plt.bar(range(30), values_sens[:30], tick_label=names_sens[:30])\n",
        "#plt.xticks(rotation=45)\n",
        "#plt.show()\n",
        "\n",
        "#figure(figsize=(30, 10), dpi=80)\n",
        "#plt.bar(range(30), values_spec[:30], tick_label=names_spec[:30])\n",
        "#plt.xticks(rotation=45)\n",
        "#plt.show()"
      ]
    },
    {
      "cell_type": "code",
      "execution_count": null,
      "metadata": {
        "id": "8SwhUPq_-qT4"
      },
      "outputs": [],
      "source": [
        "# create SIFT dictionary with keys: genes, values: (TP, TN, FP, FN)\n",
        "genes = results['uniprot id'].unique()\n",
        "SIFT_results_genes = {}\n",
        "for gene in genes:\n",
        "  temp = results[results['uniprot id'] == gene]\n",
        "  for i, mut in temp.iterrows():\n",
        "    if mut['label'] == 1 and mut['SIFT'] <=0.05:\n",
        "      if gene in SIFT_results_genes:\n",
        "        SIFT_results_genes[gene][0] +=1\n",
        "      else:\n",
        "        SIFT_results_genes[gene] =[1, 0, 0, 0]\n",
        "    elif mut['label'] == 1 and mut['SIFT'] > 0.05:\n",
        "      if gene in SIFT_results_genes:\n",
        "        SIFT_results_genes[gene][3] +=1\n",
        "      else:\n",
        "        SIFT_results_genes[gene] =[0, 0, 0, 1]\n",
        "    elif mut['label'] == 0 and mut['SIFT'] <=0.05:\n",
        "      if gene in SIFT_results_genes:\n",
        "        SIFT_results_genes[gene][2] +=1\n",
        "      else:\n",
        "        SIFT_results_genes[gene] =[0, 0, 1, 0]\n",
        "    elif mut['label'] == 0 and mut['SIFT'] > 0.05:\n",
        "      if gene in SIFT_results_genes:\n",
        "        SIFT_results_genes[gene][1] +=1\n",
        "      else:\n",
        "        SIFT_results_genes[gene]  =[0, 1, 0, 0]\n",
        "\n",
        "\n",
        "#  for all genes, calculate sensitivity and specificity\n",
        "SIFT_results_genes_sens={}\n",
        "SIFT_results_genes_spec={}\n",
        "for keys, values in SIFT_results_genes.items():\n",
        "  if SIFT_results_genes[keys][0]>0:\n",
        "    sens = round(SIFT_results_genes[keys][0] / (SIFT_results_genes[keys][0]+ SIFT_results_genes[keys][3]),2)\n",
        "  else:\n",
        "    sens = 0\n",
        "  if SIFT_results_genes[keys][1]>0:\n",
        "    spec =  round(SIFT_results_genes[keys][1] / (SIFT_results_genes[keys][1]+ SIFT_results_genes[keys][2]),2)\n",
        "  else:\n",
        "    spec=0\n",
        "  SIFT_results_genes_sens[keys] =sens\n",
        "  SIFT_results_genes_spec[keys]= spec\n",
        "\n",
        "dict_new = dict(sorted(SIFT_results_genes_sens.items(), key=lambda item: item[1],reverse=True))\n",
        "names_sens = list(dict_new.keys())\n",
        "values_sens = list(dict_new.values())\n",
        "\n",
        "dict_new = dict(sorted(SIFT_results_genes_spec.items(), key=lambda item: item[1],reverse=True))\n",
        "names_spec = list(dict_new.keys())\n",
        "values_spec = list(dict_new.values())\n",
        "\n",
        "print(names_sens[:30])\n",
        "#print(names_spec[:30])\n",
        "# find 50 proteins with highest sensitivities AND specificities\n",
        "easier_proteins = intersection(names_sens[:90], names_spec[:90])\n",
        "#print(easier_proteins)\n",
        "#figure(figsize=(30, 10), dpi=80)\n",
        "#plt.bar(range(30), values_sens[:30], tick_label=names_sens[:30])\n",
        "#plt.xticks(rotation=45)\n",
        "#plt.show()\n",
        "\n",
        "#figure(figsize=(30, 10), dpi=80)\n",
        "#plt.bar(range(30), values_spec[:30], tick_label=names_spec[:30])\n",
        "#plt.xticks(rotation=45)\n",
        "#plt.show()"
      ]
    },
    {
      "cell_type": "code",
      "execution_count": null,
      "metadata": {
        "id": "PgbMQXtj-XQo"
      },
      "outputs": [],
      "source": [
        "# create FATHMM dictionary with keys: genes, values: (TP, TN, FP, FN)\n",
        "genes = results['uniprot id'].unique()\n",
        "FATHMM_results_genes = {}\n",
        "for gene in genes:\n",
        "  temp = results[results['uniprot id'] == gene]\n",
        "  for i, mut in temp.iterrows():\n",
        "    if mut['label'] == 1 and mut['FATHMM'] <=-0.75:\n",
        "      if gene in FATHMM_results_genes:\n",
        "        FATHMM_results_genes[gene][0] +=1\n",
        "      else:\n",
        "        FATHMM_results_genes[gene] =[1, 0, 0, 0]\n",
        "    elif mut['label'] == 1 and mut['FATHMM'] >-0.75:\n",
        "      if gene in FATHMM_results_genes:\n",
        "        FATHMM_results_genes[gene][3] +=1\n",
        "      else:\n",
        "        FATHMM_results_genes[gene] =[0, 0, 0, 1]\n",
        "    elif mut['label'] == 0 and mut['FATHMM'] <=-0.75:\n",
        "      if gene in FATHMM_results_genes:\n",
        "        FATHMM_results_genes[gene][2] +=1\n",
        "      else:\n",
        "        FATHMM_results_genes[gene] =[0, 0, 1, 0]\n",
        "    elif mut['label'] == 0 and mut['FATHMM'] > -0.75:\n",
        "      if gene in FATHMM_results_genes:\n",
        "        FATHMM_results_genes[gene][1] +=1\n",
        "      else:\n",
        "        FATHMM_results_genes[gene]  =[0, 1, 0, 0]\n",
        "\n",
        "\n",
        "#  for all genes, calculate sensitivity and specificity\n",
        "FATHMM_results_genes_sens={}\n",
        "FATHMM_results_genes_spec={}\n",
        "for keys, values in FATHMM_results_genes.items():\n",
        "  if FATHMM_results_genes[keys][0]>0:\n",
        "    sens = round(FATHMM_results_genes[keys][0] / (FATHMM_results_genes[keys][0]+ FATHMM_results_genes[keys][3]),2)\n",
        "  else:\n",
        "    sens = 0\n",
        "  if FATHMM_results_genes[keys][1]>0:\n",
        "    spec =  round(FATHMM_results_genes[keys][1] / (FATHMM_results_genes[keys][1]+ FATHMM_results_genes[keys][2]),2)\n",
        "  else:\n",
        "    spec=0\n",
        "  FATHMM_results_genes_sens[keys] =sens\n",
        "  FATHMM_results_genes_spec[keys]= spec\n",
        "\n",
        "dict_new = dict(sorted(FATHMM_results_genes_sens.items(), key=lambda item: item[1],reverse=True))\n",
        "names_sens = list(dict_new.keys())\n",
        "values_sens = list(dict_new.values())\n",
        "\n",
        "dict_new = dict(sorted(FATHMM_results_genes_spec.items(), key=lambda item: item[1],reverse=True))\n",
        "names_spec = list(dict_new.keys())\n",
        "values_spec = list(dict_new.values())\n",
        "\n",
        "print(names_sens[:30])\n",
        "#print(names_spec[:30])\n",
        "# find 50 proteins with highest sensitivities AND specificities\n",
        "easier_proteins = intersection(names_sens[:90], names_spec[:90])\n",
        "#print(easier_proteins)\n",
        "#figure(figsize=(30, 10), dpi=80)\n",
        "#plt.bar(range(30), values_sens[:30], tick_label=names_sens[:30])\n",
        "#plt.xticks(rotation=45)\n",
        "#plt.show()\n",
        "\n",
        "#figure(figsize=(30, 10), dpi=80)\n",
        "#plt.bar(range(30), values_spec[:30], tick_label=names_spec[:30])\n",
        "#plt.xticks(rotation=45)\n",
        "#plt.show()"
      ]
    },
    {
      "cell_type": "markdown",
      "source": [
        "# Entire gene calculation"
      ],
      "metadata": {
        "id": "rzps-sDwzGtH"
      }
    },
    {
      "cell_type": "markdown",
      "source": [
        "## TP53"
      ],
      "metadata": {
        "id": "cAFldD1QzK6g"
      }
    },
    {
      "cell_type": "code",
      "source": [
        "# import difference for each mutation\n",
        "test = pd.read_csv('/content/drive/MyDrive/log_probWT_MUT_P04637_2200AA_57_maxpool.csv', header = None, names = ['mutation', 'log_difference', 'label'])\n",
        "\n",
        "fl_dif = []\n",
        "for x in test['log_difference']:\n",
        "  p = x[1:-1].split(',')\n",
        "  fl_dif.append([float(i) for i in p])\n",
        "\n",
        "test['fl_dif'] = fl_dif\n",
        "\n",
        "\n",
        "# pad to 2200 AA\n",
        "N= 2200\n",
        "fl_dif_pad, positions, proteins_temp =[], [], []\n",
        "for i, mut in test.iterrows():\n",
        "  mut_temp = mut.mutation.split('_')[1]\n",
        "  proteins_temp.append(mut.mutation.split('_')[0])\n",
        "  positions.append(mut_temp[1: -1])\n",
        "  a = mut['fl_dif']\n",
        "  new_a = a + [0] * (N - len(a))\n",
        "  fl_dif_pad.append(new_a)\n",
        "test['fl_dif_pad'] = fl_dif_pad\n",
        "\n",
        "stacked_flat_drgn =[]\n",
        "for i, mut in test.iterrows():\n",
        "  stacked_flat_drgn.append(torch.tensor(mut['fl_dif_pad']))\n",
        "\n",
        "stacked_drgn = torch.stack(stacked_flat_drgn)\n",
        "print(stacked_drgn.shape)"
      ],
      "metadata": {
        "id": "TVuV55x6zW9L"
      },
      "execution_count": null,
      "outputs": []
    },
    {
      "cell_type": "code",
      "source": [
        "labels_drgn = test['label'].tolist()\n",
        "X_drgn, y_drgn = np.array(stacked_drgn), np.array(labels_drgn)\n",
        "\n",
        "drgn_dataset = ClassifierDataset(torch.from_numpy(X_drgn).float(), torch.from_numpy(y_drgn).long())\n",
        "drgn_loader = DataLoader(dataset=drgn_dataset, batch_size=1 , drop_last=True)\n",
        "\n",
        "device = torch.device(\"cuda:0\" if torch.cuda.is_available() else \"cpu\")\n",
        "\n",
        "y_pred_list = []\n",
        "predictions_drgn= []\n",
        "my_net.eval()\n",
        "\n",
        "with torch.no_grad():\n",
        "    for X_batch, _ in drgn_loader:\n",
        "        X_batch = X_batch.to(device)\n",
        "        y_test_pred = my_net(X_batch)\n",
        "        predictions_drgn.extend(torch.sigmoid(y_test_pred).cpu().detach().numpy().tolist())\n",
        "\n",
        "flat_list = []\n",
        "for sublist in predictions_drgn:\n",
        "    for item in sublist:\n",
        "        flat_list.append(item)"
      ],
      "metadata": {
        "id": "HLERWJk3lASW"
      },
      "execution_count": null,
      "outputs": []
    },
    {
      "cell_type": "code",
      "source": [
        "test['D2D_values'] = flat_list\n",
        "test['pos'] = positions\n",
        "test['pos'] = pd.to_numeric(test['pos'],errors='coerce')\n",
        "test = test.sort_values(by='pos', ascending=True)\n",
        "\n",
        "fig = px.scatter(test, x='pos', y='D2D_values',\n",
        "                 color =  test['D2D_values'])\n",
        "                 #symbol = test['label_proc'],\n",
        "                 #symbol_sequence= ['x','circle-open', 'x', 'circle-open', 'x'],\n",
        "                 #color_discrete_sequence = ['red', 'green', 'salmon', 'gold', 'blue'], opacity = 0.55, width =1300, height =400)\n",
        "\n",
        "# Change the bar mode\n",
        "fig.update_layout(barmode='group', title=\"TP53  - all mutations\",\n",
        "    xaxis_title=\"Position\",\n",
        "    yaxis_title=\"D2D prediction\",\n",
        "    font_family=\"Arial\",\n",
        "    title_font_family=\"Arial\")\n",
        "fig.show()"
      ],
      "metadata": {
        "id": "wLNfbwthzXnv"
      },
      "execution_count": null,
      "outputs": []
    },
    {
      "cell_type": "code",
      "source": [
        "df = pd.DataFrame(test['mutation'],columns=['mutation'])\n",
        "newList = [round(n, 4) for n in flat_list]\n",
        "df['prediction']=newList\n",
        "df.to_csv('/content/drive/MyDrive/TP53_d2d_results2.csv', index=False)"
      ],
      "metadata": {
        "id": "p6J69myHlNl2"
      },
      "execution_count": null,
      "outputs": []
    },
    {
      "cell_type": "markdown",
      "source": [
        "## BRAF"
      ],
      "metadata": {
        "id": "k8kwifUKilnr"
      }
    },
    {
      "cell_type": "code",
      "source": [
        "# import difference for each mutation\n",
        "test = pd.read_csv('/content/drive/MyDrive/log_probWT_MUT_P15056_2200AA_57_maxpool.csv', header = None, names = ['mutation', 'log_difference', 'label'])\n",
        "\n",
        "fl_dif = []\n",
        "for x in test['log_difference']:\n",
        "  p = x[1:-1].split(',')\n",
        "  fl_dif.append([float(i) for i in p])\n",
        "\n",
        "test['fl_dif'] = fl_dif\n",
        "\n",
        "# pad to 2200 AA\n",
        "N= 2200\n",
        "fl_dif_pad, positions, proteins_temp =[], [], []\n",
        "for i, mut in test.iterrows():\n",
        "  mut_temp = mut.mutation.split('_')[1]\n",
        "  proteins_temp.append(mut.mutation.split('_')[0])\n",
        "  positions.append(mut_temp[1: -1])\n",
        "  a = mut['fl_dif']\n",
        "  new_a = a + [0] * (N - len(a))\n",
        "  fl_dif_pad.append(new_a)\n",
        "test['fl_dif_pad'] = fl_dif_pad\n",
        "\n",
        "stacked_flat_drgn =[]\n",
        "for i, mut in test.iterrows():\n",
        "  stacked_flat_drgn.append(torch.tensor(mut['fl_dif_pad']))\n",
        "\n",
        "stacked_drgn = torch.stack(stacked_flat_drgn)\n",
        "print(stacked_drgn.shape)"
      ],
      "metadata": {
        "id": "GAdzmT2mij16"
      },
      "execution_count": null,
      "outputs": []
    },
    {
      "cell_type": "code",
      "source": [
        "labels_drgn = test['label'].tolist()\n",
        "X_drgn, y_drgn = np.array(stacked_drgn), np.array(labels_drgn)\n",
        "\n",
        "drgn_dataset = ClassifierDataset(torch.from_numpy(X_drgn).float(), torch.from_numpy(y_drgn).long())\n",
        "drgn_loader = DataLoader(dataset=drgn_dataset, batch_size=1 , drop_last=True)\n",
        "\n",
        "device = torch.device(\"cuda:0\" if torch.cuda.is_available() else \"cpu\")\n",
        "\n",
        "y_pred_list = []\n",
        "predictions_drgn= []\n",
        "my_net.eval()\n",
        "\n",
        "with torch.no_grad():\n",
        "    for X_batch, _ in drgn_loader:\n",
        "        X_batch = X_batch.to(device)\n",
        "        y_test_pred = my_net(X_batch)\n",
        "        predictions_drgn.extend(torch.sigmoid(y_test_pred).cpu().detach().numpy().tolist())\n",
        "\n",
        "flat_list = []\n",
        "for sublist in predictions_drgn:\n",
        "    for item in sublist:\n",
        "        flat_list.append(item)"
      ],
      "metadata": {
        "id": "SReJx0Paij4b"
      },
      "execution_count": null,
      "outputs": []
    },
    {
      "cell_type": "code",
      "source": [
        "test['D2D_values'] = flat_list\n",
        "test['pos'] = positions\n",
        "test['pos'] = pd.to_numeric(test['pos'],errors='coerce')\n",
        "test = test.sort_values(by='pos', ascending=True)\n",
        "\n",
        "fig = px.scatter(test, x='pos', y='D2D_values',\n",
        "                 color =  test['D2D_values'])\n",
        "                 #symbol = test['label_proc'],\n",
        "                 #symbol_sequence= ['x','circle-open', 'x', 'circle-open', 'x'],\n",
        "                 #color_discrete_sequence = ['red', 'green', 'salmon', 'gold', 'blue'], opacity = 0.55, width =1300, height =400)\n",
        "\n",
        "\n",
        "# Change the bar mode\n",
        "fig.update_layout(barmode='group', title=\"BRAF  - all mutations\",\n",
        "    xaxis_title=\"Position\",\n",
        "    yaxis_title=\"D2D prediction\",\n",
        "    font_family=\"Arial\",\n",
        "    title_font_family=\"Arial\")\n",
        "fig.show()"
      ],
      "metadata": {
        "id": "I6aPGupQmz5W"
      },
      "execution_count": null,
      "outputs": []
    },
    {
      "cell_type": "code",
      "source": [
        "df = pd.DataFrame(test['mutation'],columns=['mutation'])\n",
        "newList = [round(n, 4) for n in flat_list]\n",
        "df['prediction']=newList\n",
        "df.to_csv('/content/drive/MyDrive/BRAF_d2d_results.csv', index=False)"
      ],
      "metadata": {
        "id": "umU3EycMmz7i"
      },
      "execution_count": null,
      "outputs": []
    },
    {
      "cell_type": "markdown",
      "source": [
        "## AR"
      ],
      "metadata": {
        "id": "pfYp6M46xdIJ"
      }
    },
    {
      "cell_type": "code",
      "source": [
        "# import difference for each mutation\n",
        "test = pd.read_csv('/content/drive/MyDrive/log_probWT_MUT_P10275_2200AA_57_maxpool.csv', header = None, names = ['mutation', 'log_difference', 'label'])\n",
        "\n",
        "fl_dif = []\n",
        "for x in test['log_difference']:\n",
        "  p = x[1:-1].split(',')\n",
        "  fl_dif.append([float(i) for i in p])\n",
        "\n",
        "test['fl_dif'] = fl_dif\n",
        "\n",
        "# pad to 2200 AA\n",
        "N= 2200\n",
        "fl_dif_pad, positions, proteins_temp =[], [], []\n",
        "for i, mut in test.iterrows():\n",
        "  mut_temp = mut.mutation.split('_')[1]\n",
        "  proteins_temp.append(mut.mutation.split('_')[0])\n",
        "  positions.append(mut_temp[1: -1])\n",
        "  a = mut['fl_dif']\n",
        "  new_a = a + [0] * (N - len(a))\n",
        "  fl_dif_pad.append(new_a)\n",
        "test['fl_dif_pad'] = fl_dif_pad\n",
        "\n",
        "stacked_flat_drgn =[]\n",
        "for i, mut in test.iterrows():\n",
        "  stacked_flat_drgn.append(torch.tensor(mut['fl_dif_pad']))\n",
        "\n",
        "stacked_drgn = torch.stack(stacked_flat_drgn)\n",
        "print(stacked_drgn.shape)"
      ],
      "metadata": {
        "id": "SSvJxa-fne1B"
      },
      "execution_count": null,
      "outputs": []
    },
    {
      "cell_type": "code",
      "source": [
        "labels_drgn = test['label'].tolist()\n",
        "X_drgn, y_drgn = np.array(stacked_drgn), np.array(labels_drgn)\n",
        "\n",
        "drgn_dataset = ClassifierDataset(torch.from_numpy(X_drgn).float(), torch.from_numpy(y_drgn).long())\n",
        "drgn_loader = DataLoader(dataset=drgn_dataset, batch_size=1 , drop_last=True)\n",
        "\n",
        "device = torch.device(\"cuda:0\" if torch.cuda.is_available() else \"cpu\")\n",
        "\n",
        "y_pred_list = []\n",
        "predictions_drgn= []\n",
        "model.eval()\n",
        "\n",
        "with torch.no_grad():\n",
        "    for X_batch, _ in drgn_loader:\n",
        "        X_batch = X_batch.to(device)\n",
        "        y_test_pred = model(X_batch)\n",
        "        predictions_drgn.extend(torch.sigmoid(y_test_pred).cpu().detach().numpy().tolist())\n",
        "\n",
        "flat_list = []\n",
        "for sublist in predictions_drgn:\n",
        "    for item in sublist:\n",
        "        flat_list.append(item)"
      ],
      "metadata": {
        "id": "1EQARXDLne3I"
      },
      "execution_count": null,
      "outputs": []
    },
    {
      "cell_type": "code",
      "source": [
        "test['D2D_values'] = flat_list\n",
        "test['pos'] = positions\n",
        "test['pos'] = pd.to_numeric(test['pos'],errors='coerce')\n",
        "test = test.sort_values(by='pos', ascending=True)\n",
        "\n",
        "fig = px.scatter(test, x='pos', y='D2D_values',\n",
        "                 color =  test['D2D_values'])\n",
        "                 #symbol = test['label_proc'],\n",
        "                 #symbol_sequence= ['x','circle-open', 'x', 'circle-open', 'x'],\n",
        "                 #color_discrete_sequence = ['red', 'green', 'salmon', 'gold', 'blue'], opacity = 0.55, width =1300, height =400)\n",
        "\n",
        "\n",
        "# Change the bar mode\n",
        "fig.update_layout(barmode='group', title=\"AR  - all mutations\",\n",
        "    xaxis_title=\"Position\",\n",
        "    yaxis_title=\"D2D prediction\",\n",
        "    font_family=\"Arial\",\n",
        "    title_font_family=\"Arial\")\n",
        "fig.show()"
      ],
      "metadata": {
        "id": "vjwPA5mRne5g"
      },
      "execution_count": null,
      "outputs": []
    },
    {
      "cell_type": "code",
      "source": [
        "df = pd.DataFrame(test['mutation'],columns=['mutation'])\n",
        "newList = [round(n, 4) for n in flat_list]\n",
        "df['prediction']=newList\n",
        "df.to_csv('/content/drive/MyDrive/AR_d2d_results.csv', index=False)"
      ],
      "metadata": {
        "id": "gjAh-RBrhl2N"
      },
      "execution_count": null,
      "outputs": []
    },
    {
      "cell_type": "code",
      "source": [],
      "metadata": {
        "id": "CX_-N7M3Cq6l"
      },
      "execution_count": null,
      "outputs": []
    },
    {
      "cell_type": "markdown",
      "source": [
        "## PTEN"
      ],
      "metadata": {
        "id": "JswFFjPfjcAE"
      }
    },
    {
      "cell_type": "code",
      "source": [
        "# import difference for each mutation\n",
        "test = pd.read_csv('/content/drive/MyDrive/log_probWT_MUT_P60484_2200AA_57_maxpool.csv', header = None, names = ['mutation', 'log_difference', 'label'])\n",
        "\n",
        "fl_dif = []\n",
        "for x in test['log_difference']:\n",
        "  p = x[1:-1].split(',')\n",
        "  fl_dif.append([float(i) for i in p])\n",
        "\n",
        "test['fl_dif'] = fl_dif\n",
        "\n",
        "# pad to 2200 AA\n",
        "N= 2200\n",
        "fl_dif_pad, positions, proteins_temp =[], [], []\n",
        "for i, mut in test.iterrows():\n",
        "  mut_temp = mut.mutation.split('_')[1]\n",
        "  proteins_temp.append(mut.mutation.split('_')[0])\n",
        "  positions.append(mut_temp[1: -1])\n",
        "  a = mut['fl_dif']\n",
        "  new_a = a + [0] * (N - len(a))\n",
        "  fl_dif_pad.append(new_a)\n",
        "test['fl_dif_pad'] = fl_dif_pad\n",
        "\n",
        "stacked_flat_drgn =[]\n",
        "for i, mut in test.iterrows():\n",
        "  stacked_flat_drgn.append(torch.tensor(mut['fl_dif_pad']))\n",
        "\n",
        "stacked_drgn = torch.stack(stacked_flat_drgn)\n",
        "print(stacked_drgn.shape)\n",
        "\n",
        "labels_drgn = test['label'].tolist()\n",
        "X_drgn, y_drgn = np.array(stacked_drgn), np.array(labels_drgn)\n",
        "\n",
        "drgn_dataset = ClassifierDataset(torch.from_numpy(X_drgn).float(), torch.from_numpy(y_drgn).long())\n",
        "drgn_loader = DataLoader(dataset=drgn_dataset, batch_size=1 , drop_last=True)\n",
        "\n",
        "device = torch.device(\"cuda:0\" if torch.cuda.is_available() else \"cpu\")\n",
        "\n",
        "y_pred_list = []\n",
        "predictions_drgn= []\n",
        "model.eval()\n",
        "\n",
        "with torch.no_grad():\n",
        "    for X_batch, _ in drgn_loader:\n",
        "        X_batch = X_batch.to(device)\n",
        "        y_test_pred = model(X_batch)\n",
        "        predictions_drgn.extend(torch.sigmoid(y_test_pred).cpu().detach().numpy().tolist())\n",
        "\n",
        "flat_list = []\n",
        "for sublist in predictions_drgn:\n",
        "    for item in sublist:\n",
        "        flat_list.append(item)"
      ],
      "metadata": {
        "id": "yt7Fqoqlhl4K"
      },
      "execution_count": null,
      "outputs": []
    },
    {
      "cell_type": "code",
      "source": [
        "test['D2D_values'] = flat_list\n",
        "test['pos'] = positions\n",
        "test['pos'] = pd.to_numeric(test['pos'],errors='coerce')\n",
        "test = test.sort_values(by='pos', ascending=True)\n",
        "\n",
        "fig = px.scatter(test, x='pos', y='D2D_values',\n",
        "                 color =  test['D2D_values'])\n",
        "                 #symbol = test['label_proc'],\n",
        "                 #symbol_sequence= ['x','circle-open', 'x', 'circle-open', 'x'],\n",
        "                 #color_discrete_sequence = ['red', 'green', 'salmon', 'gold', 'blue'], opacity = 0.55, width =1300, height =400)\n",
        "\n",
        "\n",
        "# Change the bar mode\n",
        "fig.update_layout(barmode='group', title=\"PTEN - all mutations\",\n",
        "    xaxis_title=\"Position\",\n",
        "    yaxis_title=\"D2D prediction\",\n",
        "    font_family=\"Arial\",\n",
        "    title_font_family=\"Arial\")\n",
        "fig.show()"
      ],
      "metadata": {
        "id": "hSxsP8NFjhQp"
      },
      "execution_count": null,
      "outputs": []
    },
    {
      "cell_type": "code",
      "source": [
        "df = pd.DataFrame(test['mutation'],columns=['mutation'])\n",
        "newList = [round(n, 4) for n in flat_list]\n",
        "df['prediction']=newList\n",
        "df.to_csv('/content/drive/MyDrive/PTEN_d2d_results.csv', index=False)"
      ],
      "metadata": {
        "id": "3WtfeB4qkGfz"
      },
      "execution_count": null,
      "outputs": []
    },
    {
      "cell_type": "markdown",
      "source": [
        "## CHEK2"
      ],
      "metadata": {
        "id": "tCWKI3-NjfDv"
      }
    },
    {
      "cell_type": "code",
      "source": [
        "# import difference for each mutation\n",
        "test = pd.read_csv('/content/drive/MyDrive/log_probWT_MUT_O96017_2200AA_57_maxpool.csv', header = None, names = ['mutation', 'log_difference', 'label'])\n",
        "\n",
        "fl_dif = []\n",
        "for x in test['log_difference']:\n",
        "  p = x[1:-1].split(',')\n",
        "  fl_dif.append([float(i) for i in p])\n",
        "\n",
        "test['fl_dif'] = fl_dif\n",
        "\n",
        "# pad to 2200 AA\n",
        "N= 2200\n",
        "fl_dif_pad, positions, proteins_temp =[], [], []\n",
        "for i, mut in test.iterrows():\n",
        "  mut_temp = mut.mutation.split('_')[1]\n",
        "  proteins_temp.append(mut.mutation.split('_')[0])\n",
        "  positions.append(mut_temp[1: -1])\n",
        "  a = mut['fl_dif']\n",
        "  new_a = a + [0] * (N - len(a))\n",
        "  fl_dif_pad.append(new_a)\n",
        "test['fl_dif_pad'] = fl_dif_pad\n",
        "\n",
        "stacked_flat_drgn =[]\n",
        "for i, mut in test.iterrows():\n",
        "  stacked_flat_drgn.append(torch.tensor(mut['fl_dif_pad']))\n",
        "\n",
        "stacked_drgn = torch.stack(stacked_flat_drgn)\n",
        "print(stacked_drgn.shape)\n",
        "\n",
        "labels_drgn = test['label'].tolist()\n",
        "X_drgn, y_drgn = np.array(stacked_drgn), np.array(labels_drgn)\n",
        "\n",
        "drgn_dataset = ClassifierDataset(torch.from_numpy(X_drgn).float(), torch.from_numpy(y_drgn).long())\n",
        "drgn_loader = DataLoader(dataset=drgn_dataset, batch_size=1 , drop_last=True)\n",
        "\n",
        "device = torch.device(\"cuda:0\" if torch.cuda.is_available() else \"cpu\")\n",
        "\n",
        "y_pred_list = []\n",
        "predictions_drgn= []\n",
        "model.eval()\n",
        "\n",
        "with torch.no_grad():\n",
        "    for X_batch, _ in drgn_loader:\n",
        "        X_batch = X_batch.to(device)\n",
        "        y_test_pred = model(X_batch)\n",
        "        predictions_drgn.extend(torch.sigmoid(y_test_pred).cpu().detach().numpy().tolist())\n",
        "\n",
        "flat_list = []\n",
        "for sublist in predictions_drgn:\n",
        "    for item in sublist:\n",
        "        flat_list.append(item)"
      ],
      "metadata": {
        "id": "qYm1oO8ujguS"
      },
      "execution_count": null,
      "outputs": []
    },
    {
      "cell_type": "code",
      "source": [
        "test['D2D_values'] = flat_list\n",
        "test['pos'] = positions\n",
        "test['pos'] = pd.to_numeric(test['pos'],errors='coerce')\n",
        "test = test.sort_values(by='pos', ascending=True)\n",
        "\n",
        "fig = px.scatter(test, x='pos', y='D2D_values',\n",
        "                 color =  test['D2D_values'])\n",
        "                 #symbol = test['label_proc'],\n",
        "                 #symbol_sequence= ['x','circle-open', 'x', 'circle-open', 'x'],\n",
        "                 #color_discrete_sequence = ['red', 'green', 'salmon', 'gold', 'blue'], opacity = 0.55, width =1300, height =400)\n",
        "\n",
        "\n",
        "# Change the bar mode\n",
        "fig.update_layout(barmode='group', title=\"CHEK2 - all mutations\",\n",
        "    xaxis_title=\"Position\",\n",
        "    yaxis_title=\"D2D prediction\",\n",
        "    font_family=\"Arial\",\n",
        "    title_font_family=\"Arial\")\n",
        "fig.show()"
      ],
      "metadata": {
        "id": "4JAJLIJCjgwj"
      },
      "execution_count": null,
      "outputs": []
    },
    {
      "cell_type": "code",
      "source": [
        "df = pd.DataFrame(test['mutation'],columns=['mutation'])\n",
        "newList = [round(n, 4) for n in flat_list]\n",
        "df['prediction']=newList\n",
        "df.to_csv('/content/drive/MyDrive/CHEK2_d2d_results.csv', index=False)"
      ],
      "metadata": {
        "id": "ZbTU7-nVjgy7"
      },
      "execution_count": null,
      "outputs": []
    },
    {
      "cell_type": "markdown",
      "source": [
        "## ABL1 etc"
      ],
      "metadata": {
        "id": "7pYwySJA4juS"
      }
    },
    {
      "cell_type": "code",
      "source": [
        "drive_path = '/content/drive/MyDrive/'"
      ],
      "metadata": {
        "id": "XJgnmGLV52Oo"
      },
      "execution_count": null,
      "outputs": []
    },
    {
      "cell_type": "code",
      "source": [
        "def predict_protein(protein_name, drive_path, length =2200):\n",
        "\n",
        "  # import representation of gene\n",
        "  path_representations = drive_path+'log_probWT_MUT_'+protein+'_2200AA_57_maxpool.csv'\n",
        "  test = pd.read_csv(path_representations, header = None, names = ['mutation', 'log_difference', 'label'])\n",
        "\n",
        "  fl_dif = []\n",
        "  for x in test['log_difference']:\n",
        "    p = x[1:-1].split(',')\n",
        "    fl_dif.append([float(i) for i in p])\n",
        "\n",
        "  test['fl_dif'] = fl_dif\n",
        "\n",
        "  # pad to length AA\n",
        "  N= length\n",
        "  fl_dif_pad, positions, proteins_temp =[], [], []\n",
        "  for i, mut in test.iterrows():\n",
        "    mut_temp = mut.mutation.split('_')[1]\n",
        "    proteins_temp.append(mut.mutation.split('_')[0])\n",
        "    positions.append(mut_temp[1: -1])\n",
        "    a = mut['fl_dif']\n",
        "    new_a = a + [0] * (N - len(a))\n",
        "    fl_dif_pad.append(new_a)\n",
        "  test['fl_dif_pad'] = fl_dif_pad\n",
        "\n",
        "  stacked_flat_drgn =[]\n",
        "  for i, mut in test.iterrows():\n",
        "    stacked_flat_drgn.append(torch.tensor(mut['fl_dif_pad']))\n",
        "\n",
        "  stacked_drgn = torch.stack(stacked_flat_drgn)\n",
        "  print(stacked_drgn.shape)\n",
        "\n",
        "  labels_drgn = test['label'].tolist()\n",
        "  X_drgn, y_drgn = np.array(stacked_drgn), np.array(labels_drgn)\n",
        "\n",
        "  drgn_dataset = ClassifierDataset(torch.from_numpy(X_drgn).float(), torch.from_numpy(y_drgn).long())\n",
        "  drgn_loader = DataLoader(dataset=drgn_dataset, batch_size=1 , drop_last=True)\n",
        "\n",
        "  y_pred_list = []\n",
        "  predictions_drgn= []\n",
        "  model.eval()\n",
        "\n",
        "  with torch.no_grad():\n",
        "      for X_batch, _ in drgn_loader:\n",
        "          X_batch = X_batch.to(device)\n",
        "          y_test_pred = model(X_batch)\n",
        "          predictions_drgn.extend(torch.sigmoid(y_test_pred).cpu().detach().numpy().tolist())\n",
        "\n",
        "  flat_list = []\n",
        "  for sublist in predictions_drgn:\n",
        "      for item in sublist:\n",
        "          flat_list.append(item)\n",
        "\n",
        "  df = pd.DataFrame(test['mutation'],columns=['mutation'])\n",
        "  newList = [round(n, 4) for n in flat_list]\n",
        "  df['D2Deep_prediction']=newList\n",
        "\n",
        "  # add WT and mutated sequence\n",
        "  temp= pd.read_csv(drive_path+'gene_panel/' + protein_name+'_all.csv')\n",
        "  df['WT_sequence'] = temp['WT_sequence']\n",
        "  df['mut_sequence'] = temp['mut_sequence']\n",
        "  df['AA_orig'] = temp['AA_orig']\n",
        "  df['position'] = temp['position']\n",
        "  df['AA_targ'] = temp['AA_targ']\n",
        "\n",
        "  df.to_csv(drive_path+protein_name+'_d2d_results.csv', index=False)\n",
        "\n",
        "  return None"
      ],
      "metadata": {
        "id": "LNvrkHTz4sQR"
      },
      "execution_count": null,
      "outputs": []
    },
    {
      "cell_type": "code",
      "source": [
        "proteins = ['P00519', 'Q6UWZ7', 'Q04771', 'Q9NZK5', 'O43918', 'P31749', 'P31751', 'Q9Y243', 'Q9UPS8', 'Q9H6X2', 'P10398', 'Q99728', 'O14757', 'P07333', 'P35222', 'P41212', 'P23468']\n",
        "for protein in proteins:\n",
        "  predict_protein(protein, drive_path)"
      ],
      "metadata": {
        "id": "1hwHkMlxwid8"
      },
      "execution_count": null,
      "outputs": []
    },
    {
      "cell_type": "markdown",
      "source": [
        "# Germline versus somatic"
      ],
      "metadata": {
        "id": "BuNq64VIm05K"
      }
    },
    {
      "cell_type": "markdown",
      "source": [
        "panel expert, multiple submitters, single submitter"
      ],
      "metadata": {
        "id": "kKSIglDEaJDA"
      }
    },
    {
      "cell_type": "code",
      "source": [
        "h = 4096\n",
        "hidden2=2048\n",
        "\n",
        "model = Classifier2L(h, hidden2, 0.3).to(device)\n",
        "model.load_state_dict(torch.load('/content/drive/MyDrive/my_colab/3rdYear/GMM/model'))\n",
        "model.eval()\n",
        "\n",
        "# somatic\n",
        "# import difference for each mutation + labels\n",
        "dif_mut_drgn = pd.read_csv('/content/drive/MyDrive/log_probWT_MUT_balanced_somatic_2200AA_57maxpool.csv', header = None, names = ['mutation', 'log_difference', 'label'])\n",
        "# exclude duplicates\n",
        "#dif_mut_drgn.drop_duplicates(subset = 'mutation', inplace =True)\n",
        "\n",
        "# log_difference has been saved as string of list! Here I convert it back to list of floats\n",
        "fl_dif = []\n",
        "for x in dif_mut_drgn['log_difference']:\n",
        "  p = x[1:-1].split(',')\n",
        "  fl_dif.append([float(i) for i in p])\n",
        "\n",
        "dif_mut_drgn['fl_dif'] = fl_dif\n",
        "\n",
        "print('Deleterious mutations in dataset: ', len(dif_mut_drgn[dif_mut_drgn['label'] == 1]))\n",
        "print('Benign mutations in dataset: ', len(dif_mut_drgn[dif_mut_drgn['label'] == 0]))\n",
        "\n",
        "# pad to 2200 AA\n",
        "N= 2200\n",
        "fl_dif_pad =[]\n",
        "for i, mut in dif_mut_drgn.iterrows():\n",
        "  a = mut['fl_dif']\n",
        "  new_a = a + [0] * (N - len(a))\n",
        "  fl_dif_pad.append(new_a)\n",
        "dif_mut_drgn['fl_dif_pad'] = fl_dif_pad\n",
        "\n",
        "stacked_flat_drgn =[]\n",
        "for i, mut in dif_mut_drgn.iterrows():\n",
        "  stacked_flat_drgn.append(torch.tensor(mut['fl_dif_pad']))\n",
        "\n",
        "stacked_drgn = torch.stack(stacked_flat_drgn)\n",
        "print(stacked_drgn.shape)"
      ],
      "metadata": {
        "id": "oqe5tzsqm320"
      },
      "execution_count": null,
      "outputs": []
    },
    {
      "cell_type": "code",
      "source": [
        "dif_mut_drgn_temp = dif_mut_drgn.mutation.str.split(pat='_',expand=True)\n",
        "labels_drgn = dif_mut_drgn['label'].tolist()\n",
        "X_drgn, y_drgn = np.array(stacked_drgn), np.array(labels_drgn)\n",
        "\n",
        "drgn_dataset = ClassifierDataset(torch.from_numpy(X_drgn).float(), torch.from_numpy(y_drgn).long())\n",
        "drgn_loader = DataLoader(dataset=drgn_dataset, batch_size=1 , drop_last=True)\n",
        "\n",
        "device = torch.device(\"cuda:0\" if torch.cuda.is_available() else \"cpu\")\n",
        "\n",
        "y_pred_list = []\n",
        "predictions_drgn= []\n",
        "with torch.no_grad():\n",
        "    for X_batch, _ in drgn_loader:\n",
        "        X_batch = X_batch.to(device)\n",
        "        y_test_pred = model(X_batch)\n",
        "        #print(y_test_pred)\n",
        "        predictions_drgn.extend(torch.sigmoid(y_test_pred).cpu().detach().numpy().tolist())\n",
        "        #print(predictions_drgn)\n",
        "\n",
        "flat_list = []\n",
        "for sublist in predictions_drgn:\n",
        "    for item in sublist:\n",
        "        flat_list.append(item)\n",
        "\n",
        "predictions_drgn = [1 if i>=0.5 else 0 for i in flat_list]\n",
        "confusion_matrix_df = pd.DataFrame(confusion_matrix(y_drgn, predictions_drgn))\n",
        "tn, fp, fn, tp = confusion_matrix(y_drgn, predictions_drgn).ravel()\n",
        "print(classification_report(y_drgn, predictions_drgn))\n",
        "print(tp, tn, fp, fn)\n",
        "TPR =tp / (tp + fn)\n",
        "print('Sensitivity: %.2f'  % (TPR*100))\n",
        "\n",
        "TNR = tn / (tn + fp)\n",
        "print('Specificity: %.2f'  % (TNR*100))\n",
        "print(matthews_corrcoef(y_drgn, predictions_drgn))"
      ],
      "metadata": {
        "id": "yEaGBcEfm35g"
      },
      "execution_count": null,
      "outputs": []
    },
    {
      "cell_type": "code",
      "source": [
        "lw = 2\n",
        "import matplotlib\n",
        "matplotlib.rc_file_defaults()\n",
        "fpr, tpr, _ = metrics.roc_curve(y_drgn[:len(predictions_drgn)],  flat_list)\n",
        "auc = metrics.roc_auc_score(y_drgn[:len(predictions_drgn)], flat_list)\n",
        "plt.plot(fpr,tpr,color=\"navy\",label=\"DRGN, auc=\"+str(round(auc, 3)))\n",
        "plt.plot([0, 1], [0, 1], color=\"darkorange\", lw=lw, linestyle=\"--\")\n",
        "plt.legend(loc=4)\n",
        "plt.xlabel(\"False Positive Rate\")\n",
        "plt.ylabel(\"True Positive Rate\")\n",
        "plt.title(\"Receiver operating characteristic DRGN set\")\n",
        "plt.rcParams[\"figure.figsize\"] = (10,10)\n",
        "plt.show()"
      ],
      "metadata": {
        "id": "NC1n5sQOm38H"
      },
      "execution_count": null,
      "outputs": []
    },
    {
      "cell_type": "code",
      "source": [
        "# germline\n",
        "dif_mut_drgn = pd.read_csv('/content/drive/MyDrive/log_probWT_MUT_balanced_germline_2200AA_57maxpool.csv', header = None, names = ['mutation', 'log_difference', 'label'])\n",
        "# exclude duplicates\n",
        "dif_mut_drgn.drop_duplicates(subset = 'mutation', inplace =True)\n",
        "\n",
        "# log_difference has been saved as string of list! Here I convert it back to list of floats\n",
        "fl_dif = []\n",
        "for x in dif_mut_drgn['log_difference']:\n",
        "  p = x[1:-1].split(',')\n",
        "  fl_dif.append([float(i) for i in p])\n",
        "\n",
        "dif_mut_drgn['fl_dif'] = fl_dif\n",
        "\n",
        "print('Deleterious mutations in dataset: ', len(dif_mut_drgn[dif_mut_drgn['label'] == 1]))\n",
        "print('Benign mutations in dataset: ', len(dif_mut_drgn[dif_mut_drgn['label'] == 0]))\n",
        "\n",
        "# pad to 2200 AA\n",
        "N= 2200\n",
        "fl_dif_pad =[]\n",
        "for i, mut in dif_mut_drgn.iterrows():\n",
        "  a = mut['fl_dif']\n",
        "  new_a = a + [0] * (N - len(a))\n",
        "  fl_dif_pad.append(new_a)\n",
        "dif_mut_drgn['fl_dif_pad'] = fl_dif_pad\n",
        "\n",
        "stacked_flat_drgn =[]\n",
        "for i, mut in dif_mut_drgn.iterrows():\n",
        "  stacked_flat_drgn.append(torch.tensor(mut['fl_dif_pad']))\n",
        "\n",
        "stacked_drgn = torch.stack(stacked_flat_drgn)\n",
        "print(stacked_drgn.shape)\n",
        "\n",
        "dif_mut_drgn_temp = dif_mut_drgn.mutation.str.split(pat='_',expand=True)\n",
        "labels_drgn = dif_mut_drgn['label'].tolist()\n",
        "X_drgn, y_drgn = np.array(stacked_drgn), np.array(labels_drgn)\n",
        "\n",
        "drgn_dataset = ClassifierDataset(torch.from_numpy(X_drgn).float(), torch.from_numpy(y_drgn).long())\n",
        "drgn_loader = DataLoader(dataset=drgn_dataset, batch_size=1 , drop_last=True)\n",
        "\n",
        "device = torch.device(\"cuda:0\" if torch.cuda.is_available() else \"cpu\")\n",
        "\n",
        "y_pred_list = []\n",
        "predictions_drgn= []\n",
        "with torch.no_grad():\n",
        "    for X_batch, _ in drgn_loader:\n",
        "        X_batch = X_batch.to(device)\n",
        "        y_test_pred = model(X_batch)\n",
        "        #print(y_test_pred)\n",
        "        predictions_drgn.extend(torch.sigmoid(y_test_pred).cpu().detach().numpy().tolist())\n",
        "        #print(predictions_drgn)\n",
        "\n",
        "flat_list = []\n",
        "for sublist in predictions_drgn:\n",
        "    for item in sublist:\n",
        "        flat_list.append(item)\n",
        "\n",
        "predictions_drgn = [1 if i>=0.5 else 0 for i in flat_list]\n",
        "confusion_matrix_df = pd.DataFrame(confusion_matrix(y_drgn, predictions_drgn))\n",
        "tn, fp, fn, tp = confusion_matrix(y_drgn, predictions_drgn).ravel()\n",
        "print(classification_report(y_drgn, predictions_drgn))\n",
        "print(tp, tn, fp, fn)\n",
        "TPR =tp / (tp + fn)\n",
        "print('Sensitivity: %.2f'  % (TPR*100))\n",
        "\n",
        "TNR = tn / (tn + fp)\n",
        "print('Specificity: %.2f'  % (TNR*100))\n",
        "print(matthews_corrcoef(y_drgn, predictions_drgn))\n",
        "\n",
        "\n",
        "lw = 2\n",
        "import matplotlib\n",
        "matplotlib.rc_file_defaults()\n",
        "fpr, tpr, _ = metrics.roc_curve(y_drgn[:len(predictions_drgn)],  flat_list)\n",
        "auc = metrics.roc_auc_score(y_drgn[:len(predictions_drgn)], flat_list)\n",
        "plt.plot(fpr,tpr,color=\"navy\",label=\"DRGN, auc=\"+str(round(auc, 3)))\n",
        "plt.plot([0, 1], [0, 1], color=\"darkorange\", lw=lw, linestyle=\"--\")\n",
        "plt.legend(loc=4)\n",
        "plt.xlabel(\"False Positive Rate\")\n",
        "plt.ylabel(\"True Positive Rate\")\n",
        "plt.title(\"Receiver operating characteristic DRGN set\")\n",
        "plt.rcParams[\"figure.figsize\"] = (10,10)\n",
        "plt.show()"
      ],
      "metadata": {
        "id": "-CwgfyyTm3-w"
      },
      "execution_count": null,
      "outputs": []
    },
    {
      "cell_type": "markdown",
      "source": [
        "no conflicts"
      ],
      "metadata": {
        "id": "W7U1Kw5rJszn"
      }
    },
    {
      "cell_type": "code",
      "source": [
        "h = 4096\n",
        "hidden2=2048\n",
        "\n",
        "device = torch.device(\"cuda:0\" if torch.cuda.is_available() else \"cpu\")\n",
        "\n",
        "model = Classifier2L(h, hidden2, 0.3).to(device)\n",
        "model.load_state_dict(torch.load('/content/drive/MyDrive/my_colab/3rdYear/GMM/model'))\n",
        "model.eval()"
      ],
      "metadata": {
        "id": "uwgWmNzVs01E"
      },
      "execution_count": null,
      "outputs": []
    },
    {
      "cell_type": "markdown",
      "source": [
        "without excluding mutations present in training set"
      ],
      "metadata": {
        "id": "KUlu5wa0fKc6"
      }
    },
    {
      "cell_type": "code",
      "source": [
        "# somatic\n",
        "dif_mut_drgn_somatic = pd.read_csv('/content/drive/MyDrive/log_probWT_MUT_balanced_somatic_noconflicts2200AA_57maxpool.csv', header = None, names = ['mutation', 'log_difference', 'label'])\n",
        "\n",
        "# log_difference has been saved as string of list! Here I convert it back to list of floats\n",
        "fl_dif = []\n",
        "for x in dif_mut_drgn_somatic['log_difference']:\n",
        "  p = x[1:-1].split(',')\n",
        "  fl_dif.append([float(i) for i in p])\n",
        "\n",
        "dif_mut_drgn_somatic['fl_dif'] = fl_dif\n",
        "\n",
        "print('Deleterious mutations in dataset: ', len(dif_mut_drgn_somatic[dif_mut_drgn_somatic['label'] == 1]))\n",
        "print('Benign mutations in dataset: ', len(dif_mut_drgn_somatic[dif_mut_drgn_somatic['label'] == 0]))\n",
        "\n",
        "# pad to 2200 AA\n",
        "N= 2200\n",
        "fl_dif_pad =[]\n",
        "for i, mut in dif_mut_drgn_somatic.iterrows():\n",
        "  a = mut['fl_dif']\n",
        "  new_a = a + [0] * (N - len(a))\n",
        "  fl_dif_pad.append(new_a)\n",
        "dif_mut_drgn_somatic['fl_dif_pad'] = fl_dif_pad\n",
        "\n",
        "stacked_flat_drgn =[]\n",
        "for i, mut in dif_mut_drgn_somatic.iterrows():\n",
        "  stacked_flat_drgn.append(torch.tensor(mut['fl_dif_pad']))\n",
        "\n",
        "stacked_drgn = torch.stack(stacked_flat_drgn)\n",
        "print(stacked_drgn.shape)\n",
        "\n",
        "dif_mut_drgn_temp = dif_mut_drgn_somatic.mutation.str.split(pat='_',expand=True)\n",
        "labels_drgn = dif_mut_drgn_somatic['label'].tolist()\n",
        "X_drgn, y_drgn_somatic = np.array(stacked_drgn), np.array(labels_drgn)\n",
        "\n",
        "drgn_dataset = ClassifierDataset(torch.from_numpy(X_drgn).float(), torch.from_numpy(y_drgn_somatic).long())\n",
        "drgn_loader = DataLoader(dataset=drgn_dataset, batch_size=1 , drop_last=True)\n",
        "\n",
        "device = torch.device(\"cuda:0\" if torch.cuda.is_available() else \"cpu\")\n",
        "\n",
        "#y_pred_list = []\n",
        "predictions_drgn_somatic= []\n",
        "with torch.no_grad():\n",
        "    for X_batch, _ in drgn_loader:\n",
        "        X_batch = X_batch.to(device)\n",
        "        y_test_pred = model(X_batch)\n",
        "        #print(y_test_pred)\n",
        "        predictions_drgn_somatic.extend(torch.sigmoid(y_test_pred).cpu().detach().numpy().tolist())\n",
        "        #print(predictions_drgn)\n",
        "\n",
        "flat_list_somatic = []\n",
        "for sublist in predictions_drgn_somatic:\n",
        "    for item in sublist:\n",
        "        flat_list_somatic.append(item)\n",
        "\n",
        "predictions_drgn_somatic = [1 if i>=0.5 else 0 for i in flat_list_somatic]\n",
        "confusion_matrix_df = pd.DataFrame(confusion_matrix(y_drgn_somatic, predictions_drgn_somatic))\n",
        "tn, fp, fn, tp = confusion_matrix(y_drgn_somatic, predictions_drgn_somatic).ravel()\n",
        "print(classification_report(y_drgn_somatic, predictions_drgn_somatic))\n",
        "print(tp, tn, fp, fn)\n",
        "TPR =tp / (tp + fn)\n",
        "print('Sensitivity: %.2f'  % (TPR*100))\n",
        "TNR = tn / (tn + fp)\n",
        "print('Specificity: %.2f'  % (TNR*100))\n",
        "print(matthews_corrcoef(y_drgn_somatic, predictions_drgn_somatic))\n",
        "\n",
        "lw = 2\n",
        "import matplotlib\n",
        "matplotlib.rc_file_defaults()\n",
        "fpr_somatic, tpr_somatic, _ = metrics.roc_curve(y_drgn_somatic[:len(predictions_drgn_somatic)],  flat_list_somatic)\n",
        "auc_somatic = metrics.roc_auc_score(y_drgn_somatic[:len(predictions_drgn_somatic)], flat_list_somatic)\n",
        "plt.plot(fpr_somatic,tpr_somatic,color=\"navy\",label=\"DRGN, auc=\"+str(round(auc_somatic, 3)))\n",
        "plt.plot([0, 1], [0, 1], color=\"darkorange\", lw=lw, linestyle=\"--\")\n",
        "plt.legend(loc=4)\n",
        "plt.xlabel(\"False Positive Rate\")\n",
        "plt.ylabel(\"True Positive Rate\")\n",
        "plt.title(\"Receiver operating characteristic DRGN set\")\n",
        "plt.rcParams[\"figure.figsize\"] = (10,10)\n",
        "plt.show()"
      ],
      "metadata": {
        "id": "sq7d6e0sfN1p"
      },
      "execution_count": null,
      "outputs": []
    },
    {
      "cell_type": "code",
      "source": [
        "# germline\n",
        "dif_mut_drgn_germline = pd.read_csv('/content/drive/MyDrive/log_probWT_MUT_balanced_germline_noconflicts2200AA_57maxpool.csv', header = None, names = ['mutation', 'log_difference', 'label'])\n",
        "\n",
        "# log_difference has been saved as string of list! Here I convert it back to list of floats\n",
        "fl_dif = []\n",
        "for x in dif_mut_drgn_germline['log_difference']:\n",
        "  p = x[1:-1].split(',')\n",
        "  fl_dif.append([float(i) for i in p])\n",
        "\n",
        "dif_mut_drgn_germline['fl_dif'] = fl_dif\n",
        "\n",
        "print('Deleterious mutations in dataset: ', len(dif_mut_drgn_germline[dif_mut_drgn_germline['label'] == 1]))\n",
        "print('Benign mutations in dataset: ', len(dif_mut_drgn_germline[dif_mut_drgn_germline['label'] == 0]))\n",
        "\n",
        "# pad to 2200 AA\n",
        "N= 2200\n",
        "fl_dif_pad =[]\n",
        "for i, mut in dif_mut_drgn_germline.iterrows():\n",
        "  a = mut['fl_dif']\n",
        "  new_a = a + [0] * (N - len(a))\n",
        "  fl_dif_pad.append(new_a)\n",
        "dif_mut_drgn_germline['fl_dif_pad'] = fl_dif_pad\n",
        "\n",
        "stacked_flat_drgn =[]\n",
        "for i, mut in dif_mut_drgn_germline.iterrows():\n",
        "  stacked_flat_drgn.append(torch.tensor(mut['fl_dif_pad']))\n",
        "\n",
        "stacked_drgn = torch.stack(stacked_flat_drgn)\n",
        "print(stacked_drgn.shape)\n",
        "\n",
        "dif_mut_drgn_temp = dif_mut_drgn_germline.mutation.str.split(pat='_',expand=True)\n",
        "labels_drgn = dif_mut_drgn_germline['label'].tolist()\n",
        "X_drgn, y_drgn_germline  = np.array(stacked_drgn), np.array(labels_drgn)\n",
        "\n",
        "drgn_dataset = ClassifierDataset(torch.from_numpy(X_drgn).float(), torch.from_numpy(y_drgn_germline).long())\n",
        "drgn_loader = DataLoader(dataset=drgn_dataset, batch_size=1 , drop_last=True)\n",
        "\n",
        "device = torch.device(\"cuda:0\" if torch.cuda.is_available() else \"cpu\")\n",
        "\n",
        "predictions_drgn_germline= []\n",
        "with torch.no_grad():\n",
        "    for X_batch, _ in drgn_loader:\n",
        "        X_batch = X_batch.to(device)\n",
        "        y_test_pred = model(X_batch)\n",
        "        predictions_drgn_germline.extend(torch.sigmoid(y_test_pred).cpu().detach().numpy().tolist())\n",
        "\n",
        "flat_list_germline = []\n",
        "for sublist in predictions_drgn_germline:\n",
        "    for item in sublist:\n",
        "        flat_list_germline.append(item)\n",
        "\n",
        "predictions_drgn_germline = [1 if i>=0.5 else 0 for i in flat_list_germline]\n",
        "confusion_matrix_df = pd.DataFrame(confusion_matrix(y_drgn_germline, predictions_drgn_germline))\n",
        "tn, fp, fn, tp = confusion_matrix(y_drgn_germline, predictions_drgn_germline).ravel()\n",
        "print(classification_report(y_drgn_germline, predictions_drgn_germline))\n",
        "print(tp, tn, fp, fn)\n",
        "TPR =tp / (tp + fn)\n",
        "print('Sensitivity: %.2f'  % (TPR*100))\n",
        "\n",
        "TNR = tn / (tn + fp)\n",
        "print('Specificity: %.2f'  % (TNR*100))\n",
        "print(matthews_corrcoef(y_drgn_germline, predictions_drgn_germline))\n",
        "\n",
        "\n",
        "lw = 2\n",
        "import matplotlib\n",
        "matplotlib.rc_file_defaults()\n",
        "fpr, tpr, _ = metrics.roc_curve(y_drgn_germline[:len(predictions_drgn_germline)],  flat_list_germline)\n",
        "auc = metrics.roc_auc_score(y_drgn_germline[:len(predictions_drgn_germline)], flat_list_germline)\n",
        "plt.plot(fpr,tpr,color=\"navy\",label=\"DRGN, auc=\"+str(round(auc, 3)))\n",
        "plt.plot([0, 1], [0, 1], color=\"darkorange\", lw=lw, linestyle=\"--\")\n",
        "plt.legend(loc=4)\n",
        "plt.xlabel(\"False Positive Rate\")\n",
        "plt.ylabel(\"True Positive Rate\")\n",
        "plt.title(\"Receiver operating characteristic DRGN set\")\n",
        "plt.rcParams[\"figure.figsize\"] = (10,10)\n",
        "plt.show()"
      ],
      "metadata": {
        "id": "5WTl2NVqfX_Z"
      },
      "execution_count": null,
      "outputs": []
    },
    {
      "cell_type": "markdown",
      "source": [
        "exclude mutations present in training set"
      ],
      "metadata": {
        "id": "4lp1ucV9riyO"
      }
    },
    {
      "cell_type": "code",
      "source": [
        "# training set\n",
        "dif_mut = pd.read_csv('/content/drive/MyDrive/log_probWT_MUT_Tier1_2_3_common_balanced+-2_2200AA_57maxpool.csv', header = None, names = ['mutation', 'log_difference', 'label'])\n",
        "\n",
        "# somatic\n",
        "dif_mut_drgn_somatic = pd.read_csv('/content/drive/MyDrive/log_probWT_MUT_balanced_somatic_noconflicts2200AA_57maxpool.csv', header = None, names = ['mutation', 'log_difference', 'label'])"
      ],
      "metadata": {
        "id": "rpu8JB1haWNf"
      },
      "execution_count": null,
      "outputs": []
    },
    {
      "cell_type": "code",
      "source": [
        "new_somatic = pd.DataFrame(columns = ['mutation', 'log_difference', 'label'])\n",
        "count=0\n",
        "for i in dif_mut_drgn_somatic['mutation'].unique():\n",
        "  temp = dif_mut_drgn_somatic[dif_mut_drgn_somatic['mutation'] == i]\n",
        "  temp_test = dif_mut[dif_mut['mutation'] == i]\n",
        "  if len(temp_test) == 0:\n",
        "    new_somatic = pd.concat([new_somatic, temp],ignore_index=True, axis=0)\n",
        "  count+=1"
      ],
      "metadata": {
        "id": "S4kN9orYydIc"
      },
      "execution_count": null,
      "outputs": []
    },
    {
      "cell_type": "code",
      "source": [
        "len(new_somatic)"
      ],
      "metadata": {
        "id": "6uoVQiUo4Rkc"
      },
      "execution_count": null,
      "outputs": []
    },
    {
      "cell_type": "code",
      "source": [
        "# germline\n",
        "dif_mut_drgn_germline = pd.read_csv('/content/drive/MyDrive/log_probWT_MUT_balanced_germline_noconflicts2200AA_57maxpool.csv', header = None, names = ['mutation', 'log_difference', 'label'])\n",
        "new_germline = pd.DataFrame(columns = ['mutation', 'log_difference', 'label'])\n",
        "count=0\n",
        "for i in dif_mut_drgn_germline['mutation'].unique():\n",
        "  temp = dif_mut_drgn_germline[dif_mut_drgn_germline['mutation'] == i]\n",
        "  temp_test = dif_mut[dif_mut['mutation'] == i]\n",
        "  if len(temp_test) == 0:\n",
        "    new_germline = pd.concat([new_germline, temp],ignore_index=True, axis=0)\n",
        "  count+=1"
      ],
      "metadata": {
        "id": "zQrS3tbiajbS"
      },
      "execution_count": null,
      "outputs": []
    },
    {
      "cell_type": "code",
      "source": [
        "len(new_germline)"
      ],
      "metadata": {
        "id": "m5j3hqHeaqNG"
      },
      "execution_count": null,
      "outputs": []
    },
    {
      "cell_type": "code",
      "source": [
        "dif_mut_drgn_somatic = new_somatic\n",
        "\n",
        "# log_difference has been saved as string of list! Here I convert it back to list of floats\n",
        "fl_dif = []\n",
        "for x in dif_mut_drgn_somatic['log_difference']:\n",
        "  p = x[1:-1].split(',')\n",
        "  fl_dif.append([float(i) for i in p])\n",
        "\n",
        "dif_mut_drgn_somatic['fl_dif'] = fl_dif\n",
        "\n",
        "print('Deleterious mutations in dataset: ', len(dif_mut_drgn_somatic[dif_mut_drgn_somatic['label'] == 1]))\n",
        "print('Benign mutations in dataset: ', len(dif_mut_drgn_somatic[dif_mut_drgn_somatic['label'] == 0]))\n",
        "\n",
        "# pad to 2200 AA\n",
        "N= 2200\n",
        "fl_dif_pad =[]\n",
        "for i, mut in dif_mut_drgn_somatic.iterrows():\n",
        "  a = mut['fl_dif']\n",
        "  new_a = a + [0] * (N - len(a))\n",
        "  fl_dif_pad.append(new_a)\n",
        "dif_mut_drgn_somatic['fl_dif_pad'] = fl_dif_pad\n",
        "\n",
        "stacked_flat_drgn =[]\n",
        "for i, mut in dif_mut_drgn_somatic.iterrows():\n",
        "  stacked_flat_drgn.append(torch.tensor(mut['fl_dif_pad']))\n",
        "\n",
        "stacked_drgn = torch.stack(stacked_flat_drgn)\n",
        "print(stacked_drgn.shape)\n",
        "\n",
        "dif_mut_drgn_temp = dif_mut_drgn_somatic.mutation.str.split(pat='_',expand=True)\n",
        "labels_drgn = dif_mut_drgn_somatic['label'].tolist()\n",
        "X_drgn, y_drgn_somatic_excl = np.array(stacked_drgn), np.array(labels_drgn)\n",
        "\n",
        "drgn_dataset = ClassifierDataset(torch.from_numpy(X_drgn).float(), torch.from_numpy(y_drgn_somatic_excl).long())\n",
        "drgn_loader = DataLoader(dataset=drgn_dataset, batch_size=1 , drop_last=True)\n",
        "\n",
        "device = torch.device(\"cuda:0\" if torch.cuda.is_available() else \"cpu\")\n",
        "\n",
        "y_pred_list = []\n",
        "predictions_drgn= []\n",
        "with torch.no_grad():\n",
        "    for X_batch, _ in drgn_loader:\n",
        "        X_batch = X_batch.to(device)\n",
        "        y_test_pred = model(X_batch)\n",
        "        #print(y_test_pred)\n",
        "        predictions_drgn.extend(torch.sigmoid(y_test_pred).cpu().detach().numpy().tolist())\n",
        "        #print(predictions_drgn)\n",
        "\n",
        "flat_list_somatic_excl = []\n",
        "for sublist in predictions_drgn:\n",
        "    for item in sublist:\n",
        "        flat_list_somatic_excl.append(item)\n",
        "\n",
        "predictions_drgn_somatic_excl = [1 if i>=0.5 else 0 for i in flat_list_somatic_excl]\n",
        "confusion_matrix_df = pd.DataFrame(confusion_matrix(y_drgn_somatic_excl, predictions_drgn_somatic_excl))\n",
        "tn, fp, fn, tp = confusion_matrix(y_drgn_somatic_excl, predictions_drgn_somatic_excl).ravel()\n",
        "print(classification_report(y_drgn_somatic_excl, predictions_drgn_somatic_excl))\n",
        "print(tp, tn, fp, fn)\n",
        "TPR =tp / (tp + fn)\n",
        "print('Sensitivity: %.2f'  % (TPR*100))\n",
        "TNR = tn / (tn + fp)\n",
        "print('Specificity: %.2f'  % (TNR*100))\n",
        "print(matthews_corrcoef(y_drgn_somatic_excl, predictions_drgn_somatic_excl))\n",
        "\n",
        "lw = 2\n",
        "import matplotlib\n",
        "matplotlib.rc_file_defaults()\n",
        "fpr, tpr, _ = metrics.roc_curve(y_drgn_somatic_excl[:len(predictions_drgn_somatic_excl)],  flat_list_somatic_excl)\n",
        "auc = metrics.roc_auc_score(y_drgn_somatic_excl[:len(predictions_drgn_somatic_excl)], flat_list_somatic_excl)\n",
        "plt.plot(fpr,tpr,color=\"navy\",label=\"DRGN, auc=\"+str(round(auc, 3)))\n",
        "plt.plot([0, 1], [0, 1], color=\"darkorange\", lw=lw, linestyle=\"--\")\n",
        "plt.legend(loc=4)\n",
        "plt.xlabel(\"False Positive Rate\")\n",
        "plt.ylabel(\"True Positive Rate\")\n",
        "plt.title(\"Receiver operating characteristic DRGN set\")\n",
        "plt.rcParams[\"figure.figsize\"] = (10,10)\n",
        "plt.show()"
      ],
      "metadata": {
        "id": "b3fpCI9DzzPQ"
      },
      "execution_count": null,
      "outputs": []
    },
    {
      "cell_type": "code",
      "source": [
        "pos, AA_o, AA_t = [], [], []\n",
        "test_mutation= dif_mut_drgn_temp[1].tolist()\n",
        "for i in test_mutation:\n",
        "  pos.append(i[1:-1])\n",
        "  AA_o.append(i[0])\n",
        "  AA_t.append(i[-1])\n",
        "\n",
        "orig_drgn =AA_o\n",
        "pos_drgn = pos\n",
        "targ_drgn = AA_t\n",
        "prot_drgn = dif_mut_drgn_temp[0].tolist()\n",
        "incorrect, correct = 0,0\n",
        "incorrect_mu, incorrect_prot, correct_mu, correct_prot, correct_lab, incorrect_lab, incorrect_pre, cont_lab_inc, cont_lab_c, repres_inc, repres_c, temp_pos_inc, \\\n",
        "temp_targ_inc, temp_orig_inc, temp_pos_c, temp_targ_c, temp_orig_c, temp_len_c, temp_len_inc = [], [], [], [], [], [], [], [], [], [], [], [], [], [], [], [], [], [], []\n",
        "\n",
        "for ind, pre in enumerate(predictions_drgn):\n",
        "  if labels_drgn[ind] != pre:\n",
        "    incorrect_prot.append(prot_drgn[ind])\n",
        "    temp_pos_inc.append(pos_drgn[ind])\n",
        "    temp_targ_inc.append(targ_drgn[ind])\n",
        "    temp_orig_inc.append(orig_drgn[ind])\n",
        "    incorrect += 1\n",
        "    incorrect_lab.append(labels_drgn[ind])\n",
        "    incorrect_pre.append(pre)\n",
        "    cont_lab_inc.append(flat_list[ind]) # append the continuous values for comparison with EVE predictor\n",
        "    repres_inc.append(X_drgn[ind])\n",
        "\n",
        "  else:\n",
        "    correct +=1\n",
        "    correct_prot.append(prot_drgn[ind])\n",
        "    temp_pos_c.append(pos_drgn[ind])\n",
        "    temp_targ_c.append(targ_drgn[ind])\n",
        "    temp_orig_c.append(orig_drgn[ind])\n",
        "    correct_lab.append(labels_drgn[ind] )\n",
        "    cont_lab_c.append(flat_list[ind]) # append the continuous values for comparison with EVE predictor\n",
        "    repres_c.append(X_drgn[ind])\n",
        "\n",
        "df_incorrect_somatic = pd.DataFrame(list(zip(incorrect_prot, incorrect_lab, incorrect_pre , cont_lab_inc, temp_pos_inc, temp_orig_inc, temp_targ_inc)),#temp_len_inc)),\n",
        "               columns =['Protein', 'Ground Truth', 'Prediction', 'Continuous prediction', 'Position', 'Original', 'Target'])#, 'Length'])\n",
        "df_correct_somatic = pd.DataFrame(list(zip(correct_prot, correct_lab, cont_lab_c, temp_pos_c ,temp_orig_c, temp_targ_c)),# temp_len_c)),\n",
        "               columns =['Protein', 'Ground Truth','Continuous prediction', 'Position', 'Original', 'Target'])#, 'Length'])"
      ],
      "metadata": {
        "id": "oYw1RsM7suCm"
      },
      "execution_count": null,
      "outputs": []
    },
    {
      "cell_type": "code",
      "source": [
        "group1 = np.random.normal(loc=0, scale=1, size=100)\n",
        "group2 = np.random.normal(loc=2, scale=1, size=100)\n",
        "data = np.concatenate([group1, group2])"
      ],
      "metadata": {
        "id": "EdYodVLkDstN"
      },
      "execution_count": null,
      "outputs": []
    },
    {
      "cell_type": "code",
      "source": [
        "import numpy as np\n",
        "from sklearn.neighbors import KernelDensity\n",
        "\n",
        "# Generate example data\n",
        "group1 = np.random.multivariate_normal(mean=[0, 1], cov=[[1, 0.5], [0.5, 1]], size=100)\n",
        "group2 = np.random.multivariate_normal(mean=[6, 9], cov=[[1, 0.5], [0.5, 1]], size=100)\n",
        "\n",
        "# Fit a Gaussian kernel density estimator to each group\n",
        "kde1 = KernelDensity(kernel='gaussian', bandwidth=0.5).fit(group1)\n",
        "kde2 = KernelDensity(kernel='gaussian', bandwidth=0.5).fit(group2)\n",
        "\n",
        "\n",
        "# Calculate the probability of a point belonging to each group\n",
        "point = np.array([6, 9])\n",
        "prob_group1 = np.exp(kde1.score_samples(point.reshape(1, -1)))\n",
        "prob_group2 = np.exp(kde2.score_samples(point.reshape(1, -1)))\n",
        "\n",
        "\n",
        "print(f\"Probability of point {point} belonging to group 1: {prob_group1}\")\n",
        "print(f\"Probability of point {point} belonging to group 2: {prob_group2}\")"
      ],
      "metadata": {
        "id": "crLCuQDkA1KQ"
      },
      "execution_count": null,
      "outputs": []
    },
    {
      "cell_type": "code",
      "source": [
        "dif_mut_drgn = new_germline\n",
        "\n",
        "# log_difference has been saved as string of list! Here I convert it back to list of floats\n",
        "fl_dif = []\n",
        "for x in dif_mut_drgn['log_difference']:\n",
        "  p = x[1:-1].split(',')\n",
        "  fl_dif.append([float(i) for i in p])\n",
        "\n",
        "dif_mut_drgn['fl_dif'] = fl_dif\n",
        "\n",
        "print('Deleterious mutations in dataset: ', len(dif_mut_drgn[dif_mut_drgn['label'] == 1]))\n",
        "print('Benign mutations in dataset: ', len(dif_mut_drgn[dif_mut_drgn['label'] == 0]))\n",
        "\n",
        "# pad to 2200 AA\n",
        "N= 2200\n",
        "fl_dif_pad =[]\n",
        "for i, mut in dif_mut_drgn.iterrows():\n",
        "  a = mut['fl_dif']\n",
        "  new_a = a + [0] * (N - len(a))\n",
        "  fl_dif_pad.append(new_a)\n",
        "dif_mut_drgn['fl_dif_pad'] = fl_dif_pad\n",
        "\n",
        "stacked_flat_drgn =[]\n",
        "for i, mut in dif_mut_drgn.iterrows():\n",
        "  stacked_flat_drgn.append(torch.tensor(mut['fl_dif_pad']))\n",
        "\n",
        "stacked_drgn = torch.stack(stacked_flat_drgn)\n",
        "print(stacked_drgn.shape)\n",
        "\n",
        "dif_mut_drgn_temp = dif_mut_drgn.mutation.str.split(pat='_',expand=True)\n",
        "labels_drgn = dif_mut_drgn['label'].tolist()\n",
        "X_drgn, y_drgn_germline_excl = np.array(stacked_drgn), np.array(labels_drgn)\n",
        "\n",
        "drgn_dataset = ClassifierDataset(torch.from_numpy(X_drgn).float(), torch.from_numpy(y_drgn_germline_excl).long())\n",
        "drgn_loader = DataLoader(dataset=drgn_dataset, batch_size=1 , drop_last=True)\n",
        "\n",
        "device = torch.device(\"cuda:0\" if torch.cuda.is_available() else \"cpu\")\n",
        "\n",
        "predictions_drgn= []\n",
        "with torch.no_grad():\n",
        "    for X_batch, _ in drgn_loader:\n",
        "        X_batch = X_batch.to(device)\n",
        "        y_test_pred = model(X_batch)\n",
        "        predictions_drgn.extend(torch.sigmoid(y_test_pred).cpu().detach().numpy().tolist())\n",
        "\n",
        "flat_list_germline_excl = []\n",
        "for sublist in predictions_drgn:\n",
        "    for item in sublist:\n",
        "        flat_list_germline_excl.append(item)\n",
        "\n",
        "predictions_drgn_germline_excl = [1 if i>=0.5 else 0 for i in flat_list_germline_excl]\n",
        "confusion_matrix_df = pd.DataFrame(confusion_matrix(y_drgn_germline_excl, predictions_drgn_germline_excl))\n",
        "tn, fp, fn, tp = confusion_matrix(y_drgn_germline_excl, predictions_drgn_germline_excl).ravel()\n",
        "print(classification_report(y_drgn_germline_excl, predictions_drgn_germline_excl))\n",
        "print(tp, tn, fp, fn)\n",
        "TPR =tp / (tp + fn)\n",
        "print('Sensitivity: %.2f'  % (TPR*100))\n",
        "\n",
        "TNR = tn / (tn + fp)\n",
        "print('Specificity: %.2f'  % (TNR*100))\n",
        "print(matthews_corrcoef(y_drgn_germline_excl, predictions_drgn_germline_excl))\n",
        "\n",
        "\n",
        "lw = 2\n",
        "import matplotlib\n",
        "matplotlib.rc_file_defaults()\n",
        "fpr, tpr, _ = metrics.roc_curve(y_drgn_germline_excl[:len(predictions_drgn_germline_excl)],  flat_list_germline_excl)\n",
        "auc = metrics.roc_auc_score(y_drgn_germline_excl[:len(predictions_drgn_germline_excl)], flat_list_germline_excl)\n",
        "plt.plot(fpr,tpr,color=\"navy\",label=\"DRGN, auc=\"+str(round(auc, 3)))\n",
        "plt.plot([0, 1], [0, 1], color=\"darkorange\", lw=lw, linestyle=\"--\")\n",
        "plt.legend(loc=4)\n",
        "plt.xlabel(\"False Positive Rate\")\n",
        "plt.ylabel(\"True Positive Rate\")\n",
        "plt.title(\"Receiver operating characteristic DRGN set\")\n",
        "plt.rcParams[\"figure.figsize\"] = (10,10)\n",
        "plt.show()"
      ],
      "metadata": {
        "id": "8vRsfi1BzzSA"
      },
      "execution_count": null,
      "outputs": []
    },
    {
      "cell_type": "code",
      "source": [
        "plt.rcParams[\"figure.figsize\"] = (6,6)\n",
        "matplotlib.rcParams.update({'font.size': 9})\n",
        "\n",
        "fpr_somatic, tpr_somatic, _ = metrics.roc_curve(y_drgn_somatic[:len(predictions_drgn_somatic)],  flat_list_somatic)\n",
        "auc_somatic = metrics.roc_auc_score(y_drgn_somatic[:len(predictions_drgn_somatic)], flat_list_somatic)\n",
        "plt.plot(fpr_somatic,tpr_somatic,color=\"#168eea\",label=\"Somatic, AUC=\"+str(round(auc_somatic, 2)))\n",
        "\n",
        "fpr_somatic_excl, tpr_somatic_excl, _ = metrics.roc_curve(y_drgn_somatic_excl[:len(predictions_drgn_somatic_excl)],  flat_list_somatic_excl)\n",
        "auc_somatic_excl = metrics.roc_auc_score(y_drgn_somatic_excl[:len(predictions_drgn_somatic_excl)], flat_list_somatic_excl)\n",
        "plt.plot(fpr_somatic_excl,tpr_somatic_excl,color=\"#ee4f4f\",label=\"Somatic when excluded from training set, AUC=\"+str(round(auc_somatic_excl, 2)))\n",
        "\n",
        "fpr_germline, tpr_germline, _ = metrics.roc_curve(y_drgn_germline[:len(predictions_drgn_germline)],  flat_list_germline)\n",
        "auc_germline = metrics.roc_auc_score(y_drgn_germline[:len(predictions_drgn_germline)], flat_list_germline)\n",
        "plt.plot(fpr_germline,tpr_germline,color=\"#76b852\",label=\"Germline, AUC=\"+str(round(auc_germline, 2)))\n",
        "\n",
        "fpr_germline_excl, tpr_germline_excl, _ = metrics.roc_curve(y_drgn_germline_excl[:len(predictions_drgn_germline_excl)],  flat_list_germline_excl)\n",
        "auc_germline_excl = metrics.roc_auc_score(y_drgn_germline_excl[:len(predictions_drgn_germline_excl)], flat_list_germline_excl)\n",
        "plt.plot(fpr_germline_excl,tpr_germline_excl,color=\"#323b43\",label=\"Germline when excluded from training set, AUC=\"+str(round(auc_germline_excl, 2)))\n",
        "\n",
        "plt.plot([0, 1], [0, 1], color=\"#ced7df\", lw=lw, linestyle=\"--\")\n",
        "plt.legend(loc=4)\n",
        "plt.xlabel(\"False Positive Rate\", fontsize=12)\n",
        "plt.ylabel(\"True Positive Rate\",fontsize=12)\n",
        "#plt.title(\"Receiver operating characteristic DRGN set\")\n",
        "plt.show()"
      ],
      "metadata": {
        "id": "wjYi_XnvvVw_"
      },
      "execution_count": null,
      "outputs": []
    },
    {
      "cell_type": "code",
      "source": [
        "pos, AA_o, AA_t = [], [], []\n",
        "test_mutation= dif_mut_drgn_temp[1].tolist()\n",
        "for i in test_mutation:\n",
        "  pos.append(i[1:-1])\n",
        "  AA_o.append(i[0])\n",
        "  AA_t.append(i[-1])\n",
        "\n",
        "orig_drgn =AA_o\n",
        "pos_drgn = pos\n",
        "targ_drgn = AA_t\n",
        "prot_drgn = dif_mut_drgn_temp[0].tolist()\n",
        "incorrect, correct = 0,0\n",
        "incorrect_mu, incorrect_prot, correct_mu, correct_prot, correct_lab, incorrect_lab, incorrect_pre, cont_lab_inc, cont_lab_c, repres_inc, repres_c, temp_pos_inc, \\\n",
        "temp_targ_inc, temp_orig_inc, temp_pos_c, temp_targ_c, temp_orig_c, temp_len_c, temp_len_inc = [], [], [], [], [], [], [], [], [], [], [], [], [], [], [], [], [], [], []\n",
        "\n",
        "for ind, pre in enumerate(predictions_drgn):\n",
        "  if labels_drgn[ind] != pre:\n",
        "\n",
        "    incorrect_prot.append(prot_drgn[ind])\n",
        "    temp_pos_inc.append(pos_drgn[ind])\n",
        "    temp_targ_inc.append(targ_drgn[ind])\n",
        "    temp_orig_inc.append(orig_drgn[ind])\n",
        "    incorrect += 1\n",
        "    incorrect_lab.append(labels_drgn[ind])\n",
        "    incorrect_pre.append(pre)\n",
        "    cont_lab_inc.append(flat_list[ind]) # append the continuous values for comparison with EVE predictor\n",
        "    repres_inc.append(X_drgn[ind])\n",
        "\n",
        "  else:\n",
        "    correct +=1\n",
        "    correct_prot.append(prot_drgn[ind])\n",
        "    temp_pos_c.append(pos_drgn[ind])\n",
        "    temp_targ_c.append(targ_drgn[ind])\n",
        "    temp_orig_c.append(orig_drgn[ind])\n",
        "    correct_lab.append(labels_drgn[ind] )\n",
        "    cont_lab_c.append(flat_list[ind]) # append the continuous values for comparison with EVE predictor\n",
        "    repres_c.append(X_drgn[ind])\n",
        "\n",
        "df_incorrect_germline = pd.DataFrame(list(zip(incorrect_prot, incorrect_lab, incorrect_pre , cont_lab_inc, temp_pos_inc, temp_orig_inc, temp_targ_inc)),#temp_len_inc)),\n",
        "               columns =['Protein', 'Ground Truth', 'Prediction', 'Continuous prediction', 'Position', 'Original', 'Target'])#, 'Length'])\n",
        "df_correct_germline = pd.DataFrame(list(zip(correct_prot, correct_lab, cont_lab_c, temp_pos_c ,temp_orig_c, temp_targ_c)),# temp_len_c)),\n",
        "               columns =['Protein', 'Ground Truth','Continuous prediction', 'Position', 'Original', 'Target'])#, 'Length'])"
      ],
      "metadata": {
        "id": "42B9TVWUtN50"
      },
      "execution_count": null,
      "outputs": []
    },
    {
      "cell_type": "markdown",
      "source": [
        "how many of somatic are in training set\n"
      ],
      "metadata": {
        "id": "KR6LfxH-pQkb"
      }
    },
    {
      "cell_type": "code",
      "source": [
        "# import difference for each mutation + labels\n",
        "dif_mut = pd.read_csv('/content/drive/MyDrive/log_probWT_MUT_Tier1_2_3_common_balanced+-2_2200AA_57maxpool.csv', header = None, names = ['mutation', 'log_difference', 'label'])"
      ],
      "metadata": {
        "id": "pvWxvJA0penk"
      },
      "execution_count": null,
      "outputs": []
    },
    {
      "cell_type": "code",
      "source": [
        "somatic_mutations = pd.read_csv('/content/drive/MyDrive/log_probWT_MUT_balanced_somatic_noconflicts2200AA_57maxpool.csv', header = None, names = ['mutation', 'log_difference', 'label'])\n",
        "somatic_mutations.drop_duplicates(subset = 'mutation', inplace =True)\n",
        "test_somatic = somatic_mutations['mutation'].unique()\n",
        "dif_mut_test_somatic = dif_mut['mutation'].unique()\n",
        "\n",
        "shared_elements = set(test_somatic) & set(dif_mut_test_somatic)\n",
        "print(len(shared_elements))\n",
        "shared_elements = list(shared_elements)"
      ],
      "metadata": {
        "id": "5g8f8qOtqhPN"
      },
      "execution_count": null,
      "outputs": []
    },
    {
      "cell_type": "code",
      "source": [
        "# how many of the shared are in the correct one\n",
        "count_correct =0\n",
        "corr_list = []\n",
        "for i in shared_elements:\n",
        "  prot = i.split('_')[0]\n",
        "  temp = df_correct_somatic[df_correct_somatic['Protein'] == prot]\n",
        "  for j, temp_temp in temp.iterrows():\n",
        "    string_temp = temp_temp['Protein'] + '_' + temp_temp['Original']+  temp_temp['Position']+  temp_temp['Target']\n",
        "    if string_temp == i:\n",
        "      count_correct +=1\n",
        "      corr_list.append(string_temp)"
      ],
      "metadata": {
        "id": "GD0vE-b8tgIO"
      },
      "execution_count": null,
      "outputs": []
    },
    {
      "cell_type": "code",
      "source": [
        "print(count_correct)"
      ],
      "metadata": {
        "id": "Pzb3X3Op11r1"
      },
      "execution_count": null,
      "outputs": []
    },
    {
      "cell_type": "code",
      "source": [
        "# how many of the shared are in the incorrect one\n",
        "count_incorrect =0\n",
        "incorr_list = []\n",
        "for i in shared_elements:\n",
        "  prot = i.split('_')[0]\n",
        "  temp = df_incorrect_somatic[df_incorrect_somatic['Protein'] == prot]\n",
        "  for j, temp_temp in temp.iterrows():\n",
        "    string_temp = temp_temp['Protein'] + '_' + temp_temp['Original']+  temp_temp['Position']+  temp_temp['Target']\n",
        "    if string_temp == i:\n",
        "      count_incorrect +=1\n",
        "      incorr_list.append(string_temp)"
      ],
      "metadata": {
        "id": "l5gapFsqwHdN"
      },
      "execution_count": null,
      "outputs": []
    },
    {
      "cell_type": "code",
      "source": [
        "print(count_incorrect)"
      ],
      "metadata": {
        "id": "G2jjspNf3RmT"
      },
      "execution_count": null,
      "outputs": []
    },
    {
      "cell_type": "markdown",
      "source": [
        "how many of germline are in training set"
      ],
      "metadata": {
        "id": "dw8BwAADpXP7"
      }
    },
    {
      "cell_type": "code",
      "source": [
        "germline_mutations = pd.read_csv('/content/drive/MyDrive/log_probWT_MUT_balanced_germline_noconflicts2200AA_57maxpool.csv', header = None, names = ['mutation', 'log_difference', 'label'])\n",
        "germline_mutations.drop_duplicates(subset = 'mutation', inplace =True)\n",
        "test_germline = germline_mutations['mutation'].unique()\n",
        "dif_mut_test_germline = dif_mut['mutation'].unique()\n",
        "\n",
        "shared_elements = set(test_germline) & set(dif_mut_test_germline)\n",
        "print(len(shared_elements))\n",
        "shared_elements = list(shared_elements)"
      ],
      "metadata": {
        "id": "tAD26GFArLyr"
      },
      "execution_count": null,
      "outputs": []
    },
    {
      "cell_type": "code",
      "source": [
        "# how many of the shared are in the correct one\n",
        "count_correct =0\n",
        "corr_list = []\n",
        "for i in shared_elements:\n",
        "  prot = i.split('_')[0]\n",
        "  temp = df_correct_germline[df_correct_germline['Protein'] == prot]\n",
        "  for j, temp_temp in temp.iterrows():\n",
        "    string_temp = temp_temp['Protein'] + '_' + temp_temp['Original']+  temp_temp['Position']+  temp_temp['Target']\n",
        "    if string_temp == i:\n",
        "      count_correct +=1\n",
        "      corr_list.append(string_temp)"
      ],
      "metadata": {
        "id": "pAtIljilrL05"
      },
      "execution_count": null,
      "outputs": []
    },
    {
      "cell_type": "code",
      "source": [
        "print(count_correct)"
      ],
      "metadata": {
        "id": "zwAC6QDd3glD"
      },
      "execution_count": null,
      "outputs": []
    },
    {
      "cell_type": "code",
      "source": [
        "# how many of the shared are in the incorrect one\n",
        "count_incorrect =0\n",
        "incorr_list = []\n",
        "for i in shared_elements:\n",
        "  prot = i.split('_')[0]\n",
        "  temp = df_incorrect_germline[df_incorrect_germline['Protein'] == prot]\n",
        "  for j, temp_temp in temp.iterrows():\n",
        "    string_temp = temp_temp['Protein'] + '_' + temp_temp['Original']+  temp_temp['Position']+  temp_temp['Target']\n",
        "    if string_temp == i:\n",
        "      count_incorrect +=1\n",
        "      incorr_list.append(string_temp)\n",
        "print(count_incorrect)"
      ],
      "metadata": {
        "id": "7lMkWr3mwtJr"
      },
      "execution_count": null,
      "outputs": []
    },
    {
      "cell_type": "markdown",
      "metadata": {
        "id": "U_Zk82ER50za"
      },
      "source": [
        "# ClinVar: TP53, PTEN, MSH2, BRAF"
      ]
    },
    {
      "cell_type": "markdown",
      "source": [
        "### input TP53 Clinvar expert panel and multiple submitters annotations, check if mutation iscorerct and check if D2D prediction is correct"
      ],
      "metadata": {
        "id": "4pSBhzp97LEM"
      }
    },
    {
      "cell_type": "code",
      "source": [
        "import pandas as pd\n",
        "\n",
        "tp53_clinvar = pd.read_csv('TP53_expert_multiple_single_submitters.txt', delimiter='\\t', usecols=['Name', 'Gene(s)', 'Condition(s)' ,'Protein change', 'Clinical significance (Last reviewed)'])\n",
        "tp53_clinvar['label'] = tp53_clinvar['Clinical significance (Last reviewed)'].apply(clean_labels)\n",
        "tp53_clinvar['condition'] = tp53_clinvar['Condition(s)'].apply(cancer_labels)\n",
        "\n",
        "tp53_predictions = pd.read_csv('P04637_all_results2.csv')"
      ],
      "metadata": {
        "id": "YuqtSd8O7ZXg"
      },
      "execution_count": null,
      "outputs": []
    },
    {
      "cell_type": "code",
      "source": [
        "def clean_labels(val):\n",
        "    if 'Likely benign' in val:\n",
        "        return 'likely benign'\n",
        "    elif 'Benign' in val:\n",
        "        return 'benign'\n",
        "    elif 'Likely pathogenic' in val:\n",
        "        return 'likely pathogenic'\n",
        "    elif 'Pathogenic' in val:\n",
        "        return 'pathogenic'\n",
        "    else:\n",
        "        return 'VUS'\n",
        "\n",
        "def cancer_labels(val):\n",
        "    if 'cancer' in val:\n",
        "        return 'cancer'\n",
        "    else:\n",
        "        return 'non_canceric'"
      ],
      "metadata": {
        "id": "s_Iq8n-WC4NF"
      },
      "execution_count": null,
      "outputs": []
    },
    {
      "cell_type": "code",
      "source": [
        "def AAconvert(AminoAcid):\n",
        "\n",
        "  aa = {\n",
        "      'Ala' : 'A',\n",
        "      'Arg' : 'R',\n",
        "      'Asn' : 'N',\n",
        "      'Asp' : 'D',\n",
        "      'Cys' : 'C',\n",
        "      'Glu' : 'E',\n",
        "      'Gln' : 'Q',\n",
        "      'Gly' : 'G',\n",
        "      'His' : 'H',\n",
        "      'Ile' : 'I',\n",
        "      'Leu' : 'L',\n",
        "      'Lys' : 'K',\n",
        "      'Met' : 'M',\n",
        "      'Phe' : 'F',\n",
        "      'Pro' : 'P',\n",
        "      'Ser' : 'S',\n",
        "      'Thr' : 'T',\n",
        "      'Trp' : 'W',\n",
        "      'Tyr' : 'Y',\n",
        "      'Val' : 'V',\n",
        "      'Ter' : '*'\n",
        "\n",
        "  }\n",
        "  return aa[AminoAcid]\n",
        "\n",
        "def d2d_performance_vs_clinvar_correct(d2d_predictions, clinvar_file, cancer_flag=False):\n",
        "  if cancer_flag == True:\n",
        "    clinvar_file = clinvar_file[clinvar_file['condition']=='cancer']\n",
        "  d2d_predictions['conc_mutation'] = d2d_predictions['AA_orig'] + d2d_predictions['position'].astype(str) + d2d_predictions['AA_targ']\n",
        "  correct, incorrect, vus_nb, count_mutations = 0,0,0,0\n",
        "  incorrect_mutation, correct_mutation = [], []\n",
        "  for i, mut in clinvar_file.iterrows():\n",
        "    mutations = mut['Name'].split('(p.')[1][:-1]\n",
        "    mutation= AAconvert(mutations[:3])+ mutations[3:-3]+ AAconvert(mutations[-3:])\n",
        "    temp = d2d_predictions[d2d_predictions['conc_mutation'] == mutation]\n",
        "    if len(temp) >0:\n",
        "      count_mutations+=1\n",
        "      #if (mut['label'] == 'benign' and float(temp['D2D_prediction']) <0.5) or (mut['label'] == 'pathogenic' and float(temp['D2D_prediction']) >=0.5) :\n",
        "      if ('benign' in mut['label']and float(temp['D2D_prediction']) <0.5) or ('pathogenic' in mut['label'] and float(temp['D2D_prediction']) >=0.5) :\n",
        "        correct+=1\n",
        "        correct_mutation.append([mut['label'],temp['conc_mutation'].values[0]])\n",
        "      elif (mut['label'] == 'pathogenic' and float(temp['D2D_prediction']) <0.5) or (mut['label'] == 'benign' and float(temp['D2D_prediction']) >=0.5):\n",
        "        incorrect+=1\n",
        "        incorrect_mutation.append([mut['label'],temp['conc_mutation'].values[0]])\n",
        "      else:\n",
        "        vus_nb+=1\n",
        "  return correct, incorrect, vus_nb, count_mutations, incorrect_mutation, correct_mutation"
      ],
      "metadata": {
        "id": "vRpRwLYlSN59"
      },
      "execution_count": null,
      "outputs": []
    },
    {
      "cell_type": "code",
      "source": [
        "'''def d2d_performance_vs_clinvar(d2d_predictions, clinvar_file, cancer_flag=False):\n",
        "  if cancer_flag == True:\n",
        "    clinvar_file = clinvar_file[clinvar_file['condition']=='cancer']\n",
        "  d2d_predictions['conc_mutation'] = d2d_predictions['AA_orig'] + d2d_predictions['position'].astype(str) + d2d_predictions['AA_targ']\n",
        "  correct, incorrect, vus_nb, count_mutations = 0,0,0,0\n",
        "  incorrect_mutation, correct_mutation = [], []\n",
        "  for i, mut in clinvar_file.iterrows():\n",
        "    mutations = mut['Protein change'].split(', ')\n",
        "    for mutation in mutations:\n",
        "      temp = d2d_predictions[d2d_predictions['conc_mutation'] == mutation]\n",
        "      if len(temp) >0:\n",
        "        count_mutations+=1\n",
        "        if (mut['label'] == 'benign' and float(temp['D2D_prediction']) <0.5) or (mut['label'] == 'pathogenic' and float(temp['D2D_prediction']) >=0.5) :\n",
        "          correct+=1\n",
        "          correct_mutation.append([mut['label'],temp['conc_mutation'].values[0]])\n",
        "        elif (mut['label'] == 'pathogenic' and float(temp['D2D_prediction']) <0.5) or (mut['label'] == 'benign' and float(temp['D2D_prediction']) >=0.5):\n",
        "          incorrect+=1\n",
        "          incorrect_mutation.append([mut['label'],temp['conc_mutation'].values[0]])\n",
        "        else:\n",
        "          vus_nb+=1\n",
        "  return correct, incorrect, vus_nb, count_mutations, incorrect_mutation, correct_mutation\n",
        "'''"
      ],
      "metadata": {
        "id": "6bxzg0Ml7ZbH"
      },
      "execution_count": null,
      "outputs": []
    },
    {
      "cell_type": "code",
      "source": [
        "correct, incorrect, vus_nb, count_mutations, incorrect_mutation, correct_mutation = d2d_performance_vs_clinvar_correct(tp53_predictions,tp53_clinvar, False)\n",
        "\n",
        "print(f'Correct labels for TP53: {correct} out of {count_mutations-vus_nb} with known significance. Accuracy: {round(correct / (count_mutations-vus_nb),3)}')\n",
        "print('--------------------------')\n",
        "print('Inorrect labels for TP53: ', incorrect)\n",
        "print('--------------------------')\n",
        "print(f'VUS labels for TP53: {vus_nb}, VUS percentage in gene annotations {round(vus_nb/count_mutations,3)}')"
      ],
      "metadata": {
        "id": "I2Pdp1W4UHFN"
      },
      "execution_count": null,
      "outputs": []
    },
    {
      "cell_type": "code",
      "source": [
        "def d2d_performance_vs_clinvar_labels_correct(d2d_predictions, clinvar_file, cancer_flag=False):\n",
        "  if cancer_flag == True:\n",
        "    clinvar_file = clinvar_file[clinvar_file['condition']=='cancer']\n",
        "  d2d_predictions['conc_mutation'] = d2d_predictions['AA_orig'] + d2d_predictions['position'].astype(str) + d2d_predictions['AA_targ']\n",
        "\n",
        "  correct, incorrect, vus_nb, count_mutations = 0,0,0,0\n",
        "  incorrect_mutation, correct_mutation = [], []\n",
        "  clinvar_file = clinvar_file[clinvar_file['Protein change'].notna()]\n",
        "  predictions_clinvar_labels = pd.DataFrame(columns =  [\"uniprot id\", \"WT_sequence\",\"mut_sequence\", \"AA_orig\", \"position\", \"AA_targ\", \"D2D_prediction\", \"conc_mutation\",\"lab_clinvar\"])\n",
        "\n",
        "  for i, mut in clinvar_file.iterrows():\n",
        "    mutations = mut['Name'].split('(p.')[1][:-1]\n",
        "    mutation= AAconvert(mutations[:3])+ mutations[3:-3]+ AAconvert(mutations[-3:])\n",
        "\n",
        "    temp = d2d_predictions[d2d_predictions['conc_mutation'] == mutation]\n",
        "\n",
        "    if len(temp) >0:\n",
        "      count_mutations+=1\n",
        "      if (mut['label'] == 'benign' and float(temp['D2D_prediction']) <0.5) or (mut['label'] == 'likely benign' and float(temp['D2D_prediction']) <0.5)  or (mut['label'] == 'pathogenic' and float(temp['D2D_prediction']) >=0.5) or (mut['label'] == 'likely pathogenic' and float(temp['D2D_prediction']) >=0.5):\n",
        "        correct+=1\n",
        "        correct_mutation.append([mut['label'],temp['conc_mutation'].values[0]])\n",
        "        temp['lab_clinvar'] = mut['label']\n",
        "        temp['condition'] = str(mut['condition'])\n",
        "        predictions_clinvar_labels = predictions_clinvar_labels.append(temp)\n",
        "      elif (mut['label'] == 'pathogenic' and float(temp['D2D_prediction']) <0.5) or (mut['label'] == 'likely pathogenic' and float(temp['D2D_prediction']) <0.5) or  (mut['label'] == 'benign' and float(temp['D2D_prediction']) >=0.5) or (mut['label'] == 'likely benign' and float(temp['D2D_prediction']) >=0.5):\n",
        "        incorrect+=1\n",
        "        incorrect_mutation.append([mut['label'],temp['conc_mutation'].values[0]])\n",
        "        temp['condition'] = str(mut['condition'])\n",
        "        temp['lab_clinvar'] = mut['label']\n",
        "        predictions_clinvar_labels = predictions_clinvar_labels.append(temp)\n",
        "      elif mut['label'] == 'VUS' and float(temp['D2D_prediction'] < 0.5):\n",
        "        temp['lab_clinvar'] = ['VUS, D2D benign']\n",
        "        temp['condition'] = str(mut['condition'])\n",
        "        vus_nb+=1\n",
        "        temp['condition'] = str(mut['condition'])\n",
        "        predictions_clinvar_labels = predictions_clinvar_labels.append(temp)\n",
        "      elif mut['label'] == 'VUS' and float(temp['D2D_prediction'] >= 0.5):\n",
        "        temp['lab_clinvar'] = ['VUS, D2D deleterious']\n",
        "        temp['condition'] = str(mut['condition'])\n",
        "        vus_nb+=1\n",
        "        predictions_clinvar_labels = predictions_clinvar_labels.append(temp)\n",
        "    else:\n",
        "      pass # another reference genome\n",
        "\n",
        "  return correct, incorrect, vus_nb, count_mutations, incorrect_mutation, correct_mutation, predictions_clinvar_labels"
      ],
      "metadata": {
        "id": "1zl84pHVYPuv"
      },
      "execution_count": null,
      "outputs": []
    },
    {
      "cell_type": "code",
      "source": [
        "braf_clinvar = pd.read_csv('BRAF_expert_multiple_single_submitters.txt',  delimiter = '\\t', usecols=['Name', 'Gene(s)', 'Condition(s)' ,'Protein change', 'Clinical significance (Last reviewed)'])\n",
        "braf_clinvar['label'] = braf_clinvar['Clinical significance (Last reviewed)'].apply(clean_labels)\n",
        "braf_clinvar['condition'] = braf_clinvar['Condition(s)'].apply(cancer_labels)\n",
        "\n",
        "braf_predictions = pd.read_csv('P15056_all_results.csv', sep=',')\n",
        "\n",
        "correct, incorrect, vus_nb, count_mutations, incorrect_mutation, correct_mutation  = d2d_performance_vs_clinvar_correct(braf_predictions,braf_clinvar, False)\n",
        "\n",
        "print(f'Correct labels for BRAF: {correct} out of {count_mutations-vus_nb} with known significance. Accuracy: {round(correct / (count_mutations-vus_nb),3)}')\n",
        "print('--------------------------')\n",
        "print('Inorrect labels for BRAF: ', incorrect)\n",
        "print('--------------------------')\n",
        "print(f'VUS labels for BRAF: {vus_nb}, VUS percentage in gene annotations {round(vus_nb/count_mutations,3)}')"
      ],
      "metadata": {
        "id": "VXFKU7rFDKDv"
      },
      "execution_count": null,
      "outputs": []
    },
    {
      "cell_type": "code",
      "source": [
        "ar_clinvar = pd.read_csv('AR_expert_multiple_single_submitters.txt', delimiter = '\\t', usecols=['Name', 'Gene(s)', 'Condition(s)' ,'Protein change', 'Clinical significance (Last reviewed)'])\n",
        "ar_clinvar['label'] = ar_clinvar['Clinical significance (Last reviewed)'].apply(clean_labels)\n",
        "ar_clinvar['condition'] = ar_clinvar['Condition(s)'].apply(cancer_labels)\n",
        "\n",
        "ar_predictions = pd.read_csv('AR_d2d_results.csv', sep=',')\n",
        "\n",
        "# for converting d2d_results to d2d_performance_vs_clinvar format\n",
        "temp = ar_predictions.mutation.str.split(pat='_',expand=True)[0]\n",
        "ar_predictions['uniprot id'] = temp\n",
        "temp = ar_predictions.mutation.str.split(pat='_',expand=True)[1]\n",
        "ar_predictions= ar_predictions.drop('mutation', axis=1)\n",
        "ar_predictions['mutation']= temp\n",
        "ar_predictions['AA_orig'] = ar_predictions['mutation'].str[:1]\n",
        "ar_predictions['AA_targ'] = ar_predictions['mutation'].str[-1:]\n",
        "ar_predictions['position'] = ar_predictions['mutation'].str[1:-1]\n",
        "# drop original column\n",
        "ar_predictions = ar_predictions.drop('mutation', axis=1)\n",
        "ar_predictions = ar_predictions.rename(columns={\"prediction\": \"D2D_prediction\"})\n",
        "\n",
        "correct, incorrect, vus_nb, count_mutations, incorrect_mutation, correct_mutation  = d2d_performance_vs_clinvar_correct(ar_predictions,ar_clinvar, False)\n",
        "\n",
        "print(f'Correct labels for BRAF: {correct} out of {count_mutations-vus_nb} with known significance. Accuracy: {round(correct / (count_mutations-vus_nb),3)}')\n",
        "print('--------------------------')\n",
        "print('Inorrect labels for BRAF: ', incorrect)\n",
        "print('--------------------------')\n",
        "print(f'VUS labels for BRAF: {vus_nb}, VUS percentage in gene annotations {round(vus_nb/count_mutations,3)}')"
      ],
      "metadata": {
        "id": "M2gzjEAMts1s"
      },
      "execution_count": null,
      "outputs": []
    },
    {
      "cell_type": "code",
      "source": [
        "chek2_clinvar = pd.read_csv('CHEK2_expert_multiple_single_submitters.txt', delimiter = '\\t', usecols=['Name', 'Gene(s)', 'Condition(s)' ,'Protein change', 'Clinical significance (Last reviewed)'])\n",
        "chek2_clinvar['label'] = chek2_clinvar['Clinical significance (Last reviewed)'].apply(clean_labels)\n",
        "chek2_clinvar['condition'] = chek2_clinvar['Condition(s)'].apply(cancer_labels)\n",
        "\n",
        "chek2_predictions = pd.read_csv('CHEK2_d2d_results.csv', sep=',')\n",
        "\n",
        "# for converting d2d_results to d2d_performance_vs_clinvar format\n",
        "temp = chek2_predictions.mutation.str.split(pat='_',expand=True)[0]\n",
        "chek2_predictions['uniprot id'] = temp\n",
        "temp = chek2_predictions.mutation.str.split(pat='_',expand=True)[1]\n",
        "chek2_predictions= chek2_predictions.drop('mutation', axis=1)\n",
        "chek2_predictions['mutation']= temp\n",
        "chek2_predictions['AA_orig'] = chek2_predictions['mutation'].str[:1]\n",
        "chek2_predictions['AA_targ'] = chek2_predictions['mutation'].str[-1:]\n",
        "chek2_predictions['position'] = chek2_predictions['mutation'].str[1:-1]\n",
        "# drop original column\n",
        "chek2_predictions = chek2_predictions.drop('mutation', axis=1)\n",
        "chek2_predictions = chek2_predictions.rename(columns={\"prediction\": \"D2D_prediction\"})\n",
        "\n",
        "correct, incorrect, vus_nb, count_mutations, incorrect_mutation, correct_mutation  = d2d_performance_vs_clinvar_correct(chek2_predictions,chek2_clinvar, False)\n",
        "\n",
        "print(f'Correct labels for CHEK2: {correct} out of {count_mutations-vus_nb} with known significance. Accuracy: {round(correct / (count_mutations-vus_nb),3)}')\n",
        "print('--------------------------')\n",
        "print('Inorrect labels for CHEK2: ', incorrect)\n",
        "print('--------------------------')\n",
        "print(f'VUS labels for CHEK2: {vus_nb}, VUS percentage in gene annotations {round(vus_nb/count_mutations,3)}')"
      ],
      "metadata": {
        "id": "Vi6alxt8xuTY"
      },
      "execution_count": null,
      "outputs": []
    },
    {
      "cell_type": "code",
      "source": [
        "pten_clinvar = pd.read_csv('PTEN_expert_multiple_single_submitters.txt', delimiter = '\\t', usecols=['Name', 'Gene(s)', 'Condition(s)' ,'Protein change', 'Clinical significance (Last reviewed)'])\n",
        "pten_clinvar['label'] = pten_clinvar['Clinical significance (Last reviewed)'].apply(clean_labels)\n",
        "pten_clinvar['condition'] = pten_clinvar['Condition(s)'].apply(cancer_labels)\n",
        "\n",
        "pten_predictions = pd.read_csv('PTEN_d2d_results.csv', sep=',')\n",
        "\n",
        "# for converting d2d_results to d2d_performance_vs_clinvar format\n",
        "temp = pten_predictions.mutation.str.split(pat='_',expand=True)[0]\n",
        "pten_predictions['uniprot id'] = temp\n",
        "temp = pten_predictions.mutation.str.split(pat='_',expand=True)[1]\n",
        "pten_predictions= pten_predictions.drop('mutation', axis=1)\n",
        "pten_predictions['mutation']= temp\n",
        "pten_predictions['AA_orig'] = pten_predictions['mutation'].str[:1]\n",
        "pten_predictions['AA_targ'] = pten_predictions['mutation'].str[-1:]\n",
        "pten_predictions['position'] = pten_predictions['mutation'].str[1:-1]\n",
        "# drop original column\n",
        "pten_predictions = pten_predictions.drop('mutation', axis=1)\n",
        "pten_predictions = pten_predictions.rename(columns={\"prediction\": \"D2D_prediction\"})\n",
        "\n",
        "correct, incorrect, vus_nb, count_mutations, incorrect_mutation, correct_mutation  = d2d_performance_vs_clinvar_correct(pten_predictions,pten_clinvar, False)\n",
        "\n",
        "print(f'Correct labels for PTEN: {correct} out of {count_mutations-vus_nb} with known significance. Accuracy: {round(correct / (count_mutations-vus_nb),3)}')\n",
        "print('--------------------------')\n",
        "print('Inorrect labels for PTEN: ', incorrect)\n",
        "print('--------------------------')\n",
        "print(f'VUS labels for PTEN: {vus_nb}, VUS percentage in gene annotations {round(vus_nb/count_mutations,3)}')"
      ],
      "metadata": {
        "id": "Hg1PYefw8n4Z"
      },
      "execution_count": null,
      "outputs": []
    },
    {
      "cell_type": "markdown",
      "source": [
        "### clinvar vs predictions figures"
      ],
      "metadata": {
        "id": "IDUwHHAMC_Mc"
      }
    },
    {
      "cell_type": "markdown",
      "source": [
        "TP53"
      ],
      "metadata": {
        "id": "tXrgiMqBC6IU"
      }
    },
    {
      "cell_type": "code",
      "source": [
        "tp53_clinvar = pd.read_csv('TP53_expert_multiple_single_submitters.txt', delimiter = '\\t' , usecols=['Name', 'Gene(s)', 'Condition(s)' ,'Protein change', 'Clinical significance (Last reviewed)'])\n",
        "tp53_clinvar['label'] = tp53_clinvar['Clinical significance (Last reviewed)'].apply(clean_labels)\n",
        "tp53_clinvar['condition'] = tp53_clinvar['Condition(s)'].apply(cancer_labels)\n",
        "\n",
        "tp53_predictions = pd.read_csv('/content/drive/MyDrive/TP53_d2d_results2.csv')\n",
        "#tp53_predictions = tp53_predictions.drop(columns='Unnamed: 0')\n",
        "\n",
        "# for converting d2d_results to d2d_performance_vs_clinvar format\n",
        "temp = tp53_predictions.mutation.str.split(pat='_',expand=True)[0]\n",
        "tp53_predictions['uniprot id'] = temp\n",
        "\n",
        "temp = tp53_predictions.mutation.str.split(pat='_',expand=True)[1]\n",
        "tp53_predictions= tp53_predictions.drop('mutation', axis=1)\n",
        "tp53_predictions['mutation']= temp\n",
        "\n",
        "tp53_predictions['AA_orig'] = tp53_predictions['mutation'].str[:1]\n",
        "tp53_predictions['AA_targ'] = tp53_predictions['mutation'].str[-1:]\n",
        "tp53_predictions['position'] = tp53_predictions['mutation'].str[1:-1]\n",
        "\n",
        "# drop original column\n",
        "tp53_predictions = tp53_predictions.drop('mutation', axis=1)\n",
        "tp53_predictions = tp53_predictions.rename(columns={\"prediction\": \"D2D_prediction\"})\n",
        "\n",
        "correct, incorrect, vus_nb, count_mutations, incorrect_mutation, correct_mutation, predictions_clinvar_labels = d2d_performance_vs_clinvar_labels_correct(tp53_predictions,tp53_clinvar, True)"
      ],
      "metadata": {
        "id": "8tjVcQVaDkQ8"
      },
      "execution_count": null,
      "outputs": []
    },
    {
      "cell_type": "code",
      "source": [
        "predictions_clinvar_labels['pos'] = pd.to_numeric(predictions_clinvar_labels['position'],errors='coerce')\n",
        "test = predictions_clinvar_labels.sort_values(by='position', ascending=True)"
      ],
      "metadata": {
        "id": "Hv6CeTaHDK4Y"
      },
      "execution_count": null,
      "outputs": []
    },
    {
      "cell_type": "code",
      "source": [
        "fig = px.scatter(test, x='pos', y='D2D_prediction',\n",
        "                 color =  test['lab_clinvar'],\n",
        "                 symbol = test['lab_clinvar'],\n",
        "                 symbol_sequence= ['circle-open', 'circle-open','x','x', 'x', 'x'],\n",
        "                 color_discrete_sequence = ['#a4c639' ,'#ffce54' ,  '#ffa7b1','#ed5564','blue', '#82AAE3'], opacity = 0.85, width =1300, height =400,  hover_data=['conc_mutation', 'D2D_prediction' ])\n",
        "\n",
        "\n",
        "# Change the bar mode\n",
        "fig.update_layout(barmode='group', title=\"TP53 Gene - cancer related mutations\",\n",
        "    xaxis_title=\"Position\",\n",
        "    yaxis_title=\"D2D prediction\",\n",
        "    font_family=\"Arial\",\n",
        "    legend_title=\"Groundtruth\",\n",
        "    title_font_family=\"Arial\")\n",
        "fig.show()"
      ],
      "metadata": {
        "id": "_VOIrmBzFb0G"
      },
      "execution_count": null,
      "outputs": []
    },
    {
      "cell_type": "markdown",
      "source": [
        "BRAF"
      ],
      "metadata": {
        "id": "PfgcnfpQDAua"
      }
    },
    {
      "cell_type": "code",
      "source": [
        "braf_clinvar = pd.read_csv('BRAF_expert_multiple_single_submitters.txt',delimiter = '\\t' , usecols=['Name','Gene(s)', 'Condition(s)' ,'Protein change', 'Clinical significance (Last reviewed)'])\n",
        "braf_clinvar['label'] = braf_clinvar['Clinical significance (Last reviewed)'].apply(clean_labels)\n",
        "braf_clinvar['condition'] = braf_clinvar['Condition(s)'].apply(cancer_labels)\n",
        "\n",
        "braf_predictions = pd.read_csv('/content/drive/MyDrive/BRAF_d2d_results.csv')\n",
        "\n",
        "# for converting d2d_results to d2d_performance_vs_clinvar format\n",
        "temp = braf_predictions.mutation.str.split(pat='_',expand=True)[0]\n",
        "braf_predictions['uniprot id'] = temp\n",
        "\n",
        "temp = braf_predictions.mutation.str.split(pat='_',expand=True)[1]\n",
        "braf_predictions= braf_predictions.drop('mutation', axis=1)\n",
        "braf_predictions['mutation']= temp\n",
        "\n",
        "braf_predictions['AA_orig'] = braf_predictions['mutation'].str[:1]\n",
        "braf_predictions['AA_targ'] = braf_predictions['mutation'].str[-1:]\n",
        "braf_predictions['position'] = braf_predictions['mutation'].str[1:-1]\n",
        "\n",
        "# drop original column\n",
        "braf_predictions = braf_predictions.drop('mutation', axis=1)\n",
        "braf_predictions = braf_predictions.rename(columns={\"prediction\": \"D2D_prediction\"})\n",
        "\n",
        "correct, incorrect, vus_nb, count_mutations, incorrect_mutation, correct_mutation, predictions_clinvar_labels = d2d_performance_vs_clinvar_labels_correct(braf_predictions,braf_clinvar, False)"
      ],
      "metadata": {
        "id": "TZvBb6AgOv2C"
      },
      "execution_count": null,
      "outputs": []
    },
    {
      "cell_type": "code",
      "source": [
        "predictions_clinvar_labels['pos'] = pd.to_numeric(predictions_clinvar_labels['position'],errors='coerce')\n",
        "test = predictions_clinvar_labels.sort_values(by='position', ascending=True)\n",
        "fig = px.scatter(test, x='pos', y='D2D_prediction',\n",
        "                 color =  test['lab_clinvar'],\n",
        "                 symbol = test['lab_clinvar'],\n",
        "\n",
        "                 symbol_sequence= ['circle-open','circle-open', 'x','x', 'x', 'x'],\n",
        "                 #color_discrete_sequence = ['#a4c639','#ffce54' , 'blue', '#FABE8C',  '#ed5564' ,'#82AAE3'], opacity = 0.85, width =1300, height =400,  hover_data=['conc_mutation', 'D2D_prediction' ])\n",
        "                 color_discrete_sequence = ['#a4c639','#ffce54' ,'#82AAE3' ,  '#ffa7b1',  'blue', '#ed5564'], opacity = 0.85, width =1300, height =400,  hover_data=['conc_mutation', 'D2D_prediction' ])\n",
        "# Change the bar mode\n",
        "fig.update_layout(barmode='group', title=\"BRAF Gene - cancer related mutations\",\n",
        "    xaxis_title=\"Position\",\n",
        "    yaxis_title=\"D2D prediction\",\n",
        "    font_family=\"Arial\",\n",
        "    legend_title=\"Groundtruth\",\n",
        "    title_font_family=\"Arial\")\n",
        "fig.show()"
      ],
      "metadata": {
        "id": "IOtjqHWROv4J"
      },
      "execution_count": null,
      "outputs": []
    },
    {
      "cell_type": "markdown",
      "source": [
        "AR"
      ],
      "metadata": {
        "id": "2vwxzj6rDCCU"
      }
    },
    {
      "cell_type": "code",
      "source": [
        "correct, incorrect, vus_nb, count_mutations, incorrect_mutation, correct_mutation, predictions_clinvar_labels = d2d_performance_vs_clinvar_labels_correct(ar_predictions,ar_clinvar, False)"
      ],
      "metadata": {
        "id": "eK0V6Gji1MLm"
      },
      "execution_count": null,
      "outputs": []
    },
    {
      "cell_type": "code",
      "source": [
        "predictions_clinvar_labels['pos'] = pd.to_numeric(predictions_clinvar_labels['position'],errors='coerce')\n",
        "test = predictions_clinvar_labels.sort_values(by='position', ascending=True)\n",
        "fig = px.scatter(test, x='pos', y='D2D_prediction',\n",
        "                 color =  test['lab_clinvar'],\n",
        "                 symbol = test['lab_clinvar'],\n",
        "\n",
        "                 symbol_sequence= ['x','x', 'x','circle-open', 'x','circle-open'],\n",
        "                 #color_discrete_sequence = ['#82AAE3','#a4c639','blue', '#FABE8C', '#ffce54' ,  '#ed5564' ], opacity = 0.85, width =1300, height =400,  hover_data=['conc_mutation', 'D2D_prediction' ])\n",
        "                 color_discrete_sequence = ['#ffa7b1','#82AAE3','#ed5564', '#ffce54', 'blue' ,  '#a4c639' ], opacity = 0.85, width =1300, height =400,  hover_data=['conc_mutation', 'D2D_prediction' ])\n",
        "\n",
        "# Change the bar mode\n",
        "fig.update_layout(barmode='group', title=\"AR Gene \",\n",
        "    xaxis_title=\"Position\",\n",
        "    yaxis_title=\"D2D prediction\",\n",
        "    font_family=\"Arial\",\n",
        "    legend_title=\"Groundtruth\",\n",
        "    title_font_family=\"Arial\")\n",
        "fig.show()"
      ],
      "metadata": {
        "id": "HcjC32nT1MO-"
      },
      "execution_count": null,
      "outputs": []
    },
    {
      "cell_type": "markdown",
      "source": [
        "CHEK2"
      ],
      "metadata": {
        "id": "2UThKUQ8DIrY"
      }
    },
    {
      "cell_type": "code",
      "source": [
        "correct, incorrect, vus_nb, count_mutations, incorrect_mutation, correct_mutation, predictions_clinvar_labels = d2d_performance_vs_clinvar_labels_correct(chek2_predictions,chek2_clinvar, False)"
      ],
      "metadata": {
        "id": "pJgWFsNs59o_"
      },
      "execution_count": null,
      "outputs": []
    },
    {
      "cell_type": "code",
      "source": [
        "predictions_clinvar_labels['pos'] = pd.to_numeric(predictions_clinvar_labels['position'],errors='coerce')\n",
        "test = predictions_clinvar_labels.sort_values(by='position', ascending=True)\n",
        "fig = px.scatter(test, x='pos', y='D2D_prediction',\n",
        "                 color =  test['lab_clinvar'],\n",
        "                 symbol = test['lab_clinvar'],\n",
        "\n",
        "                 symbol_sequence= ['circle-open','x','circle-open','x' ],\n",
        "                 color_discrete_sequence = [ '#a4c639' , '#ffa7b1', '#FABE8C', '#82AAE3' ], opacity = 0.85, width =1300, height =400,  hover_data=['conc_mutation', 'D2D_prediction' ])\n",
        "                 #color_discrete_sequence = ['#82AAE3','#a4c639','blue', '#FABE8C', '#ffce54' ,  '#ed5564' ], opacity = 0.85, width =1300, height =400,  hover_data=['conc_mutation', 'D2D_prediction' ])\n",
        "\n",
        "# Change the bar mode\n",
        "fig.update_layout(barmode='group', title=\"CHEK2 Gene \",\n",
        "    xaxis_title=\"Position\",\n",
        "    yaxis_title=\"D2D prediction\",\n",
        "    font_family=\"Arial\",\n",
        "    legend_title=\"Groundtruth\",\n",
        "    title_font_family=\"Arial\")\n",
        "fig.show()"
      ],
      "metadata": {
        "id": "EbAUEayy2_vw"
      },
      "execution_count": null,
      "outputs": []
    },
    {
      "cell_type": "markdown",
      "source": [
        "PTEN"
      ],
      "metadata": {
        "id": "Is07bEZuDImg"
      }
    },
    {
      "cell_type": "code",
      "source": [
        "correct, incorrect, vus_nb, count_mutations, incorrect_mutation, correct_mutation, predictions_clinvar_labels = d2d_performance_vs_clinvar_labels_correct(pten_predictions,pten_clinvar, True)"
      ],
      "metadata": {
        "id": "phzG5Lpo-JT8"
      },
      "execution_count": null,
      "outputs": []
    },
    {
      "cell_type": "code",
      "source": [
        "predictions_clinvar_labels['pos'] = pd.to_numeric(predictions_clinvar_labels['position'],errors='coerce')\n",
        "test = predictions_clinvar_labels.sort_values(by='position', ascending=True)\n",
        "fig = px.scatter(test, x='pos', y='D2D_prediction',\n",
        "                 color =  test['lab_clinvar'],\n",
        "                 symbol = test['lab_clinvar'],\n",
        "\n",
        "                 symbol_sequence= ['circle-open','circle-open','x','x' ],\n",
        "                 color_discrete_sequence = ['#ffce54', '#a4c639',  '#ffa7b1' , '#ed5564' ], opacity = 0.85, width =1300, height =400,  hover_data=['conc_mutation', 'D2D_prediction' ])\n",
        "                 #color_discrete_sequence = ['#82AAE3','#a4c639','blue', '#FABE8C', '#ffce54' ,  '#ed5564' ], opacity = 0.85, width =1300, height =400,  hover_data=['conc_mutation', 'D2D_prediction' ])\n",
        "\n",
        "# Change the bar mode\n",
        "fig.update_layout(barmode='group', title=\"PTEN Gene - cancer related mutations\",\n",
        "    xaxis_title=\"Position\",\n",
        "    yaxis_title=\"D2D prediction\",\n",
        "    font_family=\"Arial\",\n",
        "    legend_title=\"Groundtruth\",\n",
        "    title_font_family=\"Arial\")\n",
        "fig.show()"
      ],
      "metadata": {
        "id": "dP52G50n-JXT"
      },
      "execution_count": null,
      "outputs": []
    },
    {
      "cell_type": "markdown",
      "source": [
        "### Clinvar single/multiple/panel/expert labels - Predictor comparison"
      ],
      "metadata": {
        "id": "Aosi8qxC75ze"
      }
    },
    {
      "cell_type": "code",
      "source": [
        "import pandas as pd\n",
        "# read clinvar csv containing clinvar labels\n",
        "#clinvar_5genes = pd.read_csv('/content/drive/MyDrive/my_colab/3rdYear/datasets/5genes_clinvarlabels_D2D_confidence_new.csv')\n",
        "#clinvar_5genes = pd.read_csv('/content/drive/MyDrive/my_colab/3rdYear/datasets/5genes_clinvarlabels_D2D_confidence_new2.csv')\n",
        "clinvar_5genes = pd.read_csv('/content/drive/MyDrive/my_colab/3rdYear/datasets/5genes_clinvarlabels_D2D_confidence_all.csv')"
      ],
      "metadata": {
        "id": "K-ucU5F579-h"
      },
      "execution_count": null,
      "outputs": []
    },
    {
      "cell_type": "code",
      "source": [
        "clinvar_5genes = clinvar_5genes[clinvar_5genes['condition'] == 'cancer']"
      ],
      "metadata": {
        "id": "bV10w5i5X9wv"
      },
      "execution_count": null,
      "outputs": []
    },
    {
      "cell_type": "markdown",
      "source": [
        "D2Deep"
      ],
      "metadata": {
        "id": "mthRR0ZS94r_"
      }
    },
    {
      "cell_type": "code",
      "source": [
        "clinvar_5genes.head()"
      ],
      "metadata": {
        "id": "ap16zwP87-CE"
      },
      "execution_count": null,
      "outputs": []
    },
    {
      "cell_type": "code",
      "source": [
        "clinvar_5genes['uniprot id'].unique()"
      ],
      "metadata": {
        "id": "imILGjp0THFY"
      },
      "execution_count": null,
      "outputs": []
    },
    {
      "cell_type": "code",
      "source": [
        "def notNaN(num):\n",
        "    return num == num"
      ],
      "metadata": {
        "id": "aBT7XYiSV5Ey"
      },
      "execution_count": null,
      "outputs": []
    },
    {
      "cell_type": "code",
      "source": [
        "gene_list = clinvar_5genes['uniprot id'].unique().tolist()\n",
        "#gene_list.remove('P10275') # DEOGEN2 does not contain P10275\n",
        "#gene_list.remove('O96017') # EVE does not contain O96017\n",
        "\n",
        "TP, TN, FP, FN=0,0,0,0\n",
        "TP_weig, TN_weig, FP_weig, FN_weig=0,0,0,0\n",
        "#for gene in clinvar_5genes['uniprot id'].unique().tolist():\n",
        "for gene in gene_list:\n",
        "  clinvar_gene = clinvar_5genes[clinvar_5genes['uniprot id'] == gene]\n",
        "  for i, mut in clinvar_gene.iterrows():\n",
        "    if mut['D2D_prediction'] >= 0.5 and mut['clinvar_label'] == 1:\n",
        "      TP+=1\n",
        "      TP_weig+=mut['overall_confidence']\n",
        "    elif mut['D2D_prediction'] < 0.5 and mut['clinvar_label'] == 0:\n",
        "      TN+=1\n",
        "      TN_weig+=mut['overall_confidence']\n",
        "    elif mut['D2D_prediction'] < 0.5 and mut['clinvar_label'] == 1:\n",
        "      FN+=1\n",
        "      FN_weig+=mut['overall_confidence']\n",
        "    else:\n",
        "      FP+=1\n",
        "      FP_weig+=mut['overall_confidence']\n",
        "print('sensitivity', round(TP/(TP+FN),3))\n",
        "print('specificty', round(TN/(TN+FP),3))\n",
        "print('Accuracy', round((TP+TN)/ (TN+TP+FN+FP),3))\n",
        "print(f'Over {TP+TN+FP+FN} clinvar mutations')\n",
        "\n",
        "# total_weight = clinvar_5genes_noP10275['overall_confidence'].sum()\n",
        "total_weight = clinvar_5genes['overall_confidence'].sum()\n",
        "print('sensitivity weig', round(TP_weig/(TP_weig+FN_weig),3))\n",
        "print('specificty weig', round(TN_weig/(TN_weig+FP_weig),3))\n",
        "print('Accuracy weig', round((TP_weig+TN_weig)/ (TN_weig+TP_weig+FN_weig+FP_weig),3))"
      ],
      "metadata": {
        "id": "bw06ck3PNAT8"
      },
      "execution_count": null,
      "outputs": []
    },
    {
      "cell_type": "markdown",
      "source": [
        "DEOGEN2"
      ],
      "metadata": {
        "id": "9Y93x6mf8Qhu"
      }
    },
    {
      "cell_type": "code",
      "source": [
        "gene_list = clinvar_5genes['uniprot id'].unique().tolist()\n",
        "#gene_list.remove('P10275') # DEOGEN2 does not contain P10275\n",
        "#gene_list.remove('O96017') # EVE does not contain O96017\n",
        "\n",
        "# append results of predictor\n",
        "results_predictor =[]\n",
        "TP, TN, FP, FN=0,0,0,0\n",
        "for gene in gene_list:\n",
        "  clinvar_gene = clinvar_5genes[clinvar_5genes['uniprot id'] == gene]\n",
        "  # find deogen file with protein's results\n",
        "  if gene !=  'P10275':\n",
        "    gene_variants = pd.read_csv('/content/drive/MyDrive/my_colab/3rdYear/datasets/DEOGEN2/' + gene + '.txt', skiprows=4, delimiter=',')\n",
        "\n",
        "    for i, mut in clinvar_gene.iterrows():\n",
        "      mutation = mut['AA_orig'] +  str(mut['position']) + mut['AA_targ']\n",
        "      deogen_score = gene_variants[gene_variants['mutation'] == mutation]['score'].values[0]\n",
        "      results_predictor.append(deogen_score)\n",
        "      if deogen_score > 0.5 and mut['clinvar_label'] == 1:\n",
        "        TP+=1\n",
        "      elif deogen_score <= 0.5 and mut['clinvar_label'] == 0:\n",
        "        TN+=1\n",
        "      elif deogen_score <= 0.5 and mut['clinvar_label'] == 1:\n",
        "        FN+=1\n",
        "      else:\n",
        "        FP+=1\n",
        "  else:\n",
        "    results_predictor.extend([None] * len(clinvar_gene)) # append Na for missing predictions\n",
        "\n",
        "print('sensitivity', round(TP/(TP+FN),3))\n",
        "print('specificty',round( TN/(TN+FP),3))\n",
        "print('Accuracy', round((TP+TN)/ (TN+TP+FN+FP),3) )\n",
        "print(f'Over {TP+TN+FP+FN} clinvar mutations')"
      ],
      "metadata": {
        "id": "QcXzc4Yqd0xR"
      },
      "execution_count": null,
      "outputs": []
    },
    {
      "cell_type": "code",
      "source": [
        "# RUN ONCE\n",
        "clinvar_5genes['DEOGEN2'] = results_predictor"
      ],
      "metadata": {
        "id": "G_4CZ_eng6Aa"
      },
      "execution_count": null,
      "outputs": []
    },
    {
      "cell_type": "markdown",
      "source": [
        "EVE"
      ],
      "metadata": {
        "id": "Y_jeiIPB8lNt"
      }
    },
    {
      "cell_type": "code",
      "source": [
        "gene_list = clinvar_5genes['uniprot id'].unique().tolist()\n",
        "#gene_list.remove('P10275') # DEOGEN2 does not contain P10275\n",
        "#gene_list.remove('O96017') # EVE does not contain O96017\n",
        "\n",
        "TP, TN, FP, FN=0,0,0,0\n",
        "# append results of predictor\n",
        "results_predictor =[]\n",
        "\n",
        "for gene in gene_list:\n",
        "  clinvar_gene = clinvar_5genes[clinvar_5genes['uniprot id'] == gene]\n",
        "\n",
        "  if gene != 'O96017':\n",
        "    gene_variants = pd.read_csv('/content/drive/MyDrive/my_colab/3rdYear/datasets/EVE/' + gene + '.csv', usecols=['wt_aa', 'position', 'mt_aa','EVE_scores_ASM'])   # find eve file with protein's results\n",
        "    gene_variants['mutation_conc'] = gene_variants['wt_aa']  + gene_variants['position'].astype(str)+gene_variants['mt_aa']\n",
        "\n",
        "    for i, mut in clinvar_gene.iterrows():\n",
        "      mutation = mut['AA_orig'] +  str(mut['position']) + mut['AA_targ']\n",
        "      if len(gene_variants[gene_variants['mutation_conc'] == mutation]['EVE_scores_ASM']) >0:\n",
        "        eve_score = gene_variants[gene_variants['mutation_conc'] == mutation]['EVE_scores_ASM'].values[0]\n",
        "        results_predictor.append(eve_score)\n",
        "        if eve_score > 0.63 and mut['clinvar_label'] == 1:\n",
        "          TP+=1\n",
        "        elif eve_score <= 0.38 and mut['clinvar_label'] == 0:\n",
        "          TN+=1\n",
        "        elif eve_score <= 0.38 and mut['clinvar_label'] == 1:\n",
        "          FN+=1\n",
        "        elif eve_score > 0.63 and mut['clinvar_label'] == 0:\n",
        "          FP+=1\n",
        "\n",
        "  else:\n",
        "    results_predictor.extend([None] * len(clinvar_gene)) # append Na for missing predictions\n",
        "\n",
        "print('sensitivity', round(TP/(TP+FN),3))\n",
        "print('specificty',round( TN/(TN+FP),3))\n",
        "print('Accuracy', round((TP+TN)/ (TN+TP+FN+FP),3) )\n",
        "print(f'Over {TP+TN+FP+FN} clinvar mutations')"
      ],
      "metadata": {
        "id": "4oXoeoTD8SBD"
      },
      "execution_count": null,
      "outputs": []
    },
    {
      "cell_type": "code",
      "source": [
        "# RUN ONCE\n",
        "clinvar_5genes['EVE'] = results_predictor"
      ],
      "metadata": {
        "id": "43r5Pjaihlfb"
      },
      "execution_count": null,
      "outputs": []
    },
    {
      "cell_type": "markdown",
      "source": [
        "FATHMM_cancer"
      ],
      "metadata": {
        "id": "HYRP659PmbO0"
      }
    },
    {
      "cell_type": "code",
      "source": [
        "gene_list = clinvar_5genes['uniprot id'].unique().tolist()\n",
        "\n",
        "TP, TN, FP, FN=0,0,0,0\n",
        "for gene in gene_list:\n",
        "  # find deogen file with protein's results\n",
        "  gene_variants = pd.read_csv('/content/drive/MyDrive/my_colab/3rdYear/datasets/FATHMM_cancer/' + gene + '.txt', delimiter = '\\t', usecols=['Substitution', 'Score'])\n",
        "\n",
        "  clinvar_gene = clinvar_5genes[clinvar_5genes['uniprot id'] == gene]\n",
        "  for i, mut in clinvar_gene.iterrows():\n",
        "    mutation = mut['AA_orig'] +  str(mut['position']) + mut['AA_targ']\n",
        "    if len(gene_variants[gene_variants['Substitution'] == mutation]['Score']) >0:\n",
        "      fathmm_score = gene_variants[gene_variants['Substitution'] == mutation]['Score'].values[0]\n",
        "      if fathmm_score <= -0.75 and mut['clinvar_label'] == 1:\n",
        "        TP+=1\n",
        "      elif fathmm_score >-0.75 and mut['clinvar_label'] == 0:\n",
        "        TN+=1\n",
        "      elif fathmm_score > -0.75  and mut['clinvar_label'] == 1:\n",
        "        FN+=1\n",
        "      elif fathmm_score <= -0.75 and mut['clinvar_label'] == 0:\n",
        "        FP+=1\n",
        "print('sensitivity', round(TP/(TP+FN),3))\n",
        "print('specificty',round( TN/(TN+FP),3))\n",
        "print('Accuracy', round((TP+TN)/ (TN+TP+FN+FP),3) )\n",
        "print(f'Over {TP+TN+FP+FN} clinvar mutations')"
      ],
      "metadata": {
        "id": "anGOZQ-RmTob"
      },
      "execution_count": null,
      "outputs": []
    },
    {
      "cell_type": "markdown",
      "source": [
        "SIFT"
      ],
      "metadata": {
        "id": "F4vUh31RUDRX"
      }
    },
    {
      "cell_type": "code",
      "source": [
        "gene_list = clinvar_5genes['uniprot id'].unique().tolist()\n",
        "\n",
        "TP, TN, FP, FN=0,0,0,0\n",
        "for gene in gene_list:\n",
        "  clinvar_gene = clinvar_5genes[clinvar_5genes['uniprot id'] == gene]\n",
        "  for i, mut in clinvar_gene.iterrows():\n",
        "    if mut['SIFT']  < 0.05 and mut['clinvar_label'] == 1:\n",
        "      TP+=1\n",
        "    elif mut['SIFT']  >= 0.05  and mut['clinvar_label'] == 0:\n",
        "      TN+=1\n",
        "    elif mut['SIFT']  >= 0.05  and mut['clinvar_label'] == 1:\n",
        "      FN+=1\n",
        "    elif mut['SIFT']  < 0.05 and mut['clinvar_label'] == 0:\n",
        "      FP+=1\n",
        "print('sensitivity', round(TP/(TP+FN),3))\n",
        "print('specificty',round( TN/(TN+FP),3))\n",
        "print('Accuracy', round((TP+TN)/ (TN+TP+FN+FP),3) )\n",
        "print(f'Over {TP+TN+FP+FN} clinvar mutations')"
      ],
      "metadata": {
        "id": "fGwYTtHymczc"
      },
      "execution_count": null,
      "outputs": []
    },
    {
      "cell_type": "markdown",
      "source": [
        "Polyphen2"
      ],
      "metadata": {
        "id": "eZ3PQOq_UEMX"
      }
    },
    {
      "cell_type": "code",
      "source": [
        "gene_list = clinvar_5genes['uniprot id'].unique().tolist()\n",
        "\n",
        "TP, TN, FP, FN=0,0,0,0\n",
        "for gene in gene_list:\n",
        "  clinvar_gene = clinvar_5genes[clinvar_5genes['uniprot id'] == gene]\n",
        "  for i, mut in clinvar_gene.iterrows():\n",
        "    if mut['Polyphen2']  >= 0.5 and mut['clinvar_label'] == 1:\n",
        "      TP+=1\n",
        "    elif mut['Polyphen2']  < 0.5 and mut['clinvar_label'] == 0:\n",
        "      TN+=1\n",
        "    elif mut['Polyphen2']  < 0.5 and mut['clinvar_label'] == 1:\n",
        "      FN+=1\n",
        "    elif mut['Polyphen2']  >= 0.5 and mut['clinvar_label'] == 0:\n",
        "      FP+=1\n",
        "print('sensitivity', round(TP/(TP+FN),3))\n",
        "print('specificty',round( TN/(TN+FP),3))\n",
        "print('Accuracy', round((TP+TN)/ (TN+TP+FN+FP),3) )\n",
        "print(f'Over {TP+TN+FP+FN} clinvar mutations')"
      ],
      "metadata": {
        "id": "CBZWpSWcmc22"
      },
      "execution_count": null,
      "outputs": []
    },
    {
      "cell_type": "code",
      "source": [
        "clinvar_5genes.to_csv('5genes_clinvarlabels_all.csv')"
      ],
      "metadata": {
        "id": "ANwMgX6U0yQ5"
      },
      "execution_count": null,
      "outputs": []
    },
    {
      "cell_type": "code",
      "source": [
        "import numpy as np\n",
        "import matplotlib.pyplot as plt"
      ],
      "metadata": {
        "id": "vJHxyS-vMBX1"
      },
      "execution_count": null,
      "outputs": []
    },
    {
      "cell_type": "code",
      "source": [
        "D2Deep = [85.1, 85.3, 84.2]\n",
        "EVE = [86.4, 85.3, 94.1]\n",
        "FATHHM = [75.8, 93.9, 10.9]\n",
        "PolyPhen2 = [87.7, 93, 68.3]\n",
        "DEOGEN = [88.3, 99.6, 47.2]\n",
        "SIFT = [78, 80.8, 66.9]\n",
        "plt.rcParams[\"figure.figsize\"] = (8,4)\n",
        "barWidth = 0.12\n",
        "\n",
        "bars1 = [D2Deep, EVE, FATHHM,PolyPhen2,DEOGEN, SIFT ]\n",
        "r1 = np.arange(len(D2Deep))\n",
        "r2 = [x + barWidth for x in r1]\n",
        "r3 = [x + barWidth for x in r2]\n",
        "r4 = [x + barWidth for x in r3]\n",
        "r5 = [x + barWidth for x in r4]\n",
        "r6 = [x + barWidth for x in r5]\n",
        "\n",
        "# Make the plot\n",
        "plt.bar(r1, D2Deep, color = '#2292a7' , width=barWidth, edgecolor='white', label='D2Deep') #2166ac # ff0000 #334858 # 000000 '#ce1141' '#cd595a' da5a47\n",
        "plt.bar(r2, EVE, color='#ffc907', width=barWidth, edgecolor='white', label='EVE') # 67a9cf # fbb034 # cd595a # be0027 #eeb111' 8ba753\n",
        "plt.bar(r3, FATHHM, color='#56B4E9', width=barWidth, edgecolor='white', label='FATHMM_cancer') # d1e5f0 # c1d82f # 94938f # cf8d2e #02a388 #a6192e\n",
        "plt.bar(r4, PolyPhen2, color='#82ad27', width=barWidth, edgecolor='white', label='PolyPhen2') # CCFFE5 # 007ea3 # dbc5b0 # e4e932 #0087b4\n",
        "plt.bar(r5, DEOGEN, color='#695647', width=barWidth, edgecolor='white', label='DEOGEN2') # FFCCE5 # 00a4e4 # f8dfc2 # 2c9f45 #5654a4\n",
        "plt.bar(r6, SIFT, color='#4234a4', width=barWidth, edgecolor='white', label='SIFT') # #4234a4 #ee70a6\n",
        "\n",
        "# Add xticks on the middle of the group bars\n",
        "plt.title('Comparison of predictors\\' performance on Clinvar annotations',fontname=\"Calibri\", fontsize=16)\n",
        "plt.xticks([r + barWidth+0.16 for r in range(3)],  ['Accuracy', 'Sensitivity', 'Specificity'], rotation=0,fontname=\"Calibri\", fontsize=12)\n",
        "#plt.xticks([r + barWidth+0.16 for r in range(2)],  ['Sensitivity', 'Specificity'],fontname=\"Calibri\", fontsize=16)\n",
        "plt.grid(axis = \"y\")\n",
        "# Create legend & Show graphic\n",
        "plt.legend(bbox_to_anchor=(1.05, 1.0), loc='upper left')\n",
        "#plt.legend(loc=\"upper right\", fontsize=14)"
      ],
      "metadata": {
        "id": "4p0V1OYwK81g"
      },
      "execution_count": null,
      "outputs": []
    },
    {
      "cell_type": "markdown",
      "source": [
        "ROC"
      ],
      "metadata": {
        "id": "etaLVIfJXUXK"
      }
    },
    {
      "cell_type": "code",
      "source": [
        "figure(figsize=(8, 6), dpi=80)\n",
        "lw=2\n",
        "#D2D\n",
        "# keep rows of resutls where D2D has values\n",
        "selected_rows = clinvar_5genes[~clinvar_5genes['D2D_prediction'].isnull()]\n",
        "fpr, tpr, _ = metrics.roc_curve(selected_rows['clinvar_label'],  selected_rows['D2D_prediction'])\n",
        "auc = metrics.roc_auc_score(selected_rows['clinvar_label'], selected_rows['D2D_prediction']) #  probability estimates of the positive class\n",
        "plt.plot(fpr,tpr,color=\"#2292a7\",label=\"D2Deep, auc=\"+str(round(auc, 3))) #da5a47\n",
        "\n",
        "#EVE\n",
        "selected_rows = clinvar_5genes[~clinvar_5genes['EVE'].isnull()]\n",
        "condition1 = (selected_rows['EVE'] >= 0.5) & (selected_rows['EVE'] <= 0.62)\n",
        "selected_rows['EVE_inter'] =np.where(condition1, selected_rows['EVE'] - 0.13, selected_rows['EVE'] )\n",
        "\n",
        "condition2 = (selected_rows['EVE'] >= 0.38) & (selected_rows['EVE'] < 0.5)\n",
        "selected_rows['EVE_fin'] =np.where(condition2, selected_rows['EVE'] + 0.17, selected_rows['EVE_inter'] )\n",
        "\n",
        "fpr, tpr, _ = metrics.roc_curve(selected_rows['clinvar_label'],  selected_rows['EVE_fin'])\n",
        "auc = metrics.roc_auc_score(selected_rows['clinvar_label'], selected_rows['EVE_fin'])\n",
        "plt.plot(fpr,tpr,color=\"#ffc907\",label=\"EVE, auc=\"+str(round(auc, 3))) #8ba753\n",
        "\n",
        "#FATHHM [-10, 10]\n",
        "selected_rows = clinvar_5genes[~clinvar_5genes['FATHMM_cancer'].isnull()]\n",
        "selected_rows['FATHMM_pos'] = 1- NormalizeData(selected_rows['FATHMM_cancer'])\n",
        "condition1 = selected_rows['FATHMM_cancer'] < -0.75\n",
        "selected_rows['FATHMM_inter'] =np.where(condition1, selected_rows['FATHMM_pos']+0.2, selected_rows['FATHMM_pos'] )\n",
        "condition1 = selected_rows['FATHMM_cancer']<-9\n",
        "value = 1\n",
        "selected_rows['FATHMM_inter'] =np.where(condition1, value, selected_rows['FATHMM_inter'] )\n",
        "\n",
        "fpr, tpr, _ = metrics.roc_curve(selected_rows['clinvar_label'],  selected_rows['FATHMM_inter']) #+0.75\n",
        "auc = metrics.roc_auc_score(selected_rows['clinvar_label'], selected_rows['FATHMM_inter']) # +0.75\n",
        "plt.plot(fpr,tpr,color=\"#56B4E9\",label=\"FATHMM_cancer, auc=\"+str(round(auc, 3))) # 00bce4 ##02a388\n",
        "\n",
        "#Polyphen2\n",
        "selected_rows = clinvar_5genes[~clinvar_5genes['Polyphen2'].isnull()]\n",
        "fpr, tpr, _ = metrics.roc_curve(selected_rows['clinvar_label'],  selected_rows['Polyphen2'])\n",
        "auc = metrics.roc_auc_score(selected_rows['clinvar_label'], selected_rows['Polyphen2'])\n",
        "plt.plot(fpr,tpr,color=\"#82ad27\",label=\"Polyphen2, auc=\"+str(round(auc, 3))) # 00bce4 #0087b4\n",
        "\n",
        "#DEOGEN2\n",
        "selected_rows = clinvar_5genes[~clinvar_5genes['DEOGEN2'].isnull()]\n",
        "fpr, tpr, _ = metrics.roc_curve(selected_rows['clinvar_label'],  selected_rows['DEOGEN2'])\n",
        "auc = metrics.roc_auc_score(selected_rows['clinvar_label'], selected_rows['DEOGEN2'])\n",
        "plt.plot(fpr,tpr,color=\"#695647\",label=\"DEOGEN, auc=\"+str(round(auc, 3))) # 7d3f98 #5654a4\n",
        "plt.plot([0, 1], [0, 1], color=\"lightgray\", lw=lw, linestyle=\"--\")\n",
        "\n",
        "#SIFT [0, 1]\n",
        "selected_rows = clinvar_5genes[~clinvar_5genes['SIFT'].isnull()]\n",
        "selected_rows['SIFT_pos'] = 1 - selected_rows['SIFT']\n",
        "condition1 = selected_rows['SIFT']<=0.05\n",
        "selected_rows['SIFT_inter'] =np.where(condition1,  1- selected_rows['SIFT'], 1- selected_rows['SIFT'] -0.5 )\n",
        "condition2 = selected_rows['SIFT_inter']<0\n",
        "selected_rows['SIFT_values'] =np.where(condition2,  0, selected_rows['SIFT_inter'] )\n",
        "\n",
        "fpr, tpr, _ = metrics.roc_curve(selected_rows['clinvar_label'], selected_rows['SIFT_values'])\n",
        "auc = metrics.roc_auc_score(selected_rows['clinvar_label'], selected_rows['SIFT_values'])\n",
        "plt.plot(fpr,tpr,color=\"#4234a4\",label=\"SIFT, auc=\"+str(round(auc, 3))) #ee70a6\n",
        "plt.legend(loc=4, prop={'size': 12})\n",
        "plt.xlabel(\"False Positive Rate\", fontname=\"Calibri\",fontsize=13)\n",
        "plt.ylabel(\"True Positive Rate\", fontname=\"Calibri\",fontsize=13)\n",
        "plt.title(\"ROC curves ClinVar set\",fontname=\"Calibri\",fontsize=16)\n",
        "plt.rcParams[\"figure.figsize\"] = (8,8)\n",
        "\n",
        "plt.show()"
      ],
      "metadata": {
        "id": "8yqEnrdWXVYi"
      },
      "execution_count": null,
      "outputs": []
    },
    {
      "cell_type": "markdown",
      "source": [
        "combine ClinVar and DRGN AUC metrics"
      ],
      "metadata": {
        "id": "wJyaGsOXBC1B"
      }
    },
    {
      "cell_type": "code",
      "source": [
        "import matplotlib.pyplot as plt\n",
        "from matplotlib.pyplot import figure\n",
        "import numpy as np\n",
        "x = np.array((0.897, 0.871, 0.509, 0.915, 0.931, 0.78))"
      ],
      "metadata": {
        "id": "GmCp9tHrCO8S"
      },
      "execution_count": null,
      "outputs": []
    },
    {
      "cell_type": "code",
      "source": [
        "\n",
        "figure(figsize=(7, 6), dpi=80)\n",
        "\n",
        "x = np.array((0.89, 0.87, 0.51, 0.92, 0.93, 0.78))\n",
        "y = np.array((0.68, 0.58, 0.71, 0.55, 0.6, 0.5))\n",
        "colors = ['#2292a7', '#ffc907', '#56B4E9', '#82ad27', '#695647', '#4234a4']\n",
        "# plt.scatter(x, y, s=80, facecolors='none', edgecolors=colors) # empty cycles\n",
        "plt.scatter(x, y, s=80, facecolors=colors)\n",
        "plt.xlim([0.45,1])\n",
        "plt.ylim([0.45,0.75])\n",
        "plt.ylabel('AUC for DRGN test set')\n",
        "plt.xlabel('AUC for ClinVar test set')\n",
        "plt.show()"
      ],
      "metadata": {
        "id": "ei0X7p5j3Vri"
      },
      "execution_count": null,
      "outputs": []
    },
    {
      "cell_type": "markdown",
      "metadata": {
        "id": "XUAIxbZHJybD"
      },
      "source": [
        "### Test - OUTDATED"
      ]
    },
    {
      "cell_type": "code",
      "execution_count": null,
      "metadata": {
        "id": "kJnx7-ca50zb"
      },
      "outputs": [],
      "source": [
        "# import difference for each mutation + labels\n",
        "test = pd.read_csv('/content/drive/MyDrive/log_probWT_MUT_tp53brca1msh2pten_2200AA_57_maxpool.csv', header = None, names = ['mutation', 'log_difference', 'label'])\n",
        "\n",
        "fl_dif = []\n",
        "for x in test['log_difference']:\n",
        "  p = x[1:-1].split(',')\n",
        "  fl_dif.append([float(i) for i in p])\n",
        "\n",
        "test['fl_dif'] = fl_dif\n",
        "\n",
        "N= 2200\n",
        "fl_dif_pad, positions, proteins_temp =[], [], []\n",
        "for i, mut in test.iterrows():\n",
        "  mut_temp = mut.mutation.split('_')[1]\n",
        "  proteins_temp.append(mut.mutation.split('_')[0])\n",
        "  positions.append(mut_temp[1: -1])\n",
        "  a = mut['fl_dif']\n",
        "  new_a = a + [0] * (N - len(a))\n",
        "  fl_dif_pad.append(new_a)\n",
        "test['fl_dif_pad'] = fl_dif_pad\n",
        "\n",
        "stacked_flat_drgn =[]\n",
        "for i, mut in test.iterrows():\n",
        "  stacked_flat_drgn.append(torch.tensor(mut['fl_dif_pad']))\n",
        "\n",
        "stacked_drgn = torch.stack(stacked_flat_drgn)\n",
        "print(stacked_drgn.shape)"
      ]
    },
    {
      "cell_type": "code",
      "execution_count": null,
      "metadata": {
        "id": "yykRDiSn50zb"
      },
      "outputs": [],
      "source": [
        "tp53 = pd.read_csv('/content/drive/MyDrive/my_colab/3rdYear/datasets/tp53_mut_clinvar_missense_labels_correct.csv')\n",
        "brca1 =pd.read_csv('/content/drive/MyDrive/my_colab/3rdYear/datasets/brca1_mut_clinvar_missense_labels_correct.csv')\n",
        "msh2 = pd.read_csv('/content/drive/MyDrive/my_colab/3rdYear/datasets/msh2_mut_clinvar_missense_labels_correct.csv')\n",
        "pten = pd.read_csv('/content/drive/MyDrive/my_colab/3rdYear/datasets/pten_mut_clinvar_missense_labels_correct.csv')\n",
        "\n",
        "all_mut = pd.concat([tp53,brca1, msh2, pten], ignore_index=True)\n",
        "all_mut = all_mut.reset_index(drop=True)"
      ]
    },
    {
      "cell_type": "code",
      "execution_count": null,
      "metadata": {
        "id": "iGk3iNDA6Qgp"
      },
      "outputs": [],
      "source": [
        "del test['label'] # they are not the '_correct'' labels\n",
        "test['label'] = all_mut['label']"
      ]
    },
    {
      "cell_type": "code",
      "execution_count": null,
      "metadata": {
        "id": "fLVEXvqX50zb"
      },
      "outputs": [],
      "source": [
        "#test = dif_mut_drgn[dif_mut_drgn['label'] != 'VUS']\n",
        "lab_num = []\n",
        "labels_drgn = test['label'].tolist()\n",
        "for k in labels_drgn:\n",
        "  if k == 'VUS':\n",
        "    lab_num.append(-1)\n",
        "  elif k == 'pathogenic':\n",
        "    lab_num.append(2)\n",
        "  elif k == 'Likely pathogenic':\n",
        "    lab_num.append(1)\n",
        "  else:\n",
        "    lab_num.append(0)\n",
        "\n",
        "labels_drgn = lab_num\n",
        "X_drgn, y_drgn = np.array(stacked_drgn), np.array(labels_drgn)\n",
        "\n",
        "drgn_dataset = ClassifierDataset(torch.from_numpy(X_drgn).float(), torch.from_numpy(y_drgn).long())\n",
        "drgn_loader = DataLoader(dataset=drgn_dataset, batch_size=1 , drop_last=True)\n",
        "\n",
        "device = torch.device(\"cuda:0\" if torch.cuda.is_available() else \"cpu\")\n",
        "\n",
        "y_pred_list = []\n",
        "predictions_drgn= []\n",
        "my_net.eval()\n",
        "\n",
        "with torch.no_grad():\n",
        "    for X_batch, _ in drgn_loader:\n",
        "        X_batch = X_batch.to(device)\n",
        "        y_test_pred = my_net(X_batch)\n",
        "        predictions_drgn.extend(torch.sigmoid(y_test_pred).cpu().detach().numpy().tolist())\n",
        "\n",
        "flat_list = []\n",
        "for sublist in predictions_drgn:\n",
        "    for item in sublist:\n",
        "        flat_list.append(item)"
      ]
    },
    {
      "cell_type": "code",
      "source": [
        "test['pos'] = positions\n",
        "test['D2D_values'] = flat_list\n",
        "test['proteins']  = proteins_temp\n",
        "test['condit'] = all_mut['Condition(s)']\n",
        "test_tp53 = test[test['proteins'] == 'P04637']\n",
        "test_tp53 = test[test['proteins'] == 'P04637']\n",
        "test_tp53.to_csv('/content/drive/MyDrive/my_colab/3rdYear/datasets/tp53_D2D.csv', index=False)"
      ],
      "metadata": {
        "id": "I-ArgVxGKNHh"
      },
      "execution_count": null,
      "outputs": []
    },
    {
      "cell_type": "code",
      "execution_count": null,
      "metadata": {
        "id": "74s1LRSK50zb"
      },
      "outputs": [],
      "source": [
        "test['pos'] = positions\n",
        "test['D2D_values'] = flat_list\n",
        "test['proteins']  = proteins_temp\n",
        "test['condit'] = all_mut['Condition(s)']\n",
        "test['pos'] = pd.to_numeric(test['pos'],errors='coerce')\n",
        "test = test.sort_values(by='pos', ascending=True)\n",
        "\n",
        "lab =[]\n",
        "for i, mut in test.iterrows():\n",
        "  if mut['label'] == 'VUS' and mut['D2D_values'] < 0.5:\n",
        "    lab.append('VUS, D2D benign')\n",
        "  elif mut['label'] == 'VUS' and mut['D2D_values'] >= 0.5:\n",
        "     lab.append('VUS, D2D deleterious')\n",
        "  else:\n",
        "    lab.append(mut['label'])\n",
        "test['label_proc'] = lab"
      ]
    },
    {
      "cell_type": "code",
      "source": [],
      "metadata": {
        "id": "rYcA5_iumXds"
      },
      "execution_count": null,
      "outputs": []
    },
    {
      "cell_type": "markdown",
      "metadata": {
        "id": "EXavJcTkIxOK"
      },
      "source": [
        "### TP53 - How many Clinvar cancer-related pathogenic it predicts correctly? - OUTDATED"
      ]
    },
    {
      "cell_type": "code",
      "execution_count": null,
      "metadata": {
        "id": "tKZJQq4MG5q1"
      },
      "outputs": [],
      "source": [
        "print(test[(test['proteins'] == 'P04637-1') & (test['mutation'].str.contains('R342P'))]['D2D_values'].values)\n",
        "print(test[(test['proteins'] == 'P04637-1') & (test['mutation'].str.contains('R337H'))]['D2D_values'].values)\n",
        "print(test[(test['proteins'] == 'P04637-1') & (test['mutation'].str.contains('R337C'))]['D2D_values'].values) # INCORRECT - In COSMIC: Tier 3 - SIFT predicts benign (0.01), Clinvar: A study conducted in human cell lines indicates that this alteration is deficient at growth suppression but has no dominant negative effect (Giacomelli AO et al. Nat. Genet. 2018 Oct;50:1381-1387). This variant is considered to be rare based on population cohorts in the Genome Aggregation Database (gnomAD). This amino acid position is well conserved in available vertebrate species.\n",
        "print(test[(test['proteins'] == 'P04637-1') & (test['mutation'].str.contains('E286K'))]['D2D_values'].values)\n",
        "print(test[(test['proteins'] == 'P04637-1') & (test['mutation'].str.contains('E285V'))]['D2D_values'].values)\n",
        "print(test[(test['proteins'] == 'P04637-1') & (test['mutation'].str.contains('E285K'))]['D2D_values'].values)\n",
        "print(test[(test['proteins'] == 'P04637-1') & (test['mutation'].str.contains('R282P'))]['D2D_values'].values)\n",
        "print(test[(test['proteins'] == 'P04637-1') & (test['mutation'].str.contains('R282G'))]['D2D_values'].values)\n",
        "print(test[(test['proteins'] == 'P04637-1') & (test['mutation'].str.contains('R282W'))]['D2D_values'].values)\n",
        "print(test[(test['proteins'] == 'P04637-1') & (test['mutation'].str.contains('D281V'))]['D2D_values'].values)\n",
        "print(test[(test['proteins'] == 'P04637-1') & (test['mutation'].str.contains('D281G'))]['D2D_values'].values)\n",
        "print(test[(test['proteins'] == 'P04637-1') & (test['mutation'].str.contains('D281N'))]['D2D_values'].values)\n",
        "print(test[(test['proteins'] == 'P04637-1') & (test['mutation'].str.contains('D281Y'))]['D2D_values'].values)\n",
        "print(test[(test['proteins'] == 'P04637-1') & (test['mutation'].str.contains('R280S'))]['D2D_values'].values)\n",
        "print(test[(test['proteins'] == 'P04637-1') & (test['mutation'].str.contains('G279E'))]['D2D_values'].values) # INCORRECT - In COSMIC: Tier 3, SIFT: not provided - Clinvar: no functional evidence , uncertain significance in study\n",
        "print(test[(test['proteins'] == 'P04637-1') & (test['mutation'].str.contains('A276G'))]['D2D_values'].values)\n",
        "print(test[(test['proteins'] == 'P04637-1') & (test['mutation'].str.contains('C275F'))]['D2D_values'].values)\n",
        "print(test[(test['proteins'] == 'P04637-1') & (test['mutation'].str.contains('C275Y'))]['D2D_values'].values)\n",
        "print(test[(test['proteins'] == 'P04637-1') & (test['mutation'].str.contains('R273L'))]['D2D_values'].values)\n",
        "print(test[(test['proteins'] == 'P04637-1') & (test['mutation'].str.contains('R273P'))]['D2D_values'].values)\n",
        "print(test[(test['proteins'] == 'P04637-1') & (test['mutation'].str.contains('R273H'))]['D2D_values'].values)\n",
        "print(test[(test['proteins'] == 'P04637-1') & (test['mutation'].str.contains('R273G'))]['D2D_values'].values)\n",
        "print(test[(test['proteins'] == 'P04637-1') & (test['mutation'].str.contains('R273S'))]['D2D_values'].values)\n",
        "print(test[(test['proteins'] == 'P04637-1') & (test['mutation'].str.contains('R273C'))]['D2D_values'].values)\n",
        "print(test[(test['proteins'] == 'P04637-1') & (test['mutation'].str.contains('V272M'))]['D2D_values'].values)\n",
        "print(test[(test['proteins'] == 'P04637-1') & (test['mutation'].str.contains('F270S'))]['D2D_values'].values)\n",
        "print(test[(test['proteins'] == 'P04637-1') & (test['mutation'].str.contains('R267W'))]['D2D_values'].values)\n",
        "print(test[(test['proteins'] == 'P04637-1') & (test['mutation'].str.contains('G266E'))]['D2D_values'].values)\n",
        "print(test[(test['proteins'] == 'P04637-1') & (test['mutation'].str.contains('G266R'))]['D2D_values'].values)\n",
        "print(test[(test['proteins'] == 'P04637-1') & (test['mutation'].str.contains('L265P'))]['D2D_values'].values)\n",
        "print(test[(test['proteins'] == 'P04637-1') & (test['mutation'].str.contains('E258K'))]['D2D_values'].values)\n",
        "print(test[(test['proteins'] == 'P04637-1') & (test['mutation'].str.contains('I254N'))]['D2D_values'].values)\n",
        "print(test[(test['proteins'] == 'P04637-1') & (test['mutation'].str.contains('I251L'))]['D2D_values'].values) # INCORRECT- In COSMIC: Tier 3, SIFT: 0.001, Clinvar: probably has functional consequence. No evidence was found for (p.I251L) TP53 gene variant in stomach cancer so far. However, this variant has been observed in a male patient suffering from carcinoma of the stomach and in addition, this alteration is predicted to be deleterious by in silico analysis. el, has been reported previously in association with Li-Fraumeni syndrome (Wu et al., 2011). Additionally, the NHLBI ESP Exome Variant Server reports I251L was not observed in approximately 6,500 samples from individuals of European and African American backgrounds, indicating it is not a common benign variant in these populations. Therefore, I251L is interpreted as a disease-causing variant.\n",
        "print(test[(test['proteins'] == 'P04637-1') & (test['mutation'].str.contains('R249T'))]['D2D_values'].values)\n",
        "print(test[(test['proteins'] == 'P04637-1') & (test['mutation'].str.contains('R248P'))]['D2D_values'].values)\n",
        "print(test[(test['proteins'] == 'P04637-1') & (test['mutation'].str.contains('R248L'))]['D2D_values'].values)\n",
        "print(test[(test['proteins'] == 'P04637-1') & (test['mutation'].str.contains('R248Q'))]['D2D_values'].values)\n",
        "print(test[(test['proteins'] == 'P04637-1') & (test['mutation'].str.contains('R248W'))]['D2D_values'].values)\n",
        "print(test[(test['proteins'] == 'P04637-1') & (test['mutation'].str.contains('M246V'))]['D2D_values'].values)\n",
        "print(test[(test['proteins'] == 'P04637-1') & (test['mutation'].str.contains('G245D'))]['D2D_values'].values)\n",
        "print(test[(test['proteins'] == 'P04637-1') & (test['mutation'].str.contains('G245V'))]['D2D_values'].values)\n",
        "print(test[(test['proteins'] == 'P04637-1') & (test['mutation'].str.contains('G245S'))]['D2D_values'].values)\n",
        "print(test[(test['proteins'] == 'P04637-1') & (test['mutation'].str.contains('G245C'))]['D2D_values'].values)\n",
        "print(test[(test['proteins'] == 'P04637-1') & (test['mutation'].str.contains('G244A'))]['D2D_values'].values)\n",
        "print(test[(test['proteins'] == 'P04637-1') & (test['mutation'].str.contains('G244D'))]['D2D_values'].values)\n",
        "print(test[(test['proteins'] == 'P04637-1') & (test['mutation'].str.contains('G244S'))]['D2D_values'].values)\n",
        "print(test[(test['proteins'] == 'P04637-1') & (test['mutation'].str.contains('C242Y'))]['D2D_values'].values)\n",
        "print(test[(test['proteins'] == 'P04637-1') & (test['mutation'].str.contains('S241Y'))]['D2D_values'].values)\n",
        "print(test[(test['proteins'] == 'P04637-1') & (test['mutation'].str.contains('C238W'))]['D2D_values'].values)\n",
        "print(test[(test['proteins'] == 'P04637-1') & (test['mutation'].str.contains('C238S'))]['D2D_values'].values)\n",
        "print(test[(test['proteins'] == 'P04637-1') & (test['mutation'].str.contains('C238F'))]['D2D_values'].values)\n",
        "print(test[(test['proteins'] == 'P04637-1') & (test['mutation'].str.contains('C238Y'))]['D2D_values'].values)\n",
        "print(test[(test['proteins'] == 'P04637-1') & (test['mutation'].str.contains('C238G'))]['D2D_values'].values)\n",
        "print(test[(test['proteins'] == 'P04637-1') & (test['mutation'].str.contains('C238R'))]['D2D_values'].values)\n",
        "print(test[(test['proteins'] == 'P04637-1') & (test['mutation'].str.contains('M237I'))]['D2D_values'].values)\n",
        "print(test[(test['proteins'] == 'P04637-1') & (test['mutation'].str.contains('Y234C'))]['D2D_values'].values)\n",
        "print(test[(test['proteins'] == 'P04637-1') & (test['mutation'].str.contains('Y234H'))]['D2D_values'].values)\n",
        "print(test[(test['proteins'] == 'P04637-1') & (test['mutation'].str.contains('I232N'))]['D2D_values'].values)\n",
        "print(test[(test['proteins'] == 'P04637-1') & (test['mutation'].str.contains('Y220C'))]['D2D_values'].values)\n",
        "print(test[(test['proteins'] == 'P04637-1') & (test['mutation'].str.contains('Y220S'))]['D2D_values'].values)\n",
        "print(test[(test['proteins'] == 'P04637-1') & (test['mutation'].str.contains('S215I'))]['D2D_values'].values)\n",
        "print(test[(test['proteins'] == 'P04637-1') & (test['mutation'].str.contains('R213P'))]['D2D_values'].values)\n",
        "print(test[(test['proteins'] == 'P04637-1') & (test['mutation'].str.contains('R213Q'))]['D2D_values'].values)\n",
        "print(test[(test['proteins'] == 'P04637-1') & (test['mutation'].str.contains('Y205C'))]['D2D_values'].values)\n",
        "print(test[(test['proteins'] == 'P04637-1') & (test['mutation'].str.contains('I195T'))]['D2D_values'].values)\n",
        "print(test[(test['proteins'] == 'P04637-1') & (test['mutation'].str.contains('H193P'))]['D2D_values'].values)"
      ]
    },
    {
      "cell_type": "code",
      "execution_count": null,
      "metadata": {
        "id": "3C9Uh6P3W2Tw"
      },
      "outputs": [],
      "source": [
        "print(test[(test['proteins'] == 'P04637-1') & (test['mutation'].str.contains('H193R'))]['D2D_values'].values)\n",
        "print(test[(test['proteins'] == 'P04637-1') & (test['mutation'].str.contains('H193Y'))]['D2D_values'].values)\n",
        "print(test[(test['proteins'] == 'P04637-1') & (test['mutation'].str.contains('R181P'))]['D2D_values'].values)\n",
        "print(test[(test['proteins'] == 'P04637-1') & (test['mutation'].str.contains('R181H'))]['D2D_values'].values)\n",
        "print(test[(test['proteins'] == 'P04637-1') & (test['mutation'].str.contains('H179Q'))]['D2D_values'].values)\n",
        "print(test[(test['proteins'] == 'P04637-1') & (test['mutation'].str.contains('H179Y'))]['D2D_values'].values)\n",
        "print(test[(test['proteins'] == 'P04637-1') & (test['mutation'].str.contains('P177R'))]['D2D_values'].values)\n",
        "print(test[(test['proteins'] == 'P04637-1') & (test['mutation'].str.contains('C176Y'))]['D2D_values'].values)\n",
        "print(test[(test['proteins'] == 'P04637-1') & (test['mutation'].str.contains('R175L'))]['D2D_values'].values)\n",
        "print(test[(test['proteins'] == 'P04637-1') & (test['mutation'].str.contains('R175H'))]['D2D_values'].values)\n",
        "print(test[(test['proteins'] == 'P04637-1') & (test['mutation'].str.contains('R175G'))]['D2D_values'].values)\n",
        "print(test[(test['proteins'] == 'P04637-1') & (test['mutation'].str.contains('V173A'))]['D2D_values'].values)\n",
        "print(test[(test['proteins'] == 'P04637-1') & (test['mutation'].str.contains('V173L'))]['D2D_values'].values)\n",
        "print(test[(test['proteins'] == 'P04637-1') & (test['mutation'].str.contains('V173M'))]['D2D_values'].values)\n",
        "print(test[(test['proteins'] == 'P04637-1') & (test['mutation'].str.contains('Y163C'))]['D2D_values'].values)\n",
        "print(test[(test['proteins'] == 'P04637-1') & (test['mutation'].str.contains('R158L'))]['D2D_values'].values)\n",
        "print(test[(test['proteins'] == 'P04637-1') & (test['mutation'].str.contains('R158H'))]['D2D_values'].values)\n",
        "print(test[(test['proteins'] == 'P04637-1') & (test['mutation'].str.contains('R158S'))]['D2D_values'].values)\n",
        "print(test[(test['proteins'] == 'P04637-1') & (test['mutation'].str.contains('R158G'))]['D2D_values'].values)\n",
        "print(test[(test['proteins'] == 'P04637-1') & (test['mutation'].str.contains('V157A'))]['D2D_values'].values)\n",
        "print(test[(test['proteins'] == 'P04637-1') & (test['mutation'].str.contains('P152R'))]['D2D_values'].values)\n",
        "print(test[(test['proteins'] == 'P04637-1') & (test['mutation'].str.contains('P152L'))]['D2D_values'].values)\n",
        "print(test[(test['proteins'] == 'P04637-1') & (test['mutation'].str.contains('P151R'))]['D2D_values'].values)\n",
        "print(test[(test['proteins'] == 'P04637-1') & (test['mutation'].str.contains('P151A'))]['D2D_values'].values)\n",
        "print(test[(test['proteins'] == 'P04637-1') & (test['mutation'].str.contains('P151S'))]['D2D_values'].values)\n",
        "print(test[(test['proteins'] == 'P04637-1') & (test['mutation'].str.contains('P151T'))]['D2D_values'].values)\n",
        "print(test[(test['proteins'] == 'P04637-1') & (test['mutation'].str.contains('C141Y'))]['D2D_values'].values)\n",
        "print(test[(test['proteins'] == 'P04637-1') & (test['mutation'].str.contains('C135R'))]['D2D_values'].values)\n",
        "print(test[(test['proteins'] == 'P04637-1') & (test['mutation'].str.contains('M133T'))]['D2D_values'].values)\n",
        "print(test[(test['proteins'] == 'P04637-1') & (test['mutation'].str.contains('K132R'))]['D2D_values'].values)\n",
        "print(test[(test['proteins'] == 'P04637-1') & (test['mutation'].str.contains('K132E'))]['D2D_values'].values)\n",
        "print(test[(test['proteins'] == 'P04637-1') & (test['mutation'].str.contains('N131I'))]['D2D_values'].values)\n",
        "print(test[(test['proteins'] == 'P04637-1') & (test['mutation'].str.contains('N131Y'))]['D2D_values'].values)\n",
        "print(test[(test['proteins'] == 'P04637-1') & (test['mutation'].str.contains('L130P'))]['D2D_values'].values)\n",
        "print(test[(test['proteins'] == 'P04637-1') & (test['mutation'].str.contains('S127Y'))]['D2D_values'].values)\n",
        "print(test[(test['proteins'] == 'P04637-1') & (test['mutation'].str.contains('S127P'))]['D2D_values'].values)\n",
        "print(test[(test['proteins'] == 'P04637-1') & (test['mutation'].str.contains('T125R'))]['D2D_values'].values)\n",
        "print(test[(test['proteins'] == 'P04637-1') & (test['mutation'].str.contains('T125K'))]['D2D_values'].values)\n",
        "print(test[(test['proteins'] == 'P04637-1') & (test['mutation'].str.contains('R110L'))]['D2D_values'].values)\n",
        "print(test[(test['proteins'] == 'P04637-1') & (test['mutation'].str.contains('R110P'))]['D2D_values'].values)\n",
        "print(test[(test['proteins'] == 'P04637-1') & (test['mutation'].str.contains('G105R'))]['D2D_values'].values)"
      ]
    },
    {
      "cell_type": "code",
      "execution_count": null,
      "metadata": {
        "id": "OCfTJz4rbNiM"
      },
      "outputs": [],
      "source": [
        "print(test[(test['proteins'] == 'P04637-1') & (test['mutation'].str.contains('L35F'))]['D2D_values'].values)"
      ]
    },
    {
      "cell_type": "code",
      "execution_count": null,
      "metadata": {
        "id": "bP1nlHQFQ62y"
      },
      "outputs": [],
      "source": [
        "# Benign\n",
        "print(test[(test['proteins'] == 'P04637-1') & (test['mutation'].str.contains('C182G'))]['D2D_values'].values) # INCORRECT\n",
        "print(test[(test['proteins'] == 'P04637-1') & (test['mutation'].str.contains('T312S'))]['D2D_values'].values)\n",
        "print(test[(test['proteins'] == 'P04637-1') & (test['mutation'].str.contains('R158H'))]['D2D_values'].values) # INCORRECT - There is a double label in Clinvar for both pathogenic and benign\n",
        "print(test[(test['proteins'] == 'P04637-1') & (test['mutation'].str.contains('R290H'))]['D2D_values'].values) # INCORRECT - There is a double label in Clinvar for both pathogenic and benign\n",
        "print(test[(test['proteins'] == 'P04637-1') & (test['mutation'].str.contains('N235S'))]['D2D_values'].values) # INCORRECT\n",
        "print(test[(test['proteins'] == 'P04637-1') & (test['mutation'].str.contains('V73M'))]['D2D_values'].values) # INCORRECT\n",
        "print(test[(test['proteins'] == 'P04637-1') & (test['mutation'].str.contains('P72R'))]['D2D_values'].values)\n",
        "print(test[(test['proteins'] == 'P04637-1') & (test['mutation'].str.contains('P47S'))]['D2D_values'].values)"
      ]
    },
    {
      "cell_type": "markdown",
      "metadata": {
        "id": "tAZZVb2wI6Sy"
      },
      "source": [
        "### PTEN - OUtDATED ?"
      ]
    },
    {
      "cell_type": "code",
      "execution_count": null,
      "metadata": {
        "id": "9JbiOQgx50zb"
      },
      "outputs": [],
      "source": [
        "test_cancer = test[test['condit'].str.contains('cancer') | test['condit'].str.contains('Lynch') | test['condit'].str.contains('tumor')]"
      ]
    },
    {
      "cell_type": "code",
      "execution_count": null,
      "metadata": {
        "id": "RbcuE5oU50zc"
      },
      "outputs": [],
      "source": [
        "tp53=test_cancer[test_cancer['proteins'] == 'P04637']\n",
        "fig = px.scatter(tp53, x='pos', y='D2D_values',\n",
        "                 color =  tp53['label_proc'],\n",
        "                 symbol = tp53['label_proc'],\n",
        "                 symbol_sequence= ['circle-open','circle-open','x', 'x', 'x', 'x'],\n",
        "                 color_discrete_sequence = ['green', 'gold', 'lightskyblue', 'blue', 'salmon', 'red'], opacity = 0.55, width =1300, height =400,  hover_data=['mutation', 'D2D_values' ])\n",
        "\n",
        "# Change the bar mode\n",
        "fig.update_layout(barmode='group', title=\"TP53 Gene - cancer related mutations\",\n",
        "    xaxis_title=\"Position\",\n",
        "    yaxis_title=\"D2D prediction\",\n",
        "    font_family=\"Arial\",\n",
        "    legend_title=\"Groundtruth\",\n",
        "    title_font_family=\"Arial\")\n",
        "fig.show()"
      ]
    },
    {
      "cell_type": "code",
      "execution_count": null,
      "metadata": {
        "id": "nCtRW30S50zc"
      },
      "outputs": [],
      "source": [
        "tp53=test[test['proteins'] == 'P04637']\n",
        "\n",
        "fig = px.scatter(tp53, x='pos', y='D2D_values',\n",
        "                 color =  tp53['label_proc'],\n",
        "                 symbol = tp53['label_proc'],\n",
        "                 symbol_sequence= ['circle-open','circle-open','x', 'x', 'x', 'x'],\n",
        "                 color_discrete_sequence = ['green', 'gold', 'lightskyblue',  'red', 'blue','salmon'], opacity = 0.55, width =1300, height =400,  hover_data=['mutation', 'D2D_values' ])\n",
        "\n",
        "# Change the bar mode\n",
        "fig.update_layout(barmode='group', title=\"TP53 Gene - all mutations\",\n",
        "    xaxis_title=\"Position\",\n",
        "    yaxis_title=\"D2D prediction\",\n",
        "    font_family=\"Arial\",\n",
        "    legend_title=\"Groundtruth\",\n",
        "    title_font_family=\"Arial\")\n",
        "fig.show()"
      ]
    },
    {
      "cell_type": "code",
      "execution_count": null,
      "metadata": {
        "id": "3-YogZ0u50zc"
      },
      "outputs": [],
      "source": [
        "pten=test_cancer[test_cancer['proteins'] == 'P60484']\n",
        "fig = px.scatter(pten, x='pos', y='D2D_values',\n",
        "                 color =  pten['label_proc'],\n",
        "                 symbol = pten['label_proc'],\n",
        "                 symbol_sequence= ['x','circle-open', 'circle-open', 'x', 'x'],\n",
        "                 color_discrete_sequence = ['red', 'gold', 'green',  'salmon', 'lightskyblue'], opacity = 0.55, width =1300, height =400)\n",
        "\n",
        "\n",
        "# Change the bar mode\n",
        "fig.update_layout(barmode='group', title=\"PTEN Gene - cancer related mutations\",\n",
        "    xaxis_title=\"Position\",\n",
        "    yaxis_title=\"D2D prediction\",\n",
        "    font_family=\"Arial\",\n",
        "    legend_title=\"Groundtruth\",\n",
        "    title_font_family=\"Arial\")\n",
        "fig.show()"
      ]
    },
    {
      "cell_type": "code",
      "execution_count": null,
      "metadata": {
        "id": "qK2wVmCA50zc"
      },
      "outputs": [],
      "source": [
        "pten=test[test['proteins'] == 'P60484']\n",
        "\n",
        "fig = px.scatter(pten, x='pos', y='D2D_values',\n",
        "                 color =  pten['label_proc'],\n",
        "                 symbol = pten['label_proc'],\n",
        "                 symbol_sequence= ['x','circle-open', 'circle-open', 'x', 'x'],\n",
        "                 color_discrete_sequence = ['red', 'gold', 'green',  'salmon', 'lightskyblue'], opacity = 0.55, width =1300, height =400)\n",
        "\n",
        "\n",
        "# Change the bar mode\n",
        "fig.update_layout(barmode='group', title=\"PTEN Gene - all mutations\",\n",
        "    xaxis_title=\"Position\",\n",
        "    yaxis_title=\"D2D prediction\",\n",
        "    font_family=\"Arial\",\n",
        "    legend_title=\"Groundtruth\",\n",
        "    title_font_family=\"Arial\")\n",
        "fig.show()"
      ]
    },
    {
      "cell_type": "code",
      "execution_count": null,
      "metadata": {
        "id": "CunuphS550zd"
      },
      "outputs": [],
      "source": [
        "msh2=test[test['proteins'] == 'P43246']\n",
        "\n",
        "fig = px.scatter(msh2, x='pos', y='D2D_values',\n",
        "                 color =  msh2['label_proc'],\n",
        "                 symbol = msh2['label_proc'],\n",
        "                 symbol_sequence= ['circle-open',  'circle-open', 'x','x', 'x', 'x'],\n",
        "                 color_discrete_sequence = ['green', 'gold','lightskyblue','blue','salmon',  'red' ], opacity = 0.55, width =1300, height =400)\n",
        "\n",
        "# Change the bar mode\n",
        "fig.update_layout(barmode='group', title=\"MSH2 Gene - all mutations\",\n",
        "    xaxis_title=\"Position\",\n",
        "    yaxis_title=\"D2D prediction\",\n",
        "    font_family=\"Arial\",\n",
        "    legend_title=\"Groundtruth\",\n",
        "    title_font_family=\"Arial\")\n",
        "fig.show()"
      ]
    },
    {
      "cell_type": "code",
      "execution_count": null,
      "metadata": {
        "id": "2jYzHDdC50zd"
      },
      "outputs": [],
      "source": [
        "msh2=test_cancer[test_cancer['proteins'] == 'P43246']\n",
        "\n",
        "fig = px.scatter(msh2, x='pos', y='D2D_values',\n",
        "                 color =  msh2['label_proc'],\n",
        "                 symbol = msh2['label_proc'],\n",
        "                 symbol_sequence= ['circle-open', 'x','x', 'circle-open','x', 'x'],\n",
        "                 color_discrete_sequence = ['green', 'lightskyblue','blue','gold','salmon',  'red' ], opacity = 0.55, width =1300, height =400)\n",
        "\n",
        "# Change the bar mode\n",
        "fig.update_layout(barmode='group', title=\"MSH2 Gene - cancer related mutations\",\n",
        "    xaxis_title=\"Position\",\n",
        "    yaxis_title=\"D2D prediction\",\n",
        "    font_family=\"Arial\",\n",
        "    legend_title=\"Groundtruth\",\n",
        "    title_font_family=\"Arial\")\n",
        "fig.show()"
      ]
    },
    {
      "cell_type": "code",
      "source": [
        "brca1=test[test['proteins'] == 'P38398']\n",
        "\n",
        "fig = px.scatter(brca1, x='pos', y='D2D_values',\n",
        "                 color =  brca1['label_proc'],\n",
        "                 symbol = brca1['label_proc'],\n",
        "                 symbol_sequence= ['x','circle-open','x',  'circle-open', 'x', 'x'],\n",
        "                 color_discrete_sequence = [ 'red', 'gold', 'salmon', 'green', 'lightskyblue','blue'], opacity = 0.55, width =1300, height =400)\n",
        "\n",
        "# Change the bar mode\n",
        "fig.update_layout(barmode='group', title=\"brca1 Gene - all mutations\",\n",
        "    xaxis_title=\"Position\",\n",
        "    yaxis_title=\"D2D prediction\",\n",
        "    font_family=\"Arial\",\n",
        "    legend_title=\"Groundtruth\",\n",
        "    title_font_family=\"Arial\")\n",
        "fig.show()"
      ],
      "metadata": {
        "id": "-DjyHWSp5LY0"
      },
      "execution_count": null,
      "outputs": []
    },
    {
      "cell_type": "code",
      "source": [
        "brca1=test_cancer[test_cancer['proteins'] == 'P38398']\n",
        "\n",
        "fig = px.scatter(brca1, x='pos', y='D2D_values',\n",
        "                 color =  brca1['label_proc'],\n",
        "                 symbol = brca1['label_proc'],\n",
        "                 symbol_sequence= ['x','circle-open','x',  'circle-open', 'x', 'x'],\n",
        "                 color_discrete_sequence = [ 'red', 'gold', 'salmon', 'green', 'lightskyblue','blue'], opacity = 0.55, width =1300, height =400)\n",
        "\n",
        "# Change the bar mode\n",
        "fig.update_layout(barmode='group', title=\"brca1 Gene - cancer related mutations\",\n",
        "    xaxis_title=\"Position\",\n",
        "    yaxis_title=\"D2D prediction\",\n",
        "    font_family=\"Arial\",\n",
        "    legend_title=\"Groundtruth\",\n",
        "    title_font_family=\"Arial\")\n",
        "fig.show()"
      ],
      "metadata": {
        "id": "aLa9Dt-V5LbD"
      },
      "execution_count": null,
      "outputs": []
    },
    {
      "cell_type": "code",
      "execution_count": null,
      "metadata": {
        "id": "enNI0z6pN78W"
      },
      "outputs": [],
      "source": [
        "brca1 = pd.read_csv('/content/drive/MyDrive/my_colab/3rdYear/datasets/brca1_mut_clinvar_missense_labels_correct.csv')\n",
        "brca1 = brca1.sort_values(by='uniprot id')\n",
        "brca1 = brca1.drop_duplicates(\n",
        "  subset = ['AA_orig', 'AA_targ', 'position']).reset_index(drop = True)"
      ]
    },
    {
      "cell_type": "code",
      "execution_count": null,
      "metadata": {
        "id": "RjJLHiieN3ZP"
      },
      "outputs": [],
      "source": [
        "lab_num = []\n",
        "labels_drgn = repres_brca['label'].tolist()\n",
        "for k in labels_drgn:\n",
        "  if k == 'VUS':\n",
        "    lab_num.append(-1)\n",
        "  elif k == 'pathogenic':\n",
        "    lab_num.append(2)\n",
        "  elif k == 'Likely pathogenic':\n",
        "    lab_num.append(1)\n",
        "  else:\n",
        "    lab_num.append(0)\n",
        "\n",
        "labels_drgn = lab_num\n",
        "X_drgn, y_drgn = np.array(stacked_drgn), np.array(labels_drgn)\n",
        "\n",
        "drgn_dataset = ClassifierDataset(torch.from_numpy(X_drgn).float(), torch.from_numpy(y_drgn).long())\n",
        "drgn_loader = DataLoader(dataset=drgn_dataset, batch_size=1 , drop_last=True)\n",
        "\n",
        "device = torch.device(\"cuda:0\" if torch.cuda.is_available() else \"cpu\")\n",
        "\n",
        "y_pred_list = []\n",
        "predictions_drgn= []\n",
        "my_net.eval()\n",
        "\n",
        "with torch.no_grad():\n",
        "    for X_batch, _ in drgn_loader:\n",
        "        X_batch = X_batch.to(device)\n",
        "        y_test_pred = my_net(X_batch)\n",
        "        predictions_drgn.extend(torch.sigmoid(y_test_pred).cpu().detach().numpy().tolist())\n",
        "\n",
        "flat_list = []\n",
        "for sublist in predictions_drgn:\n",
        "    for item in sublist:\n",
        "        flat_list.append(item)"
      ]
    },
    {
      "cell_type": "code",
      "execution_count": null,
      "metadata": {
        "id": "MHLdg8SYM1p8"
      },
      "outputs": [],
      "source": [
        "repres_brca['pos'] = positions\n",
        "repres_brca['D2D_values'] = flat_list\n",
        "repres_brca['proteins']  = proteins_temp\n",
        "repres_brca['condit'] = brca1['Condition(s)']"
      ]
    },
    {
      "cell_type": "code",
      "execution_count": null,
      "metadata": {
        "id": "5r4jpGtOM34e"
      },
      "outputs": [],
      "source": [
        "repres_brca['pos'] = pd.to_numeric(repres_brca['pos'],errors='coerce')\n",
        "#repres_brca['D2D_values'] = pd.to_numeric(repres_brca['D2D_values'],errors='coerce')\n",
        "repres_brca = repres_brca.sort_values(by='pos', ascending=True)"
      ]
    },
    {
      "cell_type": "code",
      "execution_count": null,
      "metadata": {
        "id": "S0GDPUSPPcXo"
      },
      "outputs": [],
      "source": [
        "# Pathogenic in clinvar\n",
        "print(repres_brca[(repres_brca['proteins'] == 'P38398-1') & (repres_brca['mutation'].str.contains('R71G'))]['D2D_values'].values)\n",
        "print(repres_brca[(repres_brca['proteins'] == 'P38398-1') & (repres_brca['mutation'].str.contains('C64W'))]['D2D_values'].values) # INCORRECT- no significance in COSMIC - likely pathogenic / pathogenic clinvar\n",
        "print(repres_brca[(repres_brca['proteins'] == 'P38398-1') & (repres_brca['mutation'].str.contains('C39R'))]['D2D_values'].values)\n",
        "print(repres_brca[(repres_brca['proteins'] == 'P38398-1') & (repres_brca['mutation'].str.contains('L22S'))]['D2D_values'].values)\n",
        "print(repres_brca[(repres_brca['proteins'] == 'P38398-1') & (repres_brca['mutation'].str.contains('M1V'))]['D2D_values'].values) # likely pathogenic / pathogenic clinvar: functional studies with LOF\n",
        "print(repres_brca[(repres_brca['proteins'] == 'P38398-1') & (repres_brca['mutation'].str.contains('M1T'))]['D2D_values'].values) # likely pathogenic / pathogenic clinvar: functional studies with LOF\n",
        "print(repres_brca[(repres_brca['proteins'] == 'P38398-1') & (repres_brca['mutation'].str.contains('M1R'))]['D2D_values'].values) # INCORRECT - M1? Tier 3 in COSMIC\n",
        "print(repres_brca[(repres_brca['proteins'] == 'P38398-1') & (repres_brca['mutation'].str.contains('M1K'))]['D2D_values'].values) # INCORRECT - M1? Tier 3 in COSMIC\n",
        "print(repres_brca[(repres_brca['proteins'] == 'P38398-1') & (repres_brca['mutation'].str.contains('M1I'))]['D2D_values'].values) # INCORRECT - M1? Tier 3 in COSMIC\n",
        "print(repres_brca[(repres_brca['proteins'] == 'P38398-1') & (repres_brca['mutation'].str.contains('M18T'))]['D2D_values'].values) # reviewed by expert panel\n",
        "print(repres_brca[(repres_brca['proteins'] == 'P38398-1') & (repres_brca['mutation'].str.contains('C24R'))]['D2D_values'].values) # criteria provided, multiple submitters, no conflicts\n",
        "print(repres_brca[(repres_brca['proteins'] == 'P38398-1') & (repres_brca['mutation'].str.contains('C24G'))]['D2D_values'].values) # criteria provided, multiple submitters, no conflicts\n",
        "print(repres_brca[(repres_brca['proteins'] == 'P38398-1') & (repres_brca['mutation'].str.contains('I26N'))]['D2D_values'].values) # no assertion criteria provided\n",
        "print(repres_brca[(repres_brca['proteins'] == 'P38398-1') & (repres_brca['mutation'].str.contains('T37R'))]['D2D_values'].values) # criteria provided, multiple submitters, no conflicts\n",
        "print(repres_brca[(repres_brca['proteins'] == 'P38398-1') & (repres_brca['mutation'].str.contains('T37K'))]['D2D_values'].values) # reviewed by expert panel\n",
        "print(repres_brca[(repres_brca['proteins'] == 'P38398-1') & (repres_brca['mutation'].str.contains('C39S'))]['D2D_values'].values) # criteria provided, multiple submitters, no conflicts\n",
        "print(repres_brca[(repres_brca['proteins'] == 'P38398-1') & (repres_brca['mutation'].str.contains('C39R'))]['D2D_values'].values) # reviewed by expert panel\n",
        "print(repres_brca[(repres_brca['proteins'] == 'P38398-1') & (repres_brca['mutation'].str.contains('C39G'))]['D2D_values'].values) # criteria provided, multiple submitters, no conflicts\n",
        "print(repres_brca[(repres_brca['proteins'] == 'P38398-1') & (repres_brca['mutation'].str.contains('C39Y'))]['D2D_values'].values)\n",
        "print(repres_brca[(repres_brca['proteins'] == 'P38398-1') & (repres_brca['mutation'].str.contains('C39F'))]['D2D_values'].values)\n",
        "print(repres_brca[(repres_brca['proteins'] == 'P38398-1') & (repres_brca['mutation'].str.contains('C39W'))]['D2D_values'].values)\n",
        "print(repres_brca[(repres_brca['proteins'] == 'P38398-1') & (repres_brca['mutation'].str.contains('H41Y'))]['D2D_values'].values)\n",
        "print(repres_brca[(repres_brca['proteins'] == 'P38398-1') & (repres_brca['mutation'].str.contains('H41R'))]['D2D_values'].values)\n",
        "print(repres_brca[(repres_brca['proteins'] == 'P38398-1') & (repres_brca['mutation'].str.contains('C44S'))]['D2D_values'].values)\n",
        "print(repres_brca[(repres_brca['proteins'] == 'P38398-1') & (repres_brca['mutation'].str.contains('C44R'))]['D2D_values'].values)\n",
        "print(repres_brca[(repres_brca['proteins'] == 'P38398-1') & (repres_brca['mutation'].str.contains('C44Y'))]['D2D_values'].values)\n",
        "print(repres_brca[(repres_brca['proteins'] == 'P38398-1') & (repres_brca['mutation'].str.contains('C44F'))]['D2D_values'].values)\n",
        "print(repres_brca[(repres_brca['proteins'] == 'P38398-1') & (repres_brca['mutation'].str.contains('S770L'))]['D2D_values'].values)\n",
        "print(repres_brca[(repres_brca['proteins'] == 'P38398-1') & (repres_brca['mutation'].str.contains('D96V'))]['D2D_values'].values)\n",
        "print(repres_brca[(repres_brca['proteins'] == 'P38398-1') & (repres_brca['mutation'].str.contains('D96G'))]['D2D_values'].values)\n",
        "print(repres_brca[(repres_brca['proteins'] == 'P38398-1') & (repres_brca['mutation'].str.contains('R71T'))]['D2D_values'].values)\n",
        "print(repres_brca[(repres_brca['proteins'] == 'P38398-1') & (repres_brca['mutation'].str.contains('R71M'))]['D2D_values'].values)\n",
        "print(repres_brca[(repres_brca['proteins'] == 'P38398-1') & (repres_brca['mutation'].str.contains('R71K'))]['D2D_values'].values)\n",
        "print(repres_brca[(repres_brca['proteins'] == 'P38398-1') & (repres_brca['mutation'].str.contains('C64S'))]['D2D_values'].values)\n",
        "print(repres_brca[(repres_brca['proteins'] == 'P38398-1') & (repres_brca['mutation'].str.contains('C64Y'))]['D2D_values'].values) # INCORRECT - no significance in COSMIC! - reviewed by expert panel\n",
        "print(repres_brca[(repres_brca['proteins'] == 'P38398-1') & (repres_brca['mutation'].str.contains('C64R'))]['D2D_values'].values) # INCORRECT - no significance in COSMIC! - criteria provided, multiple submitters, no conflicts\n",
        "print(repres_brca[(repres_brca['proteins'] == 'P38398-1') & (repres_brca['mutation'].str.contains('C64G'))]['D2D_values'].values)\n",
        "print(repres_brca[(repres_brca['proteins'] == 'P38398-1') & (repres_brca['mutation'].str.contains('C61Y'))]['D2D_values'].values)\n",
        "print(repres_brca[(repres_brca['proteins'] == 'P38398-1') & (repres_brca['mutation'].str.contains('C61R'))]['D2D_values'].values)\n",
        "print(repres_brca[(repres_brca['proteins'] == 'P38398-1') & (repres_brca['mutation'].str.contains('C61S'))]['D2D_values'].values)\n",
        "print(repres_brca[(repres_brca['proteins'] == 'P38398-1') & (repres_brca['mutation'].str.contains('C61G'))]['D2D_values'].values)\n",
        "print(repres_brca[(repres_brca['proteins'] == 'P38398-1') & (repres_brca['mutation'].str.contains('C47F'))]['D2D_values'].values)\n",
        "print(repres_brca[(repres_brca['proteins'] == 'P38398-1') & (repres_brca['mutation'].str.contains('C47Y'))]['D2D_values'].values)\n",
        "print(repres_brca[(repres_brca['proteins'] == 'P38398-1') & (repres_brca['mutation'].str.contains('C47R'))]['D2D_values'].values)\n",
        "print(repres_brca[(repres_brca['proteins'] == 'P38398-1') & (repres_brca['mutation'].str.contains('C47S'))]['D2D_values'].values)\n",
        "print(repres_brca[(repres_brca['proteins'] == 'P38398-1') & (repres_brca['mutation'].str.contains('P1812A'))]['D2D_values'].values) # no significance in COSMIC - likely pathogenic / pathogenic clinvar\n",
        "print(repres_brca[(repres_brca['proteins'] == 'P38398-1') & (repres_brca['mutation'].str.contains('M1775R'))]['D2D_values'].values) # no significance in COSMIC - likely pathogenic / pathogenic clinvar\n",
        "print(repres_brca[(repres_brca['proteins'] == 'P38398-1') & (repres_brca['mutation'].str.contains('A1708E'))]['D2D_values'].values) # no significance in COSMIC - PATHOGENIC in Clnvar !\n",
        "print(repres_brca[(repres_brca['proteins'] == 'P38398-1') & (repres_brca['mutation'].str.contains('R1699Q'))]['D2D_values'].values) # no significance in COSMIC - likely pathogenic / pathogenic clinvar\n",
        "print(repres_brca[(repres_brca['proteins'] == 'P38398-1') & (repres_brca['mutation'].str.contains('R1699W'))]['D2D_values'].values)\n",
        "print(repres_brca[(repres_brca['proteins'] == 'P38398-1') & (repres_brca['mutation'].str.contains('H1686R'))]['D2D_values'].values)\n",
        "print(repres_brca[(repres_brca['proteins'] == 'P38398-1') & (repres_brca['mutation'].str.contains('A1623G'))]['D2D_values'].values) # INCORRECT - no significance in COSMIC - likely pathogenic / pathogenic clinvar: no functional studies\n",
        "print(repres_brca[(repres_brca['proteins'] == 'P38398-1') & (repres_brca['mutation'].str.contains('E1559Q'))]['D2D_values'].values) # INCORRECT - no significance in COSMIC - likely pathogenic / pathogenic clinvar: On commments: The c.4675G>C variant (also known as p.E1559Q) is located in coding exon 13 of the BRCA1 gene. This variant results from a G to C substitution at nucleotide position 4675. The glutamic acid at codon 1559 is replaced by glutamine, an amino acid with highly similar properties. However, this change occurs in the last base pair of coding exon 13 which makes it likely to have some effect on normal mRNA splicing. In silico splice site analysis predicts that this alteration will weaken the native splice donor site and will result in the creation or strengthening of a novel splice donor site. RNA analysis showed that this alteration induces expression of a transcript lacking 11 nucleotides at the end of coding exon 13 (also called exon 15 in the literature-Ambry internal data; Davy G et al. Eur. J. Hum. Genet., 2017 10;25:1147-1154). Furthermore, a close match alteration at the same nucleotide position, BRCA1 c.4675G>A has been shown in multiple studies to have the same splice defect as this alteration (Wappenschmidt B et al. PLoS ONE, 2012 Dec; Wangensteen T et al. Hered Cancer Clin Pract, 2019 May;17:14; Koczkowska M et al. Cancers (Basel), 2018 Nov;10: ). This alteration was functional in a protein assay (Woods NT et al. NPJ Genom Med, 2016 Mar;1) and is predicted to be tolerated by in silico analysis. Based on the supporting evidence, this alteration is interpreted as a disease-causing mutation."
      ]
    },
    {
      "cell_type": "code",
      "execution_count": null,
      "metadata": {
        "id": "O4qqwb9eTPRp"
      },
      "outputs": [],
      "source": [
        "print(repres_brca[(repres_brca['proteins'] == 'P38398-1') & (repres_brca['mutation'].str.contains('Y1853C'))]['D2D_values'].values)\n",
        "print(repres_brca[(repres_brca['proteins'] == 'P38398-1') & (repres_brca['mutation'].str.contains('L1839S'))]['D2D_values'].values)\n",
        "print(repres_brca[(repres_brca['proteins'] == 'P38398-1') & (repres_brca['mutation'].str.contains('V1838E'))]['D2D_values'].values)\n",
        "print(repres_brca[(repres_brca['proteins'] == 'P38398-1') & (repres_brca['mutation'].str.contains('W1837C'))]['D2D_values'].values)\n",
        "print(repres_brca[(repres_brca['proteins'] == 'P38398-1') & (repres_brca['mutation'].str.contains('W1837G'))]['D2D_values'].values)\n",
        "print(repres_brca[(repres_brca['proteins'] == 'P38398-1') & (repres_brca['mutation'].str.contains('W1837R'))]['D2D_values'].values)\n",
        "print(repres_brca[(repres_brca['proteins'] == 'P38398-1') & (repres_brca['mutation'].str.contains('V1833M'))]['D2D_values'].values)\n",
        "print(repres_brca[(repres_brca['proteins'] == 'P38398-1') & (repres_brca['mutation'].str.contains('A1823S'))]['D2D_values'].values) # INCORRECT - no significance in COSMIC! -\tcriteria provided, single submitter - The p.A1823S pathogenic mutation (also known as c.5467G>T), located in coding exon 21 of the BRCA1 gene, results from a G to T substitution at nucleotide position 5467. The amino acid change results in alanine to serine at codon 1823, an amino acid with similar properties. However, this change occurs in the last base pair of coding exon 21, which makes it likely to have some effect on normal mRNA splicing. One functional study found that this nucleotide substitution is deleterious in a high throughput genome editing haploid cell survival assay and indicated to have an RNA defect (Findlay GM et al. Nature. 2018 10;562:217-222). This nucleotide position is highly conserved in available vertebrate species. In silico splice site analysis predicts that this alteration will weaken the native splice donor site. RNA studies have demonstrated that this alteration results in abnormal splicing in the set of samples tested (Ambry internal data). Based on the supporting evidence, this alteration is interpreted as a disease-causing mutation.\n",
        "print(repres_brca[(repres_brca['proteins'] == 'P38398-1') & (repres_brca['mutation'].str.contains('A1823T'))]['D2D_values'].values) # INCORRECT - no significance in COSMIC! - criteria provided, multiple submitters, no conflicts\n",
        "print(repres_brca[(repres_brca['proteins'] == 'P38398-1') & (repres_brca['mutation'].str.contains('D1818G'))]['D2D_values'].values) # INCORRECT - no significance in COSMIC! - criteria provided, multiple submitters, no conflicts\n",
        "print(repres_brca[(repres_brca['proteins'] == 'P38398-1') & (repres_brca['mutation'].str.contains('G1788V'))]['D2D_values'].values)\n",
        "print(repres_brca[(repres_brca['proteins'] == 'P38398-1') & (repres_brca['mutation'].str.contains('C1787S'))]['D2D_values'].values) # INCORRECT - no significance in COSMIC! - reviewed by expert panel\n",
        "print(repres_brca[(repres_brca['proteins'] == 'P38398-1') & (repres_brca['mutation'].str.contains('L1780P'))]['D2D_values'].values)\n",
        "print(repres_brca[(repres_brca['proteins'] == 'P38398-1') & (repres_brca['mutation'].str.contains('M1775K'))]['D2D_values'].values)\n",
        "print(repres_brca[(repres_brca['proteins'] == 'P38398-1') & (repres_brca['mutation'].str.contains('G1770V'))]['D2D_values'].values)\n",
        "print(repres_brca[(repres_brca['proteins'] == 'P38398-1') & (repres_brca['mutation'].str.contains('I1766N'))]['D2D_values'].values)\n",
        "print(repres_brca[(repres_brca['proteins'] == 'P38398-1') & (repres_brca['mutation'].str.contains('I1766S'))]['D2D_values'].values)\n",
        "print(repres_brca[(repres_brca['proteins'] == 'P38398-1') & (repres_brca['mutation'].str.contains('L1764P'))]['D2D_values'].values)\n",
        "print(repres_brca[(repres_brca['proteins'] == 'P38398-1') & (repres_brca['mutation'].str.contains('A1752E'))]['D2D_values'].values)\n",
        "print(repres_brca[(repres_brca['proteins'] == 'P38398-1') & (repres_brca['mutation'].str.contains('P1749R'))]['D2D_values'].values)\n",
        "print(repres_brca[(repres_brca['proteins'] == 'P38398-1') & (repres_brca['mutation'].str.contains('G1748D'))]['D2D_values'].values)\n",
        "print(repres_brca[(repres_brca['proteins'] == 'P38398-1') & (repres_brca['mutation'].str.contains('D1739V'))]['D2D_values'].values)\n",
        "print(repres_brca[(repres_brca['proteins'] == 'P38398-1') & (repres_brca['mutation'].str.contains('G1738V'))]['D2D_values'].values)\n",
        "print(repres_brca[(repres_brca['proteins'] == 'P38398-1') & (repres_brca['mutation'].str.contains('G1738E'))]['D2D_values'].values)\n",
        "print(repres_brca[(repres_brca['proteins'] == 'P38398-1') & (repres_brca['mutation'].str.contains('G1738R'))]['D2D_values'].values)\n",
        "print(repres_brca[(repres_brca['proteins'] == 'P38398-1') & (repres_brca['mutation'].str.contains('V1736G'))]['D2D_values'].values)\n",
        "print(repres_brca[(repres_brca['proteins'] == 'P38398-1') & (repres_brca['mutation'].str.contains('V1736A'))]['D2D_values'].values)\n",
        "print(repres_brca[(repres_brca['proteins'] == 'P38398-1') & (repres_brca['mutation'].str.contains('S1722F'))]['D2D_values'].values)\n",
        "print(repres_brca[(repres_brca['proteins'] == 'P38398-1') & (repres_brca['mutation'].str.contains('W1718C'))]['D2D_values'].values)\n",
        "print(repres_brca[(repres_brca['proteins'] == 'P38398-1') & (repres_brca['mutation'].str.contains('S1715R'))]['D2D_values'].values)\n",
        "print(repres_brca[(repres_brca['proteins'] == 'P38398-1') & (repres_brca['mutation'].str.contains('S1715N'))]['D2D_values'].values)\n",
        "print(repres_brca[(repres_brca['proteins'] == 'P38398-1') & (repres_brca['mutation'].str.contains('S1715R'))]['D2D_values'].values)\n",
        "print(repres_brca[(repres_brca['proteins'] == 'P38398-1') & (repres_brca['mutation'].str.contains('V1714G'))]['D2D_values'].values)\n",
        "print(repres_brca[(repres_brca['proteins'] == 'P38398-1') & (repres_brca['mutation'].str.contains('V1713G'))]['D2D_values'].values) # INCORRECT - no significance in COSMIC! - criteria provided, single submitter\n",
        "print(repres_brca[(repres_brca['proteins'] == 'P38398-1') & (repres_brca['mutation'].str.contains('G1706E'))]['D2D_values'].values)\n",
        "print(repres_brca[(repres_brca['proteins'] == 'P38398-1') & (repres_brca['mutation'].str.contains('G1706R'))]['D2D_values'].values)\n",
        "print(repres_brca[(repres_brca['proteins'] == 'P38398-1') & (repres_brca['mutation'].str.contains('L1705P'))]['D2D_values'].values)\n",
        "print(repres_brca[(repres_brca['proteins'] == 'P38398-1') & (repres_brca['mutation'].str.contains('C1697R'))]['D2D_values'].values)\n",
        "print(repres_brca[(repres_brca['proteins'] == 'P38398-1') & (repres_brca['mutation'].str.contains('F1695V'))]['D2D_values'].values)\n",
        "print(repres_brca[(repres_brca['proteins'] == 'P38398-1') & (repres_brca['mutation'].str.contains('D1692Y'))]['D2D_values'].values)\n",
        "print(repres_brca[(repres_brca['proteins'] == 'P38398-1') & (repres_brca['mutation'].str.contains('D1692H'))]['D2D_values'].values)\n",
        "print(repres_brca[(repres_brca['proteins'] == 'P38398-1') & (repres_brca['mutation'].str.contains('D1692N'))]['D2D_values'].values)\n",
        "print(repres_brca[(repres_brca['proteins'] == 'P38398-1') & (repres_brca['mutation'].str.contains('T1691I'))]['D2D_values'].values)\n",
        "print(repres_brca[(repres_brca['proteins'] == 'P38398-1') & (repres_brca['mutation'].str.contains('T1691K'))]['D2D_values'].values)\n",
        "print(repres_brca[(repres_brca['proteins'] == 'P38398-1') & (repres_brca['mutation'].str.contains('M1689R'))]['D2D_values'].values)\n",
        "print(repres_brca[(repres_brca['proteins'] == 'P38398-1') & (repres_brca['mutation'].str.contains('T1685I'))]['D2D_values'].values)\n",
        "print(repres_brca[(repres_brca['proteins'] == 'P38398-1') & (repres_brca['mutation'].str.contains('T1685A'))]['D2D_values'].values)\n",
        "print(repres_brca[(repres_brca['proteins'] == 'P38398-1') & (repres_brca['mutation'].str.contains('S1655F'))]['D2D_values'].values)\n",
        "print(repres_brca[(repres_brca['proteins'] == 'P38398-1') & (repres_brca['mutation'].str.contains('E1559K'))]['D2D_values'].values) # INCORRECT - no significance in COSMIC! - reviewed by expert panel but no functional studies - Variant summary: BRCA1 c.4675G>A (p.Glu1559Lys) results in a conservative amino acid change in the encoded protein sequence. Four of five in-silico tools predict a benign effect of the variant on protein function. This sequence change occurs at the last nucleotide of exon 14. Several computational tools predict a significant impact on normal splicing: Four predict the variant abolishes a 5 splicing donor site. Consistent with these predications, a functional study report that this alteration activated a cryptic splice site resulting in the loss of the last 11 nucleotides of the exon 14 (Wappenschmidt_2012). The variant was absent in 251130 control chromosomes (gnomAD). c.4675G>A has been reported in the literature in individuals affected with Hereditary Breast and Ovarian Cancer Syndrome (Rebbeck_2018). These data indicate that the variant is likely to be associated with disease. Six ClinVar submitters including an expert panel (ENIGMA) cite the variant as pathogenic/likely pathogenic. Based on the evidence outlined above, the variant was classified as pathogenic.\n",
        "print(repres_brca[(repres_brca['proteins'] == 'P38398-1') & (repres_brca['mutation'].str.contains('R1495T'))]['D2D_values'].values) # INCORRECT - no significance in COSMIC! - reviewed by expert panel but no functional evidence\n",
        "print(repres_brca[(repres_brca['proteins'] == 'P38398-1') & (repres_brca['mutation'].str.contains('R1495M'))]['D2D_values'].values) # INCORRECT - no significance in COSMIC!\n",
        "print(repres_brca[(repres_brca['proteins'] == 'P38398-1') & (repres_brca['mutation'].str.contains('R1495K'))]['D2D_values'].values) # INCORRECT - no significance in COSMIC!"
      ]
    },
    {
      "cell_type": "code",
      "execution_count": null,
      "metadata": {
        "id": "eXs0JZiiq1y1"
      },
      "outputs": [],
      "source": [
        "# benign\n",
        "print(repres_brca[(repres_brca['proteins'] == 'P38398-1') & (repres_brca['mutation'].str.contains('H1860P'))]['D2D_values'].values)\n",
        "print(repres_brca[(repres_brca['proteins'] == 'P38398-1') & (repres_brca['mutation'].str.contains('P1859R'))]['D2D_values'].values)\n",
        "print(repres_brca[(repres_brca['proteins'] == 'P38398-1') & (repres_brca['mutation'].str.contains('I1858L'))]['D2D_values'].values)\n",
        "print(repres_brca[(repres_brca['proteins'] == 'P38398-1') & (repres_brca['mutation'].str.contains('L1844R'))]['D2D_values'].values) # INCORRECT - reviewed by expert panel , however :residue is not conserved in mammals and computational analyses (PolyPhen-2, SIFT, AlignGVGD, BLOSUM, MutationTaster) provide inconsistent predictions regarding the impact to the protein; this information is not very predictive of pathogenicity. The variant occurs outside of the splicing consensus sequence and in silico or computational prediction software programs (SpliceSiteFinder, MaxEntScan, NNSPLICE, GeneSplicer) do not predict a difference in splicing. In summary, based on the above information the clinical significance of this variant cannot be determined with certainty at this time. This variant is classified as a variant of uncertain significance. (less)\n",
        "print(repres_brca[(repres_brca['proteins'] == 'P38398-1') & (repres_brca['mutation'].str.contains('N1819S'))]['D2D_values'].values)\n",
        "print(repres_brca[(repres_brca['proteins'] == 'P38398-1') & (repres_brca['mutation'].str.contains('V1804D'))]['D2D_values'].values)\n",
        "print(repres_brca[(repres_brca['proteins'] == 'P38398-1') & (repres_brca['mutation'].str.contains('G1801D'))]['D2D_values'].values)\n",
        "print(repres_brca[(repres_brca['proteins'] == 'P38398-1') & (repres_brca['mutation'].str.contains('M1783L'))]['D2D_values'].values)\n",
        "print(repres_brca[(repres_brca['proteins'] == 'P38398-1') & (repres_brca['mutation'].str.contains('R1751Q'))]['D2D_values'].values)\n",
        "print(repres_brca[(repres_brca['proteins'] == 'P38398-1') & (repres_brca['mutation'].str.contains('D1733G'))]['D2D_values'].values)\n",
        "print(repres_brca[(repres_brca['proteins'] == 'P38398-1') & (repres_brca['mutation'].str.contains('T1720A'))]['D2D_values'].values)\n",
        "print(repres_brca[(repres_brca['proteins'] == 'P38398-1') & (repres_brca['mutation'].str.contains('G1706A'))]['D2D_values'].values)\n",
        "print(repres_brca[(repres_brca['proteins'] == 'P38398-1') & (repres_brca['mutation'].str.contains('E1682K'))]['D2D_values'].values)\n",
        "print(repres_brca[(repres_brca['proteins'] == 'P38398-1') & (repres_brca['mutation'].str.contains('T1675I'))]['D2D_values'].values)\n",
        "print(repres_brca[(repres_brca['proteins'] == 'P38398-1') & (repres_brca['mutation'].str.contains('L1664P'))]['D2D_values'].values)\n",
        "print(repres_brca[(repres_brca['proteins'] == 'P38398-1') & (repres_brca['mutation'].str.contains('F1662S'))]['D2D_values'].values)\n",
        "print(repres_brca[(repres_brca['proteins'] == 'P38398-1') & (repres_brca['mutation'].str.contains('M1652I'))]['D2D_values'].values)\n",
        "print(repres_brca[(repres_brca['proteins'] == 'P38398-1') & (repres_brca['mutation'].str.contains('M1652T'))]['D2D_values'].values)\n",
        "print(repres_brca[(repres_brca['proteins'] == 'P38398-1') & (repres_brca['mutation'].str.contains('P1637L'))]['D2D_values'].values)\n",
        "print(repres_brca[(repres_brca['proteins'] == 'P38398-1') & (repres_brca['mutation'].str.contains('M1628T'))]['D2D_values'].values)\n",
        "print(repres_brca[(repres_brca['proteins'] == 'P38398-1') & (repres_brca['mutation'].str.contains('P1614S'))]['D2D_values'].values)\n",
        "print(repres_brca[(repres_brca['proteins'] == 'P38398-1') & (repres_brca['mutation'].str.contains('S1613G'))]['D2D_values'].values)\n",
        "print(repres_brca[(repres_brca['proteins'] == 'P38398-1') & (repres_brca['mutation'].str.contains('S1613C'))]['D2D_values'].values)\n",
        "print(repres_brca[(repres_brca['proteins'] == 'P38398-1') & (repres_brca['mutation'].str.contains('K1606E'))]['D2D_values'].values)\n",
        "print(repres_brca[(repres_brca['proteins'] == 'P38398-1') & (repres_brca['mutation'].str.contains('S1577P'))]['D2D_values'].values)\n",
        "print(repres_brca[(repres_brca['proteins'] == 'P38398-1') & (repres_brca['mutation'].str.contains('L1564P'))]['D2D_values'].values)\n",
        "print(repres_brca[(repres_brca['proteins'] == 'P38398-1') & (repres_brca['mutation'].str.contains('T1561I'))]['D2D_values'].values)\n",
        "print(repres_brca[(repres_brca['proteins'] == 'P38398-1') & (repres_brca['mutation'].str.contains('D1546Y'))]['D2D_values'].values)\n",
        "print(repres_brca[(repres_brca['proteins'] == 'P38398-1') & (repres_brca['mutation'].str.contains('D1546N'))]['D2D_values'].values)\n",
        "print(repres_brca[(repres_brca['proteins'] == 'P38398-1') & (repres_brca['mutation'].str.contains('V1534M'))]['D2D_values'].values)\n",
        "print(repres_brca[(repres_brca['proteins'] == 'P38398-1') & (repres_brca['mutation'].str.contains('S1512I'))]['D2D_values'].values)\n",
        "print(repres_brca[(repres_brca['proteins'] == 'P38398-1') & (repres_brca['mutation'].str.contains('R1507T'))]['D2D_values'].values)\n",
        "print(repres_brca[(repres_brca['proteins'] == 'P38398-1') & (repres_brca['mutation'].str.contains('N1468H'))]['D2D_values'].values)\n",
        "print(repres_brca[(repres_brca['proteins'] == 'P38398-1') & (repres_brca['mutation'].str.contains('R1443G'))]['D2D_values'].values)\n",
        "print(repres_brca[(repres_brca['proteins'] == 'P38398-1') & (repres_brca['mutation'].str.contains('E1419Q'))]['D2D_values'].values)\n",
        "print(repres_brca[(repres_brca['proteins'] == 'P38398-1') & (repres_brca['mutation'].str.contains('H1402Y'))]['D2D_values'].values)\n",
        "print(repres_brca[(repres_brca['proteins'] == 'P38398-1') & (repres_brca['mutation'].str.contains('V1378I'))]['D2D_values'].values)\n",
        "print(repres_brca[(repres_brca['proteins'] == 'P38398-1') & (repres_brca['mutation'].str.contains('M1361L'))]['D2D_values'].values)\n",
        "print(repres_brca[(repres_brca['proteins'] == 'P38398-1') & (repres_brca['mutation'].str.contains('T1349M'))]['D2D_values'].values)\n",
        "print(repres_brca[(repres_brca['proteins'] == 'P38398-1') & (repres_brca['mutation'].str.contains('R1347G'))]['D2D_values'].values)\n",
        "print(repres_brca[(repres_brca['proteins'] == 'P38398-1') & (repres_brca['mutation'].str.contains('E1346K'))]['D2D_values'].values)\n",
        "print(repres_brca[(repres_brca['proteins'] == 'P38398-1') & (repres_brca['mutation'].str.contains('S1320P'))]['D2D_values'].values)\n",
        "print(repres_brca[(repres_brca['proteins'] == 'P38398-1') & (repres_brca['mutation'].str.contains('I1275V'))]['D2D_values'].values)\n",
        "print(repres_brca[(repres_brca['proteins'] == 'P38398-1') & (repres_brca['mutation'].str.contains('S1266T'))]['D2D_values'].values)\n",
        "print(repres_brca[(repres_brca['proteins'] == 'P38398-1') & (repres_brca['mutation'].str.contains('E1250K'))]['D2D_values'].values)\n",
        "print(repres_brca[(repres_brca['proteins'] == 'P38398-1') & (repres_brca['mutation'].str.contains('V1247I'))]['D2D_values'].values)\n",
        "print(repres_brca[(repres_brca['proteins'] == 'P38398-1') & (repres_brca['mutation'].str.contains('T1242A'))]['D2D_values'].values)\n",
        "print(repres_brca[(repres_brca['proteins'] == 'P38398-1') & (repres_brca['mutation'].str.contains('P1238L'))]['D2D_values'].values)\n",
        "print(repres_brca[(repres_brca['proteins'] == 'P38398-1') & (repres_brca['mutation'].str.contains('A622V'))]['D2D_values'].values)\n",
        "print(repres_brca[(repres_brca['proteins'] == 'P38398-1') & (repres_brca['mutation'].str.contains('R612G'))]['D2D_values'].values)\n",
        "print(repres_brca[(repres_brca['proteins'] == 'P38398-1') & (repres_brca['mutation'].str.contains('E597K'))]['D2D_values'].values)\n",
        "print(repres_brca[(repres_brca['proteins'] == 'P38398-1') & (repres_brca['mutation'].str.contains('L574F'))]['D2D_values'].values)\n",
        "print(repres_brca[(repres_brca['proteins'] == 'P38398-1') & (repres_brca['mutation'].str.contains('P568L'))]['D2D_values'].values)\n",
        "print(repres_brca[(repres_brca['proteins'] == 'P38398-1') & (repres_brca['mutation'].str.contains('N550H'))]['D2D_values'].values)\n",
        "print(repres_brca[(repres_brca['proteins'] == 'P38398-1') & (repres_brca['mutation'].str.contains('T539M'))]['D2D_values'].values)\n",
        "print(repres_brca[(repres_brca['proteins'] == 'P38398-1') & (repres_brca['mutation'].str.contains('L512F'))]['D2D_values'].values)\n",
        "print(repres_brca[(repres_brca['proteins'] == 'P38398-1') & (repres_brca['mutation'].str.contains('R504H'))]['D2D_values'].values)\n",
        "print(repres_brca[(repres_brca['proteins'] == 'P38398-1') & (repres_brca['mutation'].str.contains('R496H'))]['D2D_values'].values)\n",
        "print(repres_brca[(repres_brca['proteins'] == 'P38398-1') & (repres_brca['mutation'].str.contains('R496C'))]['D2D_values'].values)\n",
        "print(repres_brca[(repres_brca['proteins'] == 'P38398-1') & (repres_brca['mutation'].str.contains('F486L'))]['D2D_values'].values)\n",
        "print(repres_brca[(repres_brca['proteins'] == 'P38398-1') & (repres_brca['mutation'].str.contains('H476R'))]['D2D_values'].values)\n",
        "print(repres_brca[(repres_brca['proteins'] == 'P38398-1') & (repres_brca['mutation'].str.contains('N473I'))]['D2D_values'].values)\n",
        "print(repres_brca[(repres_brca['proteins'] == 'P38398-1') & (repres_brca['mutation'].str.contains('N473S'))]['D2D_values'].values)\n",
        "print(repres_brca[(repres_brca['proteins'] == 'P38398-1') & (repres_brca['mutation'].str.contains('F461L'))]['D2D_values'].values)\n",
        "print(repres_brca[(repres_brca['proteins'] == 'P38398-1') & (repres_brca['mutation'].str.contains('D411E'))]['D2D_values'].values)\n",
        "print(repres_brca[(repres_brca['proteins'] == 'P38398-1') & (repres_brca['mutation'].str.contains('S387T'))]['D2D_values'].values)\n",
        "print(repres_brca[(repres_brca['proteins'] == 'P38398-1') & (repres_brca['mutation'].str.contains('I379M'))]['D2D_values'].values)\n",
        "print(repres_brca[(repres_brca['proteins'] == 'P38398-1') & (repres_brca['mutation'].str.contains('D369N'))]['D2D_values'].values)\n",
        "print(repres_brca[(repres_brca['proteins'] == 'P38398-1') & (repres_brca['mutation'].str.contains('Q356R'))]['D2D_values'].values)\n",
        "print(repres_brca[(repres_brca['proteins'] == 'P38398-1') & (repres_brca['mutation'].str.contains('P346S'))]['D2D_values'].values)\n",
        "print(repres_brca[(repres_brca['proteins'] == 'P38398-1') & (repres_brca['mutation'].str.contains('P334L'))]['D2D_values'].values)\n",
        "print(repres_brca[(repres_brca['proteins'] == 'P38398-1') & (repres_brca['mutation'].str.contains('T333A'))]['D2D_values'].values)\n",
        "print(repres_brca[(repres_brca['proteins'] == 'P38398-1') & (repres_brca['mutation'].str.contains('S316G'))]['D2D_values'].values)\n",
        "print(repres_brca[(repres_brca['proteins'] == 'P38398-1') & (repres_brca['mutation'].str.contains('M297I'))]['D2D_values'].values)\n",
        "print(repres_brca[(repres_brca['proteins'] == 'P38398-1') & (repres_brca['mutation'].str.contains('A280G'))]['D2D_values'].values)\n",
        "print(repres_brca[(repres_brca['proteins'] == 'P38398-1') & (repres_brca['mutation'].str.contains('T276R'))]['D2D_values'].values)\n",
        "print(repres_brca[(repres_brca['proteins'] == 'P38398-1') & (repres_brca['mutation'].str.contains('G275D'))]['D2D_values'].values)\n",
        "print(repres_brca[(repres_brca['proteins'] == 'P38398-1') & (repres_brca['mutation'].str.contains('G275S'))]['D2D_values'].values)\n",
        "print(repres_brca[(repres_brca['proteins'] == 'P38398-1') & (repres_brca['mutation'].str.contains('L246V'))]['D2D_values'].values)\n",
        "print(repres_brca[(repres_brca['proteins'] == 'P38398-1') & (repres_brca['mutation'].str.contains('H239R'))]['D2D_values'].values)\n",
        "print(repres_brca[(repres_brca['proteins'] == 'P38398-1') & (repres_brca['mutation'].str.contains('L218V'))]['D2D_values'].values)\n",
        "print(repres_brca[(repres_brca['proteins'] == 'P38398-1') & (repres_brca['mutation'].str.contains('D214G'))]['D2D_values'].values)\n",
        "print(repres_brca[(repres_brca['proteins'] == 'P38398-1') & (repres_brca['mutation'].str.contains('V191I'))]['D2D_values'].values)\n",
        "print(repres_brca[(repres_brca['proteins'] == 'P38398-1') & (repres_brca['mutation'].str.contains('S186Y'))]['D2D_values'].values)\n",
        "print(repres_brca[(repres_brca['proteins'] == 'P38398-1') & (repres_brca['mutation'].str.contains('Y179C'))]['D2D_values'].values)\n",
        "print(repres_brca[(repres_brca['proteins'] == 'P38398-1') & (repres_brca['mutation'].str.contains('R170W'))]['D2D_values'].values)\n",
        "print(repres_brca[(repres_brca['proteins'] == 'P38398-1') & (repres_brca['mutation'].str.contains('Q155E'))]['D2D_values'].values)\n",
        "print(repres_brca[(repres_brca['proteins'] == 'P38398-1') & (repres_brca['mutation'].str.contains('E143K'))]['D2D_values'].values)\n",
        "print(repres_brca[(repres_brca['proteins'] == 'P38398-1') & (repres_brca['mutation'].str.contains('P142H'))]['D2D_values'].values)\n",
        "print(repres_brca[(repres_brca['proteins'] == 'P38398-1') & (repres_brca['mutation'].str.contains('R133C'))]['D2D_values'].values)\n",
        "print(repres_brca[(repres_brca['proteins'] == 'P38398-1') & (repres_brca['mutation'].str.contains('N132K'))]['D2D_values'].values)\n",
        "print(repres_brca[(repres_brca['proteins'] == 'P38398-1') & (repres_brca['mutation'].str.contains('I124V'))]['D2D_values'].values)\n",
        "print(repres_brca[(repres_brca['proteins'] == 'P38398-1') & (repres_brca['mutation'].str.contains('Y105C'))]['D2D_values'].values)\n",
        "print(repres_brca[(repres_brca['proteins'] == 'P38398-1') & (repres_brca['mutation'].str.contains('A102G'))]['D2D_values'].values)\n",
        "print(repres_brca[(repres_brca['proteins'] == 'P38398-1') & (repres_brca['mutation'].str.contains('D67Y'))]['D2D_values'].values)\n",
        "print(repres_brca[(repres_brca['proteins'] == 'P38398-1') & (repres_brca['mutation'].str.contains('K45Q'))]['D2D_values'].values)"
      ]
    },
    {
      "cell_type": "code",
      "execution_count": null,
      "metadata": {
        "id": "6MWVFmKWM-Ht"
      },
      "outputs": [],
      "source": [
        "lab =[]\n",
        "for i, mut in repres_brca.iterrows():\n",
        "  if mut['label'] == 'VUS' and mut['D2D_values'] < 0.5:\n",
        "    lab.append('VUS, D2D benign')\n",
        "  elif mut['label'] == 'VUS' and mut['D2D_values'] >= 0.5:\n",
        "     lab.append('VUS, D2D deleterious')\n",
        "  else:\n",
        "    lab.append(mut['label'])\n",
        "repres_brca['label_proc'] = lab"
      ]
    },
    {
      "cell_type": "code",
      "execution_count": null,
      "metadata": {
        "id": "UQU5mL6wsHkk"
      },
      "outputs": [],
      "source": [
        "len(repres_brca[repres_brca['D2D_values'] >= 0.5]) / len(repres_brca)"
      ]
    },
    {
      "cell_type": "code",
      "execution_count": null,
      "metadata": {
        "id": "IlpUXihAPYxn"
      },
      "outputs": [],
      "source": [
        "repres_brca.head()"
      ]
    },
    {
      "cell_type": "code",
      "execution_count": null,
      "metadata": {
        "id": "jgHWNrB8n4ZA"
      },
      "outputs": [],
      "source": [
        "fig = px.scatter(repres_brca, x='pos', y='D2D_values',\n",
        "                 color =  repres_brca['label_proc'],\n",
        "                 symbol = repres_brca['label_proc'],\n",
        "                 symbol_sequence= [ 'x', 'x','circle-open', 'circle-open', 'x', 'x'],\n",
        "                 color_discrete_sequence = ['red',  'salmon','gold', 'green', 'lightblue', 'blue' ], opacity = 0.55, width =1300, height =400)\n",
        "\n",
        "# Change the bar mode\n",
        "fig.update_layout(barmode='group', title=\"BRCA1 Gene - all mutations\",\n",
        "    xaxis_title=\"Position\",\n",
        "    yaxis_title=\"D2D prediction\",\n",
        "    font_family=\"Arial\",\n",
        "    legend_title=\"Groundtruth\",\n",
        "    title_font_family=\"Arial\")\n",
        "fig.show()"
      ]
    },
    {
      "cell_type": "code",
      "execution_count": null,
      "metadata": {
        "id": "ZE2ubHRTORZP"
      },
      "outputs": [],
      "source": [
        "test_cancer = repres_brca[repres_brca['condit'].str.contains('cancer') | repres_brca['condit'].str.contains('Lynch') | repres_brca['condit'].str.contains('tumor')]"
      ]
    },
    {
      "cell_type": "code",
      "execution_count": null,
      "metadata": {
        "id": "sZbufFPZONP9"
      },
      "outputs": [],
      "source": [
        "fig = px.scatter(test_cancer, x='pos', y='D2D_values',\n",
        "                 color =  test_cancer['label_proc'],\n",
        "                 symbol = test_cancer['label_proc'],\n",
        "                 symbol_sequence= [ 'x', 'x','circle-open', 'circle-open', 'x', 'x'],\n",
        "                 color_discrete_sequence = ['red',  'salmon','gold', 'green', 'lightblue', 'blue' ], opacity = 0.55, width =1300, height =400)\n",
        "# Change the bar mode\n",
        "fig.update_layout(barmode='group', title=\"BRCA1 Gene - cancer related mutations\",\n",
        "    xaxis_title=\"Position\",\n",
        "    yaxis_title=\"D2D prediction\",\n",
        "    font_family=\"Arial\",\n",
        "    legend_title=\"Groundtruth\",\n",
        "    title_font_family=\"Arial\")\n",
        "fig.show()"
      ]
    },
    {
      "cell_type": "markdown",
      "source": [
        "# DMS"
      ],
      "metadata": {
        "id": "hETuXQMebNtk"
      }
    },
    {
      "cell_type": "code",
      "source": [
        "import pandas as pd\n",
        "from scipy import stats\n",
        "import numpy as np\n",
        "import matplotlib.pyplot as plt\n",
        "import seaborn as sns\n",
        "\n",
        "def normalise_confidence(gene_confidence):\n",
        "\n",
        "  gene_confidence['log_normalized'] = gene_confidence['Log_prob'] /100 # normalise with 100\n",
        "\n",
        "  condition1 = gene_confidence['prediction'] >= 0.5\n",
        "  condition2 = (gene_confidence['log_normalized'] >= 0.5) & (gene_confidence['prediction'] < 0.5)\n",
        "  condition3 = (gene_confidence['log_normalized'] < 0.5) & (gene_confidence['prediction'] < 0.5)\n",
        "\n",
        "  #gene_confidence.loc[condition1, 'overall_confidence'] = gene_confidence.loc[condition1, 'log_normalized']*1.25   # Set values in 'B' as half of values in 'C' when the condition is met\n",
        "  #gene_confidence.loc[condition2, 'overall_confidence'] = gene_confidence.loc[condition2, 'log_normalized'] / 2  # Set values in 'B' as half of values in 'D' when the condition is not met\n",
        "  #gene_confidence.loc[condition3, 'overall_confidence'] = 1- gene_confidence.loc[condition3, 'log_normalized']\n",
        "  gene_confidence.loc[condition1, 'overall_confidence'] = gene_confidence.loc[condition1, 'log_normalized']*1.4   # Set values in 'B' as half of values in 'C' when the condition is met\n",
        "  gene_confidence.loc[condition2, 'overall_confidence'] = gene_confidence.loc[condition2, 'log_normalized'] / 2  # Set values in 'B' as half of values in 'D' when the condition is not met\n",
        "  gene_confidence.loc[condition3, 'overall_confidence'] = 1- gene_confidence.loc[condition3, 'log_normalized'] *1.2\n",
        "\n",
        "  return gene_confidence"
      ],
      "metadata": {
        "id": "HuFtEdfhFpsa"
      },
      "execution_count": null,
      "outputs": []
    },
    {
      "cell_type": "code",
      "source": [
        "dms_mutations = pd.read_csv('/content/drive/MyDrive/my_colab/3rdYear/datasets/DMS_mutations.csv')"
      ],
      "metadata": {
        "id": "_nmpQO-kbWzj"
      },
      "execution_count": null,
      "outputs": []
    },
    {
      "cell_type": "code",
      "source": [
        "dms_mutations['uniprot id'].unique()"
      ],
      "metadata": {
        "id": "jvHXzeITjctt"
      },
      "execution_count": null,
      "outputs": []
    },
    {
      "cell_type": "markdown",
      "source": [
        "TP53"
      ],
      "metadata": {
        "id": "o5sw85NHhCEy"
      }
    },
    {
      "cell_type": "code",
      "source": [
        "path = '/content/drive/MyDrive/my_colab/3rdYear/GMM/confidence/'\n",
        "tp53_confidenceAB =pd.read_csv(path+'TP53_confidenceAB.csv')"
      ],
      "metadata": {
        "id": "qXY6t-whGH1K"
      },
      "execution_count": null,
      "outputs": []
    },
    {
      "cell_type": "code",
      "source": [
        "dms_mutations_tp53 = dms_mutations[dms_mutations['uniprot id'] == 'P04637-1']\n",
        "dms_mutations_tp53['position'] = dms_mutations_tp53['position'].astype(str)\n",
        "\n",
        "tp53_predictions = pd.read_csv('/content/drive/MyDrive/TP53_d2d_results2.csv')\n",
        "tp53_predictions['Log_prob'] = tp53_confidenceAB['Log_prob']\n",
        "tp53_predictions= normalise_confidence(tp53_predictions)\n",
        "# for converting d2d_results to d2d_performance_vs_clinvar format\n",
        "temp = tp53_predictions.mutation.str.split(pat='_',expand=True)[0]\n",
        "tp53_predictions['uniprot id'] = temp\n",
        "\n",
        "temp = tp53_predictions.mutation.str.split(pat='_',expand=True)[1]\n",
        "tp53_predictions= tp53_predictions.drop('mutation', axis=1)\n",
        "tp53_predictions['mutation']= temp\n",
        "\n",
        "tp53_predictions['AA_orig'] = tp53_predictions['mutation'].str[:1]\n",
        "tp53_predictions['AA_targ'] = tp53_predictions['mutation'].str[-1:]\n",
        "tp53_predictions['position'] = tp53_predictions['mutation'].str[1:-1]\n",
        "\n",
        "# Merge df1 and df2 based on columns \"AA_orig\", \"AA_targ\", \"position\"\n",
        "merged_df = pd.merge(tp53_predictions, dms_mutations_tp53,  on=[\"AA_orig\", \"AA_targ\", \"position\"])\n",
        "# Select the values from df1's \"contin_label\" and df2's \"prediction\"\n",
        "selected_values = merged_df[[\"contin_label\", \"prediction\",  \"overall_confidence\"]]"
      ],
      "metadata": {
        "id": "LQBu5neybW1y"
      },
      "execution_count": null,
      "outputs": []
    },
    {
      "cell_type": "code",
      "source": [
        "# high confidence\n",
        "# plot correlation\n",
        "selected_values_high = selected_values[selected_values['overall_confidence'] >= 0.8]\n",
        "correlation, p_value = stats.pearsonr(selected_values_high['contin_label'], selected_values_high['prediction'])\n",
        "\n",
        "sns.set_theme()\n",
        "plt.rcParams[\"figure.figsize\"] = (8,8)\n",
        "plt.figure(facecolor='black')\n",
        "\n",
        "plt.rcParams['axes.facecolor'] = 'black'\n",
        "\n",
        "#plt.scatter(selected_values['contin_label'], selected_values['prediction'], alpha=0.6, c = selected_values['contin_label'], cmap=\"viridis\")\n",
        "plt.scatter(selected_values_high['contin_label'], selected_values_high['prediction'], alpha=0.6)\n",
        "plt.xlabel('enrichment ratio (ER) score', fontweight='bold', color = 'grey' )\n",
        "plt.ylabel('D2Deep predictions', fontweight='bold', color = 'grey')\n",
        "\n",
        "#find line of best fit\n",
        "a, b = np.polyfit(selected_values_high['contin_label'], selected_values_high['prediction'],1)\n",
        "plt.plot(selected_values_high['contin_label'], a*selected_values_high['contin_label']+b, color = 'magenta')\n",
        "\n",
        "plt.xticks(color = 'grey',fontweight='bold')\n",
        "plt.yticks(color = 'grey',fontweight='bold')\n",
        "plt.text(0.02, 0.02, 'y = ' + '{:.2f}'.format(b) + '+' + ' {:.2f}'.format(a) + 'x', size=20, color='magenta',  fontweight='bold')\n",
        "plt.title(\"D2D predictions versus enrichment ratio (ER) score for TP53\",fontsize = 15, fontweight='bold', color = 'grey')\n",
        "plt.show()"
      ],
      "metadata": {
        "id": "e-UN-dYxtXUi"
      },
      "execution_count": null,
      "outputs": []
    },
    {
      "cell_type": "code",
      "source": [
        "# low confidence\n",
        "# plot correlation\n",
        "selected_values_low = selected_values[selected_values['overall_confidence'] <= 0.4]\n",
        "correlation, p_value = stats.pearsonr(selected_values_low['contin_label'], selected_values_low['prediction'])\n",
        "\n",
        "sns.set_theme()\n",
        "plt.rcParams[\"figure.figsize\"] = (8,8)\n",
        "plt.figure(facecolor='black')\n",
        "\n",
        "plt.rcParams['axes.facecolor'] = 'black'\n",
        "\n",
        "#plt.scatter(selected_values['contin_label'], selected_values['prediction'], alpha=0.6, c = selected_values['contin_label'], cmap=\"viridis\")\n",
        "plt.scatter(selected_values_low['contin_label'], selected_values_low['prediction'], alpha=0.6, c = selected_values_low['overall_confidence'], cmap=\"viridis\")\n",
        "plt.xlabel('enrichment ratio (ER) score', fontweight='bold', color = 'grey' )\n",
        "plt.ylabel('D2Deep predictions', fontweight='bold', color = 'grey')\n",
        "\n",
        "#find line of best fit\n",
        "a, b = np.polyfit(selected_values_low['contin_label'], selected_values_low['prediction'],1)\n",
        "plt.plot(selected_values_low['contin_label'], a*selected_values_low['contin_label']+b, color = 'magenta')\n",
        "\n",
        "plt.xticks(color = 'grey',fontweight='bold')\n",
        "plt.yticks(color = 'grey',fontweight='bold')\n",
        "plt.text(0.02, 0.02, 'y = ' + '{:.2f}'.format(b) + '+' + ' {:.2f}'.format(a) + 'x', size=20, color='magenta',  fontweight='bold')\n",
        "plt.title(\"D2D predictions versus enrichment ratio (ER) score for TP53\",fontsize = 15, fontweight='bold', color = 'grey')\n",
        "# plt.colorbar(label=\"Continuous predictions\", orientation=\"horizontal\")\n",
        "plt.colorbar(label=\"overall_confidence\", orientation=\"horizontal\")\n",
        "plt.show()"
      ],
      "metadata": {
        "id": "EgJEQb_btxEp"
      },
      "execution_count": null,
      "outputs": []
    },
    {
      "cell_type": "code",
      "source": [
        "# plot correlation\n",
        "correlation, p_value = stats.pearsonr(selected_values['contin_label'], selected_values['prediction'])\n",
        "\n",
        "sns.set_theme()\n",
        "plt.rcParams[\"figure.figsize\"] = (8,8)\n",
        "plt.figure(facecolor='black')\n",
        "\n",
        "plt.rcParams['axes.facecolor'] = 'black'\n",
        "\n",
        "#plt.scatter(selected_values['contin_label'], selected_values['prediction'], alpha=0.6, c = selected_values['contin_label'], cmap=\"viridis\")\n",
        "plt.scatter(selected_values['contin_label'], selected_values['prediction'], alpha=0.6, c = selected_values['overall_confidence'], cmap=\"viridis\")\n",
        "plt.xlabel('enrichment ratio (ER) score', fontweight='bold', color = 'grey' )\n",
        "plt.ylabel('D2Deep predictions', fontweight='bold', color = 'grey')\n",
        "\n",
        "#find line of best fit\n",
        "a, b = np.polyfit(selected_values['contin_label'], selected_values['prediction'],1)\n",
        "plt.plot(selected_values['contin_label'], a*selected_values['contin_label']+b, color = 'magenta')\n",
        "\n",
        "plt.xticks(color = 'grey',fontweight='bold')\n",
        "plt.yticks(color = 'grey',fontweight='bold')\n",
        "plt.text(0.02, 0.02, 'y = ' + '{:.2f}'.format(b) + '+' + ' {:.2f}'.format(a) + 'x', size=20, color='magenta',  fontweight='bold')\n",
        "plt.title(\"D2D predictions versus enrichment ratio (ER) score for TP53\",fontsize = 15, fontweight='bold', color = 'grey')\n",
        "# plt.colorbar(label=\"Continuous predictions\", orientation=\"horizontal\")\n",
        "plt.colorbar(label=\"overall_confidence\", orientation=\"horizontal\")\n",
        "plt.show()"
      ],
      "metadata": {
        "id": "zzeC9roWb0_L"
      },
      "execution_count": null,
      "outputs": []
    },
    {
      "cell_type": "code",
      "source": [
        "print(correlation, p_value )"
      ],
      "metadata": {
        "id": "7jnFzfRxiqQl"
      },
      "execution_count": null,
      "outputs": []
    },
    {
      "cell_type": "markdown",
      "source": [
        "PTEN"
      ],
      "metadata": {
        "id": "rS3Za11BhHR6"
      }
    },
    {
      "cell_type": "code",
      "source": [
        "tp53_confidenceAB =pd.read_csv(path+'PTEN_confidenceAB.csv')"
      ],
      "metadata": {
        "id": "Bn-pK4HfIvVh"
      },
      "execution_count": null,
      "outputs": []
    },
    {
      "cell_type": "code",
      "source": [
        "dms_mutations_pten = dms_mutations[dms_mutations['uniprot id'] == 'P60484-1']\n",
        "dms_mutations_pten['position'] = dms_mutations_pten['position'].astype(str)\n",
        "\n",
        "tp53_predictions = pd.read_csv('/content/drive/MyDrive/PTEN_d2d_results.csv')\n",
        "tp53_predictions['Log_prob'] = tp53_confidenceAB['Log_prob']\n",
        "tp53_predictions= normalise_confidence(tp53_predictions)\n",
        "# for converting d2d_results to d2d_performance_vs_clinvar format\n",
        "temp = tp53_predictions.mutation.str.split(pat='_',expand=True)[0]\n",
        "tp53_predictions['uniprot id'] = temp\n",
        "\n",
        "temp = tp53_predictions.mutation.str.split(pat='_',expand=True)[1]\n",
        "tp53_predictions= tp53_predictions.drop('mutation', axis=1)\n",
        "tp53_predictions['mutation']= temp\n",
        "\n",
        "tp53_predictions['AA_orig'] = tp53_predictions['mutation'].str[:1]\n",
        "tp53_predictions['AA_targ'] = tp53_predictions['mutation'].str[-1:]\n",
        "tp53_predictions['position'] = tp53_predictions['mutation'].str[1:-1]\n",
        "\n",
        "\n",
        "# Merge df1 and df2 based on columns \"AA_orig\", \"AA_targ\", \"position\"\n",
        "merged_df = pd.merge(tp53_predictions, dms_mutations_pten,  on=[\"AA_orig\", \"AA_targ\", \"position\"])\n",
        "# Select the values from df1's \"contin_label\" and df2's \"prediction\"\n",
        "selected_values = merged_df[[\"contin_label\", \"prediction\",  \"overall_confidence\"]]"
      ],
      "metadata": {
        "id": "L2dHL_SvhIUS"
      },
      "execution_count": null,
      "outputs": []
    },
    {
      "cell_type": "code",
      "source": [
        "# plot correlation\n",
        "correlation, p_value = stats.pearsonr(selected_values['contin_label'], selected_values['prediction'])\n",
        "\n",
        "sns.set_theme()\n",
        "plt.rcParams[\"figure.figsize\"] = (8,8)\n",
        "plt.figure(facecolor='black')\n",
        "\n",
        "plt.rcParams['axes.facecolor'] = 'black'\n",
        "\n",
        "#plt.scatter(selected_values['contin_label'], selected_values['prediction'], alpha=0.6, c = selected_values['contin_label'], cmap=\"viridis\")\n",
        "plt.scatter(selected_values['contin_label'], selected_values['prediction'], alpha=0.6, c = selected_values['overall_confidence'], cmap=\"viridis\")\n",
        "plt.xlabel('enrichment ratio (ER) score', fontweight='bold', color = 'grey' )\n",
        "plt.ylabel('D2Deep predictions', fontweight='bold', color = 'grey')\n",
        "\n",
        "#find line of best fit\n",
        "a, b = np.polyfit(selected_values['contin_label'], selected_values['prediction'],1)\n",
        "plt.plot(selected_values['contin_label'], a*selected_values['contin_label']+b, color = 'magenta')\n",
        "\n",
        "plt.xticks(color = 'grey',fontweight='bold')\n",
        "plt.yticks(color = 'grey',fontweight='bold')\n",
        "plt.text(0.02, 0.02, 'y = ' + '{:.2f}'.format(b) + '+' + ' {:.2f}'.format(a) + 'x', size=20, color='magenta',  fontweight='bold')\n",
        "plt.title(\"D2D predictions versus enrichment ratio (ER) score for PTEN\",fontsize = 15, fontweight='bold', color = 'grey')\n",
        "# plt.colorbar(label=\"Continuous predictions\", orientation=\"horizontal\")\n",
        "plt.colorbar(label=\"overall_confidence\", orientation=\"horizontal\")\n",
        "plt.show()"
      ],
      "metadata": {
        "id": "UdhuUSnuhIaH"
      },
      "execution_count": null,
      "outputs": []
    },
    {
      "cell_type": "code",
      "source": [
        "print(correlation, p_value )"
      ],
      "metadata": {
        "id": "8vjrOxlDibuL"
      },
      "execution_count": null,
      "outputs": []
    }
  ]
}