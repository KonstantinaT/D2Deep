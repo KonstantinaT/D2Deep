{
  "nbformat": 4,
  "nbformat_minor": 0,
  "metadata": {
    "colab": {
      "name": "dataset.ipynb",
      "provenance": [],
      "machine_shape": "hm",
      "mount_file_id": "1mhIHCpEekHNcFI8Ql9p79RSu1T4Y1iUl",
      "authorship_tag": "ABX9TyMyG1rl3G1/RCk1XreXJJFr",
      "include_colab_link": true
    },
    "kernelspec": {
      "name": "python3",
      "display_name": "Python 3"
    },
    "language_info": {
      "name": "python"
    },
    "accelerator": "GPU"
  },
  "cells": [
    {
      "cell_type": "markdown",
      "metadata": {
        "id": "view-in-github",
        "colab_type": "text"
      },
      "source": [
        "<a href=\"https://colab.research.google.com/github/KonstantinaT/Predictor/blob/main/dataset.ipynb\" target=\"_parent\"><img src=\"https://colab.research.google.com/assets/colab-badge.svg\" alt=\"Open In Colab\"/></a>"
      ]
    },
    {
      "cell_type": "markdown",
      "source": [
        "### Libraries and functions"
      ],
      "metadata": {
        "id": "Shi9y738Gd9F"
      }
    },
    {
      "cell_type": "code",
      "source": [
        "import pandas as pd\n",
        "!pip install Biopython\n",
        "import Bio\n",
        "import copy\n",
        "import csv\n",
        "import matplotlib.pyplot as plt\n",
        "import numpy as np\n",
        "import seaborn as sns\n",
        "import pickle\n",
        "import gc\n",
        "!pip install Biopython\n",
        "import Bio\n",
        "from Bio import SeqIO\n",
        "from Bio.Seq import Seq"
      ],
      "metadata": {
        "colab": {
          "base_uri": "https://localhost:8080/"
        },
        "id": "gz5nQsV0Gf2O",
        "outputId": "e6539e6e-1e7c-46dc-ef5c-0725c3a5da42"
      },
      "execution_count": null,
      "outputs": [
        {
          "output_type": "stream",
          "name": "stdout",
          "text": [
            "Collecting Biopython\n",
            "  Downloading biopython-1.79-cp37-cp37m-manylinux_2_5_x86_64.manylinux1_x86_64.whl (2.3 MB)\n",
            "\u001b[K     |████████████████████████████████| 2.3 MB 4.3 MB/s \n",
            "\u001b[?25hRequirement already satisfied: numpy in /usr/local/lib/python3.7/dist-packages (from Biopython) (1.21.5)\n",
            "Installing collected packages: Biopython\n",
            "Successfully installed Biopython-1.79\n",
            "Requirement already satisfied: Biopython in /usr/local/lib/python3.7/dist-packages (1.79)\n",
            "Requirement already satisfied: numpy in /usr/local/lib/python3.7/dist-packages (from Biopython) (1.21.5)\n"
          ]
        }
      ]
    },
    {
      "cell_type": "code",
      "source": [
        "#Change the AA of the gene sequence \n",
        "def changeAAnew(original, target, position, sequence):\n",
        "    #position = int(position)\n",
        "    position -= 1 # because python indexation\n",
        "    sequence = list(sequence)\n",
        "    #print(len(sequence))\n",
        "    #print(position)\n",
        "    if sequence[position] == original:\n",
        "        sequence[position]= target\n",
        "        transcript = ''.join(sequence)\n",
        "        return transcript\n",
        "    else:\n",
        "        tru = sequence[position]\n",
        "        print('the original {}, in position {} not equal to: {}'.format(original, position+1, tru) )"
      ],
      "metadata": {
        "id": "D76RovrF7rdi"
      },
      "execution_count": null,
      "outputs": []
    },
    {
      "cell_type": "markdown",
      "source": [
        "### Cmc_mutations import"
      ],
      "metadata": {
        "id": "GrBglHEmza6l"
      }
    },
    {
      "cell_type": "code",
      "source": [
        "cmc_all = pd.read_csv(\"/content/drive/MyDrive/my_colab/*2ndYear/cmc_export.csv\",  delimiter = '\\t') # COSMIC: cmc Tier 1,2,3, other mutations\n",
        "\n",
        "# Filter missense / silent / nonsense mutations\n",
        "missense_sil_nonsense_mut = cmc_all[(cmc_all['Mutation Description AA'] == 'Substitution - Missense') \\\n",
        "                              | (cmc_all['Mutation Description AA']== 'Substitution - coding silent') \\\n",
        "                                       | (cmc_all['Mutation Description AA']== 'Substitution - Nonsense')]\n",
        "\n",
        "# creation of Tier1-2-3 mutations\n",
        "Tier1_2_3 = missense_sil_nonsense_mut[(missense_sil_nonsense_mut['MUTATION_SIGNIFICANCE_TIER'] == '1') \\\n",
        "                              | (missense_sil_nonsense_mut['MUTATION_SIGNIFICANCE_TIER']== '2') \\\n",
        "                                       | (missense_sil_nonsense_mut['MUTATION_SIGNIFICANCE_TIER']== '3')]\n",
        "                             "
      ],
      "metadata": {
        "colab": {
          "base_uri": "https://localhost:8080/"
        },
        "id": "sKfMu9FZXh49",
        "outputId": "f7657b12-365f-464f-d8f2-c22328b423ea"
      },
      "execution_count": null,
      "outputs": [
        {
          "output_type": "stream",
          "name": "stderr",
          "text": [
            "/usr/local/lib/python3.7/dist-packages/IPython/core/interactiveshell.py:2882: DtypeWarning: Columns (2,24,49,51) have mixed types.Specify dtype option on import or set low_memory=False.\n",
            "  exec(code_obj, self.user_global_ns, self.user_ns)\n"
          ]
        }
      ]
    },
    {
      "cell_type": "code",
      "source": [
        "# Read transcript consensus (glioma_All_cosmic.ipynb)\n",
        "with open(\"/content/drive/MyDrive/my_colab/*2ndYear/transcript_sequences.csv\", 'rb') as fp:\n",
        "    gene_sequence = pickle.load(fp)"
      ],
      "metadata": {
        "id": "2QcYPLwJ0IZu"
      },
      "execution_count": null,
      "outputs": []
    },
    {
      "cell_type": "code",
      "source": [
        "# Keep mutations in position <= 2000\n",
        "Tier1_2_3 = Tier1_2_3.reset_index(drop=True)\n",
        "count_more_1 =0\n",
        "position, AA_orig, AA_targ, sequence, indices_to_excl = [], [], [], [], []\n",
        "for i, mut in Tier1_2_3.iterrows():\n",
        "\n",
        "    string = mut['Mutation AA']\n",
        "    if 'delins' in string:\n",
        "      indices_to_excl.append(i)\n",
        "      continue\n",
        "    pos_temp = int(string[3:-1])\n",
        "    if pos_temp > 2000:\n",
        "      indices_to_excl.append(i)\n",
        "      continue\n",
        "    else:\n",
        "      wt_sequence = str(gene_sequence[mut['ACCESSION_NUMBER']])\n",
        "      if wt_sequence.count('*') > 1: # if there is a codon mid-protein\n",
        "          count_more_1 +=1\n",
        "      mut_seq = changeAAnew(string[2], string[-1], pos_temp,wt_sequence)\n",
        "  \n",
        "      if mut_seq is not None:\n",
        "        if '*' in mut_seq:\n",
        "          temp = mut_seq.split(\"*\")\n",
        "          mut_seq = temp[0]\n",
        "        \n",
        "        position.append(pos_temp)\n",
        "        AA_orig.append(string[2])\n",
        "        AA_targ.append(string[-1])\n",
        "\n",
        "        sequence.append(mut_seq)\n",
        "      else:\n",
        "        indices_to_excl.append(i)\n",
        "\n",
        "Tier1_2_3 = Tier1_2_3.drop(Tier1_2_3.index[indices_to_excl])\n",
        "Tier1_2_3['position'] = position\n",
        "Tier1_2_3['AA_orig'] = AA_orig\n",
        "Tier1_2_3['AA_targ'] = AA_targ\n",
        "Tier1_2_3['sequence'] = sequence\n",
        "\n",
        "# Keep only relevant columns \n",
        "Tier1_2_3['label'] = [1]* len(Tier1_2_3)\n",
        "Tier1_2_3 = Tier1_2_3[['GENE_NAME', 'ACCESSION_NUMBER', 'position', 'AA_orig', 'AA_targ', 'sequence', 'label']]\n",
        "\n",
        "Tier_trancript_list = Tier1_2_3['ACCESSION_NUMBER'].unique()         "
      ],
      "metadata": {
        "id": "RWdLOKCm2Si7",
        "colab": {
          "base_uri": "https://localhost:8080/"
        },
        "outputId": "5fc93bc4-7663-4d3e-d184-cce004f2de34"
      },
      "execution_count": null,
      "outputs": [
        {
          "output_type": "stream",
          "name": "stdout",
          "text": [
            "the original R, in position 95 not equal to: P\n",
            "the original R, in position 95 not equal to: P\n",
            "the original G, in position 248 not equal to: R\n",
            "the original G, in position 74 not equal to: V\n"
          ]
        }
      ]
    },
    {
      "cell_type": "code",
      "source": [
        "# creation of benign mutations\n",
        "cmcOther= missense_sil_nonsense_mut[(missense_sil_nonsense_mut['MUTATION_SIGNIFICANCE_TIER'] == 'Other')]\n",
        "# keep Transcripts with Pathogenic mutations\n",
        "cmcOther = cmcOther[cmcOther['ACCESSION_NUMBER'].isin(Tier_trancript_list)]"
      ],
      "metadata": {
        "id": "3GcssShJGl57"
      },
      "execution_count": null,
      "outputs": []
    },
    {
      "cell_type": "code",
      "source": [
        "cmcOther = cmcOther.sample(frac=1).reset_index(drop=True) # shuffle and reset index\n",
        "count = 0\n",
        "count_synonymous = 0\n",
        "position, AA_orig, AA_targ, sequence, indices_to_excl = [], [], [], [], []\n",
        "for i, mut in cmcOther.iterrows():\n",
        "  #if count <= 18000:\n",
        "    string = mut['Mutation AA']\n",
        "    if '=' in string:\n",
        "      count_synonymous +=1\n",
        "      indices_to_excl.append(i)\n",
        "      continue\n",
        "    if 'delins' in string:\n",
        "      indices_to_excl.append(i)\n",
        "      continue\n",
        "    pos_temp = int(string[3:-1])\n",
        "    if pos_temp > 2000:\n",
        "      indices_to_excl.append(i)\n",
        "      continue\n",
        "    else:\n",
        "      mut_seq = changeAAnew(string[2], string[-1], pos_temp, gene_sequence[mut['ACCESSION_NUMBER']])\n",
        "        \n",
        "      if mut_seq is not None:\n",
        "        if '*' in mut_seq:\n",
        "          temp = mut_seq.split(\"*\")\n",
        "          mut_seq = temp[0]\n",
        "        \n",
        "        position.append(pos_temp)\n",
        "        AA_orig.append(string[2])\n",
        "        AA_targ.append(string[-1])\n",
        "\n",
        "        sequence.append(mut_seq)\n",
        "        count+=1\n",
        "\n",
        "      else:\n",
        "        indices_to_excl.append(i)\n",
        "\n",
        "\n",
        "cmcOther = cmcOther.drop(cmcOther.index[indices_to_excl])\n",
        "cmcOther['position'] = position\n",
        "cmcOther['AA_orig'] = AA_orig\n",
        "cmcOther['AA_targ'] = AA_targ\n",
        "cmcOther['sequence'] = sequence\n",
        "\n",
        "# Keep only relevant columns \n",
        "cmcOther['label'] = [0]* len(cmcOther)\n",
        "cmcOther = cmcOther[['GENE_NAME', 'ACCESSION_NUMBER', 'position', 'AA_orig', 'AA_targ', 'sequence', 'label']]"
      ],
      "metadata": {
        "colab": {
          "base_uri": "https://localhost:8080/"
        },
        "id": "lADrBFt4z23_",
        "outputId": "64644ca5-c11f-4b32-95df-74935ef615dc"
      },
      "execution_count": null,
      "outputs": [
        {
          "output_type": "stream",
          "name": "stdout",
          "text": [
            "the original R, in position 197 not equal to: K\n",
            "the original P, in position 172 not equal to: L\n",
            "the original A, in position 1136 not equal to: G\n",
            "the original T, in position 1851 not equal to: R\n",
            "the original S, in position 305 not equal to: C\n",
            "the original S, in position 205 not equal to: T\n",
            "the original G, in position 1576 not equal to: V\n",
            "the original P, in position 153 not equal to: R\n",
            "the original L, in position 845 not equal to: V\n",
            "the original Q, in position 88 not equal to: E\n",
            "the original L, in position 417 not equal to: H\n",
            "the original L, in position 27 not equal to: I\n",
            "the original A, in position 336 not equal to: P\n"
          ]
        }
      ]
    },
    {
      "cell_type": "code",
      "source": [
        "count_synonymous # Synonymous mutations on COSMIC cmc_export dataset"
      ],
      "metadata": {
        "colab": {
          "base_uri": "https://localhost:8080/"
        },
        "id": "MB8PhQtGpQFJ",
        "outputId": "02b63d5f-956c-4fc5-8a23-8c15b0ddcdb8"
      },
      "execution_count": null,
      "outputs": [
        {
          "output_type": "execute_result",
          "data": {
            "text/plain": [
              "127826"
            ]
          },
          "metadata": {},
          "execution_count": 9
        }
      ]
    },
    {
      "cell_type": "markdown",
      "source": [
        "### Create balanced (protein) set"
      ],
      "metadata": {
        "id": "nIZP2opD9kTT"
      }
    },
    {
      "cell_type": "code",
      "source": [
        "# concatenate Tiers 1_2_3 with Other for the creation of balanced set\n",
        "all_mutations = pd.concat([Tier1_2_3, cmcOther])\n",
        "all_mutations = all_mutations.reset_index(drop=True) # shuffle and reset index\n",
        "\n",
        "# label distribution per protein\n",
        "lab_distr = {}\n",
        "for ind, mut in all_mutations.iterrows():\n",
        "  if mut['ACCESSION_NUMBER'] in lab_distr:\n",
        "    if mut['label'] == 0:\n",
        "      lab_distr[mut['ACCESSION_NUMBER']][0] +=1\n",
        "    elif mut['label'] == 1:\n",
        "      lab_distr[mut['ACCESSION_NUMBER']][1] +=1                  \n",
        "  else:\n",
        "    if mut['label'] == 0:\n",
        "      lab_distr[mut['ACCESSION_NUMBER']] = [1, 0]\n",
        "    elif mut['label'] == 1:\n",
        "      lab_distr[mut['ACCESSION_NUMBER']] = [0, 1]\n",
        "\n",
        "balanced_lab_distr = copy.deepcopy(lab_distr)\n",
        "for i in balanced_lab_distr.keys():\n",
        "  balanced_lab_distr[i][0] = 0\n",
        "\n",
        "benign_to_excl = []\n",
        "for i, mut in all_mutations.iterrows():\n",
        "\n",
        "  if mut['label'] == 0:\n",
        "    # have we reached the deleterious laber number of lab_distr?\n",
        "    if balanced_lab_distr[mut['ACCESSION_NUMBER']][0] <= balanced_lab_distr[mut['ACCESSION_NUMBER']][1]:\n",
        "      balanced_lab_distr[mut['ACCESSION_NUMBER']][0] +=1\n",
        "    else:\n",
        "      benign_to_excl.append(i)\n",
        "\n",
        "all_mutations = all_mutations.drop(all_mutations.index[benign_to_excl])"
      ],
      "metadata": {
        "id": "MCxNG1zN1pyN"
      },
      "execution_count": null,
      "outputs": []
    },
    {
      "cell_type": "code",
      "source": [
        "count_neg, count_pos = 0,0\n",
        "for i, mut in all_mutations.iterrows():\n",
        "  if mut['label'] == 0:\n",
        "    count_neg +=1\n",
        "  else:\n",
        "    count_pos +=1\n",
        "print(count_neg, count_pos)"
      ],
      "metadata": {
        "colab": {
          "base_uri": "https://localhost:8080/"
        },
        "id": "XvWiEtD97J4X",
        "outputId": "182eccd2-9353-4496-ec52-496b63e6af67"
      },
      "execution_count": null,
      "outputs": [
        {
          "output_type": "stream",
          "name": "stdout",
          "text": [
            "18996 17639\n"
          ]
        }
      ]
    },
    {
      "cell_type": "code",
      "source": [
        "# save mutations\n",
        "all_mutations.to_csv('/content/drive/MyDrive/my_colab/3rdYear/datasets/Tier1_2_3_Other.csv', index=False)"
      ],
      "metadata": {
        "id": "Smhfp3D7-ABS"
      },
      "execution_count": null,
      "outputs": []
    },
    {
      "cell_type": "code",
      "source": [
        "len(all_mutations['ACCESSION_NUMBER'].unique())"
      ],
      "metadata": {
        "colab": {
          "base_uri": "https://localhost:8080/"
        },
        "id": "Oo24YnUxDoDi",
        "outputId": "246a53f4-0601-4e31-c0e1-317c5d38c5da"
      },
      "execution_count": null,
      "outputs": [
        {
          "output_type": "execute_result",
          "data": {
            "text/plain": [
              "1361"
            ]
          },
          "metadata": {},
          "execution_count": 13
        }
      ]
    },
    {
      "cell_type": "code",
      "source": [
        "len(all_mutations)"
      ],
      "metadata": {
        "colab": {
          "base_uri": "https://localhost:8080/"
        },
        "id": "_GZv_YxvPf5U",
        "outputId": "0617075b-b86c-4a57-ba13-0e4264c37171"
      },
      "execution_count": null,
      "outputs": [
        {
          "output_type": "execute_result",
          "data": {
            "text/plain": [
              "36635"
            ]
          },
          "metadata": {},
          "execution_count": 17
        }
      ]
    },
    {
      "cell_type": "markdown",
      "source": [
        "### For mmseq2_batch.ipynb (save Trascnrpt sequences to fasta files)"
      ],
      "metadata": {
        "id": "_mbg9qc996mg"
      }
    },
    {
      "cell_type": "code",
      "source": [
        "# save Transcripts sequence into fasta files\n",
        "alignment_path = '/content/drive/MyDrive/my_colab/3rdYear/datasets/alignments_Tier1_2_3_Other/'\n",
        "\n",
        "for i in Tier_trancript_list:\n",
        "  wt =str(gene_sequence[i])\n",
        "  fasta_file = open(alignment_path + str(i) + '.fasta', 'w')\n",
        "  fasta_file.write('>' + str(i) + \"\\n\" + wt )\n",
        "  fasta_file.close()\n"
      ],
      "metadata": {
        "id": "6EwFVLJ7H7Gu"
      },
      "execution_count": null,
      "outputs": []
    },
    {
      "cell_type": "markdown",
      "source": [
        "### TO DELETE - Clinvar - too few benign mutations"
      ],
      "metadata": {
        "id": "bO2sD1LrzR0I"
      }
    },
    {
      "cell_type": "code",
      "source": [
        "# Keep ones with cllinvar benign annotations\n",
        "# Import ClinVar dataset\n",
        "path = \"/content/drive/MyDrive/my_colab/*2ndYear/foldx/\"\n",
        "filename = \"variant_summary0222.txt\"\n",
        "\n",
        "clinvar = pd.read_csv(path + filename, sep = '\\t', usecols = ['Type', 'Name', 'GeneID', 'GeneSymbol', 'ClinicalSignificance', 'ClinSigSimple', 'PhenotypeList', 'OriginSimple', 'Assembly', 'ReviewStatus'])\n",
        "clinvar= clinvar.loc[(clinvar['Type'] == 'single nucleotide variant') \\\n",
        "                      | (clinvar['Type'] == 'Variation') \\\n",
        "                      | (clinvar['Type'] == 'protein only')]"
      ],
      "metadata": {
        "id": "_oGPemahrne1"
      },
      "execution_count": null,
      "outputs": []
    },
    {
      "cell_type": "code",
      "source": [
        "clinvar_confirm = clinvar.loc[(clinvar['OriginSimple'] == 'somatic')  \\\n",
        "                      | (clinvar['OriginSimple'] == 'germline/somatic') \\\n",
        "                      | (clinvar['OriginSimple'] == 'not applicable') \\\n",
        "                      | (clinvar['OriginSimple'] == 'unknown') \\\n",
        "                      | (clinvar['OriginSimple'] == 'not provided') \\\n",
        "                      | (clinvar['OriginSimple'] == 'tested-inconclusive')]"
      ],
      "metadata": {
        "id": "pagizI7SsBKs"
      },
      "execution_count": null,
      "outputs": []
    },
    {
      "cell_type": "code",
      "source": [
        "len(clinvar_confirm)"
      ],
      "metadata": {
        "colab": {
          "base_uri": "https://localhost:8080/"
        },
        "id": "b7d_LXsYsBNP",
        "outputId": "e0b4da23-e28b-45fb-de75-ebb0b00b4486"
      },
      "execution_count": null,
      "outputs": [
        {
          "output_type": "execute_result",
          "data": {
            "text/plain": [
              "75289"
            ]
          },
          "metadata": {},
          "execution_count": 17
        }
      ]
    },
    {
      "cell_type": "code",
      "source": [
        "somatic_confirm = clinvar_confirm.loc[(clinvar_confirm['ReviewStatus'] == 'criteria provided, multiple submitters, no conflicts') \\\n",
        "                              | (clinvar_confirm['ReviewStatus'] == 'criteria provided, single submitter') \\\n",
        "                              | (clinvar_confirm['ReviewStatus'] == 'practice guideline') \\\n",
        "                              | (clinvar_confirm['ReviewStatus'] == 'reviewed by expert panel') ]"
      ],
      "metadata": {
        "id": "uB6siRnssBPj"
      },
      "execution_count": null,
      "outputs": []
    },
    {
      "cell_type": "code",
      "source": [
        "print(len(somatic_confirm))"
      ],
      "metadata": {
        "colab": {
          "base_uri": "https://localhost:8080/"
        },
        "id": "1-LL68JxHhht",
        "outputId": "14780539-49ed-405e-949a-a49f9fb87da6"
      },
      "execution_count": null,
      "outputs": [
        {
          "output_type": "stream",
          "name": "stdout",
          "text": [
            "38650\n"
          ]
        }
      ]
    },
    {
      "cell_type": "code",
      "source": [
        "somatic_confirm.head()"
      ],
      "metadata": {
        "colab": {
          "base_uri": "https://localhost:8080/",
          "height": 206
        },
        "id": "uHi1l60LHrJ8",
        "outputId": "a4f713c6-3a70-4f82-b892-1e0b912410e3"
      },
      "execution_count": null,
      "outputs": [
        {
          "output_type": "execute_result",
          "data": {
            "text/plain": [
              "                           Type                                          Name  \\\n",
              "660   single nucleotide variant  NM_001042492.3(NF1):c.4084C>T (p.Arg1362Ter)   \n",
              "661   single nucleotide variant  NM_001042492.3(NF1):c.4084C>T (p.Arg1362Ter)   \n",
              "685   single nucleotide variant  NM_001042492.3(NF1):c.4021C>T (p.Gln1341Ter)   \n",
              "686   single nucleotide variant  NM_001042492.3(NF1):c.4021C>T (p.Gln1341Ter)   \n",
              "1390  single nucleotide variant   NM_024334.3(TMEM43):c.1073C>T (p.Ser358Leu)   \n",
              "\n",
              "      GeneID GeneSymbol ClinicalSignificance  ClinSigSimple  \\\n",
              "660     4763        NF1           Pathogenic              1   \n",
              "661     4763        NF1           Pathogenic              1   \n",
              "685     4763        NF1           Pathogenic              1   \n",
              "686     4763        NF1           Pathogenic              1   \n",
              "1390   79188     TMEM43           Pathogenic              1   \n",
              "\n",
              "                                          PhenotypeList      OriginSimple  \\\n",
              "660   Neurofibromatosis, type 1|not provided|Heredit...  germline/somatic   \n",
              "661   Neurofibromatosis, type 1|not provided|Heredit...  germline/somatic   \n",
              "685              Neurofibromatosis, type 1|not provided  germline/somatic   \n",
              "686              Neurofibromatosis, type 1|not provided  germline/somatic   \n",
              "1390  Arrhythmogenic right ventricular cardiomyopath...  germline/somatic   \n",
              "\n",
              "     Assembly                                       ReviewStatus  \n",
              "660    GRCh37  criteria provided, multiple submitters, no con...  \n",
              "661    GRCh38  criteria provided, multiple submitters, no con...  \n",
              "685    GRCh37  criteria provided, multiple submitters, no con...  \n",
              "686    GRCh38  criteria provided, multiple submitters, no con...  \n",
              "1390   GRCh37  criteria provided, multiple submitters, no con...  "
            ],
            "text/html": [
              "\n",
              "  <div id=\"df-3fbf3229-f4b7-415f-983f-76a678dbe7bd\">\n",
              "    <div class=\"colab-df-container\">\n",
              "      <div>\n",
              "<style scoped>\n",
              "    .dataframe tbody tr th:only-of-type {\n",
              "        vertical-align: middle;\n",
              "    }\n",
              "\n",
              "    .dataframe tbody tr th {\n",
              "        vertical-align: top;\n",
              "    }\n",
              "\n",
              "    .dataframe thead th {\n",
              "        text-align: right;\n",
              "    }\n",
              "</style>\n",
              "<table border=\"1\" class=\"dataframe\">\n",
              "  <thead>\n",
              "    <tr style=\"text-align: right;\">\n",
              "      <th></th>\n",
              "      <th>Type</th>\n",
              "      <th>Name</th>\n",
              "      <th>GeneID</th>\n",
              "      <th>GeneSymbol</th>\n",
              "      <th>ClinicalSignificance</th>\n",
              "      <th>ClinSigSimple</th>\n",
              "      <th>PhenotypeList</th>\n",
              "      <th>OriginSimple</th>\n",
              "      <th>Assembly</th>\n",
              "      <th>ReviewStatus</th>\n",
              "    </tr>\n",
              "  </thead>\n",
              "  <tbody>\n",
              "    <tr>\n",
              "      <th>660</th>\n",
              "      <td>single nucleotide variant</td>\n",
              "      <td>NM_001042492.3(NF1):c.4084C&gt;T (p.Arg1362Ter)</td>\n",
              "      <td>4763</td>\n",
              "      <td>NF1</td>\n",
              "      <td>Pathogenic</td>\n",
              "      <td>1</td>\n",
              "      <td>Neurofibromatosis, type 1|not provided|Heredit...</td>\n",
              "      <td>germline/somatic</td>\n",
              "      <td>GRCh37</td>\n",
              "      <td>criteria provided, multiple submitters, no con...</td>\n",
              "    </tr>\n",
              "    <tr>\n",
              "      <th>661</th>\n",
              "      <td>single nucleotide variant</td>\n",
              "      <td>NM_001042492.3(NF1):c.4084C&gt;T (p.Arg1362Ter)</td>\n",
              "      <td>4763</td>\n",
              "      <td>NF1</td>\n",
              "      <td>Pathogenic</td>\n",
              "      <td>1</td>\n",
              "      <td>Neurofibromatosis, type 1|not provided|Heredit...</td>\n",
              "      <td>germline/somatic</td>\n",
              "      <td>GRCh38</td>\n",
              "      <td>criteria provided, multiple submitters, no con...</td>\n",
              "    </tr>\n",
              "    <tr>\n",
              "      <th>685</th>\n",
              "      <td>single nucleotide variant</td>\n",
              "      <td>NM_001042492.3(NF1):c.4021C&gt;T (p.Gln1341Ter)</td>\n",
              "      <td>4763</td>\n",
              "      <td>NF1</td>\n",
              "      <td>Pathogenic</td>\n",
              "      <td>1</td>\n",
              "      <td>Neurofibromatosis, type 1|not provided</td>\n",
              "      <td>germline/somatic</td>\n",
              "      <td>GRCh37</td>\n",
              "      <td>criteria provided, multiple submitters, no con...</td>\n",
              "    </tr>\n",
              "    <tr>\n",
              "      <th>686</th>\n",
              "      <td>single nucleotide variant</td>\n",
              "      <td>NM_001042492.3(NF1):c.4021C&gt;T (p.Gln1341Ter)</td>\n",
              "      <td>4763</td>\n",
              "      <td>NF1</td>\n",
              "      <td>Pathogenic</td>\n",
              "      <td>1</td>\n",
              "      <td>Neurofibromatosis, type 1|not provided</td>\n",
              "      <td>germline/somatic</td>\n",
              "      <td>GRCh38</td>\n",
              "      <td>criteria provided, multiple submitters, no con...</td>\n",
              "    </tr>\n",
              "    <tr>\n",
              "      <th>1390</th>\n",
              "      <td>single nucleotide variant</td>\n",
              "      <td>NM_024334.3(TMEM43):c.1073C&gt;T (p.Ser358Leu)</td>\n",
              "      <td>79188</td>\n",
              "      <td>TMEM43</td>\n",
              "      <td>Pathogenic</td>\n",
              "      <td>1</td>\n",
              "      <td>Arrhythmogenic right ventricular cardiomyopath...</td>\n",
              "      <td>germline/somatic</td>\n",
              "      <td>GRCh37</td>\n",
              "      <td>criteria provided, multiple submitters, no con...</td>\n",
              "    </tr>\n",
              "  </tbody>\n",
              "</table>\n",
              "</div>\n",
              "      <button class=\"colab-df-convert\" onclick=\"convertToInteractive('df-3fbf3229-f4b7-415f-983f-76a678dbe7bd')\"\n",
              "              title=\"Convert this dataframe to an interactive table.\"\n",
              "              style=\"display:none;\">\n",
              "        \n",
              "  <svg xmlns=\"http://www.w3.org/2000/svg\" height=\"24px\"viewBox=\"0 0 24 24\"\n",
              "       width=\"24px\">\n",
              "    <path d=\"M0 0h24v24H0V0z\" fill=\"none\"/>\n",
              "    <path d=\"M18.56 5.44l.94 2.06.94-2.06 2.06-.94-2.06-.94-.94-2.06-.94 2.06-2.06.94zm-11 1L8.5 8.5l.94-2.06 2.06-.94-2.06-.94L8.5 2.5l-.94 2.06-2.06.94zm10 10l.94 2.06.94-2.06 2.06-.94-2.06-.94-.94-2.06-.94 2.06-2.06.94z\"/><path d=\"M17.41 7.96l-1.37-1.37c-.4-.4-.92-.59-1.43-.59-.52 0-1.04.2-1.43.59L10.3 9.45l-7.72 7.72c-.78.78-.78 2.05 0 2.83L4 21.41c.39.39.9.59 1.41.59.51 0 1.02-.2 1.41-.59l7.78-7.78 2.81-2.81c.8-.78.8-2.07 0-2.86zM5.41 20L4 18.59l7.72-7.72 1.47 1.35L5.41 20z\"/>\n",
              "  </svg>\n",
              "      </button>\n",
              "      \n",
              "  <style>\n",
              "    .colab-df-container {\n",
              "      display:flex;\n",
              "      flex-wrap:wrap;\n",
              "      gap: 12px;\n",
              "    }\n",
              "\n",
              "    .colab-df-convert {\n",
              "      background-color: #E8F0FE;\n",
              "      border: none;\n",
              "      border-radius: 50%;\n",
              "      cursor: pointer;\n",
              "      display: none;\n",
              "      fill: #1967D2;\n",
              "      height: 32px;\n",
              "      padding: 0 0 0 0;\n",
              "      width: 32px;\n",
              "    }\n",
              "\n",
              "    .colab-df-convert:hover {\n",
              "      background-color: #E2EBFA;\n",
              "      box-shadow: 0px 1px 2px rgba(60, 64, 67, 0.3), 0px 1px 3px 1px rgba(60, 64, 67, 0.15);\n",
              "      fill: #174EA6;\n",
              "    }\n",
              "\n",
              "    [theme=dark] .colab-df-convert {\n",
              "      background-color: #3B4455;\n",
              "      fill: #D2E3FC;\n",
              "    }\n",
              "\n",
              "    [theme=dark] .colab-df-convert:hover {\n",
              "      background-color: #434B5C;\n",
              "      box-shadow: 0px 1px 3px 1px rgba(0, 0, 0, 0.15);\n",
              "      filter: drop-shadow(0px 1px 2px rgba(0, 0, 0, 0.3));\n",
              "      fill: #FFFFFF;\n",
              "    }\n",
              "  </style>\n",
              "\n",
              "      <script>\n",
              "        const buttonEl =\n",
              "          document.querySelector('#df-3fbf3229-f4b7-415f-983f-76a678dbe7bd button.colab-df-convert');\n",
              "        buttonEl.style.display =\n",
              "          google.colab.kernel.accessAllowed ? 'block' : 'none';\n",
              "\n",
              "        async function convertToInteractive(key) {\n",
              "          const element = document.querySelector('#df-3fbf3229-f4b7-415f-983f-76a678dbe7bd');\n",
              "          const dataTable =\n",
              "            await google.colab.kernel.invokeFunction('convertToInteractive',\n",
              "                                                     [key], {});\n",
              "          if (!dataTable) return;\n",
              "\n",
              "          const docLinkHtml = 'Like what you see? Visit the ' +\n",
              "            '<a target=\"_blank\" href=https://colab.research.google.com/notebooks/data_table.ipynb>data table notebook</a>'\n",
              "            + ' to learn more about interactive tables.';\n",
              "          element.innerHTML = '';\n",
              "          dataTable['output_type'] = 'display_data';\n",
              "          await google.colab.output.renderOutput(dataTable, element);\n",
              "          const docLink = document.createElement('div');\n",
              "          docLink.innerHTML = docLinkHtml;\n",
              "          element.appendChild(docLink);\n",
              "        }\n",
              "      </script>\n",
              "    </div>\n",
              "  </div>\n",
              "  "
            ]
          },
          "metadata": {},
          "execution_count": 22
        }
      ]
    },
    {
      "cell_type": "code",
      "source": [
        "somatic_confirm_exon = somatic_confirm[somatic_confirm['Name'].str.contains(r'\\+') == False]\n",
        "somatic_confirm_exon = somatic_confirm_exon[somatic_confirm_exon['Name'].str.contains('-') == False]\n",
        "somatic_confirm_exon = somatic_confirm_exon[somatic_confirm_exon['Name'].str.contains('p.') == True]\n",
        "somatic_confirm_exon = somatic_confirm_exon[somatic_confirm_exon['Name'].str.contains('g') == False] # upstream variants\n",
        "somatic_confirm_exon38 = somatic_confirm_exon[somatic_confirm_exon['Assembly'] == 'GRCh38']\n",
        "\n",
        "\n",
        "print(len(somatic_confirm_exon38))\n",
        "\n",
        "benign_clinvar = somatic_confirm_exon38.loc[(somatic_confirm_exon38['ClinicalSignificance'] == 'Benign/Likely benign') | \\\n",
        "                                        (somatic_confirm_exon38['ClinicalSignificance'] == 'Benign') | \\\n",
        "                                        (somatic_confirm_exon38['ClinicalSignificance'] == 'Likely benign') ] \n",
        "\n",
        "print(len(benign_clinvar))                                        "
      ],
      "metadata": {
        "colab": {
          "base_uri": "https://localhost:8080/"
        },
        "id": "lpwIe8n2sR51",
        "outputId": "42872629-0876-4a4c-8022-1a119fdd31f7"
      },
      "execution_count": null,
      "outputs": [
        {
          "output_type": "stream",
          "name": "stdout",
          "text": [
            "12076\n",
            "833\n"
          ]
        }
      ]
    },
    {
      "cell_type": "code",
      "source": [
        ""
      ],
      "metadata": {
        "id": "ycLblTBCs794"
      },
      "execution_count": null,
      "outputs": []
    },
    {
      "cell_type": "code",
      "source": [
        ""
      ],
      "metadata": {
        "id": "hV6gNefpzZVy"
      },
      "execution_count": null,
      "outputs": []
    }
  ]
}