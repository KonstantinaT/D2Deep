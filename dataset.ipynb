{
  "nbformat": 4,
  "nbformat_minor": 0,
  "metadata": {
    "colab": {
      "name": "dataset.ipynb",
      "provenance": [],
      "machine_shape": "hm",
      "mount_file_id": "1mhIHCpEekHNcFI8Ql9p79RSu1T4Y1iUl",
      "authorship_tag": "ABX9TyPJZSnl6tax3etyB2/d0RFU",
      "include_colab_link": true
    },
    "kernelspec": {
      "name": "python3",
      "display_name": "Python 3"
    },
    "language_info": {
      "name": "python"
    },
    "accelerator": "GPU"
  },
  "cells": [
    {
      "cell_type": "markdown",
      "metadata": {
        "id": "view-in-github",
        "colab_type": "text"
      },
      "source": [
        "<a href=\"https://colab.research.google.com/github/KonstantinaT/Predictor/blob/main/dataset.ipynb\" target=\"_parent\"><img src=\"https://colab.research.google.com/assets/colab-badge.svg\" alt=\"Open In Colab\"/></a>"
      ]
    },
    {
      "cell_type": "markdown",
      "source": [
        "### Libraries and functions"
      ],
      "metadata": {
        "id": "Shi9y738Gd9F"
      }
    },
    {
      "cell_type": "code",
      "source": [
        "import pandas as pd\n",
        "!pip install Biopython\n",
        "import Bio\n",
        "import copy\n",
        "import csv\n",
        "import matplotlib.pyplot as plt\n",
        "import numpy as np\n",
        "import seaborn as sns\n",
        "import pickle\n",
        "import gc\n",
        "!pip install Biopython\n",
        "import Bio\n",
        "from Bio import SeqIO\n",
        "from Bio.Seq import Seq"
      ],
      "metadata": {
        "colab": {
          "base_uri": "https://localhost:8080/"
        },
        "id": "gz5nQsV0Gf2O",
        "outputId": "11b91408-6443-4ca3-a68c-82f4619458c4"
      },
      "execution_count": null,
      "outputs": [
        {
          "output_type": "stream",
          "name": "stdout",
          "text": [
            "Collecting Biopython\n",
            "  Downloading biopython-1.79-cp37-cp37m-manylinux_2_5_x86_64.manylinux1_x86_64.whl (2.3 MB)\n",
            "\u001b[K     |████████████████████████████████| 2.3 MB 4.2 MB/s \n",
            "\u001b[?25hRequirement already satisfied: numpy in /usr/local/lib/python3.7/dist-packages (from Biopython) (1.21.5)\n",
            "Installing collected packages: Biopython\n",
            "Successfully installed Biopython-1.79\n",
            "Requirement already satisfied: Biopython in /usr/local/lib/python3.7/dist-packages (1.79)\n",
            "Requirement already satisfied: numpy in /usr/local/lib/python3.7/dist-packages (from Biopython) (1.21.5)\n"
          ]
        }
      ]
    },
    {
      "cell_type": "code",
      "source": [
        "#Change the AA of the gene sequence \n",
        "def changeAAnew(original, target, position, sequence):\n",
        "    #position = int(position)\n",
        "    position -= 1 # because python indexation\n",
        "    sequence = list(sequence)\n",
        "    #print(len(sequence))\n",
        "    #print(position)\n",
        "    if sequence[position] == original:\n",
        "        sequence[position]= target\n",
        "        transcript = ''.join(sequence)\n",
        "        return transcript\n",
        "    else:\n",
        "        tru = sequence[position]\n",
        "        print('the original {}, in position {} not equal to: {}'.format(original, position+1, tru) )"
      ],
      "metadata": {
        "id": "D76RovrF7rdi"
      },
      "execution_count": null,
      "outputs": []
    },
    {
      "cell_type": "markdown",
      "source": [
        "### Cmc_mutations import"
      ],
      "metadata": {
        "id": "GrBglHEmza6l"
      }
    },
    {
      "cell_type": "code",
      "source": [
        "cmc_all = pd.read_csv(\"/content/drive/MyDrive/my_colab/*2ndYear/cmc_export.csv\",  delimiter = '\\t') # COSMIC: cmc Tier 1,2,3, other mutations\n",
        "\n",
        "# Filter missense / silent / nonsense mutations\n",
        "missense_sil_nonsense_mut = cmc_all[(cmc_all['Mutation Description AA'] == 'Substitution - Missense') \\\n",
        "                              | (cmc_all['Mutation Description AA']== 'Substitution - coding silent') \\\n",
        "                                       | (cmc_all['Mutation Description AA']== 'Substitution - Nonsense')]\n",
        "\n",
        "# creation of Tier1-2-3 mutations\n",
        "Tier1_2_3 = missense_sil_nonsense_mut[(missense_sil_nonsense_mut['MUTATION_SIGNIFICANCE_TIER'] == '1') \\\n",
        "                              | (missense_sil_nonsense_mut['MUTATION_SIGNIFICANCE_TIER']== '2') \\\n",
        "                                       | (missense_sil_nonsense_mut['MUTATION_SIGNIFICANCE_TIER']== '3')]\n",
        "                             "
      ],
      "metadata": {
        "colab": {
          "base_uri": "https://localhost:8080/"
        },
        "id": "sKfMu9FZXh49",
        "outputId": "32760090-c032-4375-dc65-6b539edd5bce"
      },
      "execution_count": null,
      "outputs": [
        {
          "output_type": "stream",
          "name": "stderr",
          "text": [
            "/usr/local/lib/python3.7/dist-packages/IPython/core/interactiveshell.py:2882: DtypeWarning: Columns (2,24,49,51) have mixed types.Specify dtype option on import or set low_memory=False.\n",
            "  exec(code_obj, self.user_global_ns, self.user_ns)\n"
          ]
        }
      ]
    },
    {
      "cell_type": "code",
      "source": [
        "# Read transcript consensus (glioma_All_cosmic.ipynb)\n",
        "with open(\"/content/drive/MyDrive/my_colab/*2ndYear/transcript_sequences.csv\", 'rb') as fp:\n",
        "    gene_sequence = pickle.load(fp)"
      ],
      "metadata": {
        "id": "2QcYPLwJ0IZu"
      },
      "execution_count": null,
      "outputs": []
    },
    {
      "cell_type": "code",
      "source": [
        "# Keep mutations in position <= 2000\n",
        "Tier1_2_3 = Tier1_2_3.reset_index(drop=True)\n",
        "count_more_1 =0\n",
        "position, AA_orig, AA_targ, sequence, indices_to_excl = [], [], [], [], []\n",
        "for i, mut in Tier1_2_3.iterrows():\n",
        "\n",
        "    string = mut['Mutation AA']\n",
        "    if 'delins' in string:\n",
        "      indices_to_excl.append(i)\n",
        "      continue\n",
        "    pos_temp = int(string[3:-1])\n",
        "    if pos_temp > 2000:\n",
        "      indices_to_excl.append(i)\n",
        "      continue\n",
        "    else:\n",
        "      wt_sequence = str(gene_sequence[mut['ACCESSION_NUMBER']])\n",
        "      if wt_sequence.count('*') > 1: # if there is a codon mid-protein\n",
        "          count_more_1 +=1\n",
        "      mut_seq = changeAAnew(string[2], string[-1], pos_temp,wt_sequence)\n",
        "  \n",
        "      if mut_seq is not None:\n",
        "        if '*' in mut_seq:\n",
        "          temp = mut_seq.split(\"*\")\n",
        "          mut_seq = temp[0]\n",
        "        \n",
        "        position.append(pos_temp)\n",
        "        AA_orig.append(string[2])\n",
        "        AA_targ.append(string[-1])\n",
        "\n",
        "        sequence.append(mut_seq[:2000]) # crop the sequence to 2000AA\n",
        "      else:\n",
        "        indices_to_excl.append(i)\n",
        "\n",
        "Tier1_2_3 = Tier1_2_3.drop(Tier1_2_3.index[indices_to_excl])\n",
        "Tier1_2_3['position'] = position\n",
        "Tier1_2_3['AA_orig'] = AA_orig\n",
        "Tier1_2_3['AA_targ'] = AA_targ\n",
        "Tier1_2_3['sequence'] = sequence\n",
        "\n",
        "# Keep only relevant columns \n",
        "Tier1_2_3['label'] = [1]* len(Tier1_2_3)\n",
        "Tier1_2_3 = Tier1_2_3[['GENE_NAME', 'ACCESSION_NUMBER', 'position', 'AA_orig', 'AA_targ', 'sequence', 'label']]\n",
        "\n",
        "Tier_trancript_list = Tier1_2_3['ACCESSION_NUMBER'].unique()         "
      ],
      "metadata": {
        "id": "RWdLOKCm2Si7"
      },
      "execution_count": null,
      "outputs": []
    },
    {
      "cell_type": "code",
      "source": [
        "# creation of benign mutations\n",
        "cmcOther= missense_sil_nonsense_mut[(missense_sil_nonsense_mut['MUTATION_SIGNIFICANCE_TIER'] == 'Other')]\n",
        "# keep Transcripts with Pathogenic mutations\n",
        "cmcOther = cmcOther[cmcOther['ACCESSION_NUMBER'].isin(Tier_trancript_list)]"
      ],
      "metadata": {
        "id": "3GcssShJGl57"
      },
      "execution_count": null,
      "outputs": []
    },
    {
      "cell_type": "code",
      "source": [
        "cmcOther = cmcOther.sample(frac=1).reset_index(drop=True) # shuffle and reset index\n",
        "count = 0\n",
        "count_synonymous = 0\n",
        "position, AA_orig, AA_targ, sequence, indices_to_excl = [], [], [], [], []\n",
        "for i, mut in cmcOther.iterrows():\n",
        "  #if count <= 18000:\n",
        "    string = mut['Mutation AA']\n",
        "    if '=' in string:\n",
        "      count_synonymous +=1\n",
        "      indices_to_excl.append(i)\n",
        "      continue\n",
        "    if 'delins' in string:\n",
        "      indices_to_excl.append(i)\n",
        "      continue\n",
        "    pos_temp = int(string[3:-1])\n",
        "    if pos_temp > 2000:\n",
        "      indices_to_excl.append(i)\n",
        "      continue\n",
        "    else:\n",
        "      mut_seq = changeAAnew(string[2], string[-1], pos_temp, gene_sequence[mut['ACCESSION_NUMBER']])\n",
        "        \n",
        "      if mut_seq is not None:\n",
        "        if '*' in mut_seq:\n",
        "          temp = mut_seq.split(\"*\")\n",
        "          mut_seq = temp[0]\n",
        "        \n",
        "        position.append(pos_temp)\n",
        "        AA_orig.append(string[2])\n",
        "        AA_targ.append(string[-1])\n",
        "\n",
        "        sequence.append(mut_seq[:2000])\n",
        "        count+=1\n",
        "\n",
        "      else:\n",
        "        indices_to_excl.append(i)\n",
        "\n",
        "\n",
        "cmcOther = cmcOther.drop(cmcOther.index[indices_to_excl])\n",
        "cmcOther['position'] = position\n",
        "cmcOther['AA_orig'] = AA_orig\n",
        "cmcOther['AA_targ'] = AA_targ\n",
        "cmcOther['sequence'] = sequence\n",
        "\n",
        "# Keep only relevant columns \n",
        "cmcOther['label'] = [0]* len(cmcOther)\n",
        "cmcOther = cmcOther[['GENE_NAME', 'ACCESSION_NUMBER', 'position', 'AA_orig', 'AA_targ', 'sequence', 'label']]"
      ],
      "metadata": {
        "colab": {
          "base_uri": "https://localhost:8080/"
        },
        "id": "lADrBFt4z23_",
        "outputId": "2a611356-6706-4177-be48-127bf214cc72"
      },
      "execution_count": null,
      "outputs": [
        {
          "output_type": "stream",
          "name": "stdout",
          "text": [
            "the original P, in position 172 not equal to: L\n",
            "the original A, in position 336 not equal to: P\n",
            "the original S, in position 205 not equal to: T\n",
            "the original R, in position 197 not equal to: K\n",
            "the original S, in position 305 not equal to: C\n",
            "the original Q, in position 88 not equal to: E\n",
            "the original L, in position 845 not equal to: V\n",
            "the original A, in position 1136 not equal to: G\n",
            "the original T, in position 1851 not equal to: R\n",
            "the original L, in position 417 not equal to: H\n",
            "the original L, in position 27 not equal to: I\n",
            "the original P, in position 153 not equal to: R\n",
            "the original G, in position 1576 not equal to: V\n"
          ]
        }
      ]
    },
    {
      "cell_type": "code",
      "source": [
        "count_synonymous # Synonymous mutations on COSMIC cmc_export dataset"
      ],
      "metadata": {
        "colab": {
          "base_uri": "https://localhost:8080/"
        },
        "id": "MB8PhQtGpQFJ",
        "outputId": "02b63d5f-956c-4fc5-8a23-8c15b0ddcdb8"
      },
      "execution_count": null,
      "outputs": [
        {
          "output_type": "execute_result",
          "data": {
            "text/plain": [
              "127826"
            ]
          },
          "metadata": {},
          "execution_count": 9
        }
      ]
    },
    {
      "cell_type": "markdown",
      "source": [
        "### Create balanced (protein) set"
      ],
      "metadata": {
        "id": "nIZP2opD9kTT"
      }
    },
    {
      "cell_type": "code",
      "source": [
        "# concatenate Tiers 1_2_3 with Other for the creation of balanced set\n",
        "all_mutations = pd.concat([Tier1_2_3, cmcOther])\n",
        "all_mutations = all_mutations.reset_index(drop=True) # shuffle and reset index\n",
        "\n",
        "# label distribution per protein\n",
        "lab_distr = {}\n",
        "for ind, mut in all_mutations.iterrows():\n",
        "  if mut['ACCESSION_NUMBER'] in lab_distr:\n",
        "    if mut['label'] == 0:\n",
        "      lab_distr[mut['ACCESSION_NUMBER']][0] +=1\n",
        "    elif mut['label'] == 1:\n",
        "      lab_distr[mut['ACCESSION_NUMBER']][1] +=1                  \n",
        "  else:\n",
        "    if mut['label'] == 0:\n",
        "      lab_distr[mut['ACCESSION_NUMBER']] = [1, 0]\n",
        "    elif mut['label'] == 1:\n",
        "      lab_distr[mut['ACCESSION_NUMBER']] = [0, 1]\n",
        "\n",
        "balanced_lab_distr = copy.deepcopy(lab_distr)\n",
        "for i in balanced_lab_distr.keys():\n",
        "  balanced_lab_distr[i][0] = 0\n",
        "\n",
        "benign_to_excl = []\n",
        "for i, mut in all_mutations.iterrows():\n",
        "\n",
        "  if mut['label'] == 0:\n",
        "    # have we reached the deleterious laber number of lab_distr?\n",
        "    if balanced_lab_distr[mut['ACCESSION_NUMBER']][0] <= balanced_lab_distr[mut['ACCESSION_NUMBER']][1]:\n",
        "      balanced_lab_distr[mut['ACCESSION_NUMBER']][0] +=1\n",
        "    else:\n",
        "      benign_to_excl.append(i)\n",
        "\n",
        "all_mutations = all_mutations.drop(all_mutations.index[benign_to_excl])"
      ],
      "metadata": {
        "id": "MCxNG1zN1pyN"
      },
      "execution_count": null,
      "outputs": []
    },
    {
      "cell_type": "code",
      "source": [
        "count_neg, count_pos = 0,0\n",
        "for i, mut in all_mutations.iterrows():\n",
        "  if mut['label'] == 0:\n",
        "    count_neg +=1\n",
        "  else:\n",
        "    count_pos +=1\n",
        "print(count_neg, count_pos)"
      ],
      "metadata": {
        "colab": {
          "base_uri": "https://localhost:8080/"
        },
        "id": "XvWiEtD97J4X",
        "outputId": "6f60483a-0617-4f2a-c14a-3ec7d2da22c1"
      },
      "execution_count": null,
      "outputs": [
        {
          "output_type": "stream",
          "name": "stdout",
          "text": [
            "18996 17639\n"
          ]
        }
      ]
    },
    {
      "cell_type": "code",
      "source": [
        "# save mutations\n",
        "all_mutations.to_csv('/content/drive/MyDrive/my_colab/3rdYear/datasets/Tier1_2_3_Other_balance_crop.csv', index=False)"
      ],
      "metadata": {
        "id": "Smhfp3D7-ABS"
      },
      "execution_count": null,
      "outputs": []
    },
    {
      "cell_type": "code",
      "source": [
        "len(all_mutations['ACCESSION_NUMBER'].unique())"
      ],
      "metadata": {
        "colab": {
          "base_uri": "https://localhost:8080/"
        },
        "id": "Oo24YnUxDoDi",
        "outputId": "246a53f4-0601-4e31-c0e1-317c5d38c5da"
      },
      "execution_count": null,
      "outputs": [
        {
          "output_type": "execute_result",
          "data": {
            "text/plain": [
              "1361"
            ]
          },
          "metadata": {},
          "execution_count": 13
        }
      ]
    },
    {
      "cell_type": "code",
      "source": [
        "len(all_mutations)"
      ],
      "metadata": {
        "colab": {
          "base_uri": "https://localhost:8080/"
        },
        "id": "_GZv_YxvPf5U",
        "outputId": "0617075b-b86c-4a57-ba13-0e4264c37171"
      },
      "execution_count": null,
      "outputs": [
        {
          "output_type": "execute_result",
          "data": {
            "text/plain": [
              "36635"
            ]
          },
          "metadata": {},
          "execution_count": 17
        }
      ]
    },
    {
      "cell_type": "markdown",
      "source": [
        "### For mmseq2_batch.ipynb (save Trascnrpt sequences to fasta files)"
      ],
      "metadata": {
        "id": "_mbg9qc996mg"
      }
    },
    {
      "cell_type": "code",
      "source": [
        "# save Transcripts sequence into fasta files\n",
        "alignment_path = '/content/drive/MyDrive/my_colab/3rdYear/datasets/alignments_Tier1_2_3_Other/'\n",
        "\n",
        "for i in Tier_trancript_list:\n",
        "  wt =str(gene_sequence[i])\n",
        "  fasta_file = open(alignment_path + str(i) + '.fasta', 'w')\n",
        "  fasta_file.write('>' + str(i) + \"\\n\" + wt )\n",
        "  fasta_file.close()"
      ],
      "metadata": {
        "id": "6EwFVLJ7H7Gu"
      },
      "execution_count": null,
      "outputs": []
    },
    {
      "cell_type": "markdown",
      "source": [
        ""
      ],
      "metadata": {
        "id": "4NO6n9Rm4FqZ"
      }
    }
  ]
}