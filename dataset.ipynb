{
  "nbformat": 4,
  "nbformat_minor": 0,
  "metadata": {
    "colab": {
      "name": "dataset.ipynb",
      "provenance": [],
      "collapsed_sections": [
        "GrBglHEmza6l",
        "nIZP2opD9kTT",
        "_mbg9qc996mg",
        "CWNrIjS231bc",
        "ITs3ZCzYv56d",
        "k9GhmubtAnWe",
        "K0w-JKv0ELz-",
        "w3IBOaOT1cIu",
        "FE04j7XUmn_u",
        "T8jL7ruWaejy",
        "SSqrKInH05A-"
      ],
      "machine_shape": "hm",
      "mount_file_id": "1mhIHCpEekHNcFI8Ql9p79RSu1T4Y1iUl",
      "authorship_tag": "ABX9TyPo5A2+mznshoBjo9PdoV6k",
      "include_colab_link": true
    },
    "kernelspec": {
      "name": "python3",
      "display_name": "Python 3"
    },
    "language_info": {
      "name": "python"
    },
    "gpuClass": "standard",
    "accelerator": "GPU"
  },
  "cells": [
    {
      "cell_type": "markdown",
      "metadata": {
        "id": "view-in-github",
        "colab_type": "text"
      },
      "source": [
        "<a href=\"https://colab.research.google.com/github/KonstantinaT/Predictor/blob/main/dataset.ipynb\" target=\"_parent\"><img src=\"https://colab.research.google.com/assets/colab-badge.svg\" alt=\"Open In Colab\"/></a>"
      ]
    },
    {
      "cell_type": "markdown",
      "source": [
        "SOMATIC MUTATIONS"
      ],
      "metadata": {
        "id": "fvGpYO5INHcI"
      }
    },
    {
      "cell_type": "markdown",
      "source": [
        "### Libraries and functions"
      ],
      "metadata": {
        "id": "Shi9y738Gd9F"
      }
    },
    {
      "cell_type": "code",
      "source": [
        "import pandas as pd\n",
        "!pip install Biopython\n",
        "import Bio\n",
        "import os\n",
        "import shutil\n",
        "import copy\n",
        "import csv\n",
        "import matplotlib.pyplot as plt\n",
        "import numpy as np\n",
        "import seaborn as sns\n",
        "import pickle\n",
        "import gc\n",
        "!pip install Biopython\n",
        "import Bio\n",
        "from Bio import SeqIO\n",
        "from Bio.Seq import Seq\n",
        "import requests\n",
        "pd.set_option('display.max_rows', None)"
      ],
      "metadata": {
        "colab": {
          "base_uri": "https://localhost:8080/"
        },
        "id": "gz5nQsV0Gf2O",
        "outputId": "c3f8c577-92ba-45b6-e4ba-0ee59012cf10"
      },
      "execution_count": null,
      "outputs": [
        {
          "output_type": "stream",
          "name": "stdout",
          "text": [
            "Looking in indexes: https://pypi.org/simple, https://us-python.pkg.dev/colab-wheels/public/simple/\n",
            "Collecting Biopython\n",
            "  Downloading biopython-1.79-cp37-cp37m-manylinux_2_5_x86_64.manylinux1_x86_64.whl (2.3 MB)\n",
            "\u001b[K     |████████████████████████████████| 2.3 MB 14.6 MB/s \n",
            "\u001b[?25hRequirement already satisfied: numpy in /usr/local/lib/python3.7/dist-packages (from Biopython) (1.21.6)\n",
            "Installing collected packages: Biopython\n",
            "Successfully installed Biopython-1.79\n",
            "Looking in indexes: https://pypi.org/simple, https://us-python.pkg.dev/colab-wheels/public/simple/\n",
            "Requirement already satisfied: Biopython in /usr/local/lib/python3.7/dist-packages (1.79)\n",
            "Requirement already satisfied: numpy in /usr/local/lib/python3.7/dist-packages (from Biopython) (1.21.6)\n"
          ]
        }
      ]
    },
    {
      "cell_type": "code",
      "source": [
        "def notNaN(num):\n",
        "    return num == num"
      ],
      "metadata": {
        "id": "K3zh_KIvh2Y4"
      },
      "execution_count": null,
      "outputs": []
    },
    {
      "cell_type": "code",
      "source": [
        "def load_uniprot_fasta(identifier): #loads fasta file for a given UniProt identifier\n",
        "    #if '-' in identifier:\n",
        "    #  ident = identifier[:-2]\n",
        "    #  which_isoform = int(identifier[-1]) - 1\n",
        "    #  link = \"http://www.uniprot.org/uniprot/\" + ident + \".fasta?include=yes\"\n",
        "    #else:\n",
        "    link = \"http://www.uniprot.org/uniprot/\" + identifier + \".fasta\"\n",
        "    \n",
        "    str_data = requests.get(link).content.decode('utf-8')\n",
        "    fasta = str_data.split('>')\n",
        "    fasta_all=[]\n",
        "    for seq in fasta[1:]:\n",
        "      temp = seq.splitlines()[1:]\n",
        "      temp = ''.join(temp)\n",
        "      fasta_all.append(temp)\n",
        "    return fasta_all[0]"
      ],
      "metadata": {
        "id": "AstMYnavEyf5"
      },
      "execution_count": null,
      "outputs": []
    },
    {
      "cell_type": "code",
      "source": [
        "def AAconvert(AminoAcid):\n",
        "\n",
        "  aa = {\n",
        "      'Ala' : 'A',\n",
        "      'Arg' : 'R',\n",
        "      'Asn' : 'N',\n",
        "      'Asp' : 'D',\n",
        "      'Cys' : 'C',\n",
        "      'Glu' : 'E',\n",
        "      'Gln' : 'Q',\n",
        "      'Gly' : 'G',\n",
        "      'His' : 'H',\n",
        "      'Ile' : 'I',\n",
        "      'Leu' : 'L',\n",
        "      'Lys' : 'K',\n",
        "      'Met' : 'M',\n",
        "      'Phe' : 'F',\n",
        "      'Pro' : 'P',\n",
        "      'Ser' : 'S',\n",
        "      'Thr' : 'T',\n",
        "      'Trp' : 'W',\n",
        "      'Tyr' : 'Y',\n",
        "      'Val' : 'V',\n",
        "      'Ter' : '*'\n",
        "\n",
        "  }\n",
        "  return aa[AminoAcid]"
      ],
      "metadata": {
        "id": "HKVAv5MyOnZ-"
      },
      "execution_count": null,
      "outputs": []
    },
    {
      "cell_type": "code",
      "source": [
        "def load_uniprot_fasta_all(identifier): #loads fasta file for a given UniProt identifier\n",
        "    link = \"https://rest.uniprot.org/uniprotkb/search?format=fasta&includeIsoform=true&query=accession%3A\" + identifier  # canonical & isoforms\n",
        "    str_data = requests.get(link).content.decode('utf-8')\n",
        "\n",
        "    fasta = str_data.split('>')\n",
        "    fasta_all=[]\n",
        "    isoforms =[]\n",
        "    for seq in fasta[1:]:\n",
        "      isoforms.append(seq.splitlines()[0].split('|')[1])\n",
        "      temp = seq.splitlines()[1:]\n",
        "      temp = ''.join(temp)\n",
        "      fasta_all.append(temp)\n",
        "    return fasta_all, isoforms"
      ],
      "metadata": {
        "id": "xQjwaHYJYpe5"
      },
      "execution_count": null,
      "outputs": []
    },
    {
      "cell_type": "code",
      "source": [
        "#Change the AA of the gene sequence \n",
        "def changeAAnew(gene_name, original, target, position, sequence):\n",
        "    #position = int(position)\n",
        "    position -= 1 # because python indexation\n",
        "    sequence = list(sequence)\n",
        "    #print(len(sequence))\n",
        "    #print(position)\n",
        "    if sequence[position] == original:\n",
        "        sequence[position]= target\n",
        "        transcript = ''.join(sequence)\n",
        "        return transcript\n",
        "    else:\n",
        "        tru = sequence[position]\n",
        "        print('in gene {} the original {}, in position {} not equal to: {}'.format(gene_name, original, position+1, tru) )"
      ],
      "metadata": {
        "id": "D76RovrF7rdi"
      },
      "execution_count": null,
      "outputs": []
    },
    {
      "cell_type": "markdown",
      "source": [
        "## Missense, nonsense and silent mutations from COSMIC cmc_export, without uniprot / trembl ID"
      ],
      "metadata": {
        "id": "SHR3IdT-3hmY"
      }
    },
    {
      "cell_type": "markdown",
      "source": [
        "### Cmc_mutations import"
      ],
      "metadata": {
        "id": "GrBglHEmza6l"
      }
    },
    {
      "cell_type": "code",
      "source": [
        "# Read transcript consensus (glioma_All_cosmic.ipynb)\n",
        "with open(\"/content/drive/MyDrive/my_colab/*2ndYear/transcript_sequences.csv\", 'rb') as fp:\n",
        "    gene_sequence = pickle.load(fp)"
      ],
      "metadata": {
        "id": "2QcYPLwJ0IZu"
      },
      "execution_count": null,
      "outputs": []
    },
    {
      "cell_type": "code",
      "source": [
        "cmc_all = pd.read_csv(\"/content/drive/MyDrive/my_colab/*2ndYear/cmc_export.csv\",  delimiter = '\\t') # COSMIC: cmc Tier 1,2,3, other mutations\n",
        "\n",
        "# Filter missense / silent / nonsense mutations\n",
        "missense_sil_nonsense_mut = cmc_all[(cmc_all['Mutation Description AA'] == 'Substitution - Missense') \\\n",
        "                              | (cmc_all['Mutation Description AA']== 'Substitution - coding silent') \\\n",
        "                                       | (cmc_all['Mutation Description AA']== 'Substitution - Nonsense')]\n",
        "\n",
        "# creation of Tier1-2-3 mutations\n",
        "Tier1_2_3 = missense_sil_nonsense_mut[(missense_sil_nonsense_mut['MUTATION_SIGNIFICANCE_TIER'] == '1') \\\n",
        "                              | (missense_sil_nonsense_mut['MUTATION_SIGNIFICANCE_TIER']== '2') \\\n",
        "                                       | (missense_sil_nonsense_mut['MUTATION_SIGNIFICANCE_TIER']== '3')]\n",
        "                             "
      ],
      "metadata": {
        "colab": {
          "base_uri": "https://localhost:8080/"
        },
        "id": "sKfMu9FZXh49",
        "outputId": "8e20ccd6-639c-40c7-aca6-35ebb84e75dc"
      },
      "execution_count": null,
      "outputs": [
        {
          "output_type": "stream",
          "name": "stderr",
          "text": [
            "/usr/local/lib/python3.7/dist-packages/IPython/core/interactiveshell.py:2882: DtypeWarning: Columns (2,24,49,51) have mixed types.Specify dtype option on import or set low_memory=False.\n",
            "  exec(code_obj, self.user_global_ns, self.user_ns)\n"
          ]
        }
      ]
    },
    {
      "cell_type": "code",
      "source": [
        "len(Tier1_2_3_nodelins)"
      ],
      "metadata": {
        "colab": {
          "base_uri": "https://localhost:8080/"
        },
        "id": "DyDt-f5dUFbK",
        "outputId": "2b626967-5e5c-4654-a8b2-e1306619817b"
      },
      "execution_count": null,
      "outputs": [
        {
          "output_type": "execute_result",
          "data": {
            "text/plain": [
              "3530"
            ]
          },
          "metadata": {},
          "execution_count": 62
        }
      ]
    },
    {
      "cell_type": "code",
      "source": [
        "# Keep mutations in position <= 2000\n",
        "Tier1_2_3 = Tier1_2_3.reset_index(drop=True)\n",
        "count_more_1 =0\n",
        "position, AA_orig, AA_targ, sequence, indices_to_excl = [], [], [], [], []\n",
        "for i, mut in Tier1_2_3.iterrows():\n",
        "\n",
        "    string = mut['Mutation AA']\n",
        "    if 'delins' in string:\n",
        "      indices_to_excl.append(i)\n",
        "      continue\n",
        "    pos_temp = int(string[3:-1])\n",
        "    if pos_temp > 2000:\n",
        "      indices_to_excl.append(i)\n",
        "      continue\n",
        "    else:\n",
        "      wt_sequence = str(gene_sequence[mut['ACCESSION_NUMBER']])\n",
        "      if wt_sequence.count('*') > 1: # if there is a codon mid-protein\n",
        "          count_more_1 +=1\n",
        "      mut_seq = changeAAnew(string[2], string[-1], pos_temp,wt_sequence)\n",
        "  \n",
        "      if mut_seq is not None:\n",
        "        if '*' in mut_seq:\n",
        "          temp = mut_seq.split(\"*\")\n",
        "          mut_seq = temp[0]\n",
        "        \n",
        "        position.append(pos_temp)\n",
        "        AA_orig.append(string[2])\n",
        "        AA_targ.append(string[-1])\n",
        "\n",
        "        sequence.append(mut_seq[:2000]) # crop the sequence to 2000AA\n",
        "      else:\n",
        "        indices_to_excl.append(i)\n",
        "\n",
        "Tier1_2_3 = Tier1_2_3.drop(Tier1_2_3.index[indices_to_excl])\n",
        "Tier1_2_3['position'] = position\n",
        "Tier1_2_3['AA_orig'] = AA_orig\n",
        "Tier1_2_3['AA_targ'] = AA_targ\n",
        "Tier1_2_3['sequence'] = sequence\n",
        "\n",
        "# Keep only relevant columns \n",
        "Tier1_2_3['label'] = [1]* len(Tier1_2_3)\n",
        "Tier1_2_3 = Tier1_2_3[['GENE_NAME', 'ACCESSION_NUMBER', 'position', 'AA_orig', 'AA_targ', 'sequence', 'label']]\n",
        "      "
      ],
      "metadata": {
        "id": "RWdLOKCm2Si7",
        "colab": {
          "base_uri": "https://localhost:8080/"
        },
        "outputId": "9cc77e65-0588-401e-c858-568c086934fe"
      },
      "execution_count": null,
      "outputs": [
        {
          "output_type": "stream",
          "name": "stdout",
          "text": [
            "the original R, in position 95 not equal to: P\n",
            "the original R, in position 95 not equal to: P\n",
            "the original G, in position 248 not equal to: R\n",
            "the original G, in position 74 not equal to: V\n"
          ]
        }
      ]
    },
    {
      "cell_type": "code",
      "source": [
        "Tier_trancript_list = Tier1_2_3['ACCESSION_NUMBER'].unique()   \n",
        "# creation of benign mutations\n",
        "cmcOther= missense_sil_nonsense_mut[(missense_sil_nonsense_mut['MUTATION_SIGNIFICANCE_TIER'] == 'Other')]\n",
        "# keep Transcripts with Pathogenic mutations\n",
        "cmcOther = cmcOther[cmcOther['ACCESSION_NUMBER'].isin(Tier_trancript_list)]"
      ],
      "metadata": {
        "id": "3GcssShJGl57"
      },
      "execution_count": null,
      "outputs": []
    },
    {
      "cell_type": "code",
      "source": [
        "cmcOther = cmcOther.sample(frac=1).reset_index(drop=True) # shuffle and reset index\n",
        "count = 0\n",
        "count_synonymous = 0\n",
        "position, AA_orig, AA_targ, sequence, indices_to_excl = [], [], [], [], []\n",
        "for i, mut in cmcOther.iterrows():\n",
        "  #if count <= 18000:\n",
        "    string = mut['Mutation AA']\n",
        "    if '=' in string:\n",
        "      count_synonymous +=1\n",
        "      indices_to_excl.append(i)\n",
        "      continue\n",
        "    if 'delins' in string:\n",
        "      indices_to_excl.append(i)\n",
        "      continue\n",
        "    pos_temp = int(string[3:-1])\n",
        "    if pos_temp > 2000:\n",
        "      indices_to_excl.append(i)\n",
        "      continue\n",
        "    else:\n",
        "      mut_seq = changeAAnew(string[2], string[-1], pos_temp, gene_sequence[mut['ACCESSION_NUMBER']])\n",
        "        \n",
        "      if mut_seq is not None:\n",
        "        if '*' in mut_seq:\n",
        "          temp = mut_seq.split(\"*\")\n",
        "          mut_seq = temp[0]\n",
        "        \n",
        "        position.append(pos_temp)\n",
        "        AA_orig.append(string[2])\n",
        "        AA_targ.append(string[-1])\n",
        "\n",
        "        sequence.append(mut_seq[:2000])\n",
        "        count+=1\n",
        "\n",
        "      else:\n",
        "        indices_to_excl.append(i)\n",
        "\n",
        "\n",
        "cmcOther = cmcOther.drop(cmcOther.index[indices_to_excl])\n",
        "cmcOther['position'] = position\n",
        "cmcOther['AA_orig'] = AA_orig\n",
        "cmcOther['AA_targ'] = AA_targ\n",
        "cmcOther['sequence'] = sequence\n",
        "\n",
        "# Keep only relevant columns \n",
        "cmcOther['label'] = [0]* len(cmcOther)\n",
        "cmcOther = cmcOther[['GENE_NAME', 'ACCESSION_NUMBER', 'position', 'AA_orig', 'AA_targ', 'sequence', 'label']]"
      ],
      "metadata": {
        "colab": {
          "base_uri": "https://localhost:8080/"
        },
        "id": "lADrBFt4z23_",
        "outputId": "2a611356-6706-4177-be48-127bf214cc72"
      },
      "execution_count": null,
      "outputs": [
        {
          "output_type": "stream",
          "name": "stdout",
          "text": [
            "the original P, in position 172 not equal to: L\n",
            "the original A, in position 336 not equal to: P\n",
            "the original S, in position 205 not equal to: T\n",
            "the original R, in position 197 not equal to: K\n",
            "the original S, in position 305 not equal to: C\n",
            "the original Q, in position 88 not equal to: E\n",
            "the original L, in position 845 not equal to: V\n",
            "the original A, in position 1136 not equal to: G\n",
            "the original T, in position 1851 not equal to: R\n",
            "the original L, in position 417 not equal to: H\n",
            "the original L, in position 27 not equal to: I\n",
            "the original P, in position 153 not equal to: R\n",
            "the original G, in position 1576 not equal to: V\n"
          ]
        }
      ]
    },
    {
      "cell_type": "code",
      "source": [
        "count_synonymous # Synonymous mutations on COSMIC cmc_export dataset"
      ],
      "metadata": {
        "colab": {
          "base_uri": "https://localhost:8080/"
        },
        "id": "MB8PhQtGpQFJ",
        "outputId": "02b63d5f-956c-4fc5-8a23-8c15b0ddcdb8"
      },
      "execution_count": null,
      "outputs": [
        {
          "output_type": "execute_result",
          "data": {
            "text/plain": [
              "127826"
            ]
          },
          "metadata": {},
          "execution_count": 9
        }
      ]
    },
    {
      "cell_type": "markdown",
      "source": [
        "### Create balanced (protein) set"
      ],
      "metadata": {
        "id": "nIZP2opD9kTT"
      }
    },
    {
      "cell_type": "code",
      "source": [
        "# concatenate Tiers 1_2_3 with Other for the creation of balanced set\n",
        "all_mutations = pd.concat([Tier1_2_3, cmcOther])\n",
        "all_mutations = all_mutations.reset_index(drop=True) # shuffle and reset index\n",
        "\n",
        "# label distribution per protein\n",
        "lab_distr = {}\n",
        "for ind, mut in all_mutations.iterrows():\n",
        "  if mut['ACCESSION_NUMBER'] in lab_distr:\n",
        "    if mut['label'] == 0:\n",
        "      lab_distr[mut['ACCESSION_NUMBER']][0] +=1\n",
        "    elif mut['label'] == 1:\n",
        "      lab_distr[mut['ACCESSION_NUMBER']][1] +=1                  \n",
        "  else:\n",
        "    if mut['label'] == 0:\n",
        "      lab_distr[mut['ACCESSION_NUMBER']] = [1, 0]\n",
        "    elif mut['label'] == 1:\n",
        "      lab_distr[mut['ACCESSION_NUMBER']] = [0, 1]\n",
        "\n",
        "balanced_lab_distr = copy.deepcopy(lab_distr)\n",
        "for i in balanced_lab_distr.keys():\n",
        "  balanced_lab_distr[i][0] = 0\n",
        "\n",
        "benign_to_excl = []\n",
        "for i, mut in all_mutations.iterrows():\n",
        "\n",
        "  if mut['label'] == 0:\n",
        "    # have we reached the deleterious laber number of lab_distr?\n",
        "    if balanced_lab_distr[mut['ACCESSION_NUMBER']][0] <= balanced_lab_distr[mut['ACCESSION_NUMBER']][1]:\n",
        "      balanced_lab_distr[mut['ACCESSION_NUMBER']][0] +=1\n",
        "    else:\n",
        "      benign_to_excl.append(i)\n",
        "\n",
        "all_mutations = all_mutations.drop(all_mutations.index[benign_to_excl])"
      ],
      "metadata": {
        "id": "MCxNG1zN1pyN"
      },
      "execution_count": null,
      "outputs": []
    },
    {
      "cell_type": "code",
      "source": [
        "count_neg, count_pos = 0,0\n",
        "for i, mut in all_mutations.iterrows():\n",
        "  if mut['label'] == 0:\n",
        "    count_neg +=1\n",
        "  else:\n",
        "    count_pos +=1\n",
        "print(count_neg, count_pos)"
      ],
      "metadata": {
        "colab": {
          "base_uri": "https://localhost:8080/"
        },
        "id": "XvWiEtD97J4X",
        "outputId": "6f60483a-0617-4f2a-c14a-3ec7d2da22c1"
      },
      "execution_count": null,
      "outputs": [
        {
          "output_type": "stream",
          "name": "stdout",
          "text": [
            "18996 17639\n"
          ]
        }
      ]
    },
    {
      "cell_type": "code",
      "source": [
        "# save mutations\n",
        "all_mutations.to_csv('/content/drive/MyDrive/my_colab/3rdYear/datasets/Tier1_2_3_Other_balance_crop.csv', index=False)"
      ],
      "metadata": {
        "id": "Smhfp3D7-ABS"
      },
      "execution_count": null,
      "outputs": []
    },
    {
      "cell_type": "code",
      "source": [
        "len(all_mutations['ACCESSION_NUMBER'].unique())"
      ],
      "metadata": {
        "colab": {
          "base_uri": "https://localhost:8080/"
        },
        "id": "Oo24YnUxDoDi",
        "outputId": "246a53f4-0601-4e31-c0e1-317c5d38c5da"
      },
      "execution_count": null,
      "outputs": [
        {
          "output_type": "execute_result",
          "data": {
            "text/plain": [
              "1361"
            ]
          },
          "metadata": {},
          "execution_count": 13
        }
      ]
    },
    {
      "cell_type": "code",
      "source": [
        "len(all_mutations)"
      ],
      "metadata": {
        "colab": {
          "base_uri": "https://localhost:8080/"
        },
        "id": "_GZv_YxvPf5U",
        "outputId": "0617075b-b86c-4a57-ba13-0e4264c37171"
      },
      "execution_count": null,
      "outputs": [
        {
          "output_type": "execute_result",
          "data": {
            "text/plain": [
              "36635"
            ]
          },
          "metadata": {},
          "execution_count": 17
        }
      ]
    },
    {
      "cell_type": "markdown",
      "source": [
        "### For mmseq2_batch.ipynb (save Trascnrpt sequences to fasta files)"
      ],
      "metadata": {
        "id": "_mbg9qc996mg"
      }
    },
    {
      "cell_type": "code",
      "source": [
        "# save Transcripts sequence into fasta files\n",
        "alignment_path = '/content/drive/MyDrive/my_colab/3rdYear/datasets/alignments_Tier1_2_3_Other/'\n",
        "\n",
        "for i in Tier_trancript_list:\n",
        "  wt =str(gene_sequence[i])\n",
        "  fasta_file = open(alignment_path + str(i) + '.fasta', 'w')\n",
        "  fasta_file.write('>' + str(i) + \"\\n\" + wt )\n",
        "  fasta_file.close()"
      ],
      "metadata": {
        "id": "6EwFVLJ7H7Gu"
      },
      "execution_count": null,
      "outputs": []
    },
    {
      "cell_type": "markdown",
      "source": [
        "\n",
        "\n",
        "---\n",
        "\n",
        "\n",
        "\n",
        "---\n",
        "\n"
      ],
      "metadata": {
        "id": "C8TtysXOT32Z"
      }
    },
    {
      "cell_type": "markdown",
      "source": [
        "## Missense mutations form COSMIC cmc_export and CGI, with uniprot/ trembl ID + isoform info"
      ],
      "metadata": {
        "id": "CWNrIjS231bc"
      }
    },
    {
      "cell_type": "markdown",
      "source": [
        "\n",
        "Import - Filter\n",
        "\n",
        "\n",
        " For more info: Notes: 9 - 13/5/2022"
      ],
      "metadata": {
        "id": "HrtRdJXnL82j"
      }
    },
    {
      "cell_type": "markdown",
      "source": [
        "### RUN ONCE"
      ],
      "metadata": {
        "id": "ITs3ZCzYv56d"
      }
    },
    {
      "cell_type": "code",
      "source": [
        "cmc_all = pd.read_csv(\"/content/drive/MyDrive/my_colab/*2ndYear/cmc_export.csv\",  delimiter = '\\t') # COSMIC: cmc Tier 1,2,3, other mutations\n",
        "\n",
        "# Filter missense / silent / nonsense mutations\n",
        "missense = cmc_all[(cmc_all['Mutation Description AA'] == 'Substitution - Missense')]\n",
        "\n",
        "# creation of Tier1-2-3 mutations\n",
        "Tier1_2_3_missense = missense[(missense['MUTATION_SIGNIFICANCE_TIER'] == '1') \\\n",
        "                              | (missense['MUTATION_SIGNIFICANCE_TIER']== '2') \\\n",
        "                                       | (missense['MUTATION_SIGNIFICANCE_TIER']== '3')]\n",
        "\n",
        "# Exclude delins\n",
        "Tier1_2_3_missense = Tier1_2_3_missense.reset_index(drop=True)\n",
        "delins=0\n",
        "indices_to_excl = []\n",
        "for i, mut in Tier1_2_3_missense.iterrows():\n",
        "    string = mut['Mutation AA']\n",
        "    if 'delins' in string:\n",
        "      delins+=1\n",
        "      indices_to_excl.append(i)\n",
        "\n",
        "Tier1_2_3_missense = Tier1_2_3_missense.drop(Tier1_2_3_missense.index[indices_to_excl])                             "
      ],
      "metadata": {
        "colab": {
          "base_uri": "https://localhost:8080/"
        },
        "id": "KPwhLkBJMRtT",
        "outputId": "22bd83af-2f54-4bf2-9005-9aceba24e7a9"
      },
      "execution_count": null,
      "outputs": [
        {
          "output_type": "stream",
          "name": "stderr",
          "text": [
            "/usr/local/lib/python3.7/dist-packages/IPython/core/interactiveshell.py:2882: DtypeWarning: Columns (2,24,49,51) have mixed types.Specify dtype option on import or set low_memory=False.\n",
            "  exec(code_obj, self.user_global_ns, self.user_ns)\n"
          ]
        }
      ]
    },
    {
      "cell_type": "markdown",
      "source": [
        "Find isoforms. First compare with mart mapping. Then with mart old. If transcript found in mart_old, check if the AA orig is indead on the position of the mutation (since there is no Transcript Version on mart_old we have to be sure is the right transcript). If not found in neither mart mappings, uniprot download of isoform sequences and then keep the one that corresponds to gene_sequence from COSMIC "
      ],
      "metadata": {
        "id": "kWln10TuUDTx"
      }
    },
    {
      "cell_type": "code",
      "source": [
        "# Read transcript consensus (glioma_All_cosmic.ipynb)\n",
        "with open(\"/content/drive/MyDrive/my_colab/*2ndYear/transcript_sequences.csv\", 'rb') as fp:\n",
        "    gene_sequence = pickle.load(fp)"
      ],
      "metadata": {
        "id": "2YiPT5A9MRvc"
      },
      "execution_count": null,
      "outputs": []
    },
    {
      "cell_type": "code",
      "source": [
        "gene_protein_mapping = pd.read_csv(\"/content/drive/MyDrive/my_colab/3rdYear/datasets/gene_synonyms_uniprot.txt\", sep = '\\t')"
      ],
      "metadata": {
        "id": "8IrYpcxxpA1C"
      },
      "execution_count": null,
      "outputs": []
    },
    {
      "cell_type": "code",
      "source": [
        "gene_synonym_df = gene_protein_mapping[['UniProtKB/Swiss-Prot ID', 'Gene Synonym']]\n",
        "gene_synonym_df.dropna(inplace=True)\n",
        "# dropping ALL duplicate values\n",
        "gene_synonym_df =gene_synonym_df.drop_duplicates(subset ='Gene Synonym')\n",
        "gene_synonym_dict = gene_synonym_df.set_index('Gene Synonym').to_dict()"
      ],
      "metadata": {
        "colab": {
          "base_uri": "https://localhost:8080/"
        },
        "id": "kvS5oqo3hwCq",
        "outputId": "6fac11a8-256a-463d-bf5a-11e48d67dff8"
      },
      "execution_count": null,
      "outputs": [
        {
          "output_type": "stream",
          "name": "stderr",
          "text": [
            "/usr/local/lib/python3.7/dist-packages/pandas/util/_decorators.py:311: SettingWithCopyWarning: \n",
            "A value is trying to be set on a copy of a slice from a DataFrame\n",
            "\n",
            "See the caveats in the documentation: https://pandas.pydata.org/pandas-docs/stable/user_guide/indexing.html#returning-a-view-versus-a-copy\n",
            "  return func(*args, **kwargs)\n"
          ]
        }
      ]
    },
    {
      "cell_type": "code",
      "source": [
        "gene_df = gene_protein_mapping[['UniProtKB/Swiss-Prot ID', 'Gene name']]\n",
        "gene_df.dropna(inplace=True)\n",
        "# dropping ALL duplicate values\n",
        "gene_df =gene_df.drop_duplicates(subset ='Gene name')\n",
        "gene_dict = gene_df.set_index('Gene name').to_dict()"
      ],
      "metadata": {
        "colab": {
          "base_uri": "https://localhost:8080/"
        },
        "id": "PxugoCqYiyLs",
        "outputId": "fb6efdb9-1a2d-4cdb-a0f0-2ceea157a2c4"
      },
      "execution_count": null,
      "outputs": [
        {
          "output_type": "stream",
          "name": "stderr",
          "text": [
            "/usr/local/lib/python3.7/dist-packages/pandas/util/_decorators.py:311: SettingWithCopyWarning: \n",
            "A value is trying to be set on a copy of a slice from a DataFrame\n",
            "\n",
            "See the caveats in the documentation: https://pandas.pydata.org/pandas-docs/stable/user_guide/indexing.html#returning-a-view-versus-a-copy\n",
            "  return func(*args, **kwargs)\n"
          ]
        }
      ]
    },
    {
      "cell_type": "code",
      "source": [
        "Tier1_2_3_missense = Tier1_2_3_missense.reset_index(drop=True)\n",
        "transcript_not_found, delins, unknown_genes, count_test = 0, 0, 0, 0\n",
        "position, AA_orig, AA_targ, sequence, indices_to_excl, canonical, isoform_uniprot = [], [], [], [], [], [], []\n",
        "for i, mut in Tier1_2_3_missense.iterrows():\n",
        "\n",
        "  gene_name = mut['GENE_NAME']\n",
        "  string = mut['Mutation AA']    \n",
        "  pos_temp = int(string[3:-1])\n",
        "  wt_sequence = str(gene_sequence[mut['ACCESSION_NUMBER']])\n",
        "  \n",
        "  mut_seq = changeAAnew(gene_name, string[2], string[-1], pos_temp,wt_sequence)\n",
        "\n",
        "  if mut_seq is not None:\n",
        "    if '*' in mut_seq:\n",
        "      temp = mut_seq.split(\"*\")\n",
        "      mut_seq = temp[0]\n",
        "    \n",
        "    if gene_name in gene_dict['UniProtKB/Swiss-Prot ID']:\n",
        "      uniprot_canonical = gene_dict['UniProtKB/Swiss-Prot ID'][gene_name]\n",
        "      \n",
        "    elif gene_name in gene_synonym_dict['UniProtKB/Swiss-Prot ID']:\n",
        "      uniprot_canonical = gene_synonym_dict['UniProtKB/Swiss-Prot ID'][gene_name] \n",
        "      \n",
        "    else:\n",
        "      unknown_genes +=1\n",
        "      indices_to_excl.append(i)\n",
        "      continue\n",
        "\n",
        "    # load all transcript from uniprot and compare with the COSMIC transcript\n",
        "    all_transcripts = load_uniprot_fasta_all(uniprot_canonical)\n",
        "    count = 1\n",
        "    for isoform, transcript in enumerate(all_transcripts):\n",
        "\n",
        "      if transcript == wt_sequence:\n",
        "        isoform_name = uniprot_canonical+ '-' + str(isoform+1) \n",
        "        isoform_uniprot.append(isoform_name)\n",
        "        position.append(pos_temp)\n",
        "        AA_orig.append(string[2])\n",
        "        AA_targ.append(string[-1])\n",
        "        sequence.append(mut_seq) \n",
        "        break\n",
        "      else:\n",
        "        if len(all_transcripts) == count:\n",
        "          transcript_not_found +=1\n",
        "          indices_to_excl.append(i)\n",
        "        count+=1\n",
        "    \n",
        "  else:\n",
        "    indices_to_excl.append(i)\n"
      ],
      "metadata": {
        "colab": {
          "base_uri": "https://localhost:8080/"
        },
        "id": "hcsobpijgL-j",
        "outputId": "6da59ac9-1017-41b2-8546-e3635147cb61"
      },
      "execution_count": null,
      "outputs": [
        {
          "output_type": "stream",
          "name": "stdout",
          "text": [
            "in gene SRSF2 the original R, in position 95 not equal to: P\n",
            "in gene SRSF2 the original R, in position 95 not equal to: P\n",
            "in gene TP53 the original G, in position 248 not equal to: R\n",
            "in gene GATA1 the original G, in position 74 not equal to: V\n"
          ]
        }
      ]
    },
    {
      "cell_type": "code",
      "source": [
        "Tier1_2_3_missense = Tier1_2_3_missense.drop(Tier1_2_3_missense.index[indices_to_excl])\n",
        "Tier1_2_3_missense['position'] = position\n",
        "Tier1_2_3_missense['AA_orig'] = AA_orig\n",
        "Tier1_2_3_missense['AA_targ'] = AA_targ\n",
        "Tier1_2_3_missense['sequence'] = sequence # Mutated sequence\n",
        "Tier1_2_3_missense['uniprot'] = isoform_uniprot"
      ],
      "metadata": {
        "id": "izjijCmWoOFu"
      },
      "execution_count": null,
      "outputs": []
    },
    {
      "cell_type": "code",
      "source": [
        "# save mutations\n",
        "Tier1_2_3_missense.to_csv('/content/drive/MyDrive/my_colab/3rdYear/datasets/Tier1_2_3_missense_isoform.csv', index=False)"
      ],
      "metadata": {
        "id": "9Q7pqVusUNbt"
      },
      "execution_count": null,
      "outputs": []
    },
    {
      "cell_type": "code",
      "source": [
        "CGI_oncogenic_mut = pd.read_csv(\"/content/drive/MyDrive/my_colab/3rdYear/datasets/missense_nonsense_CGI_oncogenic_mut.csv\", sep = '\\t')\n",
        "print(len(CGI_oncogenic_mut))\n",
        "print(CGI_oncogenic_mut.head())"
      ],
      "metadata": {
        "colab": {
          "base_uri": "https://localhost:8080/"
        },
        "id": "0GK3--yGDKpI",
        "outputId": "3a1ddb10-2fd9-4e5e-f1b2-643137480912"
      },
      "execution_count": null,
      "outputs": [
        {
          "output_type": "stream",
          "name": "stdout",
          "text": [
            "5340\n",
            "   gene                 gdna  protein       transcript  context\n",
            "0  ABL1  chr9:g.133738306G>A  p.E236K  ENST00000318560  somatic\n",
            "1  ABL1  chr9:g.133738309A>G  p.M237V  ENST00000318560  somatic\n",
            "2  ABL1  chr9:g.133738325T>C  p.I242T  ENST00000318560  somatic\n",
            "3  ABL1  chr9:g.133738330A>G  p.M244V  ENST00000318560  somatic\n",
            "4  ABL1  chr9:g.133738340A>G  p.K247R  ENST00000318560  somatic\n"
          ]
        }
      ]
    },
    {
      "cell_type": "code",
      "source": [
        "CGI_oncogenic_missense = CGI_oncogenic_mut[~CGI_oncogenic_mut['protein'].str.contains('fs')]\n",
        "CGI_oncogenic_missense = CGI_oncogenic_missense[~CGI_oncogenic_missense['protein'].str.contains('del')]\n",
        "CGI_oncogenic_missense = CGI_oncogenic_missense[~CGI_oncogenic_missense['protein'].str.contains('_')]\n",
        "CGI_oncogenic_missense = CGI_oncogenic_missense[~CGI_oncogenic_missense['protein'].str.contains('dup')]"
      ],
      "metadata": {
        "id": "1ElUx-nvU7PJ"
      },
      "execution_count": null,
      "outputs": []
    },
    {
      "cell_type": "code",
      "source": [
        "len(CGI_oncogenic_missense)"
      ],
      "metadata": {
        "colab": {
          "base_uri": "https://localhost:8080/"
        },
        "id": "ihO2tUwbVgiU",
        "outputId": "b60b1af3-38db-49eb-9e3e-d3c66768affa"
      },
      "execution_count": null,
      "outputs": [
        {
          "output_type": "execute_result",
          "data": {
            "text/plain": [
              "3782"
            ]
          },
          "metadata": {},
          "execution_count": 39
        }
      ]
    },
    {
      "cell_type": "code",
      "source": [
        "# overlap between CGI and Tier1_2_3\n",
        "CGI_oncogenic_missense = CGI_oncogenic_missense.reset_index(drop=True)\n",
        "position, AA_orig, AA_targ = [], [], []\n",
        "for i, mut in CGI_oncogenic_missense.iterrows():\n",
        "  string = mut['protein']    \n",
        "  pos_temp = int(string[3:-1])\n",
        "\n",
        "  position.append(pos_temp)\n",
        "  AA_orig.append(string[2])\n",
        "  AA_targ.append(string[-1])\n",
        "CGI_oncogenic_missense['position'] = position\n",
        "CGI_oncogenic_missense['AA_orig'] = AA_orig\n",
        "CGI_oncogenic_missense['AA_targ'] = AA_targ\n",
        "\n",
        "overlap_mut = []\n",
        "for i, mut in CGI_oncogenic_missense.iterrows():\n",
        "  gene = mut['gene']\n",
        "  temp_df = Tier1_2_3_missense[Tier1_2_3_missense['GENE_NAME'] == gene ]\n",
        "  for j, temp in temp_df.iterrows():\n",
        "    if mut['position'] == temp['position'] and mut['AA_orig'] == temp['AA_orig']  and mut['AA_targ'] == temp['AA_targ'] :\n",
        "      overlap_mut.append(i)"
      ],
      "metadata": {
        "id": "UlcZ6s917XOg"
      },
      "execution_count": null,
      "outputs": []
    },
    {
      "cell_type": "code",
      "source": [
        "CGI_oncogenic_missense = CGI_oncogenic_missense.drop(CGI_oncogenic_missense.index[overlap_mut])"
      ],
      "metadata": {
        "id": "K3zYEfV2-SKS"
      },
      "execution_count": null,
      "outputs": []
    },
    {
      "cell_type": "code",
      "source": [
        "len(CGI_oncogenic_missense)"
      ],
      "metadata": {
        "colab": {
          "base_uri": "https://localhost:8080/"
        },
        "id": "Tdpafjwqx3CQ",
        "outputId": "d99e37e1-21ac-48c3-b77e-0b24b1f39d9c"
      },
      "execution_count": null,
      "outputs": [
        {
          "output_type": "execute_result",
          "data": {
            "text/plain": [
              "2693"
            ]
          },
          "metadata": {},
          "execution_count": 42
        }
      ]
    },
    {
      "cell_type": "code",
      "source": [
        "len(CGI_oncogenic_missense[CGI_oncogenic_missense['context'] == 'somatic'])"
      ],
      "metadata": {
        "colab": {
          "base_uri": "https://localhost:8080/"
        },
        "id": "zSU6z349WJuW",
        "outputId": "c0ca2b0d-e48c-4c30-c611-eedc33e85db9"
      },
      "execution_count": null,
      "outputs": [
        {
          "output_type": "execute_result",
          "data": {
            "text/plain": [
              "1708"
            ]
          },
          "metadata": {},
          "execution_count": 30
        }
      ]
    },
    {
      "cell_type": "code",
      "source": [
        "CGI_oncogenic_missense = CGI_oncogenic_missense.reset_index(drop=True)\n",
        "transcript_not_found, delins, unknown_genes, count_test =0, 0, 0, 0\n",
        "\n",
        "position, AA_orig, AA_targ, sequence, indices_to_excl, canonical, isoform_uniprot = [], [], [], [], [], [], []\n",
        "for i, mut in CGI_oncogenic_missense.iterrows():\n",
        "\n",
        "  gene_name = mut['gene']\n",
        "  string = mut['protein']    \n",
        "  pos_temp = int(string[3:-1])\n",
        "\n",
        "  # exclude nonsense mutations\n",
        "  if string[-1] == '*':\n",
        "    indices_to_excl.append(i)\n",
        "    continue\n",
        "\n",
        "  if gene_name in gene_dict['UniProtKB/Swiss-Prot ID']:\n",
        "    uniprot_canonical = gene_dict['UniProtKB/Swiss-Prot ID'][gene_name]\n",
        "    \n",
        "  elif gene_name in gene_synonym_dict['UniProtKB/Swiss-Prot ID']:\n",
        "    uniprot_canonical = gene_synonym_dict['UniProtKB/Swiss-Prot ID'][gene_name] \n",
        "    \n",
        "  else:\n",
        "    unknown_genes +=1\n",
        "    print(gene_name)\n",
        "    indices_to_excl.append(i)\n",
        "    continue\n",
        "\n",
        "  # load all transcript from uniprot and compare with the COSMIC transcript\n",
        "  all_transcripts = load_uniprot_fasta_all(uniprot_canonical)\n",
        "\n",
        "  count = 1\n",
        "  for isoform, transcript in enumerate(all_transcripts):\n",
        "\n",
        "    if pos_temp < len(transcript):\n",
        "\n",
        "      if transcript[pos_temp - 1] == string[2]:\n",
        "        isoform_name = uniprot_canonical+ '-' + str(isoform+1) \n",
        "        mut_seq = changeAAnew(gene_name, string[2], string[-1], pos_temp, transcript)\n",
        "        isoform_uniprot.append(isoform_name)\n",
        "        position.append(pos_temp)\n",
        "        AA_orig.append(string[2])\n",
        "        AA_targ.append(string[-1])\n",
        "        sequence.append(mut_seq) \n",
        "        break\n",
        "      else:\n",
        "        if len(all_transcripts) == count:\n",
        "          print('Different AA on position', mut, uniprot_canonical)\n",
        "          transcript_not_found +=1\n",
        "          indices_to_excl.append(i)\n",
        "        count+=1\n",
        "\n",
        "    else:\n",
        "      if len(all_transcripts) == count:\n",
        "        print('Mutations pos > length of transcript', mut, uniprot_canonical)\n",
        "        transcript_not_found +=1\n",
        "        indices_to_excl.append(i)\n",
        "      count+=1"
      ],
      "metadata": {
        "id": "ARVqbFGfH1LN",
        "colab": {
          "base_uri": "https://localhost:8080/",
          "height": 1000
        },
        "outputId": "12bed839-d2fc-409b-b102-383329b68306"
      },
      "execution_count": null,
      "outputs": [
        {
          "output_type": "stream",
          "name": "stdout",
          "text": [
            "Different AA on position gene                              EP300\n",
            "gdna          chr22:g.41564852_41564854\n",
            "protein                         p.C1385\n",
            "transcript              ENST00000263253\n",
            "context                         somatic\n",
            "position                            138\n",
            "AA_orig                               C\n",
            "AA_targ                               5\n",
            "Name: 978, dtype: object Q09472\n",
            "Different AA on position gene                              EP300\n",
            "gdna          chr22:g.41572350_41572352\n",
            "protein                         p.R1627\n",
            "transcript              ENST00000263253\n",
            "context                         somatic\n",
            "position                            162\n",
            "AA_orig                               R\n",
            "AA_targ                               7\n",
            "Name: 981, dtype: object Q09472\n",
            "Different AA on position gene                         GNAS\n",
            "gdna          chr20:g.57484420C>T\n",
            "protein                   p.R201C\n",
            "transcript        ENST00000371085\n",
            "context                   somatic\n",
            "position                      201\n",
            "AA_orig                         R\n",
            "AA_targ                         C\n",
            "Name: 1179, dtype: object O95467\n",
            "Different AA on position gene                         GNAS\n",
            "gdna          chr20:g.57484421G>A\n",
            "protein                   p.R201H\n",
            "transcript        ENST00000371085\n",
            "context                   somatic\n",
            "position                      201\n",
            "AA_orig                         R\n",
            "AA_targ                         H\n",
            "Name: 1180, dtype: object O95467\n",
            "Different AA on position gene                         GNAS\n",
            "gdna          chr20:g.57484421G>T\n",
            "protein                   p.R201L\n",
            "transcript        ENST00000371085\n",
            "context                   somatic\n",
            "position                      201\n",
            "AA_orig                         R\n",
            "AA_targ                         L\n",
            "Name: 1181, dtype: object O95467\n",
            "Different AA on position gene                         GNAS\n",
            "gdna          chr20:g.57484596A>G\n",
            "protein                   p.Q227R\n",
            "transcript        ENST00000371085\n",
            "context                   somatic\n",
            "position                      227\n",
            "AA_orig                         Q\n",
            "AA_targ                         R\n",
            "Name: 1182, dtype: object O95467\n",
            "Different AA on position gene                         GNAS\n",
            "gdna          chr20:g.57484596A>T\n",
            "protein                   p.Q227L\n",
            "transcript        ENST00000371085\n",
            "context                   somatic\n",
            "position                      227\n",
            "AA_orig                         Q\n",
            "AA_targ                         L\n",
            "Name: 1183, dtype: object O95467\n",
            "Different AA on position gene                       MUTYH\n",
            "gdna          chr1:g.45797174T>C\n",
            "protein                  p.Q414R\n",
            "transcript       ENST00000450313\n",
            "context                  somatic\n",
            "position                     414\n",
            "AA_orig                        Q\n",
            "AA_targ                        R\n",
            "Name: 1722, dtype: object Q9UIF7\n",
            "Different AA on position gene                       MUTYH\n",
            "gdna          chr1:g.45797228C>T\n",
            "protein                  p.G396D\n",
            "transcript       ENST00000450313\n",
            "context                 germline\n",
            "position                     396\n",
            "AA_orig                        G\n",
            "AA_targ                        D\n",
            "Name: 1725, dtype: object Q9UIF7\n",
            "Different AA on position gene                       MUTYH\n",
            "gdna          chr1:g.45797887G>A\n",
            "protein                  p.P295L\n",
            "transcript       ENST00000450313\n",
            "context                 germline\n",
            "position                     295\n",
            "AA_orig                        P\n",
            "AA_targ                        L\n",
            "Name: 1728, dtype: object Q9UIF7\n",
            "Different AA on position gene                       MUTYH\n",
            "gdna          chr1:g.45797914C>T\n",
            "protein                  p.G286E\n",
            "transcript       ENST00000450313\n",
            "context                 germline\n",
            "position                     286\n",
            "AA_orig                        G\n",
            "AA_targ                        E\n",
            "Name: 1729, dtype: object Q9UIF7\n",
            "Different AA on position gene                       MUTYH\n",
            "gdna          chr1:g.45798117C>T\n",
            "protein                  p.R245H\n",
            "transcript       ENST00000450313\n",
            "context                 germline\n",
            "position                     245\n",
            "AA_orig                        R\n",
            "AA_targ                        H\n",
            "Name: 1732, dtype: object Q9UIF7\n",
            "Different AA on position gene                       MUTYH\n",
            "gdna          chr1:g.45798118G>A\n",
            "protein                  p.R245C\n",
            "transcript       ENST00000450313\n",
            "context                 germline\n",
            "position                     245\n",
            "AA_orig                        R\n",
            "AA_targ                        C\n",
            "Name: 1733, dtype: object Q9UIF7\n",
            "Different AA on position gene                       MUTYH\n",
            "gdna          chr1:g.45798475T>C\n",
            "protein                  p.Y179C\n",
            "transcript       ENST00000450313\n",
            "context                 germline\n",
            "position                     179\n",
            "AA_orig                        Y\n",
            "AA_targ                        C\n",
            "Name: 1735, dtype: object Q9UIF7\n",
            "Different AA on position gene                       MUTYH\n",
            "gdna          chr1:g.45798840A>T\n",
            "protein                  p.W131R\n",
            "transcript       ENST00000450313\n",
            "context                 germline\n",
            "position                     131\n",
            "AA_orig                        W\n",
            "AA_targ                        R\n",
            "Name: 1737, dtype: object Q9UIF7\n",
            "Different AA on position gene                       MYD88\n",
            "gdna          chr3:g.38182641T>C\n",
            "protein                  p.L265P\n",
            "transcript       ENST00000396334\n",
            "context                  somatic\n",
            "position                     265\n",
            "AA_orig                        L\n",
            "AA_targ                        P\n",
            "Name: 1749, dtype: object Q99836\n"
          ]
        },
        {
          "output_type": "error",
          "ename": "KeyboardInterrupt",
          "evalue": "ignored",
          "traceback": [
            "\u001b[0;31m---------------------------------------------------------------------------\u001b[0m",
            "\u001b[0;31mTypeError\u001b[0m                                 Traceback (most recent call last)",
            "\u001b[0;32m/usr/local/lib/python3.7/dist-packages/urllib3/connectionpool.py\u001b[0m in \u001b[0;36m_make_request\u001b[0;34m(self, conn, method, url, timeout, chunked, **httplib_request_kw)\u001b[0m\n\u001b[1;32m    376\u001b[0m             \u001b[0;32mtry\u001b[0m\u001b[0;34m:\u001b[0m  \u001b[0;31m# Python 2.7, use buffering of HTTP responses\u001b[0m\u001b[0;34m\u001b[0m\u001b[0;34m\u001b[0m\u001b[0m\n\u001b[0;32m--> 377\u001b[0;31m                 \u001b[0mhttplib_response\u001b[0m \u001b[0;34m=\u001b[0m \u001b[0mconn\u001b[0m\u001b[0;34m.\u001b[0m\u001b[0mgetresponse\u001b[0m\u001b[0;34m(\u001b[0m\u001b[0mbuffering\u001b[0m\u001b[0;34m=\u001b[0m\u001b[0;32mTrue\u001b[0m\u001b[0;34m)\u001b[0m\u001b[0;34m\u001b[0m\u001b[0;34m\u001b[0m\u001b[0m\n\u001b[0m\u001b[1;32m    378\u001b[0m             \u001b[0;32mexcept\u001b[0m \u001b[0mTypeError\u001b[0m\u001b[0;34m:\u001b[0m  \u001b[0;31m# Python 3\u001b[0m\u001b[0;34m\u001b[0m\u001b[0;34m\u001b[0m\u001b[0m\n",
            "\u001b[0;31mTypeError\u001b[0m: getresponse() got an unexpected keyword argument 'buffering'",
            "\nDuring handling of the above exception, another exception occurred:\n",
            "\u001b[0;31mKeyboardInterrupt\u001b[0m                         Traceback (most recent call last)",
            "\u001b[0;32m<ipython-input-46-910d589ae331>\u001b[0m in \u001b[0;36m<module>\u001b[0;34m()\u001b[0m\n\u001b[1;32m     27\u001b[0m \u001b[0;34m\u001b[0m\u001b[0m\n\u001b[1;32m     28\u001b[0m   \u001b[0;31m# load all transcript from uniprot and compare with the COSMIC transcript\u001b[0m\u001b[0;34m\u001b[0m\u001b[0;34m\u001b[0m\u001b[0;34m\u001b[0m\u001b[0m\n\u001b[0;32m---> 29\u001b[0;31m   \u001b[0mall_transcripts\u001b[0m \u001b[0;34m=\u001b[0m \u001b[0mload_uniprot_fasta_all\u001b[0m\u001b[0;34m(\u001b[0m\u001b[0muniprot_canonical\u001b[0m\u001b[0;34m)\u001b[0m\u001b[0;34m\u001b[0m\u001b[0;34m\u001b[0m\u001b[0m\n\u001b[0m\u001b[1;32m     30\u001b[0m \u001b[0;34m\u001b[0m\u001b[0m\n\u001b[1;32m     31\u001b[0m   \u001b[0mcount\u001b[0m \u001b[0;34m=\u001b[0m \u001b[0;36m1\u001b[0m\u001b[0;34m\u001b[0m\u001b[0;34m\u001b[0m\u001b[0m\n",
            "\u001b[0;32m<ipython-input-4-acfb36411d79>\u001b[0m in \u001b[0;36mload_uniprot_fasta_all\u001b[0;34m(identifier)\u001b[0m\n\u001b[1;32m      1\u001b[0m \u001b[0;32mdef\u001b[0m \u001b[0mload_uniprot_fasta_all\u001b[0m\u001b[0;34m(\u001b[0m\u001b[0midentifier\u001b[0m\u001b[0;34m)\u001b[0m\u001b[0;34m:\u001b[0m \u001b[0;31m#loads fasta file for a given UniProt identifier\u001b[0m\u001b[0;34m\u001b[0m\u001b[0;34m\u001b[0m\u001b[0m\n\u001b[1;32m      2\u001b[0m     \u001b[0mlink\u001b[0m \u001b[0;34m=\u001b[0m \u001b[0;34m\"http://www.uniprot.org/uniprot/\"\u001b[0m \u001b[0;34m+\u001b[0m \u001b[0midentifier\u001b[0m \u001b[0;34m+\u001b[0m \u001b[0;34m\".fasta?include=yes\"\u001b[0m \u001b[0;31m# canonical & isoforms\u001b[0m\u001b[0;34m\u001b[0m\u001b[0;34m\u001b[0m\u001b[0m\n\u001b[0;32m----> 3\u001b[0;31m     \u001b[0mstr_data\u001b[0m \u001b[0;34m=\u001b[0m \u001b[0mrequests\u001b[0m\u001b[0;34m.\u001b[0m\u001b[0mget\u001b[0m\u001b[0;34m(\u001b[0m\u001b[0mlink\u001b[0m\u001b[0;34m)\u001b[0m\u001b[0;34m.\u001b[0m\u001b[0mcontent\u001b[0m\u001b[0;34m.\u001b[0m\u001b[0mdecode\u001b[0m\u001b[0;34m(\u001b[0m\u001b[0;34m'utf-8'\u001b[0m\u001b[0;34m)\u001b[0m\u001b[0;34m\u001b[0m\u001b[0;34m\u001b[0m\u001b[0m\n\u001b[0m\u001b[1;32m      4\u001b[0m     \u001b[0mfasta\u001b[0m \u001b[0;34m=\u001b[0m \u001b[0mstr_data\u001b[0m\u001b[0;34m.\u001b[0m\u001b[0msplit\u001b[0m\u001b[0;34m(\u001b[0m\u001b[0;34m'>'\u001b[0m\u001b[0;34m)\u001b[0m\u001b[0;34m\u001b[0m\u001b[0;34m\u001b[0m\u001b[0m\n\u001b[1;32m      5\u001b[0m     \u001b[0mfasta_all\u001b[0m\u001b[0;34m=\u001b[0m\u001b[0;34m[\u001b[0m\u001b[0;34m]\u001b[0m\u001b[0;34m\u001b[0m\u001b[0;34m\u001b[0m\u001b[0m\n",
            "\u001b[0;32m/usr/local/lib/python3.7/dist-packages/requests/api.py\u001b[0m in \u001b[0;36mget\u001b[0;34m(url, params, **kwargs)\u001b[0m\n\u001b[1;32m     74\u001b[0m \u001b[0;34m\u001b[0m\u001b[0m\n\u001b[1;32m     75\u001b[0m     \u001b[0mkwargs\u001b[0m\u001b[0;34m.\u001b[0m\u001b[0msetdefault\u001b[0m\u001b[0;34m(\u001b[0m\u001b[0;34m'allow_redirects'\u001b[0m\u001b[0;34m,\u001b[0m \u001b[0;32mTrue\u001b[0m\u001b[0;34m)\u001b[0m\u001b[0;34m\u001b[0m\u001b[0;34m\u001b[0m\u001b[0m\n\u001b[0;32m---> 76\u001b[0;31m     \u001b[0;32mreturn\u001b[0m \u001b[0mrequest\u001b[0m\u001b[0;34m(\u001b[0m\u001b[0;34m'get'\u001b[0m\u001b[0;34m,\u001b[0m \u001b[0murl\u001b[0m\u001b[0;34m,\u001b[0m \u001b[0mparams\u001b[0m\u001b[0;34m=\u001b[0m\u001b[0mparams\u001b[0m\u001b[0;34m,\u001b[0m \u001b[0;34m**\u001b[0m\u001b[0mkwargs\u001b[0m\u001b[0;34m)\u001b[0m\u001b[0;34m\u001b[0m\u001b[0;34m\u001b[0m\u001b[0m\n\u001b[0m\u001b[1;32m     77\u001b[0m \u001b[0;34m\u001b[0m\u001b[0m\n\u001b[1;32m     78\u001b[0m \u001b[0;34m\u001b[0m\u001b[0m\n",
            "\u001b[0;32m/usr/local/lib/python3.7/dist-packages/requests/api.py\u001b[0m in \u001b[0;36mrequest\u001b[0;34m(method, url, **kwargs)\u001b[0m\n\u001b[1;32m     59\u001b[0m     \u001b[0;31m# cases, and look like a memory leak in others.\u001b[0m\u001b[0;34m\u001b[0m\u001b[0;34m\u001b[0m\u001b[0;34m\u001b[0m\u001b[0m\n\u001b[1;32m     60\u001b[0m     \u001b[0;32mwith\u001b[0m \u001b[0msessions\u001b[0m\u001b[0;34m.\u001b[0m\u001b[0mSession\u001b[0m\u001b[0;34m(\u001b[0m\u001b[0;34m)\u001b[0m \u001b[0;32mas\u001b[0m \u001b[0msession\u001b[0m\u001b[0;34m:\u001b[0m\u001b[0;34m\u001b[0m\u001b[0;34m\u001b[0m\u001b[0m\n\u001b[0;32m---> 61\u001b[0;31m         \u001b[0;32mreturn\u001b[0m \u001b[0msession\u001b[0m\u001b[0;34m.\u001b[0m\u001b[0mrequest\u001b[0m\u001b[0;34m(\u001b[0m\u001b[0mmethod\u001b[0m\u001b[0;34m=\u001b[0m\u001b[0mmethod\u001b[0m\u001b[0;34m,\u001b[0m \u001b[0murl\u001b[0m\u001b[0;34m=\u001b[0m\u001b[0murl\u001b[0m\u001b[0;34m,\u001b[0m \u001b[0;34m**\u001b[0m\u001b[0mkwargs\u001b[0m\u001b[0;34m)\u001b[0m\u001b[0;34m\u001b[0m\u001b[0;34m\u001b[0m\u001b[0m\n\u001b[0m\u001b[1;32m     62\u001b[0m \u001b[0;34m\u001b[0m\u001b[0m\n\u001b[1;32m     63\u001b[0m \u001b[0;34m\u001b[0m\u001b[0m\n",
            "\u001b[0;32m/usr/local/lib/python3.7/dist-packages/requests/sessions.py\u001b[0m in \u001b[0;36mrequest\u001b[0;34m(self, method, url, params, data, headers, cookies, files, auth, timeout, allow_redirects, proxies, hooks, stream, verify, cert, json)\u001b[0m\n\u001b[1;32m    528\u001b[0m         }\n\u001b[1;32m    529\u001b[0m         \u001b[0msend_kwargs\u001b[0m\u001b[0;34m.\u001b[0m\u001b[0mupdate\u001b[0m\u001b[0;34m(\u001b[0m\u001b[0msettings\u001b[0m\u001b[0;34m)\u001b[0m\u001b[0;34m\u001b[0m\u001b[0;34m\u001b[0m\u001b[0m\n\u001b[0;32m--> 530\u001b[0;31m         \u001b[0mresp\u001b[0m \u001b[0;34m=\u001b[0m \u001b[0mself\u001b[0m\u001b[0;34m.\u001b[0m\u001b[0msend\u001b[0m\u001b[0;34m(\u001b[0m\u001b[0mprep\u001b[0m\u001b[0;34m,\u001b[0m \u001b[0;34m**\u001b[0m\u001b[0msend_kwargs\u001b[0m\u001b[0;34m)\u001b[0m\u001b[0;34m\u001b[0m\u001b[0;34m\u001b[0m\u001b[0m\n\u001b[0m\u001b[1;32m    531\u001b[0m \u001b[0;34m\u001b[0m\u001b[0m\n\u001b[1;32m    532\u001b[0m         \u001b[0;32mreturn\u001b[0m \u001b[0mresp\u001b[0m\u001b[0;34m\u001b[0m\u001b[0;34m\u001b[0m\u001b[0m\n",
            "\u001b[0;32m/usr/local/lib/python3.7/dist-packages/requests/sessions.py\u001b[0m in \u001b[0;36msend\u001b[0;34m(self, request, **kwargs)\u001b[0m\n\u001b[1;32m    641\u001b[0m \u001b[0;34m\u001b[0m\u001b[0m\n\u001b[1;32m    642\u001b[0m         \u001b[0;31m# Send the request\u001b[0m\u001b[0;34m\u001b[0m\u001b[0;34m\u001b[0m\u001b[0;34m\u001b[0m\u001b[0m\n\u001b[0;32m--> 643\u001b[0;31m         \u001b[0mr\u001b[0m \u001b[0;34m=\u001b[0m \u001b[0madapter\u001b[0m\u001b[0;34m.\u001b[0m\u001b[0msend\u001b[0m\u001b[0;34m(\u001b[0m\u001b[0mrequest\u001b[0m\u001b[0;34m,\u001b[0m \u001b[0;34m**\u001b[0m\u001b[0mkwargs\u001b[0m\u001b[0;34m)\u001b[0m\u001b[0;34m\u001b[0m\u001b[0;34m\u001b[0m\u001b[0m\n\u001b[0m\u001b[1;32m    644\u001b[0m \u001b[0;34m\u001b[0m\u001b[0m\n\u001b[1;32m    645\u001b[0m         \u001b[0;31m# Total elapsed time of the request (approximately)\u001b[0m\u001b[0;34m\u001b[0m\u001b[0;34m\u001b[0m\u001b[0;34m\u001b[0m\u001b[0m\n",
            "\u001b[0;32m/usr/local/lib/python3.7/dist-packages/requests/adapters.py\u001b[0m in \u001b[0;36msend\u001b[0;34m(self, request, stream, timeout, verify, cert, proxies)\u001b[0m\n\u001b[1;32m    447\u001b[0m                     \u001b[0mdecode_content\u001b[0m\u001b[0;34m=\u001b[0m\u001b[0;32mFalse\u001b[0m\u001b[0;34m,\u001b[0m\u001b[0;34m\u001b[0m\u001b[0;34m\u001b[0m\u001b[0m\n\u001b[1;32m    448\u001b[0m                     \u001b[0mretries\u001b[0m\u001b[0;34m=\u001b[0m\u001b[0mself\u001b[0m\u001b[0;34m.\u001b[0m\u001b[0mmax_retries\u001b[0m\u001b[0;34m,\u001b[0m\u001b[0;34m\u001b[0m\u001b[0;34m\u001b[0m\u001b[0m\n\u001b[0;32m--> 449\u001b[0;31m                     \u001b[0mtimeout\u001b[0m\u001b[0;34m=\u001b[0m\u001b[0mtimeout\u001b[0m\u001b[0;34m\u001b[0m\u001b[0;34m\u001b[0m\u001b[0m\n\u001b[0m\u001b[1;32m    450\u001b[0m                 )\n\u001b[1;32m    451\u001b[0m \u001b[0;34m\u001b[0m\u001b[0m\n",
            "\u001b[0;32m/usr/local/lib/python3.7/dist-packages/urllib3/connectionpool.py\u001b[0m in \u001b[0;36murlopen\u001b[0;34m(self, method, url, body, headers, retries, redirect, assert_same_host, timeout, pool_timeout, release_conn, chunked, body_pos, **response_kw)\u001b[0m\n\u001b[1;32m    598\u001b[0m                                                   \u001b[0mtimeout\u001b[0m\u001b[0;34m=\u001b[0m\u001b[0mtimeout_obj\u001b[0m\u001b[0;34m,\u001b[0m\u001b[0;34m\u001b[0m\u001b[0;34m\u001b[0m\u001b[0m\n\u001b[1;32m    599\u001b[0m                                                   \u001b[0mbody\u001b[0m\u001b[0;34m=\u001b[0m\u001b[0mbody\u001b[0m\u001b[0;34m,\u001b[0m \u001b[0mheaders\u001b[0m\u001b[0;34m=\u001b[0m\u001b[0mheaders\u001b[0m\u001b[0;34m,\u001b[0m\u001b[0;34m\u001b[0m\u001b[0;34m\u001b[0m\u001b[0m\n\u001b[0;32m--> 600\u001b[0;31m                                                   chunked=chunked)\n\u001b[0m\u001b[1;32m    601\u001b[0m \u001b[0;34m\u001b[0m\u001b[0m\n\u001b[1;32m    602\u001b[0m             \u001b[0;31m# If we're going to release the connection in ``finally:``, then\u001b[0m\u001b[0;34m\u001b[0m\u001b[0;34m\u001b[0m\u001b[0;34m\u001b[0m\u001b[0m\n",
            "\u001b[0;32m/usr/local/lib/python3.7/dist-packages/urllib3/connectionpool.py\u001b[0m in \u001b[0;36m_make_request\u001b[0;34m(self, conn, method, url, timeout, chunked, **httplib_request_kw)\u001b[0m\n\u001b[1;32m    378\u001b[0m             \u001b[0;32mexcept\u001b[0m \u001b[0mTypeError\u001b[0m\u001b[0;34m:\u001b[0m  \u001b[0;31m# Python 3\u001b[0m\u001b[0;34m\u001b[0m\u001b[0;34m\u001b[0m\u001b[0m\n\u001b[1;32m    379\u001b[0m                 \u001b[0;32mtry\u001b[0m\u001b[0;34m:\u001b[0m\u001b[0;34m\u001b[0m\u001b[0;34m\u001b[0m\u001b[0m\n\u001b[0;32m--> 380\u001b[0;31m                     \u001b[0mhttplib_response\u001b[0m \u001b[0;34m=\u001b[0m \u001b[0mconn\u001b[0m\u001b[0;34m.\u001b[0m\u001b[0mgetresponse\u001b[0m\u001b[0;34m(\u001b[0m\u001b[0;34m)\u001b[0m\u001b[0;34m\u001b[0m\u001b[0;34m\u001b[0m\u001b[0m\n\u001b[0m\u001b[1;32m    381\u001b[0m                 \u001b[0;32mexcept\u001b[0m \u001b[0mException\u001b[0m \u001b[0;32mas\u001b[0m \u001b[0me\u001b[0m\u001b[0;34m:\u001b[0m\u001b[0;34m\u001b[0m\u001b[0;34m\u001b[0m\u001b[0m\n\u001b[1;32m    382\u001b[0m                     \u001b[0;31m# Remove the TypeError from the exception chain in Python 3;\u001b[0m\u001b[0;34m\u001b[0m\u001b[0;34m\u001b[0m\u001b[0;34m\u001b[0m\u001b[0m\n",
            "\u001b[0;32m/usr/lib/python3.7/http/client.py\u001b[0m in \u001b[0;36mgetresponse\u001b[0;34m(self)\u001b[0m\n\u001b[1;32m   1371\u001b[0m         \u001b[0;32mtry\u001b[0m\u001b[0;34m:\u001b[0m\u001b[0;34m\u001b[0m\u001b[0;34m\u001b[0m\u001b[0m\n\u001b[1;32m   1372\u001b[0m             \u001b[0;32mtry\u001b[0m\u001b[0;34m:\u001b[0m\u001b[0;34m\u001b[0m\u001b[0;34m\u001b[0m\u001b[0m\n\u001b[0;32m-> 1373\u001b[0;31m                 \u001b[0mresponse\u001b[0m\u001b[0;34m.\u001b[0m\u001b[0mbegin\u001b[0m\u001b[0;34m(\u001b[0m\u001b[0;34m)\u001b[0m\u001b[0;34m\u001b[0m\u001b[0;34m\u001b[0m\u001b[0m\n\u001b[0m\u001b[1;32m   1374\u001b[0m             \u001b[0;32mexcept\u001b[0m \u001b[0mConnectionError\u001b[0m\u001b[0;34m:\u001b[0m\u001b[0;34m\u001b[0m\u001b[0;34m\u001b[0m\u001b[0m\n\u001b[1;32m   1375\u001b[0m                 \u001b[0mself\u001b[0m\u001b[0;34m.\u001b[0m\u001b[0mclose\u001b[0m\u001b[0;34m(\u001b[0m\u001b[0;34m)\u001b[0m\u001b[0;34m\u001b[0m\u001b[0;34m\u001b[0m\u001b[0m\n",
            "\u001b[0;32m/usr/lib/python3.7/http/client.py\u001b[0m in \u001b[0;36mbegin\u001b[0;34m(self)\u001b[0m\n\u001b[1;32m    317\u001b[0m         \u001b[0;31m# read until we get a non-100 response\u001b[0m\u001b[0;34m\u001b[0m\u001b[0;34m\u001b[0m\u001b[0;34m\u001b[0m\u001b[0m\n\u001b[1;32m    318\u001b[0m         \u001b[0;32mwhile\u001b[0m \u001b[0;32mTrue\u001b[0m\u001b[0;34m:\u001b[0m\u001b[0;34m\u001b[0m\u001b[0;34m\u001b[0m\u001b[0m\n\u001b[0;32m--> 319\u001b[0;31m             \u001b[0mversion\u001b[0m\u001b[0;34m,\u001b[0m \u001b[0mstatus\u001b[0m\u001b[0;34m,\u001b[0m \u001b[0mreason\u001b[0m \u001b[0;34m=\u001b[0m \u001b[0mself\u001b[0m\u001b[0;34m.\u001b[0m\u001b[0m_read_status\u001b[0m\u001b[0;34m(\u001b[0m\u001b[0;34m)\u001b[0m\u001b[0;34m\u001b[0m\u001b[0;34m\u001b[0m\u001b[0m\n\u001b[0m\u001b[1;32m    320\u001b[0m             \u001b[0;32mif\u001b[0m \u001b[0mstatus\u001b[0m \u001b[0;34m!=\u001b[0m \u001b[0mCONTINUE\u001b[0m\u001b[0;34m:\u001b[0m\u001b[0;34m\u001b[0m\u001b[0;34m\u001b[0m\u001b[0m\n\u001b[1;32m    321\u001b[0m                 \u001b[0;32mbreak\u001b[0m\u001b[0;34m\u001b[0m\u001b[0;34m\u001b[0m\u001b[0m\n",
            "\u001b[0;32m/usr/lib/python3.7/http/client.py\u001b[0m in \u001b[0;36m_read_status\u001b[0;34m(self)\u001b[0m\n\u001b[1;32m    278\u001b[0m \u001b[0;34m\u001b[0m\u001b[0m\n\u001b[1;32m    279\u001b[0m     \u001b[0;32mdef\u001b[0m \u001b[0m_read_status\u001b[0m\u001b[0;34m(\u001b[0m\u001b[0mself\u001b[0m\u001b[0;34m)\u001b[0m\u001b[0;34m:\u001b[0m\u001b[0;34m\u001b[0m\u001b[0;34m\u001b[0m\u001b[0m\n\u001b[0;32m--> 280\u001b[0;31m         \u001b[0mline\u001b[0m \u001b[0;34m=\u001b[0m \u001b[0mstr\u001b[0m\u001b[0;34m(\u001b[0m\u001b[0mself\u001b[0m\u001b[0;34m.\u001b[0m\u001b[0mfp\u001b[0m\u001b[0;34m.\u001b[0m\u001b[0mreadline\u001b[0m\u001b[0;34m(\u001b[0m\u001b[0m_MAXLINE\u001b[0m \u001b[0;34m+\u001b[0m \u001b[0;36m1\u001b[0m\u001b[0;34m)\u001b[0m\u001b[0;34m,\u001b[0m \u001b[0;34m\"iso-8859-1\"\u001b[0m\u001b[0;34m)\u001b[0m\u001b[0;34m\u001b[0m\u001b[0;34m\u001b[0m\u001b[0m\n\u001b[0m\u001b[1;32m    281\u001b[0m         \u001b[0;32mif\u001b[0m \u001b[0mlen\u001b[0m\u001b[0;34m(\u001b[0m\u001b[0mline\u001b[0m\u001b[0;34m)\u001b[0m \u001b[0;34m>\u001b[0m \u001b[0m_MAXLINE\u001b[0m\u001b[0;34m:\u001b[0m\u001b[0;34m\u001b[0m\u001b[0;34m\u001b[0m\u001b[0m\n\u001b[1;32m    282\u001b[0m             \u001b[0;32mraise\u001b[0m \u001b[0mLineTooLong\u001b[0m\u001b[0;34m(\u001b[0m\u001b[0;34m\"status line\"\u001b[0m\u001b[0;34m)\u001b[0m\u001b[0;34m\u001b[0m\u001b[0;34m\u001b[0m\u001b[0m\n",
            "\u001b[0;32m/usr/lib/python3.7/socket.py\u001b[0m in \u001b[0;36mreadinto\u001b[0;34m(self, b)\u001b[0m\n\u001b[1;32m    587\u001b[0m         \u001b[0;32mwhile\u001b[0m \u001b[0;32mTrue\u001b[0m\u001b[0;34m:\u001b[0m\u001b[0;34m\u001b[0m\u001b[0;34m\u001b[0m\u001b[0m\n\u001b[1;32m    588\u001b[0m             \u001b[0;32mtry\u001b[0m\u001b[0;34m:\u001b[0m\u001b[0;34m\u001b[0m\u001b[0;34m\u001b[0m\u001b[0m\n\u001b[0;32m--> 589\u001b[0;31m                 \u001b[0;32mreturn\u001b[0m \u001b[0mself\u001b[0m\u001b[0;34m.\u001b[0m\u001b[0m_sock\u001b[0m\u001b[0;34m.\u001b[0m\u001b[0mrecv_into\u001b[0m\u001b[0;34m(\u001b[0m\u001b[0mb\u001b[0m\u001b[0;34m)\u001b[0m\u001b[0;34m\u001b[0m\u001b[0;34m\u001b[0m\u001b[0m\n\u001b[0m\u001b[1;32m    590\u001b[0m             \u001b[0;32mexcept\u001b[0m \u001b[0mtimeout\u001b[0m\u001b[0;34m:\u001b[0m\u001b[0;34m\u001b[0m\u001b[0;34m\u001b[0m\u001b[0m\n\u001b[1;32m    591\u001b[0m                 \u001b[0mself\u001b[0m\u001b[0;34m.\u001b[0m\u001b[0m_timeout_occurred\u001b[0m \u001b[0;34m=\u001b[0m \u001b[0;32mTrue\u001b[0m\u001b[0;34m\u001b[0m\u001b[0;34m\u001b[0m\u001b[0m\n",
            "\u001b[0;31mKeyboardInterrupt\u001b[0m: "
          ]
        }
      ]
    },
    {
      "cell_type": "code",
      "source": [
        "CGI_oncogenic_missense = CGI_oncogenic_missense.drop(CGI_oncogenic_missense.index[indices_to_excl])\n",
        "CGI_oncogenic_missense['position'] = position\n",
        "CGI_oncogenic_missense['AA_orig'] = AA_orig\n",
        "CGI_oncogenic_missense['AA_targ'] = AA_targ\n",
        "CGI_oncogenic_missense['sequence'] = sequence\n",
        "CGI_oncogenic_missense['uniprot'] = isoform_uniprot"
      ],
      "metadata": {
        "id": "mvgBOwfWYLI4"
      },
      "execution_count": null,
      "outputs": []
    },
    {
      "cell_type": "code",
      "source": [
        "# save mutations\n",
        "CGI_oncogenic_missense.to_csv('/content/drive/MyDrive/my_colab/3rdYear/datasets/CGI_oncogenic_missense.csv', index=False)"
      ],
      "metadata": {
        "id": "5bav511orp62"
      },
      "execution_count": null,
      "outputs": []
    },
    {
      "cell_type": "markdown",
      "source": [
        "## Keep missense mutated sequences <= 2000 AA, save unique transcript in fasta files"
      ],
      "metadata": {
        "id": "k9GhmubtAnWe"
      }
    },
    {
      "cell_type": "code",
      "source": [
        "Tier1_2_3_missense = pd.read_csv(\"/content/drive/MyDrive/my_colab/3rdYear/datasets/Tier1_2_3_missense_isoform.csv\", usecols = ['GENE_NAME', 'ACCESSION_NUMBER', 'position', 'AA_orig', 'AA_targ', 'sequence', 'uniprot'])\n",
        "CGI_oncogenic_missense = pd.read_csv(\"/content/drive/MyDrive/my_colab/3rdYear/datasets/CGI_oncogenic_missense.csv\", usecols = ['gene', 'position', 'AA_orig', 'AA_targ', 'sequence', 'uniprot'])"
      ],
      "metadata": {
        "id": "Y3ifVBGGVA4D"
      },
      "execution_count": null,
      "outputs": []
    },
    {
      "cell_type": "code",
      "source": [
        "indices_to_excl = []\n",
        "Tier1_2_3_missense = Tier1_2_3_missense.reset_index(drop=True)\n",
        "CGI_oncogenic_missense = CGI_oncogenic_missense.reset_index(drop=True)\n",
        "for i, mut in Tier1_2_3_missense.iterrows():\n",
        "\n",
        "  if len(mut['sequence']) > 2000:\n",
        "    indices_to_excl.append(i)\n",
        "Tier1_2_3_missense = Tier1_2_3_missense.drop(Tier1_2_3_missense.index[indices_to_excl])\n",
        "\n",
        "indices_to_excl = []\n",
        "for i, mut in CGI_oncogenic_missense.iterrows():\n",
        "\n",
        "  if len(mut['sequence']) > 2000:\n",
        "    indices_to_excl.append(i)\n",
        "CGI_oncogenic_missense = CGI_oncogenic_missense.drop(CGI_oncogenic_missense.index[indices_to_excl])"
      ],
      "metadata": {
        "id": "FKLo3pEuSbRh"
      },
      "execution_count": null,
      "outputs": []
    },
    {
      "cell_type": "markdown",
      "source": [
        "Because of memory problem in Alphafold_batch, maximum protein length : 1500. For the (66 + 8) longer proteins, the VIBFold script in hydra was ran. Also, they were excluded by the input groups of Alphafold_batch in 3rdYear/datasets/mmseq2/ (after downloading the fasta file from datasets/fasta_Tier1_2_3_CGI_missense/)"
      ],
      "metadata": {
        "id": "omaWaWHLfSyq"
      }
    },
    {
      "cell_type": "code",
      "source": [
        "biggerthan = []\n",
        "for i, mut in Tier1_2_3_missense.iterrows():\n",
        "\n",
        "  if len(mut['sequence']) > 1500:\n",
        "    biggerthan.append(mut['uniprot'])\n",
        "\n",
        "biggerthan1 = []\n",
        "for i, mut in CGI_oncogenic_missense.iterrows():\n",
        "\n",
        "  if len(mut['sequence']) > 1500:\n",
        "    biggerthan1.append(mut['uniprot'])"
      ],
      "metadata": {
        "id": "UzKc45_favBM"
      },
      "execution_count": null,
      "outputs": []
    },
    {
      "cell_type": "code",
      "source": [
        "# Find unique uniprot transcripts\n",
        "Tier_trancript_list = list(Tier1_2_3_missense['uniprot'].unique())\n",
        "CGI_trancript_list = list(CGI_oncogenic_missense['uniprot'].unique())\n",
        "trancript_list = Tier_trancript_list + CGI_trancript_list\n",
        "trancript_list = set(trancript_list)"
      ],
      "metadata": {
        "id": "_HaEHZqnSbUT"
      },
      "execution_count": null,
      "outputs": []
    },
    {
      "cell_type": "code",
      "source": [
        "dict = {'uniprot isoform': trancript_list}  \n",
        "       \n",
        "df = pd.DataFrame(dict) \n",
        "    \n",
        "# saving the dataframe \n",
        "df.to_csv('/content/drive/MyDrive/my_colab/3rdYear/datasets/uniprot_isoform2000AA.csv') "
      ],
      "metadata": {
        "id": "e0O1aZKS076G"
      },
      "execution_count": null,
      "outputs": []
    },
    {
      "cell_type": "code",
      "source": [
        "Tier1_2_3_missense['label'] = [1]* len(Tier1_2_3_missense)        \n",
        "CGI_oncogenic_missense['label'] = [1]* len(CGI_oncogenic_missense)       \n",
        "\n",
        "# find and save WT (since I didnt think about it earlier :) )\n",
        "wt_sequence=[]\n",
        "for i, mut in Tier1_2_3_missense.iterrows():\n",
        "  wt_sequence.append(str(gene_sequence[mut['ACCESSION_NUMBER']]))\n",
        "Tier1_2_3_missense['WT_sequence'] = wt_sequence\n",
        "\n",
        "Tier1_2_3_temp = Tier1_2_3_missense[['uniprot', 'WT_sequence']]\n",
        "Tier1_2_3_WTseq_dict = Tier1_2_3_temp.set_index('uniprot').to_dict()\n",
        "\n",
        "wt_seq = []\n",
        "for i, mut in CGI_oncogenic_missense.iterrows():\n",
        "  mut_seq = mut['sequence']\n",
        "  wt_seq.append(changeAAnew(mut['gene'], mut['AA_targ'], mut['AA_orig'], mut['position'], mut_seq))\n",
        "CGI_oncogenic_missense['WT_sequence'] = wt_seq\n",
        "\n",
        "# save mutations\n",
        "Tier1_2_3_missense.to_csv('/content/drive/MyDrive/my_colab/3rdYear/datasets/Tier1_2_3_missense2000AA_isoform_WT.csv', index=False)\n",
        "# save mutations\n",
        "CGI_oncogenic_missense.to_csv('/content/drive/MyDrive/my_colab/3rdYear/datasets/CGI_oncogenic_missense2000AA_isoform_WT.csv', index=False)"
      ],
      "metadata": {
        "id": "FQ_chmmPYyG-"
      },
      "execution_count": null,
      "outputs": []
    },
    {
      "cell_type": "code",
      "source": [
        "CGI_temp = CGI_oncogenic_missense[['uniprot', 'WT_sequence']]\n",
        "CGI_WTseq_dict = CGI_temp.set_index('uniprot').to_dict()"
      ],
      "metadata": {
        "id": "lf47gB-ldfNR"
      },
      "execution_count": null,
      "outputs": []
    },
    {
      "cell_type": "code",
      "source": [
        "# save Transcripts sequence into fasta files\n",
        "alignment_path = '/content/drive/MyDrive/my_colab/3rdYear/datasets/fasta_Tier1_2_3_CGI_missense/'\n",
        "\n",
        "for i in trancript_list:\n",
        "  if i in Tier1_2_3_WTseq_dict['WT_sequence']:\n",
        "    wt = Tier1_2_3_WTseq_dict['WT_sequence'][i]\n",
        "  elif i in CGI_WTseq_dict['WT_sequence']:\n",
        "    wt = CGI_WTseq_dict['WT_sequence'][i]\n",
        "  fasta_file = open(alignment_path + str(i) + '.fasta', 'w')\n",
        "  fasta_file.write('>' + str(i) + \"\\n\" + wt )\n",
        "  fasta_file.close()"
      ],
      "metadata": {
        "id": "d-CowoPeVmWn"
      },
      "execution_count": null,
      "outputs": []
    },
    {
      "cell_type": "code",
      "source": [
        "len(trancript_list)"
      ],
      "metadata": {
        "colab": {
          "base_uri": "https://localhost:8080/"
        },
        "id": "CrfdizWPfH8J",
        "outputId": "38e360cb-c456-44ae-b118-309ca274587c"
      },
      "execution_count": null,
      "outputs": [
        {
          "output_type": "execute_result",
          "data": {
            "text/plain": [
              "993"
            ]
          },
          "metadata": {},
          "execution_count": 16
        }
      ]
    },
    {
      "cell_type": "code",
      "source": [
        "# save each 10 fasta sequences in different folders, ready for mmseq (AlphaFold2_batch.ipynb)\n",
        "parent_dir = '/content/drive/MyDrive/my_colab/3rdYear/datasets/mmseq2/'\n",
        "count = 0\n",
        "for fasta_file in os.listdir(alignment_path):\n",
        "  print(fasta_file)\n",
        "  if not os.path.exists(parent_dir + f'input_{int(count/10)}'):\n",
        "    os.mkdir(parent_dir + f'input_{int(count/10)}')\n",
        "  shutil.copy(alignment_path + fasta_file, parent_dir + f'input_{int(count/10)}')\n",
        "  count+=1"
      ],
      "metadata": {
        "colab": {
          "base_uri": "https://localhost:8080/"
        },
        "id": "ANmlfLfPjmgN",
        "outputId": "99a767fc-1763-497c-a1cd-f82f1ed5756a"
      },
      "execution_count": null,
      "outputs": [
        {
          "output_type": "stream",
          "name": "stdout",
          "text": [
            "A4D1F6-1.fasta\n",
            "O75475-1.fasta\n",
            "P04233-1.fasta\n",
            "P30281-1.fasta\n",
            "Q5SRI9-1.fasta\n",
            "Q86UR5-1.fasta\n",
            "P36897-1.fasta\n",
            "Q9ULS5-1.fasta\n",
            "Q96SL8-1.fasta\n",
            "Q32MK0-1.fasta\n",
            "Q8N136-1.fasta\n",
            "Q92889-1.fasta\n",
            "Q8NEK8-1.fasta\n",
            "O00255-1.fasta\n",
            "O75344-1.fasta\n",
            "Q3LI73-1.fasta\n",
            "O95302-1.fasta\n",
            "Q96A98-1.fasta\n",
            "P24347-1.fasta\n",
            "Q2M329-1.fasta\n",
            "P32243-2.fasta\n",
            "Q8WV37-1.fasta\n",
            "Q9P2K8-1.fasta\n",
            "P54803-1.fasta\n",
            "Q6ZMC9-1.fasta\n",
            "P00519-1.fasta\n",
            "Q9NYA1-2.fasta\n",
            "P31314-1.fasta\n",
            "Q2TAZ0-1.fasta\n",
            "P05141-1.fasta\n",
            "P21912-1.fasta\n",
            "Q8NG06-1.fasta\n",
            "Q9NX18-1.fasta\n",
            "P37173-2.fasta\n",
            "Q9BYR4-1.fasta\n",
            "P29508-1.fasta\n",
            "Q9Y5Y0-1.fasta\n",
            "P14210-1.fasta\n",
            "P05412-1.fasta\n",
            "Q9BXJ2-2.fasta\n",
            "Q9UHL4-1.fasta\n",
            "Q9H7D0-1.fasta\n",
            "Q5VTJ3-1.fasta\n",
            "Q9BTP6-1.fasta\n",
            "Q8N7X4-1.fasta\n",
            "Q9BXL7-1.fasta\n",
            "Q5T124-1.fasta\n",
            "Q8N5M9-1.fasta\n",
            "Q9UMS4-1.fasta\n",
            "O15069-1.fasta\n",
            "O43791-1.fasta\n",
            "Q2TAM9-1.fasta\n",
            "Q00888-1.fasta\n",
            "P05556-1.fasta\n",
            "P07492-1.fasta\n",
            "Q15047-1.fasta\n",
            "Q99612-1.fasta\n",
            "O43166-1.fasta\n",
            "Q9UHD2-1.fasta\n",
            "Q6UUV9-2.fasta\n",
            "Q9UHC6-1.fasta\n",
            "O60674-1.fasta\n",
            "P16871-1.fasta\n",
            "Q6BEB4-1.fasta\n",
            "Q16832-1.fasta\n",
            "P07949-1.fasta\n",
            "Q9UKQ2-1.fasta\n",
            "Q14498-1.fasta\n",
            "Q9NPC8-1.fasta\n",
            "Q01804-3.fasta\n",
            "Q9HCS7-1.fasta\n",
            "Q9UPN9-1.fasta\n",
            "Q9Y5R6-1.fasta\n",
            "Q96A11-1.fasta\n",
            "O60566-1.fasta\n",
            "Q5EBL2-1.fasta\n",
            "O60243-1.fasta\n",
            "Q8NBF1-1.fasta\n",
            "Q9BXC1-1.fasta\n",
            "Q15796-1.fasta\n",
            "Q9Y334-1.fasta\n",
            "Q9Y6A9-1.fasta\n",
            "Q9UER7-1.fasta\n",
            "O75022-3.fasta\n",
            "Q969H0-1.fasta\n",
            "Q9H7P9-1.fasta\n",
            "Q9BYQ9-1.fasta\n",
            "P53618-1.fasta\n",
            "Q12952-1.fasta\n",
            "Q641Q2-1.fasta\n",
            "Q92466-1.fasta\n",
            "Q9NYA4-1.fasta\n",
            "O43474-2.fasta\n",
            "Q8N972-1.fasta\n",
            "Q96BJ8-3.fasta\n",
            "Q05655-1.fasta\n",
            "Q8TE68-1.fasta\n",
            "O75290-3.fasta\n",
            "P36888-1.fasta\n",
            "Q03112-4.fasta\n",
            "P14222-1.fasta\n",
            "P09619-1.fasta\n",
            "Q9UDT6-1.fasta\n",
            "P41002-1.fasta\n",
            "P51654-1.fasta\n",
            "P27540-1.fasta\n",
            "P10914-1.fasta\n",
            "A8MXZ3-1.fasta\n",
            "Q96P48-1.fasta\n",
            "Q02413-1.fasta\n",
            "Q99835-1.fasta\n",
            "P55287-1.fasta\n",
            "O60391-1.fasta\n",
            "Q9BWE0-2.fasta\n",
            "Q52MB2-1.fasta\n",
            "Q9BYQ4-1.fasta\n",
            "Q9GZT9-1.fasta\n",
            "Q96CM4-1.fasta\n",
            "P04198-1.fasta\n",
            "Q9UKK3-1.fasta\n",
            "Q0D2K2-1.fasta\n",
            "P03372-1.fasta\n",
            "O75064-1.fasta\n",
            "P10415-1.fasta\n",
            "Q9NVF9-1.fasta\n",
            "P59044-1.fasta\n",
            "P01112-1.fasta\n",
            "P11464-4.fasta\n",
            "O00750-1.fasta\n",
            "Q8IWZ4-1.fasta\n",
            "B2RU33-1.fasta\n",
            "P40763-1.fasta\n",
            "Q96B96-1.fasta\n",
            "Q9UK05-1.fasta\n",
            "Q9NXG6-3.fasta\n",
            "P26640-1.fasta\n",
            "P42771-1.fasta\n",
            "Q86V20-1.fasta\n",
            "P41212-1.fasta\n",
            "Q02548-1.fasta\n",
            "Q9BR84-1.fasta\n",
            "Q8NE71-1.fasta\n",
            "P59537-1.fasta\n",
            "P53621-2.fasta\n",
            "Q01860-1.fasta\n",
            "Q9Y2L1-1.fasta\n",
            "Q96EG3-1.fasta\n",
            "Q8NGK9-1.fasta\n",
            "Q9BYR2-1.fasta\n",
            "Q01955-1.fasta\n",
            "P04899-1.fasta\n",
            "O75677-1.fasta\n",
            "Q5JPI9-1.fasta\n",
            "Q12772-1.fasta\n",
            "P31751-1.fasta\n",
            "P10275-1.fasta\n",
            "P48735-1.fasta\n",
            "Q15910-1.fasta\n",
            "P36894-1.fasta\n",
            "Q8N653-1.fasta\n",
            "P15170-3.fasta\n",
            "O14746-1.fasta\n",
            "P26232-2.fasta\n",
            "P12980-1.fasta\n",
            "Q14982-1.fasta\n",
            "O60500-1.fasta\n",
            "Q8NGL9-1.fasta\n",
            "P40238-1.fasta\n",
            "Q9UIW2-1.fasta\n",
            "Q2TAC6-1.fasta\n",
            "O95460-2.fasta\n",
            "Q92698-1.fasta\n",
            "Q53T59-1.fasta\n",
            "Q9NX45-3.fasta\n",
            "P43699-2.fasta\n",
            "P82987-1.fasta\n",
            "O95948-1.fasta\n",
            "P0CG39-1.fasta\n",
            "P41180-2.fasta\n",
            "P40259-3.fasta\n",
            "Q99708-1.fasta\n",
            "P35125-1.fasta\n",
            "Q06609-4.fasta\n",
            "Q70Z35-1.fasta\n",
            "Q9BXT6-1.fasta\n",
            "Q5XX13-1.fasta\n",
            "Q15746-1.fasta\n",
            "P38398-1.fasta\n",
            "Q8N196-1.fasta\n",
            "Q15818-1.fasta\n",
            "Q96NX9-1.fasta\n",
            "Q93009-1.fasta\n",
            "Q9HBI0-1.fasta\n",
            "P63000-2.fasta\n",
            "P21802-3.fasta\n",
            "Q9UNW1-1.fasta\n",
            "Q9UIF7-1.fasta\n",
            "Q15726-1.fasta\n",
            "O14757-1.fasta\n",
            "Q9ULV0-1.fasta\n",
            "P21860-1.fasta\n",
            "Q9HCL2-1.fasta\n",
            "Q9BQ51-1.fasta\n",
            "O95081-1.fasta\n",
            "Q9NRB3-1.fasta\n",
            "P10242-4.fasta\n",
            "O15297-1.fasta\n",
            "O43692-1.fasta\n",
            "Q9H0J4-1.fasta\n",
            "Q96CH1-1.fasta\n",
            "Q8TD31-2.fasta\n",
            "Q13224-1.fasta\n",
            "P11309-1.fasta\n",
            "Q8TEK3-1.fasta\n",
            "P23327-1.fasta\n",
            "Q7Z3U7-1.fasta\n",
            "P43246-1.fasta\n",
            "Q7Z7M1-1.fasta\n",
            "Q9NX05-1.fasta\n",
            "O00459-1.fasta\n",
            "Q9Y5W8-2.fasta\n",
            "Q9GZT5-1.fasta\n",
            "Q9NT99-1.fasta\n",
            "A2RTX5-1.fasta\n",
            "P48544-1.fasta\n",
            "Q15198-1.fasta\n",
            "Q15208-1.fasta\n",
            "O60336-1.fasta\n",
            "Q8N1F7-1.fasta\n",
            "Q96R47-1.fasta\n",
            "Q9Y5P1-1.fasta\n",
            "Q9BSI4-1.fasta\n",
            "A8MVX0-2.fasta\n",
            "Q96AE4-1.fasta\n",
            "O96017-9.fasta\n",
            "P60484-1.fasta\n",
            "P05023-4.fasta\n",
            "Q13464-1.fasta\n",
            "Q9BX51-1.fasta\n",
            "Q8WUR7-3.fasta\n",
            "P42338-1.fasta\n",
            "Q9NZB2-1.fasta\n",
            "Q9HB96-1.fasta\n",
            "Q08AG5-1.fasta\n",
            "O15527-4.fasta\n",
            "Q92560-1.fasta\n",
            "Q9ULV3-1.fasta\n",
            "Q9Y6X9-2.fasta\n",
            "A6NCI4-1.fasta\n",
            "O00329-1.fasta\n",
            "Q99487-1.fasta\n",
            "P49321-1.fasta\n",
            "Q9NQ76-1.fasta\n",
            "Q5W0A0-1.fasta\n",
            "Q00973-1.fasta\n",
            "Q9BXB4-1.fasta\n",
            "O14654-1.fasta\n",
            "P0CI25-1.fasta\n",
            "Q9H7R5-1.fasta\n",
            "O15234-1.fasta\n",
            "Q9NR28-1.fasta\n",
            "Q13017-1.fasta\n",
            "P31431-1.fasta\n",
            "Q92839-1.fasta\n",
            "Q9NYF8-1.fasta\n",
            "P40337-1.fasta\n",
            "Q8WW24-1.fasta\n",
            "O14521-1.fasta\n",
            "P18074-1.fasta\n",
            "P15056-1.fasta\n",
            "Q5T2S8-1.fasta\n",
            "A6NCQ9-1.fasta\n",
            "Q8NE62-1.fasta\n",
            "Q96C34-1.fasta\n",
            "Q6Y7W6-2.fasta\n",
            "B0YJ81-1.fasta\n",
            "P12755-1.fasta\n",
            "P38936-1.fasta\n",
            "O94985-1.fasta\n",
            "Q66K74-1.fasta\n",
            "Q8NGV6-1.fasta\n",
            "Q8IYX4-1.fasta\n",
            "Q15369-1.fasta\n",
            "P23771-2.fasta\n",
            "P68104-1.fasta\n",
            "Q96KT7-1.fasta\n",
            "P58012-1.fasta\n",
            "Q99062-3.fasta\n",
            "Q9UKV8-1.fasta\n",
            "Q96FC9-1.fasta\n",
            "P19878-1.fasta\n",
            "P24387-1.fasta\n",
            "Q9BQI6-1.fasta\n",
            "Q9Y4Z2-1.fasta\n",
            "O95206-1.fasta\n",
            "P51817-1.fasta\n",
            "A6NHP3-1.fasta\n",
            "P22607-2.fasta\n",
            "Q8N7U7-1.fasta\n",
            "Q13887-1.fasta\n",
            "P01111-1.fasta\n",
            "Q9H2Y7-1.fasta\n",
            "Q96JC4-1.fasta\n",
            "Q9UPY3-1.fasta\n",
            "Q6L8G4-1.fasta\n",
            "Q8TBC5-3.fasta\n",
            "Q6W2J9-1.fasta\n",
            "Q9UHB7-1.fasta\n",
            "Q6NUM9-1.fasta\n",
            "Q9Y252-1.fasta\n",
            "P10071-1.fasta\n",
            "P22681-1.fasta\n",
            "Q96BF3-1.fasta\n",
            "P15559-1.fasta\n",
            "P08574-1.fasta\n",
            "Q9NQB0-7.fasta\n",
            "Q86YH6-1.fasta\n",
            "P07332-1.fasta\n",
            "Q13510-2.fasta\n",
            "Q01628-1.fasta\n",
            "P29317-1.fasta\n",
            "Q969G3-1.fasta\n",
            "P16383-1.fasta\n",
            "Q5THR3-1.fasta\n",
            "O96028-1.fasta\n",
            "Q9BZG2-1.fasta\n",
            "O43451-2.fasta\n",
            "Q9HB09-1.fasta\n",
            "Q02161-1.fasta\n",
            "Q02846-1.fasta\n",
            "Q8NGD0-1.fasta\n",
            "Q15059-1.fasta\n",
            "P37023-1.fasta\n",
            "Q86VR7-1.fasta\n",
            "P52179-1.fasta\n",
            "Q5IJ48-1.fasta\n",
            "O60269-1.fasta\n",
            "Q9BSH5-1.fasta\n",
            "O14893-1.fasta\n",
            "Q5T5S1-1.fasta\n",
            "P18858-1.fasta\n",
            "Q9H6X5-1.fasta\n",
            "P07954-1.fasta\n",
            "P23769-1.fasta\n",
            "Q5SZI1-1.fasta\n",
            "Q06124-1.fasta\n",
            "Q8NGN5-1.fasta\n",
            "P49286-1.fasta\n",
            "Q5C9Z4-1.fasta\n",
            "Q01518-1.fasta\n",
            "P10398-1.fasta\n",
            "Q9BXP8-1.fasta\n",
            "P14061-1.fasta\n",
            "O43502-1.fasta\n",
            "Q9BRU9-1.fasta\n",
            "Q6S8J3-1.fasta\n",
            "Q96EY8-1.fasta\n",
            "Q8TAY7-1.fasta\n",
            "Q96P69-1.fasta\n",
            "Q8TD19-1.fasta\n",
            "Q96BI1-1.fasta\n",
            "Q0VD83-1.fasta\n",
            "P59542-1.fasta\n",
            "Q96NY7-2.fasta\n",
            "P49683-1.fasta\n",
            "O00206-1.fasta\n",
            "P22004-1.fasta\n",
            "Q96A08-1.fasta\n",
            "Q96HA7-1.fasta\n",
            "P15976-1.fasta\n",
            "Q9NSC5-1.fasta\n",
            "Q01081-1.fasta\n",
            "O15303-1.fasta\n",
            "Q0VGE8-1.fasta\n",
            "Q9NZM5-1.fasta\n",
            "Q96SW2-1.fasta\n",
            "Q99988-1.fasta\n",
            "Q9UJA3-1.fasta\n",
            "Q6ZMY9-1.fasta\n",
            "O95251-1.fasta\n",
            "Q9BZJ0-1.fasta\n",
            "Q9BX63-1.fasta\n",
            "Q9UHY8-2.fasta\n",
            "P41250-1.fasta\n",
            "P42226-1.fasta\n",
            "Q08211-1.fasta\n",
            "O14522-1.fasta\n",
            "P22455-1.fasta\n",
            "Q9BXS0-1.fasta\n",
            "P46527-1.fasta\n",
            "Q5SSG8-1.fasta\n",
            "P35222-1.fasta\n",
            "P21452-1.fasta\n",
            "A2A288-1.fasta\n",
            "Q01629-1.fasta\n",
            "P26715-1.fasta\n",
            "Q01196-8.fasta\n",
            "Q13478-1.fasta\n",
            "Q8IYB1-1.fasta\n",
            "P40692-1.fasta\n",
            "Q7RTX9-1.fasta\n",
            "Q6IF00-1.fasta\n",
            "Q6ZN30-1.fasta\n",
            "P04440-1.fasta\n",
            "Q86UU0-1.fasta\n",
            "Q8IV48-1.fasta\n",
            "P49711-1.fasta\n",
            "P16403-1.fasta\n",
            "Q14191-1.fasta\n",
            "Q9BSJ2-3.fasta\n",
            "Q96K83-1.fasta\n",
            "Q99728-1.fasta\n",
            "O94929-1.fasta\n",
            "Q9Y468-1.fasta\n",
            "Q14D33-1.fasta\n",
            "P52701-1.fasta\n",
            "Q8TC84-1.fasta\n",
            "P51692-1.fasta\n",
            "P78357-1.fasta\n",
            "Q8NGF9-1.fasta\n",
            "Q13635-1.fasta\n",
            "Q10571-1.fasta\n",
            "P00533-1.fasta\n",
            "Q6AI12-1.fasta\n",
            "O43181-1.fasta\n",
            "Q8NHY5-1.fasta\n",
            "Q96RI0-1.fasta\n",
            "Q9BWS9-2.fasta\n",
            "P37231-1.fasta\n",
            "P13671-1.fasta\n",
            "Q86UP2-1.fasta\n",
            "Q9NZH6-1.fasta\n",
            "Q96JQ2-1.fasta\n",
            "Q16821-1.fasta\n",
            "Q8NFG4-1.fasta\n",
            "O00411-1.fasta\n",
            "P68871-1.fasta\n",
            "O15553-1.fasta\n",
            "P20936-1.fasta\n",
            "Q13698-1.fasta\n",
            "Q8NGY0-1.fasta\n",
            "A6NH11-1.fasta\n",
            "P26374-1.fasta\n",
            "P51689-1.fasta\n",
            "Q76B58-1.fasta\n",
            "Q68DY1-1.fasta\n",
            "P15812-1.fasta\n",
            "Q14145-1.fasta\n",
            "Q96N87-1.fasta\n",
            "Q969V6-1.fasta\n",
            "Q4V339-1.fasta\n",
            "O00192-1.fasta\n",
            "Q9Y2P5-1.fasta\n",
            "A6NJL1-1.fasta\n",
            "P0C263-1.fasta\n",
            "Q8NBJ4-1.fasta\n",
            "Q2M1P5-1.fasta\n",
            "Q5TYW1-1.fasta\n",
            "O43861-1.fasta\n",
            "O94885-1.fasta\n",
            "Q96CG8-1.fasta\n",
            "O43543-1.fasta\n",
            "Q5VT25-5.fasta\n",
            "Q9HCN6-3.fasta\n",
            "Q6L8H4-1.fasta\n",
            "P78411-1.fasta\n",
            "O75899-1.fasta\n",
            "Q5SY16-1.fasta\n",
            "Q09MP3-1.fasta\n",
            "Q13477-1.fasta\n",
            "P60331-1.fasta\n",
            "Q01105-1.fasta\n",
            "Q8WV24-1.fasta\n",
            "Q9NQV7-1.fasta\n",
            "Q7Z7F0-1.fasta\n",
            "P43365-1.fasta\n",
            "Q15303-1.fasta\n",
            "P05549-1.fasta\n",
            "Q13177-1.fasta\n",
            "Q96GE9-2.fasta\n",
            "Q12809-1.fasta\n",
            "O60504-1.fasta\n",
            "P29323-1.fasta\n",
            "O15360-1.fasta\n",
            "Q9H0P0-1.fasta\n",
            "Q12778-1.fasta\n",
            "O15031-1.fasta\n",
            "P35968-1.fasta\n",
            "Q9H1A4-1.fasta\n",
            "P14651-1.fasta\n",
            "P11802-1.fasta\n",
            "Q8IX15-1.fasta\n",
            "P49815-1.fasta\n",
            "Q8N8J7-1.fasta\n",
            "Q8IZJ1-1.fasta\n",
            "Q96JH8-1.fasta\n",
            "B7ZBB8-1.fasta\n",
            "Q8NGX0-1.fasta\n",
            "P56180-1.fasta\n",
            "Q70SY1-1.fasta\n",
            "Q8NA66-1.fasta\n",
            "Q6VVB1-1.fasta\n",
            "P58335-1.fasta\n",
            "Q9UIF7-5.fasta\n",
            "Q86TI0-1.fasta\n",
            "O14715-1.fasta\n",
            "P82930-1.fasta\n",
            "P41182-1.fasta\n",
            "Q6ZWL3-1.fasta\n",
            "O75388-1.fasta\n",
            "P08151-1.fasta\n",
            "P30260-2.fasta\n",
            "Q9UPT8-1.fasta\n",
            "Q9C0K7-1.fasta\n",
            "Q6PL45-2.fasta\n",
            "Q05209-1.fasta\n",
            "Q8NHH1-1.fasta\n",
            "Q04771-1.fasta\n",
            "P15923-1.fasta\n",
            "Q96G46-1.fasta\n",
            "Q96T92-1.fasta\n",
            "Q13351-1.fasta\n",
            "Q9P0J0-1.fasta\n",
            "P52736-2.fasta\n",
            "P53420-1.fasta\n",
            "P29322-1.fasta\n",
            "Q9H161-1.fasta\n",
            "Q96PI1-1.fasta\n",
            "Q969P6-1.fasta\n",
            "Q9ULL8-1.fasta\n",
            "Q96MR6-2.fasta\n",
            "Q9Y238-1.fasta\n",
            "Q15053-1.fasta\n",
            "P42336-1.fasta\n",
            "Q99961-1.fasta\n",
            "Q9UJT2-1.fasta\n",
            "O14980-1.fasta\n",
            "Q5T160-1.fasta\n",
            "Q15022-1.fasta\n",
            "P00325-1.fasta\n",
            "P12830-1.fasta\n",
            "P31271-1.fasta\n",
            "O00358-1.fasta\n",
            "Q15910-2.fasta\n",
            "P41229-1.fasta\n",
            "Q8TEX9-1.fasta\n",
            "P78364-1.fasta\n",
            "Q2T9J0-1.fasta\n",
            "Q96QB1-1.fasta\n",
            "Q71F23-1.fasta\n",
            "Q66K79-1.fasta\n",
            "P51532-1.fasta\n",
            "Q99814-1.fasta\n",
            "Q86V71-1.fasta\n",
            "Q6ZS82-1.fasta\n",
            "Q7RTY5-1.fasta\n",
            "Q96B70-1.fasta\n",
            "Q9H0F5-1.fasta\n",
            "Q13634-1.fasta\n",
            "Q92572-1.fasta\n",
            "O00592-1.fasta\n",
            "Q6UXD5-1.fasta\n",
            "Q8N350-2.fasta\n",
            "Q6ZN28-1.fasta\n",
            "O60741-1.fasta\n",
            "P03971-1.fasta\n",
            "P52333-1.fasta\n",
            "P36021-1.fasta\n",
            "P35869-1.fasta\n",
            "O60880-1.fasta\n",
            "Q96MG8-1.fasta\n",
            "O95382-1.fasta\n",
            "Q7Z404-1.fasta\n",
            "Q9H2S5-1.fasta\n",
            "Q8NC74-1.fasta\n",
            "P06756-1.fasta\n",
            "O14798-1.fasta\n",
            "Q14865-1.fasta\n",
            "Q9ULK4-1.fasta\n",
            "A4D1S0-1.fasta\n",
            "Q9UP52-1.fasta\n",
            "P11362-8.fasta\n",
            "P11142-1.fasta\n",
            "Q6ZVH7-1.fasta\n",
            "P49715-1.fasta\n",
            "Q15365-1.fasta\n",
            "P29400-2.fasta\n",
            "O94761-1.fasta\n",
            "Q149M9-3.fasta\n",
            "Q14993-1.fasta\n",
            "Q14432-1.fasta\n",
            "Q5SZB4-1.fasta\n",
            "Q6PIZ9-1.fasta\n",
            "Q6IF63-1.fasta\n",
            "Q3KP66-2.fasta\n",
            "Q15475-1.fasta\n",
            "Q86V15-1.fasta\n",
            "Q8NFJ8-1.fasta\n",
            "Q96NW4-1.fasta\n",
            "Q9NZT2-1.fasta\n",
            "Q99678-1.fasta\n",
            "Q14839-1.fasta\n",
            "Q12788-1.fasta\n",
            "Q9BV99-1.fasta\n",
            "P30153-1.fasta\n",
            "P31749-1.fasta\n",
            "Q8TEW8-2.fasta\n",
            "Q96MT1-5.fasta\n",
            "O60309-1.fasta\n",
            "Q15468-2.fasta\n",
            "P11362-21.fasta\n",
            "Q8WYQ5-1.fasta\n",
            "Q9H9V9-1.fasta\n",
            "P25791-2.fasta\n",
            "B3KS81-1.fasta\n",
            "Q5DID0-2.fasta\n",
            "Q96SZ5-1.fasta\n",
            "P17813-1.fasta\n",
            "Q9BY08-1.fasta\n",
            "Q9H0E9-1.fasta\n",
            "Q9Y6N6-1.fasta\n",
            "Q07283-1.fasta\n",
            "Q8NGB6-1.fasta\n",
            "Q8TDM0-1.fasta\n",
            "P41143-1.fasta\n",
            "P22607-1.fasta\n",
            "Q96MT7-1.fasta\n",
            "Q9Y6K1-1.fasta\n",
            "P04439-1.fasta\n",
            "P19793-1.fasta\n",
            "Q05481-1.fasta\n",
            "Q7Z3Z4-1.fasta\n",
            "Q8IZL2-1.fasta\n",
            "Q9H334-1.fasta\n",
            "P61244-1.fasta\n",
            "Q6UXC1-2.fasta\n",
            "Q8TF39-1.fasta\n",
            "P54132-1.fasta\n",
            "P22670-1.fasta\n",
            "Q9H306-1.fasta\n",
            "Q96NU7-1.fasta\n",
            "Q9Y448-1.fasta\n",
            "P15172-1.fasta\n",
            "Q9NVX2-1.fasta\n",
            "Q9NRM7-1.fasta\n",
            "P68431-1.fasta\n",
            "Q15382-1.fasta\n",
            "Q01130-1.fasta\n",
            "Q92636-2.fasta\n",
            "Q96T17-2.fasta\n",
            "Q92963-1.fasta\n",
            "P78545-1.fasta\n",
            "O95907-1.fasta\n",
            "Q86SH2-1.fasta\n",
            "Q01459-1.fasta\n",
            "Q15437-1.fasta\n",
            "Q92574-1.fasta\n",
            "P24752-1.fasta\n",
            "P07202-1.fasta\n",
            "Q6PCB5-1.fasta\n",
            "P04626-1.fasta\n",
            "O95665-1.fasta\n",
            "A6NGR9-1.fasta\n",
            "Q7Z745-1.fasta\n",
            "Q07889-1.fasta\n",
            "A6NEF3-1.fasta\n",
            "Q16559-1.fasta\n",
            "P35240-1.fasta\n",
            "Q9UJU2-1.fasta\n",
            "O15151-1.fasta\n",
            "Q9UDV6-1.fasta\n",
            "Q8N4B5-1.fasta\n",
            "P55197-1.fasta\n",
            "P38398-7.fasta\n",
            "Q8N7R1-1.fasta\n",
            "Q12870-1.fasta\n",
            "Q6PD74-1.fasta\n",
            "Q86XP0-1.fasta\n",
            "P29692-2.fasta\n",
            "Q16236-1.fasta\n",
            "Q8WWF5-1.fasta\n",
            "Q16288-1.fasta\n",
            "O60832-1.fasta\n",
            "Q6NT46-1.fasta\n",
            "P35659-1.fasta\n",
            "P48304-1.fasta\n",
            "Q05639-1.fasta\n",
            "P24534-1.fasta\n",
            "Q5BKX6-3.fasta\n",
            "Q9H9P8-1.fasta\n",
            "P41970-1.fasta\n",
            "Q9UKM9-1.fasta\n",
            "Q9Y6K5-1.fasta\n",
            "Q9UM73-1.fasta\n",
            "O14965-1.fasta\n",
            "Q9UGI6-1.fasta\n",
            "B4DX44-1.fasta\n",
            "Q9UPS8-1.fasta\n",
            "O00257-1.fasta\n",
            "Q9NQ94-4.fasta\n",
            "P29375-1.fasta\n",
            "O14920-1.fasta\n",
            "Q9UHC1-1.fasta\n",
            "Q9NZ71-6.fasta\n",
            "Q4UJ75-1.fasta\n",
            "Q6ZMQ8-1.fasta\n",
            "Q8N6G5-1.fasta\n",
            "Q8NH83-1.fasta\n",
            "Q8N7U6-1.fasta\n",
            "O95394-3.fasta\n",
            "P43268-1.fasta\n",
            "Q9NX40-1.fasta\n",
            "Q6XPS3-1.fasta\n",
            "A1L443-1.fasta\n",
            "Q96LC7-1.fasta\n",
            "Q8IX12-1.fasta\n",
            "Q12913-1.fasta\n",
            "Q9Y5Y4-1.fasta\n",
            "Q9HC10-1.fasta\n",
            "Q6UXI7-4.fasta\n",
            "Q8N7Z2-1.fasta\n",
            "Q13569-1.fasta\n",
            "Q9H3D4-1.fasta\n",
            "P23508-2.fasta\n",
            "Q8IZQ8-3.fasta\n",
            "Q9BX10-1.fasta\n",
            "A0PJX4-1.fasta\n",
            "P31270-1.fasta\n",
            "P06400-1.fasta\n",
            "Q5VW22-2.fasta\n",
            "Q8N0Y3-1.fasta\n",
            "Q9Y345-1.fasta\n",
            "Q6PI73-1.fasta\n",
            "Q8NBK3-1.fasta\n",
            "Q03169-1.fasta\n",
            "P17612-1.fasta\n",
            "Q68DX3-1.fasta\n",
            "Q9BY77-1.fasta\n",
            "Q9H6I2-1.fasta\n",
            "Q99856-1.fasta\n",
            "Q9UNA1-1.fasta\n",
            "Q96RK0-1.fasta\n",
            "Q9BQ52-1.fasta\n",
            "Q7L1V2-1.fasta\n",
            "Q9Y5I2-1.fasta\n",
            "Q8TBZ5-1.fasta\n",
            "Q9NRP7-1.fasta\n",
            "P50479-1.fasta\n",
            "P00519-2.fasta\n",
            "P00505-1.fasta\n",
            "P36507-1.fasta\n",
            "Q13485-1.fasta\n",
            "O00294-1.fasta\n",
            "P48436-1.fasta\n",
            "Q6PJF5-1.fasta\n",
            "Q3SY46-1.fasta\n",
            "Q8IUR0-1.fasta\n",
            "Q96ED9-1.fasta\n",
            "P49959-1.fasta\n",
            "Q8NGN6-1.fasta\n",
            "Q5T440-1.fasta\n",
            "Q96NT1-1.fasta\n",
            "P16885-1.fasta\n",
            "Q14CN4-1.fasta\n",
            "O00144-1.fasta\n",
            "P35916-1.fasta\n",
            "P07333-1.fasta\n",
            "Q86YJ5-1.fasta\n",
            "A6NIR3-1.fasta\n",
            "Q0P6D6-1.fasta\n",
            "P30154-2.fasta\n",
            "Q9BQS8-1.fasta\n",
            "P23468-1.fasta\n",
            "Q07812-2.fasta\n",
            "Q9Y4P8-1.fasta\n",
            "P20648-1.fasta\n",
            "Q8N309-1.fasta\n",
            "Q13003-1.fasta\n",
            "Q9H3S7-1.fasta\n",
            "P40926-1.fasta\n",
            "Q9BXA9-1.fasta\n",
            "Q9Y6D9-1.fasta\n",
            "Q5MCW4-1.fasta\n",
            "P84022-1.fasta\n",
            "Q5TCY1-1.fasta\n",
            "Q9UL62-1.fasta\n",
            "P17035-1.fasta\n",
            "P21802-1.fasta\n",
            "Q9UJ90-1.fasta\n",
            "Q9BUG6-1.fasta\n",
            "Q9BZJ3-1.fasta\n",
            "O95503-1.fasta\n",
            "P01034-1.fasta\n",
            "Q86VD1-1.fasta\n",
            "P04629-1.fasta\n",
            "P04264-1.fasta\n",
            "Q9Y4D7-1.fasta\n",
            "P11388-1.fasta\n",
            "P28482-1.fasta\n",
            "P15918-1.fasta\n",
            "Q9GZV5-1.fasta\n",
            "P06213-1.fasta\n",
            "Q9H334-3.fasta\n",
            "P51681-1.fasta\n",
            "P01106-1.fasta\n",
            "B7Z6K7-1.fasta\n",
            "O94851-2.fasta\n",
            "Q76NI1-1.fasta\n",
            "Q12864-1.fasta\n",
            "Q08881-1.fasta\n",
            "Q7Z2K8-1.fasta\n",
            "Q9UQ84-1.fasta\n",
            "Q07627-1.fasta\n",
            "O43847-2.fasta\n",
            "P52948-5.fasta\n",
            "Q13568-2.fasta\n",
            "Q9BUD6-1.fasta\n",
            "A8MT33-1.fasta\n",
            "P54257-2.fasta\n",
            "Q6IFN5-1.fasta\n",
            "P31277-1.fasta\n",
            "Q9BYT3-1.fasta\n",
            "O60732-1.fasta\n",
            "Q8NAG6-1.fasta\n",
            "Q13618-1.fasta\n",
            "Q9UQ13-1.fasta\n",
            "Q96PX6-1.fasta\n",
            "Q15286-1.fasta\n",
            "A6NHQ4-1.fasta\n",
            "Q13233-1.fasta\n",
            "Q8NCW5-1.fasta\n",
            "Q53T94-1.fasta\n",
            "Q02750-1.fasta\n",
            "P28715-1.fasta\n",
            "O75030-9.fasta\n",
            "Q8TAX7-1.fasta\n",
            "P49753-1.fasta\n",
            "P29279-1.fasta\n",
            "P53582-1.fasta\n",
            "Q9UHC7-1.fasta\n",
            "P13164-1.fasta\n",
            "P46439-1.fasta\n",
            "O43361-1.fasta\n",
            "Q9NS75-1.fasta\n",
            "P54253-1.fasta\n",
            "Q15124-1.fasta\n",
            "Q6VMQ6-1.fasta\n",
            "Q5TAA0-1.fasta\n",
            "Q9Y6X0-1.fasta\n",
            "O75533-1.fasta\n",
            "P30622-1.fasta\n",
            "Q9H211-1.fasta\n",
            "Q9NTI2-1.fasta\n",
            "P52746-1.fasta\n",
            "Q9HC73-1.fasta\n",
            "P78524-1.fasta\n",
            "P11836-1.fasta\n",
            "O75828-1.fasta\n",
            "O95999-1.fasta\n",
            "Q16665-3.fasta\n",
            "P43146-1.fasta\n",
            "Q9UK53-1.fasta\n",
            "Q9ULC8-3.fasta\n",
            "P29323-3.fasta\n",
            "P59923-1.fasta\n",
            "Q6UXH1-5.fasta\n",
            "Q1W6H9-1.fasta\n",
            "P54278-1.fasta\n",
            "P78347-1.fasta\n",
            "Q8NGA8-1.fasta\n",
            "Q6IF82-1.fasta\n",
            "P33981-1.fasta\n",
            "Q2TAL6-1.fasta\n",
            "Q8NCV1-2.fasta\n",
            "O95678-1.fasta\n",
            "P10721-1.fasta\n",
            "Q15306-1.fasta\n",
            "P19174-2.fasta\n",
            "Q9NRR2-1.fasta\n",
            "P24385-1.fasta\n",
            "Q96GE5-1.fasta\n",
            "P42772-1.fasta\n",
            "Q9HCE5-1.fasta\n",
            "Q8N9R8-2.fasta\n",
            "P04049-1.fasta\n",
            "Q15393-1.fasta\n",
            "P08069-1.fasta\n",
            "Q9NQW5-1.fasta\n",
            "Q02080-1.fasta\n",
            "Q9Y620-1.fasta\n",
            "O43147-2.fasta\n",
            "P08581-2.fasta\n",
            "P11940-1.fasta\n",
            "Q16654-1.fasta\n",
            "Q16385-2.fasta\n",
            "Q9NZC7-1.fasta\n",
            "P60709-1.fasta\n",
            "Q14331-1.fasta\n",
            "P42771-4.fasta\n",
            "Q06187-1.fasta\n",
            "Q9BYQ8-1.fasta\n",
            "O60518-1.fasta\n",
            "P09871-1.fasta\n",
            "Q6ZMB5-1.fasta\n",
            "Q6PEW1-1.fasta\n",
            "O43240-1.fasta\n",
            "Q4G176-1.fasta\n",
            "Q9Y6C5-1.fasta\n",
            "Q9BZM5-1.fasta\n",
            "P01106-2.fasta\n",
            "P04637-1.fasta\n",
            "O00410-3.fasta\n",
            "P40818-1.fasta\n",
            "Q7Z4J2-1.fasta\n",
            "Q92600-1.fasta\n",
            "P01116-1.fasta\n",
            "P55317-1.fasta\n",
            "P62070-1.fasta\n",
            "Q9BXY4-1.fasta\n",
            "Q6NZ36-1.fasta\n",
            "P31994-1.fasta\n",
            "Q9HAU5-1.fasta\n",
            "P51522-1.fasta\n",
            "Q9HBB8-1.fasta\n",
            "P63000-1.fasta\n",
            "Q0VAK6-1.fasta\n",
            "Q5SRR4-1.fasta\n",
            "Q9Y691-1.fasta\n",
            "Q9Y210-1.fasta\n",
            "O95843-1.fasta\n",
            "Q92622-1.fasta\n",
            "O75874-1.fasta\n",
            "Q92834-6.fasta\n",
            "Q9BYQ6-1.fasta\n",
            "Q9NS26-1.fasta\n",
            "P19338-1.fasta\n",
            "P42684-1.fasta\n",
            "Q9BYS1-1.fasta\n",
            "Q96R30-1.fasta\n",
            "P45985-1.fasta\n",
            "Q96IQ9-2.fasta\n",
            "Q8IVG5-1.fasta\n",
            "Q96HA1-3.fasta\n",
            "Q50LG9-1.fasta\n",
            "P60368-1.fasta\n",
            "O43680-1.fasta\n",
            "Q9UIL4-1.fasta\n",
            "O75325-1.fasta\n",
            "A6NED2-1.fasta\n",
            "Q8WYQ9-1.fasta\n",
            "P62873-1.fasta\n",
            "P49842-1.fasta\n",
            "P29992-1.fasta\n",
            "Q15742-1.fasta\n",
            "P49902-1.fasta\n",
            "P62745-1.fasta\n",
            "Q9HAZ2-1.fasta\n",
            "A6NKT7-1.fasta\n",
            "Q99062-1.fasta\n",
            "P40189-1.fasta\n",
            "O76039-2.fasta\n",
            "Q8NEA6-2.fasta\n",
            "Q92851-1.fasta\n",
            "Q96KV7-1.fasta\n",
            "P55283-1.fasta\n",
            "P62269-1.fasta\n",
            "P32248-1.fasta\n",
            "Q9Y3X0-1.fasta\n",
            "P02750-1.fasta\n",
            "Q08397-1.fasta\n",
            "O95153-1.fasta\n",
            "O15550-1.fasta\n",
            "Q9BYE2-5.fasta\n",
            "P16410-1.fasta\n",
            "Q8IYL9-1.fasta\n",
            "P0CI26-1.fasta\n",
            "Q08AD1-3.fasta\n",
            "P11474-1.fasta\n",
            "P51460-2.fasta\n",
            "Q5T2E6-1.fasta\n",
            "Q13585-1.fasta\n",
            "P82279-1.fasta\n",
            "P07900-2.fasta\n",
            "Q01831-1.fasta\n",
            "Q4VXU2-1.fasta\n",
            "Q9Y243-1.fasta\n",
            "P32942-1.fasta\n",
            "Q01726-1.fasta\n",
            "P29376-1.fasta\n",
            "Q13516-1.fasta\n",
            "O95573-1.fasta\n",
            "Q86SG6-1.fasta\n",
            "P49336-1.fasta\n",
            "P55211-1.fasta\n",
            "Q8NA61-1.fasta\n",
            "Q9BYQ5-1.fasta\n",
            "P30084-1.fasta\n",
            "P25940-1.fasta\n",
            "P61586-1.fasta\n",
            "Q8IXF9-1.fasta\n",
            "P54756-1.fasta\n",
            "Q5HY64-1.fasta\n",
            "P42768-1.fasta\n",
            "A6NP61-1.fasta\n",
            "P55042-1.fasta\n",
            "A6NLC5-1.fasta\n",
            "Q13231-1.fasta\n",
            "Q9P227-1.fasta\n",
            "Q86YC2-1.fasta\n",
            "Q8IZD4-1.fasta\n",
            "Q86UE4-1.fasta\n",
            "Q15831-1.fasta\n",
            "Q9NYV4-1.fasta\n",
            "C9JR72-1.fasta\n",
            "A6NDP7-1.fasta\n",
            "Q9H9J4-2.fasta\n",
            "P29033-1.fasta\n",
            "Q9H201-1.fasta\n",
            "Q6ZTR5-2.fasta\n",
            "A6ND91-1.fasta\n",
            "Q9UN72-1.fasta\n",
            "O60224-1.fasta\n",
            "Q14344-1.fasta\n",
            "Q12756-3.fasta\n",
            "Q9UQ26-8.fasta\n",
            "Q9BXW9-2.fasta\n",
            "E9PKD4-1.fasta\n",
            "Q96JA1-1.fasta\n",
            "P23458-1.fasta\n",
            "P17693-1.fasta\n",
            "Q8N394-1.fasta\n",
            "Q9Y261-2.fasta\n",
            "Q92826-1.fasta\n",
            "Q96P66-1.fasta\n",
            "Q9NVC6-1.fasta\n",
            "Q15003-1.fasta\n",
            "O43251-8.fasta\n",
            "O96017-1.fasta\n",
            "O00512-1.fasta\n",
            "P50148-1.fasta\n",
            "P16234-1.fasta\n",
            "O43345-1.fasta\n",
            "P34931-1.fasta\n",
            "Q8N8C0-2.fasta\n",
            "Q8TER5-1.fasta\n",
            "P27986-1.fasta\n",
            "Q14974-1.fasta\n",
            "Q9P0K1-1.fasta\n",
            "O00743-3.fasta\n",
            "Q8TF76-1.fasta\n",
            "Q9P283-4.fasta\n",
            "Q9UPP2-1.fasta\n",
            "Q9H4I2-1.fasta\n",
            "Q9Y250-1.fasta\n",
            "Q9ULL4-2.fasta\n",
            "P25445-1.fasta\n",
            "Q9NPR9-1.fasta\n",
            "O95633-1.fasta\n",
            "P31040-1.fasta\n",
            "P84243-1.fasta\n",
            "Q8WW01-1.fasta\n",
            "Q9NUV7-1.fasta\n",
            "O75437-1.fasta\n"
          ]
        }
      ]
    },
    {
      "cell_type": "markdown",
      "source": [
        "## Benign mutations for Uniprot ID that I have for deleterious"
      ],
      "metadata": {
        "id": "K0w-JKv0ELz-"
      }
    },
    {
      "cell_type": "markdown",
      "source": [
        "Find how many deleterious mutations I have per uniprot id. Add the same amount of mutations from humsavar"
      ],
      "metadata": {
        "id": "T-UjyGKcB8jN"
      }
    },
    {
      "cell_type": "code",
      "source": [
        "humsavar = pd.read_csv('/content/drive/MyDrive/my_colab/*2ndYear/humsavar_1221_neut.csv')\n",
        "\n",
        "trancript_list = list(trancript_list)\n",
        "wt_sequences, mut_sequences, uniprot_list, AA_orig_list, AA_targ_list, position_list = [], [], [], [], [], []\n",
        "for uniprot in trancript_list:\n",
        "\n",
        "  tier = Tier1_2_3_missense[Tier1_2_3_missense['uniprot'] == uniprot]\n",
        "  CGI = CGI_oncogenic_missense[CGI_oncogenic_missense['uniprot'] == uniprot]\n",
        "  if len(tier) > 0 :\n",
        "    wt_sequence = tier.iloc[0]['WT_sequence']\n",
        "  else:\n",
        "    wt_sequence = CGI.iloc[0]['WT_sequence']\n",
        "  nb_tier = len(tier)\n",
        "  nb_CGI= len(CGI)\n",
        "  nb_del = nb_tier + nb_CGI\n",
        "\n",
        "  temp= humsavar[humsavar['Protein'] == uniprot[:-2]]\n",
        "\n",
        "  for i, mut in temp.iterrows():\n",
        "    AA_orig = AAconvert(mut['Mutation'][2:5])\n",
        "    AA_targ = AAconvert(mut['Mutation'][-3:])\n",
        "    position = int(mut['Mutation'][5:-3])\n",
        "    if position <= len(wt_sequence):\n",
        "      if wt_sequence[position - 1] == AA_orig:\n",
        "        wt_sequences.append(wt_sequence)\n",
        "        mut_sequences.append(changeAAnew(uniprot, AA_orig, AA_targ, position, wt_sequence))\n",
        "        uniprot_list.append(uniprot)\n",
        "        AA_orig_list.append(AA_orig)\n",
        "        AA_targ_list.append(AA_targ)\n",
        "        position_list.append(position)\n",
        "\n",
        "# select 2000 benign more that dont exist in Tier or CGI Missense\n",
        "\n",
        "for i, mut in humsavar.iterrows():\n",
        "  if i >1500:\n",
        "    break\n",
        "  if mut['Protein'] not in trancript_list:\n",
        "        wt_sequences.append(wt_sequence)\n",
        "        mut_sequences.append(changeAAnew(uniprot, AA_orig, AA_targ, position, wt_sequence))\n",
        "        uniprot_list.append(uniprot)\n",
        "        AA_orig_list.append(AA_orig)\n",
        "        AA_targ_list.append(AA_targ)\n",
        "        position_list.append(position)\n",
        "\n",
        "\n",
        "benign = pd.DataFrame(list(zip(uniprot_list, wt_sequences, mut_sequences, AA_orig_list, position_list, AA_targ_list)),\n",
        "               columns =['uniprot id', 'WT_sequence', 'mut_sequence', 'A_orig_list', 'position_list', 'AA_targ_list'])\n",
        "\n",
        "\n",
        "benign['label'] = [0]* len(benign)      "
      ],
      "metadata": {
        "id": "sVyT143PP2Cy"
      },
      "execution_count": null,
      "outputs": []
    },
    {
      "cell_type": "code",
      "source": [
        "len(benign)"
      ],
      "metadata": {
        "colab": {
          "base_uri": "https://localhost:8080/"
        },
        "id": "f2KeYZgeePl3",
        "outputId": "dec735b2-bbea-435c-bcc1-798994245e17"
      },
      "execution_count": null,
      "outputs": [
        {
          "output_type": "execute_result",
          "data": {
            "text/plain": [
              "5301"
            ]
          },
          "metadata": {},
          "execution_count": 108
        }
      ]
    },
    {
      "cell_type": "code",
      "source": [
        "# save mutations\n",
        "benign.to_csv('/content/drive/MyDrive/my_colab/3rdYear/datasets/humsavar2000AA_isoform_WT.csv', index=False)"
      ],
      "metadata": {
        "id": "vjlr9kzRhyJd"
      },
      "execution_count": null,
      "outputs": []
    },
    {
      "cell_type": "markdown",
      "source": [
        "## Analysis of mutations present in missense Dataset"
      ],
      "metadata": {
        "id": "w3IBOaOT1cIu"
      }
    },
    {
      "cell_type": "code",
      "source": [
        "Tier1_2_3_missense = pd.read_csv(\"/content/drive/MyDrive/my_colab/3rdYear/datasets/Tier1_2_3_missense_isoform.csv\", usecols = ['GENE_NAME', 'ACCESSION_NUMBER', 'position', 'AA_orig', 'AA_targ', 'sequence', 'uniprot'])\n",
        "CGI_oncogenic_missense = pd.read_csv(\"/content/drive/MyDrive/my_colab/3rdYear/datasets/CGI_oncogenic_missense.csv\", usecols = ['gene', 'position', 'AA_orig', 'AA_targ', 'sequence', 'uniprot'])"
      ],
      "metadata": {
        "id": "d6OHri6j1gDa"
      },
      "execution_count": null,
      "outputs": []
    },
    {
      "cell_type": "code",
      "source": [
        "list_uniprot_Tier1_2_3_missense = Tier1_2_3_missense['uniprot']\n",
        "list_uniprot_CGI_oncogenic_missense = CGI_oncogenic_missense['uniprot']"
      ],
      "metadata": {
        "id": "L-MbIPJxFZ3f"
      },
      "execution_count": null,
      "outputs": []
    },
    {
      "cell_type": "code",
      "source": [
        "for i in list_uniprot_Tier1_2_3_missense:\n",
        "  if i in list_uniprot_CGI_oncogenic_missense:\n",
        "    print(i)"
      ],
      "metadata": {
        "id": "VxnzQ4M-Fvhy"
      },
      "execution_count": null,
      "outputs": []
    },
    {
      "cell_type": "code",
      "source": [
        "CGI_oncogenic_mut = pd.read_csv(\"/content/drive/MyDrive/my_colab/3rdYear/datasets/missense_nonsense_CGI_oncogenic_mut.csv\", sep = '\\t')"
      ],
      "metadata": {
        "id": "wVXXwx23F5kT"
      },
      "execution_count": null,
      "outputs": []
    },
    {
      "cell_type": "code",
      "source": [
        "CGI_oncogenic_missense"
      ],
      "metadata": {
        "colab": {
          "base_uri": "https://localhost:8080/",
          "height": 424
        },
        "id": "qhOM3bADF3eL",
        "outputId": "39ba7423-336c-49f0-c5c7-a6139bbcd7f4"
      },
      "execution_count": null,
      "outputs": [
        {
          "output_type": "execute_result",
          "data": {
            "text/plain": [
              "       gene                 gdna   protein       transcript   context  \\\n",
              "0      ABL1  chr9:g.133738306G>A   p.E236K  ENST00000318560   somatic   \n",
              "1      ABL1  chr9:g.133738309A>G   p.M237V  ENST00000318560   somatic   \n",
              "2      ABL1  chr9:g.133738325T>C   p.I242T  ENST00000318560   somatic   \n",
              "3      ABL1  chr9:g.133738330A>G   p.M244V  ENST00000318560   somatic   \n",
              "4      ABL1  chr9:g.133738340A>G   p.K247R  ENST00000318560   somatic   \n",
              "...     ...                  ...       ...              ...       ...   \n",
              "3776  WHSC1    chr4:g.1962801G>A  p.E1099K  ENST00000382895   somatic   \n",
              "3777    WRN   chr8:g.30924605A>G   p.K187K  ENST00000298139  germline   \n",
              "3778   WWOX  chr16:g.78466465T>C   p.L291P  ENST00000566780   somatic   \n",
              "3779    XPC   chr3:g.14199706G>T   p.Y559*  ENST00000285021  germline   \n",
              "3781  XRCC2  chr7:g.152346007C>T   p.R188H  ENST00000359321   somatic   \n",
              "\n",
              "      position AA_orig AA_targ  \n",
              "0          236       E       K  \n",
              "1          237       M       V  \n",
              "2          242       I       T  \n",
              "3          244       M       V  \n",
              "4          247       K       R  \n",
              "...        ...     ...     ...  \n",
              "3776      1099       E       K  \n",
              "3777       187       K       K  \n",
              "3778       291       L       P  \n",
              "3779       559       Y       *  \n",
              "3781       188       R       H  \n",
              "\n",
              "[2693 rows x 8 columns]"
            ],
            "text/html": [
              "\n",
              "  <div id=\"df-6efe5c88-0674-4270-9310-09d7665825fe\">\n",
              "    <div class=\"colab-df-container\">\n",
              "      <div>\n",
              "<style scoped>\n",
              "    .dataframe tbody tr th:only-of-type {\n",
              "        vertical-align: middle;\n",
              "    }\n",
              "\n",
              "    .dataframe tbody tr th {\n",
              "        vertical-align: top;\n",
              "    }\n",
              "\n",
              "    .dataframe thead th {\n",
              "        text-align: right;\n",
              "    }\n",
              "</style>\n",
              "<table border=\"1\" class=\"dataframe\">\n",
              "  <thead>\n",
              "    <tr style=\"text-align: right;\">\n",
              "      <th></th>\n",
              "      <th>gene</th>\n",
              "      <th>gdna</th>\n",
              "      <th>protein</th>\n",
              "      <th>transcript</th>\n",
              "      <th>context</th>\n",
              "      <th>position</th>\n",
              "      <th>AA_orig</th>\n",
              "      <th>AA_targ</th>\n",
              "    </tr>\n",
              "  </thead>\n",
              "  <tbody>\n",
              "    <tr>\n",
              "      <th>0</th>\n",
              "      <td>ABL1</td>\n",
              "      <td>chr9:g.133738306G&gt;A</td>\n",
              "      <td>p.E236K</td>\n",
              "      <td>ENST00000318560</td>\n",
              "      <td>somatic</td>\n",
              "      <td>236</td>\n",
              "      <td>E</td>\n",
              "      <td>K</td>\n",
              "    </tr>\n",
              "    <tr>\n",
              "      <th>1</th>\n",
              "      <td>ABL1</td>\n",
              "      <td>chr9:g.133738309A&gt;G</td>\n",
              "      <td>p.M237V</td>\n",
              "      <td>ENST00000318560</td>\n",
              "      <td>somatic</td>\n",
              "      <td>237</td>\n",
              "      <td>M</td>\n",
              "      <td>V</td>\n",
              "    </tr>\n",
              "    <tr>\n",
              "      <th>2</th>\n",
              "      <td>ABL1</td>\n",
              "      <td>chr9:g.133738325T&gt;C</td>\n",
              "      <td>p.I242T</td>\n",
              "      <td>ENST00000318560</td>\n",
              "      <td>somatic</td>\n",
              "      <td>242</td>\n",
              "      <td>I</td>\n",
              "      <td>T</td>\n",
              "    </tr>\n",
              "    <tr>\n",
              "      <th>3</th>\n",
              "      <td>ABL1</td>\n",
              "      <td>chr9:g.133738330A&gt;G</td>\n",
              "      <td>p.M244V</td>\n",
              "      <td>ENST00000318560</td>\n",
              "      <td>somatic</td>\n",
              "      <td>244</td>\n",
              "      <td>M</td>\n",
              "      <td>V</td>\n",
              "    </tr>\n",
              "    <tr>\n",
              "      <th>4</th>\n",
              "      <td>ABL1</td>\n",
              "      <td>chr9:g.133738340A&gt;G</td>\n",
              "      <td>p.K247R</td>\n",
              "      <td>ENST00000318560</td>\n",
              "      <td>somatic</td>\n",
              "      <td>247</td>\n",
              "      <td>K</td>\n",
              "      <td>R</td>\n",
              "    </tr>\n",
              "    <tr>\n",
              "      <th>...</th>\n",
              "      <td>...</td>\n",
              "      <td>...</td>\n",
              "      <td>...</td>\n",
              "      <td>...</td>\n",
              "      <td>...</td>\n",
              "      <td>...</td>\n",
              "      <td>...</td>\n",
              "      <td>...</td>\n",
              "    </tr>\n",
              "    <tr>\n",
              "      <th>3776</th>\n",
              "      <td>WHSC1</td>\n",
              "      <td>chr4:g.1962801G&gt;A</td>\n",
              "      <td>p.E1099K</td>\n",
              "      <td>ENST00000382895</td>\n",
              "      <td>somatic</td>\n",
              "      <td>1099</td>\n",
              "      <td>E</td>\n",
              "      <td>K</td>\n",
              "    </tr>\n",
              "    <tr>\n",
              "      <th>3777</th>\n",
              "      <td>WRN</td>\n",
              "      <td>chr8:g.30924605A&gt;G</td>\n",
              "      <td>p.K187K</td>\n",
              "      <td>ENST00000298139</td>\n",
              "      <td>germline</td>\n",
              "      <td>187</td>\n",
              "      <td>K</td>\n",
              "      <td>K</td>\n",
              "    </tr>\n",
              "    <tr>\n",
              "      <th>3778</th>\n",
              "      <td>WWOX</td>\n",
              "      <td>chr16:g.78466465T&gt;C</td>\n",
              "      <td>p.L291P</td>\n",
              "      <td>ENST00000566780</td>\n",
              "      <td>somatic</td>\n",
              "      <td>291</td>\n",
              "      <td>L</td>\n",
              "      <td>P</td>\n",
              "    </tr>\n",
              "    <tr>\n",
              "      <th>3779</th>\n",
              "      <td>XPC</td>\n",
              "      <td>chr3:g.14199706G&gt;T</td>\n",
              "      <td>p.Y559*</td>\n",
              "      <td>ENST00000285021</td>\n",
              "      <td>germline</td>\n",
              "      <td>559</td>\n",
              "      <td>Y</td>\n",
              "      <td>*</td>\n",
              "    </tr>\n",
              "    <tr>\n",
              "      <th>3781</th>\n",
              "      <td>XRCC2</td>\n",
              "      <td>chr7:g.152346007C&gt;T</td>\n",
              "      <td>p.R188H</td>\n",
              "      <td>ENST00000359321</td>\n",
              "      <td>somatic</td>\n",
              "      <td>188</td>\n",
              "      <td>R</td>\n",
              "      <td>H</td>\n",
              "    </tr>\n",
              "  </tbody>\n",
              "</table>\n",
              "<p>2693 rows × 8 columns</p>\n",
              "</div>\n",
              "      <button class=\"colab-df-convert\" onclick=\"convertToInteractive('df-6efe5c88-0674-4270-9310-09d7665825fe')\"\n",
              "              title=\"Convert this dataframe to an interactive table.\"\n",
              "              style=\"display:none;\">\n",
              "        \n",
              "  <svg xmlns=\"http://www.w3.org/2000/svg\" height=\"24px\"viewBox=\"0 0 24 24\"\n",
              "       width=\"24px\">\n",
              "    <path d=\"M0 0h24v24H0V0z\" fill=\"none\"/>\n",
              "    <path d=\"M18.56 5.44l.94 2.06.94-2.06 2.06-.94-2.06-.94-.94-2.06-.94 2.06-2.06.94zm-11 1L8.5 8.5l.94-2.06 2.06-.94-2.06-.94L8.5 2.5l-.94 2.06-2.06.94zm10 10l.94 2.06.94-2.06 2.06-.94-2.06-.94-.94-2.06-.94 2.06-2.06.94z\"/><path d=\"M17.41 7.96l-1.37-1.37c-.4-.4-.92-.59-1.43-.59-.52 0-1.04.2-1.43.59L10.3 9.45l-7.72 7.72c-.78.78-.78 2.05 0 2.83L4 21.41c.39.39.9.59 1.41.59.51 0 1.02-.2 1.41-.59l7.78-7.78 2.81-2.81c.8-.78.8-2.07 0-2.86zM5.41 20L4 18.59l7.72-7.72 1.47 1.35L5.41 20z\"/>\n",
              "  </svg>\n",
              "      </button>\n",
              "      \n",
              "  <style>\n",
              "    .colab-df-container {\n",
              "      display:flex;\n",
              "      flex-wrap:wrap;\n",
              "      gap: 12px;\n",
              "    }\n",
              "\n",
              "    .colab-df-convert {\n",
              "      background-color: #E8F0FE;\n",
              "      border: none;\n",
              "      border-radius: 50%;\n",
              "      cursor: pointer;\n",
              "      display: none;\n",
              "      fill: #1967D2;\n",
              "      height: 32px;\n",
              "      padding: 0 0 0 0;\n",
              "      width: 32px;\n",
              "    }\n",
              "\n",
              "    .colab-df-convert:hover {\n",
              "      background-color: #E2EBFA;\n",
              "      box-shadow: 0px 1px 2px rgba(60, 64, 67, 0.3), 0px 1px 3px 1px rgba(60, 64, 67, 0.15);\n",
              "      fill: #174EA6;\n",
              "    }\n",
              "\n",
              "    [theme=dark] .colab-df-convert {\n",
              "      background-color: #3B4455;\n",
              "      fill: #D2E3FC;\n",
              "    }\n",
              "\n",
              "    [theme=dark] .colab-df-convert:hover {\n",
              "      background-color: #434B5C;\n",
              "      box-shadow: 0px 1px 3px 1px rgba(0, 0, 0, 0.15);\n",
              "      filter: drop-shadow(0px 1px 2px rgba(0, 0, 0, 0.3));\n",
              "      fill: #FFFFFF;\n",
              "    }\n",
              "  </style>\n",
              "\n",
              "      <script>\n",
              "        const buttonEl =\n",
              "          document.querySelector('#df-6efe5c88-0674-4270-9310-09d7665825fe button.colab-df-convert');\n",
              "        buttonEl.style.display =\n",
              "          google.colab.kernel.accessAllowed ? 'block' : 'none';\n",
              "\n",
              "        async function convertToInteractive(key) {\n",
              "          const element = document.querySelector('#df-6efe5c88-0674-4270-9310-09d7665825fe');\n",
              "          const dataTable =\n",
              "            await google.colab.kernel.invokeFunction('convertToInteractive',\n",
              "                                                     [key], {});\n",
              "          if (!dataTable) return;\n",
              "\n",
              "          const docLinkHtml = 'Like what you see? Visit the ' +\n",
              "            '<a target=\"_blank\" href=https://colab.research.google.com/notebooks/data_table.ipynb>data table notebook</a>'\n",
              "            + ' to learn more about interactive tables.';\n",
              "          element.innerHTML = '';\n",
              "          dataTable['output_type'] = 'display_data';\n",
              "          await google.colab.output.renderOutput(dataTable, element);\n",
              "          const docLink = document.createElement('div');\n",
              "          docLink.innerHTML = docLinkHtml;\n",
              "          element.appendChild(docLink);\n",
              "        }\n",
              "      </script>\n",
              "    </div>\n",
              "  </div>\n",
              "  "
            ]
          },
          "metadata": {},
          "execution_count": 31
        }
      ]
    },
    {
      "cell_type": "markdown",
      "source": [
        "## [ New version] Missense mutations form COSMIC cmc_export and CGI, with uniprot/ trembl ID + isoform info  - includes multiple uniprot ids per gene- excludes germline mutations CGI. Bening test from humsavar"
      ],
      "metadata": {
        "id": "FE04j7XUmn_u"
      }
    },
    {
      "cell_type": "code",
      "source": [
        "cmc_all = pd.read_csv(\"/content/drive/MyDrive/my_colab/*2ndYear/cmc_export.csv\",  delimiter = '\\t', usecols = ['GENE_NAME', 'ACCESSION_NUMBER', 'Mutation AA', 'Mutation Description AA', 'MUTATION_SIGNIFICANCE_TIER']) # COSMIC: cmc Tier 1,2,3, other mutations\n",
        "\n",
        "# Filter out silent / nonsense mutations\n",
        "missense = cmc_all[(cmc_all['Mutation Description AA'] == 'Substitution - Missense')]\n",
        "\n",
        "# creation of Tier1-2-3 mutations\n",
        "Tier1_2_3_missense = missense[(missense['MUTATION_SIGNIFICANCE_TIER'] == '1') \\\n",
        "                              | (missense['MUTATION_SIGNIFICANCE_TIER']== '2') \\\n",
        "                                       | (missense['MUTATION_SIGNIFICANCE_TIER']== '3')]\n",
        "# Exclude delins\n",
        "Tier1_2_3_missense = Tier1_2_3_missense.reset_index(drop=True)\n",
        "delins=0\n",
        "indices_to_excl = []\n",
        "for i, mut in Tier1_2_3_missense.iterrows():\n",
        "    string = mut['Mutation AA']\n",
        "    if 'delins' in string:\n",
        "      delins+=1\n",
        "      indices_to_excl.append(i)\n",
        "\n",
        "Tier1_2_3_missense = Tier1_2_3_missense.drop(Tier1_2_3_missense.index[indices_to_excl])                             "
      ],
      "metadata": {
        "id": "JSmd0IVZpiBI"
      },
      "execution_count": null,
      "outputs": []
    },
    {
      "cell_type": "code",
      "source": [
        "len(Tier1_2_3_missense)"
      ],
      "metadata": {
        "colab": {
          "base_uri": "https://localhost:8080/"
        },
        "id": "e_dvDVm9HcLZ",
        "outputId": "fb9a9fde-0da4-4e51-ced5-69dd0262b09b"
      },
      "execution_count": null,
      "outputs": [
        {
          "output_type": "execute_result",
          "data": {
            "text/plain": [
              "3929"
            ]
          },
          "metadata": {},
          "execution_count": 27
        }
      ]
    },
    {
      "cell_type": "code",
      "source": [
        "# Read transcript consensus (glioma_All_cosmic.ipynb)\n",
        "with open(\"/content/drive/MyDrive/my_colab/*2ndYear/transcript_sequences.csv\", 'rb') as fp:\n",
        "    gene_sequence = pickle.load(fp)\n",
        "\n",
        "gene_protein_mapping = pd.read_csv(\"/content/drive/MyDrive/my_colab/3rdYear/datasets/gene_synonyms_uniprot.txt\", sep = '\\t')\n",
        "# Synonymous genes\n",
        "gene_synonym_df = gene_protein_mapping[['UniProtKB/Swiss-Prot ID', 'Gene Synonym']]\n",
        "gene_synonym_df.dropna(inplace=True)\n",
        "gene_synonym_df =gene_synonym_df.drop_duplicates()\n",
        "gene_synonym_dict = gene_synonym_df.groupby('Gene Synonym')['UniProtKB/Swiss-Prot ID'].apply(lambda g: g.values.tolist()).to_dict()\n",
        "\n",
        "gene_df = gene_protein_mapping[['UniProtKB/Swiss-Prot ID', 'Gene name']]\n",
        "gene_df.dropna(inplace=True)\n",
        "# dropping ALL duplicate values\n",
        "gene_df =gene_df.drop_duplicates()\n",
        "gene_dict = gene_df.groupby('Gene name')['UniProtKB/Swiss-Prot ID'].apply(lambda g: g.values.tolist()).to_dict()"
      ],
      "metadata": {
        "colab": {
          "base_uri": "https://localhost:8080/"
        },
        "id": "KuDN_tpYrSdm",
        "outputId": "c7f7b446-2b49-49da-c25e-8ab27bb914af"
      },
      "execution_count": null,
      "outputs": [
        {
          "output_type": "stream",
          "name": "stderr",
          "text": [
            "/usr/local/lib/python3.7/dist-packages/pandas/util/_decorators.py:311: SettingWithCopyWarning: \n",
            "A value is trying to be set on a copy of a slice from a DataFrame\n",
            "\n",
            "See the caveats in the documentation: https://pandas.pydata.org/pandas-docs/stable/user_guide/indexing.html#returning-a-view-versus-a-copy\n",
            "  return func(*args, **kwargs)\n"
          ]
        }
      ]
    },
    {
      "cell_type": "code",
      "source": [
        "Tier1_2_3_missense = Tier1_2_3_missense.reset_index(drop=True)\n",
        "transcript_not_found, delins, unknown_genes, count_test = 0, 0, 0, 0\n",
        "position, AA_orig, AA_targ, sequence, indices_to_excl, canonical, isoform_uniprot = [], [], [], [], [], [], []\n",
        "count_found, count_not_found = 0, 0\n",
        "for i, mut in Tier1_2_3_missense.iterrows():\n",
        "\n",
        "  gene_name = mut['GENE_NAME']\n",
        "  string = mut['Mutation AA']    \n",
        "  pos_temp = int(string[3:-1])\n",
        "  wt_sequence = str(gene_sequence[mut['ACCESSION_NUMBER']])\n",
        "  \n",
        "  mut_seq = changeAAnew(mut['ACCESSION_NUMBER'], string[2], string[-1], pos_temp,wt_sequence)\n",
        "\n",
        "  if mut_seq is not None:\n",
        "    if '*' in mut_seq:\n",
        "      temp = mut_seq.split(\"*\")\n",
        "      mut_seq = temp[0]\n",
        "    \n",
        "    if gene_name in gene_dict:\n",
        "      uniprot_canonical_list = gene_dict[gene_name]# we may have more than one corresponding proteins for gene\n",
        "    \n",
        "    elif gene_name in gene_synonym_dict:\n",
        "      uniprot_canonical_list = gene_synonym_dict[gene_name] \n",
        "\n",
        "    else:\n",
        "      unknown_genes +=1\n",
        "      indices_to_excl.append(i)\n",
        "      continue\n",
        "    \n",
        "    count_uniprot =0 # track isoforms\n",
        "    found=False # used to stop searching follwing isoforms\n",
        "\n",
        "    for uniprot_canonical in uniprot_canonical_list:\n",
        "      count_uniprot+=1 \n",
        "      if found == True:\n",
        "        break\n",
        "\n",
        "      # load all transcript from uniprot and compare with the COSMIC transcript\n",
        "      all_transcripts = load_uniprot_fasta_all(uniprot_canonical)\n",
        "      count = 1 # track transcripts\n",
        "      for isoform, transcript in enumerate(all_transcripts):\n",
        "\n",
        "        if transcript == wt_sequence:\n",
        "          isoform_name = uniprot_canonical+ '-' + str(isoform+1) \n",
        "          isoform_uniprot.append(isoform_name)\n",
        "          position.append(pos_temp)\n",
        "          AA_orig.append(string[2])\n",
        "          count_found +=1\n",
        "          AA_targ.append(string[-1])\n",
        "          found = True\n",
        "          sequence.append(mut_seq) \n",
        "          break\n",
        "        else:\n",
        "          if len(all_transcripts) == count and count_uniprot == len(uniprot_canonical_list):\n",
        "            transcript_not_found +=1\n",
        "            indices_to_excl.append(i)\n",
        "          count+=1\n",
        "  else:\n",
        "    indices_to_excl.append(i)\n",
        "    count_not_found+=1"
      ],
      "metadata": {
        "id": "8GLlfXr6zODZ",
        "colab": {
          "base_uri": "https://localhost:8080/"
        },
        "outputId": "130ab699-6d77-40c1-ec1a-a0a6bd917471"
      },
      "execution_count": null,
      "outputs": [
        {
          "output_type": "stream",
          "name": "stdout",
          "text": [
            "in gene ENST00000392485.2 the original R, in position 95 not equal to: P\n",
            "in gene ENST00000392485.2 the original R, in position 95 not equal to: P\n",
            "in gene ENST00000269305.4 the original G, in position 248 not equal to: R\n",
            "in gene ENST00000376670.3 the original G, in position 74 not equal to: V\n"
          ]
        }
      ]
    },
    {
      "cell_type": "code",
      "source": [
        "Tier1_2_3_missense = Tier1_2_3_missense.drop(Tier1_2_3_missense.index[indices_to_excl])\n",
        "Tier1_2_3_missense['position'] = position\n",
        "Tier1_2_3_missense['AA_orig'] = AA_orig\n",
        "Tier1_2_3_missense['AA_targ'] = AA_targ\n",
        "Tier1_2_3_missense['mut_sequence'] = sequence # Mutated sequence\n",
        "Tier1_2_3_missense['uniprot'] = isoform_uniprot"
      ],
      "metadata": {
        "id": "QvSah4nb0dGJ"
      },
      "execution_count": null,
      "outputs": []
    },
    {
      "cell_type": "code",
      "source": [
        "# save mutations\n",
        "Tier1_2_3_missense.to_csv('/content/drive/MyDrive/my_colab/3rdYear/datasets/Tier1_2_3_missense_isoform_2.csv', index=False)"
      ],
      "metadata": {
        "id": "GBCMJbYl0dX6"
      },
      "execution_count": null,
      "outputs": []
    },
    {
      "cell_type": "code",
      "source": [
        "CGI_oncogenic_mut = pd.read_csv(\"/content/drive/MyDrive/my_colab/3rdYear/datasets/missense_nonsense_CGI_oncogenic_mut.csv\", sep = '\\t')\n",
        "print(len(CGI_oncogenic_mut))\n",
        "print(CGI_oncogenic_mut.head())"
      ],
      "metadata": {
        "colab": {
          "base_uri": "https://localhost:8080/"
        },
        "id": "tVezWCiaxg4N",
        "outputId": "ef11dc46-b57a-4dc7-8703-2265f72a484d"
      },
      "execution_count": null,
      "outputs": [
        {
          "output_type": "stream",
          "name": "stdout",
          "text": [
            "5340\n",
            "   gene                 gdna  protein       transcript  context\n",
            "0  ABL1  chr9:g.133738306G>A  p.E236K  ENST00000318560  somatic\n",
            "1  ABL1  chr9:g.133738309A>G  p.M237V  ENST00000318560  somatic\n",
            "2  ABL1  chr9:g.133738325T>C  p.I242T  ENST00000318560  somatic\n",
            "3  ABL1  chr9:g.133738330A>G  p.M244V  ENST00000318560  somatic\n",
            "4  ABL1  chr9:g.133738340A>G  p.K247R  ENST00000318560  somatic\n"
          ]
        }
      ]
    },
    {
      "cell_type": "code",
      "source": [
        "CGI_oncogenic_missense = CGI_oncogenic_mut[~CGI_oncogenic_mut['protein'].str.contains('fs')]\n",
        "CGI_oncogenic_missense = CGI_oncogenic_missense[~CGI_oncogenic_missense['protein'].str.contains('del')]\n",
        "CGI_oncogenic_missense = CGI_oncogenic_missense[~CGI_oncogenic_missense['protein'].str.contains('_')]\n",
        "CGI_oncogenic_missense = CGI_oncogenic_missense[~CGI_oncogenic_missense['protein'].str.contains('dup')]"
      ],
      "metadata": {
        "id": "T3HDOSXZxg5E"
      },
      "execution_count": null,
      "outputs": []
    },
    {
      "cell_type": "code",
      "source": [
        "CGI_oncogenic_missense = CGI_oncogenic_missense[CGI_oncogenic_missense['context'] == 'somatic']"
      ],
      "metadata": {
        "id": "R1s5QoA5xuU5"
      },
      "execution_count": null,
      "outputs": []
    },
    {
      "cell_type": "code",
      "source": [
        "# overlap between CGI and Tier1_2_3\n",
        "CGI_oncogenic_missense = CGI_oncogenic_missense.reset_index(drop=True)\n",
        "position, AA_orig, AA_targ = [], [], []\n",
        "for i, mut in CGI_oncogenic_missense.iterrows():\n",
        "  string = mut['protein']    \n",
        "  pos_temp = int(string[3:-1])\n",
        "\n",
        "  position.append(pos_temp)\n",
        "  AA_orig.append(string[2])\n",
        "  AA_targ.append(string[-1])\n",
        "CGI_oncogenic_missense['position'] = position\n",
        "CGI_oncogenic_missense['AA_orig'] = AA_orig\n",
        "CGI_oncogenic_missense['AA_targ'] = AA_targ\n",
        "\n",
        "overlap_mut = []\n",
        "for i, mut in CGI_oncogenic_missense.iterrows():\n",
        "  gene = mut['gene']\n",
        "  temp_df = Tier1_2_3_missense[Tier1_2_3_missense['GENE_NAME'] == gene ]\n",
        "  for j, temp in temp_df.iterrows():\n",
        "    if mut['position'] == temp['position'] and mut['AA_orig'] == temp['AA_orig']  and mut['AA_targ'] == temp['AA_targ'] :\n",
        "      overlap_mut.append(i)"
      ],
      "metadata": {
        "id": "Gu1LRfj7xuXA"
      },
      "execution_count": null,
      "outputs": []
    },
    {
      "cell_type": "code",
      "source": [
        "CGI_oncogenic_missense = CGI_oncogenic_missense.drop(CGI_oncogenic_missense.index[overlap_mut])"
      ],
      "metadata": {
        "id": "s4U2QXGZxuZR"
      },
      "execution_count": null,
      "outputs": []
    },
    {
      "cell_type": "code",
      "source": [
        "CGI_oncogenic_missense = CGI_oncogenic_missense.reset_index(drop=True)\n",
        "transcript_not_found, delins, unknown_genes, count_test = 0, 0, 0, 0\n",
        "position, AA_orig, AA_targ, sequence, indices_to_excl, canonical, isoform_uniprot = [], [], [], [], [], [], []\n",
        "count_found, count_not_found = 0, 0\n",
        "for i, mut in CGI_oncogenic_missense.iterrows():\n",
        "\n",
        "  gene_name = mut['gene']\n",
        "  string = mut['protein']    \n",
        "  pos_temp = int(string[3:-1])\n",
        "\n",
        "  # exclude nonsense mutations\n",
        "  if string[-1] == '*':\n",
        "    indices_to_excl.append(i)\n",
        "    continue\n",
        "\n",
        "  if '*' in mut_seq:\n",
        "    temp = mut_seq.split(\"*\")\n",
        "    mut_seq = temp[0]\n",
        "  \n",
        "  if gene_name in gene_dict:\n",
        "    uniprot_canonical_list = gene_dict[gene_name] # we may have more than one corresponding proteins for gene\n",
        "  \n",
        "  elif gene_name in gene_synonym_dict:\n",
        "    uniprot_canonical_list = gene_synonym_dict[gene_name] \n",
        "\n",
        "  else:\n",
        "    unknown_genes +=1\n",
        "    indices_to_excl.append(i)\n",
        "    continue\n",
        "  \n",
        "  count_uniprot =0 # track isoforms\n",
        "  found=False # used to stop searching follwing isoforms\n",
        "\n",
        "  for uniprot_canonical in uniprot_canonical_list:\n",
        "    count_uniprot+=1 \n",
        "    if found == True:\n",
        "      break\n",
        "\n",
        "    # load all transcript from uniprot\n",
        "    all_transcripts = load_uniprot_fasta_all(uniprot_canonical)\n",
        "    count = 1 # track transcripts\n",
        "    for isoform, transcript in enumerate(all_transcripts):\n",
        "\n",
        "      if pos_temp <= len(transcript):\n",
        "\n",
        "          if transcript[pos_temp - 1] == string[2]:\n",
        "            isoform_name = uniprot_canonical+ '-' + str(isoform+1) \n",
        "            mut_seq = changeAAnew(gene_name, string[2], string[-1], pos_temp, transcript)\n",
        "            isoform_uniprot.append(isoform_name)\n",
        "            position.append(pos_temp)\n",
        "            AA_orig.append(string[2])\n",
        "            AA_targ.append(string[-1])\n",
        "            count_found +=1\n",
        "            found = True\n",
        "            sequence.append(mut_seq) \n",
        "            break\n",
        "\n",
        "          else:\n",
        "            if len(all_transcripts) == count and count_uniprot == len(uniprot_canonical_list):\n",
        "              transcript_not_found +=1\n",
        "              indices_to_excl.append(i)\n",
        "            count+=1\n",
        "\n",
        "      else:\n",
        "          if len(all_transcripts) == count and count_uniprot == len(uniprot_canonical_list):\n",
        "            transcript_not_found +=1\n",
        "            indices_to_excl.append(i)\n",
        "          count+=1"
      ],
      "metadata": {
        "id": "lP85ruNyyBdR"
      },
      "execution_count": null,
      "outputs": []
    },
    {
      "cell_type": "code",
      "source": [
        "CGI_oncogenic_missense = CGI_oncogenic_missense.drop(CGI_oncogenic_missense.index[indices_to_excl])\n",
        "CGI_oncogenic_missense['position'] = position\n",
        "CGI_oncogenic_missense['AA_orig'] = AA_orig\n",
        "CGI_oncogenic_missense['AA_targ'] = AA_targ\n",
        "CGI_oncogenic_missense['sequence'] = sequence\n",
        "CGI_oncogenic_missense['uniprot'] = isoform_uniprot"
      ],
      "metadata": {
        "id": "PgSTb11D2S-6"
      },
      "execution_count": null,
      "outputs": []
    },
    {
      "cell_type": "code",
      "source": [
        "# save mutations\n",
        "CGI_oncogenic_missense.to_csv('/content/drive/MyDrive/my_colab/3rdYear/datasets/CGI_oncogenic_missense_2.csv', index=False)"
      ],
      "metadata": {
        "id": "3HvZsdaR2TA4"
      },
      "execution_count": null,
      "outputs": []
    },
    {
      "cell_type": "code",
      "source": [
        "# Find unique uniprot transcripts\n",
        "Tier_trancript_list = list(Tier1_2_3_missense['uniprot'].unique())\n",
        "CGI_trancript_list = list(CGI_oncogenic_missense['uniprot'].unique())\n",
        "trancript_list = Tier_trancript_list + CGI_trancript_list\n",
        "trancript_list = set(trancript_list)"
      ],
      "metadata": {
        "id": "UpVFf4Oc2TDa",
        "colab": {
          "base_uri": "https://localhost:8080/",
          "height": 235
        },
        "outputId": "70061a04-374f-4f56-948a-5177a2dce6b0"
      },
      "execution_count": null,
      "outputs": [
        {
          "output_type": "error",
          "ename": "NameError",
          "evalue": "ignored",
          "traceback": [
            "\u001b[0;31m---------------------------------------------------------------------------\u001b[0m",
            "\u001b[0;31mNameError\u001b[0m                                 Traceback (most recent call last)",
            "\u001b[0;32m<ipython-input-6-66cabc02bbd2>\u001b[0m in \u001b[0;36m<module>\u001b[0;34m()\u001b[0m\n\u001b[1;32m      1\u001b[0m \u001b[0;31m# Find unique uniprot transcripts\u001b[0m\u001b[0;34m\u001b[0m\u001b[0;34m\u001b[0m\u001b[0;34m\u001b[0m\u001b[0m\n\u001b[0;32m----> 2\u001b[0;31m \u001b[0mTier_trancript_list\u001b[0m \u001b[0;34m=\u001b[0m \u001b[0mlist\u001b[0m\u001b[0;34m(\u001b[0m\u001b[0mTier1_2_3_missense\u001b[0m\u001b[0;34m[\u001b[0m\u001b[0;34m'uniprot'\u001b[0m\u001b[0;34m]\u001b[0m\u001b[0;34m.\u001b[0m\u001b[0munique\u001b[0m\u001b[0;34m(\u001b[0m\u001b[0;34m)\u001b[0m\u001b[0;34m)\u001b[0m\u001b[0;34m\u001b[0m\u001b[0;34m\u001b[0m\u001b[0m\n\u001b[0m\u001b[1;32m      3\u001b[0m \u001b[0mCGI_trancript_list\u001b[0m \u001b[0;34m=\u001b[0m \u001b[0mlist\u001b[0m\u001b[0;34m(\u001b[0m\u001b[0mCGI_oncogenic_missense\u001b[0m\u001b[0;34m[\u001b[0m\u001b[0;34m'uniprot'\u001b[0m\u001b[0;34m]\u001b[0m\u001b[0;34m.\u001b[0m\u001b[0munique\u001b[0m\u001b[0;34m(\u001b[0m\u001b[0;34m)\u001b[0m\u001b[0;34m)\u001b[0m\u001b[0;34m\u001b[0m\u001b[0;34m\u001b[0m\u001b[0m\n\u001b[1;32m      4\u001b[0m \u001b[0mtrancript_list\u001b[0m \u001b[0;34m=\u001b[0m \u001b[0mTier_trancript_list\u001b[0m \u001b[0;34m+\u001b[0m \u001b[0mCGI_trancript_list\u001b[0m\u001b[0;34m\u001b[0m\u001b[0;34m\u001b[0m\u001b[0m\n\u001b[1;32m      5\u001b[0m \u001b[0mtrancript_list\u001b[0m \u001b[0;34m=\u001b[0m \u001b[0mset\u001b[0m\u001b[0;34m(\u001b[0m\u001b[0mtrancript_list\u001b[0m\u001b[0;34m)\u001b[0m\u001b[0;34m\u001b[0m\u001b[0;34m\u001b[0m\u001b[0m\n",
            "\u001b[0;31mNameError\u001b[0m: name 'Tier1_2_3_missense' is not defined"
          ]
        }
      ]
    },
    {
      "cell_type": "code",
      "source": [
        "Tier1_2_3_missense['label'] = [1]* len(Tier1_2_3_missense)        \n",
        "CGI_oncogenic_missense['label'] = [1]* len(CGI_oncogenic_missense)       \n",
        "\n",
        "# find and save WT (since I didnt think about it earlier :) )\n",
        "wt_sequence=[]\n",
        "for i, mut in Tier1_2_3_missense.iterrows():\n",
        "  wt_sequence.append(str(gene_sequence[mut['ACCESSION_NUMBER']]))\n",
        "Tier1_2_3_missense['WT_sequence'] = wt_sequence\n",
        "\n",
        "Tier1_2_3_temp = Tier1_2_3_missense[['uniprot', 'WT_sequence']]\n",
        "Tier1_2_3_WTseq_dict = Tier1_2_3_temp.set_index('uniprot').to_dict()\n",
        "\n",
        "wt_seq = []\n",
        "for i, mut in CGI_oncogenic_missense.iterrows():\n",
        "  mut_seq = mut['sequence']\n",
        "  wt_seq.append(changeAAnew(mut['gene'], mut['AA_targ'], mut['AA_orig'], mut['position'], mut_seq))\n",
        "CGI_oncogenic_missense['WT_sequence'] = wt_seq\n",
        "\n",
        "# save mutations\n",
        "Tier1_2_3_missense.to_csv('/content/drive/MyDrive/my_colab/3rdYear/datasets/Tier1_2_3_missense_isoform_2WT.csv', index=False)\n",
        "# save mutations\n",
        "CGI_oncogenic_missense.to_csv('/content/drive/MyDrive/my_colab/3rdYear/datasets/CGI_oncogenic_missense_isoform_2WT.csv', index=False)"
      ],
      "metadata": {
        "id": "t1lhOaQ_Him8"
      },
      "execution_count": null,
      "outputs": []
    },
    {
      "cell_type": "code",
      "source": [
        "# to delete\n",
        "Tier1_2_3_missense =pd.read_csv('/content/drive/MyDrive/my_colab/3rdYear/datasets/Tier1_2_3_missense_isoform_2WT.csv')\n",
        "CGI_oncogenic_missense = pd.read_csv('/content/drive/MyDrive/my_colab/3rdYear/datasets/CGI_oncogenic_missense_isoform_2WT.csv')\n",
        "\n",
        "# Find unique uniprot transcripts\n",
        "Tier_trancript_list = list(Tier1_2_3_missense['uniprot'].unique())\n",
        "CGI_trancript_list = list(CGI_oncogenic_missense['uniprot'].unique())\n",
        "trancript_list = Tier_trancript_list + CGI_trancript_list\n",
        "trancript_list = set(trancript_list)"
      ],
      "metadata": {
        "id": "70KfqhKoAwMQ"
      },
      "execution_count": null,
      "outputs": []
    },
    {
      "cell_type": "code",
      "source": [
        "len(Tier1_2_3_missense) + len(CGI_oncogenic_missense)"
      ],
      "metadata": {
        "colab": {
          "base_uri": "https://localhost:8080/"
        },
        "id": "J0xi4ch0hPTP",
        "outputId": "a7e3d0ad-4720-41f6-db04-c76c2066717a"
      },
      "execution_count": null,
      "outputs": [
        {
          "output_type": "execute_result",
          "data": {
            "text/plain": [
              "5296"
            ]
          },
          "metadata": {},
          "execution_count": 8
        }
      ]
    },
    {
      "cell_type": "markdown",
      "source": [
        "Choose benign proteins with at least one deleterious mutations Careful - there are humsavar benigns that are on Tier1_2_3 (295)"
      ],
      "metadata": {
        "id": "spq6tYb-3lJt"
      }
    },
    {
      "cell_type": "code",
      "source": [
        "humsavar = pd.read_csv('/content/drive/MyDrive/my_colab/*2ndYear/humsavar_1221_neut.csv')\n",
        "\n",
        "trancript_list = list(trancript_list)\n",
        "sub='-1'\n",
        "canonical_list = [s for s in trancript_list if sub in s]\n",
        "\n",
        "wt_sequences, mut_sequences, uniprot_list, AA_orig_list, AA_targ_list, position_list = [], [], [], [], [], []\n",
        "for uniprot in canonical_list:\n",
        "\n",
        "  tier = Tier1_2_3_missense[Tier1_2_3_missense['uniprot'] == uniprot]\n",
        "  CGI = CGI_oncogenic_missense[CGI_oncogenic_missense['uniprot'] == uniprot]\n",
        "  if len(tier) > 0 :\n",
        "    wt_sequence = tier.iloc[0]['WT_sequence']\n",
        "  else:\n",
        "    wt_sequence = CGI.iloc[0]['WT_sequence']\n",
        "  nb_tier = len(tier)\n",
        "  nb_CGI= len(CGI)\n",
        "  nb_del = nb_tier + nb_CGI\n",
        "\n",
        "  if nb_del >0:\n",
        "\n",
        "    temp= humsavar[humsavar['Protein'] == uniprot[:-2]]\n",
        "\n",
        "    for i, mut in temp.iterrows():\n",
        "      \n",
        "      AA_orig = AAconvert(mut['Mutation'][2:5])\n",
        "      AA_targ = AAconvert(mut['Mutation'][-3:])\n",
        "      position = int(mut['Mutation'][5:-3])\n",
        "      if position <= len(wt_sequence):\n",
        "        if wt_sequence[position - 1] == AA_orig:\n",
        "          wt_sequences.append(wt_sequence)\n",
        "          mut_sequences.append(changeAAnew(uniprot, AA_orig, AA_targ, position, wt_sequence))\n",
        "          uniprot_list.append(uniprot)\n",
        "          AA_orig_list.append(AA_orig)\n",
        "          AA_targ_list.append(AA_targ)\n",
        "          position_list.append(position)"
      ],
      "metadata": {
        "id": "AV9TvZcG3nws"
      },
      "execution_count": null,
      "outputs": []
    },
    {
      "cell_type": "code",
      "source": [
        "len(position_list)"
      ],
      "metadata": {
        "colab": {
          "base_uri": "https://localhost:8080/"
        },
        "id": "K2blCfr5gXOu",
        "outputId": "e21ab376-95ff-41fe-cc24-7aa1235921ac"
      },
      "execution_count": null,
      "outputs": [
        {
          "output_type": "execute_result",
          "data": {
            "text/plain": [
              "4432"
            ]
          },
          "metadata": {},
          "execution_count": 8
        }
      ]
    },
    {
      "cell_type": "code",
      "source": [
        "len(trancript_list)"
      ],
      "metadata": {
        "colab": {
          "base_uri": "https://localhost:8080/"
        },
        "id": "_x_Wuas6gvsg",
        "outputId": "fa87f8ca-5204-4922-9702-d34514527130"
      },
      "execution_count": null,
      "outputs": [
        {
          "output_type": "execute_result",
          "data": {
            "text/plain": [
              "1143"
            ]
          },
          "metadata": {},
          "execution_count": 12
        }
      ]
    },
    {
      "cell_type": "code",
      "source": [
        "humsavar = pd.read_csv('/content/drive/MyDrive/my_colab/*2ndYear/humsavar_1221_neut.csv')\n",
        "\n",
        "trancript_list = list(trancript_list)\n",
        "test, test2 =0,0\n",
        "wt_sequences, mut_sequences, uniprot_list, AA_orig_list, AA_targ_list, position, indices_to_excl = [], [], [], [], [], [], []\n",
        "for uniprot in trancript_list:\n",
        "\n",
        "  tier = Tier1_2_3_missense[Tier1_2_3_missense['uniprot'] == uniprot] # how many deleterious mutations I have for uniprot id\n",
        "  CGI = CGI_oncogenic_missense[CGI_oncogenic_missense['uniprot'] == uniprot]\n",
        "  #if len(tier) > 0 :\n",
        "  #  wt_sequence = tier.iloc[0]['WT_sequence']\n",
        "  #else:\n",
        "  #  wt_sequence = CGI.iloc[0]['WT_sequence']\n",
        "  nb_tier = len(tier)\n",
        "  nb_CGI= len(CGI)\n",
        "  nb_del = nb_tier + nb_CGI\n",
        "  if nb_del >0:\n",
        "\n",
        "    temp= humsavar[humsavar['Protein'] == uniprot[:-2]]\n",
        "\n",
        "    for i, mut in temp.iterrows():\n",
        "      AA_orig = AAconvert(mut['Mutation'][2:5])\n",
        "      AA_targ = AAconvert(mut['Mutation'][-3:])\n",
        "      pos_temp = int(mut['Mutation'][5:-3])\n",
        "          \n",
        "      # load all transcript from uniprot\n",
        "      all_transcripts = load_uniprot_fasta_all(mut['Protein'])\n",
        "      #transcript= all_transcripts[0] # for canonical\n",
        "      #isoform=0 # for canonical\n",
        "      count = 1 # track transcripts\n",
        "      for isoform, transcript in enumerate(all_transcripts):\n",
        "\n",
        "        if pos_temp <= len(transcript):\n",
        "\n",
        "            if transcript[pos_temp - 1] == AA_orig:\n",
        "              isoform_name = mut['Protein']+ '-' + str(isoform+1) \n",
        "              mut_seq = changeAAnew(mut['Protein'], AA_orig, AA_targ, pos_temp, transcript)\n",
        "              uniprot_list.append(isoform_name)\n",
        "              position.append(pos_temp)\n",
        "              AA_orig_list.append(AA_orig)\n",
        "              AA_targ_list.append(AA_targ)\n",
        "              mut_sequences.append(mut_seq) \n",
        "              wt_sequences.append(transcript)\n",
        "              break\n",
        "\n",
        "            else:\n",
        "              if len(all_transcripts) == count:\n",
        "                test+=1\n",
        "              count+=1\n",
        "\n",
        "        else:\n",
        "            if len(all_transcripts) == count:\n",
        "              test2+=1\n",
        "            count+=1"
      ],
      "metadata": {
        "id": "g9dGx9U8BrJq"
      },
      "execution_count": null,
      "outputs": []
    },
    {
      "cell_type": "code",
      "source": [
        "print(len(position))"
      ],
      "metadata": {
        "id": "dD1vBApEd1Qv",
        "colab": {
          "base_uri": "https://localhost:8080/"
        },
        "outputId": "5daf3264-e015-4a4e-d81f-5cca78134711"
      },
      "execution_count": null,
      "outputs": [
        {
          "output_type": "stream",
          "name": "stdout",
          "text": [
            "4960\n"
          ]
        }
      ]
    },
    {
      "cell_type": "code",
      "source": [
        "# select 150 benign more that dont exist in Tier or CGI Missense\n",
        "test, test2 = 0,0\n",
        "for i, mut in humsavar.iterrows():\n",
        "  if i >750:\n",
        "    break\n",
        "\n",
        "  #if mut['Protein'] + '-1' not in canonical_list:\n",
        "  if mut['Protein'] + '-1' not in trancript_list:\n",
        "    \n",
        "    AA_orig = AAconvert(mut['Mutation'][2:5])\n",
        "    AA_targ = AAconvert(mut['Mutation'][-3:])\n",
        "    pos_temp = int(mut['Mutation'][5:-3])\n",
        "\n",
        "    # load all transcript from uniprot\n",
        "    all_transcripts = load_uniprot_fasta_all(mut['Protein'])\n",
        "    transcript= all_transcripts[0]\n",
        "    count = 1 # track transcripts\n",
        "    isoform=0\n",
        "    for isoform, transcript in enumerate(all_transcripts):\n",
        "      if pos_temp <= len(transcript):\n",
        "\n",
        "          if transcript[pos_temp - 1] == AA_orig:\n",
        "            isoform_name = mut['Protein']+ '-' + str(isoform+1) \n",
        "            mut_seq = changeAAnew(mut['Protein'], AA_orig, AA_targ, pos_temp, transcript)\n",
        "            uniprot_list.append(isoform_name)\n",
        "            position.append(pos_temp)\n",
        "            AA_orig_list.append(AA_orig)\n",
        "            AA_targ_list.append(AA_targ)\n",
        "            mut_sequences.append(mut_seq) \n",
        "            wt_sequences.append(transcript)\n",
        "            break\n",
        "\n",
        "          else:\n",
        "            if len(all_transcripts) == count:\n",
        "              test+=1\n",
        "            count+=1\n",
        "\n",
        "      else:\n",
        "          if len(all_transcripts) == count:\n",
        "            test2+=1\n",
        "          count+=1"
      ],
      "metadata": {
        "id": "TZDvnRJtT2zq"
      },
      "execution_count": null,
      "outputs": []
    },
    {
      "cell_type": "code",
      "source": [
        "len(wt_sequences)"
      ],
      "metadata": {
        "id": "Q0DaExSPjOiB",
        "colab": {
          "base_uri": "https://localhost:8080/"
        },
        "outputId": "228a0dbd-9ac1-43d9-ff42-c3df1c59cfc6"
      },
      "execution_count": null,
      "outputs": [
        {
          "output_type": "execute_result",
          "data": {
            "text/plain": [
              "5664"
            ]
          },
          "metadata": {},
          "execution_count": 12
        }
      ]
    },
    {
      "cell_type": "code",
      "source": [
        "benign = pd.DataFrame(list(zip(uniprot_list, wt_sequences, mut_sequences, AA_orig_list, position, AA_targ_list)),\n",
        "               columns =['uniprot id', 'WT_sequence', 'mut_sequence', 'A_orig_list', 'position', 'AA_targ_list'])\n",
        "benign['label'] = [0]* len(benign) \n",
        "benign.to_csv('/content/drive/MyDrive/my_colab/3rdYear/datasets/humsavar_isoform_5WT.csv', index=False)"
      ],
      "metadata": {
        "id": "sOLMlvRiuDpw"
      },
      "execution_count": null,
      "outputs": []
    },
    {
      "cell_type": "markdown",
      "source": [
        "## [NEW VERSION] Tier1_2_3_Other, balanced with regard to protein uniprot id"
      ],
      "metadata": {
        "id": "T8jL7ruWaejy"
      }
    },
    {
      "cell_type": "code",
      "source": [
        "cmc_all = pd.read_csv(\"/content/drive/MyDrive/my_colab/*2ndYear/cmc_export.csv\",  delimiter = '\\t', usecols = ['GENE_NAME', 'ACCESSION_NUMBER', 'Mutation AA', 'Mutation Description AA', 'MUTATION_SIGNIFICANCE_TIER']) # COSMIC: cmc Tier 1,2,3, other mutations\n",
        "\n",
        "# Filter out silent / nonsense mutations\n",
        "missense = cmc_all[(cmc_all['Mutation Description AA'] == 'Substitution - Missense')]\n",
        "\n",
        "# creation of Other mutations\n",
        "Other_missense = missense[(missense['MUTATION_SIGNIFICANCE_TIER'] == 'Other') ]\n",
        "# Exclude delins\n",
        "Other_missense = Other_missense.reset_index(drop=True)\n",
        "delins=0\n",
        "indices_to_excl = []\n",
        "for i, mut in Other_missense.iterrows():\n",
        "    string = mut['Mutation AA']\n",
        "    if 'delins' in string or 'fs' in string:\n",
        "      delins+=1\n",
        "      indices_to_excl.append(i)\n",
        "\n",
        "Other_missense = Other_missense.drop(Other_missense.index[indices_to_excl])      "
      ],
      "metadata": {
        "id": "16GbSvWVcJXA"
      },
      "execution_count": null,
      "outputs": []
    },
    {
      "cell_type": "code",
      "source": [
        "Tier_accession_list = list(Tier1_2_3_missense['ACCESSION_NUMBER'].unique())   \n",
        "CGI_gene_list =  list(CGI_oncogenic_missense['gene'].unique())\n",
        "# creation of benign mutations\n",
        "# keep Transcripts with Tier1_2_3 Pathogenic mutations (Other with Uniprot isoform in Tier1_2_3)\n",
        "Other_missense1 = Other_missense[Other_missense['ACCESSION_NUMBER'].isin(Tier_accession_list)]\n",
        "# keep mutations on genes that have a CGI mutation\n",
        "Other_missense2 = Other_missense[Other_missense['GENE_NAME'].isin(CGI_gene_list)]"
      ],
      "metadata": {
        "id": "Ou_cNJlEBQjz"
      },
      "execution_count": null,
      "outputs": []
    },
    {
      "cell_type": "code",
      "source": [
        "uniprot, mut_sequences,wt_sequences, ind_exc, AA_orig, AA_targ, position  =[], [],[], [], [], [], []\n",
        "Other_missense1 = Other_missense1.reset_index(drop=True)\n",
        "for i, mut in Other_missense1.iterrows():\n",
        "   string = mut['Mutation AA']\n",
        "   pos = int(string[3:-1])\n",
        "   AA_o = string[2]\n",
        "   AA_t = string[-1]\n",
        "   accec_nb = mut['ACCESSION_NUMBER']\n",
        "   t = Tier1_2_3_missense.loc[Tier1_2_3_missense['ACCESSION_NUMBER'] == accec_nb]\n",
        "   uniprot.append(t.iloc[0]['uniprot'])\n",
        "   wtseq = t.iloc[0]['WT_sequence']\n",
        "   mut_seq = changeAAnew(accec_nb, AA_o, AA_t, pos, wtseq)\n",
        "   if mut_seq == None:\n",
        "     ind_exc.append(i)\n",
        "     continue\n",
        "   mut_sequences.append(mut_seq) \n",
        "   wt_sequences.append(wtseq)\n",
        "   AA_orig.append(AA_o)\n",
        "   AA_targ.append(AA_t)\n",
        "   position.append(pos)\n",
        "\n",
        "Other_missense1['uniprot'] = uniprot\n",
        "Other_missense1 = Other_missense1.drop(Other_missense1.index[ind_exc])   #exclude errors in cmc\n",
        "\n",
        "Other_missense1['mut_sequence'] = mut_sequences\n",
        "Other_missense1['WT_sequence'] = wt_sequences\n",
        "Other_missense1['AA_orig'] = AA_orig\n",
        "Other_missense1['AA_targ'] = AA_targ\n",
        "Other_missense1['position'] = position"
      ],
      "metadata": {
        "colab": {
          "base_uri": "https://localhost:8080/"
        },
        "id": "mhrwBRsEakTI",
        "outputId": "a1c23126-91b4-4f24-85c5-87acb66f32a9"
      },
      "execution_count": null,
      "outputs": [
        {
          "output_type": "stream",
          "name": "stdout",
          "text": [
            "in gene ENST00000280772.2 the original A, in position 3507 not equal to: G\n",
            "in gene ENST00000397910.4 the original S, in position 14068 not equal to: T\n",
            "in gene ENST00000397910.4 the original W, in position 13862 not equal to: C\n",
            "in gene ENST00000397910.4 the original M, in position 14083 not equal to: I\n",
            "in gene ENST00000396930.3 the original P, in position 153 not equal to: R\n",
            "in gene ENST00000262189.6 the original R, in position 197 not equal to: K\n",
            "in gene ENST00000373644.4 the original P, in position 172 not equal to: L\n",
            "in gene ENST00000367202.4 the original S, in position 205 not equal to: T\n",
            "in gene ENST00000343736.4 the original T, in position 1851 not equal to: R\n",
            "in gene ENST00000457416.2 the original L, in position 417 not equal to: H\n",
            "in gene ENST00000356352.2 the original L, in position 845 not equal to: V\n",
            "in gene ENST00000498124.1 the original Q, in position 88 not equal to: E\n",
            "in gene ENST00000277541.6 the original G, in position 1576 not equal to: V\n",
            "in gene ENST00000367409.4 the original F, in position 1725 not equal to: Y\n",
            "in gene ENST00000389048.3 the original A, in position 336 not equal to: P\n"
          ]
        }
      ]
    },
    {
      "cell_type": "code",
      "source": [
        "# from Other_missense2 confirm there are the right uniprot ids :\n",
        "Other_missense2 = Other_missense2.reset_index(drop=True)\n",
        "ind_exc, uniprot, mut_sequences, wt_sequences, AA_orig, AA_targ, position  =[], [],[], [], [], [], []\n",
        "for i, mut in Other_missense2.iterrows():\n",
        "  gene = mut['GENE_NAME']\n",
        "  string = mut['Mutation AA']\n",
        "  pos = int(string[3:-1])\n",
        "  AA_o = string[2]\n",
        "  AA_t = string[-1]\n",
        "  t = CGI_oncogenic_missense.loc[CGI_oncogenic_missense['gene'] == gene]\n",
        "  wtseq = t.iloc[0]['WT_sequence']\n",
        "  uniprot.append(t.iloc[0]['uniprot'])\n",
        "  if len(wtseq) < pos:\n",
        "    ind_exc.append(i)\n",
        "    continue\n",
        "  elif wtseq[pos - 1] != AA_o:\n",
        "    ind_exc.append(i)\n",
        "    continue\n",
        "\n",
        "  mut_seq = changeAAnew(gene, AA_o, AA_t, pos, wtseq)\n",
        "  if mut_seq is not None:\n",
        "    mut_sequences.append(mut_seq) \n",
        "    wt_sequences.append(wtseq)\n",
        "    AA_orig.append(AA_o)\n",
        "    AA_targ.append(AA_t)\n",
        "    position.append(pos)\n",
        "  else:\n",
        "    ind_exc.append(i)\n",
        "\n",
        "Other_missense2['uniprot'] = uniprot\n",
        "\n",
        "Other_missense2 = Other_missense2.drop(Other_missense2.index[ind_exc])   #exclude errors in cmc\n",
        "Other_missense2['mut_sequence'] = mut_sequences\n",
        "Other_missense2['WT_sequence'] =wt_sequences\n",
        "Other_missense2['AA_orig'] = AA_orig\n",
        "Other_missense2['AA_targ'] = AA_targ\n",
        "Other_missense2['position'] = position"
      ],
      "metadata": {
        "id": "fEyKRxoedO0w"
      },
      "execution_count": null,
      "outputs": []
    },
    {
      "cell_type": "code",
      "source": [
        "all_others = pd.concat([Other_missense1, Other_missense2]) # join 2 df\n",
        "all_others = all_others.reset_index(drop=True)\n",
        "\n",
        "all_others['label'] = [0]* len(all_others)     \n",
        "all_others_reorder = all_others[['uniprot', 'mut_sequence', 'WT_sequence', 'AA_orig', 'position', 'AA_targ', 'label']]"
      ],
      "metadata": {
        "id": "AJBSx7OUcJZX"
      },
      "execution_count": null,
      "outputs": []
    },
    {
      "cell_type": "code",
      "source": [
        "# load deleterious mutations\n",
        "Tier1_2_3_missense= pd.read_csv('/content/drive/MyDrive/my_colab/3rdYear/datasets/Tier1_2_3_missense_isoform_2WT.csv', usecols = ['uniprot', 'mut_sequence', 'WT_sequence', 'AA_orig',\t'position', 'AA_targ' ,'label']) # /Tier1_2_3_missense2000AA_isoform_WT.csv\n",
        "# s# load CGI mutations\n",
        "CGI_oncogenic_missense= pd.read_csv('/content/drive/MyDrive/my_colab/3rdYear/datasets/CGI_oncogenic_missense_isoform_2WT.csv', usecols = ['uniprot', 'sequence', 'WT_sequence', 'AA_orig',\t'position', 'AA_targ' ,'label']) # CGI_oncogenic_missense2000AA_isoform_WT\n",
        "\n",
        "\n",
        "CGI_oncogenic_missense.rename(columns= {'sequence': 'mut_sequence'}, inplace=True)\n",
        "CGI_oncogenic_reorder = CGI_oncogenic_missense[['uniprot', 'mut_sequence', 'WT_sequence', 'AA_orig', 'position', 'AA_targ', 'label']]\n",
        "Tier1_2_3_missense_reorder = Tier1_2_3_missense[['uniprot', 'mut_sequence', 'WT_sequence', 'AA_orig', 'position', 'AA_targ', 'label']]\n",
        "\n",
        "# merge dataframes\n",
        "all_Tiers = pd.concat([CGI_oncogenic_reorder, Tier1_2_3_missense_reorder ])\n",
        "\n",
        "all_Tiers = all_Tiers.reset_index(drop=True)\n",
        "all_Tiers = all_Tiers.drop_duplicates()\n",
        "all_Tiers = all_Tiers.sort_values(by='label', ascending=False)\n",
        "all_Tiers = all_Tiers.drop_duplicates(subset=['uniprot','position','AA_targ' ], keep='first')"
      ],
      "metadata": {
        "id": "vFmK9OQvVJIq"
      },
      "execution_count": null,
      "outputs": []
    },
    {
      "cell_type": "code",
      "source": [
        "# concatenate Tiers 1_2_3 with Other for the creation of balanced set\n",
        "all_mutations = pd.concat([all_Tiers, all_others_reorder])\n",
        "all_mutations = all_mutations.reset_index(drop=True) # shuffle and reset index\n",
        "\n",
        "# label distribution per protein\n",
        "lab_distr = {}\n",
        "for ind, mut in all_mutations.iterrows():\n",
        "  if mut['uniprot'] in lab_distr:\n",
        "    if mut['label'] == 0:\n",
        "      lab_distr[mut['uniprot']][0] +=1\n",
        "    elif mut['label'] == 1:\n",
        "      lab_distr[mut['uniprot']][1] +=1                  \n",
        "  else:\n",
        "    if mut['label'] == 0:\n",
        "      lab_distr[mut['uniprot']] = [1, 0]\n",
        "    elif mut['label'] == 1:\n",
        "      lab_distr[mut['uniprot']] = [0, 1]\n",
        "\n",
        "balanced_lab_distr = copy.deepcopy(lab_distr)\n",
        "for i in balanced_lab_distr.keys():\n",
        "  balanced_lab_distr[i][0] = 0\n",
        "\n",
        "benign_to_excl = []\n",
        "for i, mut in all_mutations.iterrows():\n",
        "\n",
        "  if mut['label'] == 0:\n",
        "    # have we reached the deleterious laber number of lab_distr?\n",
        "    if balanced_lab_distr[mut['uniprot']][0] < balanced_lab_distr[mut['uniprot']][1]:\n",
        "      balanced_lab_distr[mut['uniprot']][0] +=1\n",
        "    else:\n",
        "      benign_to_excl.append(i)\n",
        "\n",
        "all_mutations = all_mutations.drop(all_mutations.index[benign_to_excl])"
      ],
      "metadata": {
        "id": "ytTL231SSM8h"
      },
      "execution_count": null,
      "outputs": []
    },
    {
      "cell_type": "code",
      "source": [
        "count_neg, count_pos = 0,0\n",
        "for i, mut in all_mutations.iterrows():\n",
        "  if mut['label'] == 0:\n",
        "    count_neg +=1\n",
        "  else:\n",
        "    count_pos +=1\n",
        "print(count_neg, count_pos)"
      ],
      "metadata": {
        "id": "ZtwzqmB4SM_6",
        "colab": {
          "base_uri": "https://localhost:8080/"
        },
        "outputId": "31352a12-beee-4bc1-92ee-10eec6feea7e"
      },
      "execution_count": null,
      "outputs": [
        {
          "output_type": "stream",
          "name": "stdout",
          "text": [
            "5039 5134\n"
          ]
        }
      ]
    },
    {
      "cell_type": "code",
      "source": [
        "all_mutations.head()"
      ],
      "metadata": {
        "id": "sh-ZKu5wEYH3",
        "colab": {
          "base_uri": "https://localhost:8080/",
          "height": 206
        },
        "outputId": "1e6ab318-e72d-4e5e-fceb-241979a2083c"
      },
      "execution_count": null,
      "outputs": [
        {
          "output_type": "execute_result",
          "data": {
            "text/plain": [
              "    uniprot                                       mut_sequence  \\\n",
              "0  P00519-1  MLEICLKLVGCKSKKGLSSSSSCYLEEALQRPVASDFEPQGLSEAA...   \n",
              "1  Q15059-1  MSTATTVAPAGIPATPGPVNPPPPEVSNPSKPGRKTNQLQYMQNVV...   \n",
              "2  P29992-1  MTLESMMACCLSDEVKESKRINAEIEKQLRRDKRDARRELKLLLLG...   \n",
              "3  P29992-1  MTLESMMACCLSDEVKESKRINAEIEKQLRRDKRDARRELKLLLLG...   \n",
              "4  P53621-2  MLTKFETKSARVKGLSFHPKRPWILTSLHNGVIQLWDYRMCTLIDK...   \n",
              "\n",
              "                                         WT_sequence AA_orig  position  \\\n",
              "0  MLEICLKLVGCKSKKGLSSSSSCYLEEALQRPVASDFEPQGLSEAA...       E       236   \n",
              "1  MSTATTVAPAGIPATPGPVNPPPPEVSNPSKPGRKTNQLQYMQNVV...       H        74   \n",
              "2  MTLESMMACCLSDEVKESKRINAEIEKQLRRDKRDARRELKLLLLG...       Q       209   \n",
              "3  MTLESMMACCLSDEVKESKRINAEIEKQLRRDKRDARRELKLLLLG...       Q       209   \n",
              "4  MLTKFETKSARVKGLSFHPKRPWILTSLHNGVIQLWDYRMCTLIDK...       T       815   \n",
              "\n",
              "  AA_targ  label  \n",
              "0       K      1  \n",
              "1       Y      1  \n",
              "2       P      1  \n",
              "3       L      1  \n",
              "4       P      1  "
            ],
            "text/html": [
              "\n",
              "  <div id=\"df-3e543de5-8913-4b58-b14a-4343f5c09455\">\n",
              "    <div class=\"colab-df-container\">\n",
              "      <div>\n",
              "<style scoped>\n",
              "    .dataframe tbody tr th:only-of-type {\n",
              "        vertical-align: middle;\n",
              "    }\n",
              "\n",
              "    .dataframe tbody tr th {\n",
              "        vertical-align: top;\n",
              "    }\n",
              "\n",
              "    .dataframe thead th {\n",
              "        text-align: right;\n",
              "    }\n",
              "</style>\n",
              "<table border=\"1\" class=\"dataframe\">\n",
              "  <thead>\n",
              "    <tr style=\"text-align: right;\">\n",
              "      <th></th>\n",
              "      <th>uniprot</th>\n",
              "      <th>mut_sequence</th>\n",
              "      <th>WT_sequence</th>\n",
              "      <th>AA_orig</th>\n",
              "      <th>position</th>\n",
              "      <th>AA_targ</th>\n",
              "      <th>label</th>\n",
              "    </tr>\n",
              "  </thead>\n",
              "  <tbody>\n",
              "    <tr>\n",
              "      <th>0</th>\n",
              "      <td>P00519-1</td>\n",
              "      <td>MLEICLKLVGCKSKKGLSSSSSCYLEEALQRPVASDFEPQGLSEAA...</td>\n",
              "      <td>MLEICLKLVGCKSKKGLSSSSSCYLEEALQRPVASDFEPQGLSEAA...</td>\n",
              "      <td>E</td>\n",
              "      <td>236</td>\n",
              "      <td>K</td>\n",
              "      <td>1</td>\n",
              "    </tr>\n",
              "    <tr>\n",
              "      <th>1</th>\n",
              "      <td>Q15059-1</td>\n",
              "      <td>MSTATTVAPAGIPATPGPVNPPPPEVSNPSKPGRKTNQLQYMQNVV...</td>\n",
              "      <td>MSTATTVAPAGIPATPGPVNPPPPEVSNPSKPGRKTNQLQYMQNVV...</td>\n",
              "      <td>H</td>\n",
              "      <td>74</td>\n",
              "      <td>Y</td>\n",
              "      <td>1</td>\n",
              "    </tr>\n",
              "    <tr>\n",
              "      <th>2</th>\n",
              "      <td>P29992-1</td>\n",
              "      <td>MTLESMMACCLSDEVKESKRINAEIEKQLRRDKRDARRELKLLLLG...</td>\n",
              "      <td>MTLESMMACCLSDEVKESKRINAEIEKQLRRDKRDARRELKLLLLG...</td>\n",
              "      <td>Q</td>\n",
              "      <td>209</td>\n",
              "      <td>P</td>\n",
              "      <td>1</td>\n",
              "    </tr>\n",
              "    <tr>\n",
              "      <th>3</th>\n",
              "      <td>P29992-1</td>\n",
              "      <td>MTLESMMACCLSDEVKESKRINAEIEKQLRRDKRDARRELKLLLLG...</td>\n",
              "      <td>MTLESMMACCLSDEVKESKRINAEIEKQLRRDKRDARRELKLLLLG...</td>\n",
              "      <td>Q</td>\n",
              "      <td>209</td>\n",
              "      <td>L</td>\n",
              "      <td>1</td>\n",
              "    </tr>\n",
              "    <tr>\n",
              "      <th>4</th>\n",
              "      <td>P53621-2</td>\n",
              "      <td>MLTKFETKSARVKGLSFHPKRPWILTSLHNGVIQLWDYRMCTLIDK...</td>\n",
              "      <td>MLTKFETKSARVKGLSFHPKRPWILTSLHNGVIQLWDYRMCTLIDK...</td>\n",
              "      <td>T</td>\n",
              "      <td>815</td>\n",
              "      <td>P</td>\n",
              "      <td>1</td>\n",
              "    </tr>\n",
              "  </tbody>\n",
              "</table>\n",
              "</div>\n",
              "      <button class=\"colab-df-convert\" onclick=\"convertToInteractive('df-3e543de5-8913-4b58-b14a-4343f5c09455')\"\n",
              "              title=\"Convert this dataframe to an interactive table.\"\n",
              "              style=\"display:none;\">\n",
              "        \n",
              "  <svg xmlns=\"http://www.w3.org/2000/svg\" height=\"24px\"viewBox=\"0 0 24 24\"\n",
              "       width=\"24px\">\n",
              "    <path d=\"M0 0h24v24H0V0z\" fill=\"none\"/>\n",
              "    <path d=\"M18.56 5.44l.94 2.06.94-2.06 2.06-.94-2.06-.94-.94-2.06-.94 2.06-2.06.94zm-11 1L8.5 8.5l.94-2.06 2.06-.94-2.06-.94L8.5 2.5l-.94 2.06-2.06.94zm10 10l.94 2.06.94-2.06 2.06-.94-2.06-.94-.94-2.06-.94 2.06-2.06.94z\"/><path d=\"M17.41 7.96l-1.37-1.37c-.4-.4-.92-.59-1.43-.59-.52 0-1.04.2-1.43.59L10.3 9.45l-7.72 7.72c-.78.78-.78 2.05 0 2.83L4 21.41c.39.39.9.59 1.41.59.51 0 1.02-.2 1.41-.59l7.78-7.78 2.81-2.81c.8-.78.8-2.07 0-2.86zM5.41 20L4 18.59l7.72-7.72 1.47 1.35L5.41 20z\"/>\n",
              "  </svg>\n",
              "      </button>\n",
              "      \n",
              "  <style>\n",
              "    .colab-df-container {\n",
              "      display:flex;\n",
              "      flex-wrap:wrap;\n",
              "      gap: 12px;\n",
              "    }\n",
              "\n",
              "    .colab-df-convert {\n",
              "      background-color: #E8F0FE;\n",
              "      border: none;\n",
              "      border-radius: 50%;\n",
              "      cursor: pointer;\n",
              "      display: none;\n",
              "      fill: #1967D2;\n",
              "      height: 32px;\n",
              "      padding: 0 0 0 0;\n",
              "      width: 32px;\n",
              "    }\n",
              "\n",
              "    .colab-df-convert:hover {\n",
              "      background-color: #E2EBFA;\n",
              "      box-shadow: 0px 1px 2px rgba(60, 64, 67, 0.3), 0px 1px 3px 1px rgba(60, 64, 67, 0.15);\n",
              "      fill: #174EA6;\n",
              "    }\n",
              "\n",
              "    [theme=dark] .colab-df-convert {\n",
              "      background-color: #3B4455;\n",
              "      fill: #D2E3FC;\n",
              "    }\n",
              "\n",
              "    [theme=dark] .colab-df-convert:hover {\n",
              "      background-color: #434B5C;\n",
              "      box-shadow: 0px 1px 3px 1px rgba(0, 0, 0, 0.15);\n",
              "      filter: drop-shadow(0px 1px 2px rgba(0, 0, 0, 0.3));\n",
              "      fill: #FFFFFF;\n",
              "    }\n",
              "  </style>\n",
              "\n",
              "      <script>\n",
              "        const buttonEl =\n",
              "          document.querySelector('#df-3e543de5-8913-4b58-b14a-4343f5c09455 button.colab-df-convert');\n",
              "        buttonEl.style.display =\n",
              "          google.colab.kernel.accessAllowed ? 'block' : 'none';\n",
              "\n",
              "        async function convertToInteractive(key) {\n",
              "          const element = document.querySelector('#df-3e543de5-8913-4b58-b14a-4343f5c09455');\n",
              "          const dataTable =\n",
              "            await google.colab.kernel.invokeFunction('convertToInteractive',\n",
              "                                                     [key], {});\n",
              "          if (!dataTable) return;\n",
              "\n",
              "          const docLinkHtml = 'Like what you see? Visit the ' +\n",
              "            '<a target=\"_blank\" href=https://colab.research.google.com/notebooks/data_table.ipynb>data table notebook</a>'\n",
              "            + ' to learn more about interactive tables.';\n",
              "          element.innerHTML = '';\n",
              "          dataTable['output_type'] = 'display_data';\n",
              "          await google.colab.output.renderOutput(dataTable, element);\n",
              "          const docLink = document.createElement('div');\n",
              "          docLink.innerHTML = docLinkHtml;\n",
              "          element.appendChild(docLink);\n",
              "        }\n",
              "      </script>\n",
              "    </div>\n",
              "  </div>\n",
              "  "
            ]
          },
          "metadata": {},
          "execution_count": 35
        }
      ]
    },
    {
      "cell_type": "code",
      "source": [
        "all_mutations.to_csv('/content/drive/MyDrive/my_colab/3rdYear/datasets/Tier1_2_3_CGI_Other.csv', index=False) # There are uniprots with Tier but not Other mutations"
      ],
      "metadata": {
        "id": "s7T0v7J1EYKf"
      },
      "execution_count": null,
      "outputs": []
    },
    {
      "cell_type": "markdown",
      "source": [
        "## Clinvar missense germline"
      ],
      "metadata": {
        "id": "SSqrKInH05A-"
      }
    },
    {
      "cell_type": "code",
      "source": [
        "# Read transcript consensus (glioma_All_cosmic.ipynb)\n",
        "with open(\"/content/drive/MyDrive/my_colab/*2ndYear/transcript_sequences.csv\", 'rb') as fp:\n",
        "    gene_sequence = pickle.load(fp)\n",
        "\n",
        "gene_protein_mapping = pd.read_csv(\"/content/drive/MyDrive/my_colab/3rdYear/datasets/gene_synonyms_uniprot.txt\", sep = '\\t')\n",
        "# Synonymous genes\n",
        "gene_synonym_df = gene_protein_mapping[['UniProtKB/Swiss-Prot ID', 'Gene Synonym']]\n",
        "gene_synonym_df.dropna(inplace=True)\n",
        "gene_synonym_df =gene_synonym_df.drop_duplicates()\n",
        "gene_synonym_dict = gene_synonym_df.groupby('Gene Synonym')['UniProtKB/Swiss-Prot ID'].apply(lambda g: g.values.tolist()).to_dict()\n",
        "\n",
        "gene_df = gene_protein_mapping[['UniProtKB/Swiss-Prot ID', 'Gene name']]\n",
        "gene_df.dropna(inplace=True)\n",
        "# dropping ALL duplicate values\n",
        "gene_df =gene_df.drop_duplicates()\n",
        "gene_dict = gene_df.groupby('Gene name')['UniProtKB/Swiss-Prot ID'].apply(lambda g: g.values.tolist()).to_dict()"
      ],
      "metadata": {
        "colab": {
          "base_uri": "https://localhost:8080/"
        },
        "id": "YpZu37u-Ub-E",
        "outputId": "2362bf6b-4a81-4d35-cca9-712b55bfaf2e"
      },
      "execution_count": null,
      "outputs": [
        {
          "output_type": "stream",
          "name": "stderr",
          "text": [
            "/usr/local/lib/python3.7/dist-packages/pandas/util/_decorators.py:311: SettingWithCopyWarning: \n",
            "A value is trying to be set on a copy of a slice from a DataFrame\n",
            "\n",
            "See the caveats in the documentation: https://pandas.pydata.org/pandas-docs/stable/user_guide/indexing.html#returning-a-view-versus-a-copy\n",
            "  return func(*args, **kwargs)\n"
          ]
        }
      ]
    },
    {
      "cell_type": "code",
      "source": [
        "path = \"/content/drive/MyDrive/my_colab/*2ndYear/foldx/\"\n",
        "filename = \"variant_summary0222.txt\"\n",
        "clinvar = pd.read_csv(path + filename, sep = '\\t', usecols = ['Type', 'Name', 'GeneSymbol', 'ClinicalSignificance', 'OriginSimple', 'ReviewStatus']) #'Assembly', 'ClinSigSimple',\n",
        "\n",
        "clinvar = clinvar.drop_duplicates()"
      ],
      "metadata": {
        "id": "KbRE8exv05-9",
        "colab": {
          "base_uri": "https://localhost:8080/",
          "height": 380
        },
        "outputId": "849e5b4c-9185-4085-be7e-a0021a407b53"
      },
      "execution_count": null,
      "outputs": [
        {
          "output_type": "error",
          "ename": "KeyboardInterrupt",
          "evalue": "ignored",
          "traceback": [
            "\u001b[0;31m---------------------------------------------------------------------------\u001b[0m",
            "\u001b[0;31mKeyboardInterrupt\u001b[0m                         Traceback (most recent call last)",
            "\u001b[0;32m<ipython-input-7-93480d4d7975>\u001b[0m in \u001b[0;36m<module>\u001b[0;34m()\u001b[0m\n\u001b[1;32m      1\u001b[0m \u001b[0mpath\u001b[0m \u001b[0;34m=\u001b[0m \u001b[0;34m\"/content/drive/MyDrive/my_colab/*2ndYear/foldx/\"\u001b[0m\u001b[0;34m\u001b[0m\u001b[0;34m\u001b[0m\u001b[0m\n\u001b[1;32m      2\u001b[0m \u001b[0mfilename\u001b[0m \u001b[0;34m=\u001b[0m \u001b[0;34m\"variant_summary0222.txt\"\u001b[0m\u001b[0;34m\u001b[0m\u001b[0;34m\u001b[0m\u001b[0m\n\u001b[0;32m----> 3\u001b[0;31m \u001b[0mclinvar\u001b[0m \u001b[0;34m=\u001b[0m \u001b[0mpd\u001b[0m\u001b[0;34m.\u001b[0m\u001b[0mread_csv\u001b[0m\u001b[0;34m(\u001b[0m\u001b[0mpath\u001b[0m \u001b[0;34m+\u001b[0m \u001b[0mfilename\u001b[0m\u001b[0;34m,\u001b[0m \u001b[0msep\u001b[0m \u001b[0;34m=\u001b[0m \u001b[0;34m'\\t'\u001b[0m\u001b[0;34m,\u001b[0m \u001b[0musecols\u001b[0m \u001b[0;34m=\u001b[0m \u001b[0;34m[\u001b[0m\u001b[0;34m'Type'\u001b[0m\u001b[0;34m,\u001b[0m \u001b[0;34m'Name'\u001b[0m\u001b[0;34m,\u001b[0m \u001b[0;34m'GeneSymbol'\u001b[0m\u001b[0;34m,\u001b[0m \u001b[0;34m'ClinicalSignificance'\u001b[0m\u001b[0;34m,\u001b[0m \u001b[0;34m'OriginSimple'\u001b[0m\u001b[0;34m,\u001b[0m \u001b[0;34m'ReviewStatus'\u001b[0m\u001b[0;34m]\u001b[0m\u001b[0;34m)\u001b[0m \u001b[0;31m#'Assembly', 'ClinSigSimple',\u001b[0m\u001b[0;34m\u001b[0m\u001b[0;34m\u001b[0m\u001b[0m\n\u001b[0m\u001b[1;32m      4\u001b[0m \u001b[0;34m\u001b[0m\u001b[0m\n\u001b[1;32m      5\u001b[0m \u001b[0mclinvar\u001b[0m \u001b[0;34m=\u001b[0m \u001b[0mclinvar\u001b[0m\u001b[0;34m.\u001b[0m\u001b[0mdrop_duplicates\u001b[0m\u001b[0;34m(\u001b[0m\u001b[0;34m)\u001b[0m\u001b[0;34m\u001b[0m\u001b[0;34m\u001b[0m\u001b[0m\n",
            "\u001b[0;32m/usr/local/lib/python3.7/dist-packages/pandas/util/_decorators.py\u001b[0m in \u001b[0;36mwrapper\u001b[0;34m(*args, **kwargs)\u001b[0m\n\u001b[1;32m    309\u001b[0m                     \u001b[0mstacklevel\u001b[0m\u001b[0;34m=\u001b[0m\u001b[0mstacklevel\u001b[0m\u001b[0;34m,\u001b[0m\u001b[0;34m\u001b[0m\u001b[0;34m\u001b[0m\u001b[0m\n\u001b[1;32m    310\u001b[0m                 )\n\u001b[0;32m--> 311\u001b[0;31m             \u001b[0;32mreturn\u001b[0m \u001b[0mfunc\u001b[0m\u001b[0;34m(\u001b[0m\u001b[0;34m*\u001b[0m\u001b[0margs\u001b[0m\u001b[0;34m,\u001b[0m \u001b[0;34m**\u001b[0m\u001b[0mkwargs\u001b[0m\u001b[0;34m)\u001b[0m\u001b[0;34m\u001b[0m\u001b[0;34m\u001b[0m\u001b[0m\n\u001b[0m\u001b[1;32m    312\u001b[0m \u001b[0;34m\u001b[0m\u001b[0m\n\u001b[1;32m    313\u001b[0m         \u001b[0;32mreturn\u001b[0m \u001b[0mwrapper\u001b[0m\u001b[0;34m\u001b[0m\u001b[0;34m\u001b[0m\u001b[0m\n",
            "\u001b[0;32m/usr/local/lib/python3.7/dist-packages/pandas/io/parsers/readers.py\u001b[0m in \u001b[0;36mread_csv\u001b[0;34m(filepath_or_buffer, sep, delimiter, header, names, index_col, usecols, squeeze, prefix, mangle_dupe_cols, dtype, engine, converters, true_values, false_values, skipinitialspace, skiprows, skipfooter, nrows, na_values, keep_default_na, na_filter, verbose, skip_blank_lines, parse_dates, infer_datetime_format, keep_date_col, date_parser, dayfirst, cache_dates, iterator, chunksize, compression, thousands, decimal, lineterminator, quotechar, quoting, doublequote, escapechar, comment, encoding, encoding_errors, dialect, error_bad_lines, warn_bad_lines, on_bad_lines, delim_whitespace, low_memory, memory_map, float_precision, storage_options)\u001b[0m\n\u001b[1;32m    584\u001b[0m     \u001b[0mkwds\u001b[0m\u001b[0;34m.\u001b[0m\u001b[0mupdate\u001b[0m\u001b[0;34m(\u001b[0m\u001b[0mkwds_defaults\u001b[0m\u001b[0;34m)\u001b[0m\u001b[0;34m\u001b[0m\u001b[0;34m\u001b[0m\u001b[0m\n\u001b[1;32m    585\u001b[0m \u001b[0;34m\u001b[0m\u001b[0m\n\u001b[0;32m--> 586\u001b[0;31m     \u001b[0;32mreturn\u001b[0m \u001b[0m_read\u001b[0m\u001b[0;34m(\u001b[0m\u001b[0mfilepath_or_buffer\u001b[0m\u001b[0;34m,\u001b[0m \u001b[0mkwds\u001b[0m\u001b[0;34m)\u001b[0m\u001b[0;34m\u001b[0m\u001b[0;34m\u001b[0m\u001b[0m\n\u001b[0m\u001b[1;32m    587\u001b[0m \u001b[0;34m\u001b[0m\u001b[0m\n\u001b[1;32m    588\u001b[0m \u001b[0;34m\u001b[0m\u001b[0m\n",
            "\u001b[0;32m/usr/local/lib/python3.7/dist-packages/pandas/io/parsers/readers.py\u001b[0m in \u001b[0;36m_read\u001b[0;34m(filepath_or_buffer, kwds)\u001b[0m\n\u001b[1;32m    486\u001b[0m \u001b[0;34m\u001b[0m\u001b[0m\n\u001b[1;32m    487\u001b[0m     \u001b[0;32mwith\u001b[0m \u001b[0mparser\u001b[0m\u001b[0;34m:\u001b[0m\u001b[0;34m\u001b[0m\u001b[0;34m\u001b[0m\u001b[0m\n\u001b[0;32m--> 488\u001b[0;31m         \u001b[0;32mreturn\u001b[0m \u001b[0mparser\u001b[0m\u001b[0;34m.\u001b[0m\u001b[0mread\u001b[0m\u001b[0;34m(\u001b[0m\u001b[0mnrows\u001b[0m\u001b[0;34m)\u001b[0m\u001b[0;34m\u001b[0m\u001b[0;34m\u001b[0m\u001b[0m\n\u001b[0m\u001b[1;32m    489\u001b[0m \u001b[0;34m\u001b[0m\u001b[0m\n\u001b[1;32m    490\u001b[0m \u001b[0;34m\u001b[0m\u001b[0m\n",
            "\u001b[0;32m/usr/local/lib/python3.7/dist-packages/pandas/io/parsers/readers.py\u001b[0m in \u001b[0;36mread\u001b[0;34m(self, nrows)\u001b[0m\n\u001b[1;32m   1045\u001b[0m     \u001b[0;32mdef\u001b[0m \u001b[0mread\u001b[0m\u001b[0;34m(\u001b[0m\u001b[0mself\u001b[0m\u001b[0;34m,\u001b[0m \u001b[0mnrows\u001b[0m\u001b[0;34m=\u001b[0m\u001b[0;32mNone\u001b[0m\u001b[0;34m)\u001b[0m\u001b[0;34m:\u001b[0m\u001b[0;34m\u001b[0m\u001b[0;34m\u001b[0m\u001b[0m\n\u001b[1;32m   1046\u001b[0m         \u001b[0mnrows\u001b[0m \u001b[0;34m=\u001b[0m \u001b[0mvalidate_integer\u001b[0m\u001b[0;34m(\u001b[0m\u001b[0;34m\"nrows\"\u001b[0m\u001b[0;34m,\u001b[0m \u001b[0mnrows\u001b[0m\u001b[0;34m)\u001b[0m\u001b[0;34m\u001b[0m\u001b[0;34m\u001b[0m\u001b[0m\n\u001b[0;32m-> 1047\u001b[0;31m         \u001b[0mindex\u001b[0m\u001b[0;34m,\u001b[0m \u001b[0mcolumns\u001b[0m\u001b[0;34m,\u001b[0m \u001b[0mcol_dict\u001b[0m \u001b[0;34m=\u001b[0m \u001b[0mself\u001b[0m\u001b[0;34m.\u001b[0m\u001b[0m_engine\u001b[0m\u001b[0;34m.\u001b[0m\u001b[0mread\u001b[0m\u001b[0;34m(\u001b[0m\u001b[0mnrows\u001b[0m\u001b[0;34m)\u001b[0m\u001b[0;34m\u001b[0m\u001b[0;34m\u001b[0m\u001b[0m\n\u001b[0m\u001b[1;32m   1048\u001b[0m \u001b[0;34m\u001b[0m\u001b[0m\n\u001b[1;32m   1049\u001b[0m         \u001b[0;32mif\u001b[0m \u001b[0mindex\u001b[0m \u001b[0;32mis\u001b[0m \u001b[0;32mNone\u001b[0m\u001b[0;34m:\u001b[0m\u001b[0;34m\u001b[0m\u001b[0;34m\u001b[0m\u001b[0m\n",
            "\u001b[0;32m/usr/local/lib/python3.7/dist-packages/pandas/io/parsers/c_parser_wrapper.py\u001b[0m in \u001b[0;36mread\u001b[0;34m(self, nrows)\u001b[0m\n\u001b[1;32m    222\u001b[0m         \u001b[0;32mtry\u001b[0m\u001b[0;34m:\u001b[0m\u001b[0;34m\u001b[0m\u001b[0;34m\u001b[0m\u001b[0m\n\u001b[1;32m    223\u001b[0m             \u001b[0;32mif\u001b[0m \u001b[0mself\u001b[0m\u001b[0;34m.\u001b[0m\u001b[0mlow_memory\u001b[0m\u001b[0;34m:\u001b[0m\u001b[0;34m\u001b[0m\u001b[0;34m\u001b[0m\u001b[0m\n\u001b[0;32m--> 224\u001b[0;31m                 \u001b[0mchunks\u001b[0m \u001b[0;34m=\u001b[0m \u001b[0mself\u001b[0m\u001b[0;34m.\u001b[0m\u001b[0m_reader\u001b[0m\u001b[0;34m.\u001b[0m\u001b[0mread_low_memory\u001b[0m\u001b[0;34m(\u001b[0m\u001b[0mnrows\u001b[0m\u001b[0;34m)\u001b[0m\u001b[0;34m\u001b[0m\u001b[0;34m\u001b[0m\u001b[0m\n\u001b[0m\u001b[1;32m    225\u001b[0m                 \u001b[0;31m# destructive to chunks\u001b[0m\u001b[0;34m\u001b[0m\u001b[0;34m\u001b[0m\u001b[0;34m\u001b[0m\u001b[0m\n\u001b[1;32m    226\u001b[0m                 \u001b[0mdata\u001b[0m \u001b[0;34m=\u001b[0m \u001b[0m_concatenate_chunks\u001b[0m\u001b[0;34m(\u001b[0m\u001b[0mchunks\u001b[0m\u001b[0;34m)\u001b[0m\u001b[0;34m\u001b[0m\u001b[0;34m\u001b[0m\u001b[0m\n",
            "\u001b[0;32m/usr/local/lib/python3.7/dist-packages/pandas/_libs/parsers.pyx\u001b[0m in \u001b[0;36mpandas._libs.parsers.TextReader.read_low_memory\u001b[0;34m()\u001b[0m\n",
            "\u001b[0;32m/usr/local/lib/python3.7/dist-packages/pandas/_libs/parsers.pyx\u001b[0m in \u001b[0;36mpandas._libs.parsers.TextReader._read_rows\u001b[0;34m()\u001b[0m\n",
            "\u001b[0;32m/usr/local/lib/python3.7/dist-packages/pandas/_libs/parsers.pyx\u001b[0m in \u001b[0;36mpandas._libs.parsers.TextReader._convert_column_data\u001b[0;34m()\u001b[0m\n",
            "\u001b[0;32m/usr/local/lib/python3.7/dist-packages/pandas/_libs/parsers.pyx\u001b[0m in \u001b[0;36mpandas._libs.parsers.TextReader._convert_tokens\u001b[0;34m()\u001b[0m\n",
            "\u001b[0;32m/usr/local/lib/python3.7/dist-packages/pandas/_libs/parsers.pyx\u001b[0m in \u001b[0;36mpandas._libs.parsers.TextReader._convert_with_dtype\u001b[0;34m()\u001b[0m\n",
            "\u001b[0;32m/usr/local/lib/python3.7/dist-packages/pandas/core/dtypes/common.py\u001b[0m in \u001b[0;36mis_extension_array_dtype\u001b[0;34m(arr_or_dtype)\u001b[0m\n\u001b[1;32m   1418\u001b[0m \u001b[0;34m\u001b[0m\u001b[0m\n\u001b[1;32m   1419\u001b[0m \u001b[0;34m\u001b[0m\u001b[0m\n\u001b[0;32m-> 1420\u001b[0;31m \u001b[0;32mdef\u001b[0m \u001b[0mis_extension_array_dtype\u001b[0m\u001b[0;34m(\u001b[0m\u001b[0marr_or_dtype\u001b[0m\u001b[0;34m)\u001b[0m \u001b[0;34m->\u001b[0m \u001b[0mbool\u001b[0m\u001b[0;34m:\u001b[0m\u001b[0;34m\u001b[0m\u001b[0;34m\u001b[0m\u001b[0m\n\u001b[0m\u001b[1;32m   1421\u001b[0m     \"\"\"\n\u001b[1;32m   1422\u001b[0m     \u001b[0mCheck\u001b[0m \u001b[0;32mif\u001b[0m \u001b[0man\u001b[0m \u001b[0mobject\u001b[0m \u001b[0;32mis\u001b[0m \u001b[0ma\u001b[0m \u001b[0mpandas\u001b[0m \u001b[0mextension\u001b[0m \u001b[0marray\u001b[0m \u001b[0mtype\u001b[0m\u001b[0;34m.\u001b[0m\u001b[0;34m\u001b[0m\u001b[0;34m\u001b[0m\u001b[0m\n",
            "\u001b[0;31mKeyboardInterrupt\u001b[0m: "
          ]
        }
      ]
    },
    {
      "cell_type": "code",
      "source": [
        "len(clinvar)"
      ],
      "metadata": {
        "colab": {
          "base_uri": "https://localhost:8080/"
        },
        "id": "key26jTPeP8x",
        "outputId": "3022ad1a-90d1-40ee-a6d4-9e96ab1cef66"
      },
      "execution_count": null,
      "outputs": [
        {
          "output_type": "execute_result",
          "data": {
            "text/plain": [
              "1193431"
            ]
          },
          "metadata": {},
          "execution_count": 9
        }
      ]
    },
    {
      "cell_type": "code",
      "source": [
        "len(clinvar_VUS)"
      ],
      "metadata": {
        "colab": {
          "base_uri": "https://localhost:8080/"
        },
        "id": "0LPN-udBhpt3",
        "outputId": "588b9391-071f-4870-c724-cb0efe76711f"
      },
      "execution_count": null,
      "outputs": [
        {
          "output_type": "execute_result",
          "data": {
            "text/plain": [
              "498890"
            ]
          },
          "metadata": {},
          "execution_count": 19
        }
      ]
    },
    {
      "cell_type": "code",
      "source": [
        "clinvar_VUS= clinvar.loc[(clinvar['ClinicalSignificance'] == 'Uncertain significance') \\\n",
        "                              | (clinvar['ClinicalSignificance'] == 'Conflicting interpretations of pathogenicity, other, risk factor') \\\n",
        "                              | (clinvar['ClinicalSignificance'] == 'Conflicting interpretations of pathogenicity, other') \\\n",
        "                              | (clinvar['ClinicalSignificance'] =='Conflicting interpretations of pathogenicity') \\\n",
        "                              | (clinvar['ClinicalSignificance'] =='Conflicting interpretations of pathogenicity, association, risk factor') \\\n",
        "                              | (clinvar['ClinicalSignificance'] =='Conflicting interpretations of pathogenicity, association') \\\n",
        "                              | (clinvar['ClinicalSignificance'] =='conflicting data from submitters') \\\n",
        "                              | (clinvar['ClinicalSignificance'] =='Conflicting interpretations of pathogenicity, drug response, other') \\\n",
        "                              | (clinvar['ClinicalSignificance'] =='Uncertain significance, drug response') \\\n",
        "                              | (clinvar['ClinicalSignificance'] =='Conflicting interpretations of pathogenicity, drug response') \\\n",
        "                              | (clinvar['ClinicalSignificance'] =='Uncertain significance, Affects') \\\n",
        "                              | (clinvar['ClinicalSignificance'] =='association not found' ) \\\n",
        "                              | (clinvar['ClinicalSignificance'] =='Uncertain significance, other') \\\n",
        "                              | (clinvar['ClinicalSignificance'] =='Uncertain significance, association') \\\n",
        "                              | (clinvar['ClinicalSignificance'] =='Conflicting interpretations of pathogenicity, risk factor' ) \\\n",
        "                              | (clinvar['ClinicalSignificance'] =='no interpretation for the single variant' )]"
      ],
      "metadata": {
        "id": "O5YREL9UhGbS"
      },
      "execution_count": null,
      "outputs": []
    },
    {
      "cell_type": "code",
      "source": [
        "clinvar_missense_nonsense_silent= clinvar.loc[(clinvar['Type'] == 'Variation') \\\n",
        "                                | (clinvar['Type'] == 'single nucleotide variant') \\\n",
        "                                | (clinvar['Type'] == 'protein only')]\n",
        "\n",
        "# keep only germline, one AA subtitution and confirmed\n",
        "germline_missense_nonsense_silent = clinvar_missense_nonsense_silent[clinvar_missense_nonsense_silent['OriginSimple']=='germline']\n",
        "germline_confirm = germline_missense_nonsense_silent.loc[(germline_missense_nonsense_silent['ReviewStatus'] == 'criteria provided, multiple submitters, no conflicts') \\\n",
        "                              | (germline_missense_nonsense_silent['ReviewStatus'] == 'criteria provided, single submitter') \\\n",
        "                              | (germline_missense_nonsense_silent['ReviewStatus'] == 'practice guideline') \\\n",
        "                              | (germline_missense_nonsense_silent['ReviewStatus'] == 'reviewed by expert panel') ]\n",
        "germline_confirm = germline_confirm[germline_confirm['Name'].str.contains(r'\\+') == False]\n",
        "germline_confirm = germline_confirm[germline_confirm['Name'].str.contains('-') == False]\n",
        "germline_confirm = germline_confirm[germline_confirm['Name'].str.contains('g') == False] # upstream variants\n",
        "germline_confirm = germline_confirm[germline_confirm['Name'].str.contains('p.') == True]\n",
        "germline_confirm_missense = germline_confirm[germline_confirm['Name'].str.contains('=') == False]\n",
        "germline_confirm_missense = germline_confirm_missense[germline_confirm_missense['Name'].str.contains('\\+') == False]\n",
        "germline_confirm_missense = germline_confirm_missense[germline_confirm_missense['Name'].str.contains('\\*') == False]"
      ],
      "metadata": {
        "id": "XWGKbaTR1S0s"
      },
      "execution_count": null,
      "outputs": []
    },
    {
      "cell_type": "code",
      "source": [
        "benign_deleterious= germline_confirm_missense.loc[(germline_confirm_missense['ClinicalSignificance'] == 'Pathogenic') \\\n",
        "                              | (germline_confirm_missense['ClinicalSignificance'] == 'Pathogenic/Likely pathogenic') \\\n",
        "                              | (germline_confirm_missense['ClinicalSignificance'] == 'Benign/Likely benign') \\\n",
        "                              | (germline_confirm_missense['ClinicalSignificance'] == 'Benign') \\\n",
        "                              | (germline_confirm_missense['ClinicalSignificance'] == 'Likely benign') \\\n",
        "                              | (germline_confirm_missense['ClinicalSignificance'] == 'Benign, other') \\\n",
        "                              | (germline_confirm_missense['ClinicalSignificance'] == 'Pathogenic/Likely pathogenic, risk factor') \\\n",
        "                              | (germline_confirm_missense['ClinicalSignificance'] == 'Likely pathogenic, other') \\\n",
        "                              | (germline_confirm_missense['ClinicalSignificance'] == 'Pathogenic, risk factor') \\\n",
        "                              | (germline_confirm_missense['ClinicalSignificance'] == 'Pathogenic/Likely pathogenic, drug response') \\\n",
        "                              | (germline_confirm_missense['ClinicalSignificance'] == 'Pathogenic, drug response') \\\n",
        "                              | (germline_confirm_missense['ClinicalSignificance'] == 'Benign/Likely benign, other') ]\n",
        "\n",
        "# Rename categories Likely Pathogenic etc to either Pathogenic (1) or Benign (0)\n",
        "benign_deleterious['ClinicalSignificance'] = benign_deleterious['ClinicalSignificance'].replace(['Pathogenic','Pathogenic/Likely pathogenic', 'Pathogenic, risk factor', 'Likely pathogenic, other', 'Pathogenic/Likely pathogenic, drug response', 'Pathogenic, drug response' ], 1)\n",
        "benign_deleterious['ClinicalSignificance'] = benign_deleterious['ClinicalSignificance'].replace(['Benign/Likely benign', 'Benign', 'Likely benign', 'Benign/Likely benign, other', 'Benign, other' ], 0)"
      ],
      "metadata": {
        "colab": {
          "base_uri": "https://localhost:8080/"
        },
        "id": "OqgigMxJ1aZ-",
        "outputId": "aa416152-411e-4f78-cdf0-01daa52c0410"
      },
      "execution_count": null,
      "outputs": [
        {
          "output_type": "stream",
          "name": "stderr",
          "text": [
            "/usr/local/lib/python3.7/dist-packages/ipykernel_launcher.py:4: SettingWithCopyWarning: \n",
            "A value is trying to be set on a copy of a slice from a DataFrame.\n",
            "Try using .loc[row_indexer,col_indexer] = value instead\n",
            "\n",
            "See the caveats in the documentation: https://pandas.pydata.org/pandas-docs/stable/user_guide/indexing.html#returning-a-view-versus-a-copy\n",
            "  after removing the cwd from sys.path.\n",
            "/usr/local/lib/python3.7/dist-packages/ipykernel_launcher.py:5: SettingWithCopyWarning: \n",
            "A value is trying to be set on a copy of a slice from a DataFrame.\n",
            "Try using .loc[row_indexer,col_indexer] = value instead\n",
            "\n",
            "See the caveats in the documentation: https://pandas.pydata.org/pandas-docs/stable/user_guide/indexing.html#returning-a-view-versus-a-copy\n",
            "  \"\"\"\n"
          ]
        }
      ]
    },
    {
      "cell_type": "code",
      "source": [
        "len(benign_deleterious)"
      ],
      "metadata": {
        "colab": {
          "base_uri": "https://localhost:8080/"
        },
        "id": "SR3MwjBB9RuW",
        "outputId": "98995d5d-2857-419c-9850-9141ba0a4996"
      },
      "execution_count": null,
      "outputs": [
        {
          "output_type": "execute_result",
          "data": {
            "text/plain": [
              "61418"
            ]
          },
          "metadata": {},
          "execution_count": 10
        }
      ]
    },
    {
      "cell_type": "code",
      "source": [
        "benign_deleterious = benign_deleterious.reset_index(drop=True)"
      ],
      "metadata": {
        "id": "2EHNSNM43s0N"
      },
      "execution_count": null,
      "outputs": []
    },
    {
      "cell_type": "code",
      "source": [
        "benign_deleterious.head()"
      ],
      "metadata": {
        "colab": {
          "base_uri": "https://localhost:8080/",
          "height": 206
        },
        "id": "Hmopl0t_5-Qg",
        "outputId": "72a28af0-cee3-4d96-f9f2-a3b86aaaf6bc"
      },
      "execution_count": null,
      "outputs": [
        {
          "output_type": "execute_result",
          "data": {
            "text/plain": [
              "                        Type                                           Name  \\\n",
              "0  single nucleotide variant    NM_017547.4(FOXRED1):c.694C>T (p.Gln232Ter)   \n",
              "1  single nucleotide variant        NM_000410.4(HFE):c.848A>C (p.Gln283Pro)   \n",
              "2  single nucleotide variant      NM_138413.4(HOGA1):c.860G>T (p.Gly287Val)   \n",
              "3  single nucleotide variant      NM_138413.4(HOGA1):c.769T>G (p.Cys257Gly)   \n",
              "4  single nucleotide variant  NM_001194998.2(CEP152):c.794A>C (p.Gln265Pro)   \n",
              "\n",
              "  GeneSymbol ClinicalSignificance OriginSimple  \\\n",
              "0    FOXRED1                    1     germline   \n",
              "1        HFE                    1     germline   \n",
              "2      HOGA1                    1     germline   \n",
              "3      HOGA1                    1     germline   \n",
              "4     CEP152                    1     germline   \n",
              "\n",
              "                                        ReviewStatus  \n",
              "0  criteria provided, multiple submitters, no con...  \n",
              "1                criteria provided, single submitter  \n",
              "2  criteria provided, multiple submitters, no con...  \n",
              "3  criteria provided, multiple submitters, no con...  \n",
              "4  criteria provided, multiple submitters, no con...  "
            ],
            "text/html": [
              "\n",
              "  <div id=\"df-e012b367-f8f9-418a-868b-5d352851c42b\">\n",
              "    <div class=\"colab-df-container\">\n",
              "      <div>\n",
              "<style scoped>\n",
              "    .dataframe tbody tr th:only-of-type {\n",
              "        vertical-align: middle;\n",
              "    }\n",
              "\n",
              "    .dataframe tbody tr th {\n",
              "        vertical-align: top;\n",
              "    }\n",
              "\n",
              "    .dataframe thead th {\n",
              "        text-align: right;\n",
              "    }\n",
              "</style>\n",
              "<table border=\"1\" class=\"dataframe\">\n",
              "  <thead>\n",
              "    <tr style=\"text-align: right;\">\n",
              "      <th></th>\n",
              "      <th>Type</th>\n",
              "      <th>Name</th>\n",
              "      <th>GeneSymbol</th>\n",
              "      <th>ClinicalSignificance</th>\n",
              "      <th>OriginSimple</th>\n",
              "      <th>ReviewStatus</th>\n",
              "    </tr>\n",
              "  </thead>\n",
              "  <tbody>\n",
              "    <tr>\n",
              "      <th>0</th>\n",
              "      <td>single nucleotide variant</td>\n",
              "      <td>NM_017547.4(FOXRED1):c.694C&gt;T (p.Gln232Ter)</td>\n",
              "      <td>FOXRED1</td>\n",
              "      <td>1</td>\n",
              "      <td>germline</td>\n",
              "      <td>criteria provided, multiple submitters, no con...</td>\n",
              "    </tr>\n",
              "    <tr>\n",
              "      <th>1</th>\n",
              "      <td>single nucleotide variant</td>\n",
              "      <td>NM_000410.4(HFE):c.848A&gt;C (p.Gln283Pro)</td>\n",
              "      <td>HFE</td>\n",
              "      <td>1</td>\n",
              "      <td>germline</td>\n",
              "      <td>criteria provided, single submitter</td>\n",
              "    </tr>\n",
              "    <tr>\n",
              "      <th>2</th>\n",
              "      <td>single nucleotide variant</td>\n",
              "      <td>NM_138413.4(HOGA1):c.860G&gt;T (p.Gly287Val)</td>\n",
              "      <td>HOGA1</td>\n",
              "      <td>1</td>\n",
              "      <td>germline</td>\n",
              "      <td>criteria provided, multiple submitters, no con...</td>\n",
              "    </tr>\n",
              "    <tr>\n",
              "      <th>3</th>\n",
              "      <td>single nucleotide variant</td>\n",
              "      <td>NM_138413.4(HOGA1):c.769T&gt;G (p.Cys257Gly)</td>\n",
              "      <td>HOGA1</td>\n",
              "      <td>1</td>\n",
              "      <td>germline</td>\n",
              "      <td>criteria provided, multiple submitters, no con...</td>\n",
              "    </tr>\n",
              "    <tr>\n",
              "      <th>4</th>\n",
              "      <td>single nucleotide variant</td>\n",
              "      <td>NM_001194998.2(CEP152):c.794A&gt;C (p.Gln265Pro)</td>\n",
              "      <td>CEP152</td>\n",
              "      <td>1</td>\n",
              "      <td>germline</td>\n",
              "      <td>criteria provided, multiple submitters, no con...</td>\n",
              "    </tr>\n",
              "  </tbody>\n",
              "</table>\n",
              "</div>\n",
              "      <button class=\"colab-df-convert\" onclick=\"convertToInteractive('df-e012b367-f8f9-418a-868b-5d352851c42b')\"\n",
              "              title=\"Convert this dataframe to an interactive table.\"\n",
              "              style=\"display:none;\">\n",
              "        \n",
              "  <svg xmlns=\"http://www.w3.org/2000/svg\" height=\"24px\"viewBox=\"0 0 24 24\"\n",
              "       width=\"24px\">\n",
              "    <path d=\"M0 0h24v24H0V0z\" fill=\"none\"/>\n",
              "    <path d=\"M18.56 5.44l.94 2.06.94-2.06 2.06-.94-2.06-.94-.94-2.06-.94 2.06-2.06.94zm-11 1L8.5 8.5l.94-2.06 2.06-.94-2.06-.94L8.5 2.5l-.94 2.06-2.06.94zm10 10l.94 2.06.94-2.06 2.06-.94-2.06-.94-.94-2.06-.94 2.06-2.06.94z\"/><path d=\"M17.41 7.96l-1.37-1.37c-.4-.4-.92-.59-1.43-.59-.52 0-1.04.2-1.43.59L10.3 9.45l-7.72 7.72c-.78.78-.78 2.05 0 2.83L4 21.41c.39.39.9.59 1.41.59.51 0 1.02-.2 1.41-.59l7.78-7.78 2.81-2.81c.8-.78.8-2.07 0-2.86zM5.41 20L4 18.59l7.72-7.72 1.47 1.35L5.41 20z\"/>\n",
              "  </svg>\n",
              "      </button>\n",
              "      \n",
              "  <style>\n",
              "    .colab-df-container {\n",
              "      display:flex;\n",
              "      flex-wrap:wrap;\n",
              "      gap: 12px;\n",
              "    }\n",
              "\n",
              "    .colab-df-convert {\n",
              "      background-color: #E8F0FE;\n",
              "      border: none;\n",
              "      border-radius: 50%;\n",
              "      cursor: pointer;\n",
              "      display: none;\n",
              "      fill: #1967D2;\n",
              "      height: 32px;\n",
              "      padding: 0 0 0 0;\n",
              "      width: 32px;\n",
              "    }\n",
              "\n",
              "    .colab-df-convert:hover {\n",
              "      background-color: #E2EBFA;\n",
              "      box-shadow: 0px 1px 2px rgba(60, 64, 67, 0.3), 0px 1px 3px 1px rgba(60, 64, 67, 0.15);\n",
              "      fill: #174EA6;\n",
              "    }\n",
              "\n",
              "    [theme=dark] .colab-df-convert {\n",
              "      background-color: #3B4455;\n",
              "      fill: #D2E3FC;\n",
              "    }\n",
              "\n",
              "    [theme=dark] .colab-df-convert:hover {\n",
              "      background-color: #434B5C;\n",
              "      box-shadow: 0px 1px 3px 1px rgba(0, 0, 0, 0.15);\n",
              "      filter: drop-shadow(0px 1px 2px rgba(0, 0, 0, 0.3));\n",
              "      fill: #FFFFFF;\n",
              "    }\n",
              "  </style>\n",
              "\n",
              "      <script>\n",
              "        const buttonEl =\n",
              "          document.querySelector('#df-e012b367-f8f9-418a-868b-5d352851c42b button.colab-df-convert');\n",
              "        buttonEl.style.display =\n",
              "          google.colab.kernel.accessAllowed ? 'block' : 'none';\n",
              "\n",
              "        async function convertToInteractive(key) {\n",
              "          const element = document.querySelector('#df-e012b367-f8f9-418a-868b-5d352851c42b');\n",
              "          const dataTable =\n",
              "            await google.colab.kernel.invokeFunction('convertToInteractive',\n",
              "                                                     [key], {});\n",
              "          if (!dataTable) return;\n",
              "\n",
              "          const docLinkHtml = 'Like what you see? Visit the ' +\n",
              "            '<a target=\"_blank\" href=https://colab.research.google.com/notebooks/data_table.ipynb>data table notebook</a>'\n",
              "            + ' to learn more about interactive tables.';\n",
              "          element.innerHTML = '';\n",
              "          dataTable['output_type'] = 'display_data';\n",
              "          await google.colab.output.renderOutput(dataTable, element);\n",
              "          const docLink = document.createElement('div');\n",
              "          docLink.innerHTML = docLinkHtml;\n",
              "          element.appendChild(docLink);\n",
              "        }\n",
              "      </script>\n",
              "    </div>\n",
              "  </div>\n",
              "  "
            ]
          },
          "metadata": {},
          "execution_count": 12
        }
      ]
    },
    {
      "cell_type": "code",
      "source": [
        "list_AA_orig, list_AA_mut, list_position, list_refseq = [], [], [], []\n",
        "\n",
        "for ind, row in benign_deleterious.iterrows():\n",
        "    temp = row['Name']\n",
        "    temp = temp.split('(')\n",
        "    string = temp[2]\n",
        "    name = temp[0]\n",
        "    if '=' in string:\n",
        "      string = string[2:-1]\n",
        "      position = string[3:-1]\n",
        "      aa_orig = string[:3]\n",
        "      aa_mut = aa_orig\n",
        "    else:\n",
        "      string = string[2:-1]\n",
        "      position = string[3:-3]\n",
        "      aa_orig = string[:3]\n",
        "      aa_mut = string[-3:]\n",
        "    list_AA_orig.append(AAconvert(aa_orig))\n",
        "    list_AA_mut.append(AAconvert(aa_mut))\n",
        "    list_position.append(position)\n",
        "    list_refseq.append(name)"
      ],
      "metadata": {
        "id": "F37mhITk857r"
      },
      "execution_count": null,
      "outputs": []
    },
    {
      "cell_type": "code",
      "source": [
        "benign_deleterious['AA_orig'] = list_AA_orig\n",
        "benign_deleterious['AA_targ'] = list_AA_mut\n",
        "benign_deleterious['position'] = list_position\n",
        "benign_deleterious['refseq'] = list_refseq"
      ],
      "metadata": {
        "id": "Mz0JX8UV859m"
      },
      "execution_count": null,
      "outputs": []
    },
    {
      "cell_type": "code",
      "source": [
        "benign_deleterious_missense = benign_deleterious[benign_deleterious['AA_targ'] != '*']"
      ],
      "metadata": {
        "id": "mTS7a3L3_8sx"
      },
      "execution_count": null,
      "outputs": []
    },
    {
      "cell_type": "code",
      "source": [
        "mart = pd.read_csv(\"/content/drive/MyDrive/my_colab/3rdYear/datasets/mart_export_refseq_uniprot_isoform.txt\", '\\t')\n",
        "mart =  mart.drop_duplicates(subset=['RefSeq mRNA ID','UniProtKB isoform ID','UniProtKB/Swiss-Prot ID' ], keep='first')\n",
        "mart = mart.dropna(subset=['UniProtKB isoform ID', 'UniProtKB/Swiss-Prot ID'], how = 'all')"
      ],
      "metadata": {
        "colab": {
          "base_uri": "https://localhost:8080/"
        },
        "id": "7vp39j0ZCGYv",
        "outputId": "34d09f42-b53f-40a7-e09c-74c1e62d0524"
      },
      "execution_count": null,
      "outputs": [
        {
          "output_type": "stream",
          "name": "stderr",
          "text": [
            "/usr/local/lib/python3.7/dist-packages/IPython/core/interactiveshell.py:2882: FutureWarning: In a future version of pandas all arguments of read_csv except for the argument 'filepath_or_buffer' will be keyword-only\n",
            "  exec(code_obj, self.user_global_ns, self.user_ns)\n"
          ]
        }
      ]
    },
    {
      "cell_type": "code",
      "source": [
        "mart_temp"
      ],
      "metadata": {
        "colab": {
          "base_uri": "https://localhost:8080/",
          "height": 112
        },
        "id": "mOqu5_3ONI6S",
        "outputId": "b7c86d05-3ed8-46f2-c568-a26e1e8f1fb8"
      },
      "execution_count": null,
      "outputs": [
        {
          "output_type": "execute_result",
          "data": {
            "text/plain": [
              "      Transcript stable ID version RefSeq mRNA ID UniProtKB isoform ID  \\\n",
              "6463             ENST00000383118.8   NM_001290043             Q03519-1   \n",
              "10889            ENST00000419142.6   NM_001290043                  NaN   \n",
              "\n",
              "      UniProtKB/Swiss-Prot ID Gene stable ID version  \n",
              "6463                   Q03519      ENSG00000206235.8  \n",
              "10889                  Q03519      ENSG00000237599.9  "
            ],
            "text/html": [
              "\n",
              "  <div id=\"df-2d55437e-4ccc-4630-ba50-4d0da925dc59\">\n",
              "    <div class=\"colab-df-container\">\n",
              "      <div>\n",
              "<style scoped>\n",
              "    .dataframe tbody tr th:only-of-type {\n",
              "        vertical-align: middle;\n",
              "    }\n",
              "\n",
              "    .dataframe tbody tr th {\n",
              "        vertical-align: top;\n",
              "    }\n",
              "\n",
              "    .dataframe thead th {\n",
              "        text-align: right;\n",
              "    }\n",
              "</style>\n",
              "<table border=\"1\" class=\"dataframe\">\n",
              "  <thead>\n",
              "    <tr style=\"text-align: right;\">\n",
              "      <th></th>\n",
              "      <th>Transcript stable ID version</th>\n",
              "      <th>RefSeq mRNA ID</th>\n",
              "      <th>UniProtKB isoform ID</th>\n",
              "      <th>UniProtKB/Swiss-Prot ID</th>\n",
              "      <th>Gene stable ID version</th>\n",
              "    </tr>\n",
              "  </thead>\n",
              "  <tbody>\n",
              "    <tr>\n",
              "      <th>6463</th>\n",
              "      <td>ENST00000383118.8</td>\n",
              "      <td>NM_001290043</td>\n",
              "      <td>Q03519-1</td>\n",
              "      <td>Q03519</td>\n",
              "      <td>ENSG00000206235.8</td>\n",
              "    </tr>\n",
              "    <tr>\n",
              "      <th>10889</th>\n",
              "      <td>ENST00000419142.6</td>\n",
              "      <td>NM_001290043</td>\n",
              "      <td>NaN</td>\n",
              "      <td>Q03519</td>\n",
              "      <td>ENSG00000237599.9</td>\n",
              "    </tr>\n",
              "  </tbody>\n",
              "</table>\n",
              "</div>\n",
              "      <button class=\"colab-df-convert\" onclick=\"convertToInteractive('df-2d55437e-4ccc-4630-ba50-4d0da925dc59')\"\n",
              "              title=\"Convert this dataframe to an interactive table.\"\n",
              "              style=\"display:none;\">\n",
              "        \n",
              "  <svg xmlns=\"http://www.w3.org/2000/svg\" height=\"24px\"viewBox=\"0 0 24 24\"\n",
              "       width=\"24px\">\n",
              "    <path d=\"M0 0h24v24H0V0z\" fill=\"none\"/>\n",
              "    <path d=\"M18.56 5.44l.94 2.06.94-2.06 2.06-.94-2.06-.94-.94-2.06-.94 2.06-2.06.94zm-11 1L8.5 8.5l.94-2.06 2.06-.94-2.06-.94L8.5 2.5l-.94 2.06-2.06.94zm10 10l.94 2.06.94-2.06 2.06-.94-2.06-.94-.94-2.06-.94 2.06-2.06.94z\"/><path d=\"M17.41 7.96l-1.37-1.37c-.4-.4-.92-.59-1.43-.59-.52 0-1.04.2-1.43.59L10.3 9.45l-7.72 7.72c-.78.78-.78 2.05 0 2.83L4 21.41c.39.39.9.59 1.41.59.51 0 1.02-.2 1.41-.59l7.78-7.78 2.81-2.81c.8-.78.8-2.07 0-2.86zM5.41 20L4 18.59l7.72-7.72 1.47 1.35L5.41 20z\"/>\n",
              "  </svg>\n",
              "      </button>\n",
              "      \n",
              "  <style>\n",
              "    .colab-df-container {\n",
              "      display:flex;\n",
              "      flex-wrap:wrap;\n",
              "      gap: 12px;\n",
              "    }\n",
              "\n",
              "    .colab-df-convert {\n",
              "      background-color: #E8F0FE;\n",
              "      border: none;\n",
              "      border-radius: 50%;\n",
              "      cursor: pointer;\n",
              "      display: none;\n",
              "      fill: #1967D2;\n",
              "      height: 32px;\n",
              "      padding: 0 0 0 0;\n",
              "      width: 32px;\n",
              "    }\n",
              "\n",
              "    .colab-df-convert:hover {\n",
              "      background-color: #E2EBFA;\n",
              "      box-shadow: 0px 1px 2px rgba(60, 64, 67, 0.3), 0px 1px 3px 1px rgba(60, 64, 67, 0.15);\n",
              "      fill: #174EA6;\n",
              "    }\n",
              "\n",
              "    [theme=dark] .colab-df-convert {\n",
              "      background-color: #3B4455;\n",
              "      fill: #D2E3FC;\n",
              "    }\n",
              "\n",
              "    [theme=dark] .colab-df-convert:hover {\n",
              "      background-color: #434B5C;\n",
              "      box-shadow: 0px 1px 3px 1px rgba(0, 0, 0, 0.15);\n",
              "      filter: drop-shadow(0px 1px 2px rgba(0, 0, 0, 0.3));\n",
              "      fill: #FFFFFF;\n",
              "    }\n",
              "  </style>\n",
              "\n",
              "      <script>\n",
              "        const buttonEl =\n",
              "          document.querySelector('#df-2d55437e-4ccc-4630-ba50-4d0da925dc59 button.colab-df-convert');\n",
              "        buttonEl.style.display =\n",
              "          google.colab.kernel.accessAllowed ? 'block' : 'none';\n",
              "\n",
              "        async function convertToInteractive(key) {\n",
              "          const element = document.querySelector('#df-2d55437e-4ccc-4630-ba50-4d0da925dc59');\n",
              "          const dataTable =\n",
              "            await google.colab.kernel.invokeFunction('convertToInteractive',\n",
              "                                                     [key], {});\n",
              "          if (!dataTable) return;\n",
              "\n",
              "          const docLinkHtml = 'Like what you see? Visit the ' +\n",
              "            '<a target=\"_blank\" href=https://colab.research.google.com/notebooks/data_table.ipynb>data table notebook</a>'\n",
              "            + ' to learn more about interactive tables.';\n",
              "          element.innerHTML = '';\n",
              "          dataTable['output_type'] = 'display_data';\n",
              "          await google.colab.output.renderOutput(dataTable, element);\n",
              "          const docLink = document.createElement('div');\n",
              "          docLink.innerHTML = docLinkHtml;\n",
              "          element.appendChild(docLink);\n",
              "        }\n",
              "      </script>\n",
              "    </div>\n",
              "  </div>\n",
              "  "
            ]
          },
          "metadata": {},
          "execution_count": 84
        }
      ]
    },
    {
      "cell_type": "code",
      "source": [
        "## Find uniprot id (isoform)\n",
        "\n",
        "# 1) search on mart_export RefSeq mRNA ID --> UniProtKB isoform ID, if not found:\n",
        "# 2) gene -- > uniprot --> download all transcripts from uniprot website --> test if AA_orig at the right place\n",
        "benign_deleterious_missense = benign_deleterious_missense.reset_index(drop=True)\n",
        "transcript_not_found, delins, unknown_genes, count_test = 0, 0, 0, 0\n",
        "sequence, indices_to_excl, isoform_uniprot = [], [], []\n",
        "count_found, count_not_found = 0, 0\n",
        "count_t = 0\n",
        "for i, mut in benign_deleterious_missense.iterrows():\n",
        "  count_t+=1\n",
        "  if count_t>200:\n",
        "    break\n",
        "\n",
        "  refseq = mut['refseq'].split('.')\n",
        "  refseq = refseq[0]\n",
        "  mart_temp = mart[mart['RefSeq mRNA ID'] ==refseq]\n",
        "  AA_orig = mut['AA_orig']\n",
        "  AA_targ = mut['AA_targ']\n",
        "  pos_temp = int(mut['position'])\n",
        "\n",
        "  # 1)\n",
        "  if len(mart_temp)>0: # refseq symbol found in mart export\n",
        "    if len(mart_temp) >1:\n",
        "      mart_temp = mart_temp.dropna(subset=['UniProtKB isoform ID', 'UniProtKB/Swiss-Prot ID'], how = 'any')\n",
        "\n",
        "    if notNaN(mart_temp['UniProtKB isoform ID']).values:\n",
        "      uniprot_id = mart_temp['UniProtKB isoform ID'].item()\n",
        "   \n",
        "      transcript = load_uniprot_fasta(uniprot_id)\n",
        " \n",
        "      if pos_temp <= len(transcript):\n",
        "\n",
        "        if transcript[pos_temp - 1] == AA_orig:\n",
        "          isoform_name = uniprot_id\n",
        "          mut_seq = changeAAnew(uniprot_id,AA_orig, AA_targ, pos_temp, transcript)\n",
        "          isoform_uniprot.append(isoform_name)\n",
        "          #position.append(pos_temp)\n",
        "          #AA_orig_list.append(AA_orig)\n",
        "          #AA_targ_list.append(AA_targ)\n",
        "          count_found +=1\n",
        "          sequence.append(mut_seq) \n",
        "\n",
        "        else:\n",
        "          transcript_not_found +=1\n",
        "          indices_to_excl.append(i)\n",
        "\n",
        "      else:\n",
        "          indices_to_excl.append(i)\n",
        " \n",
        " \n",
        "    elif notNaN(mart_temp['UniProtKB/Swiss-Prot ID']).values:\n",
        "      uniprot_canonical = mart_temp['UniProtKB/Swiss-Prot ID'].item()\n",
        "      # load all transcript from uniprot\n",
        "      all_transcripts = load_uniprot_fasta_all(uniprot_canonical)\n",
        "      count = 1 # track transcripts\n",
        "\n",
        "      for isoform, transcript in enumerate(all_transcripts):\n",
        "\n",
        "        if pos_temp <= len(transcript):\n",
        "\n",
        "            if transcript[pos_temp - 1] == AA_orig:\n",
        "              isoform_name = uniprot_canonical+ '-' + str(isoform+1) \n",
        "              mut_seq = changeAAnew(uniprot_canonical, AA_orig, AA_targ, pos_temp, transcript)\n",
        "              isoform_uniprot.append(isoform_name)\n",
        "              #position.append(pos_temp)\n",
        "              #AA_orig_list.append(AA_orig)\n",
        "              #AA_targ_list.append(AA_targ)\n",
        "              count_found +=1\n",
        "              sequence.append(mut_seq) \n",
        "              break\n",
        "\n",
        "            else:\n",
        "              if len(all_transcripts) == count:\n",
        "                transcript_not_found +=1\n",
        "                indices_to_excl.append(i)\n",
        "              count+=1\n",
        "\n",
        "        else:\n",
        "            if len(all_transcripts) == count:\n",
        "              transcript_not_found +=1\n",
        "              indices_to_excl.append(i)\n",
        "            count+=1\n",
        "\n",
        "\n",
        "  # 2)\n",
        "  else:\n",
        "\n",
        "    gene_name = mut['GeneSymbol']\n",
        "\n",
        "    if gene_name in gene_dict:\n",
        "      uniprot_canonical_list = gene_dict[gene_name] # we may have more than one corresponding proteins for gene\n",
        "    \n",
        "    elif gene_name in gene_synonym_dict:\n",
        "      uniprot_canonical_list = gene_synonym_dict[gene_name] \n",
        "\n",
        "    else:\n",
        "      unknown_genes +=1\n",
        "      indices_to_excl.append(i)\n",
        "      continue\n",
        "    \n",
        "    count_uniprot =0 # track isoforms\n",
        "    found=False # used to stop searching follwing isoforms\n",
        "\n",
        "    for uniprot_canonical in uniprot_canonical_list:\n",
        "      count_uniprot+=1 \n",
        "      if found == True:\n",
        "        break\n",
        "\n",
        "      # load all transcript from uniprot\n",
        "      all_transcripts = load_uniprot_fasta_all(uniprot_canonical)\n",
        "      count = 1 # track transcripts\n",
        "      for isoform, transcript in enumerate(all_transcripts):\n",
        "\n",
        "        if pos_temp <= len(transcript):\n",
        "\n",
        "            if transcript[pos_temp - 1] == string[2]:\n",
        "              isoform_name = uniprot_canonical+ '-' + str(isoform+1) \n",
        "              mut_seq = changeAAnew(gene_name, AA_orig, AA_targ, pos_temp, transcript)\n",
        "              isoform_uniprot.append(isoform_name)\n",
        "              #position.append(pos_temp)\n",
        "              #AA_orig_list.append(orig)\n",
        "              #AA_targ_list.append(AA_targ)\n",
        "              count_found +=1\n",
        "              found = True\n",
        "              sequence.append(mut_seq) \n",
        "              break\n",
        "\n",
        "            else:\n",
        "              if len(all_transcripts) == count and count_uniprot == len(uniprot_canonical_list):\n",
        "                transcript_not_found +=1\n",
        "                indices_to_excl.append(i)\n",
        "              count+=1\n",
        "\n",
        "        else:\n",
        "            if len(all_transcripts) == count and count_uniprot == len(uniprot_canonical_list):\n",
        "              transcript_not_found +=1\n",
        "              indices_to_excl.append(i)\n",
        "            count+=1"
      ],
      "metadata": {
        "id": "oPyPU82V6PLG"
      },
      "execution_count": null,
      "outputs": []
    },
    {
      "cell_type": "code",
      "source": [
        "print(len(isoform_uniprot), len(sequence))"
      ],
      "metadata": {
        "id": "ixNkg6bF-reu",
        "colab": {
          "base_uri": "https://localhost:8080/"
        },
        "outputId": "2711e547-972a-4123-e818-f2b50ec3d68e"
      },
      "execution_count": null,
      "outputs": [
        {
          "output_type": "stream",
          "name": "stdout",
          "text": [
            "196 196\n"
          ]
        }
      ]
    },
    {
      "cell_type": "code",
      "source": [
        "len(indices_to_excl)"
      ],
      "metadata": {
        "id": "6gUZL_5f-xyq",
        "colab": {
          "base_uri": "https://localhost:8080/"
        },
        "outputId": "0ed3c2c3-55e4-43e8-8c14-aaf57252bb74"
      },
      "execution_count": null,
      "outputs": [
        {
          "output_type": "execute_result",
          "data": {
            "text/plain": [
              "4"
            ]
          },
          "metadata": {},
          "execution_count": 25
        }
      ]
    },
    {
      "cell_type": "code",
      "source": [
        "len(benign_deleterious_missense)"
      ],
      "metadata": {
        "id": "70xliAq_-4vz"
      },
      "execution_count": null,
      "outputs": []
    },
    {
      "cell_type": "code",
      "source": [
        "benign_deleterious_missense = benign_deleterious_missense.drop(benign_deleterious_missense.index[indices_to_excl])\n",
        "benign_deleterious_missense['mut_sequence'] = sequence # Mutated sequence\n",
        "benign_deleterious_missense['uniprot'] = isoform_uniprot"
      ],
      "metadata": {
        "colab": {
          "base_uri": "https://localhost:8080/"
        },
        "id": "JX6m7cEJNxSS",
        "outputId": "6cbfd7cb-8bc7-409a-8220-360300ba6c56"
      },
      "execution_count": null,
      "outputs": [
        {
          "output_type": "execute_result",
          "data": {
            "text/plain": [
              "0"
            ]
          },
          "metadata": {},
          "execution_count": 65
        }
      ]
    },
    {
      "cell_type": "code",
      "source": [
        "# save mutations\n",
        "benign_deleterious_missense.to_csv('/content/drive/MyDrive/my_colab/3rdYear/datasets/clinvar_germline_missense.csv', index=False)"
      ],
      "metadata": {
        "id": "LHZzK6Ov-79q"
      },
      "execution_count": null,
      "outputs": []
    },
    {
      "cell_type": "code",
      "source": [
        "# Are there mutations on both Benign and Pathogenic category? No\n",
        "# Exclude them and put them to conflicting\n",
        "\n",
        "conflict = germline_confirm_missense.loc[(germline_confirm_missense['ClinicalSignificance'] == 'Uncertain significance, other') \\\n",
        "                                    | (germline_confirm_missense['ClinicalSignificance'] == 'Conflicting interpretations of pathogenicity, drug response') \\\n",
        "                                    | (germline_confirm_missense['ClinicalSignificance'] == 'Conflicting interpretations of pathogenicity') \\\n",
        "                                    | (germline_confirm_missense['ClinicalSignificance'] ==  'Uncertain significance, risk factor') ]\n",
        "\n",
        "print(len(conflict))"
      ],
      "metadata": {
        "colab": {
          "base_uri": "https://localhost:8080/"
        },
        "id": "RsuT0sXC1pBG",
        "outputId": "b55e3f2f-c4c5-4b8a-8b18-a5143c1b070c"
      },
      "execution_count": null,
      "outputs": [
        {
          "output_type": "stream",
          "name": "stdout",
          "text": [
            "4\n"
          ]
        }
      ]
    },
    {
      "cell_type": "markdown",
      "source": [
        "## DRGN"
      ],
      "metadata": {
        "id": "4f-dgb7fDH3o"
      }
    },
    {
      "cell_type": "code",
      "source": [
        "DRGN = pd.read_csv(\"/content/drive/MyDrive/my_colab/3rdYear/datasets/DRGN.csv\", sep = '\\t', names = ['uniprot', 'mutation', 'label'])"
      ],
      "metadata": {
        "id": "1lU7nnl7DIoX"
      },
      "execution_count": null,
      "outputs": []
    },
    {
      "cell_type": "code",
      "source": [
        "wt_sequences, mut_sequences, uniprot_list, AA_orig_list, AA_targ_list, position, label = [], [], [], [], [], [], []\n",
        "test, test2=0,0\n",
        "for i, mut in DRGN.iterrows():\n",
        "      AA_orig = mut['mutation'][0]\n",
        "      AA_targ = mut['mutation'][-1]\n",
        "      pos_temp = int(mut['mutation'][1:-1])\n",
        "          \n",
        "      # load all transcript from uniprot\n",
        "      all_transcripts, iso_names = load_uniprot_fasta_all(mut['uniprot'])\n",
        "      \n",
        "      count = 1 # track transcripts\n",
        "      for isoform, transcript in enumerate(all_transcripts):\n",
        "\n",
        "        if pos_temp <= len(transcript):\n",
        "\n",
        "            if transcript[pos_temp - 1] == AA_orig:\n",
        "              #isoform_name = mut['uniprot']+ '-' + str(isoform+1) \n",
        "              if isoform == 0:\n",
        "                isoform_name = iso_names[isoform] + '-1'\n",
        "              else:\n",
        "                isoform_name = iso_names[isoform]\n",
        "              mut_seq = changeAAnew(mut['uniprot'], AA_orig, AA_targ, pos_temp, transcript)\n",
        "              uniprot_list.append(isoform_name)\n",
        "              position.append(pos_temp)\n",
        "              AA_orig_list.append(AA_orig)\n",
        "              AA_targ_list.append(AA_targ)\n",
        "              mut_sequences.append(mut_seq) \n",
        "              wt_sequences.append(transcript)\n",
        "              label.append(mut['label'])\n",
        "              break\n",
        "\n",
        "            else:\n",
        "              if len(all_transcripts) == count:\n",
        "                test+=1\n",
        "              count+=1\n",
        "\n",
        "        else:\n",
        "            #print('position bigger than length')\n",
        "            if len(all_transcripts) == count:\n",
        "              test2+=1\n",
        "            count+=1"
      ],
      "metadata": {
        "id": "alZMd6sAGPNL"
      },
      "execution_count": null,
      "outputs": []
    },
    {
      "cell_type": "code",
      "source": [
        "len(mut_sequences)"
      ],
      "metadata": {
        "colab": {
          "base_uri": "https://localhost:8080/"
        },
        "id": "Fpv42NopKHxr",
        "outputId": "0fb39d0c-57ec-41c5-bb21-791ee1a46441"
      },
      "execution_count": null,
      "outputs": [
        {
          "output_type": "execute_result",
          "data": {
            "text/plain": [
              "3644"
            ]
          },
          "metadata": {},
          "execution_count": 104
        }
      ]
    },
    {
      "cell_type": "code",
      "source": [
        "drgn_mutations = pd.DataFrame(list(zip(uniprot_list, wt_sequences, mut_sequences, AA_orig_list, position, AA_targ_list, label)),\n",
        "               columns =['uniprot id', 'WT_sequence', 'mut_sequence', 'AA_orig', 'position', 'AA_targ', 'label'])\n",
        "\n",
        "drgn_mutations.to_csv('/content/drive/MyDrive/my_colab/3rdYear/datasets/DRGN_mutations.csv', index=False)"
      ],
      "metadata": {
        "id": "NN3VKrH-GPPh"
      },
      "execution_count": null,
      "outputs": []
    },
    {
      "cell_type": "markdown",
      "source": [
        "## CPV"
      ],
      "metadata": {
        "id": "erMEs8H8DMEx"
      }
    },
    {
      "cell_type": "code",
      "source": [
        "CPV = pd.read_csv(\"/content/drive/MyDrive/my_colab/*2ndYear/CPVlist.csv\", sep = ',', usecols = ['Protein', 'Mutation', 'Label'])"
      ],
      "metadata": {
        "id": "74g2QLfSDM-N"
      },
      "execution_count": null,
      "outputs": []
    },
    {
      "cell_type": "code",
      "source": [
        "CPV.head()"
      ],
      "metadata": {
        "colab": {
          "base_uri": "https://localhost:8080/",
          "height": 206
        },
        "id": "lW5t76NIbDJB",
        "outputId": "b48b32c0-2a96-4516-d8b8-f7243410529c"
      },
      "execution_count": null,
      "outputs": [
        {
          "output_type": "execute_result",
          "data": {
            "text/plain": [
              "  Protein Mutation  Label\n",
              "0  Q9UM73   F1174L      1\n",
              "1  Q9UM73   I1461V      0\n",
              "2  Q9UM73   K1491R      0\n",
              "3  Q9UM73   R1275Q      1\n",
              "4  P15056    G469A      1"
            ],
            "text/html": [
              "\n",
              "  <div id=\"df-64590201-1517-42f4-9405-c5c8f51b12bf\">\n",
              "    <div class=\"colab-df-container\">\n",
              "      <div>\n",
              "<style scoped>\n",
              "    .dataframe tbody tr th:only-of-type {\n",
              "        vertical-align: middle;\n",
              "    }\n",
              "\n",
              "    .dataframe tbody tr th {\n",
              "        vertical-align: top;\n",
              "    }\n",
              "\n",
              "    .dataframe thead th {\n",
              "        text-align: right;\n",
              "    }\n",
              "</style>\n",
              "<table border=\"1\" class=\"dataframe\">\n",
              "  <thead>\n",
              "    <tr style=\"text-align: right;\">\n",
              "      <th></th>\n",
              "      <th>Protein</th>\n",
              "      <th>Mutation</th>\n",
              "      <th>Label</th>\n",
              "    </tr>\n",
              "  </thead>\n",
              "  <tbody>\n",
              "    <tr>\n",
              "      <th>0</th>\n",
              "      <td>Q9UM73</td>\n",
              "      <td>F1174L</td>\n",
              "      <td>1</td>\n",
              "    </tr>\n",
              "    <tr>\n",
              "      <th>1</th>\n",
              "      <td>Q9UM73</td>\n",
              "      <td>I1461V</td>\n",
              "      <td>0</td>\n",
              "    </tr>\n",
              "    <tr>\n",
              "      <th>2</th>\n",
              "      <td>Q9UM73</td>\n",
              "      <td>K1491R</td>\n",
              "      <td>0</td>\n",
              "    </tr>\n",
              "    <tr>\n",
              "      <th>3</th>\n",
              "      <td>Q9UM73</td>\n",
              "      <td>R1275Q</td>\n",
              "      <td>1</td>\n",
              "    </tr>\n",
              "    <tr>\n",
              "      <th>4</th>\n",
              "      <td>P15056</td>\n",
              "      <td>G469A</td>\n",
              "      <td>1</td>\n",
              "    </tr>\n",
              "  </tbody>\n",
              "</table>\n",
              "</div>\n",
              "      <button class=\"colab-df-convert\" onclick=\"convertToInteractive('df-64590201-1517-42f4-9405-c5c8f51b12bf')\"\n",
              "              title=\"Convert this dataframe to an interactive table.\"\n",
              "              style=\"display:none;\">\n",
              "        \n",
              "  <svg xmlns=\"http://www.w3.org/2000/svg\" height=\"24px\"viewBox=\"0 0 24 24\"\n",
              "       width=\"24px\">\n",
              "    <path d=\"M0 0h24v24H0V0z\" fill=\"none\"/>\n",
              "    <path d=\"M18.56 5.44l.94 2.06.94-2.06 2.06-.94-2.06-.94-.94-2.06-.94 2.06-2.06.94zm-11 1L8.5 8.5l.94-2.06 2.06-.94-2.06-.94L8.5 2.5l-.94 2.06-2.06.94zm10 10l.94 2.06.94-2.06 2.06-.94-2.06-.94-.94-2.06-.94 2.06-2.06.94z\"/><path d=\"M17.41 7.96l-1.37-1.37c-.4-.4-.92-.59-1.43-.59-.52 0-1.04.2-1.43.59L10.3 9.45l-7.72 7.72c-.78.78-.78 2.05 0 2.83L4 21.41c.39.39.9.59 1.41.59.51 0 1.02-.2 1.41-.59l7.78-7.78 2.81-2.81c.8-.78.8-2.07 0-2.86zM5.41 20L4 18.59l7.72-7.72 1.47 1.35L5.41 20z\"/>\n",
              "  </svg>\n",
              "      </button>\n",
              "      \n",
              "  <style>\n",
              "    .colab-df-container {\n",
              "      display:flex;\n",
              "      flex-wrap:wrap;\n",
              "      gap: 12px;\n",
              "    }\n",
              "\n",
              "    .colab-df-convert {\n",
              "      background-color: #E8F0FE;\n",
              "      border: none;\n",
              "      border-radius: 50%;\n",
              "      cursor: pointer;\n",
              "      display: none;\n",
              "      fill: #1967D2;\n",
              "      height: 32px;\n",
              "      padding: 0 0 0 0;\n",
              "      width: 32px;\n",
              "    }\n",
              "\n",
              "    .colab-df-convert:hover {\n",
              "      background-color: #E2EBFA;\n",
              "      box-shadow: 0px 1px 2px rgba(60, 64, 67, 0.3), 0px 1px 3px 1px rgba(60, 64, 67, 0.15);\n",
              "      fill: #174EA6;\n",
              "    }\n",
              "\n",
              "    [theme=dark] .colab-df-convert {\n",
              "      background-color: #3B4455;\n",
              "      fill: #D2E3FC;\n",
              "    }\n",
              "\n",
              "    [theme=dark] .colab-df-convert:hover {\n",
              "      background-color: #434B5C;\n",
              "      box-shadow: 0px 1px 3px 1px rgba(0, 0, 0, 0.15);\n",
              "      filter: drop-shadow(0px 1px 2px rgba(0, 0, 0, 0.3));\n",
              "      fill: #FFFFFF;\n",
              "    }\n",
              "  </style>\n",
              "\n",
              "      <script>\n",
              "        const buttonEl =\n",
              "          document.querySelector('#df-64590201-1517-42f4-9405-c5c8f51b12bf button.colab-df-convert');\n",
              "        buttonEl.style.display =\n",
              "          google.colab.kernel.accessAllowed ? 'block' : 'none';\n",
              "\n",
              "        async function convertToInteractive(key) {\n",
              "          const element = document.querySelector('#df-64590201-1517-42f4-9405-c5c8f51b12bf');\n",
              "          const dataTable =\n",
              "            await google.colab.kernel.invokeFunction('convertToInteractive',\n",
              "                                                     [key], {});\n",
              "          if (!dataTable) return;\n",
              "\n",
              "          const docLinkHtml = 'Like what you see? Visit the ' +\n",
              "            '<a target=\"_blank\" href=https://colab.research.google.com/notebooks/data_table.ipynb>data table notebook</a>'\n",
              "            + ' to learn more about interactive tables.';\n",
              "          element.innerHTML = '';\n",
              "          dataTable['output_type'] = 'display_data';\n",
              "          await google.colab.output.renderOutput(dataTable, element);\n",
              "          const docLink = document.createElement('div');\n",
              "          docLink.innerHTML = docLinkHtml;\n",
              "          element.appendChild(docLink);\n",
              "        }\n",
              "      </script>\n",
              "    </div>\n",
              "  </div>\n",
              "  "
            ]
          },
          "metadata": {},
          "execution_count": 114
        }
      ]
    },
    {
      "cell_type": "code",
      "source": [
        "wt_sequences, mut_sequences, uniprot_list, AA_orig_list, AA_targ_list, position, label = [], [], [], [], [], [], []\n",
        "test, test2=0,0\n",
        "for i, mut in CPV.iterrows():\n",
        "      AA_orig = mut['Mutation'][0]\n",
        "      AA_targ = mut['Mutation'][-1]\n",
        "      pos_temp = int(mut['Mutation'][1:-1])\n",
        "          \n",
        "      # load all transcript from uniprot\n",
        "      all_transcripts, iso_names = load_uniprot_fasta_all(mut['Protein'])\n",
        "      \n",
        "      count = 1 # track transcripts\n",
        "      for isoform, transcript in enumerate(all_transcripts):\n",
        "\n",
        "        if pos_temp <= len(transcript):\n",
        "\n",
        "            if transcript[pos_temp - 1] == AA_orig:\n",
        "              #isoform_name = mut['uniprot']+ '-' + str(isoform+1) \n",
        "              if isoform == 0:\n",
        "                isoform_name = iso_names[isoform] + '-1'\n",
        "              else:\n",
        "                isoform_name = iso_names[isoform]\n",
        "              mut_seq = changeAAnew(mut['Protein'], AA_orig, AA_targ, pos_temp, transcript)\n",
        "              uniprot_list.append(isoform_name)\n",
        "              position.append(pos_temp)\n",
        "              AA_orig_list.append(AA_orig)\n",
        "              AA_targ_list.append(AA_targ)\n",
        "              mut_sequences.append(mut_seq) \n",
        "              wt_sequences.append(transcript)\n",
        "              label.append(mut['Label'])\n",
        "              break\n",
        "\n",
        "            else:\n",
        "              if len(all_transcripts) == count:\n",
        "                test+=1\n",
        "              count+=1\n",
        "\n",
        "        else:\n",
        "            #print('position bigger than length')\n",
        "            if len(all_transcripts) == count:\n",
        "              test2+=1\n",
        "            count+=1"
      ],
      "metadata": {
        "id": "dlYkoIDCbDkN"
      },
      "execution_count": null,
      "outputs": []
    },
    {
      "cell_type": "code",
      "source": [
        "len(CPV)"
      ],
      "metadata": {
        "colab": {
          "base_uri": "https://localhost:8080/"
        },
        "id": "iKUP-AyTbDmk",
        "outputId": "9278d838-5ed4-453b-91df-c8c95e85b158"
      },
      "execution_count": null,
      "outputs": [
        {
          "output_type": "execute_result",
          "data": {
            "text/plain": [
              "244"
            ]
          },
          "metadata": {},
          "execution_count": 116
        }
      ]
    },
    {
      "cell_type": "code",
      "source": [
        "cpv_mutations = pd.DataFrame(list(zip(uniprot_list, wt_sequences, mut_sequences, AA_orig_list, position, AA_targ_list, label)),\n",
        "               columns =['uniprot id', 'WT_sequence', 'mut_sequence', 'AA_orig', 'position', 'AA_targ', 'label'])\n",
        "\n",
        "cpv_mutations.to_csv('/content/drive/MyDrive/my_colab/3rdYear/datasets/CPV_mutations.csv', index=False)"
      ],
      "metadata": {
        "id": "ESjrgiYDbDo8"
      },
      "execution_count": null,
      "outputs": []
    }
  ]
}